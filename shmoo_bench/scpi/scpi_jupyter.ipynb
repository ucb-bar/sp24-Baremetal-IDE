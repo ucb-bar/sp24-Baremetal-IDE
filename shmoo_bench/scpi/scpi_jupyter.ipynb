{
 "cells": [
  {
   "cell_type": "markdown",
   "metadata": {},
   "source": []
  },
  {
   "cell_type": "code",
   "execution_count": 120,
   "metadata": {},
   "outputs": [
    {
     "name": "stdout",
     "output_type": "stream",
     "text": [
      "Power supply: Keysight Technologies,E36312A,MY57010726,1.0.4-1.0.0-1.04\n",
      "\n",
      "Clock generator: Agilent Technologies, 81134A, DE42800131, Ver 2.9.3\n",
      "\n"
     ]
    },
    {
     "data": {
      "text/plain": [
       "10"
      ]
     },
     "execution_count": 120,
     "metadata": {},
     "output_type": "execute_result"
    }
   ],
   "source": [
    "# Equipment setup\n",
    "\n",
    "import pyvisa\n",
    "import time\n",
    "import subprocess\n",
    "import serial\n",
    "\n",
    "# Establish connection to the power supply\n",
    "rm = pyvisa.ResourceManager(\"@py\")\n",
    "\n",
    "#psu = rm.open_resource('TCPIP::169.254.58.10::gpib0,7::INSTR')                  ## for the Agilent power supply\n",
    "\n",
    "psu = rm.open_resource('TCPIP::169.254.201.77::lan0::INSTR')                    ## for the Keysight power supply\n",
    "\n",
    "clk = rm.open_resource('TCPIP::169.254.201.101::lan0::INSTR')\n",
    "\n",
    "# Need to verify that this is the power supply. psu_verification should be \n",
    "# something like \"Keysight Technologies,E3646A,0,X.X-Y.Y-Z.Z\"\n",
    "psu_verification = psu.query(\"*IDN?\")\n",
    "clk_verification = clk.query(\"*IDN?\")\n",
    "\n",
    "print(\"Power supply:\", psu_verification)\n",
    "print(\"Clock generator:\", clk_verification)\n",
    "\n",
    "# psu.write(\"*RST\")  # Reset the power supply\n",
    "\n",
    "start_voltage = 0.55\n",
    "\n",
    "end_voltage = 0.65\n",
    "\n",
    "step_size = 0.05  \n",
    "\n",
    "start_clock = 20\n",
    "\n",
    "end_clock = 40\n",
    "\n",
    "step_size = 20\n",
    "\n",
    "# Loop through the voltage range and set the voltage\n",
    "current_voltage = start_voltage \n",
    "\n",
    "current_clock = start_clock\n",
    "\n",
    "psu.write(\"OUTP ON, (@2)\")\n",
    "\n",
    "# Only channel 2 works\n",
    "psu.write(\"INST:SEL CH2\")\n",
    "\n",
    "# Set current to 100mA\n",
    "psu.write(\"CURR 0.1\")\n",
    "\n",
    "# Start the clock at 20MHz\n",
    "clk.write(\":OUTP1:POS ON\") # Initialize clk gen channel 1 output\n",
    "clk.write(\":FUNC:PATT\")\n",
    "clk.write(\":FREQ 20MHz\")"
   ]
  },
  {
   "cell_type": "code",
   "execution_count": 122,
   "metadata": {},
   "outputs": [
    {
     "name": "stdout",
     "output_type": "stream",
     "text": [
      "**Voltage set to: +5.50000000E-01\n",
      "V**\n"
     ]
    },
    {
     "name": "stderr",
     "output_type": "stream",
     "text": [
      "warning: tohost and fromhost symbols not in ELF; can't communicate with target\n"
     ]
    },
    {
     "name": "stdout",
     "output_type": "stream",
     "text": [
      "Starting UART-based TSI\n",
      "Usage: ./uart_tsi +tty=/dev/pts/xx <PLUSARGS> <bin>\n",
      "       ./uart_tsi +tty=/dev/ttyxx  <PLUSARGS> <bin>\n",
      "       ./uart_tsi +tty=/dev/ttyxx  +no_hart0_msip +init_write=0x80000000:0xdeadbeef none\n",
      "       ./uart_tsi +tty=/dev/ttyxx  +no_hart0_msip +init_read=0x80000000 none\n",
      "       ./uart_tsi +tty=/dev/ttyxx  +selfcheck <bin>\n",
      "       ./uart_tsi +tty=/dev/ttyxx  +baudrate=921600 <bin>\n",
      "Attempting to open TTY at /dev/ttyUSB1\n",
      "Warning: You selected a non-standard baudrate. This will only work if the HW was configured with this baud-rate\n",
      "Checking connection status with /dev/ttyUSB1\n",
      "Connection succeeded\n",
      "Done, shutting down, flushing UART\n",
      "WARNING: You should probably reset the target before running this program again\n",
      "Done: now reset during the sleep before next iteration\n",
      "**Voltage set to: +6.00000000E-01\n",
      "V**\n"
     ]
    },
    {
     "name": "stderr",
     "output_type": "stream",
     "text": [
      "warning: tohost and fromhost symbols not in ELF; can't communicate with target\n"
     ]
    },
    {
     "name": "stdout",
     "output_type": "stream",
     "text": [
      "Starting UART-based TSI\n",
      "Usage: ./uart_tsi +tty=/dev/pts/xx <PLUSARGS> <bin>\n",
      "       ./uart_tsi +tty=/dev/ttyxx  <PLUSARGS> <bin>\n",
      "       ./uart_tsi +tty=/dev/ttyxx  +no_hart0_msip +init_write=0x80000000:0xdeadbeef none\n",
      "       ./uart_tsi +tty=/dev/ttyxx  +no_hart0_msip +init_read=0x80000000 none\n",
      "       ./uart_tsi +tty=/dev/ttyxx  +selfcheck <bin>\n",
      "       ./uart_tsi +tty=/dev/ttyxx  +baudrate=921600 <bin>\n",
      "Attempting to open TTY at /dev/ttyUSB1\n",
      "Warning: You selected a non-standard baudrate. This will only work if the HW was configured with this baud-rate\n",
      "Checking connection status with /dev/ttyUSB1\n",
      "Connection succeeded\n",
      "Done, shutting down, flushing UART\n",
      "WARNING: You should probably reset the target before running this program again\n",
      "Done: now reset during the sleep before next iteration\n"
     ]
    },
    {
     "ename": "KeyboardInterrupt",
     "evalue": "",
     "output_type": "error",
     "traceback": [
      "\u001b[0;31m---------------------------------------------------------------------------\u001b[0m",
      "\u001b[0;31mKeyboardInterrupt\u001b[0m                         Traceback (most recent call last)",
      "Cell \u001b[0;32mIn[122], line 46\u001b[0m\n\u001b[1;32m     44\u001b[0m                     proc\u001b[38;5;241m.\u001b[39mwait()\n\u001b[1;32m     45\u001b[0m      \u001b[38;5;28mprint\u001b[39m(\u001b[38;5;124m\"\u001b[39m\u001b[38;5;124mDone: now reset during the sleep before next iteration\u001b[39m\u001b[38;5;124m\"\u001b[39m)\n\u001b[0;32m---> 46\u001b[0m      \u001b[43mtime\u001b[49m\u001b[38;5;241;43m.\u001b[39;49m\u001b[43msleep\u001b[49m\u001b[43m(\u001b[49m\u001b[38;5;241;43m7\u001b[39;49m\u001b[43m)\u001b[49m\n\u001b[1;32m     48\u001b[0m      current_voltage \u001b[38;5;241m+\u001b[39m\u001b[38;5;241m=\u001b[39m step_size\n\u001b[1;32m     50\u001b[0m \u001b[38;5;28mprint\u001b[39m(\u001b[38;5;124m\"\u001b[39m\u001b[38;5;124mFinished\u001b[39m\u001b[38;5;124m\"\u001b[39m)\n",
      "\u001b[0;31mKeyboardInterrupt\u001b[0m: "
     ]
    }
   ],
   "source": [
    "while current_clock <= end_clock:\n",
    "\n",
    "\n",
    "     while current_voltage <= end_voltage: # Set the voltage   \n",
    "          psu.write(f\"VOLT {current_voltage}\")\n",
    "          psu.write(\"OUTP ON, (@2)\")\n",
    "\n",
    "          voltage = psu.query(\"VOLT?\") \n",
    "          print(f\"**Voltage set to: {voltage}V**\") \n",
    "\n",
    "          measured_voltages = []\n",
    "          measured_currents = []\n",
    "\n",
    "          # remake to adjust with the frequency\n",
    "          # subprocess.run([\"make\", \"clean\"], cwd=\"../../\")\n",
    "\n",
    "          # with open(\"../../platform/bearly24/freq.h\", \"w\") as f:\n",
    "          #      f.write('''#ifndef __FREQ_H\n",
    "          #                #define __FREQ_H\n",
    "          #                ''')\n",
    "          #      f.write(f'''#define MTIME_FREQ     {freq}\n",
    "          #                #define SYS_CLK_FREQ   {freq}\n",
    "          #                ''')\n",
    "          #      f.write(\"#endif\")\n",
    "\n",
    "          # subprocess.run([\"make\", \"shmoo_bearly\"], cwd=\"../../\")\n",
    "\n",
    "          # test subprocess with simple hello\n",
    "          with subprocess.Popen([\"uart_tsi\", \"+tty=/dev/ttyUSB1\", \"+baudrate=921600\", \"../../build/shmoo_bench.elf\"]) as proc:\n",
    "               with serial.Serial('/dev/ttyUSB0', 115200) as ser:\n",
    "                    while (ser.inWaiting() == 0):\n",
    "                         ## measure the voltage + current\n",
    "                         measured_voltages.append(psu.query(\"MEAS:VOLT?\"))\n",
    "                         measured_currents.append(psu.query(\"MEAS:CURR?\"))\n",
    "                         # print(\"hi\")\n",
    "                    line = ser.readline()\n",
    "                    new_line = line.decode(\"utf-8\")\n",
    "\n",
    "                    # stop_event.set()\n",
    "                    # power_thread.join()\n",
    "                    # total_power = power_queue.get()\n",
    "\n",
    "                    with open('../../output.txt', 'a') as file:\n",
    "                         # file.write(f\"{new_line} {total_power:.2f}\\n\")\n",
    "                         file.write(f\"{new_line}\")\n",
    "                         proc.terminate()\n",
    "                         proc.wait()\n",
    "          print(\"Done: now reset during the sleep before next iteration\")\n",
    "          time.sleep(7)\n",
    "\n",
    "          current_voltage += step_size\n",
    "\n",
    "print(\"Finished\")\n",
    "\n",
    "psu.close()"
   ]
  },
  {
   "cell_type": "code",
   "execution_count": 123,
   "metadata": {},
   "outputs": [
    {
     "name": "stdout",
     "output_type": "stream",
     "text": [
      "['+5.99905000E-01\\n', '+5.99905000E-01\\n', '+5.99070000E-01\\n']\n",
      "['+1.17490000E-02\\n', '+1.17490000E-02\\n', '+1.17680000E-02\\n']\n"
     ]
    }
   ],
   "source": [
    "print(measured_voltages)\n",
    "print(measured_currents)"
   ]
  },
  {
   "cell_type": "code",
   "execution_count": 186,
   "metadata": {},
   "outputs": [
    {
     "data": {
      "text/plain": [
       "'+1.20000000E+00\\n'"
      ]
     },
     "execution_count": 186,
     "metadata": {},
     "output_type": "execute_result"
    }
   ],
   "source": [
    "import pyvisa\n",
    "import time\n",
    "import subprocess\n",
    "\n",
    "# Establish connection to the power supply\n",
    "rm = pyvisa.ResourceManager(\"@py\")\n",
    "\n",
    "psu = rm.open_resource('TCPIP::169.254.201.77::lan0::INSTR')\n",
    "psu.write(\"INST:SEL CH2\")\n",
    "psu.write(f\"VOLT 1.2\")\n",
    "psu.write(\"CURR 0.1\")\n",
    "psu.write(\"OUTP ON, (@2)\")\n",
    "psu.query(\"VOLT?\") \n"
   ]
  },
  {
   "cell_type": "code",
   "execution_count": 10,
   "metadata": {},
   "outputs": [
    {
     "name": "stdout",
     "output_type": "stream",
     "text": [
      "cmake -S ./ -B ./build/ -D CMAKE_TOOLCHAIN_FILE=./riscv-gcc.cmake -DCHIP=bearly24\n",
      "-- Including HTIF to target\n",
      "-- Including CLINT to target\n",
      "-- ================ Glossy config ================\n",
      "--  Building for CHIP: \"bearly24\"\n",
      "--  Reading config from \"/tools/C/tedkim7/sp24-Baremetal-IDE/platform/bearly24/CMakeLists.txt\"\n",
      "--  Terminal Device: UART0\n",
      "--  Linker Script: /tools/C/tedkim7/sp24-Baremetal-IDE/platform/bearly24/bearly24.ld\n",
      "-- ===============================================\n",
      "-- Configuring done (0.1s)\n",
      "-- Generating done (1.5s)\n",
      "-- Build files have been written to: /tools/C/tedkim7/sp24-Baremetal-IDE/build\n",
      "cmake --build ./build/ --target shmoo_bench\n",
      "gmake[1]: Entering directory '/bwrcq/C/tedkim7/sp24-Baremetal-IDE/build'\n",
      "gmake[2]: Entering directory '/bwrcq/C/tedkim7/sp24-Baremetal-IDE/build'\n",
      "gmake[3]: Entering directory '/bwrcq/C/tedkim7/sp24-Baremetal-IDE/build'\n",
      "gmake[4]: Entering directory '/bwrcq/C/tedkim7/sp24-Baremetal-IDE/build'\n",
      "gmake[4]: Leaving directory '/bwrcq/C/tedkim7/sp24-Baremetal-IDE/build'\n",
      "[  5%] Built target uart\n",
      "gmake[4]: Entering directory '/bwrcq/C/tedkim7/sp24-Baremetal-IDE/build'\n",
      "gmake[4]: Leaving directory '/bwrcq/C/tedkim7/sp24-Baremetal-IDE/build'\n",
      "[ 11%] Built target intel-pll\n",
      "gmake[4]: Entering directory '/bwrcq/C/tedkim7/sp24-Baremetal-IDE/build'\n",
      "gmake[4]: Leaving directory '/bwrcq/C/tedkim7/sp24-Baremetal-IDE/build'\n",
      "[ 16%] Built target clint\n",
      "gmake[4]: Entering directory '/bwrcq/C/tedkim7/sp24-Baremetal-IDE/build'\n",
      "gmake[4]: Leaving directory '/bwrcq/C/tedkim7/sp24-Baremetal-IDE/build'\n",
      "[ 22%] Built target rocketcore\n",
      "gmake[4]: Entering directory '/bwrcq/C/tedkim7/sp24-Baremetal-IDE/build'\n",
      "gmake[4]: Leaving directory '/bwrcq/C/tedkim7/sp24-Baremetal-IDE/build'\n",
      "[ 27%] Built target i2c\n",
      "gmake[4]: Entering directory '/bwrcq/C/tedkim7/sp24-Baremetal-IDE/build'\n",
      "gmake[4]: Leaving directory '/bwrcq/C/tedkim7/sp24-Baremetal-IDE/build'\n",
      "[ 33%] Built target spi\n",
      "gmake[4]: Entering directory '/bwrcq/C/tedkim7/sp24-Baremetal-IDE/build'\n",
      "gmake[4]: Leaving directory '/bwrcq/C/tedkim7/sp24-Baremetal-IDE/build'\n",
      "gmake[4]: Entering directory '/bwrcq/C/tedkim7/sp24-Baremetal-IDE/build'\n",
      "[ 36%] \u001b[32mBuilding C object platform/bearly24/CMakeFiles/chip-config.dir/chip.c.obj\u001b[0m\n",
      "[ 38%] \u001b[32m\u001b[1mLinking C static library libchip-config.a\u001b[0m\n",
      "gmake[4]: Leaving directory '/bwrcq/C/tedkim7/sp24-Baremetal-IDE/build'\n",
      "[ 44%] Built target chip-config\n",
      "gmake[4]: Entering directory '/bwrcq/C/tedkim7/sp24-Baremetal-IDE/build'\n",
      "gmake[4]: Leaving directory '/bwrcq/C/tedkim7/sp24-Baremetal-IDE/build'\n",
      "gmake[4]: Entering directory '/bwrcq/C/tedkim7/sp24-Baremetal-IDE/build'\n",
      "[ 47%] \u001b[32mBuilding C object glossy/CMakeFiles/glossy.dir/src/sys/exit.c.obj\u001b[0m\n"
     ]
    },
    {
     "name": "stderr",
     "output_type": "stream",
     "text": [
      "/tools/C/tedkim7/sp24-Baremetal-IDE/glossy/src/sys/exit.c: In function '_exit':\n",
      "/tools/C/tedkim7/sp24-Baremetal-IDE/glossy/src/sys/exit.c:4:48: warning: unused parameter 'code' [-Wunused-parameter]\n",
      "    4 | __attribute__((weak, noreturn)) void _exit(int code) {\n",
      "      |                                            ~~~~^~~~\n"
     ]
    },
    {
     "name": "stdout",
     "output_type": "stream",
     "text": [
      "[ 50%] \u001b[32mBuilding C object glossy/CMakeFiles/glossy.dir/src/sys/time.c.obj\u001b[0m\n",
      "[ 52%] \u001b[32mBuilding C object glossy/CMakeFiles/glossy.dir/src/sys/write.c.obj\u001b[0m\n"
     ]
    },
    {
     "name": "stderr",
     "output_type": "stream",
     "text": [
      "/tools/C/tedkim7/sp24-Baremetal-IDE/glossy/src/sys/write.c: In function '_write':\n",
      "/tools/C/tedkim7/sp24-Baremetal-IDE/glossy/src/sys/write.c:8:42: warning: unused parameter 'fd' [-Wunused-parameter]\n",
      "    8 | __attribute__((weak)) ssize_t _write(int fd, const void *ptr, size_t len) {\n",
      "      |                                      ~~~~^~\n"
     ]
    },
    {
     "name": "stdout",
     "output_type": "stream",
     "text": [
      "[ 55%] \u001b[32m\u001b[1mLinking C static library libglossy.a\u001b[0m\n",
      "gmake[4]: Leaving directory '/bwrcq/C/tedkim7/sp24-Baremetal-IDE/build'\n",
      "[ 94%] Built target glossy\n",
      "gmake[4]: Entering directory '/bwrcq/C/tedkim7/sp24-Baremetal-IDE/build'\n",
      "gmake[4]: Leaving directory '/bwrcq/C/tedkim7/sp24-Baremetal-IDE/build'\n",
      "gmake[4]: Entering directory '/bwrcq/C/tedkim7/sp24-Baremetal-IDE/build'\n",
      "[ 97%] \u001b[32mBuilding C object CMakeFiles/shmoo_bench.dir/shmoo_bench/pll_bench/src/main.c.obj\u001b[0m\n"
     ]
    },
    {
     "name": "stderr",
     "output_type": "stream",
     "text": [
      "/tools/C/tedkim7/sp24-Baremetal-IDE/shmoo_bench/pll_bench/src/main.c: In function 'app_main':\n",
      "/tools/C/tedkim7/sp24-Baremetal-IDE/shmoo_bench/pll_bench/src/main.c:116:5: warning: implicit declaration of function 'reg_write8' [-Wimplicit-function-declaration]\n",
      "  116 |     reg_write8(0x130000, 0x1);\n",
      "      |     ^~~~~~~~~~\n",
      "/tools/C/tedkim7/sp24-Baremetal-IDE/shmoo_bench/pll_bench/src/main.c: In function 'main':\n",
      "/tools/C/tedkim7/sp24-Baremetal-IDE/shmoo_bench/pll_bench/src/main.c:126:14: warning: unused parameter 'argc' [-Wunused-parameter]\n",
      "  126 | int main(int argc, char **argv) {\n",
      "      |          ~~~~^~~~\n",
      "/tools/C/tedkim7/sp24-Baremetal-IDE/shmoo_bench/pll_bench/src/main.c:126:27: warning: unused parameter 'argv' [-Wunused-parameter]\n",
      "  126 | int main(int argc, char **argv) {\n",
      "      |                    ~~~~~~~^~~~\n"
     ]
    },
    {
     "name": "stdout",
     "output_type": "stream",
     "text": [
      "[100%] \u001b[32m\u001b[1mLinking C executable shmoo_bench.elf\u001b[0m\n",
      "gmake[4]: Leaving directory '/bwrcq/C/tedkim7/sp24-Baremetal-IDE/build'\n",
      "[100%] Built target shmoo_bench\n",
      "gmake[3]: Leaving directory '/bwrcq/C/tedkim7/sp24-Baremetal-IDE/build'\n",
      "gmake[2]: Leaving directory '/bwrcq/C/tedkim7/sp24-Baremetal-IDE/build'\n",
      "gmake[1]: Leaving directory '/bwrcq/C/tedkim7/sp24-Baremetal-IDE/build'\n"
     ]
    },
    {
     "name": "stderr",
     "output_type": "stream",
     "text": [
      "/bwrcq/C/ee290-fa24-2/.conda-env/riscv-tools/bin/../lib/gcc/riscv64-unknown-elf/13.2.0/../../../../riscv64-unknown-elf/bin/ld: warning: shmoo_bench.elf has a LOAD segment with RWX permissions\n"
     ]
    },
    {
     "data": {
      "text/plain": [
       "CompletedProcess(args=['make', 'shmoo_bearly'], returncode=0)"
      ]
     },
     "execution_count": 10,
     "metadata": {},
     "output_type": "execute_result"
    }
   ],
   "source": [
    "import subprocess\n",
    "\n",
    "freq = 16000000\n",
    "\n",
    "subprocess.run([\"make\", \"clean\"], cwd=\"../../\")\n",
    "\n",
    "with open(\"../../platform/bearly24/freq.h\", \"w\") as f:\n",
    "    f.write('''#ifndef __FREQ_H\n",
    "            #define __FREQ_H\n",
    "            ''')\n",
    "    f.write(f'''#define MTIME_FREQ     {freq}\n",
    "            #define SYS_CLK_FREQ   {freq}\n",
    "            ''')\n",
    "    f.write(\"#endif\")\n",
    "\n",
    "subprocess.run([\"make\", \"shmoo_bearly\"], cwd=\"../../\")\n"
   ]
  }
 ],
 "metadata": {
  "kernelspec": {
   "display_name": "Python 3",
   "language": "python",
   "name": "python3"
  },
  "language_info": {
   "codemirror_mode": {
    "name": "ipython",
    "version": 3
   },
   "file_extension": ".py",
   "mimetype": "text/x-python",
   "name": "python",
   "nbconvert_exporter": "python",
   "pygments_lexer": "ipython3",
   "version": "3.13.0"
  }
 },
 "nbformat": 4,
 "nbformat_minor": 2
}
