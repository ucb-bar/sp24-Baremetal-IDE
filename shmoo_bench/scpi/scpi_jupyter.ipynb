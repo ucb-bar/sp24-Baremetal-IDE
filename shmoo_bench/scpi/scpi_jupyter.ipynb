{
 "cells": [
  {
   "cell_type": "markdown",
   "metadata": {},
   "source": [
    "# Shmoo Plot Demo"
   ]
  },
  {
   "cell_type": "code",
   "execution_count": null,
   "metadata": {},
   "outputs": [],
   "source": [
    "## set tty"
   ]
  },
  {
   "cell_type": "code",
   "execution_count": 80,
   "metadata": {},
   "outputs": [
    {
     "name": "stdout",
     "output_type": "stream",
     "text": [
      "Power supply: Keysight Technologies,E36312A,MY57010726,1.0.4-1.0.0-1.04\n",
      "\n",
      "Clock generator: Agilent Technologies, 81134A, DE42800131, Ver 2.9.3\n",
      "\n"
     ]
    }
   ],
   "source": [
    "# Equipment setup\n",
    "\n",
    "import pyvisa\n",
    "import time\n",
    "import subprocess\n",
    "import serial\n",
    "\n",
    "# Establish connection to the power supply\n",
    "rm = pyvisa.ResourceManager(\"@py\")\n",
    "\n",
    "#psu = rm.open_resource('TCPIP::169.254.58.10::gpib0,7::INSTR')                  ## for the Agilent power supply\n",
    "\n",
    "psu = rm.open_resource('TCPIP::169.254.201.77::lan0::INSTR')                    ## for the Keysight power supply\n",
    "\n",
    "clk = rm.open_resource('TCPIP::169.254.201.101::lan0::INSTR')\n",
    "\n",
    "# Need to verify that this is the power supply. psu_verification should be \n",
    "# something like \"Keysight Technologies,E3646A,0,X.X-Y.Y-Z.Z\"\n",
    "psu_verification = psu.query(\"*IDN?\")\n",
    "clk_verification = clk.query(\"*IDN?\")\n",
    "\n",
    "print(\"Power supply:\", psu_verification)\n",
    "print(\"Clock generator:\", clk_verification)\n",
    "\n",
    "# psu.write(\"*RST\")  # Reset the power supply\n",
    "\n",
    "start_voltage = 0.5\n",
    "\n",
    "end_voltage = 1.05\n",
    "\n",
    "step_size = 0.05  \n",
    "\n",
    "start_clock = 50\n",
    "\n",
    "end_clock = 100\n",
    "\n",
    "step_size_clock = 25\n",
    "\n",
    "# Loop through the voltage range and set the voltage\n",
    "current_voltage = start_voltage \n",
    "\n",
    "current_clock = start_clock\n",
    "\n",
    "psu.write(\"OUTP ON, (@2)\")\n",
    "\n",
    "# Only channel 2 works\n",
    "psu.write(\"INST:SEL CH2\")\n",
    "\n",
    "# Set current to 100mA\n",
    "psu.write(\"CURR 0.1\")\n",
    "\n",
    "# Start the clock at 20MHz\n",
    "clk.write(\":OUTP1:POS ON\") # Initialize clk gen channel 1 output\n",
    "clk.write(\":FUNC:PATT\")\n",
    "\n",
    "\n",
    "expected_output = \"32767 32767 32767 32767 32767 32767 32767 32767 32767 32767\""
   ]
  },
  {
   "cell_type": "markdown",
   "metadata": {},
   "source": [
    "#### Remember to reset the board!"
   ]
  },
  {
   "cell_type": "code",
   "execution_count": 82,
   "metadata": {},
   "outputs": [
    {
     "name": "stdout",
     "output_type": "stream",
     "text": [
      "rm -rf build\n",
      "cmake -S ./ -B ./build/ -D CMAKE_TOOLCHAIN_FILE=./riscv-gcc.cmake -DCHIP=bearly24\n",
      "-- The ASM compiler identification is GNU\n",
      "-- Found assembler: /tools/C/ee290-fa24-2/.conda-env/riscv-tools/bin/riscv64-unknown-elf-gcc\n",
      "-- The C compiler identification is GNU 13.2.0\n",
      "-- The CXX compiler identification is GNU 13.2.0\n",
      "-- Detecting C compiler ABI info\n",
      "-- Detecting C compiler ABI info - done\n",
      "-- Check for working C compiler: /tools/C/ee290-fa24-2/.conda-env/riscv-tools/bin/riscv64-unknown-elf-gcc - skipped\n",
      "-- Detecting C compile features\n",
      "-- Detecting C compile features - done\n",
      "-- Detecting CXX compiler ABI info\n",
      "-- Detecting CXX compiler ABI info - done\n",
      "-- Check for working CXX compiler: /tools/C/ee290-fa24-2/.conda-env/riscv-tools/bin/riscv64-unknown-elf-g++ - skipped\n",
      "-- Detecting CXX compile features\n",
      "-- Detecting CXX compile features - done\n",
      "-- Including HTIF to target\n",
      "-- Including CLINT to target\n",
      "-- ================ Glossy config ================\n",
      "--  Building for CHIP: \"bearly24\"\n",
      "--  Reading config from \"/tools/C/tedkim7/sp24-Baremetal-IDE/platform/bearly24/CMakeLists.txt\"\n",
      "--  Terminal Device: UART0\n",
      "--  Linker Script: /tools/C/tedkim7/sp24-Baremetal-IDE/platform/bearly24/bearly24.ld\n",
      "-- ===============================================\n",
      "-- Configuring done (3.6s)\n",
      "-- Generating done (1.5s)\n",
      "-- Build files have been written to: /tools/C/tedkim7/sp24-Baremetal-IDE/build\n",
      "cmake --build ./build/ --target shmoo_bench\n",
      "gmake[1]: Entering directory '/bwrcq/C/tedkim7/sp24-Baremetal-IDE/build'\n",
      "gmake[2]: Entering directory '/bwrcq/C/tedkim7/sp24-Baremetal-IDE/build'\n",
      "gmake[3]: Entering directory '/bwrcq/C/tedkim7/sp24-Baremetal-IDE/build'\n",
      "gmake[4]: Entering directory '/bwrcq/C/tedkim7/sp24-Baremetal-IDE/build'\n",
      "gmake[4]: Leaving directory '/bwrcq/C/tedkim7/sp24-Baremetal-IDE/build'\n",
      "gmake[4]: Entering directory '/bwrcq/C/tedkim7/sp24-Baremetal-IDE/build'\n",
      "[  2%] \u001b[32mBuilding C object driver/rocket-chip-blocks/uart/CMakeFiles/uart.dir/uart.c.obj\u001b[0m\n"
     ]
    },
    {
     "name": "stderr",
     "output_type": "stream",
     "text": [
      "/tools/C/tedkim7/sp24-Baremetal-IDE/driver/rocket-chip-blocks/uart/uart.c: In function 'uart_receive':\n",
      "/tools/C/tedkim7/sp24-Baremetal-IDE/driver/rocket-chip-blocks/uart/uart.c:35:78: warning: unused parameter 'timeout' [-Wunused-parameter]\n",
      "   35 | Status uart_receive(UART_Type *UARTx, uint8_t *data, uint16_t size, uint32_t timeout) {\n",
      "      |                                                                     ~~~~~~~~~^~~~~~~\n",
      "/tools/C/tedkim7/sp24-Baremetal-IDE/driver/rocket-chip-blocks/uart/uart.c: In function 'uart_transmit':\n",
      "/tools/C/tedkim7/sp24-Baremetal-IDE/driver/rocket-chip-blocks/uart/uart.c:50:85: warning: unused parameter 'timeout' [-Wunused-parameter]\n",
      "   50 | Status uart_transmit(UART_Type *UARTx, const uint8_t *data, uint16_t size, uint32_t timeout) {\n",
      "      |                                                                            ~~~~~~~~~^~~~~~~\n"
     ]
    },
    {
     "name": "stdout",
     "output_type": "stream",
     "text": [
      "[  5%] \u001b[32m\u001b[1mLinking C static library libuart.a\u001b[0m\n",
      "gmake[4]: Leaving directory '/bwrcq/C/tedkim7/sp24-Baremetal-IDE/build'\n",
      "[  5%] Built target uart\n",
      "gmake[4]: Entering directory '/bwrcq/C/tedkim7/sp24-Baremetal-IDE/build'\n",
      "gmake[4]: Leaving directory '/bwrcq/C/tedkim7/sp24-Baremetal-IDE/build'\n",
      "gmake[4]: Entering directory '/bwrcq/C/tedkim7/sp24-Baremetal-IDE/build'\n",
      "[  8%] \u001b[32mBuilding C object driver/intel/pll/CMakeFiles/intel-pll.dir/pll.c.obj\u001b[0m\n",
      "[ 11%] \u001b[32m\u001b[1mLinking C static library libintel-pll.a\u001b[0m\n",
      "gmake[4]: Leaving directory '/bwrcq/C/tedkim7/sp24-Baremetal-IDE/build'\n",
      "[ 11%] Built target intel-pll\n",
      "gmake[4]: Entering directory '/bwrcq/C/tedkim7/sp24-Baremetal-IDE/build'\n",
      "gmake[4]: Leaving directory '/bwrcq/C/tedkim7/sp24-Baremetal-IDE/build'\n",
      "gmake[4]: Entering directory '/bwrcq/C/tedkim7/sp24-Baremetal-IDE/build'\n",
      "[ 13%] \u001b[32mBuilding C object driver/rocket-chip/clint/CMakeFiles/clint.dir/clint.c.obj\u001b[0m\n",
      "[ 16%] \u001b[32m\u001b[1mLinking C static library libclint.a\u001b[0m\n",
      "gmake[4]: Leaving directory '/bwrcq/C/tedkim7/sp24-Baremetal-IDE/build'\n",
      "[ 16%] Built target clint\n",
      "gmake[4]: Entering directory '/bwrcq/C/tedkim7/sp24-Baremetal-IDE/build'\n",
      "gmake[4]: Leaving directory '/bwrcq/C/tedkim7/sp24-Baremetal-IDE/build'\n",
      "gmake[4]: Entering directory '/bwrcq/C/tedkim7/sp24-Baremetal-IDE/build'\n",
      "[ 19%] \u001b[32mBuilding C object driver/rocket-chip/rocketcore/CMakeFiles/rocketcore.dir/rocketcore.c.obj\u001b[0m\n",
      "[ 22%] \u001b[32m\u001b[1mLinking C static library librocketcore.a\u001b[0m\n",
      "gmake[4]: Leaving directory '/bwrcq/C/tedkim7/sp24-Baremetal-IDE/build'\n",
      "[ 22%] Built target rocketcore\n",
      "gmake[4]: Entering directory '/bwrcq/C/tedkim7/sp24-Baremetal-IDE/build'\n",
      "gmake[4]: Leaving directory '/bwrcq/C/tedkim7/sp24-Baremetal-IDE/build'\n",
      "gmake[4]: Entering directory '/bwrcq/C/tedkim7/sp24-Baremetal-IDE/build'\n",
      "[ 25%] \u001b[32mBuilding C object driver/rocket-chip-blocks/i2c/CMakeFiles/i2c.dir/i2c.c.obj\u001b[0m\n"
     ]
    },
    {
     "name": "stderr",
     "output_type": "stream",
     "text": [
      "/tools/C/tedkim7/sp24-Baremetal-IDE/driver/rocket-chip-blocks/i2c/i2c.c: In function 'i2c_init':\n",
      "/tools/C/tedkim7/sp24-Baremetal-IDE/driver/rocket-chip-blocks/i2c/i2c.c:13:45: warning: unused parameter 'I2C_init' [-Wunused-parameter]\n",
      "   13 | void i2c_init(I2C_Type *I2Cx, I2C_InitType *I2C_init) {\n",
      "      |                               ~~~~~~~~~~~~~~^~~~~~~~\n",
      "/tools/C/tedkim7/sp24-Baremetal-IDE/driver/rocket-chip-blocks/i2c/i2c.c: In function 'i2c_wait_for_flag':\n",
      "/tools/C/tedkim7/sp24-Baremetal-IDE/driver/rocket-chip-blocks/i2c/i2c.c:30:9: warning: implicit declaration of function 'CLINT_getTime' [-Wimplicit-function-declaration]\n",
      "   30 |     if (CLINT_getTime() > (timestart + timeout)) {\n",
      "      |         ^~~~~~~~~~~~~\n",
      "/tools/C/tedkim7/sp24-Baremetal-IDE/driver/rocket-chip-blocks/i2c/i2c.c:30:25: warning: comparison of integer expressions of different signedness: 'int' and 'uint32_t' {aka 'unsigned int'} [-Wsign-compare]\n",
      "   30 |     if (CLINT_getTime() > (timestart + timeout)) {\n",
      "      |                         ^\n",
      "/tools/C/tedkim7/sp24-Baremetal-IDE/driver/rocket-chip-blocks/i2c/i2c.c: In function 'i2c_master_receive':\n",
      "/tools/C/tedkim7/sp24-Baremetal-IDE/driver/rocket-chip-blocks/i2c/i2c.c:53:24: warning: implicit declaration of function 'clint_get_time' [-Wimplicit-function-declaration]\n",
      "   53 |   uint64_t timestart = clint_get_time();\n",
      "      |                        ^~~~~~~~~~~~~~\n",
      "/tools/C/tedkim7/sp24-Baremetal-IDE/driver/rocket-chip-blocks/i2c/i2c.c: In function 'i2c_wait_for_transaction':\n",
      "/tools/C/tedkim7/sp24-Baremetal-IDE/driver/rocket-chip-blocks/i2c/i2c.c:50:1: warning: control reaches end of non-void function [-Wreturn-type]\n",
      "   50 | }\n",
      "      | ^\n"
     ]
    },
    {
     "name": "stdout",
     "output_type": "stream",
     "text": [
      "[ 27%] \u001b[32m\u001b[1mLinking C static library libi2c.a\u001b[0m\n",
      "gmake[4]: Leaving directory '/bwrcq/C/tedkim7/sp24-Baremetal-IDE/build'\n",
      "[ 27%] Built target i2c\n",
      "gmake[4]: Entering directory '/bwrcq/C/tedkim7/sp24-Baremetal-IDE/build'\n",
      "gmake[4]: Leaving directory '/bwrcq/C/tedkim7/sp24-Baremetal-IDE/build'\n",
      "gmake[4]: Entering directory '/bwrcq/C/tedkim7/sp24-Baremetal-IDE/build'\n",
      "[ 30%] \u001b[32mBuilding C object driver/rocket-chip-blocks/spi/CMakeFiles/spi.dir/spi.c.obj\u001b[0m\n"
     ]
    },
    {
     "name": "stderr",
     "output_type": "stream",
     "text": [
      "/tools/C/tedkim7/sp24-Baremetal-IDE/driver/rocket-chip-blocks/spi/spi.c: In function 'spi_receive':\n",
      "/tools/C/tedkim7/sp24-Baremetal-IDE/driver/rocket-chip-blocks/spi/spi.c:56:75: warning: unused parameter 'timeout' [-Wunused-parameter]\n",
      "   56 | Status spi_receive(SPI_Type *SPIx, uint8_t *data, uint16_t size, uint64_t timeout) {\n",
      "      |                                                                  ~~~~~~~~~^~~~~~~\n",
      "/tools/C/tedkim7/sp24-Baremetal-IDE/driver/rocket-chip-blocks/spi/spi.c: In function 'spi_transmit':\n",
      "/tools/C/tedkim7/sp24-Baremetal-IDE/driver/rocket-chip-blocks/spi/spi.c:68:76: warning: unused parameter 'timeout' [-Wunused-parameter]\n",
      "   68 | Status spi_transmit(SPI_Type *SPIx, uint8_t *data, uint16_t size, uint64_t timeout) {\n",
      "      |                                                                   ~~~~~~~~~^~~~~~~\n",
      "/tools/C/tedkim7/sp24-Baremetal-IDE/driver/rocket-chip-blocks/spi/spi.c: In function 'spi_transmit_receive':\n",
      "/tools/C/tedkim7/sp24-Baremetal-IDE/driver/rocket-chip-blocks/spi/spi.c:80:105: warning: unused parameter 'timeout' [-Wunused-parameter]\n",
      "   80 | Status spi_transmit_receive(SPI_Type *SPIx, uint8_t *tx_data, uint8_t *rx_data, uint16_t size, uint64_t timeout) {\n",
      "      |                                                                                                ~~~~~~~~~^~~~~~~\n"
     ]
    },
    {
     "name": "stdout",
     "output_type": "stream",
     "text": [
      "[ 33%] \u001b[32m\u001b[1mLinking C static library libspi.a\u001b[0m\n",
      "gmake[4]: Leaving directory '/bwrcq/C/tedkim7/sp24-Baremetal-IDE/build'\n",
      "[ 33%] Built target spi\n",
      "gmake[4]: Entering directory '/bwrcq/C/tedkim7/sp24-Baremetal-IDE/build'\n",
      "gmake[4]: Leaving directory '/bwrcq/C/tedkim7/sp24-Baremetal-IDE/build'\n",
      "gmake[4]: Entering directory '/bwrcq/C/tedkim7/sp24-Baremetal-IDE/build'\n",
      "[ 36%] \u001b[32mBuilding C object platform/bearly24/CMakeFiles/chip-config.dir/chip.c.obj\u001b[0m\n",
      "[ 38%] \u001b[32mBuilding C object platform/bearly24/CMakeFiles/chip-config.dir/src/hal_dma.c.obj\u001b[0m\n"
     ]
    },
    {
     "name": "stderr",
     "output_type": "stream",
     "text": [
      "/tools/C/tedkim7/sp24-Baremetal-IDE/platform/bearly24/src/hal_dma.c: In function 'dma_init_memcpy':\n",
      "/tools/C/tedkim7/sp24-Baremetal-IDE/platform/bearly24/src/hal_dma.c:20:18: warning: assignment to 'volatile void *' from 'long unsigned int' makes pointer from integer without a cast [-Wint-conversion]\n",
      "   20 |   DMAX->SRC_ADDR = (uint64_t) src;\n",
      "      |                  ^\n",
      "/tools/C/tedkim7/sp24-Baremetal-IDE/platform/bearly24/src/hal_dma.c:21:19: warning: assignment to 'volatile void *' from 'long unsigned int' makes pointer from integer without a cast [-Wint-conversion]\n",
      "   21 |   DMAX->DEST_ADDR = (uint64_t) dst;\n",
      "      |                   ^\n",
      "/tools/C/tedkim7/sp24-Baremetal-IDE/platform/bearly24/src/hal_dma.c: In function 'dma_init_MAC':\n",
      "/tools/C/tedkim7/sp24-Baremetal-IDE/platform/bearly24/src/hal_dma.c:33:18: warning: assignment to 'volatile void *' from 'long unsigned int' makes pointer from integer without a cast [-Wint-conversion]\n",
      "   33 |   DMAX->SRC_ADDR = (uint64_t) src;\n",
      "      |                  ^\n"
     ]
    },
    {
     "name": "stdout",
     "output_type": "stream",
     "text": [
      "[ 41%] \u001b[32mBuilding C object platform/bearly24/CMakeFiles/chip-config.dir/src/hal_mmio.c.obj\u001b[0m\n",
      "[ 44%] \u001b[32m\u001b[1mLinking C static library libchip-config.a\u001b[0m\n",
      "gmake[4]: Leaving directory '/bwrcq/C/tedkim7/sp24-Baremetal-IDE/build'\n",
      "[ 44%] Built target chip-config\n",
      "gmake[4]: Entering directory '/bwrcq/C/tedkim7/sp24-Baremetal-IDE/build'\n",
      "gmake[4]: Leaving directory '/bwrcq/C/tedkim7/sp24-Baremetal-IDE/build'\n",
      "gmake[4]: Entering directory '/bwrcq/C/tedkim7/sp24-Baremetal-IDE/build'\n",
      "[ 47%] \u001b[32mBuilding ASM object glossy/CMakeFiles/glossy.dir/src/startup/crt0.S.obj\u001b[0m\n",
      "[ 50%] \u001b[32mBuilding ASM object glossy/CMakeFiles/glossy.dir/src/startup/init.S.obj\u001b[0m\n",
      "[ 52%] \u001b[32mBuilding C object glossy/CMakeFiles/glossy.dir/src/startup/secondary.c.obj\u001b[0m\n",
      "[ 55%] \u001b[32mBuilding ASM object glossy/CMakeFiles/glossy.dir/src/trap/trap.S.obj\u001b[0m\n",
      "[ 58%] \u001b[32mBuilding C object glossy/CMakeFiles/glossy.dir/src/trap/trap.c.obj\u001b[0m\n"
     ]
    },
    {
     "name": "stderr",
     "output_type": "stream",
     "text": [
      "/tools/C/tedkim7/sp24-Baremetal-IDE/glossy/src/trap/trap.c: In function 'trap_handler':\n",
      "/tools/C/tedkim7/sp24-Baremetal-IDE/glossy/src/trap/trap.c:73:92: warning: unused parameter 'm_tval' [-Wunused-parameter]\n",
      "   73 | __attribute__((weak)) uintptr_t trap_handler(uintptr_t m_epc, uintptr_t m_cause, uintptr_t m_tval, uintptr_t regs[32]) {\n",
      "      |                                                                                  ~~~~~~~~~~^~~~~~\n",
      "/tools/C/tedkim7/sp24-Baremetal-IDE/glossy/src/trap/trap.c:73:110: warning: unused parameter 'regs' [-Wunused-parameter]\n",
      "   73 | __attribute__((weak)) uintptr_t trap_handler(uintptr_t m_epc, uintptr_t m_cause, uintptr_t m_tval, uintptr_t regs[32]) {\n",
      "      |                                                                                                    ~~~~~~~~~~^~~~~~~~\n"
     ]
    },
    {
     "name": "stdout",
     "output_type": "stream",
     "text": [
      "[ 61%] \u001b[32mBuilding C object glossy/CMakeFiles/glossy.dir/src/sys/close.c.obj\u001b[0m\n"
     ]
    },
    {
     "name": "stderr",
     "output_type": "stream",
     "text": [
      "/tools/C/tedkim7/sp24-Baremetal-IDE/glossy/src/sys/close.c: In function '_close':\n",
      "/tools/C/tedkim7/sp24-Baremetal-IDE/glossy/src/sys/close.c:2:38: warning: unused parameter 'file' [-Wunused-parameter]\n",
      "    2 | __attribute__((weak)) int _close(int file) {\n",
      "      |                                  ~~~~^~~~\n"
     ]
    },
    {
     "name": "stdout",
     "output_type": "stream",
     "text": [
      "[ 63%] \u001b[32mBuilding C object glossy/CMakeFiles/glossy.dir/src/sys/exit.c.obj\u001b[0m\n"
     ]
    },
    {
     "name": "stderr",
     "output_type": "stream",
     "text": [
      "/tools/C/tedkim7/sp24-Baremetal-IDE/glossy/src/sys/exit.c: In function '_exit':\n",
      "/tools/C/tedkim7/sp24-Baremetal-IDE/glossy/src/sys/exit.c:4:48: warning: unused parameter 'code' [-Wunused-parameter]\n",
      "    4 | __attribute__((weak, noreturn)) void _exit(int code) {\n",
      "      |                                            ~~~~^~~~\n"
     ]
    },
    {
     "name": "stdout",
     "output_type": "stream",
     "text": [
      "[ 66%] \u001b[32mBuilding C object glossy/CMakeFiles/glossy.dir/src/sys/fstat.c.obj\u001b[0m\n"
     ]
    },
    {
     "name": "stderr",
     "output_type": "stream",
     "text": [
      "/tools/C/tedkim7/sp24-Baremetal-IDE/glossy/src/sys/fstat.c: In function '_fstat':\n",
      "/tools/C/tedkim7/sp24-Baremetal-IDE/glossy/src/sys/fstat.c:4:38: warning: unused parameter 'file' [-Wunused-parameter]\n",
      "    4 | __attribute__((weak)) int _fstat(int file, struct stat *st) {\n",
      "      |                                  ~~~~^~~~\n",
      "/tools/C/tedkim7/sp24-Baremetal-IDE/glossy/src/sys/fstat.c:4:57: warning: unused parameter 'st' [-Wunused-parameter]\n",
      "    4 | __attribute__((weak)) int _fstat(int file, struct stat *st) {\n",
      "      |                                            ~~~~~~~~~~~~~^~\n"
     ]
    },
    {
     "name": "stdout",
     "output_type": "stream",
     "text": [
      "[ 69%] \u001b[32mBuilding C object glossy/CMakeFiles/glossy.dir/src/sys/getpid.c.obj\u001b[0m\n",
      "[ 72%] \u001b[32mBuilding C object glossy/CMakeFiles/glossy.dir/src/sys/isatty.c.obj\u001b[0m\n",
      "[ 75%] \u001b[32mBuilding C object glossy/CMakeFiles/glossy.dir/src/sys/kill.c.obj\u001b[0m\n"
     ]
    },
    {
     "name": "stderr",
     "output_type": "stream",
     "text": [
      "/tools/C/tedkim7/sp24-Baremetal-IDE/glossy/src/sys/kill.c: In function '_kill':\n",
      "/tools/C/tedkim7/sp24-Baremetal-IDE/glossy/src/sys/kill.c:2:37: warning: unused parameter 'pid' [-Wunused-parameter]\n",
      "    2 | __attribute__((weak)) int _kill(int pid, int sig) {\n",
      "      |                                 ~~~~^~~\n",
      "/tools/C/tedkim7/sp24-Baremetal-IDE/glossy/src/sys/kill.c:2:46: warning: unused parameter 'sig' [-Wunused-parameter]\n",
      "    2 | __attribute__((weak)) int _kill(int pid, int sig) {\n",
      "      |                                          ~~~~^~~\n"
     ]
    },
    {
     "name": "stdout",
     "output_type": "stream",
     "text": [
      "[ 77%] \u001b[32mBuilding C object glossy/CMakeFiles/glossy.dir/src/sys/lseek.c.obj\u001b[0m\n"
     ]
    },
    {
     "name": "stderr",
     "output_type": "stream",
     "text": [
      "/tools/C/tedkim7/sp24-Baremetal-IDE/glossy/src/sys/lseek.c: In function '_lseek':\n",
      "/tools/C/tedkim7/sp24-Baremetal-IDE/glossy/src/sys/lseek.c:5:40: warning: unused parameter 'file' [-Wunused-parameter]\n",
      "    5 | __attribute__((weak)) off_t _lseek(int file, off_t ptr, int dir) {\n",
      "      |                                    ~~~~^~~~\n",
      "/tools/C/tedkim7/sp24-Baremetal-IDE/glossy/src/sys/lseek.c:5:52: warning: unused parameter 'ptr' [-Wunused-parameter]\n",
      "    5 | __attribute__((weak)) off_t _lseek(int file, off_t ptr, int dir) {\n",
      "      |                                              ~~~~~~^~~\n",
      "/tools/C/tedkim7/sp24-Baremetal-IDE/glossy/src/sys/lseek.c:5:61: warning: unused parameter 'dir' [-Wunused-parameter]\n",
      "    5 | __attribute__((weak)) off_t _lseek(int file, off_t ptr, int dir) {\n",
      "      |                                                         ~~~~^~~\n"
     ]
    },
    {
     "name": "stdout",
     "output_type": "stream",
     "text": [
      "[ 80%] \u001b[32mBuilding C object glossy/CMakeFiles/glossy.dir/src/sys/open.c.obj\u001b[0m\n"
     ]
    },
    {
     "name": "stderr",
     "output_type": "stream",
     "text": [
      "/tools/C/tedkim7/sp24-Baremetal-IDE/glossy/src/sys/open.c: In function '_open':\n",
      "/tools/C/tedkim7/sp24-Baremetal-IDE/glossy/src/sys/open.c:3:45: warning: unused parameter 'path' [-Wunused-parameter]\n",
      "    3 | __attribute__((weak)) int _open(const char *path, int flags, int mode) {\n",
      "      |                                 ~~~~~~~~~~~~^~~~\n",
      "/tools/C/tedkim7/sp24-Baremetal-IDE/glossy/src/sys/open.c:3:55: warning: unused parameter 'flags' [-Wunused-parameter]\n",
      "    3 | __attribute__((weak)) int _open(const char *path, int flags, int mode) {\n",
      "      |                                                   ~~~~^~~~~\n",
      "/tools/C/tedkim7/sp24-Baremetal-IDE/glossy/src/sys/open.c:3:66: warning: unused parameter 'mode' [-Wunused-parameter]\n",
      "    3 | __attribute__((weak)) int _open(const char *path, int flags, int mode) {\n",
      "      |                                                              ~~~~^~~~\n"
     ]
    },
    {
     "name": "stdout",
     "output_type": "stream",
     "text": [
      "[ 83%] \u001b[32mBuilding C object glossy/CMakeFiles/glossy.dir/src/sys/read.c.obj\u001b[0m\n"
     ]
    },
    {
     "name": "stderr",
     "output_type": "stream",
     "text": [
      "/tools/C/tedkim7/sp24-Baremetal-IDE/glossy/src/sys/read.c: In function '_read':\n",
      "/tools/C/tedkim7/sp24-Baremetal-IDE/glossy/src/sys/read.c:5:41: warning: unused parameter 'file' [-Wunused-parameter]\n",
      "    5 | __attribute__((weak)) ssize_t _read(int file, void *ptr, size_t len) {\n",
      "      |                                     ~~~~^~~~\n",
      "/tools/C/tedkim7/sp24-Baremetal-IDE/glossy/src/sys/read.c:5:53: warning: unused parameter 'ptr' [-Wunused-parameter]\n",
      "    5 | __attribute__((weak)) ssize_t _read(int file, void *ptr, size_t len) {\n",
      "      |                                               ~~~~~~^~~\n",
      "/tools/C/tedkim7/sp24-Baremetal-IDE/glossy/src/sys/read.c:5:65: warning: unused parameter 'len' [-Wunused-parameter]\n",
      "    5 | __attribute__((weak)) ssize_t _read(int file, void *ptr, size_t len) {\n",
      "      |                                                          ~~~~~~~^~~\n"
     ]
    },
    {
     "name": "stdout",
     "output_type": "stream",
     "text": [
      "[ 86%] \u001b[32mBuilding C object glossy/CMakeFiles/glossy.dir/src/sys/sbrk.c.obj\u001b[0m\n",
      "[ 88%] \u001b[32mBuilding C object glossy/CMakeFiles/glossy.dir/src/sys/time.c.obj\u001b[0m\n",
      "[ 91%] \u001b[32mBuilding C object glossy/CMakeFiles/glossy.dir/src/sys/write.c.obj\u001b[0m\n"
     ]
    },
    {
     "name": "stderr",
     "output_type": "stream",
     "text": [
      "/tools/C/tedkim7/sp24-Baremetal-IDE/glossy/src/sys/write.c: In function '_write':\n",
      "/tools/C/tedkim7/sp24-Baremetal-IDE/glossy/src/sys/write.c:8:42: warning: unused parameter 'fd' [-Wunused-parameter]\n",
      "    8 | __attribute__((weak)) ssize_t _write(int fd, const void *ptr, size_t len) {\n",
      "      |                                      ~~~~^~\n"
     ]
    },
    {
     "name": "stdout",
     "output_type": "stream",
     "text": [
      "[ 94%] \u001b[32m\u001b[1mLinking C static library libglossy.a\u001b[0m\n",
      "gmake[4]: Leaving directory '/bwrcq/C/tedkim7/sp24-Baremetal-IDE/build'\n",
      "[ 94%] Built target glossy\n",
      "gmake[4]: Entering directory '/bwrcq/C/tedkim7/sp24-Baremetal-IDE/build'\n",
      "gmake[4]: Leaving directory '/bwrcq/C/tedkim7/sp24-Baremetal-IDE/build'\n",
      "gmake[4]: Entering directory '/bwrcq/C/tedkim7/sp24-Baremetal-IDE/build'\n",
      "[ 97%] \u001b[32mBuilding C object CMakeFiles/shmoo_bench.dir/shmoo_bench/nearmem_matmul/src/main.c.obj\u001b[0m\n"
     ]
    },
    {
     "name": "stderr",
     "output_type": "stream",
     "text": [
      "/tools/C/tedkim7/sp24-Baremetal-IDE/shmoo_bench/nearmem_matmul/src/main.c: In function 'app_main':\n",
      "/tools/C/tedkim7/sp24-Baremetal-IDE/shmoo_bench/nearmem_matmul/src/main.c:56:47: warning: expression does not compute the number of elements in this array; element type is 'uint64_t' {aka 'volatile long unsigned int'}, not 'uint8_t' {aka 'unsigned char'} [-Wsizeof-array-div]\n",
      "   56 |     int8_t operandReg[sizeof(DMA1->operandReg)/sizeof(uint8_t)];\n",
      "      |                                               ^\n",
      "/tools/C/tedkim7/sp24-Baremetal-IDE/shmoo_bench/nearmem_matmul/src/main.c:56:47: note: add parentheses around the second 'sizeof' to silence this warning\n",
      "/tools/C/tedkim7/sp24-Baremetal-IDE/shmoo_bench/nearmem_matmul/src/main.c:65:43: warning: expression does not compute the number of elements in this array; element type is 'uint64_t' {aka 'volatile long unsigned int'}, not 'int16_t' {aka 'short int'} [-Wsizeof-array-div]\n",
      "   65 |     int16_t expected[sizeof(DMA1->destReg)/sizeof(int16_t)];\n",
      "      |                                           ^\n",
      "/tools/C/tedkim7/sp24-Baremetal-IDE/shmoo_bench/nearmem_matmul/src/main.c:65:43: note: add parentheses around the second 'sizeof' to silence this warning\n",
      "In file included from /tools/C/tedkim7/sp24-Baremetal-IDE/shmoo_bench/nearmem_matmul/src/main.c:24:\n",
      "/tools/C/tedkim7/sp24-Baremetal-IDE/shmoo_bench/nearmem_matmul/include/nearmemdma.h:28:14: warning: passing argument 1 of 'memcpy' discards 'volatile' qualifier from pointer target type [-Wdiscarded-qualifiers]\n",
      "   28 | #define DMA1 ((volatile dma*) 0x8800000)\n",
      "/tools/C/tedkim7/sp24-Baremetal-IDE/shmoo_bench/nearmem_matmul/src/main.c:92:12: note: in expansion of macro 'DMA1'\n",
      "   92 |     memcpy(DMA1->operandReg, operandReg, sizeof(operandReg));\n",
      "      |            ^~~~\n",
      "In file included from /tools/C/tedkim7/sp24-Baremetal-IDE/shmoo_bench/nearmem_matmul/include/main.h:33,\n",
      "                 from /tools/C/tedkim7/sp24-Baremetal-IDE/shmoo_bench/nearmem_matmul/src/main.c:17:\n",
      "/bwrcq/C/ee290-fa24-2/.conda-env/riscv-tools/riscv64-unknown-elf/include/string.h:31:18: note: expected 'void * restrict' but argument is of type 'volatile uint64_t *' {aka 'volatile long unsigned int *'}\n",
      "   31 | void *   memcpy (void *__restrict, const void *__restrict, size_t);\n",
      "      |                  ^\n",
      "/tools/C/tedkim7/sp24-Baremetal-IDE/shmoo_bench/nearmem_matmul/src/main.c:101:20: warning: 'return' with a value, in function returning void [-Wreturn-type]\n",
      "  101 |             return 1;\n",
      "      |                    ^\n",
      "/tools/C/tedkim7/sp24-Baremetal-IDE/shmoo_bench/nearmem_matmul/src/main.c:45:6: note: declared here\n",
      "   45 | void app_main() {\n",
      "      |      ^~~~~~~~\n",
      "/tools/C/tedkim7/sp24-Baremetal-IDE/shmoo_bench/nearmem_matmul/src/main.c:104:14: warning: unused variable 'cpu_end_cycles' [-Wunused-variable]\n",
      "  104 |     uint64_t cpu_end_cycles = READ_CSR(\"mcycle\");\n",
      "      |              ^~~~~~~~~~~~~~\n",
      "/tools/C/tedkim7/sp24-Baremetal-IDE/shmoo_bench/nearmem_matmul/src/main.c:93:14: warning: unused variable 'cpu_start_cycles' [-Wunused-variable]\n",
      "   93 |     uint64_t cpu_start_cycles = READ_CSR(\"mcycle\");\n",
      "      |              ^~~~~~~~~~~~~~~~\n",
      "/tools/C/tedkim7/sp24-Baremetal-IDE/shmoo_bench/nearmem_matmul/src/main.c:65:13: warning: variable 'expected' set but not used [-Wunused-but-set-variable]\n",
      "   65 |     int16_t expected[sizeof(DMA1->destReg)/sizeof(int16_t)];\n",
      "      |             ^~~~~~~~\n",
      "/tools/C/tedkim7/sp24-Baremetal-IDE/shmoo_bench/nearmem_matmul/src/main.c: In function 'main':\n",
      "/tools/C/tedkim7/sp24-Baremetal-IDE/shmoo_bench/nearmem_matmul/src/main.c:146:14: warning: unused parameter 'argc' [-Wunused-parameter]\n",
      "  146 | int main(int argc, char **argv) {\n",
      "      |          ~~~~^~~~\n",
      "/tools/C/tedkim7/sp24-Baremetal-IDE/shmoo_bench/nearmem_matmul/src/main.c:146:27: warning: unused parameter 'argv' [-Wunused-parameter]\n",
      "  146 | int main(int argc, char **argv) {\n",
      "      |                    ~~~~~~~^~~~\n"
     ]
    },
    {
     "name": "stdout",
     "output_type": "stream",
     "text": [
      "[100%] \u001b[32m\u001b[1mLinking C executable shmoo_bench.elf\u001b[0m\n"
     ]
    },
    {
     "name": "stderr",
     "output_type": "stream",
     "text": [
      "/bwrcq/C/ee290-fa24-2/.conda-env/riscv-tools/bin/../lib/gcc/riscv64-unknown-elf/13.2.0/../../../../riscv64-unknown-elf/bin/ld: warning: shmoo_bench.elf has a LOAD segment with RWX permissions\n"
     ]
    },
    {
     "name": "stdout",
     "output_type": "stream",
     "text": [
      "gmake[4]: Leaving directory '/bwrcq/C/tedkim7/sp24-Baremetal-IDE/build'\n",
      "[100%] Built target shmoo_bench\n",
      "gmake[3]: Leaving directory '/bwrcq/C/tedkim7/sp24-Baremetal-IDE/build'\n",
      "gmake[2]: Leaving directory '/bwrcq/C/tedkim7/sp24-Baremetal-IDE/build'\n",
      "gmake[1]: Leaving directory '/bwrcq/C/tedkim7/sp24-Baremetal-IDE/build'\n",
      "**Clock set to: 50MHz**\n",
      "**Voltage set to: +5.00000000E-01\n",
      "V**\n"
     ]
    },
    {
     "name": "stderr",
     "output_type": "stream",
     "text": [
      "warning: tohost and fromhost symbols not in ELF; can't communicate with target\n"
     ]
    },
    {
     "name": "stdout",
     "output_type": "stream",
     "text": [
      "Starting UART-based TSI\n",
      "Usage: ./uart_tsi +tty=/dev/pts/xx <PLUSARGS> <bin>\n",
      "       ./uart_tsi +tty=/dev/ttyxx  <PLUSARGS> <bin>\n",
      "       ./uart_tsi +tty=/dev/ttyxx  +no_hart0_msip +init_write=0x80000000:0xdeadbeef none\n",
      "       ./uart_tsi +tty=/dev/ttyxx  +no_hart0_msip +init_read=0x80000000 none\n",
      "       ./uart_tsi +tty=/dev/ttyxx  +selfcheck <bin>\n",
      "       ./uart_tsi +tty=/dev/ttyxx  +baudrate=921600 <bin>\n",
      "Attempting to open TTY at /dev/ttyUSB2\n",
      "Warning: You selected a non-standard baudrate. This will only work if the HW was configured with this baud-rate\n",
      "Checking connection status with /dev/ttyUSB2\n",
      "Connection succeeded\n",
      "Done, shutting down, flushing UART\n",
      "WARNING: You should probably reset the target before running this program again\n",
      "Done: now reset during the sleep before next iteration\n",
      "**Voltage set to: +5.50000000E-01\n",
      "V**\n"
     ]
    },
    {
     "name": "stderr",
     "output_type": "stream",
     "text": [
      "warning: tohost and fromhost symbols not in ELF; can't communicate with target\n"
     ]
    },
    {
     "name": "stdout",
     "output_type": "stream",
     "text": [
      "Starting UART-based TSI\n",
      "Usage: ./uart_tsi +tty=/dev/pts/xx <PLUSARGS> <bin>\n",
      "       ./uart_tsi +tty=/dev/ttyxx  <PLUSARGS> <bin>\n",
      "       ./uart_tsi +tty=/dev/ttyxx  +no_hart0_msip +init_write=0x80000000:0xdeadbeef none\n",
      "       ./uart_tsi +tty=/dev/ttyxx  +no_hart0_msip +init_read=0x80000000 none\n",
      "       ./uart_tsi +tty=/dev/ttyxx  +selfcheck <bin>\n",
      "       ./uart_tsi +tty=/dev/ttyxx  +baudrate=921600 <bin>\n",
      "Attempting to open TTY at /dev/ttyUSB2\n",
      "Warning: You selected a non-standard baudrate. This will only work if the HW was configured with this baud-rate\n",
      "Checking connection status with /dev/ttyUSB2\n",
      "Connection succeeded\n",
      "Done, shutting down, flushing UART\n",
      "WARNING: You should probably reset the target before running this program again\n",
      "Done: now reset during the sleep before next iteration\n",
      "**Voltage set to: +6.00000000E-01\n",
      "V**\n"
     ]
    },
    {
     "name": "stderr",
     "output_type": "stream",
     "text": [
      "warning: tohost and fromhost symbols not in ELF; can't communicate with target\n"
     ]
    },
    {
     "name": "stdout",
     "output_type": "stream",
     "text": [
      "Starting UART-based TSI\n",
      "Usage: ./uart_tsi +tty=/dev/pts/xx <PLUSARGS> <bin>\n",
      "       ./uart_tsi +tty=/dev/ttyxx  <PLUSARGS> <bin>\n",
      "       ./uart_tsi +tty=/dev/ttyxx  +no_hart0_msip +init_write=0x80000000:0xdeadbeef none\n",
      "       ./uart_tsi +tty=/dev/ttyxx  +no_hart0_msip +init_read=0x80000000 none\n",
      "       ./uart_tsi +tty=/dev/ttyxx  +selfcheck <bin>\n",
      "       ./uart_tsi +tty=/dev/ttyxx  +baudrate=921600 <bin>\n",
      "Attempting to open TTY at /dev/ttyUSB2\n",
      "Warning: You selected a non-standard baudrate. This will only work if the HW was configured with this baud-rate\n",
      "Checking connection status with /dev/ttyUSB2\n",
      "Connection succeeded\n",
      "Done, shutting down, flushing UART\n",
      "WARNING: You should probably reset the target before running this program again\n",
      "Done: now reset during the sleep before next iteration\n",
      "**Voltage set to: +6.50000000E-01\n",
      "V**\n"
     ]
    },
    {
     "name": "stderr",
     "output_type": "stream",
     "text": [
      "warning: tohost and fromhost symbols not in ELF; can't communicate with target\n"
     ]
    },
    {
     "name": "stdout",
     "output_type": "stream",
     "text": [
      "Starting UART-based TSI\n",
      "Usage: ./uart_tsi +tty=/dev/pts/xx <PLUSARGS> <bin>\n",
      "       ./uart_tsi +tty=/dev/ttyxx  <PLUSARGS> <bin>\n",
      "       ./uart_tsi +tty=/dev/ttyxx  +no_hart0_msip +init_write=0x80000000:0xdeadbeef none\n",
      "       ./uart_tsi +tty=/dev/ttyxx  +no_hart0_msip +init_read=0x80000000 none\n",
      "       ./uart_tsi +tty=/dev/ttyxx  +selfcheck <bin>\n",
      "       ./uart_tsi +tty=/dev/ttyxx  +baudrate=921600 <bin>\n",
      "Attempting to open TTY at /dev/ttyUSB2\n",
      "Warning: You selected a non-standard baudrate. This will only work if the HW was configured with this baud-rate\n",
      "Checking connection status with /dev/ttyUSB2\n",
      "Connection succeeded\n",
      "Done, shutting down, flushing UART\n",
      "WARNING: You should probably reset the target before running this program again\n",
      "Done: now reset during the sleep before next iteration\n",
      "**Voltage set to: +7.00000000E-01\n",
      "V**\n"
     ]
    },
    {
     "name": "stderr",
     "output_type": "stream",
     "text": [
      "warning: tohost and fromhost symbols not in ELF; can't communicate with target\n"
     ]
    },
    {
     "name": "stdout",
     "output_type": "stream",
     "text": [
      "Starting UART-based TSI\n",
      "Usage: ./uart_tsi +tty=/dev/pts/xx <PLUSARGS> <bin>\n",
      "       ./uart_tsi +tty=/dev/ttyxx  <PLUSARGS> <bin>\n",
      "       ./uart_tsi +tty=/dev/ttyxx  +no_hart0_msip +init_write=0x80000000:0xdeadbeef none\n",
      "       ./uart_tsi +tty=/dev/ttyxx  +no_hart0_msip +init_read=0x80000000 none\n",
      "       ./uart_tsi +tty=/dev/ttyxx  +selfcheck <bin>\n",
      "       ./uart_tsi +tty=/dev/ttyxx  +baudrate=921600 <bin>\n",
      "Attempting to open TTY at /dev/ttyUSB2\n",
      "Warning: You selected a non-standard baudrate. This will only work if the HW was configured with this baud-rate\n",
      "Checking connection status with /dev/ttyUSB2\n",
      "Connection succeeded\n",
      "Done, shutting down, flushing UART\n",
      "WARNING: You should probably reset the target before running this program again\n",
      "Done: now reset during the sleep before next iteration\n",
      "**Voltage set to: +7.50000000E-01\n",
      "V**\n"
     ]
    },
    {
     "name": "stderr",
     "output_type": "stream",
     "text": [
      "warning: tohost and fromhost symbols not in ELF; can't communicate with target\n"
     ]
    },
    {
     "name": "stdout",
     "output_type": "stream",
     "text": [
      "Starting UART-based TSI\n",
      "Usage: ./uart_tsi +tty=/dev/pts/xx <PLUSARGS> <bin>\n",
      "       ./uart_tsi +tty=/dev/ttyxx  <PLUSARGS> <bin>\n",
      "       ./uart_tsi +tty=/dev/ttyxx  +no_hart0_msip +init_write=0x80000000:0xdeadbeef none\n",
      "       ./uart_tsi +tty=/dev/ttyxx  +no_hart0_msip +init_read=0x80000000 none\n",
      "       ./uart_tsi +tty=/dev/ttyxx  +selfcheck <bin>\n",
      "       ./uart_tsi +tty=/dev/ttyxx  +baudrate=921600 <bin>\n",
      "Attempting to open TTY at /dev/ttyUSB2\n",
      "Warning: You selected a non-standard baudrate. This will only work if the HW was configured with this baud-rate\n",
      "Checking connection status with /dev/ttyUSB2\n",
      "Connection succeeded\n",
      "Done, shutting down, flushing UART\n",
      "WARNING: You should probably reset the target before running this program again\n",
      "Done: now reset during the sleep before next iteration\n",
      "**Voltage set to: +8.00000000E-01\n",
      "V**\n"
     ]
    },
    {
     "name": "stderr",
     "output_type": "stream",
     "text": [
      "warning: tohost and fromhost symbols not in ELF; can't communicate with target\n"
     ]
    },
    {
     "name": "stdout",
     "output_type": "stream",
     "text": [
      "Starting UART-based TSI\n",
      "Usage: ./uart_tsi +tty=/dev/pts/xx <PLUSARGS> <bin>\n",
      "       ./uart_tsi +tty=/dev/ttyxx  <PLUSARGS> <bin>\n",
      "       ./uart_tsi +tty=/dev/ttyxx  +no_hart0_msip +init_write=0x80000000:0xdeadbeef none\n",
      "       ./uart_tsi +tty=/dev/ttyxx  +no_hart0_msip +init_read=0x80000000 none\n",
      "       ./uart_tsi +tty=/dev/ttyxx  +selfcheck <bin>\n",
      "       ./uart_tsi +tty=/dev/ttyxx  +baudrate=921600 <bin>\n",
      "Attempting to open TTY at /dev/ttyUSB2\n",
      "Warning: You selected a non-standard baudrate. This will only work if the HW was configured with this baud-rate\n",
      "Checking connection status with /dev/ttyUSB2\n",
      "Connection succeeded\n",
      "Done, shutting down, flushing UART\n",
      "WARNING: You should probably reset the target before running this program again\n",
      "Done: now reset during the sleep before next iteration\n",
      "**Voltage set to: +8.50000000E-01\n",
      "V**\n"
     ]
    },
    {
     "name": "stderr",
     "output_type": "stream",
     "text": [
      "warning: tohost and fromhost symbols not in ELF; can't communicate with target\n"
     ]
    },
    {
     "name": "stdout",
     "output_type": "stream",
     "text": [
      "Starting UART-based TSI\n",
      "Usage: ./uart_tsi +tty=/dev/pts/xx <PLUSARGS> <bin>\n",
      "       ./uart_tsi +tty=/dev/ttyxx  <PLUSARGS> <bin>\n",
      "       ./uart_tsi +tty=/dev/ttyxx  +no_hart0_msip +init_write=0x80000000:0xdeadbeef none\n",
      "       ./uart_tsi +tty=/dev/ttyxx  +no_hart0_msip +init_read=0x80000000 none\n",
      "       ./uart_tsi +tty=/dev/ttyxx  +selfcheck <bin>\n",
      "       ./uart_tsi +tty=/dev/ttyxx  +baudrate=921600 <bin>\n",
      "Attempting to open TTY at /dev/ttyUSB2\n",
      "Warning: You selected a non-standard baudrate. This will only work if the HW was configured with this baud-rate\n",
      "Checking connection status with /dev/ttyUSB2\n",
      "Connection succeeded\n",
      "Done, shutting down, flushing UART\n",
      "WARNING: You should probably reset the target before running this program again\n",
      "Done: now reset during the sleep before next iteration\n",
      "**Voltage set to: +9.00000000E-01\n",
      "V**\n"
     ]
    },
    {
     "name": "stderr",
     "output_type": "stream",
     "text": [
      "warning: tohost and fromhost symbols not in ELF; can't communicate with target\n"
     ]
    },
    {
     "name": "stdout",
     "output_type": "stream",
     "text": [
      "Starting UART-based TSI\n",
      "Usage: ./uart_tsi +tty=/dev/pts/xx <PLUSARGS> <bin>\n",
      "       ./uart_tsi +tty=/dev/ttyxx  <PLUSARGS> <bin>\n",
      "       ./uart_tsi +tty=/dev/ttyxx  +no_hart0_msip +init_write=0x80000000:0xdeadbeef none\n",
      "       ./uart_tsi +tty=/dev/ttyxx  +no_hart0_msip +init_read=0x80000000 none\n",
      "       ./uart_tsi +tty=/dev/ttyxx  +selfcheck <bin>\n",
      "       ./uart_tsi +tty=/dev/ttyxx  +baudrate=921600 <bin>\n",
      "Attempting to open TTY at /dev/ttyUSB2\n",
      "Warning: You selected a non-standard baudrate. This will only work if the HW was configured with this baud-rate\n",
      "Checking connection status with /dev/ttyUSB2\n",
      "Connection succeeded\n",
      "Done, shutting down, flushing UART\n",
      "WARNING: You should probably reset the target before running this program again\n",
      "Done: now reset during the sleep before next iteration\n",
      "**Voltage set to: +9.50000000E-01\n",
      "V**\n"
     ]
    },
    {
     "name": "stderr",
     "output_type": "stream",
     "text": [
      "warning: tohost and fromhost symbols not in ELF; can't communicate with target\n"
     ]
    },
    {
     "name": "stdout",
     "output_type": "stream",
     "text": [
      "Starting UART-based TSI\n",
      "Usage: ./uart_tsi +tty=/dev/pts/xx <PLUSARGS> <bin>\n",
      "       ./uart_tsi +tty=/dev/ttyxx  <PLUSARGS> <bin>\n",
      "       ./uart_tsi +tty=/dev/ttyxx  +no_hart0_msip +init_write=0x80000000:0xdeadbeef none\n",
      "       ./uart_tsi +tty=/dev/ttyxx  +no_hart0_msip +init_read=0x80000000 none\n",
      "       ./uart_tsi +tty=/dev/ttyxx  +selfcheck <bin>\n",
      "       ./uart_tsi +tty=/dev/ttyxx  +baudrate=921600 <bin>\n",
      "Attempting to open TTY at /dev/ttyUSB2\n",
      "Warning: You selected a non-standard baudrate. This will only work if the HW was configured with this baud-rate\n",
      "Checking connection status with /dev/ttyUSB2\n",
      "Connection succeeded\n",
      "Done, shutting down, flushing UART\n",
      "WARNING: You should probably reset the target before running this program again\n",
      "Done: now reset during the sleep before next iteration\n",
      "**Voltage set to: +1.00000000E+00\n",
      "V**\n"
     ]
    },
    {
     "name": "stderr",
     "output_type": "stream",
     "text": [
      "warning: tohost and fromhost symbols not in ELF; can't communicate with target\n"
     ]
    },
    {
     "name": "stdout",
     "output_type": "stream",
     "text": [
      "Starting UART-based TSI\n",
      "Usage: ./uart_tsi +tty=/dev/pts/xx <PLUSARGS> <bin>\n",
      "       ./uart_tsi +tty=/dev/ttyxx  <PLUSARGS> <bin>\n",
      "       ./uart_tsi +tty=/dev/ttyxx  +no_hart0_msip +init_write=0x80000000:0xdeadbeef none\n",
      "       ./uart_tsi +tty=/dev/ttyxx  +no_hart0_msip +init_read=0x80000000 none\n",
      "       ./uart_tsi +tty=/dev/ttyxx  +selfcheck <bin>\n",
      "       ./uart_tsi +tty=/dev/ttyxx  +baudrate=921600 <bin>\n",
      "Attempting to open TTY at /dev/ttyUSB2\n",
      "Warning: You selected a non-standard baudrate. This will only work if the HW was configured with this baud-rate\n",
      "Checking connection status with /dev/ttyUSB2\n",
      "Connection succeeded\n",
      "Done, shutting down, flushing UART\n",
      "WARNING: You should probably reset the target before running this program again\n",
      "Done: now reset during the sleep before next iteration\n",
      "rm -rf build\n",
      "cmake -S ./ -B ./build/ -D CMAKE_TOOLCHAIN_FILE=./riscv-gcc.cmake -DCHIP=bearly24\n",
      "-- The ASM compiler identification is GNU\n",
      "-- Found assembler: /tools/C/ee290-fa24-2/.conda-env/riscv-tools/bin/riscv64-unknown-elf-gcc\n",
      "-- The C compiler identification is GNU 13.2.0\n",
      "-- The CXX compiler identification is GNU 13.2.0\n",
      "-- Detecting C compiler ABI info\n",
      "-- Detecting C compiler ABI info - done\n",
      "-- Check for working C compiler: /tools/C/ee290-fa24-2/.conda-env/riscv-tools/bin/riscv64-unknown-elf-gcc - skipped\n",
      "-- Detecting C compile features\n",
      "-- Detecting C compile features - done\n",
      "-- Detecting CXX compiler ABI info\n",
      "-- Detecting CXX compiler ABI info - done\n",
      "-- Check for working CXX compiler: /tools/C/ee290-fa24-2/.conda-env/riscv-tools/bin/riscv64-unknown-elf-g++ - skipped\n",
      "-- Detecting CXX compile features\n",
      "-- Detecting CXX compile features - done\n",
      "-- Including HTIF to target\n",
      "-- Including CLINT to target\n",
      "-- ================ Glossy config ================\n",
      "--  Building for CHIP: \"bearly24\"\n",
      "--  Reading config from \"/tools/C/tedkim7/sp24-Baremetal-IDE/platform/bearly24/CMakeLists.txt\"\n",
      "--  Terminal Device: UART0\n",
      "--  Linker Script: /tools/C/tedkim7/sp24-Baremetal-IDE/platform/bearly24/bearly24.ld\n",
      "-- ===============================================\n",
      "-- Configuring done (4.0s)\n",
      "-- Generating done (1.6s)\n",
      "-- Build files have been written to: /tools/C/tedkim7/sp24-Baremetal-IDE/build\n",
      "cmake --build ./build/ --target shmoo_bench\n",
      "gmake[1]: Entering directory '/bwrcq/C/tedkim7/sp24-Baremetal-IDE/build'\n",
      "gmake[2]: Entering directory '/bwrcq/C/tedkim7/sp24-Baremetal-IDE/build'\n",
      "gmake[3]: Entering directory '/bwrcq/C/tedkim7/sp24-Baremetal-IDE/build'\n",
      "gmake[4]: Entering directory '/bwrcq/C/tedkim7/sp24-Baremetal-IDE/build'\n",
      "gmake[4]: Leaving directory '/bwrcq/C/tedkim7/sp24-Baremetal-IDE/build'\n",
      "gmake[4]: Entering directory '/bwrcq/C/tedkim7/sp24-Baremetal-IDE/build'\n",
      "[  2%] \u001b[32mBuilding C object driver/rocket-chip-blocks/uart/CMakeFiles/uart.dir/uart.c.obj\u001b[0m\n"
     ]
    },
    {
     "name": "stderr",
     "output_type": "stream",
     "text": [
      "/tools/C/tedkim7/sp24-Baremetal-IDE/driver/rocket-chip-blocks/uart/uart.c: In function 'uart_receive':\n",
      "/tools/C/tedkim7/sp24-Baremetal-IDE/driver/rocket-chip-blocks/uart/uart.c:35:78: warning: unused parameter 'timeout' [-Wunused-parameter]\n",
      "   35 | Status uart_receive(UART_Type *UARTx, uint8_t *data, uint16_t size, uint32_t timeout) {\n",
      "      |                                                                     ~~~~~~~~~^~~~~~~\n",
      "/tools/C/tedkim7/sp24-Baremetal-IDE/driver/rocket-chip-blocks/uart/uart.c: In function 'uart_transmit':\n",
      "/tools/C/tedkim7/sp24-Baremetal-IDE/driver/rocket-chip-blocks/uart/uart.c:50:85: warning: unused parameter 'timeout' [-Wunused-parameter]\n",
      "   50 | Status uart_transmit(UART_Type *UARTx, const uint8_t *data, uint16_t size, uint32_t timeout) {\n",
      "      |                                                                            ~~~~~~~~~^~~~~~~\n"
     ]
    },
    {
     "name": "stdout",
     "output_type": "stream",
     "text": [
      "[  5%] \u001b[32m\u001b[1mLinking C static library libuart.a\u001b[0m\n",
      "gmake[4]: Leaving directory '/bwrcq/C/tedkim7/sp24-Baremetal-IDE/build'\n",
      "[  5%] Built target uart\n",
      "gmake[4]: Entering directory '/bwrcq/C/tedkim7/sp24-Baremetal-IDE/build'\n",
      "gmake[4]: Leaving directory '/bwrcq/C/tedkim7/sp24-Baremetal-IDE/build'\n",
      "gmake[4]: Entering directory '/bwrcq/C/tedkim7/sp24-Baremetal-IDE/build'\n",
      "[  8%] \u001b[32mBuilding C object driver/intel/pll/CMakeFiles/intel-pll.dir/pll.c.obj\u001b[0m\n",
      "[ 11%] \u001b[32m\u001b[1mLinking C static library libintel-pll.a\u001b[0m\n",
      "gmake[4]: Leaving directory '/bwrcq/C/tedkim7/sp24-Baremetal-IDE/build'\n",
      "[ 11%] Built target intel-pll\n",
      "gmake[4]: Entering directory '/bwrcq/C/tedkim7/sp24-Baremetal-IDE/build'\n",
      "gmake[4]: Leaving directory '/bwrcq/C/tedkim7/sp24-Baremetal-IDE/build'\n",
      "gmake[4]: Entering directory '/bwrcq/C/tedkim7/sp24-Baremetal-IDE/build'\n",
      "[ 13%] \u001b[32mBuilding C object driver/rocket-chip/clint/CMakeFiles/clint.dir/clint.c.obj\u001b[0m\n",
      "[ 16%] \u001b[32m\u001b[1mLinking C static library libclint.a\u001b[0m\n",
      "gmake[4]: Leaving directory '/bwrcq/C/tedkim7/sp24-Baremetal-IDE/build'\n",
      "[ 16%] Built target clint\n",
      "gmake[4]: Entering directory '/bwrcq/C/tedkim7/sp24-Baremetal-IDE/build'\n",
      "gmake[4]: Leaving directory '/bwrcq/C/tedkim7/sp24-Baremetal-IDE/build'\n",
      "gmake[4]: Entering directory '/bwrcq/C/tedkim7/sp24-Baremetal-IDE/build'\n",
      "[ 19%] \u001b[32mBuilding C object driver/rocket-chip/rocketcore/CMakeFiles/rocketcore.dir/rocketcore.c.obj\u001b[0m\n",
      "[ 22%] \u001b[32m\u001b[1mLinking C static library librocketcore.a\u001b[0m\n",
      "gmake[4]: Leaving directory '/bwrcq/C/tedkim7/sp24-Baremetal-IDE/build'\n",
      "[ 22%] Built target rocketcore\n",
      "gmake[4]: Entering directory '/bwrcq/C/tedkim7/sp24-Baremetal-IDE/build'\n",
      "gmake[4]: Leaving directory '/bwrcq/C/tedkim7/sp24-Baremetal-IDE/build'\n",
      "gmake[4]: Entering directory '/bwrcq/C/tedkim7/sp24-Baremetal-IDE/build'\n",
      "[ 25%] \u001b[32mBuilding C object driver/rocket-chip-blocks/i2c/CMakeFiles/i2c.dir/i2c.c.obj\u001b[0m\n"
     ]
    },
    {
     "name": "stderr",
     "output_type": "stream",
     "text": [
      "/tools/C/tedkim7/sp24-Baremetal-IDE/driver/rocket-chip-blocks/i2c/i2c.c: In function 'i2c_init':\n",
      "/tools/C/tedkim7/sp24-Baremetal-IDE/driver/rocket-chip-blocks/i2c/i2c.c:13:45: warning: unused parameter 'I2C_init' [-Wunused-parameter]\n",
      "   13 | void i2c_init(I2C_Type *I2Cx, I2C_InitType *I2C_init) {\n",
      "      |                               ~~~~~~~~~~~~~~^~~~~~~~\n",
      "/tools/C/tedkim7/sp24-Baremetal-IDE/driver/rocket-chip-blocks/i2c/i2c.c: In function 'i2c_wait_for_flag':\n",
      "/tools/C/tedkim7/sp24-Baremetal-IDE/driver/rocket-chip-blocks/i2c/i2c.c:30:9: warning: implicit declaration of function 'CLINT_getTime' [-Wimplicit-function-declaration]\n",
      "   30 |     if (CLINT_getTime() > (timestart + timeout)) {\n",
      "      |         ^~~~~~~~~~~~~\n",
      "/tools/C/tedkim7/sp24-Baremetal-IDE/driver/rocket-chip-blocks/i2c/i2c.c:30:25: warning: comparison of integer expressions of different signedness: 'int' and 'uint32_t' {aka 'unsigned int'} [-Wsign-compare]\n",
      "   30 |     if (CLINT_getTime() > (timestart + timeout)) {\n",
      "      |                         ^\n",
      "/tools/C/tedkim7/sp24-Baremetal-IDE/driver/rocket-chip-blocks/i2c/i2c.c: In function 'i2c_master_receive':\n",
      "/tools/C/tedkim7/sp24-Baremetal-IDE/driver/rocket-chip-blocks/i2c/i2c.c:53:24: warning: implicit declaration of function 'clint_get_time' [-Wimplicit-function-declaration]\n",
      "   53 |   uint64_t timestart = clint_get_time();\n",
      "      |                        ^~~~~~~~~~~~~~\n",
      "/tools/C/tedkim7/sp24-Baremetal-IDE/driver/rocket-chip-blocks/i2c/i2c.c: In function 'i2c_wait_for_transaction':\n",
      "/tools/C/tedkim7/sp24-Baremetal-IDE/driver/rocket-chip-blocks/i2c/i2c.c:50:1: warning: control reaches end of non-void function [-Wreturn-type]\n",
      "   50 | }\n",
      "      | ^\n"
     ]
    },
    {
     "name": "stdout",
     "output_type": "stream",
     "text": [
      "[ 27%] \u001b[32m\u001b[1mLinking C static library libi2c.a\u001b[0m\n",
      "gmake[4]: Leaving directory '/bwrcq/C/tedkim7/sp24-Baremetal-IDE/build'\n",
      "[ 27%] Built target i2c\n",
      "gmake[4]: Entering directory '/bwrcq/C/tedkim7/sp24-Baremetal-IDE/build'\n",
      "gmake[4]: Leaving directory '/bwrcq/C/tedkim7/sp24-Baremetal-IDE/build'\n",
      "gmake[4]: Entering directory '/bwrcq/C/tedkim7/sp24-Baremetal-IDE/build'\n",
      "[ 30%] \u001b[32mBuilding C object driver/rocket-chip-blocks/spi/CMakeFiles/spi.dir/spi.c.obj\u001b[0m\n"
     ]
    },
    {
     "name": "stderr",
     "output_type": "stream",
     "text": [
      "/tools/C/tedkim7/sp24-Baremetal-IDE/driver/rocket-chip-blocks/spi/spi.c: In function 'spi_receive':\n",
      "/tools/C/tedkim7/sp24-Baremetal-IDE/driver/rocket-chip-blocks/spi/spi.c:56:75: warning: unused parameter 'timeout' [-Wunused-parameter]\n",
      "   56 | Status spi_receive(SPI_Type *SPIx, uint8_t *data, uint16_t size, uint64_t timeout) {\n",
      "      |                                                                  ~~~~~~~~~^~~~~~~\n",
      "/tools/C/tedkim7/sp24-Baremetal-IDE/driver/rocket-chip-blocks/spi/spi.c: In function 'spi_transmit':\n",
      "/tools/C/tedkim7/sp24-Baremetal-IDE/driver/rocket-chip-blocks/spi/spi.c:68:76: warning: unused parameter 'timeout' [-Wunused-parameter]\n",
      "   68 | Status spi_transmit(SPI_Type *SPIx, uint8_t *data, uint16_t size, uint64_t timeout) {\n",
      "      |                                                                   ~~~~~~~~~^~~~~~~\n",
      "/tools/C/tedkim7/sp24-Baremetal-IDE/driver/rocket-chip-blocks/spi/spi.c: In function 'spi_transmit_receive':\n",
      "/tools/C/tedkim7/sp24-Baremetal-IDE/driver/rocket-chip-blocks/spi/spi.c:80:105: warning: unused parameter 'timeout' [-Wunused-parameter]\n",
      "   80 | Status spi_transmit_receive(SPI_Type *SPIx, uint8_t *tx_data, uint8_t *rx_data, uint16_t size, uint64_t timeout) {\n",
      "      |                                                                                                ~~~~~~~~~^~~~~~~\n"
     ]
    },
    {
     "name": "stdout",
     "output_type": "stream",
     "text": [
      "[ 33%] \u001b[32m\u001b[1mLinking C static library libspi.a\u001b[0m\n",
      "gmake[4]: Leaving directory '/bwrcq/C/tedkim7/sp24-Baremetal-IDE/build'\n",
      "[ 33%] Built target spi\n",
      "gmake[4]: Entering directory '/bwrcq/C/tedkim7/sp24-Baremetal-IDE/build'\n",
      "gmake[4]: Leaving directory '/bwrcq/C/tedkim7/sp24-Baremetal-IDE/build'\n",
      "gmake[4]: Entering directory '/bwrcq/C/tedkim7/sp24-Baremetal-IDE/build'\n",
      "[ 36%] \u001b[32mBuilding C object platform/bearly24/CMakeFiles/chip-config.dir/chip.c.obj\u001b[0m\n",
      "[ 38%] \u001b[32mBuilding C object platform/bearly24/CMakeFiles/chip-config.dir/src/hal_dma.c.obj\u001b[0m\n"
     ]
    },
    {
     "name": "stderr",
     "output_type": "stream",
     "text": [
      "/tools/C/tedkim7/sp24-Baremetal-IDE/platform/bearly24/src/hal_dma.c: In function 'dma_init_memcpy':\n",
      "/tools/C/tedkim7/sp24-Baremetal-IDE/platform/bearly24/src/hal_dma.c:20:18: warning: assignment to 'volatile void *' from 'long unsigned int' makes pointer from integer without a cast [-Wint-conversion]\n",
      "   20 |   DMAX->SRC_ADDR = (uint64_t) src;\n",
      "      |                  ^\n",
      "/tools/C/tedkim7/sp24-Baremetal-IDE/platform/bearly24/src/hal_dma.c:21:19: warning: assignment to 'volatile void *' from 'long unsigned int' makes pointer from integer without a cast [-Wint-conversion]\n",
      "   21 |   DMAX->DEST_ADDR = (uint64_t) dst;\n",
      "      |                   ^\n",
      "/tools/C/tedkim7/sp24-Baremetal-IDE/platform/bearly24/src/hal_dma.c: In function 'dma_init_MAC':\n",
      "/tools/C/tedkim7/sp24-Baremetal-IDE/platform/bearly24/src/hal_dma.c:33:18: warning: assignment to 'volatile void *' from 'long unsigned int' makes pointer from integer without a cast [-Wint-conversion]\n",
      "   33 |   DMAX->SRC_ADDR = (uint64_t) src;\n",
      "      |                  ^\n"
     ]
    },
    {
     "name": "stdout",
     "output_type": "stream",
     "text": [
      "[ 41%] \u001b[32mBuilding C object platform/bearly24/CMakeFiles/chip-config.dir/src/hal_mmio.c.obj\u001b[0m\n",
      "[ 44%] \u001b[32m\u001b[1mLinking C static library libchip-config.a\u001b[0m\n",
      "gmake[4]: Leaving directory '/bwrcq/C/tedkim7/sp24-Baremetal-IDE/build'\n",
      "[ 44%] Built target chip-config\n",
      "gmake[4]: Entering directory '/bwrcq/C/tedkim7/sp24-Baremetal-IDE/build'\n",
      "gmake[4]: Leaving directory '/bwrcq/C/tedkim7/sp24-Baremetal-IDE/build'\n",
      "gmake[4]: Entering directory '/bwrcq/C/tedkim7/sp24-Baremetal-IDE/build'\n",
      "[ 47%] \u001b[32mBuilding ASM object glossy/CMakeFiles/glossy.dir/src/startup/crt0.S.obj\u001b[0m\n",
      "[ 50%] \u001b[32mBuilding ASM object glossy/CMakeFiles/glossy.dir/src/startup/init.S.obj\u001b[0m\n",
      "[ 52%] \u001b[32mBuilding C object glossy/CMakeFiles/glossy.dir/src/startup/secondary.c.obj\u001b[0m\n",
      "[ 55%] \u001b[32mBuilding ASM object glossy/CMakeFiles/glossy.dir/src/trap/trap.S.obj\u001b[0m\n",
      "[ 58%] \u001b[32mBuilding C object glossy/CMakeFiles/glossy.dir/src/trap/trap.c.obj\u001b[0m\n"
     ]
    },
    {
     "name": "stderr",
     "output_type": "stream",
     "text": [
      "/tools/C/tedkim7/sp24-Baremetal-IDE/glossy/src/trap/trap.c: In function 'trap_handler':\n",
      "/tools/C/tedkim7/sp24-Baremetal-IDE/glossy/src/trap/trap.c:73:92: warning: unused parameter 'm_tval' [-Wunused-parameter]\n",
      "   73 | __attribute__((weak)) uintptr_t trap_handler(uintptr_t m_epc, uintptr_t m_cause, uintptr_t m_tval, uintptr_t regs[32]) {\n",
      "      |                                                                                  ~~~~~~~~~~^~~~~~\n",
      "/tools/C/tedkim7/sp24-Baremetal-IDE/glossy/src/trap/trap.c:73:110: warning: unused parameter 'regs' [-Wunused-parameter]\n",
      "   73 | __attribute__((weak)) uintptr_t trap_handler(uintptr_t m_epc, uintptr_t m_cause, uintptr_t m_tval, uintptr_t regs[32]) {\n",
      "      |                                                                                                    ~~~~~~~~~~^~~~~~~~\n"
     ]
    },
    {
     "name": "stdout",
     "output_type": "stream",
     "text": [
      "[ 61%] \u001b[32mBuilding C object glossy/CMakeFiles/glossy.dir/src/sys/close.c.obj\u001b[0m\n"
     ]
    },
    {
     "name": "stderr",
     "output_type": "stream",
     "text": [
      "/tools/C/tedkim7/sp24-Baremetal-IDE/glossy/src/sys/close.c: In function '_close':\n",
      "/tools/C/tedkim7/sp24-Baremetal-IDE/glossy/src/sys/close.c:2:38: warning: unused parameter 'file' [-Wunused-parameter]\n",
      "    2 | __attribute__((weak)) int _close(int file) {\n",
      "      |                                  ~~~~^~~~\n"
     ]
    },
    {
     "name": "stdout",
     "output_type": "stream",
     "text": [
      "[ 63%] \u001b[32mBuilding C object glossy/CMakeFiles/glossy.dir/src/sys/exit.c.obj\u001b[0m\n"
     ]
    },
    {
     "name": "stderr",
     "output_type": "stream",
     "text": [
      "/tools/C/tedkim7/sp24-Baremetal-IDE/glossy/src/sys/exit.c: In function '_exit':\n",
      "/tools/C/tedkim7/sp24-Baremetal-IDE/glossy/src/sys/exit.c:4:48: warning: unused parameter 'code' [-Wunused-parameter]\n",
      "    4 | __attribute__((weak, noreturn)) void _exit(int code) {\n",
      "      |                                            ~~~~^~~~\n"
     ]
    },
    {
     "name": "stdout",
     "output_type": "stream",
     "text": [
      "[ 66%] \u001b[32mBuilding C object glossy/CMakeFiles/glossy.dir/src/sys/fstat.c.obj\u001b[0m\n"
     ]
    },
    {
     "name": "stderr",
     "output_type": "stream",
     "text": [
      "/tools/C/tedkim7/sp24-Baremetal-IDE/glossy/src/sys/fstat.c: In function '_fstat':\n",
      "/tools/C/tedkim7/sp24-Baremetal-IDE/glossy/src/sys/fstat.c:4:38: warning: unused parameter 'file' [-Wunused-parameter]\n",
      "    4 | __attribute__((weak)) int _fstat(int file, struct stat *st) {\n",
      "      |                                  ~~~~^~~~\n",
      "/tools/C/tedkim7/sp24-Baremetal-IDE/glossy/src/sys/fstat.c:4:57: warning: unused parameter 'st' [-Wunused-parameter]\n",
      "    4 | __attribute__((weak)) int _fstat(int file, struct stat *st) {\n",
      "      |                                            ~~~~~~~~~~~~~^~\n"
     ]
    },
    {
     "name": "stdout",
     "output_type": "stream",
     "text": [
      "[ 69%] \u001b[32mBuilding C object glossy/CMakeFiles/glossy.dir/src/sys/getpid.c.obj\u001b[0m\n",
      "[ 72%] \u001b[32mBuilding C object glossy/CMakeFiles/glossy.dir/src/sys/isatty.c.obj\u001b[0m\n",
      "[ 75%] \u001b[32mBuilding C object glossy/CMakeFiles/glossy.dir/src/sys/kill.c.obj\u001b[0m\n"
     ]
    },
    {
     "name": "stderr",
     "output_type": "stream",
     "text": [
      "/tools/C/tedkim7/sp24-Baremetal-IDE/glossy/src/sys/kill.c: In function '_kill':\n",
      "/tools/C/tedkim7/sp24-Baremetal-IDE/glossy/src/sys/kill.c:2:37: warning: unused parameter 'pid' [-Wunused-parameter]\n",
      "    2 | __attribute__((weak)) int _kill(int pid, int sig) {\n",
      "      |                                 ~~~~^~~\n",
      "/tools/C/tedkim7/sp24-Baremetal-IDE/glossy/src/sys/kill.c:2:46: warning: unused parameter 'sig' [-Wunused-parameter]\n",
      "    2 | __attribute__((weak)) int _kill(int pid, int sig) {\n",
      "      |                                          ~~~~^~~\n"
     ]
    },
    {
     "name": "stdout",
     "output_type": "stream",
     "text": [
      "[ 77%] \u001b[32mBuilding C object glossy/CMakeFiles/glossy.dir/src/sys/lseek.c.obj\u001b[0m\n"
     ]
    },
    {
     "name": "stderr",
     "output_type": "stream",
     "text": [
      "/tools/C/tedkim7/sp24-Baremetal-IDE/glossy/src/sys/lseek.c: In function '_lseek':\n",
      "/tools/C/tedkim7/sp24-Baremetal-IDE/glossy/src/sys/lseek.c:5:40: warning: unused parameter 'file' [-Wunused-parameter]\n",
      "    5 | __attribute__((weak)) off_t _lseek(int file, off_t ptr, int dir) {\n",
      "      |                                    ~~~~^~~~\n",
      "/tools/C/tedkim7/sp24-Baremetal-IDE/glossy/src/sys/lseek.c:5:52: warning: unused parameter 'ptr' [-Wunused-parameter]\n",
      "    5 | __attribute__((weak)) off_t _lseek(int file, off_t ptr, int dir) {\n",
      "      |                                              ~~~~~~^~~\n",
      "/tools/C/tedkim7/sp24-Baremetal-IDE/glossy/src/sys/lseek.c:5:61: warning: unused parameter 'dir' [-Wunused-parameter]\n",
      "    5 | __attribute__((weak)) off_t _lseek(int file, off_t ptr, int dir) {\n",
      "      |                                                         ~~~~^~~\n"
     ]
    },
    {
     "name": "stdout",
     "output_type": "stream",
     "text": [
      "[ 80%] \u001b[32mBuilding C object glossy/CMakeFiles/glossy.dir/src/sys/open.c.obj\u001b[0m\n"
     ]
    },
    {
     "name": "stderr",
     "output_type": "stream",
     "text": [
      "/tools/C/tedkim7/sp24-Baremetal-IDE/glossy/src/sys/open.c: In function '_open':\n",
      "/tools/C/tedkim7/sp24-Baremetal-IDE/glossy/src/sys/open.c:3:45: warning: unused parameter 'path' [-Wunused-parameter]\n",
      "    3 | __attribute__((weak)) int _open(const char *path, int flags, int mode) {\n",
      "      |                                 ~~~~~~~~~~~~^~~~\n",
      "/tools/C/tedkim7/sp24-Baremetal-IDE/glossy/src/sys/open.c:3:55: warning: unused parameter 'flags' [-Wunused-parameter]\n",
      "    3 | __attribute__((weak)) int _open(const char *path, int flags, int mode) {\n",
      "      |                                                   ~~~~^~~~~\n",
      "/tools/C/tedkim7/sp24-Baremetal-IDE/glossy/src/sys/open.c:3:66: warning: unused parameter 'mode' [-Wunused-parameter]\n",
      "    3 | __attribute__((weak)) int _open(const char *path, int flags, int mode) {\n",
      "      |                                                              ~~~~^~~~\n"
     ]
    },
    {
     "name": "stdout",
     "output_type": "stream",
     "text": [
      "[ 83%] \u001b[32mBuilding C object glossy/CMakeFiles/glossy.dir/src/sys/read.c.obj\u001b[0m\n"
     ]
    },
    {
     "name": "stderr",
     "output_type": "stream",
     "text": [
      "/tools/C/tedkim7/sp24-Baremetal-IDE/glossy/src/sys/read.c: In function '_read':\n",
      "/tools/C/tedkim7/sp24-Baremetal-IDE/glossy/src/sys/read.c:5:41: warning: unused parameter 'file' [-Wunused-parameter]\n",
      "    5 | __attribute__((weak)) ssize_t _read(int file, void *ptr, size_t len) {\n",
      "      |                                     ~~~~^~~~\n",
      "/tools/C/tedkim7/sp24-Baremetal-IDE/glossy/src/sys/read.c:5:53: warning: unused parameter 'ptr' [-Wunused-parameter]\n",
      "    5 | __attribute__((weak)) ssize_t _read(int file, void *ptr, size_t len) {\n",
      "      |                                               ~~~~~~^~~\n",
      "/tools/C/tedkim7/sp24-Baremetal-IDE/glossy/src/sys/read.c:5:65: warning: unused parameter 'len' [-Wunused-parameter]\n",
      "    5 | __attribute__((weak)) ssize_t _read(int file, void *ptr, size_t len) {\n",
      "      |                                                          ~~~~~~~^~~\n"
     ]
    },
    {
     "name": "stdout",
     "output_type": "stream",
     "text": [
      "[ 86%] \u001b[32mBuilding C object glossy/CMakeFiles/glossy.dir/src/sys/sbrk.c.obj\u001b[0m\n",
      "[ 88%] \u001b[32mBuilding C object glossy/CMakeFiles/glossy.dir/src/sys/time.c.obj\u001b[0m\n",
      "[ 91%] \u001b[32mBuilding C object glossy/CMakeFiles/glossy.dir/src/sys/write.c.obj\u001b[0m\n"
     ]
    },
    {
     "name": "stderr",
     "output_type": "stream",
     "text": [
      "/tools/C/tedkim7/sp24-Baremetal-IDE/glossy/src/sys/write.c: In function '_write':\n",
      "/tools/C/tedkim7/sp24-Baremetal-IDE/glossy/src/sys/write.c:8:42: warning: unused parameter 'fd' [-Wunused-parameter]\n",
      "    8 | __attribute__((weak)) ssize_t _write(int fd, const void *ptr, size_t len) {\n",
      "      |                                      ~~~~^~\n"
     ]
    },
    {
     "name": "stdout",
     "output_type": "stream",
     "text": [
      "[ 94%] \u001b[32m\u001b[1mLinking C static library libglossy.a\u001b[0m\n",
      "gmake[4]: Leaving directory '/bwrcq/C/tedkim7/sp24-Baremetal-IDE/build'\n",
      "[ 94%] Built target glossy\n",
      "gmake[4]: Entering directory '/bwrcq/C/tedkim7/sp24-Baremetal-IDE/build'\n",
      "gmake[4]: Leaving directory '/bwrcq/C/tedkim7/sp24-Baremetal-IDE/build'\n",
      "gmake[4]: Entering directory '/bwrcq/C/tedkim7/sp24-Baremetal-IDE/build'\n",
      "[ 97%] \u001b[32mBuilding C object CMakeFiles/shmoo_bench.dir/shmoo_bench/nearmem_matmul/src/main.c.obj\u001b[0m\n"
     ]
    },
    {
     "name": "stderr",
     "output_type": "stream",
     "text": [
      "/tools/C/tedkim7/sp24-Baremetal-IDE/shmoo_bench/nearmem_matmul/src/main.c: In function 'app_main':\n",
      "/tools/C/tedkim7/sp24-Baremetal-IDE/shmoo_bench/nearmem_matmul/src/main.c:56:47: warning: expression does not compute the number of elements in this array; element type is 'uint64_t' {aka 'volatile long unsigned int'}, not 'uint8_t' {aka 'unsigned char'} [-Wsizeof-array-div]\n",
      "   56 |     int8_t operandReg[sizeof(DMA1->operandReg)/sizeof(uint8_t)];\n",
      "      |                                               ^\n",
      "/tools/C/tedkim7/sp24-Baremetal-IDE/shmoo_bench/nearmem_matmul/src/main.c:56:47: note: add parentheses around the second 'sizeof' to silence this warning\n",
      "/tools/C/tedkim7/sp24-Baremetal-IDE/shmoo_bench/nearmem_matmul/src/main.c:65:43: warning: expression does not compute the number of elements in this array; element type is 'uint64_t' {aka 'volatile long unsigned int'}, not 'int16_t' {aka 'short int'} [-Wsizeof-array-div]\n",
      "   65 |     int16_t expected[sizeof(DMA1->destReg)/sizeof(int16_t)];\n",
      "      |                                           ^\n",
      "/tools/C/tedkim7/sp24-Baremetal-IDE/shmoo_bench/nearmem_matmul/src/main.c:65:43: note: add parentheses around the second 'sizeof' to silence this warning\n",
      "In file included from /tools/C/tedkim7/sp24-Baremetal-IDE/shmoo_bench/nearmem_matmul/src/main.c:24:\n",
      "/tools/C/tedkim7/sp24-Baremetal-IDE/shmoo_bench/nearmem_matmul/include/nearmemdma.h:28:14: warning: passing argument 1 of 'memcpy' discards 'volatile' qualifier from pointer target type [-Wdiscarded-qualifiers]\n",
      "   28 | #define DMA1 ((volatile dma*) 0x8800000)\n",
      "/tools/C/tedkim7/sp24-Baremetal-IDE/shmoo_bench/nearmem_matmul/src/main.c:92:12: note: in expansion of macro 'DMA1'\n",
      "   92 |     memcpy(DMA1->operandReg, operandReg, sizeof(operandReg));\n",
      "      |            ^~~~\n",
      "In file included from /tools/C/tedkim7/sp24-Baremetal-IDE/shmoo_bench/nearmem_matmul/include/main.h:33,\n",
      "                 from /tools/C/tedkim7/sp24-Baremetal-IDE/shmoo_bench/nearmem_matmul/src/main.c:17:\n",
      "/bwrcq/C/ee290-fa24-2/.conda-env/riscv-tools/riscv64-unknown-elf/include/string.h:31:18: note: expected 'void * restrict' but argument is of type 'volatile uint64_t *' {aka 'volatile long unsigned int *'}\n",
      "   31 | void *   memcpy (void *__restrict, const void *__restrict, size_t);\n",
      "      |                  ^\n",
      "/tools/C/tedkim7/sp24-Baremetal-IDE/shmoo_bench/nearmem_matmul/src/main.c:101:20: warning: 'return' with a value, in function returning void [-Wreturn-type]\n",
      "  101 |             return 1;\n",
      "      |                    ^\n",
      "/tools/C/tedkim7/sp24-Baremetal-IDE/shmoo_bench/nearmem_matmul/src/main.c:45:6: note: declared here\n",
      "   45 | void app_main() {\n",
      "      |      ^~~~~~~~\n",
      "/tools/C/tedkim7/sp24-Baremetal-IDE/shmoo_bench/nearmem_matmul/src/main.c:104:14: warning: unused variable 'cpu_end_cycles' [-Wunused-variable]\n",
      "  104 |     uint64_t cpu_end_cycles = READ_CSR(\"mcycle\");\n",
      "      |              ^~~~~~~~~~~~~~\n",
      "/tools/C/tedkim7/sp24-Baremetal-IDE/shmoo_bench/nearmem_matmul/src/main.c:93:14: warning: unused variable 'cpu_start_cycles' [-Wunused-variable]\n",
      "   93 |     uint64_t cpu_start_cycles = READ_CSR(\"mcycle\");\n",
      "      |              ^~~~~~~~~~~~~~~~\n",
      "/tools/C/tedkim7/sp24-Baremetal-IDE/shmoo_bench/nearmem_matmul/src/main.c:65:13: warning: variable 'expected' set but not used [-Wunused-but-set-variable]\n",
      "   65 |     int16_t expected[sizeof(DMA1->destReg)/sizeof(int16_t)];\n",
      "      |             ^~~~~~~~\n",
      "/tools/C/tedkim7/sp24-Baremetal-IDE/shmoo_bench/nearmem_matmul/src/main.c: In function 'main':\n",
      "/tools/C/tedkim7/sp24-Baremetal-IDE/shmoo_bench/nearmem_matmul/src/main.c:146:14: warning: unused parameter 'argc' [-Wunused-parameter]\n",
      "  146 | int main(int argc, char **argv) {\n",
      "      |          ~~~~^~~~\n",
      "/tools/C/tedkim7/sp24-Baremetal-IDE/shmoo_bench/nearmem_matmul/src/main.c:146:27: warning: unused parameter 'argv' [-Wunused-parameter]\n",
      "  146 | int main(int argc, char **argv) {\n",
      "      |                    ~~~~~~~^~~~\n"
     ]
    },
    {
     "name": "stdout",
     "output_type": "stream",
     "text": [
      "[100%] \u001b[32m\u001b[1mLinking C executable shmoo_bench.elf\u001b[0m\n"
     ]
    },
    {
     "name": "stderr",
     "output_type": "stream",
     "text": [
      "/bwrcq/C/ee290-fa24-2/.conda-env/riscv-tools/bin/../lib/gcc/riscv64-unknown-elf/13.2.0/../../../../riscv64-unknown-elf/bin/ld: warning: shmoo_bench.elf has a LOAD segment with RWX permissions\n"
     ]
    },
    {
     "name": "stdout",
     "output_type": "stream",
     "text": [
      "gmake[4]: Leaving directory '/bwrcq/C/tedkim7/sp24-Baremetal-IDE/build'\n",
      "[100%] Built target shmoo_bench\n",
      "gmake[3]: Leaving directory '/bwrcq/C/tedkim7/sp24-Baremetal-IDE/build'\n",
      "gmake[2]: Leaving directory '/bwrcq/C/tedkim7/sp24-Baremetal-IDE/build'\n",
      "gmake[1]: Leaving directory '/bwrcq/C/tedkim7/sp24-Baremetal-IDE/build'\n",
      "**Clock set to: 75MHz**\n",
      "**Voltage set to: +5.00000000E-01\n",
      "V**\n"
     ]
    },
    {
     "name": "stderr",
     "output_type": "stream",
     "text": [
      "warning: tohost and fromhost symbols not in ELF; can't communicate with target\n"
     ]
    },
    {
     "name": "stdout",
     "output_type": "stream",
     "text": [
      "Starting UART-based TSI\n",
      "Usage: ./uart_tsi +tty=/dev/pts/xx <PLUSARGS> <bin>\n",
      "       ./uart_tsi +tty=/dev/ttyxx  <PLUSARGS> <bin>\n",
      "       ./uart_tsi +tty=/dev/ttyxx  +no_hart0_msip +init_write=0x80000000:0xdeadbeef none\n",
      "       ./uart_tsi +tty=/dev/ttyxx  +no_hart0_msip +init_read=0x80000000 none\n",
      "       ./uart_tsi +tty=/dev/ttyxx  +selfcheck <bin>\n",
      "       ./uart_tsi +tty=/dev/ttyxx  +baudrate=921600 <bin>\n",
      "Attempting to open TTY at /dev/ttyUSB2\n",
      "Warning: You selected a non-standard baudrate. This will only work if the HW was configured with this baud-rate\n",
      "Checking connection status with /dev/ttyUSB2\n",
      "Connection succeeded\n",
      "Done, shutting down, flushing UART\n",
      "WARNING: You should probably reset the target before running this program again\n",
      "Done: now reset during the sleep before next iteration\n",
      "**Voltage set to: +5.50000000E-01\n",
      "V**\n"
     ]
    },
    {
     "name": "stderr",
     "output_type": "stream",
     "text": [
      "warning: tohost and fromhost symbols not in ELF; can't communicate with target\n"
     ]
    },
    {
     "name": "stdout",
     "output_type": "stream",
     "text": [
      "Starting UART-based TSI\n",
      "Usage: ./uart_tsi +tty=/dev/pts/xx <PLUSARGS> <bin>\n",
      "       ./uart_tsi +tty=/dev/ttyxx  <PLUSARGS> <bin>\n",
      "       ./uart_tsi +tty=/dev/ttyxx  +no_hart0_msip +init_write=0x80000000:0xdeadbeef none\n",
      "       ./uart_tsi +tty=/dev/ttyxx  +no_hart0_msip +init_read=0x80000000 none\n",
      "       ./uart_tsi +tty=/dev/ttyxx  +selfcheck <bin>\n",
      "       ./uart_tsi +tty=/dev/ttyxx  +baudrate=921600 <bin>\n",
      "Attempting to open TTY at /dev/ttyUSB2\n",
      "Warning: You selected a non-standard baudrate. This will only work if the HW was configured with this baud-rate\n",
      "Checking connection status with /dev/ttyUSB2\n",
      "Connection succeeded\n",
      "Done, shutting down, flushing UART\n",
      "WARNING: You should probably reset the target before running this program again\n",
      "Done: now reset during the sleep before next iteration\n",
      "**Voltage set to: +6.00000000E-01\n",
      "V**\n"
     ]
    },
    {
     "name": "stderr",
     "output_type": "stream",
     "text": [
      "warning: tohost and fromhost symbols not in ELF; can't communicate with target\n"
     ]
    },
    {
     "name": "stdout",
     "output_type": "stream",
     "text": [
      "Starting UART-based TSI\n",
      "Usage: ./uart_tsi +tty=/dev/pts/xx <PLUSARGS> <bin>\n",
      "       ./uart_tsi +tty=/dev/ttyxx  <PLUSARGS> <bin>\n",
      "       ./uart_tsi +tty=/dev/ttyxx  +no_hart0_msip +init_write=0x80000000:0xdeadbeef none\n",
      "       ./uart_tsi +tty=/dev/ttyxx  +no_hart0_msip +init_read=0x80000000 none\n",
      "       ./uart_tsi +tty=/dev/ttyxx  +selfcheck <bin>\n",
      "       ./uart_tsi +tty=/dev/ttyxx  +baudrate=921600 <bin>\n",
      "Attempting to open TTY at /dev/ttyUSB2\n",
      "Warning: You selected a non-standard baudrate. This will only work if the HW was configured with this baud-rate\n",
      "Checking connection status with /dev/ttyUSB2\n",
      "Connection succeeded\n",
      "Done, shutting down, flushing UART\n",
      "WARNING: You should probably reset the target before running this program again\n",
      "Done: now reset during the sleep before next iteration\n",
      "**Voltage set to: +6.50000000E-01\n",
      "V**\n"
     ]
    },
    {
     "name": "stderr",
     "output_type": "stream",
     "text": [
      "warning: tohost and fromhost symbols not in ELF; can't communicate with target\n"
     ]
    },
    {
     "name": "stdout",
     "output_type": "stream",
     "text": [
      "Starting UART-based TSI\n",
      "Usage: ./uart_tsi +tty=/dev/pts/xx <PLUSARGS> <bin>\n",
      "       ./uart_tsi +tty=/dev/ttyxx  <PLUSARGS> <bin>\n",
      "       ./uart_tsi +tty=/dev/ttyxx  +no_hart0_msip +init_write=0x80000000:0xdeadbeef none\n",
      "       ./uart_tsi +tty=/dev/ttyxx  +no_hart0_msip +init_read=0x80000000 none\n",
      "       ./uart_tsi +tty=/dev/ttyxx  +selfcheck <bin>\n",
      "       ./uart_tsi +tty=/dev/ttyxx  +baudrate=921600 <bin>\n",
      "Attempting to open TTY at /dev/ttyUSB2\n",
      "Warning: You selected a non-standard baudrate. This will only work if the HW was configured with this baud-rate\n",
      "Checking connection status with /dev/ttyUSB2\n",
      "Connection succeeded\n",
      "Done, shutting down, flushing UART\n",
      "WARNING: You should probably reset the target before running this program again\n",
      "Done: now reset during the sleep before next iteration\n",
      "**Voltage set to: +7.00000000E-01\n",
      "V**\n"
     ]
    },
    {
     "name": "stderr",
     "output_type": "stream",
     "text": [
      "warning: tohost and fromhost symbols not in ELF; can't communicate with target\n"
     ]
    },
    {
     "name": "stdout",
     "output_type": "stream",
     "text": [
      "Starting UART-based TSI\n",
      "Usage: ./uart_tsi +tty=/dev/pts/xx <PLUSARGS> <bin>\n",
      "       ./uart_tsi +tty=/dev/ttyxx  <PLUSARGS> <bin>\n",
      "       ./uart_tsi +tty=/dev/ttyxx  +no_hart0_msip +init_write=0x80000000:0xdeadbeef none\n",
      "       ./uart_tsi +tty=/dev/ttyxx  +no_hart0_msip +init_read=0x80000000 none\n",
      "       ./uart_tsi +tty=/dev/ttyxx  +selfcheck <bin>\n",
      "       ./uart_tsi +tty=/dev/ttyxx  +baudrate=921600 <bin>\n",
      "Attempting to open TTY at /dev/ttyUSB2\n",
      "Warning: You selected a non-standard baudrate. This will only work if the HW was configured with this baud-rate\n",
      "Checking connection status with /dev/ttyUSB2\n",
      "Connection succeeded\n",
      "Done, shutting down, flushing UART\n",
      "WARNING: You should probably reset the target before running this program again\n",
      "Done: now reset during the sleep before next iteration\n",
      "**Voltage set to: +7.50000000E-01\n",
      "V**\n"
     ]
    },
    {
     "name": "stderr",
     "output_type": "stream",
     "text": [
      "warning: tohost and fromhost symbols not in ELF; can't communicate with target\n"
     ]
    },
    {
     "name": "stdout",
     "output_type": "stream",
     "text": [
      "Starting UART-based TSI\n",
      "Usage: ./uart_tsi +tty=/dev/pts/xx <PLUSARGS> <bin>\n",
      "       ./uart_tsi +tty=/dev/ttyxx  <PLUSARGS> <bin>\n",
      "       ./uart_tsi +tty=/dev/ttyxx  +no_hart0_msip +init_write=0x80000000:0xdeadbeef none\n",
      "       ./uart_tsi +tty=/dev/ttyxx  +no_hart0_msip +init_read=0x80000000 none\n",
      "       ./uart_tsi +tty=/dev/ttyxx  +selfcheck <bin>\n",
      "       ./uart_tsi +tty=/dev/ttyxx  +baudrate=921600 <bin>\n",
      "Attempting to open TTY at /dev/ttyUSB2\n",
      "Warning: You selected a non-standard baudrate. This will only work if the HW was configured with this baud-rate\n",
      "Checking connection status with /dev/ttyUSB2\n",
      "Connection succeeded\n",
      "Done, shutting down, flushing UART\n",
      "WARNING: You should probably reset the target before running this program again\n",
      "Done: now reset during the sleep before next iteration\n",
      "**Voltage set to: +8.00000000E-01\n",
      "V**\n"
     ]
    },
    {
     "name": "stderr",
     "output_type": "stream",
     "text": [
      "warning: tohost and fromhost symbols not in ELF; can't communicate with target\n"
     ]
    },
    {
     "name": "stdout",
     "output_type": "stream",
     "text": [
      "Starting UART-based TSI\n",
      "Usage: ./uart_tsi +tty=/dev/pts/xx <PLUSARGS> <bin>\n",
      "       ./uart_tsi +tty=/dev/ttyxx  <PLUSARGS> <bin>\n",
      "       ./uart_tsi +tty=/dev/ttyxx  +no_hart0_msip +init_write=0x80000000:0xdeadbeef none\n",
      "       ./uart_tsi +tty=/dev/ttyxx  +no_hart0_msip +init_read=0x80000000 none\n",
      "       ./uart_tsi +tty=/dev/ttyxx  +selfcheck <bin>\n",
      "       ./uart_tsi +tty=/dev/ttyxx  +baudrate=921600 <bin>\n",
      "Attempting to open TTY at /dev/ttyUSB2\n",
      "Warning: You selected a non-standard baudrate. This will only work if the HW was configured with this baud-rate\n",
      "Checking connection status with /dev/ttyUSB2\n",
      "Connection succeeded\n",
      "Done, shutting down, flushing UART\n",
      "WARNING: You should probably reset the target before running this program again\n",
      "Done: now reset during the sleep before next iteration\n",
      "**Voltage set to: +8.50000000E-01\n",
      "V**\n"
     ]
    },
    {
     "name": "stderr",
     "output_type": "stream",
     "text": [
      "warning: tohost and fromhost symbols not in ELF; can't communicate with target\n"
     ]
    },
    {
     "name": "stdout",
     "output_type": "stream",
     "text": [
      "Starting UART-based TSI\n",
      "Usage: ./uart_tsi +tty=/dev/pts/xx <PLUSARGS> <bin>\n",
      "       ./uart_tsi +tty=/dev/ttyxx  <PLUSARGS> <bin>\n",
      "       ./uart_tsi +tty=/dev/ttyxx  +no_hart0_msip +init_write=0x80000000:0xdeadbeef none\n",
      "       ./uart_tsi +tty=/dev/ttyxx  +no_hart0_msip +init_read=0x80000000 none\n",
      "       ./uart_tsi +tty=/dev/ttyxx  +selfcheck <bin>\n",
      "       ./uart_tsi +tty=/dev/ttyxx  +baudrate=921600 <bin>\n",
      "Attempting to open TTY at /dev/ttyUSB2\n",
      "Warning: You selected a non-standard baudrate. This will only work if the HW was configured with this baud-rate\n",
      "Checking connection status with /dev/ttyUSB2\n",
      "Connection succeeded\n",
      "Done, shutting down, flushing UART\n",
      "WARNING: You should probably reset the target before running this program again\n",
      "Done: now reset during the sleep before next iteration\n",
      "**Voltage set to: +9.00000000E-01\n",
      "V**\n"
     ]
    },
    {
     "name": "stderr",
     "output_type": "stream",
     "text": [
      "warning: tohost and fromhost symbols not in ELF; can't communicate with target\n"
     ]
    },
    {
     "name": "stdout",
     "output_type": "stream",
     "text": [
      "Starting UART-based TSI\n",
      "Usage: ./uart_tsi +tty=/dev/pts/xx <PLUSARGS> <bin>\n",
      "       ./uart_tsi +tty=/dev/ttyxx  <PLUSARGS> <bin>\n",
      "       ./uart_tsi +tty=/dev/ttyxx  +no_hart0_msip +init_write=0x80000000:0xdeadbeef none\n",
      "       ./uart_tsi +tty=/dev/ttyxx  +no_hart0_msip +init_read=0x80000000 none\n",
      "       ./uart_tsi +tty=/dev/ttyxx  +selfcheck <bin>\n",
      "       ./uart_tsi +tty=/dev/ttyxx  +baudrate=921600 <bin>\n",
      "Attempting to open TTY at /dev/ttyUSB2\n",
      "Warning: You selected a non-standard baudrate. This will only work if the HW was configured with this baud-rate\n",
      "Checking connection status with /dev/ttyUSB2\n",
      "Connection succeeded\n",
      "Done, shutting down, flushing UART\n",
      "WARNING: You should probably reset the target before running this program again\n",
      "Done: now reset during the sleep before next iteration\n",
      "**Voltage set to: +9.50000000E-01\n",
      "V**\n"
     ]
    },
    {
     "name": "stderr",
     "output_type": "stream",
     "text": [
      "warning: tohost and fromhost symbols not in ELF; can't communicate with target\n"
     ]
    },
    {
     "name": "stdout",
     "output_type": "stream",
     "text": [
      "Starting UART-based TSI\n",
      "Usage: ./uart_tsi +tty=/dev/pts/xx <PLUSARGS> <bin>\n",
      "       ./uart_tsi +tty=/dev/ttyxx  <PLUSARGS> <bin>\n",
      "       ./uart_tsi +tty=/dev/ttyxx  +no_hart0_msip +init_write=0x80000000:0xdeadbeef none\n",
      "       ./uart_tsi +tty=/dev/ttyxx  +no_hart0_msip +init_read=0x80000000 none\n",
      "       ./uart_tsi +tty=/dev/ttyxx  +selfcheck <bin>\n",
      "       ./uart_tsi +tty=/dev/ttyxx  +baudrate=921600 <bin>\n",
      "Attempting to open TTY at /dev/ttyUSB2\n",
      "Warning: You selected a non-standard baudrate. This will only work if the HW was configured with this baud-rate\n",
      "Checking connection status with /dev/ttyUSB2\n",
      "Connection succeeded\n",
      "Done, shutting down, flushing UART\n",
      "WARNING: You should probably reset the target before running this program again\n",
      "Done: now reset during the sleep before next iteration\n",
      "**Voltage set to: +1.00000000E+00\n",
      "V**\n"
     ]
    },
    {
     "name": "stderr",
     "output_type": "stream",
     "text": [
      "warning: tohost and fromhost symbols not in ELF; can't communicate with target\n"
     ]
    },
    {
     "name": "stdout",
     "output_type": "stream",
     "text": [
      "Starting UART-based TSI\n",
      "Usage: ./uart_tsi +tty=/dev/pts/xx <PLUSARGS> <bin>\n",
      "       ./uart_tsi +tty=/dev/ttyxx  <PLUSARGS> <bin>\n",
      "       ./uart_tsi +tty=/dev/ttyxx  +no_hart0_msip +init_write=0x80000000:0xdeadbeef none\n",
      "       ./uart_tsi +tty=/dev/ttyxx  +no_hart0_msip +init_read=0x80000000 none\n",
      "       ./uart_tsi +tty=/dev/ttyxx  +selfcheck <bin>\n",
      "       ./uart_tsi +tty=/dev/ttyxx  +baudrate=921600 <bin>\n",
      "Attempting to open TTY at /dev/ttyUSB2\n",
      "Warning: You selected a non-standard baudrate. This will only work if the HW was configured with this baud-rate\n",
      "Checking connection status with /dev/ttyUSB2\n",
      "Connection succeeded\n",
      "Done, shutting down, flushing UART\n",
      "WARNING: You should probably reset the target before running this program again\n",
      "Done: now reset during the sleep before next iteration\n",
      "rm -rf build\n",
      "cmake -S ./ -B ./build/ -D CMAKE_TOOLCHAIN_FILE=./riscv-gcc.cmake -DCHIP=bearly24\n",
      "-- The ASM compiler identification is GNU\n",
      "-- Found assembler: /tools/C/ee290-fa24-2/.conda-env/riscv-tools/bin/riscv64-unknown-elf-gcc\n",
      "-- The C compiler identification is GNU 13.2.0\n",
      "-- The CXX compiler identification is GNU 13.2.0\n",
      "-- Detecting C compiler ABI info\n",
      "-- Detecting C compiler ABI info - done\n",
      "-- Check for working C compiler: /tools/C/ee290-fa24-2/.conda-env/riscv-tools/bin/riscv64-unknown-elf-gcc - skipped\n",
      "-- Detecting C compile features\n",
      "-- Detecting C compile features - done\n",
      "-- Detecting CXX compiler ABI info\n",
      "-- Detecting CXX compiler ABI info - done\n",
      "-- Check for working CXX compiler: /tools/C/ee290-fa24-2/.conda-env/riscv-tools/bin/riscv64-unknown-elf-g++ - skipped\n",
      "-- Detecting CXX compile features\n",
      "-- Detecting CXX compile features - done\n",
      "-- Including HTIF to target\n",
      "-- Including CLINT to target\n",
      "-- ================ Glossy config ================\n",
      "--  Building for CHIP: \"bearly24\"\n",
      "--  Reading config from \"/tools/C/tedkim7/sp24-Baremetal-IDE/platform/bearly24/CMakeLists.txt\"\n",
      "--  Terminal Device: UART0\n",
      "--  Linker Script: /tools/C/tedkim7/sp24-Baremetal-IDE/platform/bearly24/bearly24.ld\n",
      "-- ===============================================\n",
      "-- Configuring done (4.1s)\n",
      "-- Generating done (1.7s)\n",
      "-- Build files have been written to: /tools/C/tedkim7/sp24-Baremetal-IDE/build\n",
      "cmake --build ./build/ --target shmoo_bench\n",
      "gmake[1]: Entering directory '/bwrcq/C/tedkim7/sp24-Baremetal-IDE/build'\n",
      "gmake[2]: Entering directory '/bwrcq/C/tedkim7/sp24-Baremetal-IDE/build'\n",
      "gmake[3]: Entering directory '/bwrcq/C/tedkim7/sp24-Baremetal-IDE/build'\n",
      "gmake[4]: Entering directory '/bwrcq/C/tedkim7/sp24-Baremetal-IDE/build'\n",
      "gmake[4]: Leaving directory '/bwrcq/C/tedkim7/sp24-Baremetal-IDE/build'\n",
      "gmake[4]: Entering directory '/bwrcq/C/tedkim7/sp24-Baremetal-IDE/build'\n",
      "[  2%] \u001b[32mBuilding C object driver/rocket-chip-blocks/uart/CMakeFiles/uart.dir/uart.c.obj\u001b[0m\n"
     ]
    },
    {
     "name": "stderr",
     "output_type": "stream",
     "text": [
      "/tools/C/tedkim7/sp24-Baremetal-IDE/driver/rocket-chip-blocks/uart/uart.c: In function 'uart_receive':\n",
      "/tools/C/tedkim7/sp24-Baremetal-IDE/driver/rocket-chip-blocks/uart/uart.c:35:78: warning: unused parameter 'timeout' [-Wunused-parameter]\n",
      "   35 | Status uart_receive(UART_Type *UARTx, uint8_t *data, uint16_t size, uint32_t timeout) {\n",
      "      |                                                                     ~~~~~~~~~^~~~~~~\n",
      "/tools/C/tedkim7/sp24-Baremetal-IDE/driver/rocket-chip-blocks/uart/uart.c: In function 'uart_transmit':\n",
      "/tools/C/tedkim7/sp24-Baremetal-IDE/driver/rocket-chip-blocks/uart/uart.c:50:85: warning: unused parameter 'timeout' [-Wunused-parameter]\n",
      "   50 | Status uart_transmit(UART_Type *UARTx, const uint8_t *data, uint16_t size, uint32_t timeout) {\n",
      "      |                                                                            ~~~~~~~~~^~~~~~~\n"
     ]
    },
    {
     "name": "stdout",
     "output_type": "stream",
     "text": [
      "[  5%] \u001b[32m\u001b[1mLinking C static library libuart.a\u001b[0m\n",
      "gmake[4]: Leaving directory '/bwrcq/C/tedkim7/sp24-Baremetal-IDE/build'\n",
      "[  5%] Built target uart\n",
      "gmake[4]: Entering directory '/bwrcq/C/tedkim7/sp24-Baremetal-IDE/build'\n",
      "gmake[4]: Leaving directory '/bwrcq/C/tedkim7/sp24-Baremetal-IDE/build'\n",
      "gmake[4]: Entering directory '/bwrcq/C/tedkim7/sp24-Baremetal-IDE/build'\n",
      "[  8%] \u001b[32mBuilding C object driver/intel/pll/CMakeFiles/intel-pll.dir/pll.c.obj\u001b[0m\n",
      "[ 11%] \u001b[32m\u001b[1mLinking C static library libintel-pll.a\u001b[0m\n",
      "gmake[4]: Leaving directory '/bwrcq/C/tedkim7/sp24-Baremetal-IDE/build'\n",
      "[ 11%] Built target intel-pll\n",
      "gmake[4]: Entering directory '/bwrcq/C/tedkim7/sp24-Baremetal-IDE/build'\n",
      "gmake[4]: Leaving directory '/bwrcq/C/tedkim7/sp24-Baremetal-IDE/build'\n",
      "gmake[4]: Entering directory '/bwrcq/C/tedkim7/sp24-Baremetal-IDE/build'\n",
      "[ 13%] \u001b[32mBuilding C object driver/rocket-chip/clint/CMakeFiles/clint.dir/clint.c.obj\u001b[0m\n",
      "[ 16%] \u001b[32m\u001b[1mLinking C static library libclint.a\u001b[0m\n",
      "gmake[4]: Leaving directory '/bwrcq/C/tedkim7/sp24-Baremetal-IDE/build'\n",
      "[ 16%] Built target clint\n",
      "gmake[4]: Entering directory '/bwrcq/C/tedkim7/sp24-Baremetal-IDE/build'\n",
      "gmake[4]: Leaving directory '/bwrcq/C/tedkim7/sp24-Baremetal-IDE/build'\n",
      "gmake[4]: Entering directory '/bwrcq/C/tedkim7/sp24-Baremetal-IDE/build'\n",
      "[ 19%] \u001b[32mBuilding C object driver/rocket-chip/rocketcore/CMakeFiles/rocketcore.dir/rocketcore.c.obj\u001b[0m\n",
      "[ 22%] \u001b[32m\u001b[1mLinking C static library librocketcore.a\u001b[0m\n",
      "gmake[4]: Leaving directory '/bwrcq/C/tedkim7/sp24-Baremetal-IDE/build'\n",
      "[ 22%] Built target rocketcore\n",
      "gmake[4]: Entering directory '/bwrcq/C/tedkim7/sp24-Baremetal-IDE/build'\n",
      "gmake[4]: Leaving directory '/bwrcq/C/tedkim7/sp24-Baremetal-IDE/build'\n",
      "gmake[4]: Entering directory '/bwrcq/C/tedkim7/sp24-Baremetal-IDE/build'\n",
      "[ 25%] \u001b[32mBuilding C object driver/rocket-chip-blocks/i2c/CMakeFiles/i2c.dir/i2c.c.obj\u001b[0m\n"
     ]
    },
    {
     "name": "stderr",
     "output_type": "stream",
     "text": [
      "/tools/C/tedkim7/sp24-Baremetal-IDE/driver/rocket-chip-blocks/i2c/i2c.c: In function 'i2c_init':\n",
      "/tools/C/tedkim7/sp24-Baremetal-IDE/driver/rocket-chip-blocks/i2c/i2c.c:13:45: warning: unused parameter 'I2C_init' [-Wunused-parameter]\n",
      "   13 | void i2c_init(I2C_Type *I2Cx, I2C_InitType *I2C_init) {\n",
      "      |                               ~~~~~~~~~~~~~~^~~~~~~~\n",
      "/tools/C/tedkim7/sp24-Baremetal-IDE/driver/rocket-chip-blocks/i2c/i2c.c: In function 'i2c_wait_for_flag':\n",
      "/tools/C/tedkim7/sp24-Baremetal-IDE/driver/rocket-chip-blocks/i2c/i2c.c:30:9: warning: implicit declaration of function 'CLINT_getTime' [-Wimplicit-function-declaration]\n",
      "   30 |     if (CLINT_getTime() > (timestart + timeout)) {\n",
      "      |         ^~~~~~~~~~~~~\n",
      "/tools/C/tedkim7/sp24-Baremetal-IDE/driver/rocket-chip-blocks/i2c/i2c.c:30:25: warning: comparison of integer expressions of different signedness: 'int' and 'uint32_t' {aka 'unsigned int'} [-Wsign-compare]\n",
      "   30 |     if (CLINT_getTime() > (timestart + timeout)) {\n",
      "      |                         ^\n",
      "/tools/C/tedkim7/sp24-Baremetal-IDE/driver/rocket-chip-blocks/i2c/i2c.c: In function 'i2c_master_receive':\n",
      "/tools/C/tedkim7/sp24-Baremetal-IDE/driver/rocket-chip-blocks/i2c/i2c.c:53:24: warning: implicit declaration of function 'clint_get_time' [-Wimplicit-function-declaration]\n",
      "   53 |   uint64_t timestart = clint_get_time();\n",
      "      |                        ^~~~~~~~~~~~~~\n",
      "/tools/C/tedkim7/sp24-Baremetal-IDE/driver/rocket-chip-blocks/i2c/i2c.c: In function 'i2c_wait_for_transaction':\n",
      "/tools/C/tedkim7/sp24-Baremetal-IDE/driver/rocket-chip-blocks/i2c/i2c.c:50:1: warning: control reaches end of non-void function [-Wreturn-type]\n",
      "   50 | }\n",
      "      | ^\n"
     ]
    },
    {
     "name": "stdout",
     "output_type": "stream",
     "text": [
      "[ 27%] \u001b[32m\u001b[1mLinking C static library libi2c.a\u001b[0m\n",
      "gmake[4]: Leaving directory '/bwrcq/C/tedkim7/sp24-Baremetal-IDE/build'\n",
      "[ 27%] Built target i2c\n",
      "gmake[4]: Entering directory '/bwrcq/C/tedkim7/sp24-Baremetal-IDE/build'\n",
      "gmake[4]: Leaving directory '/bwrcq/C/tedkim7/sp24-Baremetal-IDE/build'\n",
      "gmake[4]: Entering directory '/bwrcq/C/tedkim7/sp24-Baremetal-IDE/build'\n",
      "[ 30%] \u001b[32mBuilding C object driver/rocket-chip-blocks/spi/CMakeFiles/spi.dir/spi.c.obj\u001b[0m\n"
     ]
    },
    {
     "name": "stderr",
     "output_type": "stream",
     "text": [
      "/tools/C/tedkim7/sp24-Baremetal-IDE/driver/rocket-chip-blocks/spi/spi.c: In function 'spi_receive':\n",
      "/tools/C/tedkim7/sp24-Baremetal-IDE/driver/rocket-chip-blocks/spi/spi.c:56:75: warning: unused parameter 'timeout' [-Wunused-parameter]\n",
      "   56 | Status spi_receive(SPI_Type *SPIx, uint8_t *data, uint16_t size, uint64_t timeout) {\n",
      "      |                                                                  ~~~~~~~~~^~~~~~~\n",
      "/tools/C/tedkim7/sp24-Baremetal-IDE/driver/rocket-chip-blocks/spi/spi.c: In function 'spi_transmit':\n",
      "/tools/C/tedkim7/sp24-Baremetal-IDE/driver/rocket-chip-blocks/spi/spi.c:68:76: warning: unused parameter 'timeout' [-Wunused-parameter]\n",
      "   68 | Status spi_transmit(SPI_Type *SPIx, uint8_t *data, uint16_t size, uint64_t timeout) {\n",
      "      |                                                                   ~~~~~~~~~^~~~~~~\n",
      "/tools/C/tedkim7/sp24-Baremetal-IDE/driver/rocket-chip-blocks/spi/spi.c: In function 'spi_transmit_receive':\n",
      "/tools/C/tedkim7/sp24-Baremetal-IDE/driver/rocket-chip-blocks/spi/spi.c:80:105: warning: unused parameter 'timeout' [-Wunused-parameter]\n",
      "   80 | Status spi_transmit_receive(SPI_Type *SPIx, uint8_t *tx_data, uint8_t *rx_data, uint16_t size, uint64_t timeout) {\n",
      "      |                                                                                                ~~~~~~~~~^~~~~~~\n"
     ]
    },
    {
     "name": "stdout",
     "output_type": "stream",
     "text": [
      "[ 33%] \u001b[32m\u001b[1mLinking C static library libspi.a\u001b[0m\n",
      "gmake[4]: Leaving directory '/bwrcq/C/tedkim7/sp24-Baremetal-IDE/build'\n",
      "[ 33%] Built target spi\n",
      "gmake[4]: Entering directory '/bwrcq/C/tedkim7/sp24-Baremetal-IDE/build'\n",
      "gmake[4]: Leaving directory '/bwrcq/C/tedkim7/sp24-Baremetal-IDE/build'\n",
      "gmake[4]: Entering directory '/bwrcq/C/tedkim7/sp24-Baremetal-IDE/build'\n",
      "[ 36%] \u001b[32mBuilding C object platform/bearly24/CMakeFiles/chip-config.dir/chip.c.obj\u001b[0m\n",
      "[ 38%] \u001b[32mBuilding C object platform/bearly24/CMakeFiles/chip-config.dir/src/hal_dma.c.obj\u001b[0m\n"
     ]
    },
    {
     "name": "stderr",
     "output_type": "stream",
     "text": [
      "/tools/C/tedkim7/sp24-Baremetal-IDE/platform/bearly24/src/hal_dma.c: In function 'dma_init_memcpy':\n",
      "/tools/C/tedkim7/sp24-Baremetal-IDE/platform/bearly24/src/hal_dma.c:20:18: warning: assignment to 'volatile void *' from 'long unsigned int' makes pointer from integer without a cast [-Wint-conversion]\n",
      "   20 |   DMAX->SRC_ADDR = (uint64_t) src;\n",
      "      |                  ^\n",
      "/tools/C/tedkim7/sp24-Baremetal-IDE/platform/bearly24/src/hal_dma.c:21:19: warning: assignment to 'volatile void *' from 'long unsigned int' makes pointer from integer without a cast [-Wint-conversion]\n",
      "   21 |   DMAX->DEST_ADDR = (uint64_t) dst;\n",
      "      |                   ^\n",
      "/tools/C/tedkim7/sp24-Baremetal-IDE/platform/bearly24/src/hal_dma.c: In function 'dma_init_MAC':\n",
      "/tools/C/tedkim7/sp24-Baremetal-IDE/platform/bearly24/src/hal_dma.c:33:18: warning: assignment to 'volatile void *' from 'long unsigned int' makes pointer from integer without a cast [-Wint-conversion]\n",
      "   33 |   DMAX->SRC_ADDR = (uint64_t) src;\n",
      "      |                  ^\n"
     ]
    },
    {
     "name": "stdout",
     "output_type": "stream",
     "text": [
      "[ 41%] \u001b[32mBuilding C object platform/bearly24/CMakeFiles/chip-config.dir/src/hal_mmio.c.obj\u001b[0m\n",
      "[ 44%] \u001b[32m\u001b[1mLinking C static library libchip-config.a\u001b[0m\n",
      "gmake[4]: Leaving directory '/bwrcq/C/tedkim7/sp24-Baremetal-IDE/build'\n",
      "[ 44%] Built target chip-config\n",
      "gmake[4]: Entering directory '/bwrcq/C/tedkim7/sp24-Baremetal-IDE/build'\n",
      "gmake[4]: Leaving directory '/bwrcq/C/tedkim7/sp24-Baremetal-IDE/build'\n",
      "gmake[4]: Entering directory '/bwrcq/C/tedkim7/sp24-Baremetal-IDE/build'\n",
      "[ 47%] \u001b[32mBuilding ASM object glossy/CMakeFiles/glossy.dir/src/startup/crt0.S.obj\u001b[0m\n",
      "[ 50%] \u001b[32mBuilding ASM object glossy/CMakeFiles/glossy.dir/src/startup/init.S.obj\u001b[0m\n",
      "[ 52%] \u001b[32mBuilding C object glossy/CMakeFiles/glossy.dir/src/startup/secondary.c.obj\u001b[0m\n",
      "[ 55%] \u001b[32mBuilding ASM object glossy/CMakeFiles/glossy.dir/src/trap/trap.S.obj\u001b[0m\n",
      "[ 58%] \u001b[32mBuilding C object glossy/CMakeFiles/glossy.dir/src/trap/trap.c.obj\u001b[0m\n"
     ]
    },
    {
     "name": "stderr",
     "output_type": "stream",
     "text": [
      "/tools/C/tedkim7/sp24-Baremetal-IDE/glossy/src/trap/trap.c: In function 'trap_handler':\n",
      "/tools/C/tedkim7/sp24-Baremetal-IDE/glossy/src/trap/trap.c:73:92: warning: unused parameter 'm_tval' [-Wunused-parameter]\n",
      "   73 | __attribute__((weak)) uintptr_t trap_handler(uintptr_t m_epc, uintptr_t m_cause, uintptr_t m_tval, uintptr_t regs[32]) {\n",
      "      |                                                                                  ~~~~~~~~~~^~~~~~\n",
      "/tools/C/tedkim7/sp24-Baremetal-IDE/glossy/src/trap/trap.c:73:110: warning: unused parameter 'regs' [-Wunused-parameter]\n",
      "   73 | __attribute__((weak)) uintptr_t trap_handler(uintptr_t m_epc, uintptr_t m_cause, uintptr_t m_tval, uintptr_t regs[32]) {\n",
      "      |                                                                                                    ~~~~~~~~~~^~~~~~~~\n"
     ]
    },
    {
     "name": "stdout",
     "output_type": "stream",
     "text": [
      "[ 61%] \u001b[32mBuilding C object glossy/CMakeFiles/glossy.dir/src/sys/close.c.obj\u001b[0m\n"
     ]
    },
    {
     "name": "stderr",
     "output_type": "stream",
     "text": [
      "/tools/C/tedkim7/sp24-Baremetal-IDE/glossy/src/sys/close.c: In function '_close':\n",
      "/tools/C/tedkim7/sp24-Baremetal-IDE/glossy/src/sys/close.c:2:38: warning: unused parameter 'file' [-Wunused-parameter]\n",
      "    2 | __attribute__((weak)) int _close(int file) {\n",
      "      |                                  ~~~~^~~~\n"
     ]
    },
    {
     "name": "stdout",
     "output_type": "stream",
     "text": [
      "[ 63%] \u001b[32mBuilding C object glossy/CMakeFiles/glossy.dir/src/sys/exit.c.obj\u001b[0m\n"
     ]
    },
    {
     "name": "stderr",
     "output_type": "stream",
     "text": [
      "/tools/C/tedkim7/sp24-Baremetal-IDE/glossy/src/sys/exit.c: In function '_exit':\n",
      "/tools/C/tedkim7/sp24-Baremetal-IDE/glossy/src/sys/exit.c:4:48: warning: unused parameter 'code' [-Wunused-parameter]\n",
      "    4 | __attribute__((weak, noreturn)) void _exit(int code) {\n",
      "      |                                            ~~~~^~~~\n"
     ]
    },
    {
     "name": "stdout",
     "output_type": "stream",
     "text": [
      "[ 66%] \u001b[32mBuilding C object glossy/CMakeFiles/glossy.dir/src/sys/fstat.c.obj\u001b[0m\n"
     ]
    },
    {
     "name": "stderr",
     "output_type": "stream",
     "text": [
      "/tools/C/tedkim7/sp24-Baremetal-IDE/glossy/src/sys/fstat.c: In function '_fstat':\n",
      "/tools/C/tedkim7/sp24-Baremetal-IDE/glossy/src/sys/fstat.c:4:38: warning: unused parameter 'file' [-Wunused-parameter]\n",
      "    4 | __attribute__((weak)) int _fstat(int file, struct stat *st) {\n",
      "      |                                  ~~~~^~~~\n",
      "/tools/C/tedkim7/sp24-Baremetal-IDE/glossy/src/sys/fstat.c:4:57: warning: unused parameter 'st' [-Wunused-parameter]\n",
      "    4 | __attribute__((weak)) int _fstat(int file, struct stat *st) {\n",
      "      |                                            ~~~~~~~~~~~~~^~\n"
     ]
    },
    {
     "name": "stdout",
     "output_type": "stream",
     "text": [
      "[ 69%] \u001b[32mBuilding C object glossy/CMakeFiles/glossy.dir/src/sys/getpid.c.obj\u001b[0m\n",
      "[ 72%] \u001b[32mBuilding C object glossy/CMakeFiles/glossy.dir/src/sys/isatty.c.obj\u001b[0m\n",
      "[ 75%] \u001b[32mBuilding C object glossy/CMakeFiles/glossy.dir/src/sys/kill.c.obj\u001b[0m\n"
     ]
    },
    {
     "name": "stderr",
     "output_type": "stream",
     "text": [
      "/tools/C/tedkim7/sp24-Baremetal-IDE/glossy/src/sys/kill.c: In function '_kill':\n",
      "/tools/C/tedkim7/sp24-Baremetal-IDE/glossy/src/sys/kill.c:2:37: warning: unused parameter 'pid' [-Wunused-parameter]\n",
      "    2 | __attribute__((weak)) int _kill(int pid, int sig) {\n",
      "      |                                 ~~~~^~~\n",
      "/tools/C/tedkim7/sp24-Baremetal-IDE/glossy/src/sys/kill.c:2:46: warning: unused parameter 'sig' [-Wunused-parameter]\n",
      "    2 | __attribute__((weak)) int _kill(int pid, int sig) {\n",
      "      |                                          ~~~~^~~\n"
     ]
    },
    {
     "name": "stdout",
     "output_type": "stream",
     "text": [
      "[ 77%] \u001b[32mBuilding C object glossy/CMakeFiles/glossy.dir/src/sys/lseek.c.obj\u001b[0m\n"
     ]
    },
    {
     "name": "stderr",
     "output_type": "stream",
     "text": [
      "/tools/C/tedkim7/sp24-Baremetal-IDE/glossy/src/sys/lseek.c: In function '_lseek':\n",
      "/tools/C/tedkim7/sp24-Baremetal-IDE/glossy/src/sys/lseek.c:5:40: warning: unused parameter 'file' [-Wunused-parameter]\n",
      "    5 | __attribute__((weak)) off_t _lseek(int file, off_t ptr, int dir) {\n",
      "      |                                    ~~~~^~~~\n",
      "/tools/C/tedkim7/sp24-Baremetal-IDE/glossy/src/sys/lseek.c:5:52: warning: unused parameter 'ptr' [-Wunused-parameter]\n",
      "    5 | __attribute__((weak)) off_t _lseek(int file, off_t ptr, int dir) {\n",
      "      |                                              ~~~~~~^~~\n",
      "/tools/C/tedkim7/sp24-Baremetal-IDE/glossy/src/sys/lseek.c:5:61: warning: unused parameter 'dir' [-Wunused-parameter]\n",
      "    5 | __attribute__((weak)) off_t _lseek(int file, off_t ptr, int dir) {\n",
      "      |                                                         ~~~~^~~\n"
     ]
    },
    {
     "name": "stdout",
     "output_type": "stream",
     "text": [
      "[ 80%] \u001b[32mBuilding C object glossy/CMakeFiles/glossy.dir/src/sys/open.c.obj\u001b[0m\n"
     ]
    },
    {
     "name": "stderr",
     "output_type": "stream",
     "text": [
      "/tools/C/tedkim7/sp24-Baremetal-IDE/glossy/src/sys/open.c: In function '_open':\n",
      "/tools/C/tedkim7/sp24-Baremetal-IDE/glossy/src/sys/open.c:3:45: warning: unused parameter 'path' [-Wunused-parameter]\n",
      "    3 | __attribute__((weak)) int _open(const char *path, int flags, int mode) {\n",
      "      |                                 ~~~~~~~~~~~~^~~~\n",
      "/tools/C/tedkim7/sp24-Baremetal-IDE/glossy/src/sys/open.c:3:55: warning: unused parameter 'flags' [-Wunused-parameter]\n",
      "    3 | __attribute__((weak)) int _open(const char *path, int flags, int mode) {\n",
      "      |                                                   ~~~~^~~~~\n",
      "/tools/C/tedkim7/sp24-Baremetal-IDE/glossy/src/sys/open.c:3:66: warning: unused parameter 'mode' [-Wunused-parameter]\n",
      "    3 | __attribute__((weak)) int _open(const char *path, int flags, int mode) {\n",
      "      |                                                              ~~~~^~~~\n"
     ]
    },
    {
     "name": "stdout",
     "output_type": "stream",
     "text": [
      "[ 83%] \u001b[32mBuilding C object glossy/CMakeFiles/glossy.dir/src/sys/read.c.obj\u001b[0m\n"
     ]
    },
    {
     "name": "stderr",
     "output_type": "stream",
     "text": [
      "/tools/C/tedkim7/sp24-Baremetal-IDE/glossy/src/sys/read.c: In function '_read':\n",
      "/tools/C/tedkim7/sp24-Baremetal-IDE/glossy/src/sys/read.c:5:41: warning: unused parameter 'file' [-Wunused-parameter]\n",
      "    5 | __attribute__((weak)) ssize_t _read(int file, void *ptr, size_t len) {\n",
      "      |                                     ~~~~^~~~\n",
      "/tools/C/tedkim7/sp24-Baremetal-IDE/glossy/src/sys/read.c:5:53: warning: unused parameter 'ptr' [-Wunused-parameter]\n",
      "    5 | __attribute__((weak)) ssize_t _read(int file, void *ptr, size_t len) {\n",
      "      |                                               ~~~~~~^~~\n",
      "/tools/C/tedkim7/sp24-Baremetal-IDE/glossy/src/sys/read.c:5:65: warning: unused parameter 'len' [-Wunused-parameter]\n",
      "    5 | __attribute__((weak)) ssize_t _read(int file, void *ptr, size_t len) {\n",
      "      |                                                          ~~~~~~~^~~\n"
     ]
    },
    {
     "name": "stdout",
     "output_type": "stream",
     "text": [
      "[ 86%] \u001b[32mBuilding C object glossy/CMakeFiles/glossy.dir/src/sys/sbrk.c.obj\u001b[0m\n",
      "[ 88%] \u001b[32mBuilding C object glossy/CMakeFiles/glossy.dir/src/sys/time.c.obj\u001b[0m\n",
      "[ 91%] \u001b[32mBuilding C object glossy/CMakeFiles/glossy.dir/src/sys/write.c.obj\u001b[0m\n"
     ]
    },
    {
     "name": "stderr",
     "output_type": "stream",
     "text": [
      "/tools/C/tedkim7/sp24-Baremetal-IDE/glossy/src/sys/write.c: In function '_write':\n",
      "/tools/C/tedkim7/sp24-Baremetal-IDE/glossy/src/sys/write.c:8:42: warning: unused parameter 'fd' [-Wunused-parameter]\n",
      "    8 | __attribute__((weak)) ssize_t _write(int fd, const void *ptr, size_t len) {\n",
      "      |                                      ~~~~^~\n"
     ]
    },
    {
     "name": "stdout",
     "output_type": "stream",
     "text": [
      "[ 94%] \u001b[32m\u001b[1mLinking C static library libglossy.a\u001b[0m\n",
      "gmake[4]: Leaving directory '/bwrcq/C/tedkim7/sp24-Baremetal-IDE/build'\n",
      "[ 94%] Built target glossy\n",
      "gmake[4]: Entering directory '/bwrcq/C/tedkim7/sp24-Baremetal-IDE/build'\n",
      "gmake[4]: Leaving directory '/bwrcq/C/tedkim7/sp24-Baremetal-IDE/build'\n",
      "gmake[4]: Entering directory '/bwrcq/C/tedkim7/sp24-Baremetal-IDE/build'\n",
      "[ 97%] \u001b[32mBuilding C object CMakeFiles/shmoo_bench.dir/shmoo_bench/nearmem_matmul/src/main.c.obj\u001b[0m\n"
     ]
    },
    {
     "name": "stderr",
     "output_type": "stream",
     "text": [
      "/tools/C/tedkim7/sp24-Baremetal-IDE/shmoo_bench/nearmem_matmul/src/main.c: In function 'app_main':\n",
      "/tools/C/tedkim7/sp24-Baremetal-IDE/shmoo_bench/nearmem_matmul/src/main.c:56:47: warning: expression does not compute the number of elements in this array; element type is 'uint64_t' {aka 'volatile long unsigned int'}, not 'uint8_t' {aka 'unsigned char'} [-Wsizeof-array-div]\n",
      "   56 |     int8_t operandReg[sizeof(DMA1->operandReg)/sizeof(uint8_t)];\n",
      "      |                                               ^\n",
      "/tools/C/tedkim7/sp24-Baremetal-IDE/shmoo_bench/nearmem_matmul/src/main.c:56:47: note: add parentheses around the second 'sizeof' to silence this warning\n",
      "/tools/C/tedkim7/sp24-Baremetal-IDE/shmoo_bench/nearmem_matmul/src/main.c:65:43: warning: expression does not compute the number of elements in this array; element type is 'uint64_t' {aka 'volatile long unsigned int'}, not 'int16_t' {aka 'short int'} [-Wsizeof-array-div]\n",
      "   65 |     int16_t expected[sizeof(DMA1->destReg)/sizeof(int16_t)];\n",
      "      |                                           ^\n",
      "/tools/C/tedkim7/sp24-Baremetal-IDE/shmoo_bench/nearmem_matmul/src/main.c:65:43: note: add parentheses around the second 'sizeof' to silence this warning\n",
      "In file included from /tools/C/tedkim7/sp24-Baremetal-IDE/shmoo_bench/nearmem_matmul/src/main.c:24:\n",
      "/tools/C/tedkim7/sp24-Baremetal-IDE/shmoo_bench/nearmem_matmul/include/nearmemdma.h:28:14: warning: passing argument 1 of 'memcpy' discards 'volatile' qualifier from pointer target type [-Wdiscarded-qualifiers]\n",
      "   28 | #define DMA1 ((volatile dma*) 0x8800000)\n",
      "/tools/C/tedkim7/sp24-Baremetal-IDE/shmoo_bench/nearmem_matmul/src/main.c:92:12: note: in expansion of macro 'DMA1'\n",
      "   92 |     memcpy(DMA1->operandReg, operandReg, sizeof(operandReg));\n",
      "      |            ^~~~\n",
      "In file included from /tools/C/tedkim7/sp24-Baremetal-IDE/shmoo_bench/nearmem_matmul/include/main.h:33,\n",
      "                 from /tools/C/tedkim7/sp24-Baremetal-IDE/shmoo_bench/nearmem_matmul/src/main.c:17:\n",
      "/bwrcq/C/ee290-fa24-2/.conda-env/riscv-tools/riscv64-unknown-elf/include/string.h:31:18: note: expected 'void * restrict' but argument is of type 'volatile uint64_t *' {aka 'volatile long unsigned int *'}\n",
      "   31 | void *   memcpy (void *__restrict, const void *__restrict, size_t);\n",
      "      |                  ^\n",
      "/tools/C/tedkim7/sp24-Baremetal-IDE/shmoo_bench/nearmem_matmul/src/main.c:101:20: warning: 'return' with a value, in function returning void [-Wreturn-type]\n",
      "  101 |             return 1;\n",
      "      |                    ^\n",
      "/tools/C/tedkim7/sp24-Baremetal-IDE/shmoo_bench/nearmem_matmul/src/main.c:45:6: note: declared here\n",
      "   45 | void app_main() {\n",
      "      |      ^~~~~~~~\n",
      "/tools/C/tedkim7/sp24-Baremetal-IDE/shmoo_bench/nearmem_matmul/src/main.c:104:14: warning: unused variable 'cpu_end_cycles' [-Wunused-variable]\n",
      "  104 |     uint64_t cpu_end_cycles = READ_CSR(\"mcycle\");\n",
      "      |              ^~~~~~~~~~~~~~\n",
      "/tools/C/tedkim7/sp24-Baremetal-IDE/shmoo_bench/nearmem_matmul/src/main.c:93:14: warning: unused variable 'cpu_start_cycles' [-Wunused-variable]\n",
      "   93 |     uint64_t cpu_start_cycles = READ_CSR(\"mcycle\");\n",
      "      |              ^~~~~~~~~~~~~~~~\n",
      "/tools/C/tedkim7/sp24-Baremetal-IDE/shmoo_bench/nearmem_matmul/src/main.c:65:13: warning: variable 'expected' set but not used [-Wunused-but-set-variable]\n",
      "   65 |     int16_t expected[sizeof(DMA1->destReg)/sizeof(int16_t)];\n",
      "      |             ^~~~~~~~\n",
      "/tools/C/tedkim7/sp24-Baremetal-IDE/shmoo_bench/nearmem_matmul/src/main.c: In function 'main':\n",
      "/tools/C/tedkim7/sp24-Baremetal-IDE/shmoo_bench/nearmem_matmul/src/main.c:146:14: warning: unused parameter 'argc' [-Wunused-parameter]\n",
      "  146 | int main(int argc, char **argv) {\n",
      "      |          ~~~~^~~~\n",
      "/tools/C/tedkim7/sp24-Baremetal-IDE/shmoo_bench/nearmem_matmul/src/main.c:146:27: warning: unused parameter 'argv' [-Wunused-parameter]\n",
      "  146 | int main(int argc, char **argv) {\n",
      "      |                    ~~~~~~~^~~~\n"
     ]
    },
    {
     "name": "stdout",
     "output_type": "stream",
     "text": [
      "[100%] \u001b[32m\u001b[1mLinking C executable shmoo_bench.elf\u001b[0m\n"
     ]
    },
    {
     "name": "stderr",
     "output_type": "stream",
     "text": [
      "/bwrcq/C/ee290-fa24-2/.conda-env/riscv-tools/bin/../lib/gcc/riscv64-unknown-elf/13.2.0/../../../../riscv64-unknown-elf/bin/ld: warning: shmoo_bench.elf has a LOAD segment with RWX permissions\n"
     ]
    },
    {
     "name": "stdout",
     "output_type": "stream",
     "text": [
      "gmake[4]: Leaving directory '/bwrcq/C/tedkim7/sp24-Baremetal-IDE/build'\n",
      "[100%] Built target shmoo_bench\n",
      "gmake[3]: Leaving directory '/bwrcq/C/tedkim7/sp24-Baremetal-IDE/build'\n",
      "gmake[2]: Leaving directory '/bwrcq/C/tedkim7/sp24-Baremetal-IDE/build'\n",
      "gmake[1]: Leaving directory '/bwrcq/C/tedkim7/sp24-Baremetal-IDE/build'\n",
      "**Clock set to: 100MHz**\n",
      "**Voltage set to: +5.00000000E-01\n",
      "V**\n"
     ]
    },
    {
     "name": "stderr",
     "output_type": "stream",
     "text": [
      "warning: tohost and fromhost symbols not in ELF; can't communicate with target\n"
     ]
    },
    {
     "name": "stdout",
     "output_type": "stream",
     "text": [
      "Starting UART-based TSI\n",
      "Usage: ./uart_tsi +tty=/dev/pts/xx <PLUSARGS> <bin>\n",
      "       ./uart_tsi +tty=/dev/ttyxx  <PLUSARGS> <bin>\n",
      "       ./uart_tsi +tty=/dev/ttyxx  +no_hart0_msip +init_write=0x80000000:0xdeadbeef none\n",
      "       ./uart_tsi +tty=/dev/ttyxx  +no_hart0_msip +init_read=0x80000000 none\n",
      "       ./uart_tsi +tty=/dev/ttyxx  +selfcheck <bin>\n",
      "       ./uart_tsi +tty=/dev/ttyxx  +baudrate=921600 <bin>\n",
      "Attempting to open TTY at /dev/ttyUSB2\n",
      "Warning: You selected a non-standard baudrate. This will only work if the HW was configured with this baud-rate\n",
      "Checking connection status with /dev/ttyUSB2\n",
      "Connection succeeded\n",
      "Done, shutting down, flushing UART\n",
      "WARNING: You should probably reset the target before running this program again\n",
      "Done: now reset during the sleep before next iteration\n",
      "**Voltage set to: +5.50000000E-01\n",
      "V**\n"
     ]
    },
    {
     "name": "stderr",
     "output_type": "stream",
     "text": [
      "warning: tohost and fromhost symbols not in ELF; can't communicate with target\n"
     ]
    },
    {
     "name": "stdout",
     "output_type": "stream",
     "text": [
      "Starting UART-based TSI\n",
      "Usage: ./uart_tsi +tty=/dev/pts/xx <PLUSARGS> <bin>\n",
      "       ./uart_tsi +tty=/dev/ttyxx  <PLUSARGS> <bin>\n",
      "       ./uart_tsi +tty=/dev/ttyxx  +no_hart0_msip +init_write=0x80000000:0xdeadbeef none\n",
      "       ./uart_tsi +tty=/dev/ttyxx  +no_hart0_msip +init_read=0x80000000 none\n",
      "       ./uart_tsi +tty=/dev/ttyxx  +selfcheck <bin>\n",
      "       ./uart_tsi +tty=/dev/ttyxx  +baudrate=921600 <bin>\n",
      "Attempting to open TTY at /dev/ttyUSB2\n",
      "Warning: You selected a non-standard baudrate. This will only work if the HW was configured with this baud-rate\n",
      "Checking connection status with /dev/ttyUSB2\n",
      "Connection succeeded\n",
      "Done, shutting down, flushing UART\n",
      "WARNING: You should probably reset the target before running this program again\n",
      "Done: now reset during the sleep before next iteration\n",
      "**Voltage set to: +6.00000000E-01\n",
      "V**\n"
     ]
    },
    {
     "name": "stderr",
     "output_type": "stream",
     "text": [
      "warning: tohost and fromhost symbols not in ELF; can't communicate with target\n"
     ]
    },
    {
     "name": "stdout",
     "output_type": "stream",
     "text": [
      "Starting UART-based TSI\n",
      "Usage: ./uart_tsi +tty=/dev/pts/xx <PLUSARGS> <bin>\n",
      "       ./uart_tsi +tty=/dev/ttyxx  <PLUSARGS> <bin>\n",
      "       ./uart_tsi +tty=/dev/ttyxx  +no_hart0_msip +init_write=0x80000000:0xdeadbeef none\n",
      "       ./uart_tsi +tty=/dev/ttyxx  +no_hart0_msip +init_read=0x80000000 none\n",
      "       ./uart_tsi +tty=/dev/ttyxx  +selfcheck <bin>\n",
      "       ./uart_tsi +tty=/dev/ttyxx  +baudrate=921600 <bin>\n",
      "Attempting to open TTY at /dev/ttyUSB2\n",
      "Warning: You selected a non-standard baudrate. This will only work if the HW was configured with this baud-rate\n",
      "Checking connection status with /dev/ttyUSB2\n",
      "Connection succeeded\n",
      "Done, shutting down, flushing UART\n",
      "WARNING: You should probably reset the target before running this program again\n",
      "Done: now reset during the sleep before next iteration\n",
      "**Voltage set to: +6.50000000E-01\n",
      "V**\n"
     ]
    },
    {
     "name": "stderr",
     "output_type": "stream",
     "text": [
      "warning: tohost and fromhost symbols not in ELF; can't communicate with target\n"
     ]
    },
    {
     "name": "stdout",
     "output_type": "stream",
     "text": [
      "Starting UART-based TSI\n",
      "Usage: ./uart_tsi +tty=/dev/pts/xx <PLUSARGS> <bin>\n",
      "       ./uart_tsi +tty=/dev/ttyxx  <PLUSARGS> <bin>\n",
      "       ./uart_tsi +tty=/dev/ttyxx  +no_hart0_msip +init_write=0x80000000:0xdeadbeef none\n",
      "       ./uart_tsi +tty=/dev/ttyxx  +no_hart0_msip +init_read=0x80000000 none\n",
      "       ./uart_tsi +tty=/dev/ttyxx  +selfcheck <bin>\n",
      "       ./uart_tsi +tty=/dev/ttyxx  +baudrate=921600 <bin>\n",
      "Attempting to open TTY at /dev/ttyUSB2\n",
      "Warning: You selected a non-standard baudrate. This will only work if the HW was configured with this baud-rate\n",
      "Checking connection status with /dev/ttyUSB2\n",
      "Connection succeeded\n",
      "Done, shutting down, flushing UART\n",
      "WARNING: You should probably reset the target before running this program again\n",
      "Done: now reset during the sleep before next iteration\n",
      "**Voltage set to: +7.00000000E-01\n",
      "V**\n"
     ]
    },
    {
     "name": "stderr",
     "output_type": "stream",
     "text": [
      "warning: tohost and fromhost symbols not in ELF; can't communicate with target\n"
     ]
    },
    {
     "name": "stdout",
     "output_type": "stream",
     "text": [
      "Starting UART-based TSI\n",
      "Usage: ./uart_tsi +tty=/dev/pts/xx <PLUSARGS> <bin>\n",
      "       ./uart_tsi +tty=/dev/ttyxx  <PLUSARGS> <bin>\n",
      "       ./uart_tsi +tty=/dev/ttyxx  +no_hart0_msip +init_write=0x80000000:0xdeadbeef none\n",
      "       ./uart_tsi +tty=/dev/ttyxx  +no_hart0_msip +init_read=0x80000000 none\n",
      "       ./uart_tsi +tty=/dev/ttyxx  +selfcheck <bin>\n",
      "       ./uart_tsi +tty=/dev/ttyxx  +baudrate=921600 <bin>\n",
      "Attempting to open TTY at /dev/ttyUSB2\n",
      "Warning: You selected a non-standard baudrate. This will only work if the HW was configured with this baud-rate\n",
      "Checking connection status with /dev/ttyUSB2\n",
      "Connection succeeded\n",
      "Done, shutting down, flushing UART\n",
      "WARNING: You should probably reset the target before running this program again\n",
      "Done: now reset during the sleep before next iteration\n",
      "**Voltage set to: +7.50000000E-01\n",
      "V**\n"
     ]
    },
    {
     "name": "stderr",
     "output_type": "stream",
     "text": [
      "warning: tohost and fromhost symbols not in ELF; can't communicate with target\n"
     ]
    },
    {
     "name": "stdout",
     "output_type": "stream",
     "text": [
      "Starting UART-based TSI\n",
      "Usage: ./uart_tsi +tty=/dev/pts/xx <PLUSARGS> <bin>\n",
      "       ./uart_tsi +tty=/dev/ttyxx  <PLUSARGS> <bin>\n",
      "       ./uart_tsi +tty=/dev/ttyxx  +no_hart0_msip +init_write=0x80000000:0xdeadbeef none\n",
      "       ./uart_tsi +tty=/dev/ttyxx  +no_hart0_msip +init_read=0x80000000 none\n",
      "       ./uart_tsi +tty=/dev/ttyxx  +selfcheck <bin>\n",
      "       ./uart_tsi +tty=/dev/ttyxx  +baudrate=921600 <bin>\n",
      "Attempting to open TTY at /dev/ttyUSB2\n",
      "Warning: You selected a non-standard baudrate. This will only work if the HW was configured with this baud-rate\n",
      "Checking connection status with /dev/ttyUSB2\n",
      "Connection succeeded\n",
      "Done, shutting down, flushing UART\n",
      "WARNING: You should probably reset the target before running this program again\n",
      "Done: now reset during the sleep before next iteration\n",
      "**Voltage set to: +8.00000000E-01\n",
      "V**\n"
     ]
    },
    {
     "name": "stderr",
     "output_type": "stream",
     "text": [
      "warning: tohost and fromhost symbols not in ELF; can't communicate with target\n"
     ]
    },
    {
     "name": "stdout",
     "output_type": "stream",
     "text": [
      "Starting UART-based TSI\n",
      "Usage: ./uart_tsi +tty=/dev/pts/xx <PLUSARGS> <bin>\n",
      "       ./uart_tsi +tty=/dev/ttyxx  <PLUSARGS> <bin>\n",
      "       ./uart_tsi +tty=/dev/ttyxx  +no_hart0_msip +init_write=0x80000000:0xdeadbeef none\n",
      "       ./uart_tsi +tty=/dev/ttyxx  +no_hart0_msip +init_read=0x80000000 none\n",
      "       ./uart_tsi +tty=/dev/ttyxx  +selfcheck <bin>\n",
      "       ./uart_tsi +tty=/dev/ttyxx  +baudrate=921600 <bin>\n",
      "Attempting to open TTY at /dev/ttyUSB2\n",
      "Warning: You selected a non-standard baudrate. This will only work if the HW was configured with this baud-rate\n",
      "Checking connection status with /dev/ttyUSB2\n",
      "Connection succeeded\n",
      "Done, shutting down, flushing UART\n",
      "WARNING: You should probably reset the target before running this program again\n",
      "Done: now reset during the sleep before next iteration\n",
      "**Voltage set to: +8.50000000E-01\n",
      "V**\n"
     ]
    },
    {
     "name": "stderr",
     "output_type": "stream",
     "text": [
      "warning: tohost and fromhost symbols not in ELF; can't communicate with target\n"
     ]
    },
    {
     "name": "stdout",
     "output_type": "stream",
     "text": [
      "Starting UART-based TSI\n",
      "Usage: ./uart_tsi +tty=/dev/pts/xx <PLUSARGS> <bin>\n",
      "       ./uart_tsi +tty=/dev/ttyxx  <PLUSARGS> <bin>\n",
      "       ./uart_tsi +tty=/dev/ttyxx  +no_hart0_msip +init_write=0x80000000:0xdeadbeef none\n",
      "       ./uart_tsi +tty=/dev/ttyxx  +no_hart0_msip +init_read=0x80000000 none\n",
      "       ./uart_tsi +tty=/dev/ttyxx  +selfcheck <bin>\n",
      "       ./uart_tsi +tty=/dev/ttyxx  +baudrate=921600 <bin>\n",
      "Attempting to open TTY at /dev/ttyUSB2\n",
      "Warning: You selected a non-standard baudrate. This will only work if the HW was configured with this baud-rate\n",
      "Checking connection status with /dev/ttyUSB2\n",
      "Connection succeeded\n",
      "Done, shutting down, flushing UART\n",
      "WARNING: You should probably reset the target before running this program again\n",
      "Done: now reset during the sleep before next iteration\n",
      "**Voltage set to: +9.00000000E-01\n",
      "V**\n"
     ]
    },
    {
     "name": "stderr",
     "output_type": "stream",
     "text": [
      "warning: tohost and fromhost symbols not in ELF; can't communicate with target\n"
     ]
    },
    {
     "name": "stdout",
     "output_type": "stream",
     "text": [
      "Starting UART-based TSI\n",
      "Usage: ./uart_tsi +tty=/dev/pts/xx <PLUSARGS> <bin>\n",
      "       ./uart_tsi +tty=/dev/ttyxx  <PLUSARGS> <bin>\n",
      "       ./uart_tsi +tty=/dev/ttyxx  +no_hart0_msip +init_write=0x80000000:0xdeadbeef none\n",
      "       ./uart_tsi +tty=/dev/ttyxx  +no_hart0_msip +init_read=0x80000000 none\n",
      "       ./uart_tsi +tty=/dev/ttyxx  +selfcheck <bin>\n",
      "       ./uart_tsi +tty=/dev/ttyxx  +baudrate=921600 <bin>\n",
      "Attempting to open TTY at /dev/ttyUSB2\n",
      "Warning: You selected a non-standard baudrate. This will only work if the HW was configured with this baud-rate\n",
      "Checking connection status with /dev/ttyUSB2\n",
      "Connection succeeded\n",
      "Done, shutting down, flushing UART\n",
      "WARNING: You should probably reset the target before running this program again\n",
      "Done: now reset during the sleep before next iteration\n",
      "**Voltage set to: +9.50000000E-01\n",
      "V**\n"
     ]
    },
    {
     "name": "stderr",
     "output_type": "stream",
     "text": [
      "warning: tohost and fromhost symbols not in ELF; can't communicate with target\n"
     ]
    },
    {
     "name": "stdout",
     "output_type": "stream",
     "text": [
      "Starting UART-based TSI\n",
      "Usage: ./uart_tsi +tty=/dev/pts/xx <PLUSARGS> <bin>\n",
      "       ./uart_tsi +tty=/dev/ttyxx  <PLUSARGS> <bin>\n",
      "       ./uart_tsi +tty=/dev/ttyxx  +no_hart0_msip +init_write=0x80000000:0xdeadbeef none\n",
      "       ./uart_tsi +tty=/dev/ttyxx  +no_hart0_msip +init_read=0x80000000 none\n",
      "       ./uart_tsi +tty=/dev/ttyxx  +selfcheck <bin>\n",
      "       ./uart_tsi +tty=/dev/ttyxx  +baudrate=921600 <bin>\n",
      "Attempting to open TTY at /dev/ttyUSB2\n",
      "Warning: You selected a non-standard baudrate. This will only work if the HW was configured with this baud-rate\n",
      "Checking connection status with /dev/ttyUSB2\n",
      "Connection succeeded\n",
      "Done, shutting down, flushing UART\n",
      "WARNING: You should probably reset the target before running this program again\n",
      "Done: now reset during the sleep before next iteration\n",
      "**Voltage set to: +1.00000000E+00\n",
      "V**\n"
     ]
    },
    {
     "name": "stderr",
     "output_type": "stream",
     "text": [
      "warning: tohost and fromhost symbols not in ELF; can't communicate with target\n"
     ]
    },
    {
     "name": "stdout",
     "output_type": "stream",
     "text": [
      "Starting UART-based TSI\n",
      "Usage: ./uart_tsi +tty=/dev/pts/xx <PLUSARGS> <bin>\n",
      "       ./uart_tsi +tty=/dev/ttyxx  <PLUSARGS> <bin>\n",
      "       ./uart_tsi +tty=/dev/ttyxx  +no_hart0_msip +init_write=0x80000000:0xdeadbeef none\n",
      "       ./uart_tsi +tty=/dev/ttyxx  +no_hart0_msip +init_read=0x80000000 none\n",
      "       ./uart_tsi +tty=/dev/ttyxx  +selfcheck <bin>\n",
      "       ./uart_tsi +tty=/dev/ttyxx  +baudrate=921600 <bin>\n",
      "Attempting to open TTY at /dev/ttyUSB2\n",
      "Warning: You selected a non-standard baudrate. This will only work if the HW was configured with this baud-rate\n",
      "Checking connection status with /dev/ttyUSB2\n",
      "Connection succeeded\n",
      "Done, shutting down, flushing UART\n",
      "WARNING: You should probably reset the target before running this program again\n",
      "Done: now reset during the sleep before next iteration\n",
      "Finished\n"
     ]
    }
   ],
   "source": [
    "while current_clock <= end_clock:\n",
    "     # remake to adjust with the frequency\n",
    "     subprocess.run([\"make\", \"clean\"], cwd=\"../../\")\n",
    "\n",
    "     with open(\"../../platform/bearly24/freq.h\", \"w\") as f:\n",
    "          f.write('''#ifndef __FREQ_H\n",
    "                    #define __FREQ_H\n",
    "                    ''')\n",
    "          f.write(f'''#define MTIME_FREQ     {current_clock}000000\n",
    "                    #define SYS_CLK_FREQ   {current_clock}000000\n",
    "                    ''')\n",
    "          f.write(\"#endif\")\n",
    "\n",
    "     subprocess.run([\"make\", \"shmoo_bearly\"], cwd=\"../../\")\n",
    "\n",
    "     clk.write(f\":FREQ {current_clock}MHz\")\n",
    "     print(f\"**Clock set to: {current_clock}MHz**\") \n",
    "\n",
    "\n",
    "     while current_voltage <= end_voltage: # Set the voltage   \n",
    "          psu.write(f\"VOLT {current_voltage}\")\n",
    "          psu.write(\"OUTP ON, (@2)\")\n",
    "\n",
    "          voltage = psu.query(\"VOLT?\") \n",
    "          print(f\"**Voltage set to: {voltage}V**\") \n",
    "\n",
    "          # test subprocess with simple hello\n",
    "          with subprocess.Popen([\"uart_tsi\", \"+tty=/dev/ttyUSB2\", \"+baudrate=921600\", \"../../build/shmoo_bench.elf\"]) as proc:\n",
    "               measured_voltages = []\n",
    "               measured_currents = []\n",
    "               start_time = time.time()\n",
    "               timeout = False\n",
    "               with serial.Serial('/dev/ttyUSB0', 115200, timeout=7) as ser:\n",
    "                    while (ser.inWaiting() == 0):\n",
    "                         ## measure the voltage + current\n",
    "                         if time.time() - start_time >= 7:\n",
    "                              timeout = True\n",
    "                              break\n",
    "                         measured_voltages.append(psu.query(\"MEAS:VOLT?\"))\n",
    "                         measured_currents.append(psu.query(\"MEAS:CURR?\"))\n",
    "                    if timeout:\n",
    "                         length = min(len(measured_currents), len(measured_voltages))\n",
    "                         power_consumption = sum([float(measured_voltages[i]) * float(measured_currents[i]) for i in range(length)]) / length\n",
    "                         with open('../../output.txt', 'a') as file:\n",
    "                              file.write(f\"Freq: {current_clock}, Voltage: {current_voltage}, Output: Invalid, Power: {power_consumption}\\n\")\n",
    "                              proc.terminate()\n",
    "                              proc.wait()     \n",
    "                    else:\n",
    "                         line = ser.readline()\n",
    "                         new_line = line.decode(\"utf-8\")\n",
    "\n",
    "                         res = \"Valid\"\n",
    "                         if not new_line.strip() == expected_output.strip():\n",
    "                              res = \"Invalid\"\n",
    "                         \n",
    "                         ## calculate power consumption\n",
    "                         length = min(len(measured_currents), len(measured_voltages))\n",
    "                         power_consumption = sum([float(measured_voltages[i]) * float(measured_currents[i]) for i in range(length)]) / length\n",
    "                         with open('../../output.txt', 'a') as file:\n",
    "                              file.write(f\"Freq: {current_clock}, Voltage: {current_voltage}, Output: {res}, Power {power_consumption}\\n\")\n",
    "                              proc.terminate()\n",
    "                              proc.wait()\n",
    "          \n",
    "\n",
    "\n",
    "          print(\"Done: now reset during the sleep before next iteration\")\n",
    "          time.sleep(7)\n",
    "\n",
    "          current_voltage += step_size\n",
    "     current_voltage = start_voltage\n",
    "     current_clock += step_size_clock\n",
    "\n",
    "print(\"Finished\")\n",
    "\n",
    "psu.close()\n",
    "\n",
    "current_clock = start_clock\n",
    "current_voltage = start_voltage"
   ]
  },
  {
   "cell_type": "markdown",
   "metadata": {},
   "source": [
    "#### Generate Shmoo Plot"
   ]
  },
  {
   "cell_type": "code",
   "execution_count": 2,
   "metadata": {},
   "outputs": [
    {
     "data": {
      "image/png": "[encoded data removed]",
      "text/plain": [
       "<Figure size 1200x800 with 1 Axes>"
      ]
     },
     "metadata": {},
     "output_type": "display_data"
    }
   ],
   "source": [
    "import matplotlib.pyplot as plt\n",
    "import numpy as np\n",
    "\n",
    "def read_data(file_name):\n",
    "    freq_values = []\n",
    "    voltage_values = []\n",
    "    valid_values = []\n",
    "    power_values = []\n",
    "\n",
    "    with open(file_name, 'r') as file:\n",
    "        for line in file:\n",
    "            parts = line.strip().split(', ')\n",
    "            freq = float(parts[0].split(': ')[1])\n",
    "            voltage = round(float(parts[1].split(': ')[1]), 2)\n",
    "            valid = parts[2].split(': ')[1]\n",
    "            power = float(parts[3].split(': ')[1])\n",
    "\n",
    "            freq_values.append(freq)\n",
    "            voltage_values.append(voltage)\n",
    "            valid_values.append(valid)\n",
    "            power_values.append(power)\n",
    "    \n",
    "    return freq_values, voltage_values, valid_values, power_values\n",
    "\n",
    "file_name = '../../output.txt'\n",
    "\n",
    "freq_values, voltage_values, valid_values, power_values = read_data(file_name)\n",
    "\n",
    "unique_freqs = np.unique(freq_values)\n",
    "unique_voltages = np.unique(voltage_values)\n",
    "\n",
    "shmoo_plot = np.zeros((len(unique_voltages), len(unique_freqs)))\n",
    "power_plot = np.zeros((len(unique_voltages), len(unique_freqs)))\n",
    "\n",
    "for i, freq in enumerate(unique_freqs):\n",
    "    for j, voltage in enumerate(unique_voltages):\n",
    "        validity = valid_values[i * len(unique_voltages) + j]\n",
    "        if validity == \"Valid\":\n",
    "            shmoo_plot[j, i] = 1\n",
    "            power_plot[j, i] = power_values[i * len(unique_voltages) + j]\n",
    "\n",
    "plt.figure(figsize=(12, 8))\n",
    "\n",
    "cmap = plt.cm.colors.ListedColormap(['red', 'springgreen'])\n",
    "\n",
    "plt.imshow(shmoo_plot, cmap=cmap, aspect='auto', origin='lower')\n",
    "\n",
    "for i in range(len(unique_freqs)):\n",
    "    for j in range(len(unique_voltages)):\n",
    "        if shmoo_plot[j, i] == 1:  # Valid\n",
    "            plt.text(i, j, f'{power_plot[j, i]:.3f}W', ha='center', va='center', fontsize=8, color='black')\n",
    "\n",
    "plt.xlabel('Frequency (MHz)')\n",
    "plt.ylabel('Voltage (V)')\n",
    "plt.title('Shmoo Plot with Power Consumption')\n",
    "\n",
    "plt.xticks(np.arange(len(unique_freqs)), unique_freqs, rotation=45)\n",
    "plt.yticks(np.arange(len(unique_voltages)), unique_voltages)\n",
    "\n",
    "plt.tight_layout()\n",
    "plt.show()\n"
   ]
  }
 ],
 "metadata": {
  "kernelspec": {
   "display_name": "Python 3",
   "language": "python",
   "name": "python3"
  },
  "language_info": {
   "codemirror_mode": {
    "name": "ipython",
    "version": 3
   },
   "file_extension": ".py",
   "mimetype": "text/x-python",
   "name": "python",
   "nbconvert_exporter": "python",
   "pygments_lexer": "ipython3",
   "version": "3.13.0"
  }
 },
 "nbformat": 4,
 "nbformat_minor": 2
}
