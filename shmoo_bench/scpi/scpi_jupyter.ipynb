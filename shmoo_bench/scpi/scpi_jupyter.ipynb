{
 "cells": [
  {
   "cell_type": "markdown",
   "metadata": {},
   "source": [
    "# Shmoo Plot Demo"
   ]
  },
  {
   "cell_type": "code",
   "execution_count": 116,
   "metadata": {},
   "outputs": [
    {
     "name": "stdout",
     "output_type": "stream",
     "text": [
      "Power supply: Keysight Technologies,E36312A,MY57010726,1.0.4-1.0.0-1.04\n",
      "\n",
      "Clock generator: Agilent Technologies, 81134A, DE42800131, Ver 2.9.3\n",
      "\n"
     ]
    }
   ],
   "source": [
    "# Equipment setup\n",
    "\n",
    "import pyvisa\n",
    "import time\n",
    "import subprocess\n",
    "import serial\n",
    "\n",
    "# Establish connection to the power supply\n",
    "rm = pyvisa.ResourceManager(\"@py\")\n",
    "\n",
    "# psu = rm.open_resource('TCPIP::169.254.58.10::gpib0,7::INSTR')                  ## for the Agilent power supply\n",
    "\n",
    "psu = rm.open_resource('TCPIP::169.254.201.77::lan0::INSTR')                    ## for the Keysight power supply\n",
    "\n",
    "clk = rm.open_resource('TCPIP::169.254.201.101::lan0::INSTR')\n",
    "\n",
    "# Need to verify that this is the power supply. psu_verification should be \n",
    "# something like \"Keysight Technologies,E3646A,0,X.X-Y.Y-Z.Z\"\n",
    "psu_verification = psu.query(\"*IDN?\")\n",
    "clk_verification = clk.query(\"*IDN?\")\n",
    "\n",
    "print(\"Power supply:\", psu_verification)\n",
    "print(\"Clock generator:\", clk_verification)\n",
    "\n",
    "# psu.write(\"*RST\")  # Reset the power supply\n",
    "\n",
    "start_voltage = 0.5\n",
    "\n",
    "end_voltage = 1.25\n",
    "\n",
    "step_size = 0.05  \n",
    "\n",
    "start_clock = 250\n",
    "\n",
    "end_clock = 850\n",
    "\n",
    "step_size_clock = 50\n",
    "\n",
    "# Loop through the voltage range and set the voltage\n",
    "current_voltage = start_voltage \n",
    "\n",
    "current_clock = start_clock\n",
    "\n",
    "psu.write(\"OUTP ON, (@2)\")\n",
    "\n",
    "# Only channel 2 works\n",
    "# psu.write(\"INST:SEL OUT2\")\n",
    "psu.write(\"INST:SEL CH2\")\n",
    "\n",
    "# Set current to 500mA\n",
    "psu.write(\"CURR 0.5\")\n",
    "\n",
    "# Start the clock at 20MHz\n",
    "clk.write(\":OUTP1:POS ON\") # Initialize clk gen channel 1 output\n",
    "clk.write(\":FUNC:PATT\")\n",
    "\n",
    "\n",
    "# expected_output = \"32767 32767 32767 32767 32767 32767 32767 32767 32767 32767\"\n",
    "expected_output = \"0 4400 4600 4800 4900 4a00 4b00 4c00 4c80 4d00 4d80 4e00 4e80 4f00 4f80 5000\""
   ]
  },
  {
   "cell_type": "markdown",
   "metadata": {},
   "source": []
  },
  {
   "cell_type": "markdown",
   "metadata": {},
   "source": [
    "#### Remember to reset the board!"
   ]
  },
  {
   "cell_type": "code",
   "execution_count": 117,
   "metadata": {},
   "outputs": [
    {
     "name": "stdout",
     "output_type": "stream",
     "text": [
      "rm -rf build\n",
      "cmake -S ./ -B ./build/ -D CMAKE_TOOLCHAIN_FILE=./riscv-gcc.cmake -DCHIP=dsp24\n",
      "-- The ASM compiler identification is GNU\n",
      "-- Found assembler: /tools/C/ee290-fa24-2/.conda-env/riscv-tools/bin/riscv64-unknown-elf-gcc\n",
      "-- The C compiler identification is GNU 13.2.0\n",
      "-- The CXX compiler identification is GNU 13.2.0\n",
      "-- Detecting C compiler ABI info\n",
      "-- Detecting C compiler ABI info - done\n",
      "-- Check for working C compiler: /tools/C/ee290-fa24-2/.conda-env/riscv-tools/bin/riscv64-unknown-elf-gcc - skipped\n",
      "-- Detecting C compile features\n",
      "-- Detecting C compile features - done\n",
      "-- Detecting CXX compiler ABI info\n",
      "-- Detecting CXX compiler ABI info - done\n",
      "-- Check for working CXX compiler: /tools/C/ee290-fa24-2/.conda-env/riscv-tools/bin/riscv64-unknown-elf-g++ - skipped\n",
      "-- Detecting CXX compile features\n",
      "-- Detecting CXX compile features - done\n",
      "-- Including HTIF to target\n",
      "-- Including CLINT to target\n",
      "-- ================ Glossy config ================\n",
      "--  Building for CHIP: \"dsp24\"\n",
      "--  Reading config from \"/tools/C/tedkim7/sp24-Baremetal-IDE/platform/dsp24/CMakeLists.txt\"\n",
      "--  Terminal Device: UART0\n",
      "--  Linker Script: /tools/C/tedkim7/sp24-Baremetal-IDE/platform/dsp24/dsp24.ld\n",
      "-- ===============================================\n",
      "-- Configuring done (3.7s)\n",
      "-- Generating done (1.4s)\n",
      "-- Build files have been written to: /tools/C/tedkim7/sp24-Baremetal-IDE/build\n",
      "cmake --build ./build/ --target shmoo_bench\n",
      "gmake[1]: Entering directory '/bwrcq/C/tedkim7/sp24-Baremetal-IDE/build'\n",
      "gmake[2]: Entering directory '/bwrcq/C/tedkim7/sp24-Baremetal-IDE/build'\n",
      "gmake[3]: Entering directory '/bwrcq/C/tedkim7/sp24-Baremetal-IDE/build'\n",
      "gmake[4]: Entering directory '/bwrcq/C/tedkim7/sp24-Baremetal-IDE/build'\n",
      "gmake[4]: Leaving directory '/bwrcq/C/tedkim7/sp24-Baremetal-IDE/build'\n",
      "gmake[4]: Entering directory '/bwrcq/C/tedkim7/sp24-Baremetal-IDE/build'\n",
      "[  2%] \u001b[32mBuilding C object driver/rocket-chip-blocks/uart/CMakeFiles/uart.dir/uart.c.obj\u001b[0m\n"
     ]
    },
    {
     "name": "stderr",
     "output_type": "stream",
     "text": [
      "/tools/C/tedkim7/sp24-Baremetal-IDE/driver/rocket-chip-blocks/uart/uart.c: In function 'uart_receive':\n",
      "/tools/C/tedkim7/sp24-Baremetal-IDE/driver/rocket-chip-blocks/uart/uart.c:35:78: warning: unused parameter 'timeout' [-Wunused-parameter]\n",
      "   35 | Status uart_receive(UART_Type *UARTx, uint8_t *data, uint16_t size, uint32_t timeout) {\n",
      "      |                                                                     ~~~~~~~~~^~~~~~~\n",
      "/tools/C/tedkim7/sp24-Baremetal-IDE/driver/rocket-chip-blocks/uart/uart.c: In function 'uart_transmit':\n",
      "/tools/C/tedkim7/sp24-Baremetal-IDE/driver/rocket-chip-blocks/uart/uart.c:50:85: warning: unused parameter 'timeout' [-Wunused-parameter]\n",
      "   50 | Status uart_transmit(UART_Type *UARTx, const uint8_t *data, uint16_t size, uint32_t timeout) {\n",
      "      |                                                                            ~~~~~~~~~^~~~~~~\n"
     ]
    },
    {
     "name": "stdout",
     "output_type": "stream",
     "text": [
      "[  5%] \u001b[32m\u001b[1mLinking C static library libuart.a\u001b[0m\n",
      "gmake[4]: Leaving directory '/bwrcq/C/tedkim7/sp24-Baremetal-IDE/build'\n",
      "[  5%] Built target uart\n",
      "gmake[4]: Entering directory '/bwrcq/C/tedkim7/sp24-Baremetal-IDE/build'\n",
      "gmake[4]: Leaving directory '/bwrcq/C/tedkim7/sp24-Baremetal-IDE/build'\n",
      "gmake[4]: Entering directory '/bwrcq/C/tedkim7/sp24-Baremetal-IDE/build'\n",
      "[  7%] \u001b[32mBuilding C object driver/intel/pll/CMakeFiles/intel-pll.dir/pll.c.obj\u001b[0m\n",
      "[ 10%] \u001b[32m\u001b[1mLinking C static library libintel-pll.a\u001b[0m\n",
      "gmake[4]: Leaving directory '/bwrcq/C/tedkim7/sp24-Baremetal-IDE/build'\n",
      "[ 10%] Built target intel-pll\n",
      "gmake[4]: Entering directory '/bwrcq/C/tedkim7/sp24-Baremetal-IDE/build'\n",
      "gmake[4]: Leaving directory '/bwrcq/C/tedkim7/sp24-Baremetal-IDE/build'\n",
      "gmake[4]: Entering directory '/bwrcq/C/tedkim7/sp24-Baremetal-IDE/build'\n",
      "[ 12%] \u001b[32mBuilding C object driver/rocket-chip/clint/CMakeFiles/clint.dir/clint.c.obj\u001b[0m\n",
      "[ 15%] \u001b[32m\u001b[1mLinking C static library libclint.a\u001b[0m\n",
      "gmake[4]: Leaving directory '/bwrcq/C/tedkim7/sp24-Baremetal-IDE/build'\n",
      "[ 15%] Built target clint\n",
      "gmake[4]: Entering directory '/bwrcq/C/tedkim7/sp24-Baremetal-IDE/build'\n",
      "gmake[4]: Leaving directory '/bwrcq/C/tedkim7/sp24-Baremetal-IDE/build'\n",
      "gmake[4]: Entering directory '/bwrcq/C/tedkim7/sp24-Baremetal-IDE/build'\n",
      "[ 17%] \u001b[32mBuilding C object driver/rocket-chip/rocketcore/CMakeFiles/rocketcore.dir/rocketcore.c.obj\u001b[0m\n",
      "[ 20%] \u001b[32m\u001b[1mLinking C static library librocketcore.a\u001b[0m\n",
      "gmake[4]: Leaving directory '/bwrcq/C/tedkim7/sp24-Baremetal-IDE/build'\n",
      "[ 20%] Built target rocketcore\n",
      "gmake[4]: Entering directory '/bwrcq/C/tedkim7/sp24-Baremetal-IDE/build'\n",
      "gmake[4]: Leaving directory '/bwrcq/C/tedkim7/sp24-Baremetal-IDE/build'\n",
      "gmake[4]: Entering directory '/bwrcq/C/tedkim7/sp24-Baremetal-IDE/build'\n",
      "[ 23%] \u001b[32mBuilding C object driver/rocket-chip-blocks/i2c/CMakeFiles/i2c.dir/i2c.c.obj\u001b[0m\n"
     ]
    },
    {
     "name": "stderr",
     "output_type": "stream",
     "text": [
      "/tools/C/tedkim7/sp24-Baremetal-IDE/driver/rocket-chip-blocks/i2c/i2c.c: In function 'i2c_init':\n",
      "/tools/C/tedkim7/sp24-Baremetal-IDE/driver/rocket-chip-blocks/i2c/i2c.c:13:45: warning: unused parameter 'I2C_init' [-Wunused-parameter]\n",
      "   13 | void i2c_init(I2C_Type *I2Cx, I2C_InitType *I2C_init) {\n",
      "      |                               ~~~~~~~~~~~~~~^~~~~~~~\n",
      "/tools/C/tedkim7/sp24-Baremetal-IDE/driver/rocket-chip-blocks/i2c/i2c.c: In function 'i2c_wait_for_flag':\n",
      "/tools/C/tedkim7/sp24-Baremetal-IDE/driver/rocket-chip-blocks/i2c/i2c.c:30:9: warning: implicit declaration of function 'CLINT_getTime' [-Wimplicit-function-declaration]\n",
      "   30 |     if (CLINT_getTime() > (timestart + timeout)) {\n",
      "      |         ^~~~~~~~~~~~~\n",
      "/tools/C/tedkim7/sp24-Baremetal-IDE/driver/rocket-chip-blocks/i2c/i2c.c:30:25: warning: comparison of integer expressions of different signedness: 'int' and 'uint32_t' {aka 'unsigned int'} [-Wsign-compare]\n",
      "   30 |     if (CLINT_getTime() > (timestart + timeout)) {\n",
      "      |                         ^\n",
      "/tools/C/tedkim7/sp24-Baremetal-IDE/driver/rocket-chip-blocks/i2c/i2c.c: In function 'i2c_master_receive':\n",
      "/tools/C/tedkim7/sp24-Baremetal-IDE/driver/rocket-chip-blocks/i2c/i2c.c:53:24: warning: implicit declaration of function 'clint_get_time' [-Wimplicit-function-declaration]\n",
      "   53 |   uint64_t timestart = clint_get_time();\n",
      "      |                        ^~~~~~~~~~~~~~\n",
      "/tools/C/tedkim7/sp24-Baremetal-IDE/driver/rocket-chip-blocks/i2c/i2c.c: In function 'i2c_wait_for_transaction':\n",
      "/tools/C/tedkim7/sp24-Baremetal-IDE/driver/rocket-chip-blocks/i2c/i2c.c:50:1: warning: control reaches end of non-void function [-Wreturn-type]\n",
      "   50 | }\n",
      "      | ^\n"
     ]
    },
    {
     "name": "stdout",
     "output_type": "stream",
     "text": [
      "[ 25%] \u001b[32m\u001b[1mLinking C static library libi2c.a\u001b[0m\n",
      "gmake[4]: Leaving directory '/bwrcq/C/tedkim7/sp24-Baremetal-IDE/build'\n",
      "[ 25%] Built target i2c\n",
      "gmake[4]: Entering directory '/bwrcq/C/tedkim7/sp24-Baremetal-IDE/build'\n",
      "gmake[4]: Leaving directory '/bwrcq/C/tedkim7/sp24-Baremetal-IDE/build'\n",
      "gmake[4]: Entering directory '/bwrcq/C/tedkim7/sp24-Baremetal-IDE/build'\n",
      "[ 28%] \u001b[32mBuilding C object driver/rocket-chip-blocks/spi/CMakeFiles/spi.dir/spi.c.obj\u001b[0m\n"
     ]
    },
    {
     "name": "stderr",
     "output_type": "stream",
     "text": [
      "/tools/C/tedkim7/sp24-Baremetal-IDE/driver/rocket-chip-blocks/spi/spi.c: In function 'spi_receive':\n",
      "/tools/C/tedkim7/sp24-Baremetal-IDE/driver/rocket-chip-blocks/spi/spi.c:56:75: warning: unused parameter 'timeout' [-Wunused-parameter]\n",
      "   56 | Status spi_receive(SPI_Type *SPIx, uint8_t *data, uint16_t size, uint64_t timeout) {\n",
      "      |                                                                  ~~~~~~~~~^~~~~~~\n",
      "/tools/C/tedkim7/sp24-Baremetal-IDE/driver/rocket-chip-blocks/spi/spi.c: In function 'spi_transmit':\n",
      "/tools/C/tedkim7/sp24-Baremetal-IDE/driver/rocket-chip-blocks/spi/spi.c:68:76: warning: unused parameter 'timeout' [-Wunused-parameter]\n",
      "   68 | Status spi_transmit(SPI_Type *SPIx, uint8_t *data, uint16_t size, uint64_t timeout) {\n",
      "      |                                                                   ~~~~~~~~~^~~~~~~\n",
      "/tools/C/tedkim7/sp24-Baremetal-IDE/driver/rocket-chip-blocks/spi/spi.c: In function 'spi_transmit_receive':\n",
      "/tools/C/tedkim7/sp24-Baremetal-IDE/driver/rocket-chip-blocks/spi/spi.c:80:105: warning: unused parameter 'timeout' [-Wunused-parameter]\n",
      "   80 | Status spi_transmit_receive(SPI_Type *SPIx, uint8_t *tx_data, uint8_t *rx_data, uint16_t size, uint64_t timeout) {\n",
      "      |                                                                                                ~~~~~~~~~^~~~~~~\n"
     ]
    },
    {
     "name": "stdout",
     "output_type": "stream",
     "text": [
      "[ 30%] \u001b[32m\u001b[1mLinking C static library libspi.a\u001b[0m\n",
      "gmake[4]: Leaving directory '/bwrcq/C/tedkim7/sp24-Baremetal-IDE/build'\n",
      "[ 30%] Built target spi\n",
      "gmake[4]: Entering directory '/bwrcq/C/tedkim7/sp24-Baremetal-IDE/build'\n",
      "gmake[4]: Leaving directory '/bwrcq/C/tedkim7/sp24-Baremetal-IDE/build'\n",
      "gmake[4]: Entering directory '/bwrcq/C/tedkim7/sp24-Baremetal-IDE/build'\n",
      "[ 33%] \u001b[32mBuilding C object platform/dsp24/CMakeFiles/chip-config.dir/chip.c.obj\u001b[0m\n",
      "[ 35%] \u001b[32mBuilding C object platform/dsp24/CMakeFiles/chip-config.dir/src/hal_DMA.c.obj\u001b[0m\n"
     ]
    },
    {
     "name": "stderr",
     "output_type": "stream",
     "text": [
      "/tools/C/tedkim7/sp24-Baremetal-IDE/platform/dsp24/src/hal_DMA.c: In function 'set_DMAP':\n",
      "/tools/C/tedkim7/sp24-Baremetal-IDE/platform/dsp24/src/hal_DMA.c:24:53: warning: passing argument 2 of 'reg_write64' makes integer from pointer without a cast [-Wint-conversion]\n",
      "   24 |     reg_write64(DMA_SET_READ + num*DMA_MMIO_Offset, addr_r);\n",
      "      |                                                     ^~~~~~\n",
      "      |                                                     |\n",
      "      |                                                     uint64_t * {aka long unsigned int *}\n",
      "In file included from /tools/C/tedkim7/sp24-Baremetal-IDE/platform/dsp24/inc/hal_DMA.h:10,\n",
      "                 from /tools/C/tedkim7/sp24-Baremetal-IDE/platform/dsp24/src/hal_DMA.c:1:\n",
      "/tools/C/tedkim7/sp24-Baremetal-IDE/platform/dsp24/inc/hal_mmio.h:23:47: note: expected 'uint64_t' {aka 'long unsigned int'} but argument is of type 'uint64_t *' {aka 'long unsigned int *'}\n",
      "   23 | void reg_write64(unsigned long addr, uint64_t data);\n",
      "      |                                      ~~~~~~~~~^~~~\n",
      "/tools/C/tedkim7/sp24-Baremetal-IDE/platform/dsp24/src/hal_DMA.c:25:54: warning: passing argument 2 of 'reg_write64' makes integer from pointer without a cast [-Wint-conversion]\n",
      "   25 |     reg_write64(DMA_SET_WRITE + num*DMA_MMIO_Offset, addr_w);\n",
      "      |                                                      ^~~~~~\n",
      "      |                                                      |\n",
      "      |                                                      uint64_t * {aka long unsigned int *}\n",
      "/tools/C/tedkim7/sp24-Baremetal-IDE/platform/dsp24/inc/hal_mmio.h:23:47: note: expected 'uint64_t' {aka 'long unsigned int'} but argument is of type 'uint64_t *' {aka 'long unsigned int *'}\n",
      "   23 | void reg_write64(unsigned long addr, uint64_t data);\n",
      "      |                                      ~~~~~~~~~^~~~\n",
      "/tools/C/tedkim7/sp24-Baremetal-IDE/platform/dsp24/src/hal_DMA.c:26:50: warning: passing argument 2 of 'reg_write64' makes integer from pointer without a cast [-Wint-conversion]\n",
      "   26 |     reg_write64(DMA_SET_C + num*DMA_MMIO_Offset, addr_c);\n",
      "      |                                                  ^~~~~~\n",
      "      |                                                  |\n",
      "      |                                                  uint64_t * {aka long unsigned int *}\n",
      "/tools/C/tedkim7/sp24-Baremetal-IDE/platform/dsp24/inc/hal_mmio.h:23:47: note: expected 'uint64_t' {aka 'long unsigned int'} but argument is of type 'uint64_t *' {aka 'long unsigned int *'}\n",
      "   23 | void reg_write64(unsigned long addr, uint64_t data);\n",
      "      |                                      ~~~~~~~~~^~~~\n"
     ]
    },
    {
     "name": "stdout",
     "output_type": "stream",
     "text": [
      "[ 38%] \u001b[32mBuilding C object platform/dsp24/CMakeFiles/chip-config.dir/src/hal_I2S.c.obj\u001b[0m\n"
     ]
    },
    {
     "name": "stderr",
     "output_type": "stream",
     "text": [
      "/tools/C/tedkim7/sp24-Baremetal-IDE/platform/dsp24/src/hal_I2S.c: In function 'write_I2S_tx_DMA':\n",
      "/tools/C/tedkim7/sp24-Baremetal-IDE/platform/dsp24/src/hal_I2S.c:49:9: warning: implicit declaration of function 'printf' [-Wimplicit-function-declaration]\n",
      "   49 |         printf(\"Writing to left queue\\n\");\n",
      "      |         ^~~~~~\n",
      "/tools/C/tedkim7/sp24-Baremetal-IDE/platform/dsp24/src/hal_I2S.c:3:1: note: include '<stdio.h>' or provide a declaration of 'printf'\n",
      "    2 | #include  \"hal_mmio.h\"\n",
      "  +++ |+#include <stdio.h>\n",
      "    3 | \n",
      "/tools/C/tedkim7/sp24-Baremetal-IDE/platform/dsp24/src/hal_I2S.c:49:9: warning: incompatible implicit declaration of built-in function 'printf' [-Wbuiltin-declaration-mismatch]\n",
      "   49 |         printf(\"Writing to left queue\\n\");\n",
      "      |         ^~~~~~\n",
      "/tools/C/tedkim7/sp24-Baremetal-IDE/platform/dsp24/src/hal_I2S.c:49:9: note: include '<stdio.h>' or provide a declaration of 'printf'\n",
      "In file included from /tools/C/tedkim7/sp24-Baremetal-IDE/platform/dsp24/src/hal_I2S.c:1:\n",
      "/tools/C/tedkim7/sp24-Baremetal-IDE/platform/dsp24/inc/hal_I2S.h:13:37: warning: passing argument 3 of 'set_DMAP' makes pointer from integer without a cast [-Wint-conversion]\n",
      "   13 | #define I2S_BASE                    0x10042000U\n",
      "      |                                     ^\n",
      "      |                                     |\n",
      "      |                                     unsigned int\n",
      "/tools/C/tedkim7/sp24-Baremetal-IDE/platform/dsp24/inc/hal_I2S.h:26:37: note: in expansion of macro 'I2S_BASE'\n",
      "   26 | #define I2S_TX_L                    I2S_BASE + 0x20\n",
      "      |                                     ^~~~~~~~\n",
      "/tools/C/tedkim7/sp24-Baremetal-IDE/platform/dsp24/src/hal_I2S.c:50:38: note: in expansion of macro 'I2S_TX_L'\n",
      "   50 |         set_DMAP(dma_num, read_addr, I2S_TX_L, I2S_WATERMARK_TX_L, 8, 0, length, 3, poll);\n",
      "      |                                      ^~~~~~~~\n",
      "In file included from /tools/C/tedkim7/sp24-Baremetal-IDE/platform/dsp24/inc/hal_I2S.h:9:\n",
      "/tools/C/tedkim7/sp24-Baremetal-IDE/platform/dsp24/inc/hal_DMA.h:37:57: note: expected 'uint64_t *' {aka 'long unsigned int *'} but argument is of type 'unsigned int'\n",
      "   37 | void set_DMAP(uint32_t num, uint64_t* addr_r, uint64_t* addr_w, uint64_t* addr_c, uint16_t inc_r, uint16_t inc_w, uint16_t len, uint8_t logd, uint32_t count);\n",
      "      |                                               ~~~~~~~~~~^~~~~~\n",
      "/tools/C/tedkim7/sp24-Baremetal-IDE/platform/dsp24/inc/hal_I2S.h:13:37: warning: passing argument 4 of 'set_DMAP' makes pointer from integer without a cast [-Wint-conversion]\n",
      "   13 | #define I2S_BASE                    0x10042000U\n",
      "      |                                     ^\n",
      "      |                                     |\n",
      "      |                                     unsigned int\n",
      "/tools/C/tedkim7/sp24-Baremetal-IDE/platform/dsp24/inc/hal_I2S.h:18:37: note: in expansion of macro 'I2S_BASE'\n",
      "   18 | #define I2S_WATERMARK_TX_L          I2S_BASE + 0x100\n",
      "      |                                     ^~~~~~~~\n",
      "/tools/C/tedkim7/sp24-Baremetal-IDE/platform/dsp24/src/hal_I2S.c:50:48: note: in expansion of macro 'I2S_WATERMARK_TX_L'\n",
      "   50 |         set_DMAP(dma_num, read_addr, I2S_TX_L, I2S_WATERMARK_TX_L, 8, 0, length, 3, poll);\n",
      "      |                                                ^~~~~~~~~~~~~~~~~~\n",
      "/tools/C/tedkim7/sp24-Baremetal-IDE/platform/dsp24/inc/hal_DMA.h:37:75: note: expected 'uint64_t *' {aka 'long unsigned int *'} but argument is of type 'unsigned int'\n",
      "   37 | void set_DMAP(uint32_t num, uint64_t* addr_r, uint64_t* addr_w, uint64_t* addr_c, uint16_t inc_r, uint16_t inc_w, uint16_t len, uint8_t logd, uint32_t count);\n",
      "      |                                                                 ~~~~~~~~~~^~~~~~\n",
      "/tools/C/tedkim7/sp24-Baremetal-IDE/platform/dsp24/src/hal_I2S.c:52:9: warning: incompatible implicit declaration of built-in function 'printf' [-Wbuiltin-declaration-mismatch]\n",
      "   52 |         printf(\"Writing to right queue\\n\");\n",
      "      |         ^~~~~~\n",
      "/tools/C/tedkim7/sp24-Baremetal-IDE/platform/dsp24/src/hal_I2S.c:52:9: note: include '<stdio.h>' or provide a declaration of 'printf'\n",
      "/tools/C/tedkim7/sp24-Baremetal-IDE/platform/dsp24/inc/hal_I2S.h:13:37: warning: passing argument 3 of 'set_DMAP' makes pointer from integer without a cast [-Wint-conversion]\n",
      "   13 | #define I2S_BASE                    0x10042000U\n",
      "      |                                     ^\n",
      "      |                                     |\n",
      "      |                                     unsigned int\n",
      "/tools/C/tedkim7/sp24-Baremetal-IDE/platform/dsp24/inc/hal_I2S.h:27:37: note: in expansion of macro 'I2S_BASE'\n",
      "   27 | #define I2S_TX_R                    I2S_BASE + 0x28\n",
      "      |                                     ^~~~~~~~\n",
      "/tools/C/tedkim7/sp24-Baremetal-IDE/platform/dsp24/src/hal_I2S.c:53:38: note: in expansion of macro 'I2S_TX_R'\n",
      "   53 |         set_DMAP(dma_num, read_addr, I2S_TX_R, I2S_WATERMARK_TX_R, 8, 0, length, 3, poll);\n",
      "      |                                      ^~~~~~~~\n",
      "/tools/C/tedkim7/sp24-Baremetal-IDE/platform/dsp24/inc/hal_DMA.h:37:57: note: expected 'uint64_t *' {aka 'long unsigned int *'} but argument is of type 'unsigned int'\n",
      "   37 | void set_DMAP(uint32_t num, uint64_t* addr_r, uint64_t* addr_w, uint64_t* addr_c, uint16_t inc_r, uint16_t inc_w, uint16_t len, uint8_t logd, uint32_t count);\n",
      "      |                                               ~~~~~~~~~~^~~~~~\n",
      "/tools/C/tedkim7/sp24-Baremetal-IDE/platform/dsp24/inc/hal_I2S.h:13:37: warning: passing argument 4 of 'set_DMAP' makes pointer from integer without a cast [-Wint-conversion]\n",
      "   13 | #define I2S_BASE                    0x10042000U\n",
      "      |                                     ^\n",
      "      |                                     |\n",
      "      |                                     unsigned int\n",
      "/tools/C/tedkim7/sp24-Baremetal-IDE/platform/dsp24/inc/hal_I2S.h:19:37: note: in expansion of macro 'I2S_BASE'\n",
      "   19 | #define I2S_WATERMARK_TX_R          I2S_BASE + 0x101\n",
      "      |                                     ^~~~~~~~\n",
      "/tools/C/tedkim7/sp24-Baremetal-IDE/platform/dsp24/src/hal_I2S.c:53:48: note: in expansion of macro 'I2S_WATERMARK_TX_R'\n",
      "   53 |         set_DMAP(dma_num, read_addr, I2S_TX_R, I2S_WATERMARK_TX_R, 8, 0, length, 3, poll);\n",
      "      |                                                ^~~~~~~~~~~~~~~~~~\n",
      "/tools/C/tedkim7/sp24-Baremetal-IDE/platform/dsp24/inc/hal_DMA.h:37:75: note: expected 'uint64_t *' {aka 'long unsigned int *'} but argument is of type 'unsigned int'\n",
      "   37 | void set_DMAP(uint32_t num, uint64_t* addr_r, uint64_t* addr_w, uint64_t* addr_c, uint16_t inc_r, uint16_t inc_w, uint16_t len, uint8_t logd, uint32_t count);\n",
      "      |                                                                 ~~~~~~~~~~^~~~~~\n",
      "/tools/C/tedkim7/sp24-Baremetal-IDE/platform/dsp24/src/hal_I2S.c: In function 'read_I2S_rx_DMA':\n",
      "/tools/C/tedkim7/sp24-Baremetal-IDE/platform/dsp24/inc/hal_I2S.h:13:37: warning: passing argument 2 of 'set_DMAP' makes pointer from integer without a cast [-Wint-conversion]\n",
      "   13 | #define I2S_BASE                    0x10042000U\n",
      "      |                                     ^\n",
      "      |                                     |\n",
      "      |                                     unsigned int\n",
      "/tools/C/tedkim7/sp24-Baremetal-IDE/platform/dsp24/inc/hal_I2S.h:28:37: note: in expansion of macro 'I2S_BASE'\n",
      "   28 | #define I2S_RX_L                    I2S_BASE + 0x60\n",
      "      |                                     ^~~~~~~~\n",
      "/tools/C/tedkim7/sp24-Baremetal-IDE/platform/dsp24/src/hal_I2S.c:60:27: note: in expansion of macro 'I2S_RX_L'\n",
      "   60 |         set_DMAP(dma_num, I2S_RX_L, write_addr, I2S_WATERMARK_RX_L, 0, 8, length, 3, poll);\n",
      "      |                           ^~~~~~~~\n",
      "/tools/C/tedkim7/sp24-Baremetal-IDE/platform/dsp24/inc/hal_DMA.h:37:39: note: expected 'uint64_t *' {aka 'long unsigned int *'} but argument is of type 'unsigned int'\n",
      "   37 | void set_DMAP(uint32_t num, uint64_t* addr_r, uint64_t* addr_w, uint64_t* addr_c, uint16_t inc_r, uint16_t inc_w, uint16_t len, uint8_t logd, uint32_t count);\n",
      "      |                             ~~~~~~~~~~^~~~~~\n",
      "/tools/C/tedkim7/sp24-Baremetal-IDE/platform/dsp24/inc/hal_I2S.h:13:37: warning: passing argument 4 of 'set_DMAP' makes pointer from integer without a cast [-Wint-conversion]\n",
      "   13 | #define I2S_BASE                    0x10042000U\n",
      "      |                                     ^\n",
      "      |                                     |\n",
      "      |                                     unsigned int\n",
      "/tools/C/tedkim7/sp24-Baremetal-IDE/platform/dsp24/inc/hal_I2S.h:16:37: note: in expansion of macro 'I2S_BASE'\n",
      "   16 | #define I2S_WATERMARK_RX_L          I2S_BASE + 0x102\n",
      "      |                                     ^~~~~~~~\n",
      "/tools/C/tedkim7/sp24-Baremetal-IDE/platform/dsp24/src/hal_I2S.c:60:49: note: in expansion of macro 'I2S_WATERMARK_RX_L'\n",
      "   60 |         set_DMAP(dma_num, I2S_RX_L, write_addr, I2S_WATERMARK_RX_L, 0, 8, length, 3, poll);\n",
      "      |                                                 ^~~~~~~~~~~~~~~~~~\n",
      "/tools/C/tedkim7/sp24-Baremetal-IDE/platform/dsp24/inc/hal_DMA.h:37:75: note: expected 'uint64_t *' {aka 'long unsigned int *'} but argument is of type 'unsigned int'\n",
      "   37 | void set_DMAP(uint32_t num, uint64_t* addr_r, uint64_t* addr_w, uint64_t* addr_c, uint16_t inc_r, uint16_t inc_w, uint16_t len, uint8_t logd, uint32_t count);\n",
      "      |                                                                 ~~~~~~~~~~^~~~~~\n",
      "/tools/C/tedkim7/sp24-Baremetal-IDE/platform/dsp24/inc/hal_I2S.h:13:37: warning: passing argument 2 of 'set_DMAP' makes pointer from integer without a cast [-Wint-conversion]\n",
      "   13 | #define I2S_BASE                    0x10042000U\n",
      "      |                                     ^\n",
      "      |                                     |\n",
      "      |                                     unsigned int\n",
      "/tools/C/tedkim7/sp24-Baremetal-IDE/platform/dsp24/inc/hal_I2S.h:29:37: note: in expansion of macro 'I2S_BASE'\n",
      "   29 | #define I2S_RX_R                    I2S_BASE + 0x68\n",
      "      |                                     ^~~~~~~~\n",
      "/tools/C/tedkim7/sp24-Baremetal-IDE/platform/dsp24/src/hal_I2S.c:62:27: note: in expansion of macro 'I2S_RX_R'\n",
      "   62 |         set_DMAP(dma_num, I2S_RX_R, write_addr, I2S_WATERMARK_RX_R, 0, 8, length, 3, poll);\n",
      "      |                           ^~~~~~~~\n",
      "/tools/C/tedkim7/sp24-Baremetal-IDE/platform/dsp24/inc/hal_DMA.h:37:39: note: expected 'uint64_t *' {aka 'long unsigned int *'} but argument is of type 'unsigned int'\n",
      "   37 | void set_DMAP(uint32_t num, uint64_t* addr_r, uint64_t* addr_w, uint64_t* addr_c, uint16_t inc_r, uint16_t inc_w, uint16_t len, uint8_t logd, uint32_t count);\n",
      "      |                             ~~~~~~~~~~^~~~~~\n",
      "/tools/C/tedkim7/sp24-Baremetal-IDE/platform/dsp24/inc/hal_I2S.h:13:37: warning: passing argument 4 of 'set_DMAP' makes pointer from integer without a cast [-Wint-conversion]\n",
      "   13 | #define I2S_BASE                    0x10042000U\n",
      "      |                                     ^\n",
      "      |                                     |\n",
      "      |                                     unsigned int\n",
      "/tools/C/tedkim7/sp24-Baremetal-IDE/platform/dsp24/inc/hal_I2S.h:17:37: note: in expansion of macro 'I2S_BASE'\n",
      "   17 | #define I2S_WATERMARK_RX_R          I2S_BASE + 0x103\n",
      "      |                                     ^~~~~~~~\n",
      "/tools/C/tedkim7/sp24-Baremetal-IDE/platform/dsp24/src/hal_I2S.c:62:49: note: in expansion of macro 'I2S_WATERMARK_RX_R'\n",
      "   62 |         set_DMAP(dma_num, I2S_RX_R, write_addr, I2S_WATERMARK_RX_R, 0, 8, length, 3, poll);\n",
      "      |                                                 ^~~~~~~~~~~~~~~~~~\n",
      "/tools/C/tedkim7/sp24-Baremetal-IDE/platform/dsp24/inc/hal_DMA.h:37:75: note: expected 'uint64_t *' {aka 'long unsigned int *'} but argument is of type 'unsigned int'\n",
      "   37 | void set_DMAP(uint32_t num, uint64_t* addr_r, uint64_t* addr_w, uint64_t* addr_c, uint16_t inc_r, uint16_t inc_w, uint16_t len, uint8_t logd, uint32_t count);\n",
      "      |                                                                 ~~~~~~~~~~^~~~~~\n"
     ]
    },
    {
     "name": "stdout",
     "output_type": "stream",
     "text": [
      "[ 41%] \u001b[32mBuilding C object platform/dsp24/CMakeFiles/chip-config.dir/src/hal_conv.c.obj\u001b[0m\n"
     ]
    },
    {
     "name": "stderr",
     "output_type": "stream",
     "text": [
      "/tools/C/tedkim7/sp24-Baremetal-IDE/platform/dsp24/src/hal_conv.c: In function 'write_conv_dma':\n",
      "/tools/C/tedkim7/sp24-Baremetal-IDE/platform/dsp24/src/hal_conv.c:13:5: warning: implicit declaration of function 'set_DMAC' [-Wimplicit-function-declaration]\n",
      "   13 |     set_DMAC(dma_num, (uint64_t*) data, CONV_BASE, 8, 0, length/8, 3);\n",
      "      |     ^~~~~~~~\n",
      "/tools/C/tedkim7/sp24-Baremetal-IDE/platform/dsp24/src/hal_conv.c:14:5: warning: implicit declaration of function 'start_DMA' [-Wimplicit-function-declaration]\n",
      "   14 |     start_DMA(dma_num);\n",
      "      |     ^~~~~~~~~\n",
      "/tools/C/tedkim7/sp24-Baremetal-IDE/platform/dsp24/src/hal_conv.c: In function 'read_conv_dma_p':\n",
      "/tools/C/tedkim7/sp24-Baremetal-IDE/platform/dsp24/src/hal_conv.c:23:5: warning: implicit declaration of function 'set_DMAP' [-Wimplicit-function-declaration]\n",
      "   23 |     set_DMAP(dma_num, CONV_OUTPUT_ADDR, write_addr, READ_CHECK_ADDR, 0, 8, length/4, 3, 0);\n",
      "      |     ^~~~~~~~\n"
     ]
    },
    {
     "name": "stdout",
     "output_type": "stream",
     "text": [
      "[ 43%] \u001b[32mBuilding C object platform/dsp24/CMakeFiles/chip-config.dir/src/hal_fft.c.obj\u001b[0m\n"
     ]
    },
    {
     "name": "stderr",
     "output_type": "stream",
     "text": [
      "/tools/C/tedkim7/sp24-Baremetal-IDE/platform/dsp24/src/hal_fft.c: In function 'write_fft_dma':\n",
      "/tools/C/tedkim7/sp24-Baremetal-IDE/platform/dsp24/src/hal_fft.c:28:23: warning: passing argument 2 of 'set_DMAC' makes integer from pointer without a cast [-Wint-conversion]\n",
      "   28 |     set_DMAC(dma_num, data, FFT_INPUT, 8, 0, length/2, 3);\n",
      "      |                       ^~~~\n",
      "      |                       |\n",
      "      |                       uint64_t * {aka long unsigned int *}\n",
      "In file included from /tools/C/tedkim7/sp24-Baremetal-IDE/platform/dsp24/inc/hal_fft.h:9,\n",
      "                 from /tools/C/tedkim7/sp24-Baremetal-IDE/platform/dsp24/src/hal_fft.c:1:\n",
      "/tools/C/tedkim7/sp24-Baremetal-IDE/platform/dsp24/inc/hal_DMA.h:34:38: note: expected 'uint64_t' {aka 'long unsigned int'} but argument is of type 'uint64_t *' {aka 'long unsigned int *'}\n",
      "   34 | void set_DMAC(uint32_t num, uint64_t addr_r, uint64_t addr_w, uint16_t inc_r, uint16_t inc_w, uint16_t len, uint16_t logd);\n",
      "      |                             ~~~~~~~~~^~~~~~\n",
      "/tools/C/tedkim7/sp24-Baremetal-IDE/platform/dsp24/src/hal_fft.c: In function 'read_fft_dma':\n",
      "/tools/C/tedkim7/sp24-Baremetal-IDE/platform/dsp24/src/hal_fft.c:33:35: warning: passing argument 3 of 'set_DMAC' makes integer from pointer without a cast [-Wint-conversion]\n",
      "   33 |     set_DMAC(dma_num, FFT_OUTPUT, write_addr, 0, 8, length, 2);\n",
      "      |                                   ^~~~~~~~~~\n",
      "      |                                   |\n",
      "      |                                   uint64_t * {aka long unsigned int *}\n",
      "/tools/C/tedkim7/sp24-Baremetal-IDE/platform/dsp24/inc/hal_DMA.h:34:55: note: expected 'uint64_t' {aka 'long unsigned int'} but argument is of type 'uint64_t *' {aka 'long unsigned int *'}\n",
      "   34 | void set_DMAC(uint32_t num, uint64_t addr_r, uint64_t addr_w, uint16_t inc_r, uint16_t inc_w, uint16_t len, uint16_t logd);\n",
      "      |                                              ~~~~~~~~~^~~~~~\n",
      "/tools/C/tedkim7/sp24-Baremetal-IDE/platform/dsp24/src/hal_fft.c: In function 'read_fft_real_dma':\n",
      "/tools/C/tedkim7/sp24-Baremetal-IDE/platform/dsp24/src/hal_fft.c:38:35: warning: passing argument 3 of 'set_DMAC' makes integer from pointer without a cast [-Wint-conversion]\n",
      "   38 |     set_DMAC(dma_num, FFT_OUTPUT, write_addr, 0, 4, length, 1);\n",
      "      |                                   ^~~~~~~~~~\n",
      "      |                                   |\n",
      "      |                                   uint64_t * {aka long unsigned int *}\n",
      "/tools/C/tedkim7/sp24-Baremetal-IDE/platform/dsp24/inc/hal_DMA.h:34:55: note: expected 'uint64_t' {aka 'long unsigned int'} but argument is of type 'uint64_t *' {aka 'long unsigned int *'}\n",
      "   34 | void set_DMAC(uint32_t num, uint64_t addr_r, uint64_t addr_w, uint16_t inc_r, uint16_t inc_w, uint16_t len, uint16_t logd);\n",
      "      |                                              ~~~~~~~~~^~~~~~\n"
     ]
    },
    {
     "name": "stdout",
     "output_type": "stream",
     "text": [
      "[ 46%] \u001b[32mBuilding C object platform/dsp24/CMakeFiles/chip-config.dir/src/hal_mmio.c.obj\u001b[0m\n",
      "[ 48%] \u001b[32m\u001b[1mLinking C static library libchip-config.a\u001b[0m\n",
      "gmake[4]: Leaving directory '/bwrcq/C/tedkim7/sp24-Baremetal-IDE/build'\n",
      "[ 48%] Built target chip-config\n",
      "gmake[4]: Entering directory '/bwrcq/C/tedkim7/sp24-Baremetal-IDE/build'\n",
      "gmake[4]: Leaving directory '/bwrcq/C/tedkim7/sp24-Baremetal-IDE/build'\n",
      "gmake[4]: Entering directory '/bwrcq/C/tedkim7/sp24-Baremetal-IDE/build'\n",
      "[ 51%] \u001b[32mBuilding ASM object glossy/CMakeFiles/glossy.dir/src/startup/crt0.S.obj\u001b[0m\n",
      "[ 53%] \u001b[32mBuilding ASM object glossy/CMakeFiles/glossy.dir/src/startup/init.S.obj\u001b[0m\n",
      "[ 56%] \u001b[32mBuilding C object glossy/CMakeFiles/glossy.dir/src/startup/secondary.c.obj\u001b[0m\n",
      "[ 58%] \u001b[32mBuilding ASM object glossy/CMakeFiles/glossy.dir/src/trap/trap.S.obj\u001b[0m\n",
      "[ 61%] \u001b[32mBuilding C object glossy/CMakeFiles/glossy.dir/src/trap/trap.c.obj\u001b[0m\n"
     ]
    },
    {
     "name": "stderr",
     "output_type": "stream",
     "text": [
      "/tools/C/tedkim7/sp24-Baremetal-IDE/glossy/src/trap/trap.c: In function 'trap_handler':\n",
      "/tools/C/tedkim7/sp24-Baremetal-IDE/glossy/src/trap/trap.c:73:92: warning: unused parameter 'm_tval' [-Wunused-parameter]\n",
      "   73 | __attribute__((weak)) uintptr_t trap_handler(uintptr_t m_epc, uintptr_t m_cause, uintptr_t m_tval, uintptr_t regs[32]) {\n",
      "      |                                                                                  ~~~~~~~~~~^~~~~~\n",
      "/tools/C/tedkim7/sp24-Baremetal-IDE/glossy/src/trap/trap.c:73:110: warning: unused parameter 'regs' [-Wunused-parameter]\n",
      "   73 | __attribute__((weak)) uintptr_t trap_handler(uintptr_t m_epc, uintptr_t m_cause, uintptr_t m_tval, uintptr_t regs[32]) {\n",
      "      |                                                                                                    ~~~~~~~~~~^~~~~~~~\n"
     ]
    },
    {
     "name": "stdout",
     "output_type": "stream",
     "text": [
      "[ 64%] \u001b[32mBuilding C object glossy/CMakeFiles/glossy.dir/src/sys/close.c.obj\u001b[0m\n"
     ]
    },
    {
     "name": "stderr",
     "output_type": "stream",
     "text": [
      "/tools/C/tedkim7/sp24-Baremetal-IDE/glossy/src/sys/close.c: In function '_close':\n",
      "/tools/C/tedkim7/sp24-Baremetal-IDE/glossy/src/sys/close.c:2:38: warning: unused parameter 'file' [-Wunused-parameter]\n",
      "    2 | __attribute__((weak)) int _close(int file) {\n",
      "      |                                  ~~~~^~~~\n"
     ]
    },
    {
     "name": "stdout",
     "output_type": "stream",
     "text": [
      "[ 66%] \u001b[32mBuilding C object glossy/CMakeFiles/glossy.dir/src/sys/exit.c.obj\u001b[0m\n"
     ]
    },
    {
     "name": "stderr",
     "output_type": "stream",
     "text": [
      "/tools/C/tedkim7/sp24-Baremetal-IDE/glossy/src/sys/exit.c: In function '_exit':\n",
      "/tools/C/tedkim7/sp24-Baremetal-IDE/glossy/src/sys/exit.c:4:48: warning: unused parameter 'code' [-Wunused-parameter]\n",
      "    4 | __attribute__((weak, noreturn)) void _exit(int code) {\n",
      "      |                                            ~~~~^~~~\n"
     ]
    },
    {
     "name": "stdout",
     "output_type": "stream",
     "text": [
      "[ 69%] \u001b[32mBuilding C object glossy/CMakeFiles/glossy.dir/src/sys/fstat.c.obj\u001b[0m\n"
     ]
    },
    {
     "name": "stderr",
     "output_type": "stream",
     "text": [
      "/tools/C/tedkim7/sp24-Baremetal-IDE/glossy/src/sys/fstat.c: In function '_fstat':\n",
      "/tools/C/tedkim7/sp24-Baremetal-IDE/glossy/src/sys/fstat.c:4:38: warning: unused parameter 'file' [-Wunused-parameter]\n",
      "    4 | __attribute__((weak)) int _fstat(int file, struct stat *st) {\n",
      "      |                                  ~~~~^~~~\n",
      "/tools/C/tedkim7/sp24-Baremetal-IDE/glossy/src/sys/fstat.c:4:57: warning: unused parameter 'st' [-Wunused-parameter]\n",
      "    4 | __attribute__((weak)) int _fstat(int file, struct stat *st) {\n",
      "      |                                            ~~~~~~~~~~~~~^~\n"
     ]
    },
    {
     "name": "stdout",
     "output_type": "stream",
     "text": [
      "[ 71%] \u001b[32mBuilding C object glossy/CMakeFiles/glossy.dir/src/sys/getpid.c.obj\u001b[0m\n",
      "[ 74%] \u001b[32mBuilding C object glossy/CMakeFiles/glossy.dir/src/sys/isatty.c.obj\u001b[0m\n",
      "[ 76%] \u001b[32mBuilding C object glossy/CMakeFiles/glossy.dir/src/sys/kill.c.obj\u001b[0m\n"
     ]
    },
    {
     "name": "stderr",
     "output_type": "stream",
     "text": [
      "/tools/C/tedkim7/sp24-Baremetal-IDE/glossy/src/sys/kill.c: In function '_kill':\n",
      "/tools/C/tedkim7/sp24-Baremetal-IDE/glossy/src/sys/kill.c:2:37: warning: unused parameter 'pid' [-Wunused-parameter]\n",
      "    2 | __attribute__((weak)) int _kill(int pid, int sig) {\n",
      "      |                                 ~~~~^~~\n",
      "/tools/C/tedkim7/sp24-Baremetal-IDE/glossy/src/sys/kill.c:2:46: warning: unused parameter 'sig' [-Wunused-parameter]\n",
      "    2 | __attribute__((weak)) int _kill(int pid, int sig) {\n",
      "      |                                          ~~~~^~~\n"
     ]
    },
    {
     "name": "stdout",
     "output_type": "stream",
     "text": [
      "[ 79%] \u001b[32mBuilding C object glossy/CMakeFiles/glossy.dir/src/sys/lseek.c.obj\u001b[0m\n"
     ]
    },
    {
     "name": "stderr",
     "output_type": "stream",
     "text": [
      "/tools/C/tedkim7/sp24-Baremetal-IDE/glossy/src/sys/lseek.c: In function '_lseek':\n",
      "/tools/C/tedkim7/sp24-Baremetal-IDE/glossy/src/sys/lseek.c:5:40: warning: unused parameter 'file' [-Wunused-parameter]\n",
      "    5 | __attribute__((weak)) off_t _lseek(int file, off_t ptr, int dir) {\n",
      "      |                                    ~~~~^~~~\n",
      "/tools/C/tedkim7/sp24-Baremetal-IDE/glossy/src/sys/lseek.c:5:52: warning: unused parameter 'ptr' [-Wunused-parameter]\n",
      "    5 | __attribute__((weak)) off_t _lseek(int file, off_t ptr, int dir) {\n",
      "      |                                              ~~~~~~^~~\n",
      "/tools/C/tedkim7/sp24-Baremetal-IDE/glossy/src/sys/lseek.c:5:61: warning: unused parameter 'dir' [-Wunused-parameter]\n",
      "    5 | __attribute__((weak)) off_t _lseek(int file, off_t ptr, int dir) {\n",
      "      |                                                         ~~~~^~~\n"
     ]
    },
    {
     "name": "stdout",
     "output_type": "stream",
     "text": [
      "[ 82%] \u001b[32mBuilding C object glossy/CMakeFiles/glossy.dir/src/sys/open.c.obj\u001b[0m\n"
     ]
    },
    {
     "name": "stderr",
     "output_type": "stream",
     "text": [
      "/tools/C/tedkim7/sp24-Baremetal-IDE/glossy/src/sys/open.c: In function '_open':\n",
      "/tools/C/tedkim7/sp24-Baremetal-IDE/glossy/src/sys/open.c:3:45: warning: unused parameter 'path' [-Wunused-parameter]\n",
      "    3 | __attribute__((weak)) int _open(const char *path, int flags, int mode) {\n",
      "      |                                 ~~~~~~~~~~~~^~~~\n",
      "/tools/C/tedkim7/sp24-Baremetal-IDE/glossy/src/sys/open.c:3:55: warning: unused parameter 'flags' [-Wunused-parameter]\n",
      "    3 | __attribute__((weak)) int _open(const char *path, int flags, int mode) {\n",
      "      |                                                   ~~~~^~~~~\n",
      "/tools/C/tedkim7/sp24-Baremetal-IDE/glossy/src/sys/open.c:3:66: warning: unused parameter 'mode' [-Wunused-parameter]\n",
      "    3 | __attribute__((weak)) int _open(const char *path, int flags, int mode) {\n",
      "      |                                                              ~~~~^~~~\n"
     ]
    },
    {
     "name": "stdout",
     "output_type": "stream",
     "text": [
      "[ 84%] \u001b[32mBuilding C object glossy/CMakeFiles/glossy.dir/src/sys/read.c.obj\u001b[0m\n"
     ]
    },
    {
     "name": "stderr",
     "output_type": "stream",
     "text": [
      "/tools/C/tedkim7/sp24-Baremetal-IDE/glossy/src/sys/read.c: In function '_read':\n",
      "/tools/C/tedkim7/sp24-Baremetal-IDE/glossy/src/sys/read.c:5:41: warning: unused parameter 'file' [-Wunused-parameter]\n",
      "    5 | __attribute__((weak)) ssize_t _read(int file, void *ptr, size_t len) {\n",
      "      |                                     ~~~~^~~~\n",
      "/tools/C/tedkim7/sp24-Baremetal-IDE/glossy/src/sys/read.c:5:53: warning: unused parameter 'ptr' [-Wunused-parameter]\n",
      "    5 | __attribute__((weak)) ssize_t _read(int file, void *ptr, size_t len) {\n",
      "      |                                               ~~~~~~^~~\n",
      "/tools/C/tedkim7/sp24-Baremetal-IDE/glossy/src/sys/read.c:5:65: warning: unused parameter 'len' [-Wunused-parameter]\n",
      "    5 | __attribute__((weak)) ssize_t _read(int file, void *ptr, size_t len) {\n",
      "      |                                                          ~~~~~~~^~~\n"
     ]
    },
    {
     "name": "stdout",
     "output_type": "stream",
     "text": [
      "[ 87%] \u001b[32mBuilding C object glossy/CMakeFiles/glossy.dir/src/sys/sbrk.c.obj\u001b[0m\n",
      "[ 89%] \u001b[32mBuilding C object glossy/CMakeFiles/glossy.dir/src/sys/time.c.obj\u001b[0m\n",
      "[ 92%] \u001b[32mBuilding C object glossy/CMakeFiles/glossy.dir/src/sys/write.c.obj\u001b[0m\n"
     ]
    },
    {
     "name": "stderr",
     "output_type": "stream",
     "text": [
      "/tools/C/tedkim7/sp24-Baremetal-IDE/glossy/src/sys/write.c: In function '_write':\n",
      "/tools/C/tedkim7/sp24-Baremetal-IDE/glossy/src/sys/write.c:8:42: warning: unused parameter 'fd' [-Wunused-parameter]\n",
      "    8 | __attribute__((weak)) ssize_t _write(int fd, const void *ptr, size_t len) {\n",
      "      |                                      ~~~~^~\n"
     ]
    },
    {
     "name": "stdout",
     "output_type": "stream",
     "text": [
      "[ 94%] \u001b[32m\u001b[1mLinking C static library libglossy.a\u001b[0m\n",
      "gmake[4]: Leaving directory '/bwrcq/C/tedkim7/sp24-Baremetal-IDE/build'\n",
      "[ 94%] Built target glossy\n",
      "gmake[4]: Entering directory '/bwrcq/C/tedkim7/sp24-Baremetal-IDE/build'\n",
      "gmake[4]: Leaving directory '/bwrcq/C/tedkim7/sp24-Baremetal-IDE/build'\n",
      "gmake[4]: Entering directory '/bwrcq/C/tedkim7/sp24-Baremetal-IDE/build'\n",
      "[ 97%] \u001b[32mBuilding C object CMakeFiles/shmoo_bench.dir/shmoo_bench/dsp_conv_bench/src/main.c.obj\u001b[0m\n"
     ]
    },
    {
     "name": "stderr",
     "output_type": "stream",
     "text": [
      "/tools/C/tedkim7/sp24-Baremetal-IDE/shmoo_bench/dsp_conv_bench/src/main.c: In function 'app_main':\n",
      "/tools/C/tedkim7/sp24-Baremetal-IDE/shmoo_bench/dsp_conv_bench/src/main.c:61:5: warning: implicit declaration of function 'reg_write8' [-Wimplicit-function-declaration]\n",
      "   61 |     reg_write8(RESET_ADDR, 1);\n",
      "      |     ^~~~~~~~~~\n",
      "/tools/C/tedkim7/sp24-Baremetal-IDE/shmoo_bench/dsp_conv_bench/src/main.c:71:5: warning: implicit declaration of function 'set_conv_params' [-Wimplicit-function-declaration]\n",
      "   71 |     set_conv_params(16, 1, ((uint64_t*) in_kernel));\n",
      "      |     ^~~~~~~~~~~~~~~\n",
      "/tools/C/tedkim7/sp24-Baremetal-IDE/shmoo_bench/dsp_conv_bench/src/main.c:72:5: warning: implicit declaration of function 'write_conv_dma' [-Wimplicit-function-declaration]\n",
      "   72 |     write_conv_dma(0, 16, in_arr);\n",
      "      |     ^~~~~~~~~~~~~~\n",
      "/tools/C/tedkim7/sp24-Baremetal-IDE/shmoo_bench/dsp_conv_bench/src/main.c:77:5: warning: implicit declaration of function 'start_conv' [-Wimplicit-function-declaration]\n",
      "   77 |     start_conv();\n",
      "      |     ^~~~~~~~~~\n",
      "/tools/C/tedkim7/sp24-Baremetal-IDE/shmoo_bench/dsp_conv_bench/src/main.c:91:5: warning: implicit declaration of function 'read_conv_dma' [-Wimplicit-function-declaration]\n",
      "   91 |     read_conv_dma(0, 16, ((uint64_t*) test_out));\n",
      "      |     ^~~~~~~~~~~~~\n",
      "/tools/C/tedkim7/sp24-Baremetal-IDE/shmoo_bench/dsp_conv_bench/src/main.c:95:20: warning: format '%lx' expects argument of type 'long unsigned int', but argument 2 has type 'int' [-Wformat=]\n",
      "   95 |             printf(\"%\"PRIx64\" \", test_out[i*4 + j]);\n",
      "      |                    ^~~           ~~~~~~~~~~~~~~~~~\n",
      "      |                                          |\n",
      "      |                                          int\n",
      "/tools/C/tedkim7/sp24-Baremetal-IDE/shmoo_bench/dsp_conv_bench/src/main.c:100:14: warning: variable 'ref_out' set but not used [-Wunused-but-set-variable]\n",
      "  100 |     uint16_t ref_out[32];\n",
      "      |              ^~~~~~~\n",
      "/tools/C/tedkim7/sp24-Baremetal-IDE/shmoo_bench/dsp_conv_bench/src/main.c:79:14: warning: unused variable 'cpu_end_cycles' [-Wunused-variable]\n",
      "   79 |     uint64_t cpu_end_cycles = READ_CSR(\"mcycle\");\n",
      "      |              ^~~~~~~~~~~~~~\n",
      "/tools/C/tedkim7/sp24-Baremetal-IDE/shmoo_bench/dsp_conv_bench/src/main.c:74:14: warning: unused variable 'cpu_start_cycles' [-Wunused-variable]\n",
      "   74 |     uint64_t cpu_start_cycles = READ_CSR(\"mcycle\");\n",
      "      |              ^~~~~~~~~~~~~~~~\n",
      "/tools/C/tedkim7/sp24-Baremetal-IDE/shmoo_bench/dsp_conv_bench/src/main.c:67:14: warning: unused variable 'in_dilation' [-Wunused-variable]\n",
      "   67 |     uint16_t in_dilation[1] = {1};\n",
      "      |              ^~~~~~~~~~~\n",
      "/tools/C/tedkim7/sp24-Baremetal-IDE/shmoo_bench/dsp_conv_bench/src/main.c:66:14: warning: unused variable 'in_len' [-Wunused-variable]\n",
      "   66 |     uint32_t in_len[1] = {16};\n",
      "      |              ^~~~~~\n",
      "/tools/C/tedkim7/sp24-Baremetal-IDE/shmoo_bench/dsp_conv_bench/src/main.c: In function 'main':\n",
      "/tools/C/tedkim7/sp24-Baremetal-IDE/shmoo_bench/dsp_conv_bench/src/main.c:127:14: warning: unused parameter 'argc' [-Wunused-parameter]\n",
      "  127 | int main(int argc, char **argv) {\n",
      "      |          ~~~~^~~~\n",
      "/tools/C/tedkim7/sp24-Baremetal-IDE/shmoo_bench/dsp_conv_bench/src/main.c:127:27: warning: unused parameter 'argv' [-Wunused-parameter]\n",
      "  127 | int main(int argc, char **argv) {\n",
      "      |                    ~~~~~~~^~~~\n"
     ]
    },
    {
     "name": "stdout",
     "output_type": "stream",
     "text": [
      "[100%] \u001b[32m\u001b[1mLinking C executable shmoo_bench.elf\u001b[0m\n"
     ]
    },
    {
     "name": "stderr",
     "output_type": "stream",
     "text": [
      "/bwrcq/C/ee290-fa24-2/.conda-env/riscv-tools/bin/../lib/gcc/riscv64-unknown-elf/13.2.0/../../../../riscv64-unknown-elf/bin/ld: warning: shmoo_bench.elf has a LOAD segment with RWX permissions\n"
     ]
    },
    {
     "name": "stdout",
     "output_type": "stream",
     "text": [
      "gmake[4]: Leaving directory '/bwrcq/C/tedkim7/sp24-Baremetal-IDE/build'\n",
      "[100%] Built target shmoo_bench\n",
      "gmake[3]: Leaving directory '/bwrcq/C/tedkim7/sp24-Baremetal-IDE/build'\n",
      "gmake[2]: Leaving directory '/bwrcq/C/tedkim7/sp24-Baremetal-IDE/build'\n",
      "gmake[1]: Leaving directory '/bwrcq/C/tedkim7/sp24-Baremetal-IDE/build'\n",
      "**Clock set to: 250MHz**\n",
      "**Voltage set to: +5.00000000E-01\n",
      "V**\n"
     ]
    },
    {
     "name": "stderr",
     "output_type": "stream",
     "text": [
      "warning: tohost and fromhost symbols not in ELF; can't communicate with target\n",
      "Writing 14006c with 5\n",
      "Done writing 14006c with 5\n"
     ]
    },
    {
     "name": "stdout",
     "output_type": "stream",
     "text": [
      "Starting UART-based TSI\n",
      "Usage: ./uart_tsi +tty=/dev/pts/xx <PLUSARGS> <bin>\n",
      "       ./uart_tsi +tty=/dev/ttyxx  <PLUSARGS> <bin>\n",
      "       ./uart_tsi +tty=/dev/ttyxx  +no_hart0_msip +init_write=0x80000000:0xdeadbeef none\n",
      "       ./uart_tsi +tty=/dev/ttyxx  +no_hart0_msip +init_read=0x80000000 none\n",
      "       ./uart_tsi +tty=/dev/ttyxx  +selfcheck <bin>\n",
      "       ./uart_tsi +tty=/dev/ttyxx  +baudrate=921600 <bin>\n",
      "Attempting to open TTY at /dev/ttyUSB1\n",
      "Warning: You selected a non-standard baudrate. This will only work if the HW was configured with this baud-rate\n",
      "Checking connection status with /dev/ttyUSB1\n",
      "Connection succeeded\n",
      "Done, shutting down, flushing UART\n",
      "WARNING: You should probably reset the target before running this program again\n",
      "Done: now reset during the sleep before next iteration\n",
      "**Voltage set to: +5.50000000E-01\n",
      "V**\n"
     ]
    },
    {
     "name": "stderr",
     "output_type": "stream",
     "text": [
      "warning: tohost and fromhost symbols not in ELF; can't communicate with target\n",
      "Writing 14006c with 5\n",
      "Done writing 14006c with 5\n"
     ]
    },
    {
     "name": "stdout",
     "output_type": "stream",
     "text": [
      "Starting UART-based TSI\n",
      "Usage: ./uart_tsi +tty=/dev/pts/xx <PLUSARGS> <bin>\n",
      "       ./uart_tsi +tty=/dev/ttyxx  <PLUSARGS> <bin>\n",
      "       ./uart_tsi +tty=/dev/ttyxx  +no_hart0_msip +init_write=0x80000000:0xdeadbeef none\n",
      "       ./uart_tsi +tty=/dev/ttyxx  +no_hart0_msip +init_read=0x80000000 none\n",
      "       ./uart_tsi +tty=/dev/ttyxx  +selfcheck <bin>\n",
      "       ./uart_tsi +tty=/dev/ttyxx  +baudrate=921600 <bin>\n",
      "Attempting to open TTY at /dev/ttyUSB1\n",
      "Warning: You selected a non-standard baudrate. This will only work if the HW was configured with this baud-rate\n",
      "Checking connection status with /dev/ttyUSB1\n",
      "Connection succeeded\n",
      "Done, shutting down, flushing UART\n",
      "WARNING: You should probably reset the target before running this program again\n",
      "Done: now reset during the sleep before next iteration\n",
      "**Voltage set to: +6.00000000E-01\n",
      "V**\n"
     ]
    },
    {
     "name": "stderr",
     "output_type": "stream",
     "text": [
      "warning: tohost and fromhost symbols not in ELF; can't communicate with target\n",
      "Writing 14006c with 5\n",
      "Done writing 14006c with 5\n"
     ]
    },
    {
     "name": "stdout",
     "output_type": "stream",
     "text": [
      "Starting UART-based TSI\n",
      "Usage: ./uart_tsi +tty=/dev/pts/xx <PLUSARGS> <bin>\n",
      "       ./uart_tsi +tty=/dev/ttyxx  <PLUSARGS> <bin>\n",
      "       ./uart_tsi +tty=/dev/ttyxx  +no_hart0_msip +init_write=0x80000000:0xdeadbeef none\n",
      "       ./uart_tsi +tty=/dev/ttyxx  +no_hart0_msip +init_read=0x80000000 none\n",
      "       ./uart_tsi +tty=/dev/ttyxx  +selfcheck <bin>\n",
      "       ./uart_tsi +tty=/dev/ttyxx  +baudrate=921600 <bin>\n",
      "Attempting to open TTY at /dev/ttyUSB1\n",
      "Warning: You selected a non-standard baudrate. This will only work if the HW was configured with this baud-rate\n",
      "Checking connection status with /dev/ttyUSB1\n",
      "Connection succeeded\n",
      "Done, shutting down, flushing UART\n",
      "WARNING: You should probably reset the target before running this program again\n",
      "Done: now reset during the sleep before next iteration\n",
      "**Voltage set to: +6.50000000E-01\n",
      "V**\n"
     ]
    },
    {
     "name": "stderr",
     "output_type": "stream",
     "text": [
      "warning: tohost and fromhost symbols not in ELF; can't communicate with target\n",
      "Writing 14006c with 5\n",
      "Done writing 14006c with 5\n"
     ]
    },
    {
     "name": "stdout",
     "output_type": "stream",
     "text": [
      "b'0 4400 4600 4800 4900 4a00 4b00 4c00 4c80 4d00 4d80 4e00 4e80 4f00 4f80 5000 \\r\\n'\n",
      "Starting UART-based TSI\n",
      "Usage: ./uart_tsi +tty=/dev/pts/xx <PLUSARGS> <bin>\n",
      "       ./uart_tsi +tty=/dev/ttyxx  <PLUSARGS> <bin>\n",
      "       ./uart_tsi +tty=/dev/ttyxx  +no_hart0_msip +init_write=0x80000000:0xdeadbeef none\n",
      "       ./uart_tsi +tty=/dev/ttyxx  +no_hart0_msip +init_read=0x80000000 none\n",
      "       ./uart_tsi +tty=/dev/ttyxx  +selfcheck <bin>\n",
      "       ./uart_tsi +tty=/dev/ttyxx  +baudrate=921600 <bin>\n",
      "Attempting to open TTY at /dev/ttyUSB1\n",
      "Warning: You selected a non-standard baudrate. This will only work if the HW was configured with this baud-rate\n",
      "Checking connection status with /dev/ttyUSB1\n",
      "Connection succeeded\n",
      "Done, shutting down, flushing UART\n",
      "WARNING: You should probably reset the target before running this program again\n",
      "Done: now reset during the sleep before next iteration\n",
      "**Voltage set to: +7.00000000E-01\n",
      "V**\n"
     ]
    },
    {
     "name": "stderr",
     "output_type": "stream",
     "text": [
      "warning: tohost and fromhost symbols not in ELF; can't communicate with target\n",
      "Writing 14006c with 5\n",
      "Done writing 14006c with 5\n"
     ]
    },
    {
     "name": "stdout",
     "output_type": "stream",
     "text": [
      "b'0 4400 4600 4800 4900 4a00 4b00 4c00 4c80 4d00 4d80 4e00 4e80 4f00 4f80 5000 \\r\\n'\n",
      "Starting UART-based TSI\n",
      "Usage: ./uart_tsi +tty=/dev/pts/xx <PLUSARGS> <bin>\n",
      "       ./uart_tsi +tty=/dev/ttyxx  <PLUSARGS> <bin>\n",
      "       ./uart_tsi +tty=/dev/ttyxx  +no_hart0_msip +init_write=0x80000000:0xdeadbeef none\n",
      "       ./uart_tsi +tty=/dev/ttyxx  +no_hart0_msip +init_read=0x80000000 none\n",
      "       ./uart_tsi +tty=/dev/ttyxx  +selfcheck <bin>\n",
      "       ./uart_tsi +tty=/dev/ttyxx  +baudrate=921600 <bin>\n",
      "Attempting to open TTY at /dev/ttyUSB1\n",
      "Warning: You selected a non-standard baudrate. This will only work if the HW was configured with this baud-rate\n",
      "Checking connection status with /dev/ttyUSB1\n",
      "Connection succeeded\n",
      "Done, shutting down, flushing UART\n",
      "WARNING: You should probably reset the target before running this program again\n",
      "Done: now reset during the sleep before next iteration\n",
      "**Voltage set to: +7.50000000E-01\n",
      "V**\n"
     ]
    },
    {
     "name": "stderr",
     "output_type": "stream",
     "text": [
      "warning: tohost and fromhost symbols not in ELF; can't communicate with target\n",
      "Writing 14006c with 5\n",
      "Done writing 14006c with 5\n"
     ]
    },
    {
     "name": "stdout",
     "output_type": "stream",
     "text": [
      "b'0 4400 4600 4800 4900 4a00 4b00 4c00 4c80 4d00 4d80 4e00 4e80 4f00 4f80 5000 \\r\\n'\n",
      "Starting UART-based TSI\n",
      "Usage: ./uart_tsi +tty=/dev/pts/xx <PLUSARGS> <bin>\n",
      "       ./uart_tsi +tty=/dev/ttyxx  <PLUSARGS> <bin>\n",
      "       ./uart_tsi +tty=/dev/ttyxx  +no_hart0_msip +init_write=0x80000000:0xdeadbeef none\n",
      "       ./uart_tsi +tty=/dev/ttyxx  +no_hart0_msip +init_read=0x80000000 none\n",
      "       ./uart_tsi +tty=/dev/ttyxx  +selfcheck <bin>\n",
      "       ./uart_tsi +tty=/dev/ttyxx  +baudrate=921600 <bin>\n",
      "Attempting to open TTY at /dev/ttyUSB1\n",
      "Warning: You selected a non-standard baudrate. This will only work if the HW was configured with this baud-rate\n",
      "Checking connection status with /dev/ttyUSB1\n",
      "Connection succeeded\n",
      "Done, shutting down, flushing UART\n",
      "WARNING: You should probably reset the target before running this program again\n",
      "Done: now reset during the sleep before next iteration\n",
      "**Voltage set to: +8.00000000E-01\n",
      "V**\n"
     ]
    },
    {
     "name": "stderr",
     "output_type": "stream",
     "text": [
      "warning: tohost and fromhost symbols not in ELF; can't communicate with target\n",
      "Writing 14006c with 5\n",
      "Done writing 14006c with 5\n"
     ]
    },
    {
     "name": "stdout",
     "output_type": "stream",
     "text": [
      "b'0 4400 4600 4800 4900 4a00 4b00 4c00 4c80 4d00 4d80 4e00 4e80 4f00 4f80 5000 \\r\\n'\n",
      "Starting UART-based TSI\n",
      "Usage: ./uart_tsi +tty=/dev/pts/xx <PLUSARGS> <bin>\n",
      "       ./uart_tsi +tty=/dev/ttyxx  <PLUSARGS> <bin>\n",
      "       ./uart_tsi +tty=/dev/ttyxx  +no_hart0_msip +init_write=0x80000000:0xdeadbeef none\n",
      "       ./uart_tsi +tty=/dev/ttyxx  +no_hart0_msip +init_read=0x80000000 none\n",
      "       ./uart_tsi +tty=/dev/ttyxx  +selfcheck <bin>\n",
      "       ./uart_tsi +tty=/dev/ttyxx  +baudrate=921600 <bin>\n",
      "Attempting to open TTY at /dev/ttyUSB1\n",
      "Warning: You selected a non-standard baudrate. This will only work if the HW was configured with this baud-rate\n",
      "Checking connection status with /dev/ttyUSB1\n",
      "Connection succeeded\n",
      "Done, shutting down, flushing UART\n",
      "WARNING: You should probably reset the target before running this program again\n",
      "Done: now reset during the sleep before next iteration\n",
      "**Voltage set to: +8.50000000E-01\n",
      "V**\n"
     ]
    },
    {
     "name": "stderr",
     "output_type": "stream",
     "text": [
      "warning: tohost and fromhost symbols not in ELF; can't communicate with target\n",
      "Writing 14006c with 5\n",
      "Done writing 14006c with 5\n"
     ]
    },
    {
     "name": "stdout",
     "output_type": "stream",
     "text": [
      "b'0 4400 4600 4800 4900 4a00 4b00 4c00 4c80 4d00 4d80 4e00 4e80 4f00 4f80 5000 \\r\\n'\n",
      "Starting UART-based TSI\n",
      "Usage: ./uart_tsi +tty=/dev/pts/xx <PLUSARGS> <bin>\n",
      "       ./uart_tsi +tty=/dev/ttyxx  <PLUSARGS> <bin>\n",
      "       ./uart_tsi +tty=/dev/ttyxx  +no_hart0_msip +init_write=0x80000000:0xdeadbeef none\n",
      "       ./uart_tsi +tty=/dev/ttyxx  +no_hart0_msip +init_read=0x80000000 none\n",
      "       ./uart_tsi +tty=/dev/ttyxx  +selfcheck <bin>\n",
      "       ./uart_tsi +tty=/dev/ttyxx  +baudrate=921600 <bin>\n",
      "Attempting to open TTY at /dev/ttyUSB1\n",
      "Warning: You selected a non-standard baudrate. This will only work if the HW was configured with this baud-rate\n",
      "Checking connection status with /dev/ttyUSB1\n",
      "Connection succeeded\n",
      "Done, shutting down, flushing UART\n",
      "WARNING: You should probably reset the target before running this program again\n",
      "Done: now reset during the sleep before next iteration\n",
      "**Voltage set to: +9.00000000E-01\n",
      "V**\n"
     ]
    },
    {
     "name": "stderr",
     "output_type": "stream",
     "text": [
      "warning: tohost and fromhost symbols not in ELF; can't communicate with target\n",
      "Writing 14006c with 5\n",
      "Done writing 14006c with 5\n"
     ]
    },
    {
     "name": "stdout",
     "output_type": "stream",
     "text": [
      "b'0 4400 4600 4800 4900 4a00 4b00 4c00 4c80 4d00 4d80 4e00 4e80 4f00 4f80 5000 \\r\\n'\n",
      "Starting UART-based TSI\n",
      "Usage: ./uart_tsi +tty=/dev/pts/xx <PLUSARGS> <bin>\n",
      "       ./uart_tsi +tty=/dev/ttyxx  <PLUSARGS> <bin>\n",
      "       ./uart_tsi +tty=/dev/ttyxx  +no_hart0_msip +init_write=0x80000000:0xdeadbeef none\n",
      "       ./uart_tsi +tty=/dev/ttyxx  +no_hart0_msip +init_read=0x80000000 none\n",
      "       ./uart_tsi +tty=/dev/ttyxx  +selfcheck <bin>\n",
      "       ./uart_tsi +tty=/dev/ttyxx  +baudrate=921600 <bin>\n",
      "Attempting to open TTY at /dev/ttyUSB1\n",
      "Warning: You selected a non-standard baudrate. This will only work if the HW was configured with this baud-rate\n",
      "Checking connection status with /dev/ttyUSB1\n",
      "Connection succeeded\n",
      "Done, shutting down, flushing UART\n",
      "WARNING: You should probably reset the target before running this program again\n",
      "Done: now reset during the sleep before next iteration\n",
      "**Voltage set to: +9.50000000E-01\n",
      "V**\n"
     ]
    },
    {
     "name": "stderr",
     "output_type": "stream",
     "text": [
      "warning: tohost and fromhost symbols not in ELF; can't communicate with target\n",
      "Writing 14006c with 5\n",
      "Done writing 14006c with 5\n"
     ]
    },
    {
     "name": "stdout",
     "output_type": "stream",
     "text": [
      "b'0 4400 4600 4800 4900 4a00 4b00 4c00 4c80 4d00 4d80 4e00 4e80 4f00 4f80 5000 \\r\\n'\n",
      "Starting UART-based TSI\n",
      "Usage: ./uart_tsi +tty=/dev/pts/xx <PLUSARGS> <bin>\n",
      "       ./uart_tsi +tty=/dev/ttyxx  <PLUSARGS> <bin>\n",
      "       ./uart_tsi +tty=/dev/ttyxx  +no_hart0_msip +init_write=0x80000000:0xdeadbeef none\n",
      "       ./uart_tsi +tty=/dev/ttyxx  +no_hart0_msip +init_read=0x80000000 none\n",
      "       ./uart_tsi +tty=/dev/ttyxx  +selfcheck <bin>\n",
      "       ./uart_tsi +tty=/dev/ttyxx  +baudrate=921600 <bin>\n",
      "Attempting to open TTY at /dev/ttyUSB1\n",
      "Warning: You selected a non-standard baudrate. This will only work if the HW was configured with this baud-rate\n",
      "Checking connection status with /dev/ttyUSB1\n",
      "Connection succeeded\n",
      "Done, shutting down, flushing UART\n",
      "WARNING: You should probably reset the target before running this program again\n",
      "Done: now reset during the sleep before next iteration\n",
      "**Voltage set to: +1.00000000E+00\n",
      "V**\n"
     ]
    },
    {
     "name": "stderr",
     "output_type": "stream",
     "text": [
      "warning: tohost and fromhost symbols not in ELF; can't communicate with target\n",
      "Writing 14006c with 5\n",
      "Done writing 14006c with 5\n"
     ]
    },
    {
     "name": "stdout",
     "output_type": "stream",
     "text": [
      "b'0 4400 4600 4800 4900 4a00 4b00 4c00 4c80 4d00 4d80 4e00 4e80 4f00 4f80 5000 \\r\\n'\n",
      "Starting UART-based TSI\n",
      "Usage: ./uart_tsi +tty=/dev/pts/xx <PLUSARGS> <bin>\n",
      "       ./uart_tsi +tty=/dev/ttyxx  <PLUSARGS> <bin>\n",
      "       ./uart_tsi +tty=/dev/ttyxx  +no_hart0_msip +init_write=0x80000000:0xdeadbeef none\n",
      "       ./uart_tsi +tty=/dev/ttyxx  +no_hart0_msip +init_read=0x80000000 none\n",
      "       ./uart_tsi +tty=/dev/ttyxx  +selfcheck <bin>\n",
      "       ./uart_tsi +tty=/dev/ttyxx  +baudrate=921600 <bin>\n",
      "Attempting to open TTY at /dev/ttyUSB1\n",
      "Warning: You selected a non-standard baudrate. This will only work if the HW was configured with this baud-rate\n",
      "Checking connection status with /dev/ttyUSB1\n",
      "Connection succeeded\n",
      "Done, shutting down, flushing UART\n",
      "WARNING: You should probably reset the target before running this program again\n",
      "Done: now reset during the sleep before next iteration\n",
      "**Voltage set to: +1.05000000E+00\n",
      "V**\n"
     ]
    },
    {
     "name": "stderr",
     "output_type": "stream",
     "text": [
      "warning: tohost and fromhost symbols not in ELF; can't communicate with target\n",
      "Writing 14006c with 5\n",
      "Done writing 14006c with 5\n"
     ]
    },
    {
     "name": "stdout",
     "output_type": "stream",
     "text": [
      "b'0 4400 4600 4800 4900 4a00 4b00 4c00 4c80 4d00 4d80 4e00 4e80 4f00 4f80 5000 \\r\\n'\n",
      "Starting UART-based TSI\n",
      "Usage: ./uart_tsi +tty=/dev/pts/xx <PLUSARGS> <bin>\n",
      "       ./uart_tsi +tty=/dev/ttyxx  <PLUSARGS> <bin>\n",
      "       ./uart_tsi +tty=/dev/ttyxx  +no_hart0_msip +init_write=0x80000000:0xdeadbeef none\n",
      "       ./uart_tsi +tty=/dev/ttyxx  +no_hart0_msip +init_read=0x80000000 none\n",
      "       ./uart_tsi +tty=/dev/ttyxx  +selfcheck <bin>\n",
      "       ./uart_tsi +tty=/dev/ttyxx  +baudrate=921600 <bin>\n",
      "Attempting to open TTY at /dev/ttyUSB1\n",
      "Warning: You selected a non-standard baudrate. This will only work if the HW was configured with this baud-rate\n",
      "Checking connection status with /dev/ttyUSB1\n",
      "Connection succeeded\n",
      "Done, shutting down, flushing UART\n",
      "WARNING: You should probably reset the target before running this program again\n",
      "Done: now reset during the sleep before next iteration\n",
      "**Voltage set to: +1.10000000E+00\n",
      "V**\n"
     ]
    },
    {
     "name": "stderr",
     "output_type": "stream",
     "text": [
      "warning: tohost and fromhost symbols not in ELF; can't communicate with target\n",
      "Writing 14006c with 5\n",
      "Done writing 14006c with 5\n"
     ]
    },
    {
     "name": "stdout",
     "output_type": "stream",
     "text": [
      "b'0 4400 4600 4800 4900 4a00 4b00 4c00 4c80 4d00 4d80 4e00 4e80 4f00 4f80 5000 \\r\\n'\n",
      "Starting UART-based TSI\n",
      "Usage: ./uart_tsi +tty=/dev/pts/xx <PLUSARGS> <bin>\n",
      "       ./uart_tsi +tty=/dev/ttyxx  <PLUSARGS> <bin>\n",
      "       ./uart_tsi +tty=/dev/ttyxx  +no_hart0_msip +init_write=0x80000000:0xdeadbeef none\n",
      "       ./uart_tsi +tty=/dev/ttyxx  +no_hart0_msip +init_read=0x80000000 none\n",
      "       ./uart_tsi +tty=/dev/ttyxx  +selfcheck <bin>\n",
      "       ./uart_tsi +tty=/dev/ttyxx  +baudrate=921600 <bin>\n",
      "Attempting to open TTY at /dev/ttyUSB1\n",
      "Warning: You selected a non-standard baudrate. This will only work if the HW was configured with this baud-rate\n",
      "Checking connection status with /dev/ttyUSB1\n",
      "Connection succeeded\n",
      "Done, shutting down, flushing UART\n",
      "WARNING: You should probably reset the target before running this program again\n",
      "Done: now reset during the sleep before next iteration\n",
      "**Voltage set to: +1.15000000E+00\n",
      "V**\n"
     ]
    },
    {
     "name": "stderr",
     "output_type": "stream",
     "text": [
      "warning: tohost and fromhost symbols not in ELF; can't communicate with target\n",
      "Writing 14006c with 5\n",
      "Done writing 14006c with 5\n"
     ]
    },
    {
     "name": "stdout",
     "output_type": "stream",
     "text": [
      "b'0 4400 4600 4800 4900 4a00 4b00 4c00 4c80 4d00 4d80 4e00 4e80 4f00 4f80 5000 \\r\\n'\n",
      "Starting UART-based TSI\n",
      "Usage: ./uart_tsi +tty=/dev/pts/xx <PLUSARGS> <bin>\n",
      "       ./uart_tsi +tty=/dev/ttyxx  <PLUSARGS> <bin>\n",
      "       ./uart_tsi +tty=/dev/ttyxx  +no_hart0_msip +init_write=0x80000000:0xdeadbeef none\n",
      "       ./uart_tsi +tty=/dev/ttyxx  +no_hart0_msip +init_read=0x80000000 none\n",
      "       ./uart_tsi +tty=/dev/ttyxx  +selfcheck <bin>\n",
      "       ./uart_tsi +tty=/dev/ttyxx  +baudrate=921600 <bin>\n",
      "Attempting to open TTY at /dev/ttyUSB1\n",
      "Warning: You selected a non-standard baudrate. This will only work if the HW was configured with this baud-rate\n",
      "Checking connection status with /dev/ttyUSB1\n",
      "Connection succeeded\n",
      "Done, shutting down, flushing UART\n",
      "WARNING: You should probably reset the target before running this program again\n",
      "Done: now reset during the sleep before next iteration\n",
      "**Voltage set to: +1.20000000E+00\n",
      "V**\n"
     ]
    },
    {
     "name": "stderr",
     "output_type": "stream",
     "text": [
      "warning: tohost and fromhost symbols not in ELF; can't communicate with target\n",
      "Writing 14006c with 5\n",
      "Done writing 14006c with 5\n"
     ]
    },
    {
     "name": "stdout",
     "output_type": "stream",
     "text": [
      "b'0 4400 4600 4800 4900 4a00 4b00 4c00 4c80 4d00 4d80 4e00 4e80 4f00 4f80 5000 \\r\\n'\n",
      "Starting UART-based TSI\n",
      "Usage: ./uart_tsi +tty=/dev/pts/xx <PLUSARGS> <bin>\n",
      "       ./uart_tsi +tty=/dev/ttyxx  <PLUSARGS> <bin>\n",
      "       ./uart_tsi +tty=/dev/ttyxx  +no_hart0_msip +init_write=0x80000000:0xdeadbeef none\n",
      "       ./uart_tsi +tty=/dev/ttyxx  +no_hart0_msip +init_read=0x80000000 none\n",
      "       ./uart_tsi +tty=/dev/ttyxx  +selfcheck <bin>\n",
      "       ./uart_tsi +tty=/dev/ttyxx  +baudrate=921600 <bin>\n",
      "Attempting to open TTY at /dev/ttyUSB1\n",
      "Warning: You selected a non-standard baudrate. This will only work if the HW was configured with this baud-rate\n",
      "Checking connection status with /dev/ttyUSB1\n",
      "Connection succeeded\n",
      "Done, shutting down, flushing UART\n",
      "WARNING: You should probably reset the target before running this program again\n",
      "Done: now reset during the sleep before next iteration\n",
      "rm -rf build\n",
      "cmake -S ./ -B ./build/ -D CMAKE_TOOLCHAIN_FILE=./riscv-gcc.cmake -DCHIP=dsp24\n",
      "-- The ASM compiler identification is GNU\n",
      "-- Found assembler: /tools/C/ee290-fa24-2/.conda-env/riscv-tools/bin/riscv64-unknown-elf-gcc\n",
      "-- The C compiler identification is GNU 13.2.0\n",
      "-- The CXX compiler identification is GNU 13.2.0\n",
      "-- Detecting C compiler ABI info\n",
      "-- Detecting C compiler ABI info - done\n",
      "-- Check for working C compiler: /tools/C/ee290-fa24-2/.conda-env/riscv-tools/bin/riscv64-unknown-elf-gcc - skipped\n",
      "-- Detecting C compile features\n",
      "-- Detecting C compile features - done\n",
      "-- Detecting CXX compiler ABI info\n",
      "-- Detecting CXX compiler ABI info - done\n",
      "-- Check for working CXX compiler: /tools/C/ee290-fa24-2/.conda-env/riscv-tools/bin/riscv64-unknown-elf-g++ - skipped\n",
      "-- Detecting CXX compile features\n",
      "-- Detecting CXX compile features - done\n",
      "-- Including HTIF to target\n",
      "-- Including CLINT to target\n",
      "-- ================ Glossy config ================\n",
      "--  Building for CHIP: \"dsp24\"\n",
      "--  Reading config from \"/tools/C/tedkim7/sp24-Baremetal-IDE/platform/dsp24/CMakeLists.txt\"\n",
      "--  Terminal Device: UART0\n",
      "--  Linker Script: /tools/C/tedkim7/sp24-Baremetal-IDE/platform/dsp24/dsp24.ld\n",
      "-- ===============================================\n",
      "-- Configuring done (3.2s)\n",
      "-- Generating done (1.5s)\n",
      "-- Build files have been written to: /tools/C/tedkim7/sp24-Baremetal-IDE/build\n",
      "cmake --build ./build/ --target shmoo_bench\n",
      "gmake[1]: Entering directory '/bwrcq/C/tedkim7/sp24-Baremetal-IDE/build'\n",
      "gmake[2]: Entering directory '/bwrcq/C/tedkim7/sp24-Baremetal-IDE/build'\n",
      "gmake[3]: Entering directory '/bwrcq/C/tedkim7/sp24-Baremetal-IDE/build'\n",
      "gmake[4]: Entering directory '/bwrcq/C/tedkim7/sp24-Baremetal-IDE/build'\n",
      "gmake[4]: Leaving directory '/bwrcq/C/tedkim7/sp24-Baremetal-IDE/build'\n",
      "gmake[4]: Entering directory '/bwrcq/C/tedkim7/sp24-Baremetal-IDE/build'\n",
      "[  2%] \u001b[32mBuilding C object driver/rocket-chip-blocks/uart/CMakeFiles/uart.dir/uart.c.obj\u001b[0m\n"
     ]
    },
    {
     "name": "stderr",
     "output_type": "stream",
     "text": [
      "/tools/C/tedkim7/sp24-Baremetal-IDE/driver/rocket-chip-blocks/uart/uart.c: In function 'uart_receive':\n",
      "/tools/C/tedkim7/sp24-Baremetal-IDE/driver/rocket-chip-blocks/uart/uart.c:35:78: warning: unused parameter 'timeout' [-Wunused-parameter]\n",
      "   35 | Status uart_receive(UART_Type *UARTx, uint8_t *data, uint16_t size, uint32_t timeout) {\n",
      "      |                                                                     ~~~~~~~~~^~~~~~~\n",
      "/tools/C/tedkim7/sp24-Baremetal-IDE/driver/rocket-chip-blocks/uart/uart.c: In function 'uart_transmit':\n",
      "/tools/C/tedkim7/sp24-Baremetal-IDE/driver/rocket-chip-blocks/uart/uart.c:50:85: warning: unused parameter 'timeout' [-Wunused-parameter]\n",
      "   50 | Status uart_transmit(UART_Type *UARTx, const uint8_t *data, uint16_t size, uint32_t timeout) {\n",
      "      |                                                                            ~~~~~~~~~^~~~~~~\n"
     ]
    },
    {
     "name": "stdout",
     "output_type": "stream",
     "text": [
      "[  5%] \u001b[32m\u001b[1mLinking C static library libuart.a\u001b[0m\n",
      "gmake[4]: Leaving directory '/bwrcq/C/tedkim7/sp24-Baremetal-IDE/build'\n",
      "[  5%] Built target uart\n",
      "gmake[4]: Entering directory '/bwrcq/C/tedkim7/sp24-Baremetal-IDE/build'\n",
      "gmake[4]: Leaving directory '/bwrcq/C/tedkim7/sp24-Baremetal-IDE/build'\n",
      "gmake[4]: Entering directory '/bwrcq/C/tedkim7/sp24-Baremetal-IDE/build'\n",
      "[  7%] \u001b[32mBuilding C object driver/intel/pll/CMakeFiles/intel-pll.dir/pll.c.obj\u001b[0m\n",
      "[ 10%] \u001b[32m\u001b[1mLinking C static library libintel-pll.a\u001b[0m\n",
      "gmake[4]: Leaving directory '/bwrcq/C/tedkim7/sp24-Baremetal-IDE/build'\n",
      "[ 10%] Built target intel-pll\n",
      "gmake[4]: Entering directory '/bwrcq/C/tedkim7/sp24-Baremetal-IDE/build'\n",
      "gmake[4]: Leaving directory '/bwrcq/C/tedkim7/sp24-Baremetal-IDE/build'\n",
      "gmake[4]: Entering directory '/bwrcq/C/tedkim7/sp24-Baremetal-IDE/build'\n",
      "[ 12%] \u001b[32mBuilding C object driver/rocket-chip/clint/CMakeFiles/clint.dir/clint.c.obj\u001b[0m\n",
      "[ 15%] \u001b[32m\u001b[1mLinking C static library libclint.a\u001b[0m\n",
      "gmake[4]: Leaving directory '/bwrcq/C/tedkim7/sp24-Baremetal-IDE/build'\n",
      "[ 15%] Built target clint\n",
      "gmake[4]: Entering directory '/bwrcq/C/tedkim7/sp24-Baremetal-IDE/build'\n",
      "gmake[4]: Leaving directory '/bwrcq/C/tedkim7/sp24-Baremetal-IDE/build'\n",
      "gmake[4]: Entering directory '/bwrcq/C/tedkim7/sp24-Baremetal-IDE/build'\n",
      "[ 17%] \u001b[32mBuilding C object driver/rocket-chip/rocketcore/CMakeFiles/rocketcore.dir/rocketcore.c.obj\u001b[0m\n",
      "[ 20%] \u001b[32m\u001b[1mLinking C static library librocketcore.a\u001b[0m\n",
      "gmake[4]: Leaving directory '/bwrcq/C/tedkim7/sp24-Baremetal-IDE/build'\n",
      "[ 20%] Built target rocketcore\n",
      "gmake[4]: Entering directory '/bwrcq/C/tedkim7/sp24-Baremetal-IDE/build'\n",
      "gmake[4]: Leaving directory '/bwrcq/C/tedkim7/sp24-Baremetal-IDE/build'\n",
      "gmake[4]: Entering directory '/bwrcq/C/tedkim7/sp24-Baremetal-IDE/build'\n",
      "[ 23%] \u001b[32mBuilding C object driver/rocket-chip-blocks/i2c/CMakeFiles/i2c.dir/i2c.c.obj\u001b[0m\n"
     ]
    },
    {
     "name": "stderr",
     "output_type": "stream",
     "text": [
      "/tools/C/tedkim7/sp24-Baremetal-IDE/driver/rocket-chip-blocks/i2c/i2c.c: In function 'i2c_init':\n",
      "/tools/C/tedkim7/sp24-Baremetal-IDE/driver/rocket-chip-blocks/i2c/i2c.c:13:45: warning: unused parameter 'I2C_init' [-Wunused-parameter]\n",
      "   13 | void i2c_init(I2C_Type *I2Cx, I2C_InitType *I2C_init) {\n",
      "      |                               ~~~~~~~~~~~~~~^~~~~~~~\n",
      "/tools/C/tedkim7/sp24-Baremetal-IDE/driver/rocket-chip-blocks/i2c/i2c.c: In function 'i2c_wait_for_flag':\n",
      "/tools/C/tedkim7/sp24-Baremetal-IDE/driver/rocket-chip-blocks/i2c/i2c.c:30:9: warning: implicit declaration of function 'CLINT_getTime' [-Wimplicit-function-declaration]\n",
      "   30 |     if (CLINT_getTime() > (timestart + timeout)) {\n",
      "      |         ^~~~~~~~~~~~~\n",
      "/tools/C/tedkim7/sp24-Baremetal-IDE/driver/rocket-chip-blocks/i2c/i2c.c:30:25: warning: comparison of integer expressions of different signedness: 'int' and 'uint32_t' {aka 'unsigned int'} [-Wsign-compare]\n",
      "   30 |     if (CLINT_getTime() > (timestart + timeout)) {\n",
      "      |                         ^\n",
      "/tools/C/tedkim7/sp24-Baremetal-IDE/driver/rocket-chip-blocks/i2c/i2c.c: In function 'i2c_master_receive':\n",
      "/tools/C/tedkim7/sp24-Baremetal-IDE/driver/rocket-chip-blocks/i2c/i2c.c:53:24: warning: implicit declaration of function 'clint_get_time' [-Wimplicit-function-declaration]\n",
      "   53 |   uint64_t timestart = clint_get_time();\n",
      "      |                        ^~~~~~~~~~~~~~\n",
      "/tools/C/tedkim7/sp24-Baremetal-IDE/driver/rocket-chip-blocks/i2c/i2c.c: In function 'i2c_wait_for_transaction':\n",
      "/tools/C/tedkim7/sp24-Baremetal-IDE/driver/rocket-chip-blocks/i2c/i2c.c:50:1: warning: control reaches end of non-void function [-Wreturn-type]\n",
      "   50 | }\n",
      "      | ^\n"
     ]
    },
    {
     "name": "stdout",
     "output_type": "stream",
     "text": [
      "[ 25%] \u001b[32m\u001b[1mLinking C static library libi2c.a\u001b[0m\n",
      "gmake[4]: Leaving directory '/bwrcq/C/tedkim7/sp24-Baremetal-IDE/build'\n",
      "[ 25%] Built target i2c\n",
      "gmake[4]: Entering directory '/bwrcq/C/tedkim7/sp24-Baremetal-IDE/build'\n",
      "gmake[4]: Leaving directory '/bwrcq/C/tedkim7/sp24-Baremetal-IDE/build'\n",
      "gmake[4]: Entering directory '/bwrcq/C/tedkim7/sp24-Baremetal-IDE/build'\n",
      "[ 28%] \u001b[32mBuilding C object driver/rocket-chip-blocks/spi/CMakeFiles/spi.dir/spi.c.obj\u001b[0m\n"
     ]
    },
    {
     "name": "stderr",
     "output_type": "stream",
     "text": [
      "/tools/C/tedkim7/sp24-Baremetal-IDE/driver/rocket-chip-blocks/spi/spi.c: In function 'spi_receive':\n",
      "/tools/C/tedkim7/sp24-Baremetal-IDE/driver/rocket-chip-blocks/spi/spi.c:56:75: warning: unused parameter 'timeout' [-Wunused-parameter]\n",
      "   56 | Status spi_receive(SPI_Type *SPIx, uint8_t *data, uint16_t size, uint64_t timeout) {\n",
      "      |                                                                  ~~~~~~~~~^~~~~~~\n",
      "/tools/C/tedkim7/sp24-Baremetal-IDE/driver/rocket-chip-blocks/spi/spi.c: In function 'spi_transmit':\n",
      "/tools/C/tedkim7/sp24-Baremetal-IDE/driver/rocket-chip-blocks/spi/spi.c:68:76: warning: unused parameter 'timeout' [-Wunused-parameter]\n",
      "   68 | Status spi_transmit(SPI_Type *SPIx, uint8_t *data, uint16_t size, uint64_t timeout) {\n",
      "      |                                                                   ~~~~~~~~~^~~~~~~\n",
      "/tools/C/tedkim7/sp24-Baremetal-IDE/driver/rocket-chip-blocks/spi/spi.c: In function 'spi_transmit_receive':\n",
      "/tools/C/tedkim7/sp24-Baremetal-IDE/driver/rocket-chip-blocks/spi/spi.c:80:105: warning: unused parameter 'timeout' [-Wunused-parameter]\n",
      "   80 | Status spi_transmit_receive(SPI_Type *SPIx, uint8_t *tx_data, uint8_t *rx_data, uint16_t size, uint64_t timeout) {\n",
      "      |                                                                                                ~~~~~~~~~^~~~~~~\n"
     ]
    },
    {
     "name": "stdout",
     "output_type": "stream",
     "text": [
      "[ 30%] \u001b[32m\u001b[1mLinking C static library libspi.a\u001b[0m\n",
      "gmake[4]: Leaving directory '/bwrcq/C/tedkim7/sp24-Baremetal-IDE/build'\n",
      "[ 30%] Built target spi\n",
      "gmake[4]: Entering directory '/bwrcq/C/tedkim7/sp24-Baremetal-IDE/build'\n",
      "gmake[4]: Leaving directory '/bwrcq/C/tedkim7/sp24-Baremetal-IDE/build'\n",
      "gmake[4]: Entering directory '/bwrcq/C/tedkim7/sp24-Baremetal-IDE/build'\n",
      "[ 33%] \u001b[32mBuilding C object platform/dsp24/CMakeFiles/chip-config.dir/chip.c.obj\u001b[0m\n",
      "[ 35%] \u001b[32mBuilding C object platform/dsp24/CMakeFiles/chip-config.dir/src/hal_DMA.c.obj\u001b[0m\n"
     ]
    },
    {
     "name": "stderr",
     "output_type": "stream",
     "text": [
      "/tools/C/tedkim7/sp24-Baremetal-IDE/platform/dsp24/src/hal_DMA.c: In function 'set_DMAP':\n",
      "/tools/C/tedkim7/sp24-Baremetal-IDE/platform/dsp24/src/hal_DMA.c:24:53: warning: passing argument 2 of 'reg_write64' makes integer from pointer without a cast [-Wint-conversion]\n",
      "   24 |     reg_write64(DMA_SET_READ + num*DMA_MMIO_Offset, addr_r);\n",
      "      |                                                     ^~~~~~\n",
      "      |                                                     |\n",
      "      |                                                     uint64_t * {aka long unsigned int *}\n",
      "In file included from /tools/C/tedkim7/sp24-Baremetal-IDE/platform/dsp24/inc/hal_DMA.h:10,\n",
      "                 from /tools/C/tedkim7/sp24-Baremetal-IDE/platform/dsp24/src/hal_DMA.c:1:\n",
      "/tools/C/tedkim7/sp24-Baremetal-IDE/platform/dsp24/inc/hal_mmio.h:23:47: note: expected 'uint64_t' {aka 'long unsigned int'} but argument is of type 'uint64_t *' {aka 'long unsigned int *'}\n",
      "   23 | void reg_write64(unsigned long addr, uint64_t data);\n",
      "      |                                      ~~~~~~~~~^~~~\n",
      "/tools/C/tedkim7/sp24-Baremetal-IDE/platform/dsp24/src/hal_DMA.c:25:54: warning: passing argument 2 of 'reg_write64' makes integer from pointer without a cast [-Wint-conversion]\n",
      "   25 |     reg_write64(DMA_SET_WRITE + num*DMA_MMIO_Offset, addr_w);\n",
      "      |                                                      ^~~~~~\n",
      "      |                                                      |\n",
      "      |                                                      uint64_t * {aka long unsigned int *}\n",
      "/tools/C/tedkim7/sp24-Baremetal-IDE/platform/dsp24/inc/hal_mmio.h:23:47: note: expected 'uint64_t' {aka 'long unsigned int'} but argument is of type 'uint64_t *' {aka 'long unsigned int *'}\n",
      "   23 | void reg_write64(unsigned long addr, uint64_t data);\n",
      "      |                                      ~~~~~~~~~^~~~\n",
      "/tools/C/tedkim7/sp24-Baremetal-IDE/platform/dsp24/src/hal_DMA.c:26:50: warning: passing argument 2 of 'reg_write64' makes integer from pointer without a cast [-Wint-conversion]\n",
      "   26 |     reg_write64(DMA_SET_C + num*DMA_MMIO_Offset, addr_c);\n",
      "      |                                                  ^~~~~~\n",
      "      |                                                  |\n",
      "      |                                                  uint64_t * {aka long unsigned int *}\n",
      "/tools/C/tedkim7/sp24-Baremetal-IDE/platform/dsp24/inc/hal_mmio.h:23:47: note: expected 'uint64_t' {aka 'long unsigned int'} but argument is of type 'uint64_t *' {aka 'long unsigned int *'}\n",
      "   23 | void reg_write64(unsigned long addr, uint64_t data);\n",
      "      |                                      ~~~~~~~~~^~~~\n"
     ]
    },
    {
     "name": "stdout",
     "output_type": "stream",
     "text": [
      "[ 38%] \u001b[32mBuilding C object platform/dsp24/CMakeFiles/chip-config.dir/src/hal_I2S.c.obj\u001b[0m\n"
     ]
    },
    {
     "name": "stderr",
     "output_type": "stream",
     "text": [
      "/tools/C/tedkim7/sp24-Baremetal-IDE/platform/dsp24/src/hal_I2S.c: In function 'write_I2S_tx_DMA':\n",
      "/tools/C/tedkim7/sp24-Baremetal-IDE/platform/dsp24/src/hal_I2S.c:49:9: warning: implicit declaration of function 'printf' [-Wimplicit-function-declaration]\n",
      "   49 |         printf(\"Writing to left queue\\n\");\n",
      "      |         ^~~~~~\n",
      "/tools/C/tedkim7/sp24-Baremetal-IDE/platform/dsp24/src/hal_I2S.c:3:1: note: include '<stdio.h>' or provide a declaration of 'printf'\n",
      "    2 | #include  \"hal_mmio.h\"\n",
      "  +++ |+#include <stdio.h>\n",
      "    3 | \n",
      "/tools/C/tedkim7/sp24-Baremetal-IDE/platform/dsp24/src/hal_I2S.c:49:9: warning: incompatible implicit declaration of built-in function 'printf' [-Wbuiltin-declaration-mismatch]\n",
      "   49 |         printf(\"Writing to left queue\\n\");\n",
      "      |         ^~~~~~\n",
      "/tools/C/tedkim7/sp24-Baremetal-IDE/platform/dsp24/src/hal_I2S.c:49:9: note: include '<stdio.h>' or provide a declaration of 'printf'\n",
      "In file included from /tools/C/tedkim7/sp24-Baremetal-IDE/platform/dsp24/src/hal_I2S.c:1:\n",
      "/tools/C/tedkim7/sp24-Baremetal-IDE/platform/dsp24/inc/hal_I2S.h:13:37: warning: passing argument 3 of 'set_DMAP' makes pointer from integer without a cast [-Wint-conversion]\n",
      "   13 | #define I2S_BASE                    0x10042000U\n",
      "      |                                     ^\n",
      "      |                                     |\n",
      "      |                                     unsigned int\n",
      "/tools/C/tedkim7/sp24-Baremetal-IDE/platform/dsp24/inc/hal_I2S.h:26:37: note: in expansion of macro 'I2S_BASE'\n",
      "   26 | #define I2S_TX_L                    I2S_BASE + 0x20\n",
      "      |                                     ^~~~~~~~\n",
      "/tools/C/tedkim7/sp24-Baremetal-IDE/platform/dsp24/src/hal_I2S.c:50:38: note: in expansion of macro 'I2S_TX_L'\n",
      "   50 |         set_DMAP(dma_num, read_addr, I2S_TX_L, I2S_WATERMARK_TX_L, 8, 0, length, 3, poll);\n",
      "      |                                      ^~~~~~~~\n",
      "In file included from /tools/C/tedkim7/sp24-Baremetal-IDE/platform/dsp24/inc/hal_I2S.h:9:\n",
      "/tools/C/tedkim7/sp24-Baremetal-IDE/platform/dsp24/inc/hal_DMA.h:37:57: note: expected 'uint64_t *' {aka 'long unsigned int *'} but argument is of type 'unsigned int'\n",
      "   37 | void set_DMAP(uint32_t num, uint64_t* addr_r, uint64_t* addr_w, uint64_t* addr_c, uint16_t inc_r, uint16_t inc_w, uint16_t len, uint8_t logd, uint32_t count);\n",
      "      |                                               ~~~~~~~~~~^~~~~~\n",
      "/tools/C/tedkim7/sp24-Baremetal-IDE/platform/dsp24/inc/hal_I2S.h:13:37: warning: passing argument 4 of 'set_DMAP' makes pointer from integer without a cast [-Wint-conversion]\n",
      "   13 | #define I2S_BASE                    0x10042000U\n",
      "      |                                     ^\n",
      "      |                                     |\n",
      "      |                                     unsigned int\n",
      "/tools/C/tedkim7/sp24-Baremetal-IDE/platform/dsp24/inc/hal_I2S.h:18:37: note: in expansion of macro 'I2S_BASE'\n",
      "   18 | #define I2S_WATERMARK_TX_L          I2S_BASE + 0x100\n",
      "      |                                     ^~~~~~~~\n",
      "/tools/C/tedkim7/sp24-Baremetal-IDE/platform/dsp24/src/hal_I2S.c:50:48: note: in expansion of macro 'I2S_WATERMARK_TX_L'\n",
      "   50 |         set_DMAP(dma_num, read_addr, I2S_TX_L, I2S_WATERMARK_TX_L, 8, 0, length, 3, poll);\n",
      "      |                                                ^~~~~~~~~~~~~~~~~~\n",
      "/tools/C/tedkim7/sp24-Baremetal-IDE/platform/dsp24/inc/hal_DMA.h:37:75: note: expected 'uint64_t *' {aka 'long unsigned int *'} but argument is of type 'unsigned int'\n",
      "   37 | void set_DMAP(uint32_t num, uint64_t* addr_r, uint64_t* addr_w, uint64_t* addr_c, uint16_t inc_r, uint16_t inc_w, uint16_t len, uint8_t logd, uint32_t count);\n",
      "      |                                                                 ~~~~~~~~~~^~~~~~\n",
      "/tools/C/tedkim7/sp24-Baremetal-IDE/platform/dsp24/src/hal_I2S.c:52:9: warning: incompatible implicit declaration of built-in function 'printf' [-Wbuiltin-declaration-mismatch]\n",
      "   52 |         printf(\"Writing to right queue\\n\");\n",
      "      |         ^~~~~~\n",
      "/tools/C/tedkim7/sp24-Baremetal-IDE/platform/dsp24/src/hal_I2S.c:52:9: note: include '<stdio.h>' or provide a declaration of 'printf'\n",
      "/tools/C/tedkim7/sp24-Baremetal-IDE/platform/dsp24/inc/hal_I2S.h:13:37: warning: passing argument 3 of 'set_DMAP' makes pointer from integer without a cast [-Wint-conversion]\n",
      "   13 | #define I2S_BASE                    0x10042000U\n",
      "      |                                     ^\n",
      "      |                                     |\n",
      "      |                                     unsigned int\n",
      "/tools/C/tedkim7/sp24-Baremetal-IDE/platform/dsp24/inc/hal_I2S.h:27:37: note: in expansion of macro 'I2S_BASE'\n",
      "   27 | #define I2S_TX_R                    I2S_BASE + 0x28\n",
      "      |                                     ^~~~~~~~\n",
      "/tools/C/tedkim7/sp24-Baremetal-IDE/platform/dsp24/src/hal_I2S.c:53:38: note: in expansion of macro 'I2S_TX_R'\n",
      "   53 |         set_DMAP(dma_num, read_addr, I2S_TX_R, I2S_WATERMARK_TX_R, 8, 0, length, 3, poll);\n",
      "      |                                      ^~~~~~~~\n",
      "/tools/C/tedkim7/sp24-Baremetal-IDE/platform/dsp24/inc/hal_DMA.h:37:57: note: expected 'uint64_t *' {aka 'long unsigned int *'} but argument is of type 'unsigned int'\n",
      "   37 | void set_DMAP(uint32_t num, uint64_t* addr_r, uint64_t* addr_w, uint64_t* addr_c, uint16_t inc_r, uint16_t inc_w, uint16_t len, uint8_t logd, uint32_t count);\n",
      "      |                                               ~~~~~~~~~~^~~~~~\n",
      "/tools/C/tedkim7/sp24-Baremetal-IDE/platform/dsp24/inc/hal_I2S.h:13:37: warning: passing argument 4 of 'set_DMAP' makes pointer from integer without a cast [-Wint-conversion]\n",
      "   13 | #define I2S_BASE                    0x10042000U\n",
      "      |                                     ^\n",
      "      |                                     |\n",
      "      |                                     unsigned int\n",
      "/tools/C/tedkim7/sp24-Baremetal-IDE/platform/dsp24/inc/hal_I2S.h:19:37: note: in expansion of macro 'I2S_BASE'\n",
      "   19 | #define I2S_WATERMARK_TX_R          I2S_BASE + 0x101\n",
      "      |                                     ^~~~~~~~\n",
      "/tools/C/tedkim7/sp24-Baremetal-IDE/platform/dsp24/src/hal_I2S.c:53:48: note: in expansion of macro 'I2S_WATERMARK_TX_R'\n",
      "   53 |         set_DMAP(dma_num, read_addr, I2S_TX_R, I2S_WATERMARK_TX_R, 8, 0, length, 3, poll);\n",
      "      |                                                ^~~~~~~~~~~~~~~~~~\n",
      "/tools/C/tedkim7/sp24-Baremetal-IDE/platform/dsp24/inc/hal_DMA.h:37:75: note: expected 'uint64_t *' {aka 'long unsigned int *'} but argument is of type 'unsigned int'\n",
      "   37 | void set_DMAP(uint32_t num, uint64_t* addr_r, uint64_t* addr_w, uint64_t* addr_c, uint16_t inc_r, uint16_t inc_w, uint16_t len, uint8_t logd, uint32_t count);\n",
      "      |                                                                 ~~~~~~~~~~^~~~~~\n",
      "/tools/C/tedkim7/sp24-Baremetal-IDE/platform/dsp24/src/hal_I2S.c: In function 'read_I2S_rx_DMA':\n",
      "/tools/C/tedkim7/sp24-Baremetal-IDE/platform/dsp24/inc/hal_I2S.h:13:37: warning: passing argument 2 of 'set_DMAP' makes pointer from integer without a cast [-Wint-conversion]\n",
      "   13 | #define I2S_BASE                    0x10042000U\n",
      "      |                                     ^\n",
      "      |                                     |\n",
      "      |                                     unsigned int\n",
      "/tools/C/tedkim7/sp24-Baremetal-IDE/platform/dsp24/inc/hal_I2S.h:28:37: note: in expansion of macro 'I2S_BASE'\n",
      "   28 | #define I2S_RX_L                    I2S_BASE + 0x60\n",
      "      |                                     ^~~~~~~~\n",
      "/tools/C/tedkim7/sp24-Baremetal-IDE/platform/dsp24/src/hal_I2S.c:60:27: note: in expansion of macro 'I2S_RX_L'\n",
      "   60 |         set_DMAP(dma_num, I2S_RX_L, write_addr, I2S_WATERMARK_RX_L, 0, 8, length, 3, poll);\n",
      "      |                           ^~~~~~~~\n",
      "/tools/C/tedkim7/sp24-Baremetal-IDE/platform/dsp24/inc/hal_DMA.h:37:39: note: expected 'uint64_t *' {aka 'long unsigned int *'} but argument is of type 'unsigned int'\n",
      "   37 | void set_DMAP(uint32_t num, uint64_t* addr_r, uint64_t* addr_w, uint64_t* addr_c, uint16_t inc_r, uint16_t inc_w, uint16_t len, uint8_t logd, uint32_t count);\n",
      "      |                             ~~~~~~~~~~^~~~~~\n",
      "/tools/C/tedkim7/sp24-Baremetal-IDE/platform/dsp24/inc/hal_I2S.h:13:37: warning: passing argument 4 of 'set_DMAP' makes pointer from integer without a cast [-Wint-conversion]\n",
      "   13 | #define I2S_BASE                    0x10042000U\n",
      "      |                                     ^\n",
      "      |                                     |\n",
      "      |                                     unsigned int\n",
      "/tools/C/tedkim7/sp24-Baremetal-IDE/platform/dsp24/inc/hal_I2S.h:16:37: note: in expansion of macro 'I2S_BASE'\n",
      "   16 | #define I2S_WATERMARK_RX_L          I2S_BASE + 0x102\n",
      "      |                                     ^~~~~~~~\n",
      "/tools/C/tedkim7/sp24-Baremetal-IDE/platform/dsp24/src/hal_I2S.c:60:49: note: in expansion of macro 'I2S_WATERMARK_RX_L'\n",
      "   60 |         set_DMAP(dma_num, I2S_RX_L, write_addr, I2S_WATERMARK_RX_L, 0, 8, length, 3, poll);\n",
      "      |                                                 ^~~~~~~~~~~~~~~~~~\n",
      "/tools/C/tedkim7/sp24-Baremetal-IDE/platform/dsp24/inc/hal_DMA.h:37:75: note: expected 'uint64_t *' {aka 'long unsigned int *'} but argument is of type 'unsigned int'\n",
      "   37 | void set_DMAP(uint32_t num, uint64_t* addr_r, uint64_t* addr_w, uint64_t* addr_c, uint16_t inc_r, uint16_t inc_w, uint16_t len, uint8_t logd, uint32_t count);\n",
      "      |                                                                 ~~~~~~~~~~^~~~~~\n",
      "/tools/C/tedkim7/sp24-Baremetal-IDE/platform/dsp24/inc/hal_I2S.h:13:37: warning: passing argument 2 of 'set_DMAP' makes pointer from integer without a cast [-Wint-conversion]\n",
      "   13 | #define I2S_BASE                    0x10042000U\n",
      "      |                                     ^\n",
      "      |                                     |\n",
      "      |                                     unsigned int\n",
      "/tools/C/tedkim7/sp24-Baremetal-IDE/platform/dsp24/inc/hal_I2S.h:29:37: note: in expansion of macro 'I2S_BASE'\n",
      "   29 | #define I2S_RX_R                    I2S_BASE + 0x68\n",
      "      |                                     ^~~~~~~~\n",
      "/tools/C/tedkim7/sp24-Baremetal-IDE/platform/dsp24/src/hal_I2S.c:62:27: note: in expansion of macro 'I2S_RX_R'\n",
      "   62 |         set_DMAP(dma_num, I2S_RX_R, write_addr, I2S_WATERMARK_RX_R, 0, 8, length, 3, poll);\n",
      "      |                           ^~~~~~~~\n",
      "/tools/C/tedkim7/sp24-Baremetal-IDE/platform/dsp24/inc/hal_DMA.h:37:39: note: expected 'uint64_t *' {aka 'long unsigned int *'} but argument is of type 'unsigned int'\n",
      "   37 | void set_DMAP(uint32_t num, uint64_t* addr_r, uint64_t* addr_w, uint64_t* addr_c, uint16_t inc_r, uint16_t inc_w, uint16_t len, uint8_t logd, uint32_t count);\n",
      "      |                             ~~~~~~~~~~^~~~~~\n",
      "/tools/C/tedkim7/sp24-Baremetal-IDE/platform/dsp24/inc/hal_I2S.h:13:37: warning: passing argument 4 of 'set_DMAP' makes pointer from integer without a cast [-Wint-conversion]\n",
      "   13 | #define I2S_BASE                    0x10042000U\n",
      "      |                                     ^\n",
      "      |                                     |\n",
      "      |                                     unsigned int\n",
      "/tools/C/tedkim7/sp24-Baremetal-IDE/platform/dsp24/inc/hal_I2S.h:17:37: note: in expansion of macro 'I2S_BASE'\n",
      "   17 | #define I2S_WATERMARK_RX_R          I2S_BASE + 0x103\n",
      "      |                                     ^~~~~~~~\n",
      "/tools/C/tedkim7/sp24-Baremetal-IDE/platform/dsp24/src/hal_I2S.c:62:49: note: in expansion of macro 'I2S_WATERMARK_RX_R'\n",
      "   62 |         set_DMAP(dma_num, I2S_RX_R, write_addr, I2S_WATERMARK_RX_R, 0, 8, length, 3, poll);\n",
      "      |                                                 ^~~~~~~~~~~~~~~~~~\n",
      "/tools/C/tedkim7/sp24-Baremetal-IDE/platform/dsp24/inc/hal_DMA.h:37:75: note: expected 'uint64_t *' {aka 'long unsigned int *'} but argument is of type 'unsigned int'\n",
      "   37 | void set_DMAP(uint32_t num, uint64_t* addr_r, uint64_t* addr_w, uint64_t* addr_c, uint16_t inc_r, uint16_t inc_w, uint16_t len, uint8_t logd, uint32_t count);\n",
      "      |                                                                 ~~~~~~~~~~^~~~~~\n"
     ]
    },
    {
     "name": "stdout",
     "output_type": "stream",
     "text": [
      "[ 41%] \u001b[32mBuilding C object platform/dsp24/CMakeFiles/chip-config.dir/src/hal_conv.c.obj\u001b[0m\n"
     ]
    },
    {
     "name": "stderr",
     "output_type": "stream",
     "text": [
      "/tools/C/tedkim7/sp24-Baremetal-IDE/platform/dsp24/src/hal_conv.c: In function 'write_conv_dma':\n",
      "/tools/C/tedkim7/sp24-Baremetal-IDE/platform/dsp24/src/hal_conv.c:13:5: warning: implicit declaration of function 'set_DMAC' [-Wimplicit-function-declaration]\n",
      "   13 |     set_DMAC(dma_num, (uint64_t*) data, CONV_BASE, 8, 0, length/8, 3);\n",
      "      |     ^~~~~~~~\n",
      "/tools/C/tedkim7/sp24-Baremetal-IDE/platform/dsp24/src/hal_conv.c:14:5: warning: implicit declaration of function 'start_DMA' [-Wimplicit-function-declaration]\n",
      "   14 |     start_DMA(dma_num);\n",
      "      |     ^~~~~~~~~\n",
      "/tools/C/tedkim7/sp24-Baremetal-IDE/platform/dsp24/src/hal_conv.c: In function 'read_conv_dma_p':\n",
      "/tools/C/tedkim7/sp24-Baremetal-IDE/platform/dsp24/src/hal_conv.c:23:5: warning: implicit declaration of function 'set_DMAP' [-Wimplicit-function-declaration]\n",
      "   23 |     set_DMAP(dma_num, CONV_OUTPUT_ADDR, write_addr, READ_CHECK_ADDR, 0, 8, length/4, 3, 0);\n",
      "      |     ^~~~~~~~\n"
     ]
    },
    {
     "name": "stdout",
     "output_type": "stream",
     "text": [
      "[ 43%] \u001b[32mBuilding C object platform/dsp24/CMakeFiles/chip-config.dir/src/hal_fft.c.obj\u001b[0m\n"
     ]
    },
    {
     "name": "stderr",
     "output_type": "stream",
     "text": [
      "/tools/C/tedkim7/sp24-Baremetal-IDE/platform/dsp24/src/hal_fft.c: In function 'write_fft_dma':\n",
      "/tools/C/tedkim7/sp24-Baremetal-IDE/platform/dsp24/src/hal_fft.c:28:23: warning: passing argument 2 of 'set_DMAC' makes integer from pointer without a cast [-Wint-conversion]\n",
      "   28 |     set_DMAC(dma_num, data, FFT_INPUT, 8, 0, length/2, 3);\n",
      "      |                       ^~~~\n",
      "      |                       |\n",
      "      |                       uint64_t * {aka long unsigned int *}\n",
      "In file included from /tools/C/tedkim7/sp24-Baremetal-IDE/platform/dsp24/inc/hal_fft.h:9,\n",
      "                 from /tools/C/tedkim7/sp24-Baremetal-IDE/platform/dsp24/src/hal_fft.c:1:\n",
      "/tools/C/tedkim7/sp24-Baremetal-IDE/platform/dsp24/inc/hal_DMA.h:34:38: note: expected 'uint64_t' {aka 'long unsigned int'} but argument is of type 'uint64_t *' {aka 'long unsigned int *'}\n",
      "   34 | void set_DMAC(uint32_t num, uint64_t addr_r, uint64_t addr_w, uint16_t inc_r, uint16_t inc_w, uint16_t len, uint16_t logd);\n",
      "      |                             ~~~~~~~~~^~~~~~\n",
      "/tools/C/tedkim7/sp24-Baremetal-IDE/platform/dsp24/src/hal_fft.c: In function 'read_fft_dma':\n",
      "/tools/C/tedkim7/sp24-Baremetal-IDE/platform/dsp24/src/hal_fft.c:33:35: warning: passing argument 3 of 'set_DMAC' makes integer from pointer without a cast [-Wint-conversion]\n",
      "   33 |     set_DMAC(dma_num, FFT_OUTPUT, write_addr, 0, 8, length, 2);\n",
      "      |                                   ^~~~~~~~~~\n",
      "      |                                   |\n",
      "      |                                   uint64_t * {aka long unsigned int *}\n",
      "/tools/C/tedkim7/sp24-Baremetal-IDE/platform/dsp24/inc/hal_DMA.h:34:55: note: expected 'uint64_t' {aka 'long unsigned int'} but argument is of type 'uint64_t *' {aka 'long unsigned int *'}\n",
      "   34 | void set_DMAC(uint32_t num, uint64_t addr_r, uint64_t addr_w, uint16_t inc_r, uint16_t inc_w, uint16_t len, uint16_t logd);\n",
      "      |                                              ~~~~~~~~~^~~~~~\n",
      "/tools/C/tedkim7/sp24-Baremetal-IDE/platform/dsp24/src/hal_fft.c: In function 'read_fft_real_dma':\n",
      "/tools/C/tedkim7/sp24-Baremetal-IDE/platform/dsp24/src/hal_fft.c:38:35: warning: passing argument 3 of 'set_DMAC' makes integer from pointer without a cast [-Wint-conversion]\n",
      "   38 |     set_DMAC(dma_num, FFT_OUTPUT, write_addr, 0, 4, length, 1);\n",
      "      |                                   ^~~~~~~~~~\n",
      "      |                                   |\n",
      "      |                                   uint64_t * {aka long unsigned int *}\n",
      "/tools/C/tedkim7/sp24-Baremetal-IDE/platform/dsp24/inc/hal_DMA.h:34:55: note: expected 'uint64_t' {aka 'long unsigned int'} but argument is of type 'uint64_t *' {aka 'long unsigned int *'}\n",
      "   34 | void set_DMAC(uint32_t num, uint64_t addr_r, uint64_t addr_w, uint16_t inc_r, uint16_t inc_w, uint16_t len, uint16_t logd);\n",
      "      |                                              ~~~~~~~~~^~~~~~\n"
     ]
    },
    {
     "name": "stdout",
     "output_type": "stream",
     "text": [
      "[ 46%] \u001b[32mBuilding C object platform/dsp24/CMakeFiles/chip-config.dir/src/hal_mmio.c.obj\u001b[0m\n",
      "[ 48%] \u001b[32m\u001b[1mLinking C static library libchip-config.a\u001b[0m\n",
      "gmake[4]: Leaving directory '/bwrcq/C/tedkim7/sp24-Baremetal-IDE/build'\n",
      "[ 48%] Built target chip-config\n",
      "gmake[4]: Entering directory '/bwrcq/C/tedkim7/sp24-Baremetal-IDE/build'\n",
      "gmake[4]: Leaving directory '/bwrcq/C/tedkim7/sp24-Baremetal-IDE/build'\n",
      "gmake[4]: Entering directory '/bwrcq/C/tedkim7/sp24-Baremetal-IDE/build'\n",
      "[ 51%] \u001b[32mBuilding ASM object glossy/CMakeFiles/glossy.dir/src/startup/crt0.S.obj\u001b[0m\n",
      "[ 53%] \u001b[32mBuilding ASM object glossy/CMakeFiles/glossy.dir/src/startup/init.S.obj\u001b[0m\n",
      "[ 56%] \u001b[32mBuilding C object glossy/CMakeFiles/glossy.dir/src/startup/secondary.c.obj\u001b[0m\n",
      "[ 58%] \u001b[32mBuilding ASM object glossy/CMakeFiles/glossy.dir/src/trap/trap.S.obj\u001b[0m\n",
      "[ 61%] \u001b[32mBuilding C object glossy/CMakeFiles/glossy.dir/src/trap/trap.c.obj\u001b[0m\n"
     ]
    },
    {
     "name": "stderr",
     "output_type": "stream",
     "text": [
      "/tools/C/tedkim7/sp24-Baremetal-IDE/glossy/src/trap/trap.c: In function 'trap_handler':\n",
      "/tools/C/tedkim7/sp24-Baremetal-IDE/glossy/src/trap/trap.c:73:92: warning: unused parameter 'm_tval' [-Wunused-parameter]\n",
      "   73 | __attribute__((weak)) uintptr_t trap_handler(uintptr_t m_epc, uintptr_t m_cause, uintptr_t m_tval, uintptr_t regs[32]) {\n",
      "      |                                                                                  ~~~~~~~~~~^~~~~~\n",
      "/tools/C/tedkim7/sp24-Baremetal-IDE/glossy/src/trap/trap.c:73:110: warning: unused parameter 'regs' [-Wunused-parameter]\n",
      "   73 | __attribute__((weak)) uintptr_t trap_handler(uintptr_t m_epc, uintptr_t m_cause, uintptr_t m_tval, uintptr_t regs[32]) {\n",
      "      |                                                                                                    ~~~~~~~~~~^~~~~~~~\n"
     ]
    },
    {
     "name": "stdout",
     "output_type": "stream",
     "text": [
      "[ 64%] \u001b[32mBuilding C object glossy/CMakeFiles/glossy.dir/src/sys/close.c.obj\u001b[0m\n"
     ]
    },
    {
     "name": "stderr",
     "output_type": "stream",
     "text": [
      "/tools/C/tedkim7/sp24-Baremetal-IDE/glossy/src/sys/close.c: In function '_close':\n",
      "/tools/C/tedkim7/sp24-Baremetal-IDE/glossy/src/sys/close.c:2:38: warning: unused parameter 'file' [-Wunused-parameter]\n",
      "    2 | __attribute__((weak)) int _close(int file) {\n",
      "      |                                  ~~~~^~~~\n"
     ]
    },
    {
     "name": "stdout",
     "output_type": "stream",
     "text": [
      "[ 66%] \u001b[32mBuilding C object glossy/CMakeFiles/glossy.dir/src/sys/exit.c.obj\u001b[0m\n"
     ]
    },
    {
     "name": "stderr",
     "output_type": "stream",
     "text": [
      "/tools/C/tedkim7/sp24-Baremetal-IDE/glossy/src/sys/exit.c: In function '_exit':\n",
      "/tools/C/tedkim7/sp24-Baremetal-IDE/glossy/src/sys/exit.c:4:48: warning: unused parameter 'code' [-Wunused-parameter]\n",
      "    4 | __attribute__((weak, noreturn)) void _exit(int code) {\n",
      "      |                                            ~~~~^~~~\n"
     ]
    },
    {
     "name": "stdout",
     "output_type": "stream",
     "text": [
      "[ 69%] \u001b[32mBuilding C object glossy/CMakeFiles/glossy.dir/src/sys/fstat.c.obj\u001b[0m\n"
     ]
    },
    {
     "name": "stderr",
     "output_type": "stream",
     "text": [
      "/tools/C/tedkim7/sp24-Baremetal-IDE/glossy/src/sys/fstat.c: In function '_fstat':\n",
      "/tools/C/tedkim7/sp24-Baremetal-IDE/glossy/src/sys/fstat.c:4:38: warning: unused parameter 'file' [-Wunused-parameter]\n",
      "    4 | __attribute__((weak)) int _fstat(int file, struct stat *st) {\n",
      "      |                                  ~~~~^~~~\n",
      "/tools/C/tedkim7/sp24-Baremetal-IDE/glossy/src/sys/fstat.c:4:57: warning: unused parameter 'st' [-Wunused-parameter]\n",
      "    4 | __attribute__((weak)) int _fstat(int file, struct stat *st) {\n",
      "      |                                            ~~~~~~~~~~~~~^~\n"
     ]
    },
    {
     "name": "stdout",
     "output_type": "stream",
     "text": [
      "[ 71%] \u001b[32mBuilding C object glossy/CMakeFiles/glossy.dir/src/sys/getpid.c.obj\u001b[0m\n",
      "[ 74%] \u001b[32mBuilding C object glossy/CMakeFiles/glossy.dir/src/sys/isatty.c.obj\u001b[0m\n",
      "[ 76%] \u001b[32mBuilding C object glossy/CMakeFiles/glossy.dir/src/sys/kill.c.obj\u001b[0m\n"
     ]
    },
    {
     "name": "stderr",
     "output_type": "stream",
     "text": [
      "/tools/C/tedkim7/sp24-Baremetal-IDE/glossy/src/sys/kill.c: In function '_kill':\n",
      "/tools/C/tedkim7/sp24-Baremetal-IDE/glossy/src/sys/kill.c:2:37: warning: unused parameter 'pid' [-Wunused-parameter]\n",
      "    2 | __attribute__((weak)) int _kill(int pid, int sig) {\n",
      "      |                                 ~~~~^~~\n",
      "/tools/C/tedkim7/sp24-Baremetal-IDE/glossy/src/sys/kill.c:2:46: warning: unused parameter 'sig' [-Wunused-parameter]\n",
      "    2 | __attribute__((weak)) int _kill(int pid, int sig) {\n",
      "      |                                          ~~~~^~~\n"
     ]
    },
    {
     "name": "stdout",
     "output_type": "stream",
     "text": [
      "[ 79%] \u001b[32mBuilding C object glossy/CMakeFiles/glossy.dir/src/sys/lseek.c.obj\u001b[0m\n"
     ]
    },
    {
     "name": "stderr",
     "output_type": "stream",
     "text": [
      "/tools/C/tedkim7/sp24-Baremetal-IDE/glossy/src/sys/lseek.c: In function '_lseek':\n",
      "/tools/C/tedkim7/sp24-Baremetal-IDE/glossy/src/sys/lseek.c:5:40: warning: unused parameter 'file' [-Wunused-parameter]\n",
      "    5 | __attribute__((weak)) off_t _lseek(int file, off_t ptr, int dir) {\n",
      "      |                                    ~~~~^~~~\n",
      "/tools/C/tedkim7/sp24-Baremetal-IDE/glossy/src/sys/lseek.c:5:52: warning: unused parameter 'ptr' [-Wunused-parameter]\n",
      "    5 | __attribute__((weak)) off_t _lseek(int file, off_t ptr, int dir) {\n",
      "      |                                              ~~~~~~^~~\n",
      "/tools/C/tedkim7/sp24-Baremetal-IDE/glossy/src/sys/lseek.c:5:61: warning: unused parameter 'dir' [-Wunused-parameter]\n",
      "    5 | __attribute__((weak)) off_t _lseek(int file, off_t ptr, int dir) {\n",
      "      |                                                         ~~~~^~~\n"
     ]
    },
    {
     "name": "stdout",
     "output_type": "stream",
     "text": [
      "[ 82%] \u001b[32mBuilding C object glossy/CMakeFiles/glossy.dir/src/sys/open.c.obj\u001b[0m\n"
     ]
    },
    {
     "name": "stderr",
     "output_type": "stream",
     "text": [
      "/tools/C/tedkim7/sp24-Baremetal-IDE/glossy/src/sys/open.c: In function '_open':\n",
      "/tools/C/tedkim7/sp24-Baremetal-IDE/glossy/src/sys/open.c:3:45: warning: unused parameter 'path' [-Wunused-parameter]\n",
      "    3 | __attribute__((weak)) int _open(const char *path, int flags, int mode) {\n",
      "      |                                 ~~~~~~~~~~~~^~~~\n",
      "/tools/C/tedkim7/sp24-Baremetal-IDE/glossy/src/sys/open.c:3:55: warning: unused parameter 'flags' [-Wunused-parameter]\n",
      "    3 | __attribute__((weak)) int _open(const char *path, int flags, int mode) {\n",
      "      |                                                   ~~~~^~~~~\n",
      "/tools/C/tedkim7/sp24-Baremetal-IDE/glossy/src/sys/open.c:3:66: warning: unused parameter 'mode' [-Wunused-parameter]\n",
      "    3 | __attribute__((weak)) int _open(const char *path, int flags, int mode) {\n",
      "      |                                                              ~~~~^~~~\n"
     ]
    },
    {
     "name": "stdout",
     "output_type": "stream",
     "text": [
      "[ 84%] \u001b[32mBuilding C object glossy/CMakeFiles/glossy.dir/src/sys/read.c.obj\u001b[0m\n"
     ]
    },
    {
     "name": "stderr",
     "output_type": "stream",
     "text": [
      "/tools/C/tedkim7/sp24-Baremetal-IDE/glossy/src/sys/read.c: In function '_read':\n",
      "/tools/C/tedkim7/sp24-Baremetal-IDE/glossy/src/sys/read.c:5:41: warning: unused parameter 'file' [-Wunused-parameter]\n",
      "    5 | __attribute__((weak)) ssize_t _read(int file, void *ptr, size_t len) {\n",
      "      |                                     ~~~~^~~~\n",
      "/tools/C/tedkim7/sp24-Baremetal-IDE/glossy/src/sys/read.c:5:53: warning: unused parameter 'ptr' [-Wunused-parameter]\n",
      "    5 | __attribute__((weak)) ssize_t _read(int file, void *ptr, size_t len) {\n",
      "      |                                               ~~~~~~^~~\n",
      "/tools/C/tedkim7/sp24-Baremetal-IDE/glossy/src/sys/read.c:5:65: warning: unused parameter 'len' [-Wunused-parameter]\n",
      "    5 | __attribute__((weak)) ssize_t _read(int file, void *ptr, size_t len) {\n",
      "      |                                                          ~~~~~~~^~~\n"
     ]
    },
    {
     "name": "stdout",
     "output_type": "stream",
     "text": [
      "[ 87%] \u001b[32mBuilding C object glossy/CMakeFiles/glossy.dir/src/sys/sbrk.c.obj\u001b[0m\n",
      "[ 89%] \u001b[32mBuilding C object glossy/CMakeFiles/glossy.dir/src/sys/time.c.obj\u001b[0m\n",
      "[ 92%] \u001b[32mBuilding C object glossy/CMakeFiles/glossy.dir/src/sys/write.c.obj\u001b[0m\n"
     ]
    },
    {
     "name": "stderr",
     "output_type": "stream",
     "text": [
      "/tools/C/tedkim7/sp24-Baremetal-IDE/glossy/src/sys/write.c: In function '_write':\n",
      "/tools/C/tedkim7/sp24-Baremetal-IDE/glossy/src/sys/write.c:8:42: warning: unused parameter 'fd' [-Wunused-parameter]\n",
      "    8 | __attribute__((weak)) ssize_t _write(int fd, const void *ptr, size_t len) {\n",
      "      |                                      ~~~~^~\n"
     ]
    },
    {
     "name": "stdout",
     "output_type": "stream",
     "text": [
      "[ 94%] \u001b[32m\u001b[1mLinking C static library libglossy.a\u001b[0m\n",
      "gmake[4]: Leaving directory '/bwrcq/C/tedkim7/sp24-Baremetal-IDE/build'\n",
      "[ 94%] Built target glossy\n",
      "gmake[4]: Entering directory '/bwrcq/C/tedkim7/sp24-Baremetal-IDE/build'\n",
      "gmake[4]: Leaving directory '/bwrcq/C/tedkim7/sp24-Baremetal-IDE/build'\n",
      "gmake[4]: Entering directory '/bwrcq/C/tedkim7/sp24-Baremetal-IDE/build'\n",
      "[ 97%] \u001b[32mBuilding C object CMakeFiles/shmoo_bench.dir/shmoo_bench/dsp_conv_bench/src/main.c.obj\u001b[0m\n"
     ]
    },
    {
     "name": "stderr",
     "output_type": "stream",
     "text": [
      "/tools/C/tedkim7/sp24-Baremetal-IDE/shmoo_bench/dsp_conv_bench/src/main.c: In function 'app_main':\n",
      "/tools/C/tedkim7/sp24-Baremetal-IDE/shmoo_bench/dsp_conv_bench/src/main.c:61:5: warning: implicit declaration of function 'reg_write8' [-Wimplicit-function-declaration]\n",
      "   61 |     reg_write8(RESET_ADDR, 1);\n",
      "      |     ^~~~~~~~~~\n",
      "/tools/C/tedkim7/sp24-Baremetal-IDE/shmoo_bench/dsp_conv_bench/src/main.c:71:5: warning: implicit declaration of function 'set_conv_params' [-Wimplicit-function-declaration]\n",
      "   71 |     set_conv_params(16, 1, ((uint64_t*) in_kernel));\n",
      "      |     ^~~~~~~~~~~~~~~\n",
      "/tools/C/tedkim7/sp24-Baremetal-IDE/shmoo_bench/dsp_conv_bench/src/main.c:72:5: warning: implicit declaration of function 'write_conv_dma' [-Wimplicit-function-declaration]\n",
      "   72 |     write_conv_dma(0, 16, in_arr);\n",
      "      |     ^~~~~~~~~~~~~~\n",
      "/tools/C/tedkim7/sp24-Baremetal-IDE/shmoo_bench/dsp_conv_bench/src/main.c:77:5: warning: implicit declaration of function 'start_conv' [-Wimplicit-function-declaration]\n",
      "   77 |     start_conv();\n",
      "      |     ^~~~~~~~~~\n",
      "/tools/C/tedkim7/sp24-Baremetal-IDE/shmoo_bench/dsp_conv_bench/src/main.c:91:5: warning: implicit declaration of function 'read_conv_dma' [-Wimplicit-function-declaration]\n",
      "   91 |     read_conv_dma(0, 16, ((uint64_t*) test_out));\n",
      "      |     ^~~~~~~~~~~~~\n",
      "/tools/C/tedkim7/sp24-Baremetal-IDE/shmoo_bench/dsp_conv_bench/src/main.c:95:20: warning: format '%lx' expects argument of type 'long unsigned int', but argument 2 has type 'int' [-Wformat=]\n",
      "   95 |             printf(\"%\"PRIx64\" \", test_out[i*4 + j]);\n",
      "      |                    ^~~           ~~~~~~~~~~~~~~~~~\n",
      "      |                                          |\n",
      "      |                                          int\n",
      "/tools/C/tedkim7/sp24-Baremetal-IDE/shmoo_bench/dsp_conv_bench/src/main.c:100:14: warning: variable 'ref_out' set but not used [-Wunused-but-set-variable]\n",
      "  100 |     uint16_t ref_out[32];\n",
      "      |              ^~~~~~~\n",
      "/tools/C/tedkim7/sp24-Baremetal-IDE/shmoo_bench/dsp_conv_bench/src/main.c:79:14: warning: unused variable 'cpu_end_cycles' [-Wunused-variable]\n",
      "   79 |     uint64_t cpu_end_cycles = READ_CSR(\"mcycle\");\n",
      "      |              ^~~~~~~~~~~~~~\n",
      "/tools/C/tedkim7/sp24-Baremetal-IDE/shmoo_bench/dsp_conv_bench/src/main.c:74:14: warning: unused variable 'cpu_start_cycles' [-Wunused-variable]\n",
      "   74 |     uint64_t cpu_start_cycles = READ_CSR(\"mcycle\");\n",
      "      |              ^~~~~~~~~~~~~~~~\n",
      "/tools/C/tedkim7/sp24-Baremetal-IDE/shmoo_bench/dsp_conv_bench/src/main.c:67:14: warning: unused variable 'in_dilation' [-Wunused-variable]\n",
      "   67 |     uint16_t in_dilation[1] = {1};\n",
      "      |              ^~~~~~~~~~~\n",
      "/tools/C/tedkim7/sp24-Baremetal-IDE/shmoo_bench/dsp_conv_bench/src/main.c:66:14: warning: unused variable 'in_len' [-Wunused-variable]\n",
      "   66 |     uint32_t in_len[1] = {16};\n",
      "      |              ^~~~~~\n",
      "/tools/C/tedkim7/sp24-Baremetal-IDE/shmoo_bench/dsp_conv_bench/src/main.c: In function 'main':\n",
      "/tools/C/tedkim7/sp24-Baremetal-IDE/shmoo_bench/dsp_conv_bench/src/main.c:127:14: warning: unused parameter 'argc' [-Wunused-parameter]\n",
      "  127 | int main(int argc, char **argv) {\n",
      "      |          ~~~~^~~~\n",
      "/tools/C/tedkim7/sp24-Baremetal-IDE/shmoo_bench/dsp_conv_bench/src/main.c:127:27: warning: unused parameter 'argv' [-Wunused-parameter]\n",
      "  127 | int main(int argc, char **argv) {\n",
      "      |                    ~~~~~~~^~~~\n"
     ]
    },
    {
     "name": "stdout",
     "output_type": "stream",
     "text": [
      "[100%] \u001b[32m\u001b[1mLinking C executable shmoo_bench.elf\u001b[0m\n"
     ]
    },
    {
     "name": "stderr",
     "output_type": "stream",
     "text": [
      "/bwrcq/C/ee290-fa24-2/.conda-env/riscv-tools/bin/../lib/gcc/riscv64-unknown-elf/13.2.0/../../../../riscv64-unknown-elf/bin/ld: warning: shmoo_bench.elf has a LOAD segment with RWX permissions\n"
     ]
    },
    {
     "name": "stdout",
     "output_type": "stream",
     "text": [
      "gmake[4]: Leaving directory '/bwrcq/C/tedkim7/sp24-Baremetal-IDE/build'\n",
      "[100%] Built target shmoo_bench\n",
      "gmake[3]: Leaving directory '/bwrcq/C/tedkim7/sp24-Baremetal-IDE/build'\n",
      "gmake[2]: Leaving directory '/bwrcq/C/tedkim7/sp24-Baremetal-IDE/build'\n",
      "gmake[1]: Leaving directory '/bwrcq/C/tedkim7/sp24-Baremetal-IDE/build'\n",
      "**Clock set to: 300MHz**\n",
      "**Voltage set to: +5.00000000E-01\n",
      "V**\n"
     ]
    },
    {
     "name": "stderr",
     "output_type": "stream",
     "text": [
      "warning: tohost and fromhost symbols not in ELF; can't communicate with target\n",
      "Writing 14006c with 6\n",
      "Done writing 14006c with 6\n"
     ]
    },
    {
     "name": "stdout",
     "output_type": "stream",
     "text": [
      "Starting UART-based TSI\n",
      "Usage: ./uart_tsi +tty=/dev/pts/xx <PLUSARGS> <bin>\n",
      "       ./uart_tsi +tty=/dev/ttyxx  <PLUSARGS> <bin>\n",
      "       ./uart_tsi +tty=/dev/ttyxx  +no_hart0_msip +init_write=0x80000000:0xdeadbeef none\n",
      "       ./uart_tsi +tty=/dev/ttyxx  +no_hart0_msip +init_read=0x80000000 none\n",
      "       ./uart_tsi +tty=/dev/ttyxx  +selfcheck <bin>\n",
      "       ./uart_tsi +tty=/dev/ttyxx  +baudrate=921600 <bin>\n",
      "Attempting to open TTY at /dev/ttyUSB1\n",
      "Warning: You selected a non-standard baudrate. This will only work if the HW was configured with this baud-rate\n",
      "Checking connection status with /dev/ttyUSB1\n",
      "Connection succeeded\n",
      "Done, shutting down, flushing UART\n",
      "WARNING: You should probably reset the target before running this program again\n",
      "Done: now reset during the sleep before next iteration\n",
      "**Voltage set to: +5.50000000E-01\n",
      "V**\n"
     ]
    },
    {
     "name": "stderr",
     "output_type": "stream",
     "text": [
      "warning: tohost and fromhost symbols not in ELF; can't communicate with target\n",
      "Writing 14006c with 6\n",
      "Done writing 14006c with 6\n"
     ]
    },
    {
     "name": "stdout",
     "output_type": "stream",
     "text": [
      "Starting UART-based TSI\n",
      "Usage: ./uart_tsi +tty=/dev/pts/xx <PLUSARGS> <bin>\n",
      "       ./uart_tsi +tty=/dev/ttyxx  <PLUSARGS> <bin>\n",
      "       ./uart_tsi +tty=/dev/ttyxx  +no_hart0_msip +init_write=0x80000000:0xdeadbeef none\n",
      "       ./uart_tsi +tty=/dev/ttyxx  +no_hart0_msip +init_read=0x80000000 none\n",
      "       ./uart_tsi +tty=/dev/ttyxx  +selfcheck <bin>\n",
      "       ./uart_tsi +tty=/dev/ttyxx  +baudrate=921600 <bin>\n",
      "Attempting to open TTY at /dev/ttyUSB1\n",
      "Warning: You selected a non-standard baudrate. This will only work if the HW was configured with this baud-rate\n",
      "Checking connection status with /dev/ttyUSB1\n",
      "Connection succeeded\n",
      "Done, shutting down, flushing UART\n",
      "WARNING: You should probably reset the target before running this program again\n",
      "Done: now reset during the sleep before next iteration\n",
      "**Voltage set to: +6.00000000E-01\n",
      "V**\n"
     ]
    },
    {
     "name": "stderr",
     "output_type": "stream",
     "text": [
      "warning: tohost and fromhost symbols not in ELF; can't communicate with target\n",
      "Writing 14006c with 6\n",
      "Done writing 14006c with 6\n"
     ]
    },
    {
     "name": "stdout",
     "output_type": "stream",
     "text": [
      "Starting UART-based TSI\n",
      "Usage: ./uart_tsi +tty=/dev/pts/xx <PLUSARGS> <bin>\n",
      "       ./uart_tsi +tty=/dev/ttyxx  <PLUSARGS> <bin>\n",
      "       ./uart_tsi +tty=/dev/ttyxx  +no_hart0_msip +init_write=0x80000000:0xdeadbeef none\n",
      "       ./uart_tsi +tty=/dev/ttyxx  +no_hart0_msip +init_read=0x80000000 none\n",
      "       ./uart_tsi +tty=/dev/ttyxx  +selfcheck <bin>\n",
      "       ./uart_tsi +tty=/dev/ttyxx  +baudrate=921600 <bin>\n",
      "Attempting to open TTY at /dev/ttyUSB1\n",
      "Warning: You selected a non-standard baudrate. This will only work if the HW was configured with this baud-rate\n",
      "Checking connection status with /dev/ttyUSB1\n",
      "Connection succeeded\n",
      "Done, shutting down, flushing UART\n",
      "WARNING: You should probably reset the target before running this program again\n",
      "Done: now reset during the sleep before next iteration\n",
      "**Voltage set to: +6.50000000E-01\n",
      "V**\n"
     ]
    },
    {
     "name": "stderr",
     "output_type": "stream",
     "text": [
      "warning: tohost and fromhost symbols not in ELF; can't communicate with target\n",
      "Writing 14006c with 6\n",
      "Done writing 14006c with 6\n"
     ]
    },
    {
     "name": "stdout",
     "output_type": "stream",
     "text": [
      "b'0 4400 4600 4800 4900 4a00 4b00 4c00 4c80 4d00 4d80 4e00 4e80 4f00 4f80 5000 \\r\\n'\n",
      "Starting UART-based TSI\n",
      "Usage: ./uart_tsi +tty=/dev/pts/xx <PLUSARGS> <bin>\n",
      "       ./uart_tsi +tty=/dev/ttyxx  <PLUSARGS> <bin>\n",
      "       ./uart_tsi +tty=/dev/ttyxx  +no_hart0_msip +init_write=0x80000000:0xdeadbeef none\n",
      "       ./uart_tsi +tty=/dev/ttyxx  +no_hart0_msip +init_read=0x80000000 none\n",
      "       ./uart_tsi +tty=/dev/ttyxx  +selfcheck <bin>\n",
      "       ./uart_tsi +tty=/dev/ttyxx  +baudrate=921600 <bin>\n",
      "Attempting to open TTY at /dev/ttyUSB1\n",
      "Warning: You selected a non-standard baudrate. This will only work if the HW was configured with this baud-rate\n",
      "Checking connection status with /dev/ttyUSB1\n",
      "Connection succeeded\n",
      "Done, shutting down, flushing UART\n",
      "WARNING: You should probably reset the target before running this program again\n",
      "Done: now reset during the sleep before next iteration\n",
      "**Voltage set to: +7.00000000E-01\n",
      "V**\n"
     ]
    },
    {
     "name": "stderr",
     "output_type": "stream",
     "text": [
      "warning: tohost and fromhost symbols not in ELF; can't communicate with target\n",
      "Writing 14006c with 6\n",
      "Done writing 14006c with 6\n"
     ]
    },
    {
     "name": "stdout",
     "output_type": "stream",
     "text": [
      "b'0 4400 4600 4800 4900 4a00 4b00 4c00 4c80 4d00 4d80 4e00 4e80 4f00 4f80 5000 \\r\\n'\n",
      "Starting UART-based TSI\n",
      "Usage: ./uart_tsi +tty=/dev/pts/xx <PLUSARGS> <bin>\n",
      "       ./uart_tsi +tty=/dev/ttyxx  <PLUSARGS> <bin>\n",
      "       ./uart_tsi +tty=/dev/ttyxx  +no_hart0_msip +init_write=0x80000000:0xdeadbeef none\n",
      "       ./uart_tsi +tty=/dev/ttyxx  +no_hart0_msip +init_read=0x80000000 none\n",
      "       ./uart_tsi +tty=/dev/ttyxx  +selfcheck <bin>\n",
      "       ./uart_tsi +tty=/dev/ttyxx  +baudrate=921600 <bin>\n",
      "Attempting to open TTY at /dev/ttyUSB1\n",
      "Warning: You selected a non-standard baudrate. This will only work if the HW was configured with this baud-rate\n",
      "Checking connection status with /dev/ttyUSB1\n",
      "Connection succeeded\n",
      "Done, shutting down, flushing UART\n",
      "WARNING: You should probably reset the target before running this program again\n",
      "Done: now reset during the sleep before next iteration\n",
      "**Voltage set to: +7.50000000E-01\n",
      "V**\n"
     ]
    },
    {
     "name": "stderr",
     "output_type": "stream",
     "text": [
      "warning: tohost and fromhost symbols not in ELF; can't communicate with target\n",
      "Writing 14006c with 6\n",
      "Done writing 14006c with 6\n"
     ]
    },
    {
     "name": "stdout",
     "output_type": "stream",
     "text": [
      "b'0 4400 4600 4800 4900 4a00 4b00 4c00 4c80 4d00 4d80 4e00 4e80 4f00 4f80 5000 \\r\\n'\n",
      "Starting UART-based TSI\n",
      "Usage: ./uart_tsi +tty=/dev/pts/xx <PLUSARGS> <bin>\n",
      "       ./uart_tsi +tty=/dev/ttyxx  <PLUSARGS> <bin>\n",
      "       ./uart_tsi +tty=/dev/ttyxx  +no_hart0_msip +init_write=0x80000000:0xdeadbeef none\n",
      "       ./uart_tsi +tty=/dev/ttyxx  +no_hart0_msip +init_read=0x80000000 none\n",
      "       ./uart_tsi +tty=/dev/ttyxx  +selfcheck <bin>\n",
      "       ./uart_tsi +tty=/dev/ttyxx  +baudrate=921600 <bin>\n",
      "Attempting to open TTY at /dev/ttyUSB1\n",
      "Warning: You selected a non-standard baudrate. This will only work if the HW was configured with this baud-rate\n",
      "Checking connection status with /dev/ttyUSB1\n",
      "Connection succeeded\n",
      "Done, shutting down, flushing UART\n",
      "WARNING: You should probably reset the target before running this program again\n",
      "Done: now reset during the sleep before next iteration\n",
      "**Voltage set to: +8.00000000E-01\n",
      "V**\n"
     ]
    },
    {
     "name": "stderr",
     "output_type": "stream",
     "text": [
      "warning: tohost and fromhost symbols not in ELF; can't communicate with target\n",
      "Writing 14006c with 6\n",
      "Done writing 14006c with 6\n"
     ]
    },
    {
     "name": "stdout",
     "output_type": "stream",
     "text": [
      "b'0 4400 4600 4800 4900 4a00 4b00 4c00 4c80 4d00 4d80 4e00 4e80 4f00 4f80 5000 \\r\\n'\n",
      "Starting UART-based TSI\n",
      "Usage: ./uart_tsi +tty=/dev/pts/xx <PLUSARGS> <bin>\n",
      "       ./uart_tsi +tty=/dev/ttyxx  <PLUSARGS> <bin>\n",
      "       ./uart_tsi +tty=/dev/ttyxx  +no_hart0_msip +init_write=0x80000000:0xdeadbeef none\n",
      "       ./uart_tsi +tty=/dev/ttyxx  +no_hart0_msip +init_read=0x80000000 none\n",
      "       ./uart_tsi +tty=/dev/ttyxx  +selfcheck <bin>\n",
      "       ./uart_tsi +tty=/dev/ttyxx  +baudrate=921600 <bin>\n",
      "Attempting to open TTY at /dev/ttyUSB1\n",
      "Warning: You selected a non-standard baudrate. This will only work if the HW was configured with this baud-rate\n",
      "Checking connection status with /dev/ttyUSB1\n",
      "Connection succeeded\n",
      "Done, shutting down, flushing UART\n",
      "WARNING: You should probably reset the target before running this program again\n",
      "Done: now reset during the sleep before next iteration\n",
      "**Voltage set to: +8.50000000E-01\n",
      "V**\n"
     ]
    },
    {
     "name": "stderr",
     "output_type": "stream",
     "text": [
      "warning: tohost and fromhost symbols not in ELF; can't communicate with target\n",
      "Writing 14006c with 6\n",
      "Done writing 14006c with 6\n"
     ]
    },
    {
     "name": "stdout",
     "output_type": "stream",
     "text": [
      "b'0 4400 4600 4800 4900 4a00 4b00 4c00 4c80 4d00 4d80 4e00 4e80 4f00 4f80 5000 \\r\\n'\n",
      "Starting UART-based TSI\n",
      "Usage: ./uart_tsi +tty=/dev/pts/xx <PLUSARGS> <bin>\n",
      "       ./uart_tsi +tty=/dev/ttyxx  <PLUSARGS> <bin>\n",
      "       ./uart_tsi +tty=/dev/ttyxx  +no_hart0_msip +init_write=0x80000000:0xdeadbeef none\n",
      "       ./uart_tsi +tty=/dev/ttyxx  +no_hart0_msip +init_read=0x80000000 none\n",
      "       ./uart_tsi +tty=/dev/ttyxx  +selfcheck <bin>\n",
      "       ./uart_tsi +tty=/dev/ttyxx  +baudrate=921600 <bin>\n",
      "Attempting to open TTY at /dev/ttyUSB1\n",
      "Warning: You selected a non-standard baudrate. This will only work if the HW was configured with this baud-rate\n",
      "Checking connection status with /dev/ttyUSB1\n",
      "Connection succeeded\n",
      "Done, shutting down, flushing UART\n",
      "WARNING: You should probably reset the target before running this program again\n",
      "Done: now reset during the sleep before next iteration\n",
      "**Voltage set to: +9.00000000E-01\n",
      "V**\n"
     ]
    },
    {
     "name": "stderr",
     "output_type": "stream",
     "text": [
      "warning: tohost and fromhost symbols not in ELF; can't communicate with target\n",
      "Writing 14006c with 6\n",
      "Done writing 14006c with 6\n"
     ]
    },
    {
     "name": "stdout",
     "output_type": "stream",
     "text": [
      "b'0 4400 4600 4800 4900 4a00 4b00 4c00 4c80 4d00 4d80 4e00 4e80 4f00 4f80 5000 \\r\\n'\n",
      "Starting UART-based TSI\n",
      "Usage: ./uart_tsi +tty=/dev/pts/xx <PLUSARGS> <bin>\n",
      "       ./uart_tsi +tty=/dev/ttyxx  <PLUSARGS> <bin>\n",
      "       ./uart_tsi +tty=/dev/ttyxx  +no_hart0_msip +init_write=0x80000000:0xdeadbeef none\n",
      "       ./uart_tsi +tty=/dev/ttyxx  +no_hart0_msip +init_read=0x80000000 none\n",
      "       ./uart_tsi +tty=/dev/ttyxx  +selfcheck <bin>\n",
      "       ./uart_tsi +tty=/dev/ttyxx  +baudrate=921600 <bin>\n",
      "Attempting to open TTY at /dev/ttyUSB1\n",
      "Warning: You selected a non-standard baudrate. This will only work if the HW was configured with this baud-rate\n",
      "Checking connection status with /dev/ttyUSB1\n",
      "Connection succeeded\n",
      "Done, shutting down, flushing UART\n",
      "WARNING: You should probably reset the target before running this program again\n",
      "Done: now reset during the sleep before next iteration\n",
      "**Voltage set to: +9.50000000E-01\n",
      "V**\n"
     ]
    },
    {
     "name": "stderr",
     "output_type": "stream",
     "text": [
      "warning: tohost and fromhost symbols not in ELF; can't communicate with target\n",
      "Writing 14006c with 6\n",
      "Done writing 14006c with 6\n"
     ]
    },
    {
     "name": "stdout",
     "output_type": "stream",
     "text": [
      "b'0 4400 4600 4800 4900 4a00 4b00 4c00 4c80 4d00 4d80 4e00 4e80 4f00 4f80 5000 \\r\\n'\n",
      "Starting UART-based TSI\n",
      "Usage: ./uart_tsi +tty=/dev/pts/xx <PLUSARGS> <bin>\n",
      "       ./uart_tsi +tty=/dev/ttyxx  <PLUSARGS> <bin>\n",
      "       ./uart_tsi +tty=/dev/ttyxx  +no_hart0_msip +init_write=0x80000000:0xdeadbeef none\n",
      "       ./uart_tsi +tty=/dev/ttyxx  +no_hart0_msip +init_read=0x80000000 none\n",
      "       ./uart_tsi +tty=/dev/ttyxx  +selfcheck <bin>\n",
      "       ./uart_tsi +tty=/dev/ttyxx  +baudrate=921600 <bin>\n",
      "Attempting to open TTY at /dev/ttyUSB1\n",
      "Warning: You selected a non-standard baudrate. This will only work if the HW was configured with this baud-rate\n",
      "Checking connection status with /dev/ttyUSB1\n",
      "Connection succeeded\n",
      "Done, shutting down, flushing UART\n",
      "WARNING: You should probably reset the target before running this program again\n",
      "Done: now reset during the sleep before next iteration\n",
      "**Voltage set to: +1.00000000E+00\n",
      "V**\n"
     ]
    },
    {
     "name": "stderr",
     "output_type": "stream",
     "text": [
      "warning: tohost and fromhost symbols not in ELF; can't communicate with target\n",
      "Writing 14006c with 6\n",
      "Done writing 14006c with 6\n"
     ]
    },
    {
     "name": "stdout",
     "output_type": "stream",
     "text": [
      "b'0 4400 4600 4800 4900 4a00 4b00 4c00 4c80 4d00 4d80 4e00 4e80 4f00 4f80 5000 \\r\\n'\n",
      "Starting UART-based TSI\n",
      "Usage: ./uart_tsi +tty=/dev/pts/xx <PLUSARGS> <bin>\n",
      "       ./uart_tsi +tty=/dev/ttyxx  <PLUSARGS> <bin>\n",
      "       ./uart_tsi +tty=/dev/ttyxx  +no_hart0_msip +init_write=0x80000000:0xdeadbeef none\n",
      "       ./uart_tsi +tty=/dev/ttyxx  +no_hart0_msip +init_read=0x80000000 none\n",
      "       ./uart_tsi +tty=/dev/ttyxx  +selfcheck <bin>\n",
      "       ./uart_tsi +tty=/dev/ttyxx  +baudrate=921600 <bin>\n",
      "Attempting to open TTY at /dev/ttyUSB1\n",
      "Warning: You selected a non-standard baudrate. This will only work if the HW was configured with this baud-rate\n",
      "Checking connection status with /dev/ttyUSB1\n",
      "Connection succeeded\n",
      "Done, shutting down, flushing UART\n",
      "WARNING: You should probably reset the target before running this program again\n",
      "Done: now reset during the sleep before next iteration\n",
      "**Voltage set to: +1.05000000E+00\n",
      "V**\n"
     ]
    },
    {
     "name": "stderr",
     "output_type": "stream",
     "text": [
      "warning: tohost and fromhost symbols not in ELF; can't communicate with target\n",
      "Writing 14006c with 6\n",
      "Done writing 14006c with 6\n"
     ]
    },
    {
     "name": "stdout",
     "output_type": "stream",
     "text": [
      "b'0 4400 4600 4800 4900 4a00 4b00 4c00 4c80 4d00 4d80 4e00 4e80 4f00 4f80 5000 \\r\\n'\n",
      "Starting UART-based TSI\n",
      "Usage: ./uart_tsi +tty=/dev/pts/xx <PLUSARGS> <bin>\n",
      "       ./uart_tsi +tty=/dev/ttyxx  <PLUSARGS> <bin>\n",
      "       ./uart_tsi +tty=/dev/ttyxx  +no_hart0_msip +init_write=0x80000000:0xdeadbeef none\n",
      "       ./uart_tsi +tty=/dev/ttyxx  +no_hart0_msip +init_read=0x80000000 none\n",
      "       ./uart_tsi +tty=/dev/ttyxx  +selfcheck <bin>\n",
      "       ./uart_tsi +tty=/dev/ttyxx  +baudrate=921600 <bin>\n",
      "Attempting to open TTY at /dev/ttyUSB1\n",
      "Warning: You selected a non-standard baudrate. This will only work if the HW was configured with this baud-rate\n",
      "Checking connection status with /dev/ttyUSB1\n",
      "Connection succeeded\n",
      "Done, shutting down, flushing UART\n",
      "WARNING: You should probably reset the target before running this program again\n",
      "Done: now reset during the sleep before next iteration\n",
      "**Voltage set to: +1.10000000E+00\n",
      "V**\n"
     ]
    },
    {
     "name": "stderr",
     "output_type": "stream",
     "text": [
      "warning: tohost and fromhost symbols not in ELF; can't communicate with target\n",
      "Writing 14006c with 6\n",
      "Done writing 14006c with 6\n"
     ]
    },
    {
     "name": "stdout",
     "output_type": "stream",
     "text": [
      "b'0 4400 4600 4800 4900 4a00 4b00 4c00 4c80 4d00 4d80 4e00 4e80 4f00 4f80 5000 \\r\\n'\n",
      "Starting UART-based TSI\n",
      "Usage: ./uart_tsi +tty=/dev/pts/xx <PLUSARGS> <bin>\n",
      "       ./uart_tsi +tty=/dev/ttyxx  <PLUSARGS> <bin>\n",
      "       ./uart_tsi +tty=/dev/ttyxx  +no_hart0_msip +init_write=0x80000000:0xdeadbeef none\n",
      "       ./uart_tsi +tty=/dev/ttyxx  +no_hart0_msip +init_read=0x80000000 none\n",
      "       ./uart_tsi +tty=/dev/ttyxx  +selfcheck <bin>\n",
      "       ./uart_tsi +tty=/dev/ttyxx  +baudrate=921600 <bin>\n",
      "Attempting to open TTY at /dev/ttyUSB1\n",
      "Warning: You selected a non-standard baudrate. This will only work if the HW was configured with this baud-rate\n",
      "Checking connection status with /dev/ttyUSB1\n",
      "Connection succeeded\n",
      "Done, shutting down, flushing UART\n",
      "WARNING: You should probably reset the target before running this program again\n",
      "Done: now reset during the sleep before next iteration\n",
      "**Voltage set to: +1.15000000E+00\n",
      "V**\n"
     ]
    },
    {
     "name": "stderr",
     "output_type": "stream",
     "text": [
      "warning: tohost and fromhost symbols not in ELF; can't communicate with target\n",
      "Writing 14006c with 6\n",
      "Done writing 14006c with 6\n"
     ]
    },
    {
     "name": "stdout",
     "output_type": "stream",
     "text": [
      "b'0 4400 4600 4800 4900 4a00 4b00 4c00 4c80 4d00 4d80 4e00 4e80 4f00 4f80 5000 \\r\\n'\n",
      "Starting UART-based TSI\n",
      "Usage: ./uart_tsi +tty=/dev/pts/xx <PLUSARGS> <bin>\n",
      "       ./uart_tsi +tty=/dev/ttyxx  <PLUSARGS> <bin>\n",
      "       ./uart_tsi +tty=/dev/ttyxx  +no_hart0_msip +init_write=0x80000000:0xdeadbeef none\n",
      "       ./uart_tsi +tty=/dev/ttyxx  +no_hart0_msip +init_read=0x80000000 none\n",
      "       ./uart_tsi +tty=/dev/ttyxx  +selfcheck <bin>\n",
      "       ./uart_tsi +tty=/dev/ttyxx  +baudrate=921600 <bin>\n",
      "Attempting to open TTY at /dev/ttyUSB1\n",
      "Warning: You selected a non-standard baudrate. This will only work if the HW was configured with this baud-rate\n",
      "Checking connection status with /dev/ttyUSB1\n",
      "Connection succeeded\n",
      "Done, shutting down, flushing UART\n",
      "WARNING: You should probably reset the target before running this program again\n",
      "Done: now reset during the sleep before next iteration\n",
      "**Voltage set to: +1.20000000E+00\n",
      "V**\n"
     ]
    },
    {
     "name": "stderr",
     "output_type": "stream",
     "text": [
      "warning: tohost and fromhost symbols not in ELF; can't communicate with target\n",
      "Writing 14006c with 6\n",
      "Done writing 14006c with 6\n"
     ]
    },
    {
     "name": "stdout",
     "output_type": "stream",
     "text": [
      "b'0 4400 4600 4800 4900 4a00 4b00 4c00 4c80 4d00 4d80 4e00 4e80 4f00 4f80 5000 \\r\\n'\n",
      "Starting UART-based TSI\n",
      "Usage: ./uart_tsi +tty=/dev/pts/xx <PLUSARGS> <bin>\n",
      "       ./uart_tsi +tty=/dev/ttyxx  <PLUSARGS> <bin>\n",
      "       ./uart_tsi +tty=/dev/ttyxx  +no_hart0_msip +init_write=0x80000000:0xdeadbeef none\n",
      "       ./uart_tsi +tty=/dev/ttyxx  +no_hart0_msip +init_read=0x80000000 none\n",
      "       ./uart_tsi +tty=/dev/ttyxx  +selfcheck <bin>\n",
      "       ./uart_tsi +tty=/dev/ttyxx  +baudrate=921600 <bin>\n",
      "Attempting to open TTY at /dev/ttyUSB1\n",
      "Warning: You selected a non-standard baudrate. This will only work if the HW was configured with this baud-rate\n",
      "Checking connection status with /dev/ttyUSB1\n",
      "Connection succeeded\n",
      "Done, shutting down, flushing UART\n",
      "WARNING: You should probably reset the target before running this program again\n",
      "Done: now reset during the sleep before next iteration\n",
      "rm -rf build\n",
      "cmake -S ./ -B ./build/ -D CMAKE_TOOLCHAIN_FILE=./riscv-gcc.cmake -DCHIP=dsp24\n",
      "-- The ASM compiler identification is GNU\n",
      "-- Found assembler: /tools/C/ee290-fa24-2/.conda-env/riscv-tools/bin/riscv64-unknown-elf-gcc\n",
      "-- The C compiler identification is GNU 13.2.0\n",
      "-- The CXX compiler identification is GNU 13.2.0\n",
      "-- Detecting C compiler ABI info\n",
      "-- Detecting C compiler ABI info - done\n",
      "-- Check for working C compiler: /tools/C/ee290-fa24-2/.conda-env/riscv-tools/bin/riscv64-unknown-elf-gcc - skipped\n",
      "-- Detecting C compile features\n",
      "-- Detecting C compile features - done\n",
      "-- Detecting CXX compiler ABI info\n",
      "-- Detecting CXX compiler ABI info - done\n",
      "-- Check for working CXX compiler: /tools/C/ee290-fa24-2/.conda-env/riscv-tools/bin/riscv64-unknown-elf-g++ - skipped\n",
      "-- Detecting CXX compile features\n",
      "-- Detecting CXX compile features - done\n",
      "-- Including HTIF to target\n",
      "-- Including CLINT to target\n",
      "-- ================ Glossy config ================\n",
      "--  Building for CHIP: \"dsp24\"\n",
      "--  Reading config from \"/tools/C/tedkim7/sp24-Baremetal-IDE/platform/dsp24/CMakeLists.txt\"\n",
      "--  Terminal Device: UART0\n",
      "--  Linker Script: /tools/C/tedkim7/sp24-Baremetal-IDE/platform/dsp24/dsp24.ld\n",
      "-- ===============================================\n",
      "-- Configuring done (3.6s)\n",
      "-- Generating done (1.4s)\n",
      "-- Build files have been written to: /tools/C/tedkim7/sp24-Baremetal-IDE/build\n",
      "cmake --build ./build/ --target shmoo_bench\n",
      "gmake[1]: Entering directory '/bwrcq/C/tedkim7/sp24-Baremetal-IDE/build'\n",
      "gmake[2]: Entering directory '/bwrcq/C/tedkim7/sp24-Baremetal-IDE/build'\n",
      "gmake[3]: Entering directory '/bwrcq/C/tedkim7/sp24-Baremetal-IDE/build'\n",
      "gmake[4]: Entering directory '/bwrcq/C/tedkim7/sp24-Baremetal-IDE/build'\n",
      "gmake[4]: Leaving directory '/bwrcq/C/tedkim7/sp24-Baremetal-IDE/build'\n",
      "gmake[4]: Entering directory '/bwrcq/C/tedkim7/sp24-Baremetal-IDE/build'\n",
      "[  2%] \u001b[32mBuilding C object driver/rocket-chip-blocks/uart/CMakeFiles/uart.dir/uart.c.obj\u001b[0m\n"
     ]
    },
    {
     "name": "stderr",
     "output_type": "stream",
     "text": [
      "/tools/C/tedkim7/sp24-Baremetal-IDE/driver/rocket-chip-blocks/uart/uart.c: In function 'uart_receive':\n",
      "/tools/C/tedkim7/sp24-Baremetal-IDE/driver/rocket-chip-blocks/uart/uart.c:35:78: warning: unused parameter 'timeout' [-Wunused-parameter]\n",
      "   35 | Status uart_receive(UART_Type *UARTx, uint8_t *data, uint16_t size, uint32_t timeout) {\n",
      "      |                                                                     ~~~~~~~~~^~~~~~~\n",
      "/tools/C/tedkim7/sp24-Baremetal-IDE/driver/rocket-chip-blocks/uart/uart.c: In function 'uart_transmit':\n",
      "/tools/C/tedkim7/sp24-Baremetal-IDE/driver/rocket-chip-blocks/uart/uart.c:50:85: warning: unused parameter 'timeout' [-Wunused-parameter]\n",
      "   50 | Status uart_transmit(UART_Type *UARTx, const uint8_t *data, uint16_t size, uint32_t timeout) {\n",
      "      |                                                                            ~~~~~~~~~^~~~~~~\n"
     ]
    },
    {
     "name": "stdout",
     "output_type": "stream",
     "text": [
      "[  5%] \u001b[32m\u001b[1mLinking C static library libuart.a\u001b[0m\n",
      "gmake[4]: Leaving directory '/bwrcq/C/tedkim7/sp24-Baremetal-IDE/build'\n",
      "[  5%] Built target uart\n",
      "gmake[4]: Entering directory '/bwrcq/C/tedkim7/sp24-Baremetal-IDE/build'\n",
      "gmake[4]: Leaving directory '/bwrcq/C/tedkim7/sp24-Baremetal-IDE/build'\n",
      "gmake[4]: Entering directory '/bwrcq/C/tedkim7/sp24-Baremetal-IDE/build'\n",
      "[  7%] \u001b[32mBuilding C object driver/intel/pll/CMakeFiles/intel-pll.dir/pll.c.obj\u001b[0m\n",
      "[ 10%] \u001b[32m\u001b[1mLinking C static library libintel-pll.a\u001b[0m\n",
      "gmake[4]: Leaving directory '/bwrcq/C/tedkim7/sp24-Baremetal-IDE/build'\n",
      "[ 10%] Built target intel-pll\n",
      "gmake[4]: Entering directory '/bwrcq/C/tedkim7/sp24-Baremetal-IDE/build'\n",
      "gmake[4]: Leaving directory '/bwrcq/C/tedkim7/sp24-Baremetal-IDE/build'\n",
      "gmake[4]: Entering directory '/bwrcq/C/tedkim7/sp24-Baremetal-IDE/build'\n",
      "[ 12%] \u001b[32mBuilding C object driver/rocket-chip/clint/CMakeFiles/clint.dir/clint.c.obj\u001b[0m\n",
      "[ 15%] \u001b[32m\u001b[1mLinking C static library libclint.a\u001b[0m\n",
      "gmake[4]: Leaving directory '/bwrcq/C/tedkim7/sp24-Baremetal-IDE/build'\n",
      "[ 15%] Built target clint\n",
      "gmake[4]: Entering directory '/bwrcq/C/tedkim7/sp24-Baremetal-IDE/build'\n",
      "gmake[4]: Leaving directory '/bwrcq/C/tedkim7/sp24-Baremetal-IDE/build'\n",
      "gmake[4]: Entering directory '/bwrcq/C/tedkim7/sp24-Baremetal-IDE/build'\n",
      "[ 17%] \u001b[32mBuilding C object driver/rocket-chip/rocketcore/CMakeFiles/rocketcore.dir/rocketcore.c.obj\u001b[0m\n",
      "[ 20%] \u001b[32m\u001b[1mLinking C static library librocketcore.a\u001b[0m\n",
      "gmake[4]: Leaving directory '/bwrcq/C/tedkim7/sp24-Baremetal-IDE/build'\n",
      "[ 20%] Built target rocketcore\n",
      "gmake[4]: Entering directory '/bwrcq/C/tedkim7/sp24-Baremetal-IDE/build'\n",
      "gmake[4]: Leaving directory '/bwrcq/C/tedkim7/sp24-Baremetal-IDE/build'\n",
      "gmake[4]: Entering directory '/bwrcq/C/tedkim7/sp24-Baremetal-IDE/build'\n",
      "[ 23%] \u001b[32mBuilding C object driver/rocket-chip-blocks/i2c/CMakeFiles/i2c.dir/i2c.c.obj\u001b[0m\n"
     ]
    },
    {
     "name": "stderr",
     "output_type": "stream",
     "text": [
      "/tools/C/tedkim7/sp24-Baremetal-IDE/driver/rocket-chip-blocks/i2c/i2c.c: In function 'i2c_init':\n",
      "/tools/C/tedkim7/sp24-Baremetal-IDE/driver/rocket-chip-blocks/i2c/i2c.c:13:45: warning: unused parameter 'I2C_init' [-Wunused-parameter]\n",
      "   13 | void i2c_init(I2C_Type *I2Cx, I2C_InitType *I2C_init) {\n",
      "      |                               ~~~~~~~~~~~~~~^~~~~~~~\n",
      "/tools/C/tedkim7/sp24-Baremetal-IDE/driver/rocket-chip-blocks/i2c/i2c.c: In function 'i2c_wait_for_flag':\n",
      "/tools/C/tedkim7/sp24-Baremetal-IDE/driver/rocket-chip-blocks/i2c/i2c.c:30:9: warning: implicit declaration of function 'CLINT_getTime' [-Wimplicit-function-declaration]\n",
      "   30 |     if (CLINT_getTime() > (timestart + timeout)) {\n",
      "      |         ^~~~~~~~~~~~~\n",
      "/tools/C/tedkim7/sp24-Baremetal-IDE/driver/rocket-chip-blocks/i2c/i2c.c:30:25: warning: comparison of integer expressions of different signedness: 'int' and 'uint32_t' {aka 'unsigned int'} [-Wsign-compare]\n",
      "   30 |     if (CLINT_getTime() > (timestart + timeout)) {\n",
      "      |                         ^\n",
      "/tools/C/tedkim7/sp24-Baremetal-IDE/driver/rocket-chip-blocks/i2c/i2c.c: In function 'i2c_master_receive':\n",
      "/tools/C/tedkim7/sp24-Baremetal-IDE/driver/rocket-chip-blocks/i2c/i2c.c:53:24: warning: implicit declaration of function 'clint_get_time' [-Wimplicit-function-declaration]\n",
      "   53 |   uint64_t timestart = clint_get_time();\n",
      "      |                        ^~~~~~~~~~~~~~\n",
      "/tools/C/tedkim7/sp24-Baremetal-IDE/driver/rocket-chip-blocks/i2c/i2c.c: In function 'i2c_wait_for_transaction':\n",
      "/tools/C/tedkim7/sp24-Baremetal-IDE/driver/rocket-chip-blocks/i2c/i2c.c:50:1: warning: control reaches end of non-void function [-Wreturn-type]\n",
      "   50 | }\n",
      "      | ^\n"
     ]
    },
    {
     "name": "stdout",
     "output_type": "stream",
     "text": [
      "[ 25%] \u001b[32m\u001b[1mLinking C static library libi2c.a\u001b[0m\n",
      "gmake[4]: Leaving directory '/bwrcq/C/tedkim7/sp24-Baremetal-IDE/build'\n",
      "[ 25%] Built target i2c\n",
      "gmake[4]: Entering directory '/bwrcq/C/tedkim7/sp24-Baremetal-IDE/build'\n",
      "gmake[4]: Leaving directory '/bwrcq/C/tedkim7/sp24-Baremetal-IDE/build'\n",
      "gmake[4]: Entering directory '/bwrcq/C/tedkim7/sp24-Baremetal-IDE/build'\n",
      "[ 28%] \u001b[32mBuilding C object driver/rocket-chip-blocks/spi/CMakeFiles/spi.dir/spi.c.obj\u001b[0m\n"
     ]
    },
    {
     "name": "stderr",
     "output_type": "stream",
     "text": [
      "/tools/C/tedkim7/sp24-Baremetal-IDE/driver/rocket-chip-blocks/spi/spi.c: In function 'spi_receive':\n",
      "/tools/C/tedkim7/sp24-Baremetal-IDE/driver/rocket-chip-blocks/spi/spi.c:56:75: warning: unused parameter 'timeout' [-Wunused-parameter]\n",
      "   56 | Status spi_receive(SPI_Type *SPIx, uint8_t *data, uint16_t size, uint64_t timeout) {\n",
      "      |                                                                  ~~~~~~~~~^~~~~~~\n",
      "/tools/C/tedkim7/sp24-Baremetal-IDE/driver/rocket-chip-blocks/spi/spi.c: In function 'spi_transmit':\n",
      "/tools/C/tedkim7/sp24-Baremetal-IDE/driver/rocket-chip-blocks/spi/spi.c:68:76: warning: unused parameter 'timeout' [-Wunused-parameter]\n",
      "   68 | Status spi_transmit(SPI_Type *SPIx, uint8_t *data, uint16_t size, uint64_t timeout) {\n",
      "      |                                                                   ~~~~~~~~~^~~~~~~\n",
      "/tools/C/tedkim7/sp24-Baremetal-IDE/driver/rocket-chip-blocks/spi/spi.c: In function 'spi_transmit_receive':\n",
      "/tools/C/tedkim7/sp24-Baremetal-IDE/driver/rocket-chip-blocks/spi/spi.c:80:105: warning: unused parameter 'timeout' [-Wunused-parameter]\n",
      "   80 | Status spi_transmit_receive(SPI_Type *SPIx, uint8_t *tx_data, uint8_t *rx_data, uint16_t size, uint64_t timeout) {\n",
      "      |                                                                                                ~~~~~~~~~^~~~~~~\n"
     ]
    },
    {
     "name": "stdout",
     "output_type": "stream",
     "text": [
      "[ 30%] \u001b[32m\u001b[1mLinking C static library libspi.a\u001b[0m\n",
      "gmake[4]: Leaving directory '/bwrcq/C/tedkim7/sp24-Baremetal-IDE/build'\n",
      "[ 30%] Built target spi\n",
      "gmake[4]: Entering directory '/bwrcq/C/tedkim7/sp24-Baremetal-IDE/build'\n",
      "gmake[4]: Leaving directory '/bwrcq/C/tedkim7/sp24-Baremetal-IDE/build'\n",
      "gmake[4]: Entering directory '/bwrcq/C/tedkim7/sp24-Baremetal-IDE/build'\n",
      "[ 33%] \u001b[32mBuilding C object platform/dsp24/CMakeFiles/chip-config.dir/chip.c.obj\u001b[0m\n",
      "[ 35%] \u001b[32mBuilding C object platform/dsp24/CMakeFiles/chip-config.dir/src/hal_DMA.c.obj\u001b[0m\n"
     ]
    },
    {
     "name": "stderr",
     "output_type": "stream",
     "text": [
      "/tools/C/tedkim7/sp24-Baremetal-IDE/platform/dsp24/src/hal_DMA.c: In function 'set_DMAP':\n",
      "/tools/C/tedkim7/sp24-Baremetal-IDE/platform/dsp24/src/hal_DMA.c:24:53: warning: passing argument 2 of 'reg_write64' makes integer from pointer without a cast [-Wint-conversion]\n",
      "   24 |     reg_write64(DMA_SET_READ + num*DMA_MMIO_Offset, addr_r);\n",
      "      |                                                     ^~~~~~\n",
      "      |                                                     |\n",
      "      |                                                     uint64_t * {aka long unsigned int *}\n",
      "In file included from /tools/C/tedkim7/sp24-Baremetal-IDE/platform/dsp24/inc/hal_DMA.h:10,\n",
      "                 from /tools/C/tedkim7/sp24-Baremetal-IDE/platform/dsp24/src/hal_DMA.c:1:\n",
      "/tools/C/tedkim7/sp24-Baremetal-IDE/platform/dsp24/inc/hal_mmio.h:23:47: note: expected 'uint64_t' {aka 'long unsigned int'} but argument is of type 'uint64_t *' {aka 'long unsigned int *'}\n",
      "   23 | void reg_write64(unsigned long addr, uint64_t data);\n",
      "      |                                      ~~~~~~~~~^~~~\n",
      "/tools/C/tedkim7/sp24-Baremetal-IDE/platform/dsp24/src/hal_DMA.c:25:54: warning: passing argument 2 of 'reg_write64' makes integer from pointer without a cast [-Wint-conversion]\n",
      "   25 |     reg_write64(DMA_SET_WRITE + num*DMA_MMIO_Offset, addr_w);\n",
      "      |                                                      ^~~~~~\n",
      "      |                                                      |\n",
      "      |                                                      uint64_t * {aka long unsigned int *}\n",
      "/tools/C/tedkim7/sp24-Baremetal-IDE/platform/dsp24/inc/hal_mmio.h:23:47: note: expected 'uint64_t' {aka 'long unsigned int'} but argument is of type 'uint64_t *' {aka 'long unsigned int *'}\n",
      "   23 | void reg_write64(unsigned long addr, uint64_t data);\n",
      "      |                                      ~~~~~~~~~^~~~\n",
      "/tools/C/tedkim7/sp24-Baremetal-IDE/platform/dsp24/src/hal_DMA.c:26:50: warning: passing argument 2 of 'reg_write64' makes integer from pointer without a cast [-Wint-conversion]\n",
      "   26 |     reg_write64(DMA_SET_C + num*DMA_MMIO_Offset, addr_c);\n",
      "      |                                                  ^~~~~~\n",
      "      |                                                  |\n",
      "      |                                                  uint64_t * {aka long unsigned int *}\n",
      "/tools/C/tedkim7/sp24-Baremetal-IDE/platform/dsp24/inc/hal_mmio.h:23:47: note: expected 'uint64_t' {aka 'long unsigned int'} but argument is of type 'uint64_t *' {aka 'long unsigned int *'}\n",
      "   23 | void reg_write64(unsigned long addr, uint64_t data);\n",
      "      |                                      ~~~~~~~~~^~~~\n"
     ]
    },
    {
     "name": "stdout",
     "output_type": "stream",
     "text": [
      "[ 38%] \u001b[32mBuilding C object platform/dsp24/CMakeFiles/chip-config.dir/src/hal_I2S.c.obj\u001b[0m\n"
     ]
    },
    {
     "name": "stderr",
     "output_type": "stream",
     "text": [
      "/tools/C/tedkim7/sp24-Baremetal-IDE/platform/dsp24/src/hal_I2S.c: In function 'write_I2S_tx_DMA':\n",
      "/tools/C/tedkim7/sp24-Baremetal-IDE/platform/dsp24/src/hal_I2S.c:49:9: warning: implicit declaration of function 'printf' [-Wimplicit-function-declaration]\n",
      "   49 |         printf(\"Writing to left queue\\n\");\n",
      "      |         ^~~~~~\n",
      "/tools/C/tedkim7/sp24-Baremetal-IDE/platform/dsp24/src/hal_I2S.c:3:1: note: include '<stdio.h>' or provide a declaration of 'printf'\n",
      "    2 | #include  \"hal_mmio.h\"\n",
      "  +++ |+#include <stdio.h>\n",
      "    3 | \n",
      "/tools/C/tedkim7/sp24-Baremetal-IDE/platform/dsp24/src/hal_I2S.c:49:9: warning: incompatible implicit declaration of built-in function 'printf' [-Wbuiltin-declaration-mismatch]\n",
      "   49 |         printf(\"Writing to left queue\\n\");\n",
      "      |         ^~~~~~\n",
      "/tools/C/tedkim7/sp24-Baremetal-IDE/platform/dsp24/src/hal_I2S.c:49:9: note: include '<stdio.h>' or provide a declaration of 'printf'\n",
      "In file included from /tools/C/tedkim7/sp24-Baremetal-IDE/platform/dsp24/src/hal_I2S.c:1:\n",
      "/tools/C/tedkim7/sp24-Baremetal-IDE/platform/dsp24/inc/hal_I2S.h:13:37: warning: passing argument 3 of 'set_DMAP' makes pointer from integer without a cast [-Wint-conversion]\n",
      "   13 | #define I2S_BASE                    0x10042000U\n",
      "      |                                     ^\n",
      "      |                                     |\n",
      "      |                                     unsigned int\n",
      "/tools/C/tedkim7/sp24-Baremetal-IDE/platform/dsp24/inc/hal_I2S.h:26:37: note: in expansion of macro 'I2S_BASE'\n",
      "   26 | #define I2S_TX_L                    I2S_BASE + 0x20\n",
      "      |                                     ^~~~~~~~\n",
      "/tools/C/tedkim7/sp24-Baremetal-IDE/platform/dsp24/src/hal_I2S.c:50:38: note: in expansion of macro 'I2S_TX_L'\n",
      "   50 |         set_DMAP(dma_num, read_addr, I2S_TX_L, I2S_WATERMARK_TX_L, 8, 0, length, 3, poll);\n",
      "      |                                      ^~~~~~~~\n",
      "In file included from /tools/C/tedkim7/sp24-Baremetal-IDE/platform/dsp24/inc/hal_I2S.h:9:\n",
      "/tools/C/tedkim7/sp24-Baremetal-IDE/platform/dsp24/inc/hal_DMA.h:37:57: note: expected 'uint64_t *' {aka 'long unsigned int *'} but argument is of type 'unsigned int'\n",
      "   37 | void set_DMAP(uint32_t num, uint64_t* addr_r, uint64_t* addr_w, uint64_t* addr_c, uint16_t inc_r, uint16_t inc_w, uint16_t len, uint8_t logd, uint32_t count);\n",
      "      |                                               ~~~~~~~~~~^~~~~~\n",
      "/tools/C/tedkim7/sp24-Baremetal-IDE/platform/dsp24/inc/hal_I2S.h:13:37: warning: passing argument 4 of 'set_DMAP' makes pointer from integer without a cast [-Wint-conversion]\n",
      "   13 | #define I2S_BASE                    0x10042000U\n",
      "      |                                     ^\n",
      "      |                                     |\n",
      "      |                                     unsigned int\n",
      "/tools/C/tedkim7/sp24-Baremetal-IDE/platform/dsp24/inc/hal_I2S.h:18:37: note: in expansion of macro 'I2S_BASE'\n",
      "   18 | #define I2S_WATERMARK_TX_L          I2S_BASE + 0x100\n",
      "      |                                     ^~~~~~~~\n",
      "/tools/C/tedkim7/sp24-Baremetal-IDE/platform/dsp24/src/hal_I2S.c:50:48: note: in expansion of macro 'I2S_WATERMARK_TX_L'\n",
      "   50 |         set_DMAP(dma_num, read_addr, I2S_TX_L, I2S_WATERMARK_TX_L, 8, 0, length, 3, poll);\n",
      "      |                                                ^~~~~~~~~~~~~~~~~~\n",
      "/tools/C/tedkim7/sp24-Baremetal-IDE/platform/dsp24/inc/hal_DMA.h:37:75: note: expected 'uint64_t *' {aka 'long unsigned int *'} but argument is of type 'unsigned int'\n",
      "   37 | void set_DMAP(uint32_t num, uint64_t* addr_r, uint64_t* addr_w, uint64_t* addr_c, uint16_t inc_r, uint16_t inc_w, uint16_t len, uint8_t logd, uint32_t count);\n",
      "      |                                                                 ~~~~~~~~~~^~~~~~\n",
      "/tools/C/tedkim7/sp24-Baremetal-IDE/platform/dsp24/src/hal_I2S.c:52:9: warning: incompatible implicit declaration of built-in function 'printf' [-Wbuiltin-declaration-mismatch]\n",
      "   52 |         printf(\"Writing to right queue\\n\");\n",
      "      |         ^~~~~~\n",
      "/tools/C/tedkim7/sp24-Baremetal-IDE/platform/dsp24/src/hal_I2S.c:52:9: note: include '<stdio.h>' or provide a declaration of 'printf'\n",
      "/tools/C/tedkim7/sp24-Baremetal-IDE/platform/dsp24/inc/hal_I2S.h:13:37: warning: passing argument 3 of 'set_DMAP' makes pointer from integer without a cast [-Wint-conversion]\n",
      "   13 | #define I2S_BASE                    0x10042000U\n",
      "      |                                     ^\n",
      "      |                                     |\n",
      "      |                                     unsigned int\n",
      "/tools/C/tedkim7/sp24-Baremetal-IDE/platform/dsp24/inc/hal_I2S.h:27:37: note: in expansion of macro 'I2S_BASE'\n",
      "   27 | #define I2S_TX_R                    I2S_BASE + 0x28\n",
      "      |                                     ^~~~~~~~\n",
      "/tools/C/tedkim7/sp24-Baremetal-IDE/platform/dsp24/src/hal_I2S.c:53:38: note: in expansion of macro 'I2S_TX_R'\n",
      "   53 |         set_DMAP(dma_num, read_addr, I2S_TX_R, I2S_WATERMARK_TX_R, 8, 0, length, 3, poll);\n",
      "      |                                      ^~~~~~~~\n",
      "/tools/C/tedkim7/sp24-Baremetal-IDE/platform/dsp24/inc/hal_DMA.h:37:57: note: expected 'uint64_t *' {aka 'long unsigned int *'} but argument is of type 'unsigned int'\n",
      "   37 | void set_DMAP(uint32_t num, uint64_t* addr_r, uint64_t* addr_w, uint64_t* addr_c, uint16_t inc_r, uint16_t inc_w, uint16_t len, uint8_t logd, uint32_t count);\n",
      "      |                                               ~~~~~~~~~~^~~~~~\n",
      "/tools/C/tedkim7/sp24-Baremetal-IDE/platform/dsp24/inc/hal_I2S.h:13:37: warning: passing argument 4 of 'set_DMAP' makes pointer from integer without a cast [-Wint-conversion]\n",
      "   13 | #define I2S_BASE                    0x10042000U\n",
      "      |                                     ^\n",
      "      |                                     |\n",
      "      |                                     unsigned int\n",
      "/tools/C/tedkim7/sp24-Baremetal-IDE/platform/dsp24/inc/hal_I2S.h:19:37: note: in expansion of macro 'I2S_BASE'\n",
      "   19 | #define I2S_WATERMARK_TX_R          I2S_BASE + 0x101\n",
      "      |                                     ^~~~~~~~\n",
      "/tools/C/tedkim7/sp24-Baremetal-IDE/platform/dsp24/src/hal_I2S.c:53:48: note: in expansion of macro 'I2S_WATERMARK_TX_R'\n",
      "   53 |         set_DMAP(dma_num, read_addr, I2S_TX_R, I2S_WATERMARK_TX_R, 8, 0, length, 3, poll);\n",
      "      |                                                ^~~~~~~~~~~~~~~~~~\n",
      "/tools/C/tedkim7/sp24-Baremetal-IDE/platform/dsp24/inc/hal_DMA.h:37:75: note: expected 'uint64_t *' {aka 'long unsigned int *'} but argument is of type 'unsigned int'\n",
      "   37 | void set_DMAP(uint32_t num, uint64_t* addr_r, uint64_t* addr_w, uint64_t* addr_c, uint16_t inc_r, uint16_t inc_w, uint16_t len, uint8_t logd, uint32_t count);\n",
      "      |                                                                 ~~~~~~~~~~^~~~~~\n",
      "/tools/C/tedkim7/sp24-Baremetal-IDE/platform/dsp24/src/hal_I2S.c: In function 'read_I2S_rx_DMA':\n",
      "/tools/C/tedkim7/sp24-Baremetal-IDE/platform/dsp24/inc/hal_I2S.h:13:37: warning: passing argument 2 of 'set_DMAP' makes pointer from integer without a cast [-Wint-conversion]\n",
      "   13 | #define I2S_BASE                    0x10042000U\n",
      "      |                                     ^\n",
      "      |                                     |\n",
      "      |                                     unsigned int\n",
      "/tools/C/tedkim7/sp24-Baremetal-IDE/platform/dsp24/inc/hal_I2S.h:28:37: note: in expansion of macro 'I2S_BASE'\n",
      "   28 | #define I2S_RX_L                    I2S_BASE + 0x60\n",
      "      |                                     ^~~~~~~~\n",
      "/tools/C/tedkim7/sp24-Baremetal-IDE/platform/dsp24/src/hal_I2S.c:60:27: note: in expansion of macro 'I2S_RX_L'\n",
      "   60 |         set_DMAP(dma_num, I2S_RX_L, write_addr, I2S_WATERMARK_RX_L, 0, 8, length, 3, poll);\n",
      "      |                           ^~~~~~~~\n",
      "/tools/C/tedkim7/sp24-Baremetal-IDE/platform/dsp24/inc/hal_DMA.h:37:39: note: expected 'uint64_t *' {aka 'long unsigned int *'} but argument is of type 'unsigned int'\n",
      "   37 | void set_DMAP(uint32_t num, uint64_t* addr_r, uint64_t* addr_w, uint64_t* addr_c, uint16_t inc_r, uint16_t inc_w, uint16_t len, uint8_t logd, uint32_t count);\n",
      "      |                             ~~~~~~~~~~^~~~~~\n",
      "/tools/C/tedkim7/sp24-Baremetal-IDE/platform/dsp24/inc/hal_I2S.h:13:37: warning: passing argument 4 of 'set_DMAP' makes pointer from integer without a cast [-Wint-conversion]\n",
      "   13 | #define I2S_BASE                    0x10042000U\n",
      "      |                                     ^\n",
      "      |                                     |\n",
      "      |                                     unsigned int\n",
      "/tools/C/tedkim7/sp24-Baremetal-IDE/platform/dsp24/inc/hal_I2S.h:16:37: note: in expansion of macro 'I2S_BASE'\n",
      "   16 | #define I2S_WATERMARK_RX_L          I2S_BASE + 0x102\n",
      "      |                                     ^~~~~~~~\n",
      "/tools/C/tedkim7/sp24-Baremetal-IDE/platform/dsp24/src/hal_I2S.c:60:49: note: in expansion of macro 'I2S_WATERMARK_RX_L'\n",
      "   60 |         set_DMAP(dma_num, I2S_RX_L, write_addr, I2S_WATERMARK_RX_L, 0, 8, length, 3, poll);\n",
      "      |                                                 ^~~~~~~~~~~~~~~~~~\n",
      "/tools/C/tedkim7/sp24-Baremetal-IDE/platform/dsp24/inc/hal_DMA.h:37:75: note: expected 'uint64_t *' {aka 'long unsigned int *'} but argument is of type 'unsigned int'\n",
      "   37 | void set_DMAP(uint32_t num, uint64_t* addr_r, uint64_t* addr_w, uint64_t* addr_c, uint16_t inc_r, uint16_t inc_w, uint16_t len, uint8_t logd, uint32_t count);\n",
      "      |                                                                 ~~~~~~~~~~^~~~~~\n",
      "/tools/C/tedkim7/sp24-Baremetal-IDE/platform/dsp24/inc/hal_I2S.h:13:37: warning: passing argument 2 of 'set_DMAP' makes pointer from integer without a cast [-Wint-conversion]\n",
      "   13 | #define I2S_BASE                    0x10042000U\n",
      "      |                                     ^\n",
      "      |                                     |\n",
      "      |                                     unsigned int\n",
      "/tools/C/tedkim7/sp24-Baremetal-IDE/platform/dsp24/inc/hal_I2S.h:29:37: note: in expansion of macro 'I2S_BASE'\n",
      "   29 | #define I2S_RX_R                    I2S_BASE + 0x68\n",
      "      |                                     ^~~~~~~~\n",
      "/tools/C/tedkim7/sp24-Baremetal-IDE/platform/dsp24/src/hal_I2S.c:62:27: note: in expansion of macro 'I2S_RX_R'\n",
      "   62 |         set_DMAP(dma_num, I2S_RX_R, write_addr, I2S_WATERMARK_RX_R, 0, 8, length, 3, poll);\n",
      "      |                           ^~~~~~~~\n",
      "/tools/C/tedkim7/sp24-Baremetal-IDE/platform/dsp24/inc/hal_DMA.h:37:39: note: expected 'uint64_t *' {aka 'long unsigned int *'} but argument is of type 'unsigned int'\n",
      "   37 | void set_DMAP(uint32_t num, uint64_t* addr_r, uint64_t* addr_w, uint64_t* addr_c, uint16_t inc_r, uint16_t inc_w, uint16_t len, uint8_t logd, uint32_t count);\n",
      "      |                             ~~~~~~~~~~^~~~~~\n",
      "/tools/C/tedkim7/sp24-Baremetal-IDE/platform/dsp24/inc/hal_I2S.h:13:37: warning: passing argument 4 of 'set_DMAP' makes pointer from integer without a cast [-Wint-conversion]\n",
      "   13 | #define I2S_BASE                    0x10042000U\n",
      "      |                                     ^\n",
      "      |                                     |\n",
      "      |                                     unsigned int\n",
      "/tools/C/tedkim7/sp24-Baremetal-IDE/platform/dsp24/inc/hal_I2S.h:17:37: note: in expansion of macro 'I2S_BASE'\n",
      "   17 | #define I2S_WATERMARK_RX_R          I2S_BASE + 0x103\n",
      "      |                                     ^~~~~~~~\n",
      "/tools/C/tedkim7/sp24-Baremetal-IDE/platform/dsp24/src/hal_I2S.c:62:49: note: in expansion of macro 'I2S_WATERMARK_RX_R'\n",
      "   62 |         set_DMAP(dma_num, I2S_RX_R, write_addr, I2S_WATERMARK_RX_R, 0, 8, length, 3, poll);\n",
      "      |                                                 ^~~~~~~~~~~~~~~~~~\n",
      "/tools/C/tedkim7/sp24-Baremetal-IDE/platform/dsp24/inc/hal_DMA.h:37:75: note: expected 'uint64_t *' {aka 'long unsigned int *'} but argument is of type 'unsigned int'\n",
      "   37 | void set_DMAP(uint32_t num, uint64_t* addr_r, uint64_t* addr_w, uint64_t* addr_c, uint16_t inc_r, uint16_t inc_w, uint16_t len, uint8_t logd, uint32_t count);\n",
      "      |                                                                 ~~~~~~~~~~^~~~~~\n"
     ]
    },
    {
     "name": "stdout",
     "output_type": "stream",
     "text": [
      "[ 41%] \u001b[32mBuilding C object platform/dsp24/CMakeFiles/chip-config.dir/src/hal_conv.c.obj\u001b[0m\n"
     ]
    },
    {
     "name": "stderr",
     "output_type": "stream",
     "text": [
      "/tools/C/tedkim7/sp24-Baremetal-IDE/platform/dsp24/src/hal_conv.c: In function 'write_conv_dma':\n",
      "/tools/C/tedkim7/sp24-Baremetal-IDE/platform/dsp24/src/hal_conv.c:13:5: warning: implicit declaration of function 'set_DMAC' [-Wimplicit-function-declaration]\n",
      "   13 |     set_DMAC(dma_num, (uint64_t*) data, CONV_BASE, 8, 0, length/8, 3);\n",
      "      |     ^~~~~~~~\n",
      "/tools/C/tedkim7/sp24-Baremetal-IDE/platform/dsp24/src/hal_conv.c:14:5: warning: implicit declaration of function 'start_DMA' [-Wimplicit-function-declaration]\n",
      "   14 |     start_DMA(dma_num);\n",
      "      |     ^~~~~~~~~\n",
      "/tools/C/tedkim7/sp24-Baremetal-IDE/platform/dsp24/src/hal_conv.c: In function 'read_conv_dma_p':\n",
      "/tools/C/tedkim7/sp24-Baremetal-IDE/platform/dsp24/src/hal_conv.c:23:5: warning: implicit declaration of function 'set_DMAP' [-Wimplicit-function-declaration]\n",
      "   23 |     set_DMAP(dma_num, CONV_OUTPUT_ADDR, write_addr, READ_CHECK_ADDR, 0, 8, length/4, 3, 0);\n",
      "      |     ^~~~~~~~\n"
     ]
    },
    {
     "name": "stdout",
     "output_type": "stream",
     "text": [
      "[ 43%] \u001b[32mBuilding C object platform/dsp24/CMakeFiles/chip-config.dir/src/hal_fft.c.obj\u001b[0m\n"
     ]
    },
    {
     "name": "stderr",
     "output_type": "stream",
     "text": [
      "/tools/C/tedkim7/sp24-Baremetal-IDE/platform/dsp24/src/hal_fft.c: In function 'write_fft_dma':\n",
      "/tools/C/tedkim7/sp24-Baremetal-IDE/platform/dsp24/src/hal_fft.c:28:23: warning: passing argument 2 of 'set_DMAC' makes integer from pointer without a cast [-Wint-conversion]\n",
      "   28 |     set_DMAC(dma_num, data, FFT_INPUT, 8, 0, length/2, 3);\n",
      "      |                       ^~~~\n",
      "      |                       |\n",
      "      |                       uint64_t * {aka long unsigned int *}\n",
      "In file included from /tools/C/tedkim7/sp24-Baremetal-IDE/platform/dsp24/inc/hal_fft.h:9,\n",
      "                 from /tools/C/tedkim7/sp24-Baremetal-IDE/platform/dsp24/src/hal_fft.c:1:\n",
      "/tools/C/tedkim7/sp24-Baremetal-IDE/platform/dsp24/inc/hal_DMA.h:34:38: note: expected 'uint64_t' {aka 'long unsigned int'} but argument is of type 'uint64_t *' {aka 'long unsigned int *'}\n",
      "   34 | void set_DMAC(uint32_t num, uint64_t addr_r, uint64_t addr_w, uint16_t inc_r, uint16_t inc_w, uint16_t len, uint16_t logd);\n",
      "      |                             ~~~~~~~~~^~~~~~\n",
      "/tools/C/tedkim7/sp24-Baremetal-IDE/platform/dsp24/src/hal_fft.c: In function 'read_fft_dma':\n",
      "/tools/C/tedkim7/sp24-Baremetal-IDE/platform/dsp24/src/hal_fft.c:33:35: warning: passing argument 3 of 'set_DMAC' makes integer from pointer without a cast [-Wint-conversion]\n",
      "   33 |     set_DMAC(dma_num, FFT_OUTPUT, write_addr, 0, 8, length, 2);\n",
      "      |                                   ^~~~~~~~~~\n",
      "      |                                   |\n",
      "      |                                   uint64_t * {aka long unsigned int *}\n",
      "/tools/C/tedkim7/sp24-Baremetal-IDE/platform/dsp24/inc/hal_DMA.h:34:55: note: expected 'uint64_t' {aka 'long unsigned int'} but argument is of type 'uint64_t *' {aka 'long unsigned int *'}\n",
      "   34 | void set_DMAC(uint32_t num, uint64_t addr_r, uint64_t addr_w, uint16_t inc_r, uint16_t inc_w, uint16_t len, uint16_t logd);\n",
      "      |                                              ~~~~~~~~~^~~~~~\n",
      "/tools/C/tedkim7/sp24-Baremetal-IDE/platform/dsp24/src/hal_fft.c: In function 'read_fft_real_dma':\n",
      "/tools/C/tedkim7/sp24-Baremetal-IDE/platform/dsp24/src/hal_fft.c:38:35: warning: passing argument 3 of 'set_DMAC' makes integer from pointer without a cast [-Wint-conversion]\n",
      "   38 |     set_DMAC(dma_num, FFT_OUTPUT, write_addr, 0, 4, length, 1);\n",
      "      |                                   ^~~~~~~~~~\n",
      "      |                                   |\n",
      "      |                                   uint64_t * {aka long unsigned int *}\n",
      "/tools/C/tedkim7/sp24-Baremetal-IDE/platform/dsp24/inc/hal_DMA.h:34:55: note: expected 'uint64_t' {aka 'long unsigned int'} but argument is of type 'uint64_t *' {aka 'long unsigned int *'}\n",
      "   34 | void set_DMAC(uint32_t num, uint64_t addr_r, uint64_t addr_w, uint16_t inc_r, uint16_t inc_w, uint16_t len, uint16_t logd);\n",
      "      |                                              ~~~~~~~~~^~~~~~\n"
     ]
    },
    {
     "name": "stdout",
     "output_type": "stream",
     "text": [
      "[ 46%] \u001b[32mBuilding C object platform/dsp24/CMakeFiles/chip-config.dir/src/hal_mmio.c.obj\u001b[0m\n",
      "[ 48%] \u001b[32m\u001b[1mLinking C static library libchip-config.a\u001b[0m\n",
      "gmake[4]: Leaving directory '/bwrcq/C/tedkim7/sp24-Baremetal-IDE/build'\n",
      "[ 48%] Built target chip-config\n",
      "gmake[4]: Entering directory '/bwrcq/C/tedkim7/sp24-Baremetal-IDE/build'\n",
      "gmake[4]: Leaving directory '/bwrcq/C/tedkim7/sp24-Baremetal-IDE/build'\n",
      "gmake[4]: Entering directory '/bwrcq/C/tedkim7/sp24-Baremetal-IDE/build'\n",
      "[ 51%] \u001b[32mBuilding ASM object glossy/CMakeFiles/glossy.dir/src/startup/crt0.S.obj\u001b[0m\n",
      "[ 53%] \u001b[32mBuilding ASM object glossy/CMakeFiles/glossy.dir/src/startup/init.S.obj\u001b[0m\n",
      "[ 56%] \u001b[32mBuilding C object glossy/CMakeFiles/glossy.dir/src/startup/secondary.c.obj\u001b[0m\n",
      "[ 58%] \u001b[32mBuilding ASM object glossy/CMakeFiles/glossy.dir/src/trap/trap.S.obj\u001b[0m\n",
      "[ 61%] \u001b[32mBuilding C object glossy/CMakeFiles/glossy.dir/src/trap/trap.c.obj\u001b[0m\n"
     ]
    },
    {
     "name": "stderr",
     "output_type": "stream",
     "text": [
      "/tools/C/tedkim7/sp24-Baremetal-IDE/glossy/src/trap/trap.c: In function 'trap_handler':\n",
      "/tools/C/tedkim7/sp24-Baremetal-IDE/glossy/src/trap/trap.c:73:92: warning: unused parameter 'm_tval' [-Wunused-parameter]\n",
      "   73 | __attribute__((weak)) uintptr_t trap_handler(uintptr_t m_epc, uintptr_t m_cause, uintptr_t m_tval, uintptr_t regs[32]) {\n",
      "      |                                                                                  ~~~~~~~~~~^~~~~~\n",
      "/tools/C/tedkim7/sp24-Baremetal-IDE/glossy/src/trap/trap.c:73:110: warning: unused parameter 'regs' [-Wunused-parameter]\n",
      "   73 | __attribute__((weak)) uintptr_t trap_handler(uintptr_t m_epc, uintptr_t m_cause, uintptr_t m_tval, uintptr_t regs[32]) {\n",
      "      |                                                                                                    ~~~~~~~~~~^~~~~~~~\n"
     ]
    },
    {
     "name": "stdout",
     "output_type": "stream",
     "text": [
      "[ 64%] \u001b[32mBuilding C object glossy/CMakeFiles/glossy.dir/src/sys/close.c.obj\u001b[0m\n"
     ]
    },
    {
     "name": "stderr",
     "output_type": "stream",
     "text": [
      "/tools/C/tedkim7/sp24-Baremetal-IDE/glossy/src/sys/close.c: In function '_close':\n",
      "/tools/C/tedkim7/sp24-Baremetal-IDE/glossy/src/sys/close.c:2:38: warning: unused parameter 'file' [-Wunused-parameter]\n",
      "    2 | __attribute__((weak)) int _close(int file) {\n",
      "      |                                  ~~~~^~~~\n"
     ]
    },
    {
     "name": "stdout",
     "output_type": "stream",
     "text": [
      "[ 66%] \u001b[32mBuilding C object glossy/CMakeFiles/glossy.dir/src/sys/exit.c.obj\u001b[0m\n"
     ]
    },
    {
     "name": "stderr",
     "output_type": "stream",
     "text": [
      "/tools/C/tedkim7/sp24-Baremetal-IDE/glossy/src/sys/exit.c: In function '_exit':\n",
      "/tools/C/tedkim7/sp24-Baremetal-IDE/glossy/src/sys/exit.c:4:48: warning: unused parameter 'code' [-Wunused-parameter]\n",
      "    4 | __attribute__((weak, noreturn)) void _exit(int code) {\n",
      "      |                                            ~~~~^~~~\n"
     ]
    },
    {
     "name": "stdout",
     "output_type": "stream",
     "text": [
      "[ 69%] \u001b[32mBuilding C object glossy/CMakeFiles/glossy.dir/src/sys/fstat.c.obj\u001b[0m\n"
     ]
    },
    {
     "name": "stderr",
     "output_type": "stream",
     "text": [
      "/tools/C/tedkim7/sp24-Baremetal-IDE/glossy/src/sys/fstat.c: In function '_fstat':\n",
      "/tools/C/tedkim7/sp24-Baremetal-IDE/glossy/src/sys/fstat.c:4:38: warning: unused parameter 'file' [-Wunused-parameter]\n",
      "    4 | __attribute__((weak)) int _fstat(int file, struct stat *st) {\n",
      "      |                                  ~~~~^~~~\n",
      "/tools/C/tedkim7/sp24-Baremetal-IDE/glossy/src/sys/fstat.c:4:57: warning: unused parameter 'st' [-Wunused-parameter]\n",
      "    4 | __attribute__((weak)) int _fstat(int file, struct stat *st) {\n",
      "      |                                            ~~~~~~~~~~~~~^~\n"
     ]
    },
    {
     "name": "stdout",
     "output_type": "stream",
     "text": [
      "[ 71%] \u001b[32mBuilding C object glossy/CMakeFiles/glossy.dir/src/sys/getpid.c.obj\u001b[0m\n",
      "[ 74%] \u001b[32mBuilding C object glossy/CMakeFiles/glossy.dir/src/sys/isatty.c.obj\u001b[0m\n",
      "[ 76%] \u001b[32mBuilding C object glossy/CMakeFiles/glossy.dir/src/sys/kill.c.obj\u001b[0m\n"
     ]
    },
    {
     "name": "stderr",
     "output_type": "stream",
     "text": [
      "/tools/C/tedkim7/sp24-Baremetal-IDE/glossy/src/sys/kill.c: In function '_kill':\n",
      "/tools/C/tedkim7/sp24-Baremetal-IDE/glossy/src/sys/kill.c:2:37: warning: unused parameter 'pid' [-Wunused-parameter]\n",
      "    2 | __attribute__((weak)) int _kill(int pid, int sig) {\n",
      "      |                                 ~~~~^~~\n",
      "/tools/C/tedkim7/sp24-Baremetal-IDE/glossy/src/sys/kill.c:2:46: warning: unused parameter 'sig' [-Wunused-parameter]\n",
      "    2 | __attribute__((weak)) int _kill(int pid, int sig) {\n",
      "      |                                          ~~~~^~~\n"
     ]
    },
    {
     "name": "stdout",
     "output_type": "stream",
     "text": [
      "[ 79%] \u001b[32mBuilding C object glossy/CMakeFiles/glossy.dir/src/sys/lseek.c.obj\u001b[0m\n"
     ]
    },
    {
     "name": "stderr",
     "output_type": "stream",
     "text": [
      "/tools/C/tedkim7/sp24-Baremetal-IDE/glossy/src/sys/lseek.c: In function '_lseek':\n",
      "/tools/C/tedkim7/sp24-Baremetal-IDE/glossy/src/sys/lseek.c:5:40: warning: unused parameter 'file' [-Wunused-parameter]\n",
      "    5 | __attribute__((weak)) off_t _lseek(int file, off_t ptr, int dir) {\n",
      "      |                                    ~~~~^~~~\n",
      "/tools/C/tedkim7/sp24-Baremetal-IDE/glossy/src/sys/lseek.c:5:52: warning: unused parameter 'ptr' [-Wunused-parameter]\n",
      "    5 | __attribute__((weak)) off_t _lseek(int file, off_t ptr, int dir) {\n",
      "      |                                              ~~~~~~^~~\n",
      "/tools/C/tedkim7/sp24-Baremetal-IDE/glossy/src/sys/lseek.c:5:61: warning: unused parameter 'dir' [-Wunused-parameter]\n",
      "    5 | __attribute__((weak)) off_t _lseek(int file, off_t ptr, int dir) {\n",
      "      |                                                         ~~~~^~~\n"
     ]
    },
    {
     "name": "stdout",
     "output_type": "stream",
     "text": [
      "[ 82%] \u001b[32mBuilding C object glossy/CMakeFiles/glossy.dir/src/sys/open.c.obj\u001b[0m\n"
     ]
    },
    {
     "name": "stderr",
     "output_type": "stream",
     "text": [
      "/tools/C/tedkim7/sp24-Baremetal-IDE/glossy/src/sys/open.c: In function '_open':\n",
      "/tools/C/tedkim7/sp24-Baremetal-IDE/glossy/src/sys/open.c:3:45: warning: unused parameter 'path' [-Wunused-parameter]\n",
      "    3 | __attribute__((weak)) int _open(const char *path, int flags, int mode) {\n",
      "      |                                 ~~~~~~~~~~~~^~~~\n",
      "/tools/C/tedkim7/sp24-Baremetal-IDE/glossy/src/sys/open.c:3:55: warning: unused parameter 'flags' [-Wunused-parameter]\n",
      "    3 | __attribute__((weak)) int _open(const char *path, int flags, int mode) {\n",
      "      |                                                   ~~~~^~~~~\n",
      "/tools/C/tedkim7/sp24-Baremetal-IDE/glossy/src/sys/open.c:3:66: warning: unused parameter 'mode' [-Wunused-parameter]\n",
      "    3 | __attribute__((weak)) int _open(const char *path, int flags, int mode) {\n",
      "      |                                                              ~~~~^~~~\n"
     ]
    },
    {
     "name": "stdout",
     "output_type": "stream",
     "text": [
      "[ 84%] \u001b[32mBuilding C object glossy/CMakeFiles/glossy.dir/src/sys/read.c.obj\u001b[0m\n"
     ]
    },
    {
     "name": "stderr",
     "output_type": "stream",
     "text": [
      "/tools/C/tedkim7/sp24-Baremetal-IDE/glossy/src/sys/read.c: In function '_read':\n",
      "/tools/C/tedkim7/sp24-Baremetal-IDE/glossy/src/sys/read.c:5:41: warning: unused parameter 'file' [-Wunused-parameter]\n",
      "    5 | __attribute__((weak)) ssize_t _read(int file, void *ptr, size_t len) {\n",
      "      |                                     ~~~~^~~~\n",
      "/tools/C/tedkim7/sp24-Baremetal-IDE/glossy/src/sys/read.c:5:53: warning: unused parameter 'ptr' [-Wunused-parameter]\n",
      "    5 | __attribute__((weak)) ssize_t _read(int file, void *ptr, size_t len) {\n",
      "      |                                               ~~~~~~^~~\n",
      "/tools/C/tedkim7/sp24-Baremetal-IDE/glossy/src/sys/read.c:5:65: warning: unused parameter 'len' [-Wunused-parameter]\n",
      "    5 | __attribute__((weak)) ssize_t _read(int file, void *ptr, size_t len) {\n",
      "      |                                                          ~~~~~~~^~~\n"
     ]
    },
    {
     "name": "stdout",
     "output_type": "stream",
     "text": [
      "[ 87%] \u001b[32mBuilding C object glossy/CMakeFiles/glossy.dir/src/sys/sbrk.c.obj\u001b[0m\n",
      "[ 89%] \u001b[32mBuilding C object glossy/CMakeFiles/glossy.dir/src/sys/time.c.obj\u001b[0m\n",
      "[ 92%] \u001b[32mBuilding C object glossy/CMakeFiles/glossy.dir/src/sys/write.c.obj\u001b[0m\n"
     ]
    },
    {
     "name": "stderr",
     "output_type": "stream",
     "text": [
      "/tools/C/tedkim7/sp24-Baremetal-IDE/glossy/src/sys/write.c: In function '_write':\n",
      "/tools/C/tedkim7/sp24-Baremetal-IDE/glossy/src/sys/write.c:8:42: warning: unused parameter 'fd' [-Wunused-parameter]\n",
      "    8 | __attribute__((weak)) ssize_t _write(int fd, const void *ptr, size_t len) {\n",
      "      |                                      ~~~~^~\n"
     ]
    },
    {
     "name": "stdout",
     "output_type": "stream",
     "text": [
      "[ 94%] \u001b[32m\u001b[1mLinking C static library libglossy.a\u001b[0m\n",
      "gmake[4]: Leaving directory '/bwrcq/C/tedkim7/sp24-Baremetal-IDE/build'\n",
      "[ 94%] Built target glossy\n",
      "gmake[4]: Entering directory '/bwrcq/C/tedkim7/sp24-Baremetal-IDE/build'\n",
      "gmake[4]: Leaving directory '/bwrcq/C/tedkim7/sp24-Baremetal-IDE/build'\n",
      "gmake[4]: Entering directory '/bwrcq/C/tedkim7/sp24-Baremetal-IDE/build'\n",
      "[ 97%] \u001b[32mBuilding C object CMakeFiles/shmoo_bench.dir/shmoo_bench/dsp_conv_bench/src/main.c.obj\u001b[0m\n"
     ]
    },
    {
     "name": "stderr",
     "output_type": "stream",
     "text": [
      "/tools/C/tedkim7/sp24-Baremetal-IDE/shmoo_bench/dsp_conv_bench/src/main.c: In function 'app_main':\n",
      "/tools/C/tedkim7/sp24-Baremetal-IDE/shmoo_bench/dsp_conv_bench/src/main.c:61:5: warning: implicit declaration of function 'reg_write8' [-Wimplicit-function-declaration]\n",
      "   61 |     reg_write8(RESET_ADDR, 1);\n",
      "      |     ^~~~~~~~~~\n",
      "/tools/C/tedkim7/sp24-Baremetal-IDE/shmoo_bench/dsp_conv_bench/src/main.c:71:5: warning: implicit declaration of function 'set_conv_params' [-Wimplicit-function-declaration]\n",
      "   71 |     set_conv_params(16, 1, ((uint64_t*) in_kernel));\n",
      "      |     ^~~~~~~~~~~~~~~\n",
      "/tools/C/tedkim7/sp24-Baremetal-IDE/shmoo_bench/dsp_conv_bench/src/main.c:72:5: warning: implicit declaration of function 'write_conv_dma' [-Wimplicit-function-declaration]\n",
      "   72 |     write_conv_dma(0, 16, in_arr);\n",
      "      |     ^~~~~~~~~~~~~~\n",
      "/tools/C/tedkim7/sp24-Baremetal-IDE/shmoo_bench/dsp_conv_bench/src/main.c:77:5: warning: implicit declaration of function 'start_conv' [-Wimplicit-function-declaration]\n",
      "   77 |     start_conv();\n",
      "      |     ^~~~~~~~~~\n",
      "/tools/C/tedkim7/sp24-Baremetal-IDE/shmoo_bench/dsp_conv_bench/src/main.c:91:5: warning: implicit declaration of function 'read_conv_dma' [-Wimplicit-function-declaration]\n",
      "   91 |     read_conv_dma(0, 16, ((uint64_t*) test_out));\n",
      "      |     ^~~~~~~~~~~~~\n",
      "/tools/C/tedkim7/sp24-Baremetal-IDE/shmoo_bench/dsp_conv_bench/src/main.c:95:20: warning: format '%lx' expects argument of type 'long unsigned int', but argument 2 has type 'int' [-Wformat=]\n",
      "   95 |             printf(\"%\"PRIx64\" \", test_out[i*4 + j]);\n",
      "      |                    ^~~           ~~~~~~~~~~~~~~~~~\n",
      "      |                                          |\n",
      "      |                                          int\n",
      "/tools/C/tedkim7/sp24-Baremetal-IDE/shmoo_bench/dsp_conv_bench/src/main.c:100:14: warning: variable 'ref_out' set but not used [-Wunused-but-set-variable]\n",
      "  100 |     uint16_t ref_out[32];\n",
      "      |              ^~~~~~~\n",
      "/tools/C/tedkim7/sp24-Baremetal-IDE/shmoo_bench/dsp_conv_bench/src/main.c:79:14: warning: unused variable 'cpu_end_cycles' [-Wunused-variable]\n",
      "   79 |     uint64_t cpu_end_cycles = READ_CSR(\"mcycle\");\n",
      "      |              ^~~~~~~~~~~~~~\n",
      "/tools/C/tedkim7/sp24-Baremetal-IDE/shmoo_bench/dsp_conv_bench/src/main.c:74:14: warning: unused variable 'cpu_start_cycles' [-Wunused-variable]\n",
      "   74 |     uint64_t cpu_start_cycles = READ_CSR(\"mcycle\");\n",
      "      |              ^~~~~~~~~~~~~~~~\n",
      "/tools/C/tedkim7/sp24-Baremetal-IDE/shmoo_bench/dsp_conv_bench/src/main.c:67:14: warning: unused variable 'in_dilation' [-Wunused-variable]\n",
      "   67 |     uint16_t in_dilation[1] = {1};\n",
      "      |              ^~~~~~~~~~~\n",
      "/tools/C/tedkim7/sp24-Baremetal-IDE/shmoo_bench/dsp_conv_bench/src/main.c:66:14: warning: unused variable 'in_len' [-Wunused-variable]\n",
      "   66 |     uint32_t in_len[1] = {16};\n",
      "      |              ^~~~~~\n",
      "/tools/C/tedkim7/sp24-Baremetal-IDE/shmoo_bench/dsp_conv_bench/src/main.c: In function 'main':\n",
      "/tools/C/tedkim7/sp24-Baremetal-IDE/shmoo_bench/dsp_conv_bench/src/main.c:127:14: warning: unused parameter 'argc' [-Wunused-parameter]\n",
      "  127 | int main(int argc, char **argv) {\n",
      "      |          ~~~~^~~~\n",
      "/tools/C/tedkim7/sp24-Baremetal-IDE/shmoo_bench/dsp_conv_bench/src/main.c:127:27: warning: unused parameter 'argv' [-Wunused-parameter]\n",
      "  127 | int main(int argc, char **argv) {\n",
      "      |                    ~~~~~~~^~~~\n"
     ]
    },
    {
     "name": "stdout",
     "output_type": "stream",
     "text": [
      "[100%] \u001b[32m\u001b[1mLinking C executable shmoo_bench.elf\u001b[0m\n"
     ]
    },
    {
     "name": "stderr",
     "output_type": "stream",
     "text": [
      "/bwrcq/C/ee290-fa24-2/.conda-env/riscv-tools/bin/../lib/gcc/riscv64-unknown-elf/13.2.0/../../../../riscv64-unknown-elf/bin/ld: warning: shmoo_bench.elf has a LOAD segment with RWX permissions\n"
     ]
    },
    {
     "name": "stdout",
     "output_type": "stream",
     "text": [
      "gmake[4]: Leaving directory '/bwrcq/C/tedkim7/sp24-Baremetal-IDE/build'\n",
      "[100%] Built target shmoo_bench\n",
      "gmake[3]: Leaving directory '/bwrcq/C/tedkim7/sp24-Baremetal-IDE/build'\n",
      "gmake[2]: Leaving directory '/bwrcq/C/tedkim7/sp24-Baremetal-IDE/build'\n",
      "gmake[1]: Leaving directory '/bwrcq/C/tedkim7/sp24-Baremetal-IDE/build'\n",
      "**Clock set to: 350MHz**\n",
      "**Voltage set to: +5.00000000E-01\n",
      "V**\n"
     ]
    },
    {
     "name": "stderr",
     "output_type": "stream",
     "text": [
      "warning: tohost and fromhost symbols not in ELF; can't communicate with target\n",
      "Writing 14006c with 7\n",
      "Done writing 14006c with 7\n"
     ]
    },
    {
     "name": "stdout",
     "output_type": "stream",
     "text": [
      "Starting UART-based TSI\n",
      "Usage: ./uart_tsi +tty=/dev/pts/xx <PLUSARGS> <bin>\n",
      "       ./uart_tsi +tty=/dev/ttyxx  <PLUSARGS> <bin>\n",
      "       ./uart_tsi +tty=/dev/ttyxx  +no_hart0_msip +init_write=0x80000000:0xdeadbeef none\n",
      "       ./uart_tsi +tty=/dev/ttyxx  +no_hart0_msip +init_read=0x80000000 none\n",
      "       ./uart_tsi +tty=/dev/ttyxx  +selfcheck <bin>\n",
      "       ./uart_tsi +tty=/dev/ttyxx  +baudrate=921600 <bin>\n",
      "Attempting to open TTY at /dev/ttyUSB1\n",
      "Warning: You selected a non-standard baudrate. This will only work if the HW was configured with this baud-rate\n",
      "Checking connection status with /dev/ttyUSB1\n",
      "Connection succeeded\n",
      "Done, shutting down, flushing UART\n",
      "WARNING: You should probably reset the target before running this program again\n",
      "Done: now reset during the sleep before next iteration\n",
      "**Voltage set to: +5.50000000E-01\n",
      "V**\n"
     ]
    },
    {
     "name": "stderr",
     "output_type": "stream",
     "text": [
      "warning: tohost and fromhost symbols not in ELF; can't communicate with target\n",
      "Writing 14006c with 7\n",
      "Done writing 14006c with 7\n"
     ]
    },
    {
     "name": "stdout",
     "output_type": "stream",
     "text": [
      "Starting UART-based TSI\n",
      "Usage: ./uart_tsi +tty=/dev/pts/xx <PLUSARGS> <bin>\n",
      "       ./uart_tsi +tty=/dev/ttyxx  <PLUSARGS> <bin>\n",
      "       ./uart_tsi +tty=/dev/ttyxx  +no_hart0_msip +init_write=0x80000000:0xdeadbeef none\n",
      "       ./uart_tsi +tty=/dev/ttyxx  +no_hart0_msip +init_read=0x80000000 none\n",
      "       ./uart_tsi +tty=/dev/ttyxx  +selfcheck <bin>\n",
      "       ./uart_tsi +tty=/dev/ttyxx  +baudrate=921600 <bin>\n",
      "Attempting to open TTY at /dev/ttyUSB1\n",
      "Warning: You selected a non-standard baudrate. This will only work if the HW was configured with this baud-rate\n",
      "Checking connection status with /dev/ttyUSB1\n",
      "Connection succeeded\n",
      "Done, shutting down, flushing UART\n",
      "WARNING: You should probably reset the target before running this program again\n",
      "Done: now reset during the sleep before next iteration\n",
      "**Voltage set to: +6.00000000E-01\n",
      "V**\n"
     ]
    },
    {
     "name": "stderr",
     "output_type": "stream",
     "text": [
      "warning: tohost and fromhost symbols not in ELF; can't communicate with target\n",
      "Writing 14006c with 7\n",
      "Done writing 14006c with 7\n"
     ]
    },
    {
     "name": "stdout",
     "output_type": "stream",
     "text": [
      "Starting UART-based TSI\n",
      "Usage: ./uart_tsi +tty=/dev/pts/xx <PLUSARGS> <bin>\n",
      "       ./uart_tsi +tty=/dev/ttyxx  <PLUSARGS> <bin>\n",
      "       ./uart_tsi +tty=/dev/ttyxx  +no_hart0_msip +init_write=0x80000000:0xdeadbeef none\n",
      "       ./uart_tsi +tty=/dev/ttyxx  +no_hart0_msip +init_read=0x80000000 none\n",
      "       ./uart_tsi +tty=/dev/ttyxx  +selfcheck <bin>\n",
      "       ./uart_tsi +tty=/dev/ttyxx  +baudrate=921600 <bin>\n",
      "Attempting to open TTY at /dev/ttyUSB1\n",
      "Warning: You selected a non-standard baudrate. This will only work if the HW was configured with this baud-rate\n",
      "Checking connection status with /dev/ttyUSB1\n",
      "Connection succeeded\n",
      "Done, shutting down, flushing UART\n",
      "WARNING: You should probably reset the target before running this program again\n",
      "Done: now reset during the sleep before next iteration\n",
      "**Voltage set to: +6.50000000E-01\n",
      "V**\n"
     ]
    },
    {
     "name": "stderr",
     "output_type": "stream",
     "text": [
      "warning: tohost and fromhost symbols not in ELF; can't communicate with target\n",
      "Writing 14006c with 7\n",
      "Done writing 14006c with 7\n"
     ]
    },
    {
     "name": "stdout",
     "output_type": "stream",
     "text": [
      "Starting UART-based TSI\n",
      "Usage: ./uart_tsi +tty=/dev/pts/xx <PLUSARGS> <bin>\n",
      "       ./uart_tsi +tty=/dev/ttyxx  <PLUSARGS> <bin>\n",
      "       ./uart_tsi +tty=/dev/ttyxx  +no_hart0_msip +init_write=0x80000000:0xdeadbeef none\n",
      "       ./uart_tsi +tty=/dev/ttyxx  +no_hart0_msip +init_read=0x80000000 none\n",
      "       ./uart_tsi +tty=/dev/ttyxx  +selfcheck <bin>\n",
      "       ./uart_tsi +tty=/dev/ttyxx  +baudrate=921600 <bin>\n",
      "Attempting to open TTY at /dev/ttyUSB1\n",
      "Warning: You selected a non-standard baudrate. This will only work if the HW was configured with this baud-rate\n",
      "Checking connection status with /dev/ttyUSB1\n",
      "Connection succeeded\n",
      "Done, shutting down, flushing UART\n",
      "WARNING: You should probably reset the target before running this program again\n",
      "Done: now reset during the sleep before next iteration\n",
      "**Voltage set to: +7.00000000E-01\n",
      "V**\n"
     ]
    },
    {
     "name": "stderr",
     "output_type": "stream",
     "text": [
      "warning: tohost and fromhost symbols not in ELF; can't communicate with target\n",
      "Writing 14006c with 7\n",
      "Done writing 14006c with 7\n"
     ]
    },
    {
     "name": "stdout",
     "output_type": "stream",
     "text": [
      "b'0 4400 4600 4800 4900 4a00 4b00 4c00 4c80 4d00 4d80 4e00 4e80 4f00 4f80 5000 \\r\\n'\n",
      "Starting UART-based TSI\n",
      "Usage: ./uart_tsi +tty=/dev/pts/xx <PLUSARGS> <bin>\n",
      "       ./uart_tsi +tty=/dev/ttyxx  <PLUSARGS> <bin>\n",
      "       ./uart_tsi +tty=/dev/ttyxx  +no_hart0_msip +init_write=0x80000000:0xdeadbeef none\n",
      "       ./uart_tsi +tty=/dev/ttyxx  +no_hart0_msip +init_read=0x80000000 none\n",
      "       ./uart_tsi +tty=/dev/ttyxx  +selfcheck <bin>\n",
      "       ./uart_tsi +tty=/dev/ttyxx  +baudrate=921600 <bin>\n",
      "Attempting to open TTY at /dev/ttyUSB1\n",
      "Warning: You selected a non-standard baudrate. This will only work if the HW was configured with this baud-rate\n",
      "Checking connection status with /dev/ttyUSB1\n",
      "Connection succeeded\n",
      "Done, shutting down, flushing UART\n",
      "WARNING: You should probably reset the target before running this program again\n",
      "Done: now reset during the sleep before next iteration\n",
      "**Voltage set to: +7.50000000E-01\n",
      "V**\n"
     ]
    },
    {
     "name": "stderr",
     "output_type": "stream",
     "text": [
      "warning: tohost and fromhost symbols not in ELF; can't communicate with target\n",
      "Writing 14006c with 7\n",
      "Done writing 14006c with 7\n"
     ]
    },
    {
     "name": "stdout",
     "output_type": "stream",
     "text": [
      "b'0 4400 4600 4800 4900 4a00 4b00 4c00 4c80 4d00 4d80 4e00 4e80 4f00 4f80 5000 \\r\\n'\n",
      "Starting UART-based TSI\n",
      "Usage: ./uart_tsi +tty=/dev/pts/xx <PLUSARGS> <bin>\n",
      "       ./uart_tsi +tty=/dev/ttyxx  <PLUSARGS> <bin>\n",
      "       ./uart_tsi +tty=/dev/ttyxx  +no_hart0_msip +init_write=0x80000000:0xdeadbeef none\n",
      "       ./uart_tsi +tty=/dev/ttyxx  +no_hart0_msip +init_read=0x80000000 none\n",
      "       ./uart_tsi +tty=/dev/ttyxx  +selfcheck <bin>\n",
      "       ./uart_tsi +tty=/dev/ttyxx  +baudrate=921600 <bin>\n",
      "Attempting to open TTY at /dev/ttyUSB1\n",
      "Warning: You selected a non-standard baudrate. This will only work if the HW was configured with this baud-rate\n",
      "Checking connection status with /dev/ttyUSB1\n",
      "Connection succeeded\n",
      "Done, shutting down, flushing UART\n",
      "WARNING: You should probably reset the target before running this program again\n",
      "Done: now reset during the sleep before next iteration\n",
      "**Voltage set to: +8.00000000E-01\n",
      "V**\n"
     ]
    },
    {
     "name": "stderr",
     "output_type": "stream",
     "text": [
      "warning: tohost and fromhost symbols not in ELF; can't communicate with target\n",
      "Writing 14006c with 7\n",
      "Done writing 14006c with 7\n"
     ]
    },
    {
     "name": "stdout",
     "output_type": "stream",
     "text": [
      "b'0 4400 4600 4800 4900 4a00 4b00 4c00 4c80 4d00 4d80 4e00 4e80 4f00 4f80 5000 \\r\\n'\n",
      "Starting UART-based TSI\n",
      "Usage: ./uart_tsi +tty=/dev/pts/xx <PLUSARGS> <bin>\n",
      "       ./uart_tsi +tty=/dev/ttyxx  <PLUSARGS> <bin>\n",
      "       ./uart_tsi +tty=/dev/ttyxx  +no_hart0_msip +init_write=0x80000000:0xdeadbeef none\n",
      "       ./uart_tsi +tty=/dev/ttyxx  +no_hart0_msip +init_read=0x80000000 none\n",
      "       ./uart_tsi +tty=/dev/ttyxx  +selfcheck <bin>\n",
      "       ./uart_tsi +tty=/dev/ttyxx  +baudrate=921600 <bin>\n",
      "Attempting to open TTY at /dev/ttyUSB1\n",
      "Warning: You selected a non-standard baudrate. This will only work if the HW was configured with this baud-rate\n",
      "Checking connection status with /dev/ttyUSB1\n",
      "Connection succeeded\n",
      "Done, shutting down, flushing UART\n",
      "WARNING: You should probably reset the target before running this program again\n",
      "Done: now reset during the sleep before next iteration\n",
      "**Voltage set to: +8.50000000E-01\n",
      "V**\n"
     ]
    },
    {
     "name": "stderr",
     "output_type": "stream",
     "text": [
      "warning: tohost and fromhost symbols not in ELF; can't communicate with target\n",
      "Writing 14006c with 7\n",
      "Done writing 14006c with 7\n"
     ]
    },
    {
     "name": "stdout",
     "output_type": "stream",
     "text": [
      "b'0 4400 4600 4800 4900 4a00 4b00 4c00 4c80 4d00 4d80 4e00 4e80 4f00 4f80 5000 \\r\\n'\n",
      "Starting UART-based TSI\n",
      "Usage: ./uart_tsi +tty=/dev/pts/xx <PLUSARGS> <bin>\n",
      "       ./uart_tsi +tty=/dev/ttyxx  <PLUSARGS> <bin>\n",
      "       ./uart_tsi +tty=/dev/ttyxx  +no_hart0_msip +init_write=0x80000000:0xdeadbeef none\n",
      "       ./uart_tsi +tty=/dev/ttyxx  +no_hart0_msip +init_read=0x80000000 none\n",
      "       ./uart_tsi +tty=/dev/ttyxx  +selfcheck <bin>\n",
      "       ./uart_tsi +tty=/dev/ttyxx  +baudrate=921600 <bin>\n",
      "Attempting to open TTY at /dev/ttyUSB1\n",
      "Warning: You selected a non-standard baudrate. This will only work if the HW was configured with this baud-rate\n",
      "Checking connection status with /dev/ttyUSB1\n",
      "Connection succeeded\n",
      "Done, shutting down, flushing UART\n",
      "WARNING: You should probably reset the target before running this program again\n",
      "Done: now reset during the sleep before next iteration\n",
      "**Voltage set to: +9.00000000E-01\n",
      "V**\n"
     ]
    },
    {
     "name": "stderr",
     "output_type": "stream",
     "text": [
      "warning: tohost and fromhost symbols not in ELF; can't communicate with target\n",
      "Writing 14006c with 7\n",
      "Done writing 14006c with 7\n"
     ]
    },
    {
     "name": "stdout",
     "output_type": "stream",
     "text": [
      "b'0 4400 4600 4800 4900 4a00 4b00 4c00 4c80 4d00 4d80 4e00 4e80 4f00 4f80 5000 \\r\\n'\n",
      "Starting UART-based TSI\n",
      "Usage: ./uart_tsi +tty=/dev/pts/xx <PLUSARGS> <bin>\n",
      "       ./uart_tsi +tty=/dev/ttyxx  <PLUSARGS> <bin>\n",
      "       ./uart_tsi +tty=/dev/ttyxx  +no_hart0_msip +init_write=0x80000000:0xdeadbeef none\n",
      "       ./uart_tsi +tty=/dev/ttyxx  +no_hart0_msip +init_read=0x80000000 none\n",
      "       ./uart_tsi +tty=/dev/ttyxx  +selfcheck <bin>\n",
      "       ./uart_tsi +tty=/dev/ttyxx  +baudrate=921600 <bin>\n",
      "Attempting to open TTY at /dev/ttyUSB1\n",
      "Warning: You selected a non-standard baudrate. This will only work if the HW was configured with this baud-rate\n",
      "Checking connection status with /dev/ttyUSB1\n",
      "Connection succeeded\n",
      "Done, shutting down, flushing UART\n",
      "WARNING: You should probably reset the target before running this program again\n",
      "Done: now reset during the sleep before next iteration\n",
      "**Voltage set to: +9.50000000E-01\n",
      "V**\n"
     ]
    },
    {
     "name": "stderr",
     "output_type": "stream",
     "text": [
      "warning: tohost and fromhost symbols not in ELF; can't communicate with target\n",
      "Writing 14006c with 7\n",
      "Done writing 14006c with 7\n"
     ]
    },
    {
     "name": "stdout",
     "output_type": "stream",
     "text": [
      "b'0 4400 4600 4800 4900 4a00 4b00 4c00 4c80 4d00 4d80 4e00 4e80 4f00 4f80 5000 \\r\\n'\n",
      "Starting UART-based TSI\n",
      "Usage: ./uart_tsi +tty=/dev/pts/xx <PLUSARGS> <bin>\n",
      "       ./uart_tsi +tty=/dev/ttyxx  <PLUSARGS> <bin>\n",
      "       ./uart_tsi +tty=/dev/ttyxx  +no_hart0_msip +init_write=0x80000000:0xdeadbeef none\n",
      "       ./uart_tsi +tty=/dev/ttyxx  +no_hart0_msip +init_read=0x80000000 none\n",
      "       ./uart_tsi +tty=/dev/ttyxx  +selfcheck <bin>\n",
      "       ./uart_tsi +tty=/dev/ttyxx  +baudrate=921600 <bin>\n",
      "Attempting to open TTY at /dev/ttyUSB1\n",
      "Warning: You selected a non-standard baudrate. This will only work if the HW was configured with this baud-rate\n",
      "Checking connection status with /dev/ttyUSB1\n",
      "Connection succeeded\n",
      "Done, shutting down, flushing UART\n",
      "WARNING: You should probably reset the target before running this program again\n",
      "Done: now reset during the sleep before next iteration\n",
      "**Voltage set to: +1.00000000E+00\n",
      "V**\n"
     ]
    },
    {
     "name": "stderr",
     "output_type": "stream",
     "text": [
      "warning: tohost and fromhost symbols not in ELF; can't communicate with target\n",
      "Writing 14006c with 7\n",
      "Done writing 14006c with 7\n"
     ]
    },
    {
     "name": "stdout",
     "output_type": "stream",
     "text": [
      "b'0 4400 4600 4800 4900 4a00 4b00 4c00 4c80 4d00 4d80 4e00 4e80 4f00 4f80 5000 \\r\\n'\n",
      "Starting UART-based TSI\n",
      "Usage: ./uart_tsi +tty=/dev/pts/xx <PLUSARGS> <bin>\n",
      "       ./uart_tsi +tty=/dev/ttyxx  <PLUSARGS> <bin>\n",
      "       ./uart_tsi +tty=/dev/ttyxx  +no_hart0_msip +init_write=0x80000000:0xdeadbeef none\n",
      "       ./uart_tsi +tty=/dev/ttyxx  +no_hart0_msip +init_read=0x80000000 none\n",
      "       ./uart_tsi +tty=/dev/ttyxx  +selfcheck <bin>\n",
      "       ./uart_tsi +tty=/dev/ttyxx  +baudrate=921600 <bin>\n",
      "Attempting to open TTY at /dev/ttyUSB1\n",
      "Warning: You selected a non-standard baudrate. This will only work if the HW was configured with this baud-rate\n",
      "Checking connection status with /dev/ttyUSB1\n",
      "Connection succeeded\n",
      "Done, shutting down, flushing UART\n",
      "WARNING: You should probably reset the target before running this program again\n",
      "Done: now reset during the sleep before next iteration\n",
      "**Voltage set to: +1.05000000E+00\n",
      "V**\n"
     ]
    },
    {
     "name": "stderr",
     "output_type": "stream",
     "text": [
      "warning: tohost and fromhost symbols not in ELF; can't communicate with target\n",
      "Writing 14006c with 7\n",
      "Done writing 14006c with 7\n"
     ]
    },
    {
     "name": "stdout",
     "output_type": "stream",
     "text": [
      "b'0 4400 4600 4800 4900 4a00 4b00 4c00 4c80 4d00 4d80 4e00 4e80 4f00 4f80 5000 \\r\\n'\n",
      "Starting UART-based TSI\n",
      "Usage: ./uart_tsi +tty=/dev/pts/xx <PLUSARGS> <bin>\n",
      "       ./uart_tsi +tty=/dev/ttyxx  <PLUSARGS> <bin>\n",
      "       ./uart_tsi +tty=/dev/ttyxx  +no_hart0_msip +init_write=0x80000000:0xdeadbeef none\n",
      "       ./uart_tsi +tty=/dev/ttyxx  +no_hart0_msip +init_read=0x80000000 none\n",
      "       ./uart_tsi +tty=/dev/ttyxx  +selfcheck <bin>\n",
      "       ./uart_tsi +tty=/dev/ttyxx  +baudrate=921600 <bin>\n",
      "Attempting to open TTY at /dev/ttyUSB1\n",
      "Warning: You selected a non-standard baudrate. This will only work if the HW was configured with this baud-rate\n",
      "Checking connection status with /dev/ttyUSB1\n",
      "Connection succeeded\n",
      "Done, shutting down, flushing UART\n",
      "WARNING: You should probably reset the target before running this program again\n",
      "Done: now reset during the sleep before next iteration\n",
      "**Voltage set to: +1.10000000E+00\n",
      "V**\n"
     ]
    },
    {
     "name": "stderr",
     "output_type": "stream",
     "text": [
      "warning: tohost and fromhost symbols not in ELF; can't communicate with target\n",
      "Writing 14006c with 7\n",
      "Done writing 14006c with 7\n"
     ]
    },
    {
     "name": "stdout",
     "output_type": "stream",
     "text": [
      "b'0 4400 4600 4800 4900 4a00 4b00 4c00 4c80 4d00 4d80 4e00 4e80 4f00 4f80 5000 \\r\\n'\n",
      "Starting UART-based TSI\n",
      "Usage: ./uart_tsi +tty=/dev/pts/xx <PLUSARGS> <bin>\n",
      "       ./uart_tsi +tty=/dev/ttyxx  <PLUSARGS> <bin>\n",
      "       ./uart_tsi +tty=/dev/ttyxx  +no_hart0_msip +init_write=0x80000000:0xdeadbeef none\n",
      "       ./uart_tsi +tty=/dev/ttyxx  +no_hart0_msip +init_read=0x80000000 none\n",
      "       ./uart_tsi +tty=/dev/ttyxx  +selfcheck <bin>\n",
      "       ./uart_tsi +tty=/dev/ttyxx  +baudrate=921600 <bin>\n",
      "Attempting to open TTY at /dev/ttyUSB1\n",
      "Warning: You selected a non-standard baudrate. This will only work if the HW was configured with this baud-rate\n",
      "Checking connection status with /dev/ttyUSB1\n",
      "Connection succeeded\n",
      "Done, shutting down, flushing UART\n",
      "WARNING: You should probably reset the target before running this program again\n",
      "Done: now reset during the sleep before next iteration\n",
      "**Voltage set to: +1.15000000E+00\n",
      "V**\n"
     ]
    },
    {
     "name": "stderr",
     "output_type": "stream",
     "text": [
      "warning: tohost and fromhost symbols not in ELF; can't communicate with target\n",
      "Writing 14006c with 7\n",
      "Done writing 14006c with 7\n"
     ]
    },
    {
     "name": "stdout",
     "output_type": "stream",
     "text": [
      "b'0 4400 4600 4800 4900 4a00 4b00 4c00 4c80 4d00 4d80 4e00 4e80 4f00 4f80 5000 \\r\\n'\n",
      "Starting UART-based TSI\n",
      "Usage: ./uart_tsi +tty=/dev/pts/xx <PLUSARGS> <bin>\n",
      "       ./uart_tsi +tty=/dev/ttyxx  <PLUSARGS> <bin>\n",
      "       ./uart_tsi +tty=/dev/ttyxx  +no_hart0_msip +init_write=0x80000000:0xdeadbeef none\n",
      "       ./uart_tsi +tty=/dev/ttyxx  +no_hart0_msip +init_read=0x80000000 none\n",
      "       ./uart_tsi +tty=/dev/ttyxx  +selfcheck <bin>\n",
      "       ./uart_tsi +tty=/dev/ttyxx  +baudrate=921600 <bin>\n",
      "Attempting to open TTY at /dev/ttyUSB1\n",
      "Warning: You selected a non-standard baudrate. This will only work if the HW was configured with this baud-rate\n",
      "Checking connection status with /dev/ttyUSB1\n",
      "Connection succeeded\n",
      "Done, shutting down, flushing UART\n",
      "WARNING: You should probably reset the target before running this program again\n",
      "Done: now reset during the sleep before next iteration\n",
      "**Voltage set to: +1.20000000E+00\n",
      "V**\n"
     ]
    },
    {
     "name": "stderr",
     "output_type": "stream",
     "text": [
      "warning: tohost and fromhost symbols not in ELF; can't communicate with target\n",
      "Writing 14006c with 7\n",
      "Done writing 14006c with 7\n"
     ]
    },
    {
     "name": "stdout",
     "output_type": "stream",
     "text": [
      "b'0 4400 4600 4800 4900 4a00 4b00 4c00 4c80 4d00 4d80 4e00 4e80 4f00 4f80 5000 \\r\\n'\n",
      "Starting UART-based TSI\n",
      "Usage: ./uart_tsi +tty=/dev/pts/xx <PLUSARGS> <bin>\n",
      "       ./uart_tsi +tty=/dev/ttyxx  <PLUSARGS> <bin>\n",
      "       ./uart_tsi +tty=/dev/ttyxx  +no_hart0_msip +init_write=0x80000000:0xdeadbeef none\n",
      "       ./uart_tsi +tty=/dev/ttyxx  +no_hart0_msip +init_read=0x80000000 none\n",
      "       ./uart_tsi +tty=/dev/ttyxx  +selfcheck <bin>\n",
      "       ./uart_tsi +tty=/dev/ttyxx  +baudrate=921600 <bin>\n",
      "Attempting to open TTY at /dev/ttyUSB1\n",
      "Warning: You selected a non-standard baudrate. This will only work if the HW was configured with this baud-rate\n",
      "Checking connection status with /dev/ttyUSB1\n",
      "Connection succeeded\n",
      "Done, shutting down, flushing UART\n",
      "WARNING: You should probably reset the target before running this program again\n",
      "Done: now reset during the sleep before next iteration\n",
      "rm -rf build\n",
      "cmake -S ./ -B ./build/ -D CMAKE_TOOLCHAIN_FILE=./riscv-gcc.cmake -DCHIP=dsp24\n",
      "-- The ASM compiler identification is GNU\n",
      "-- Found assembler: /tools/C/ee290-fa24-2/.conda-env/riscv-tools/bin/riscv64-unknown-elf-gcc\n",
      "-- The C compiler identification is GNU 13.2.0\n",
      "-- The CXX compiler identification is GNU 13.2.0\n",
      "-- Detecting C compiler ABI info\n",
      "-- Detecting C compiler ABI info - done\n",
      "-- Check for working C compiler: /tools/C/ee290-fa24-2/.conda-env/riscv-tools/bin/riscv64-unknown-elf-gcc - skipped\n",
      "-- Detecting C compile features\n",
      "-- Detecting C compile features - done\n",
      "-- Detecting CXX compiler ABI info\n",
      "-- Detecting CXX compiler ABI info - done\n",
      "-- Check for working CXX compiler: /tools/C/ee290-fa24-2/.conda-env/riscv-tools/bin/riscv64-unknown-elf-g++ - skipped\n",
      "-- Detecting CXX compile features\n",
      "-- Detecting CXX compile features - done\n",
      "-- Including HTIF to target\n",
      "-- Including CLINT to target\n",
      "-- ================ Glossy config ================\n",
      "--  Building for CHIP: \"dsp24\"\n",
      "--  Reading config from \"/tools/C/tedkim7/sp24-Baremetal-IDE/platform/dsp24/CMakeLists.txt\"\n",
      "--  Terminal Device: UART0\n",
      "--  Linker Script: /tools/C/tedkim7/sp24-Baremetal-IDE/platform/dsp24/dsp24.ld\n",
      "-- ===============================================\n",
      "-- Configuring done (3.5s)\n",
      "-- Generating done (1.5s)\n",
      "-- Build files have been written to: /tools/C/tedkim7/sp24-Baremetal-IDE/build\n",
      "cmake --build ./build/ --target shmoo_bench\n",
      "gmake[1]: Entering directory '/bwrcq/C/tedkim7/sp24-Baremetal-IDE/build'\n",
      "gmake[2]: Entering directory '/bwrcq/C/tedkim7/sp24-Baremetal-IDE/build'\n",
      "gmake[3]: Entering directory '/bwrcq/C/tedkim7/sp24-Baremetal-IDE/build'\n",
      "gmake[4]: Entering directory '/bwrcq/C/tedkim7/sp24-Baremetal-IDE/build'\n",
      "gmake[4]: Leaving directory '/bwrcq/C/tedkim7/sp24-Baremetal-IDE/build'\n",
      "gmake[4]: Entering directory '/bwrcq/C/tedkim7/sp24-Baremetal-IDE/build'\n",
      "[  2%] \u001b[32mBuilding C object driver/rocket-chip-blocks/uart/CMakeFiles/uart.dir/uart.c.obj\u001b[0m\n"
     ]
    },
    {
     "name": "stderr",
     "output_type": "stream",
     "text": [
      "/tools/C/tedkim7/sp24-Baremetal-IDE/driver/rocket-chip-blocks/uart/uart.c: In function 'uart_receive':\n",
      "/tools/C/tedkim7/sp24-Baremetal-IDE/driver/rocket-chip-blocks/uart/uart.c:35:78: warning: unused parameter 'timeout' [-Wunused-parameter]\n",
      "   35 | Status uart_receive(UART_Type *UARTx, uint8_t *data, uint16_t size, uint32_t timeout) {\n",
      "      |                                                                     ~~~~~~~~~^~~~~~~\n",
      "/tools/C/tedkim7/sp24-Baremetal-IDE/driver/rocket-chip-blocks/uart/uart.c: In function 'uart_transmit':\n",
      "/tools/C/tedkim7/sp24-Baremetal-IDE/driver/rocket-chip-blocks/uart/uart.c:50:85: warning: unused parameter 'timeout' [-Wunused-parameter]\n",
      "   50 | Status uart_transmit(UART_Type *UARTx, const uint8_t *data, uint16_t size, uint32_t timeout) {\n",
      "      |                                                                            ~~~~~~~~~^~~~~~~\n"
     ]
    },
    {
     "name": "stdout",
     "output_type": "stream",
     "text": [
      "[  5%] \u001b[32m\u001b[1mLinking C static library libuart.a\u001b[0m\n",
      "gmake[4]: Leaving directory '/bwrcq/C/tedkim7/sp24-Baremetal-IDE/build'\n",
      "[  5%] Built target uart\n",
      "gmake[4]: Entering directory '/bwrcq/C/tedkim7/sp24-Baremetal-IDE/build'\n",
      "gmake[4]: Leaving directory '/bwrcq/C/tedkim7/sp24-Baremetal-IDE/build'\n",
      "gmake[4]: Entering directory '/bwrcq/C/tedkim7/sp24-Baremetal-IDE/build'\n",
      "[  7%] \u001b[32mBuilding C object driver/intel/pll/CMakeFiles/intel-pll.dir/pll.c.obj\u001b[0m\n",
      "[ 10%] \u001b[32m\u001b[1mLinking C static library libintel-pll.a\u001b[0m\n",
      "gmake[4]: Leaving directory '/bwrcq/C/tedkim7/sp24-Baremetal-IDE/build'\n",
      "[ 10%] Built target intel-pll\n",
      "gmake[4]: Entering directory '/bwrcq/C/tedkim7/sp24-Baremetal-IDE/build'\n",
      "gmake[4]: Leaving directory '/bwrcq/C/tedkim7/sp24-Baremetal-IDE/build'\n",
      "gmake[4]: Entering directory '/bwrcq/C/tedkim7/sp24-Baremetal-IDE/build'\n",
      "[ 12%] \u001b[32mBuilding C object driver/rocket-chip/clint/CMakeFiles/clint.dir/clint.c.obj\u001b[0m\n",
      "[ 15%] \u001b[32m\u001b[1mLinking C static library libclint.a\u001b[0m\n",
      "gmake[4]: Leaving directory '/bwrcq/C/tedkim7/sp24-Baremetal-IDE/build'\n",
      "[ 15%] Built target clint\n",
      "gmake[4]: Entering directory '/bwrcq/C/tedkim7/sp24-Baremetal-IDE/build'\n",
      "gmake[4]: Leaving directory '/bwrcq/C/tedkim7/sp24-Baremetal-IDE/build'\n",
      "gmake[4]: Entering directory '/bwrcq/C/tedkim7/sp24-Baremetal-IDE/build'\n",
      "[ 17%] \u001b[32mBuilding C object driver/rocket-chip/rocketcore/CMakeFiles/rocketcore.dir/rocketcore.c.obj\u001b[0m\n",
      "[ 20%] \u001b[32m\u001b[1mLinking C static library librocketcore.a\u001b[0m\n",
      "gmake[4]: Leaving directory '/bwrcq/C/tedkim7/sp24-Baremetal-IDE/build'\n",
      "[ 20%] Built target rocketcore\n",
      "gmake[4]: Entering directory '/bwrcq/C/tedkim7/sp24-Baremetal-IDE/build'\n",
      "gmake[4]: Leaving directory '/bwrcq/C/tedkim7/sp24-Baremetal-IDE/build'\n",
      "gmake[4]: Entering directory '/bwrcq/C/tedkim7/sp24-Baremetal-IDE/build'\n",
      "[ 23%] \u001b[32mBuilding C object driver/rocket-chip-blocks/i2c/CMakeFiles/i2c.dir/i2c.c.obj\u001b[0m\n"
     ]
    },
    {
     "name": "stderr",
     "output_type": "stream",
     "text": [
      "/tools/C/tedkim7/sp24-Baremetal-IDE/driver/rocket-chip-blocks/i2c/i2c.c: In function 'i2c_init':\n",
      "/tools/C/tedkim7/sp24-Baremetal-IDE/driver/rocket-chip-blocks/i2c/i2c.c:13:45: warning: unused parameter 'I2C_init' [-Wunused-parameter]\n",
      "   13 | void i2c_init(I2C_Type *I2Cx, I2C_InitType *I2C_init) {\n",
      "      |                               ~~~~~~~~~~~~~~^~~~~~~~\n",
      "/tools/C/tedkim7/sp24-Baremetal-IDE/driver/rocket-chip-blocks/i2c/i2c.c: In function 'i2c_wait_for_flag':\n",
      "/tools/C/tedkim7/sp24-Baremetal-IDE/driver/rocket-chip-blocks/i2c/i2c.c:30:9: warning: implicit declaration of function 'CLINT_getTime' [-Wimplicit-function-declaration]\n",
      "   30 |     if (CLINT_getTime() > (timestart + timeout)) {\n",
      "      |         ^~~~~~~~~~~~~\n",
      "/tools/C/tedkim7/sp24-Baremetal-IDE/driver/rocket-chip-blocks/i2c/i2c.c:30:25: warning: comparison of integer expressions of different signedness: 'int' and 'uint32_t' {aka 'unsigned int'} [-Wsign-compare]\n",
      "   30 |     if (CLINT_getTime() > (timestart + timeout)) {\n",
      "      |                         ^\n",
      "/tools/C/tedkim7/sp24-Baremetal-IDE/driver/rocket-chip-blocks/i2c/i2c.c: In function 'i2c_master_receive':\n",
      "/tools/C/tedkim7/sp24-Baremetal-IDE/driver/rocket-chip-blocks/i2c/i2c.c:53:24: warning: implicit declaration of function 'clint_get_time' [-Wimplicit-function-declaration]\n",
      "   53 |   uint64_t timestart = clint_get_time();\n",
      "      |                        ^~~~~~~~~~~~~~\n",
      "/tools/C/tedkim7/sp24-Baremetal-IDE/driver/rocket-chip-blocks/i2c/i2c.c: In function 'i2c_wait_for_transaction':\n",
      "/tools/C/tedkim7/sp24-Baremetal-IDE/driver/rocket-chip-blocks/i2c/i2c.c:50:1: warning: control reaches end of non-void function [-Wreturn-type]\n",
      "   50 | }\n",
      "      | ^\n"
     ]
    },
    {
     "name": "stdout",
     "output_type": "stream",
     "text": [
      "[ 25%] \u001b[32m\u001b[1mLinking C static library libi2c.a\u001b[0m\n",
      "gmake[4]: Leaving directory '/bwrcq/C/tedkim7/sp24-Baremetal-IDE/build'\n",
      "[ 25%] Built target i2c\n",
      "gmake[4]: Entering directory '/bwrcq/C/tedkim7/sp24-Baremetal-IDE/build'\n",
      "gmake[4]: Leaving directory '/bwrcq/C/tedkim7/sp24-Baremetal-IDE/build'\n",
      "gmake[4]: Entering directory '/bwrcq/C/tedkim7/sp24-Baremetal-IDE/build'\n",
      "[ 28%] \u001b[32mBuilding C object driver/rocket-chip-blocks/spi/CMakeFiles/spi.dir/spi.c.obj\u001b[0m\n"
     ]
    },
    {
     "name": "stderr",
     "output_type": "stream",
     "text": [
      "/tools/C/tedkim7/sp24-Baremetal-IDE/driver/rocket-chip-blocks/spi/spi.c: In function 'spi_receive':\n",
      "/tools/C/tedkim7/sp24-Baremetal-IDE/driver/rocket-chip-blocks/spi/spi.c:56:75: warning: unused parameter 'timeout' [-Wunused-parameter]\n",
      "   56 | Status spi_receive(SPI_Type *SPIx, uint8_t *data, uint16_t size, uint64_t timeout) {\n",
      "      |                                                                  ~~~~~~~~~^~~~~~~\n",
      "/tools/C/tedkim7/sp24-Baremetal-IDE/driver/rocket-chip-blocks/spi/spi.c: In function 'spi_transmit':\n",
      "/tools/C/tedkim7/sp24-Baremetal-IDE/driver/rocket-chip-blocks/spi/spi.c:68:76: warning: unused parameter 'timeout' [-Wunused-parameter]\n",
      "   68 | Status spi_transmit(SPI_Type *SPIx, uint8_t *data, uint16_t size, uint64_t timeout) {\n",
      "      |                                                                   ~~~~~~~~~^~~~~~~\n",
      "/tools/C/tedkim7/sp24-Baremetal-IDE/driver/rocket-chip-blocks/spi/spi.c: In function 'spi_transmit_receive':\n",
      "/tools/C/tedkim7/sp24-Baremetal-IDE/driver/rocket-chip-blocks/spi/spi.c:80:105: warning: unused parameter 'timeout' [-Wunused-parameter]\n",
      "   80 | Status spi_transmit_receive(SPI_Type *SPIx, uint8_t *tx_data, uint8_t *rx_data, uint16_t size, uint64_t timeout) {\n",
      "      |                                                                                                ~~~~~~~~~^~~~~~~\n"
     ]
    },
    {
     "name": "stdout",
     "output_type": "stream",
     "text": [
      "[ 30%] \u001b[32m\u001b[1mLinking C static library libspi.a\u001b[0m\n",
      "gmake[4]: Leaving directory '/bwrcq/C/tedkim7/sp24-Baremetal-IDE/build'\n",
      "[ 30%] Built target spi\n",
      "gmake[4]: Entering directory '/bwrcq/C/tedkim7/sp24-Baremetal-IDE/build'\n",
      "gmake[4]: Leaving directory '/bwrcq/C/tedkim7/sp24-Baremetal-IDE/build'\n",
      "gmake[4]: Entering directory '/bwrcq/C/tedkim7/sp24-Baremetal-IDE/build'\n",
      "[ 33%] \u001b[32mBuilding C object platform/dsp24/CMakeFiles/chip-config.dir/chip.c.obj\u001b[0m\n",
      "[ 35%] \u001b[32mBuilding C object platform/dsp24/CMakeFiles/chip-config.dir/src/hal_DMA.c.obj\u001b[0m\n"
     ]
    },
    {
     "name": "stderr",
     "output_type": "stream",
     "text": [
      "/tools/C/tedkim7/sp24-Baremetal-IDE/platform/dsp24/src/hal_DMA.c: In function 'set_DMAP':\n",
      "/tools/C/tedkim7/sp24-Baremetal-IDE/platform/dsp24/src/hal_DMA.c:24:53: warning: passing argument 2 of 'reg_write64' makes integer from pointer without a cast [-Wint-conversion]\n",
      "   24 |     reg_write64(DMA_SET_READ + num*DMA_MMIO_Offset, addr_r);\n",
      "      |                                                     ^~~~~~\n",
      "      |                                                     |\n",
      "      |                                                     uint64_t * {aka long unsigned int *}\n",
      "In file included from /tools/C/tedkim7/sp24-Baremetal-IDE/platform/dsp24/inc/hal_DMA.h:10,\n",
      "                 from /tools/C/tedkim7/sp24-Baremetal-IDE/platform/dsp24/src/hal_DMA.c:1:\n",
      "/tools/C/tedkim7/sp24-Baremetal-IDE/platform/dsp24/inc/hal_mmio.h:23:47: note: expected 'uint64_t' {aka 'long unsigned int'} but argument is of type 'uint64_t *' {aka 'long unsigned int *'}\n",
      "   23 | void reg_write64(unsigned long addr, uint64_t data);\n",
      "      |                                      ~~~~~~~~~^~~~\n",
      "/tools/C/tedkim7/sp24-Baremetal-IDE/platform/dsp24/src/hal_DMA.c:25:54: warning: passing argument 2 of 'reg_write64' makes integer from pointer without a cast [-Wint-conversion]\n",
      "   25 |     reg_write64(DMA_SET_WRITE + num*DMA_MMIO_Offset, addr_w);\n",
      "      |                                                      ^~~~~~\n",
      "      |                                                      |\n",
      "      |                                                      uint64_t * {aka long unsigned int *}\n",
      "/tools/C/tedkim7/sp24-Baremetal-IDE/platform/dsp24/inc/hal_mmio.h:23:47: note: expected 'uint64_t' {aka 'long unsigned int'} but argument is of type 'uint64_t *' {aka 'long unsigned int *'}\n",
      "   23 | void reg_write64(unsigned long addr, uint64_t data);\n",
      "      |                                      ~~~~~~~~~^~~~\n",
      "/tools/C/tedkim7/sp24-Baremetal-IDE/platform/dsp24/src/hal_DMA.c:26:50: warning: passing argument 2 of 'reg_write64' makes integer from pointer without a cast [-Wint-conversion]\n",
      "   26 |     reg_write64(DMA_SET_C + num*DMA_MMIO_Offset, addr_c);\n",
      "      |                                                  ^~~~~~\n",
      "      |                                                  |\n",
      "      |                                                  uint64_t * {aka long unsigned int *}\n",
      "/tools/C/tedkim7/sp24-Baremetal-IDE/platform/dsp24/inc/hal_mmio.h:23:47: note: expected 'uint64_t' {aka 'long unsigned int'} but argument is of type 'uint64_t *' {aka 'long unsigned int *'}\n",
      "   23 | void reg_write64(unsigned long addr, uint64_t data);\n",
      "      |                                      ~~~~~~~~~^~~~\n"
     ]
    },
    {
     "name": "stdout",
     "output_type": "stream",
     "text": [
      "[ 38%] \u001b[32mBuilding C object platform/dsp24/CMakeFiles/chip-config.dir/src/hal_I2S.c.obj\u001b[0m\n"
     ]
    },
    {
     "name": "stderr",
     "output_type": "stream",
     "text": [
      "/tools/C/tedkim7/sp24-Baremetal-IDE/platform/dsp24/src/hal_I2S.c: In function 'write_I2S_tx_DMA':\n",
      "/tools/C/tedkim7/sp24-Baremetal-IDE/platform/dsp24/src/hal_I2S.c:49:9: warning: implicit declaration of function 'printf' [-Wimplicit-function-declaration]\n",
      "   49 |         printf(\"Writing to left queue\\n\");\n",
      "      |         ^~~~~~\n",
      "/tools/C/tedkim7/sp24-Baremetal-IDE/platform/dsp24/src/hal_I2S.c:3:1: note: include '<stdio.h>' or provide a declaration of 'printf'\n",
      "    2 | #include  \"hal_mmio.h\"\n",
      "  +++ |+#include <stdio.h>\n",
      "    3 | \n",
      "/tools/C/tedkim7/sp24-Baremetal-IDE/platform/dsp24/src/hal_I2S.c:49:9: warning: incompatible implicit declaration of built-in function 'printf' [-Wbuiltin-declaration-mismatch]\n",
      "   49 |         printf(\"Writing to left queue\\n\");\n",
      "      |         ^~~~~~\n",
      "/tools/C/tedkim7/sp24-Baremetal-IDE/platform/dsp24/src/hal_I2S.c:49:9: note: include '<stdio.h>' or provide a declaration of 'printf'\n",
      "In file included from /tools/C/tedkim7/sp24-Baremetal-IDE/platform/dsp24/src/hal_I2S.c:1:\n",
      "/tools/C/tedkim7/sp24-Baremetal-IDE/platform/dsp24/inc/hal_I2S.h:13:37: warning: passing argument 3 of 'set_DMAP' makes pointer from integer without a cast [-Wint-conversion]\n",
      "   13 | #define I2S_BASE                    0x10042000U\n",
      "      |                                     ^\n",
      "      |                                     |\n",
      "      |                                     unsigned int\n",
      "/tools/C/tedkim7/sp24-Baremetal-IDE/platform/dsp24/inc/hal_I2S.h:26:37: note: in expansion of macro 'I2S_BASE'\n",
      "   26 | #define I2S_TX_L                    I2S_BASE + 0x20\n",
      "      |                                     ^~~~~~~~\n",
      "/tools/C/tedkim7/sp24-Baremetal-IDE/platform/dsp24/src/hal_I2S.c:50:38: note: in expansion of macro 'I2S_TX_L'\n",
      "   50 |         set_DMAP(dma_num, read_addr, I2S_TX_L, I2S_WATERMARK_TX_L, 8, 0, length, 3, poll);\n",
      "      |                                      ^~~~~~~~\n",
      "In file included from /tools/C/tedkim7/sp24-Baremetal-IDE/platform/dsp24/inc/hal_I2S.h:9:\n",
      "/tools/C/tedkim7/sp24-Baremetal-IDE/platform/dsp24/inc/hal_DMA.h:37:57: note: expected 'uint64_t *' {aka 'long unsigned int *'} but argument is of type 'unsigned int'\n",
      "   37 | void set_DMAP(uint32_t num, uint64_t* addr_r, uint64_t* addr_w, uint64_t* addr_c, uint16_t inc_r, uint16_t inc_w, uint16_t len, uint8_t logd, uint32_t count);\n",
      "      |                                               ~~~~~~~~~~^~~~~~\n",
      "/tools/C/tedkim7/sp24-Baremetal-IDE/platform/dsp24/inc/hal_I2S.h:13:37: warning: passing argument 4 of 'set_DMAP' makes pointer from integer without a cast [-Wint-conversion]\n",
      "   13 | #define I2S_BASE                    0x10042000U\n",
      "      |                                     ^\n",
      "      |                                     |\n",
      "      |                                     unsigned int\n",
      "/tools/C/tedkim7/sp24-Baremetal-IDE/platform/dsp24/inc/hal_I2S.h:18:37: note: in expansion of macro 'I2S_BASE'\n",
      "   18 | #define I2S_WATERMARK_TX_L          I2S_BASE + 0x100\n",
      "      |                                     ^~~~~~~~\n",
      "/tools/C/tedkim7/sp24-Baremetal-IDE/platform/dsp24/src/hal_I2S.c:50:48: note: in expansion of macro 'I2S_WATERMARK_TX_L'\n",
      "   50 |         set_DMAP(dma_num, read_addr, I2S_TX_L, I2S_WATERMARK_TX_L, 8, 0, length, 3, poll);\n",
      "      |                                                ^~~~~~~~~~~~~~~~~~\n",
      "/tools/C/tedkim7/sp24-Baremetal-IDE/platform/dsp24/inc/hal_DMA.h:37:75: note: expected 'uint64_t *' {aka 'long unsigned int *'} but argument is of type 'unsigned int'\n",
      "   37 | void set_DMAP(uint32_t num, uint64_t* addr_r, uint64_t* addr_w, uint64_t* addr_c, uint16_t inc_r, uint16_t inc_w, uint16_t len, uint8_t logd, uint32_t count);\n",
      "      |                                                                 ~~~~~~~~~~^~~~~~\n",
      "/tools/C/tedkim7/sp24-Baremetal-IDE/platform/dsp24/src/hal_I2S.c:52:9: warning: incompatible implicit declaration of built-in function 'printf' [-Wbuiltin-declaration-mismatch]\n",
      "   52 |         printf(\"Writing to right queue\\n\");\n",
      "      |         ^~~~~~\n",
      "/tools/C/tedkim7/sp24-Baremetal-IDE/platform/dsp24/src/hal_I2S.c:52:9: note: include '<stdio.h>' or provide a declaration of 'printf'\n",
      "/tools/C/tedkim7/sp24-Baremetal-IDE/platform/dsp24/inc/hal_I2S.h:13:37: warning: passing argument 3 of 'set_DMAP' makes pointer from integer without a cast [-Wint-conversion]\n",
      "   13 | #define I2S_BASE                    0x10042000U\n",
      "      |                                     ^\n",
      "      |                                     |\n",
      "      |                                     unsigned int\n",
      "/tools/C/tedkim7/sp24-Baremetal-IDE/platform/dsp24/inc/hal_I2S.h:27:37: note: in expansion of macro 'I2S_BASE'\n",
      "   27 | #define I2S_TX_R                    I2S_BASE + 0x28\n",
      "      |                                     ^~~~~~~~\n",
      "/tools/C/tedkim7/sp24-Baremetal-IDE/platform/dsp24/src/hal_I2S.c:53:38: note: in expansion of macro 'I2S_TX_R'\n",
      "   53 |         set_DMAP(dma_num, read_addr, I2S_TX_R, I2S_WATERMARK_TX_R, 8, 0, length, 3, poll);\n",
      "      |                                      ^~~~~~~~\n",
      "/tools/C/tedkim7/sp24-Baremetal-IDE/platform/dsp24/inc/hal_DMA.h:37:57: note: expected 'uint64_t *' {aka 'long unsigned int *'} but argument is of type 'unsigned int'\n",
      "   37 | void set_DMAP(uint32_t num, uint64_t* addr_r, uint64_t* addr_w, uint64_t* addr_c, uint16_t inc_r, uint16_t inc_w, uint16_t len, uint8_t logd, uint32_t count);\n",
      "      |                                               ~~~~~~~~~~^~~~~~\n",
      "/tools/C/tedkim7/sp24-Baremetal-IDE/platform/dsp24/inc/hal_I2S.h:13:37: warning: passing argument 4 of 'set_DMAP' makes pointer from integer without a cast [-Wint-conversion]\n",
      "   13 | #define I2S_BASE                    0x10042000U\n",
      "      |                                     ^\n",
      "      |                                     |\n",
      "      |                                     unsigned int\n",
      "/tools/C/tedkim7/sp24-Baremetal-IDE/platform/dsp24/inc/hal_I2S.h:19:37: note: in expansion of macro 'I2S_BASE'\n",
      "   19 | #define I2S_WATERMARK_TX_R          I2S_BASE + 0x101\n",
      "      |                                     ^~~~~~~~\n",
      "/tools/C/tedkim7/sp24-Baremetal-IDE/platform/dsp24/src/hal_I2S.c:53:48: note: in expansion of macro 'I2S_WATERMARK_TX_R'\n",
      "   53 |         set_DMAP(dma_num, read_addr, I2S_TX_R, I2S_WATERMARK_TX_R, 8, 0, length, 3, poll);\n",
      "      |                                                ^~~~~~~~~~~~~~~~~~\n",
      "/tools/C/tedkim7/sp24-Baremetal-IDE/platform/dsp24/inc/hal_DMA.h:37:75: note: expected 'uint64_t *' {aka 'long unsigned int *'} but argument is of type 'unsigned int'\n",
      "   37 | void set_DMAP(uint32_t num, uint64_t* addr_r, uint64_t* addr_w, uint64_t* addr_c, uint16_t inc_r, uint16_t inc_w, uint16_t len, uint8_t logd, uint32_t count);\n",
      "      |                                                                 ~~~~~~~~~~^~~~~~\n",
      "/tools/C/tedkim7/sp24-Baremetal-IDE/platform/dsp24/src/hal_I2S.c: In function 'read_I2S_rx_DMA':\n",
      "/tools/C/tedkim7/sp24-Baremetal-IDE/platform/dsp24/inc/hal_I2S.h:13:37: warning: passing argument 2 of 'set_DMAP' makes pointer from integer without a cast [-Wint-conversion]\n",
      "   13 | #define I2S_BASE                    0x10042000U\n",
      "      |                                     ^\n",
      "      |                                     |\n",
      "      |                                     unsigned int\n",
      "/tools/C/tedkim7/sp24-Baremetal-IDE/platform/dsp24/inc/hal_I2S.h:28:37: note: in expansion of macro 'I2S_BASE'\n",
      "   28 | #define I2S_RX_L                    I2S_BASE + 0x60\n",
      "      |                                     ^~~~~~~~\n",
      "/tools/C/tedkim7/sp24-Baremetal-IDE/platform/dsp24/src/hal_I2S.c:60:27: note: in expansion of macro 'I2S_RX_L'\n",
      "   60 |         set_DMAP(dma_num, I2S_RX_L, write_addr, I2S_WATERMARK_RX_L, 0, 8, length, 3, poll);\n",
      "      |                           ^~~~~~~~\n",
      "/tools/C/tedkim7/sp24-Baremetal-IDE/platform/dsp24/inc/hal_DMA.h:37:39: note: expected 'uint64_t *' {aka 'long unsigned int *'} but argument is of type 'unsigned int'\n",
      "   37 | void set_DMAP(uint32_t num, uint64_t* addr_r, uint64_t* addr_w, uint64_t* addr_c, uint16_t inc_r, uint16_t inc_w, uint16_t len, uint8_t logd, uint32_t count);\n",
      "      |                             ~~~~~~~~~~^~~~~~\n",
      "/tools/C/tedkim7/sp24-Baremetal-IDE/platform/dsp24/inc/hal_I2S.h:13:37: warning: passing argument 4 of 'set_DMAP' makes pointer from integer without a cast [-Wint-conversion]\n",
      "   13 | #define I2S_BASE                    0x10042000U\n",
      "      |                                     ^\n",
      "      |                                     |\n",
      "      |                                     unsigned int\n",
      "/tools/C/tedkim7/sp24-Baremetal-IDE/platform/dsp24/inc/hal_I2S.h:16:37: note: in expansion of macro 'I2S_BASE'\n",
      "   16 | #define I2S_WATERMARK_RX_L          I2S_BASE + 0x102\n",
      "      |                                     ^~~~~~~~\n",
      "/tools/C/tedkim7/sp24-Baremetal-IDE/platform/dsp24/src/hal_I2S.c:60:49: note: in expansion of macro 'I2S_WATERMARK_RX_L'\n",
      "   60 |         set_DMAP(dma_num, I2S_RX_L, write_addr, I2S_WATERMARK_RX_L, 0, 8, length, 3, poll);\n",
      "      |                                                 ^~~~~~~~~~~~~~~~~~\n",
      "/tools/C/tedkim7/sp24-Baremetal-IDE/platform/dsp24/inc/hal_DMA.h:37:75: note: expected 'uint64_t *' {aka 'long unsigned int *'} but argument is of type 'unsigned int'\n",
      "   37 | void set_DMAP(uint32_t num, uint64_t* addr_r, uint64_t* addr_w, uint64_t* addr_c, uint16_t inc_r, uint16_t inc_w, uint16_t len, uint8_t logd, uint32_t count);\n",
      "      |                                                                 ~~~~~~~~~~^~~~~~\n",
      "/tools/C/tedkim7/sp24-Baremetal-IDE/platform/dsp24/inc/hal_I2S.h:13:37: warning: passing argument 2 of 'set_DMAP' makes pointer from integer without a cast [-Wint-conversion]\n",
      "   13 | #define I2S_BASE                    0x10042000U\n",
      "      |                                     ^\n",
      "      |                                     |\n",
      "      |                                     unsigned int\n",
      "/tools/C/tedkim7/sp24-Baremetal-IDE/platform/dsp24/inc/hal_I2S.h:29:37: note: in expansion of macro 'I2S_BASE'\n",
      "   29 | #define I2S_RX_R                    I2S_BASE + 0x68\n",
      "      |                                     ^~~~~~~~\n",
      "/tools/C/tedkim7/sp24-Baremetal-IDE/platform/dsp24/src/hal_I2S.c:62:27: note: in expansion of macro 'I2S_RX_R'\n",
      "   62 |         set_DMAP(dma_num, I2S_RX_R, write_addr, I2S_WATERMARK_RX_R, 0, 8, length, 3, poll);\n",
      "      |                           ^~~~~~~~\n",
      "/tools/C/tedkim7/sp24-Baremetal-IDE/platform/dsp24/inc/hal_DMA.h:37:39: note: expected 'uint64_t *' {aka 'long unsigned int *'} but argument is of type 'unsigned int'\n",
      "   37 | void set_DMAP(uint32_t num, uint64_t* addr_r, uint64_t* addr_w, uint64_t* addr_c, uint16_t inc_r, uint16_t inc_w, uint16_t len, uint8_t logd, uint32_t count);\n",
      "      |                             ~~~~~~~~~~^~~~~~\n",
      "/tools/C/tedkim7/sp24-Baremetal-IDE/platform/dsp24/inc/hal_I2S.h:13:37: warning: passing argument 4 of 'set_DMAP' makes pointer from integer without a cast [-Wint-conversion]\n",
      "   13 | #define I2S_BASE                    0x10042000U\n",
      "      |                                     ^\n",
      "      |                                     |\n",
      "      |                                     unsigned int\n",
      "/tools/C/tedkim7/sp24-Baremetal-IDE/platform/dsp24/inc/hal_I2S.h:17:37: note: in expansion of macro 'I2S_BASE'\n",
      "   17 | #define I2S_WATERMARK_RX_R          I2S_BASE + 0x103\n",
      "      |                                     ^~~~~~~~\n",
      "/tools/C/tedkim7/sp24-Baremetal-IDE/platform/dsp24/src/hal_I2S.c:62:49: note: in expansion of macro 'I2S_WATERMARK_RX_R'\n",
      "   62 |         set_DMAP(dma_num, I2S_RX_R, write_addr, I2S_WATERMARK_RX_R, 0, 8, length, 3, poll);\n",
      "      |                                                 ^~~~~~~~~~~~~~~~~~\n",
      "/tools/C/tedkim7/sp24-Baremetal-IDE/platform/dsp24/inc/hal_DMA.h:37:75: note: expected 'uint64_t *' {aka 'long unsigned int *'} but argument is of type 'unsigned int'\n",
      "   37 | void set_DMAP(uint32_t num, uint64_t* addr_r, uint64_t* addr_w, uint64_t* addr_c, uint16_t inc_r, uint16_t inc_w, uint16_t len, uint8_t logd, uint32_t count);\n",
      "      |                                                                 ~~~~~~~~~~^~~~~~\n"
     ]
    },
    {
     "name": "stdout",
     "output_type": "stream",
     "text": [
      "[ 41%] \u001b[32mBuilding C object platform/dsp24/CMakeFiles/chip-config.dir/src/hal_conv.c.obj\u001b[0m\n"
     ]
    },
    {
     "name": "stderr",
     "output_type": "stream",
     "text": [
      "/tools/C/tedkim7/sp24-Baremetal-IDE/platform/dsp24/src/hal_conv.c: In function 'write_conv_dma':\n",
      "/tools/C/tedkim7/sp24-Baremetal-IDE/platform/dsp24/src/hal_conv.c:13:5: warning: implicit declaration of function 'set_DMAC' [-Wimplicit-function-declaration]\n",
      "   13 |     set_DMAC(dma_num, (uint64_t*) data, CONV_BASE, 8, 0, length/8, 3);\n",
      "      |     ^~~~~~~~\n",
      "/tools/C/tedkim7/sp24-Baremetal-IDE/platform/dsp24/src/hal_conv.c:14:5: warning: implicit declaration of function 'start_DMA' [-Wimplicit-function-declaration]\n",
      "   14 |     start_DMA(dma_num);\n",
      "      |     ^~~~~~~~~\n",
      "/tools/C/tedkim7/sp24-Baremetal-IDE/platform/dsp24/src/hal_conv.c: In function 'read_conv_dma_p':\n",
      "/tools/C/tedkim7/sp24-Baremetal-IDE/platform/dsp24/src/hal_conv.c:23:5: warning: implicit declaration of function 'set_DMAP' [-Wimplicit-function-declaration]\n",
      "   23 |     set_DMAP(dma_num, CONV_OUTPUT_ADDR, write_addr, READ_CHECK_ADDR, 0, 8, length/4, 3, 0);\n",
      "      |     ^~~~~~~~\n"
     ]
    },
    {
     "name": "stdout",
     "output_type": "stream",
     "text": [
      "[ 43%] \u001b[32mBuilding C object platform/dsp24/CMakeFiles/chip-config.dir/src/hal_fft.c.obj\u001b[0m\n"
     ]
    },
    {
     "name": "stderr",
     "output_type": "stream",
     "text": [
      "/tools/C/tedkim7/sp24-Baremetal-IDE/platform/dsp24/src/hal_fft.c: In function 'write_fft_dma':\n",
      "/tools/C/tedkim7/sp24-Baremetal-IDE/platform/dsp24/src/hal_fft.c:28:23: warning: passing argument 2 of 'set_DMAC' makes integer from pointer without a cast [-Wint-conversion]\n",
      "   28 |     set_DMAC(dma_num, data, FFT_INPUT, 8, 0, length/2, 3);\n",
      "      |                       ^~~~\n",
      "      |                       |\n",
      "      |                       uint64_t * {aka long unsigned int *}\n",
      "In file included from /tools/C/tedkim7/sp24-Baremetal-IDE/platform/dsp24/inc/hal_fft.h:9,\n",
      "                 from /tools/C/tedkim7/sp24-Baremetal-IDE/platform/dsp24/src/hal_fft.c:1:\n",
      "/tools/C/tedkim7/sp24-Baremetal-IDE/platform/dsp24/inc/hal_DMA.h:34:38: note: expected 'uint64_t' {aka 'long unsigned int'} but argument is of type 'uint64_t *' {aka 'long unsigned int *'}\n",
      "   34 | void set_DMAC(uint32_t num, uint64_t addr_r, uint64_t addr_w, uint16_t inc_r, uint16_t inc_w, uint16_t len, uint16_t logd);\n",
      "      |                             ~~~~~~~~~^~~~~~\n",
      "/tools/C/tedkim7/sp24-Baremetal-IDE/platform/dsp24/src/hal_fft.c: In function 'read_fft_dma':\n",
      "/tools/C/tedkim7/sp24-Baremetal-IDE/platform/dsp24/src/hal_fft.c:33:35: warning: passing argument 3 of 'set_DMAC' makes integer from pointer without a cast [-Wint-conversion]\n",
      "   33 |     set_DMAC(dma_num, FFT_OUTPUT, write_addr, 0, 8, length, 2);\n",
      "      |                                   ^~~~~~~~~~\n",
      "      |                                   |\n",
      "      |                                   uint64_t * {aka long unsigned int *}\n",
      "/tools/C/tedkim7/sp24-Baremetal-IDE/platform/dsp24/inc/hal_DMA.h:34:55: note: expected 'uint64_t' {aka 'long unsigned int'} but argument is of type 'uint64_t *' {aka 'long unsigned int *'}\n",
      "   34 | void set_DMAC(uint32_t num, uint64_t addr_r, uint64_t addr_w, uint16_t inc_r, uint16_t inc_w, uint16_t len, uint16_t logd);\n",
      "      |                                              ~~~~~~~~~^~~~~~\n",
      "/tools/C/tedkim7/sp24-Baremetal-IDE/platform/dsp24/src/hal_fft.c: In function 'read_fft_real_dma':\n",
      "/tools/C/tedkim7/sp24-Baremetal-IDE/platform/dsp24/src/hal_fft.c:38:35: warning: passing argument 3 of 'set_DMAC' makes integer from pointer without a cast [-Wint-conversion]\n",
      "   38 |     set_DMAC(dma_num, FFT_OUTPUT, write_addr, 0, 4, length, 1);\n",
      "      |                                   ^~~~~~~~~~\n",
      "      |                                   |\n",
      "      |                                   uint64_t * {aka long unsigned int *}\n",
      "/tools/C/tedkim7/sp24-Baremetal-IDE/platform/dsp24/inc/hal_DMA.h:34:55: note: expected 'uint64_t' {aka 'long unsigned int'} but argument is of type 'uint64_t *' {aka 'long unsigned int *'}\n",
      "   34 | void set_DMAC(uint32_t num, uint64_t addr_r, uint64_t addr_w, uint16_t inc_r, uint16_t inc_w, uint16_t len, uint16_t logd);\n",
      "      |                                              ~~~~~~~~~^~~~~~\n"
     ]
    },
    {
     "name": "stdout",
     "output_type": "stream",
     "text": [
      "[ 46%] \u001b[32mBuilding C object platform/dsp24/CMakeFiles/chip-config.dir/src/hal_mmio.c.obj\u001b[0m\n",
      "[ 48%] \u001b[32m\u001b[1mLinking C static library libchip-config.a\u001b[0m\n",
      "gmake[4]: Leaving directory '/bwrcq/C/tedkim7/sp24-Baremetal-IDE/build'\n",
      "[ 48%] Built target chip-config\n",
      "gmake[4]: Entering directory '/bwrcq/C/tedkim7/sp24-Baremetal-IDE/build'\n",
      "gmake[4]: Leaving directory '/bwrcq/C/tedkim7/sp24-Baremetal-IDE/build'\n",
      "gmake[4]: Entering directory '/bwrcq/C/tedkim7/sp24-Baremetal-IDE/build'\n",
      "[ 51%] \u001b[32mBuilding ASM object glossy/CMakeFiles/glossy.dir/src/startup/crt0.S.obj\u001b[0m\n",
      "[ 53%] \u001b[32mBuilding ASM object glossy/CMakeFiles/glossy.dir/src/startup/init.S.obj\u001b[0m\n",
      "[ 56%] \u001b[32mBuilding C object glossy/CMakeFiles/glossy.dir/src/startup/secondary.c.obj\u001b[0m\n",
      "[ 58%] \u001b[32mBuilding ASM object glossy/CMakeFiles/glossy.dir/src/trap/trap.S.obj\u001b[0m\n",
      "[ 61%] \u001b[32mBuilding C object glossy/CMakeFiles/glossy.dir/src/trap/trap.c.obj\u001b[0m\n"
     ]
    },
    {
     "name": "stderr",
     "output_type": "stream",
     "text": [
      "/tools/C/tedkim7/sp24-Baremetal-IDE/glossy/src/trap/trap.c: In function 'trap_handler':\n",
      "/tools/C/tedkim7/sp24-Baremetal-IDE/glossy/src/trap/trap.c:73:92: warning: unused parameter 'm_tval' [-Wunused-parameter]\n",
      "   73 | __attribute__((weak)) uintptr_t trap_handler(uintptr_t m_epc, uintptr_t m_cause, uintptr_t m_tval, uintptr_t regs[32]) {\n",
      "      |                                                                                  ~~~~~~~~~~^~~~~~\n",
      "/tools/C/tedkim7/sp24-Baremetal-IDE/glossy/src/trap/trap.c:73:110: warning: unused parameter 'regs' [-Wunused-parameter]\n",
      "   73 | __attribute__((weak)) uintptr_t trap_handler(uintptr_t m_epc, uintptr_t m_cause, uintptr_t m_tval, uintptr_t regs[32]) {\n",
      "      |                                                                                                    ~~~~~~~~~~^~~~~~~~\n"
     ]
    },
    {
     "name": "stdout",
     "output_type": "stream",
     "text": [
      "[ 64%] \u001b[32mBuilding C object glossy/CMakeFiles/glossy.dir/src/sys/close.c.obj\u001b[0m\n"
     ]
    },
    {
     "name": "stderr",
     "output_type": "stream",
     "text": [
      "/tools/C/tedkim7/sp24-Baremetal-IDE/glossy/src/sys/close.c: In function '_close':\n",
      "/tools/C/tedkim7/sp24-Baremetal-IDE/glossy/src/sys/close.c:2:38: warning: unused parameter 'file' [-Wunused-parameter]\n",
      "    2 | __attribute__((weak)) int _close(int file) {\n",
      "      |                                  ~~~~^~~~\n"
     ]
    },
    {
     "name": "stdout",
     "output_type": "stream",
     "text": [
      "[ 66%] \u001b[32mBuilding C object glossy/CMakeFiles/glossy.dir/src/sys/exit.c.obj\u001b[0m\n"
     ]
    },
    {
     "name": "stderr",
     "output_type": "stream",
     "text": [
      "/tools/C/tedkim7/sp24-Baremetal-IDE/glossy/src/sys/exit.c: In function '_exit':\n",
      "/tools/C/tedkim7/sp24-Baremetal-IDE/glossy/src/sys/exit.c:4:48: warning: unused parameter 'code' [-Wunused-parameter]\n",
      "    4 | __attribute__((weak, noreturn)) void _exit(int code) {\n",
      "      |                                            ~~~~^~~~\n"
     ]
    },
    {
     "name": "stdout",
     "output_type": "stream",
     "text": [
      "[ 69%] \u001b[32mBuilding C object glossy/CMakeFiles/glossy.dir/src/sys/fstat.c.obj\u001b[0m\n"
     ]
    },
    {
     "name": "stderr",
     "output_type": "stream",
     "text": [
      "/tools/C/tedkim7/sp24-Baremetal-IDE/glossy/src/sys/fstat.c: In function '_fstat':\n",
      "/tools/C/tedkim7/sp24-Baremetal-IDE/glossy/src/sys/fstat.c:4:38: warning: unused parameter 'file' [-Wunused-parameter]\n",
      "    4 | __attribute__((weak)) int _fstat(int file, struct stat *st) {\n",
      "      |                                  ~~~~^~~~\n",
      "/tools/C/tedkim7/sp24-Baremetal-IDE/glossy/src/sys/fstat.c:4:57: warning: unused parameter 'st' [-Wunused-parameter]\n",
      "    4 | __attribute__((weak)) int _fstat(int file, struct stat *st) {\n",
      "      |                                            ~~~~~~~~~~~~~^~\n"
     ]
    },
    {
     "name": "stdout",
     "output_type": "stream",
     "text": [
      "[ 71%] \u001b[32mBuilding C object glossy/CMakeFiles/glossy.dir/src/sys/getpid.c.obj\u001b[0m\n",
      "[ 74%] \u001b[32mBuilding C object glossy/CMakeFiles/glossy.dir/src/sys/isatty.c.obj\u001b[0m\n",
      "[ 76%] \u001b[32mBuilding C object glossy/CMakeFiles/glossy.dir/src/sys/kill.c.obj\u001b[0m\n"
     ]
    },
    {
     "name": "stderr",
     "output_type": "stream",
     "text": [
      "/tools/C/tedkim7/sp24-Baremetal-IDE/glossy/src/sys/kill.c: In function '_kill':\n",
      "/tools/C/tedkim7/sp24-Baremetal-IDE/glossy/src/sys/kill.c:2:37: warning: unused parameter 'pid' [-Wunused-parameter]\n",
      "    2 | __attribute__((weak)) int _kill(int pid, int sig) {\n",
      "      |                                 ~~~~^~~\n",
      "/tools/C/tedkim7/sp24-Baremetal-IDE/glossy/src/sys/kill.c:2:46: warning: unused parameter 'sig' [-Wunused-parameter]\n",
      "    2 | __attribute__((weak)) int _kill(int pid, int sig) {\n",
      "      |                                          ~~~~^~~\n"
     ]
    },
    {
     "name": "stdout",
     "output_type": "stream",
     "text": [
      "[ 79%] \u001b[32mBuilding C object glossy/CMakeFiles/glossy.dir/src/sys/lseek.c.obj\u001b[0m\n"
     ]
    },
    {
     "name": "stderr",
     "output_type": "stream",
     "text": [
      "/tools/C/tedkim7/sp24-Baremetal-IDE/glossy/src/sys/lseek.c: In function '_lseek':\n",
      "/tools/C/tedkim7/sp24-Baremetal-IDE/glossy/src/sys/lseek.c:5:40: warning: unused parameter 'file' [-Wunused-parameter]\n",
      "    5 | __attribute__((weak)) off_t _lseek(int file, off_t ptr, int dir) {\n",
      "      |                                    ~~~~^~~~\n",
      "/tools/C/tedkim7/sp24-Baremetal-IDE/glossy/src/sys/lseek.c:5:52: warning: unused parameter 'ptr' [-Wunused-parameter]\n",
      "    5 | __attribute__((weak)) off_t _lseek(int file, off_t ptr, int dir) {\n",
      "      |                                              ~~~~~~^~~\n",
      "/tools/C/tedkim7/sp24-Baremetal-IDE/glossy/src/sys/lseek.c:5:61: warning: unused parameter 'dir' [-Wunused-parameter]\n",
      "    5 | __attribute__((weak)) off_t _lseek(int file, off_t ptr, int dir) {\n",
      "      |                                                         ~~~~^~~\n"
     ]
    },
    {
     "name": "stdout",
     "output_type": "stream",
     "text": [
      "[ 82%] \u001b[32mBuilding C object glossy/CMakeFiles/glossy.dir/src/sys/open.c.obj\u001b[0m\n"
     ]
    },
    {
     "name": "stderr",
     "output_type": "stream",
     "text": [
      "/tools/C/tedkim7/sp24-Baremetal-IDE/glossy/src/sys/open.c: In function '_open':\n",
      "/tools/C/tedkim7/sp24-Baremetal-IDE/glossy/src/sys/open.c:3:45: warning: unused parameter 'path' [-Wunused-parameter]\n",
      "    3 | __attribute__((weak)) int _open(const char *path, int flags, int mode) {\n",
      "      |                                 ~~~~~~~~~~~~^~~~\n",
      "/tools/C/tedkim7/sp24-Baremetal-IDE/glossy/src/sys/open.c:3:55: warning: unused parameter 'flags' [-Wunused-parameter]\n",
      "    3 | __attribute__((weak)) int _open(const char *path, int flags, int mode) {\n",
      "      |                                                   ~~~~^~~~~\n",
      "/tools/C/tedkim7/sp24-Baremetal-IDE/glossy/src/sys/open.c:3:66: warning: unused parameter 'mode' [-Wunused-parameter]\n",
      "    3 | __attribute__((weak)) int _open(const char *path, int flags, int mode) {\n",
      "      |                                                              ~~~~^~~~\n"
     ]
    },
    {
     "name": "stdout",
     "output_type": "stream",
     "text": [
      "[ 84%] \u001b[32mBuilding C object glossy/CMakeFiles/glossy.dir/src/sys/read.c.obj\u001b[0m\n"
     ]
    },
    {
     "name": "stderr",
     "output_type": "stream",
     "text": [
      "/tools/C/tedkim7/sp24-Baremetal-IDE/glossy/src/sys/read.c: In function '_read':\n",
      "/tools/C/tedkim7/sp24-Baremetal-IDE/glossy/src/sys/read.c:5:41: warning: unused parameter 'file' [-Wunused-parameter]\n",
      "    5 | __attribute__((weak)) ssize_t _read(int file, void *ptr, size_t len) {\n",
      "      |                                     ~~~~^~~~\n",
      "/tools/C/tedkim7/sp24-Baremetal-IDE/glossy/src/sys/read.c:5:53: warning: unused parameter 'ptr' [-Wunused-parameter]\n",
      "    5 | __attribute__((weak)) ssize_t _read(int file, void *ptr, size_t len) {\n",
      "      |                                               ~~~~~~^~~\n",
      "/tools/C/tedkim7/sp24-Baremetal-IDE/glossy/src/sys/read.c:5:65: warning: unused parameter 'len' [-Wunused-parameter]\n",
      "    5 | __attribute__((weak)) ssize_t _read(int file, void *ptr, size_t len) {\n",
      "      |                                                          ~~~~~~~^~~\n"
     ]
    },
    {
     "name": "stdout",
     "output_type": "stream",
     "text": [
      "[ 87%] \u001b[32mBuilding C object glossy/CMakeFiles/glossy.dir/src/sys/sbrk.c.obj\u001b[0m\n",
      "[ 89%] \u001b[32mBuilding C object glossy/CMakeFiles/glossy.dir/src/sys/time.c.obj\u001b[0m\n",
      "[ 92%] \u001b[32mBuilding C object glossy/CMakeFiles/glossy.dir/src/sys/write.c.obj\u001b[0m\n"
     ]
    },
    {
     "name": "stderr",
     "output_type": "stream",
     "text": [
      "/tools/C/tedkim7/sp24-Baremetal-IDE/glossy/src/sys/write.c: In function '_write':\n",
      "/tools/C/tedkim7/sp24-Baremetal-IDE/glossy/src/sys/write.c:8:42: warning: unused parameter 'fd' [-Wunused-parameter]\n",
      "    8 | __attribute__((weak)) ssize_t _write(int fd, const void *ptr, size_t len) {\n",
      "      |                                      ~~~~^~\n"
     ]
    },
    {
     "name": "stdout",
     "output_type": "stream",
     "text": [
      "[ 94%] \u001b[32m\u001b[1mLinking C static library libglossy.a\u001b[0m\n",
      "gmake[4]: Leaving directory '/bwrcq/C/tedkim7/sp24-Baremetal-IDE/build'\n",
      "[ 94%] Built target glossy\n",
      "gmake[4]: Entering directory '/bwrcq/C/tedkim7/sp24-Baremetal-IDE/build'\n",
      "gmake[4]: Leaving directory '/bwrcq/C/tedkim7/sp24-Baremetal-IDE/build'\n",
      "gmake[4]: Entering directory '/bwrcq/C/tedkim7/sp24-Baremetal-IDE/build'\n",
      "[ 97%] \u001b[32mBuilding C object CMakeFiles/shmoo_bench.dir/shmoo_bench/dsp_conv_bench/src/main.c.obj\u001b[0m\n"
     ]
    },
    {
     "name": "stderr",
     "output_type": "stream",
     "text": [
      "/tools/C/tedkim7/sp24-Baremetal-IDE/shmoo_bench/dsp_conv_bench/src/main.c: In function 'app_main':\n",
      "/tools/C/tedkim7/sp24-Baremetal-IDE/shmoo_bench/dsp_conv_bench/src/main.c:61:5: warning: implicit declaration of function 'reg_write8' [-Wimplicit-function-declaration]\n",
      "   61 |     reg_write8(RESET_ADDR, 1);\n",
      "      |     ^~~~~~~~~~\n",
      "/tools/C/tedkim7/sp24-Baremetal-IDE/shmoo_bench/dsp_conv_bench/src/main.c:71:5: warning: implicit declaration of function 'set_conv_params' [-Wimplicit-function-declaration]\n",
      "   71 |     set_conv_params(16, 1, ((uint64_t*) in_kernel));\n",
      "      |     ^~~~~~~~~~~~~~~\n",
      "/tools/C/tedkim7/sp24-Baremetal-IDE/shmoo_bench/dsp_conv_bench/src/main.c:72:5: warning: implicit declaration of function 'write_conv_dma' [-Wimplicit-function-declaration]\n",
      "   72 |     write_conv_dma(0, 16, in_arr);\n",
      "      |     ^~~~~~~~~~~~~~\n",
      "/tools/C/tedkim7/sp24-Baremetal-IDE/shmoo_bench/dsp_conv_bench/src/main.c:77:5: warning: implicit declaration of function 'start_conv' [-Wimplicit-function-declaration]\n",
      "   77 |     start_conv();\n",
      "      |     ^~~~~~~~~~\n",
      "/tools/C/tedkim7/sp24-Baremetal-IDE/shmoo_bench/dsp_conv_bench/src/main.c:91:5: warning: implicit declaration of function 'read_conv_dma' [-Wimplicit-function-declaration]\n",
      "   91 |     read_conv_dma(0, 16, ((uint64_t*) test_out));\n",
      "      |     ^~~~~~~~~~~~~\n",
      "/tools/C/tedkim7/sp24-Baremetal-IDE/shmoo_bench/dsp_conv_bench/src/main.c:95:20: warning: format '%lx' expects argument of type 'long unsigned int', but argument 2 has type 'int' [-Wformat=]\n",
      "   95 |             printf(\"%\"PRIx64\" \", test_out[i*4 + j]);\n",
      "      |                    ^~~           ~~~~~~~~~~~~~~~~~\n",
      "      |                                          |\n",
      "      |                                          int\n",
      "/tools/C/tedkim7/sp24-Baremetal-IDE/shmoo_bench/dsp_conv_bench/src/main.c:100:14: warning: variable 'ref_out' set but not used [-Wunused-but-set-variable]\n",
      "  100 |     uint16_t ref_out[32];\n",
      "      |              ^~~~~~~\n",
      "/tools/C/tedkim7/sp24-Baremetal-IDE/shmoo_bench/dsp_conv_bench/src/main.c:79:14: warning: unused variable 'cpu_end_cycles' [-Wunused-variable]\n",
      "   79 |     uint64_t cpu_end_cycles = READ_CSR(\"mcycle\");\n",
      "      |              ^~~~~~~~~~~~~~\n",
      "/tools/C/tedkim7/sp24-Baremetal-IDE/shmoo_bench/dsp_conv_bench/src/main.c:74:14: warning: unused variable 'cpu_start_cycles' [-Wunused-variable]\n",
      "   74 |     uint64_t cpu_start_cycles = READ_CSR(\"mcycle\");\n",
      "      |              ^~~~~~~~~~~~~~~~\n",
      "/tools/C/tedkim7/sp24-Baremetal-IDE/shmoo_bench/dsp_conv_bench/src/main.c:67:14: warning: unused variable 'in_dilation' [-Wunused-variable]\n",
      "   67 |     uint16_t in_dilation[1] = {1};\n",
      "      |              ^~~~~~~~~~~\n",
      "/tools/C/tedkim7/sp24-Baremetal-IDE/shmoo_bench/dsp_conv_bench/src/main.c:66:14: warning: unused variable 'in_len' [-Wunused-variable]\n",
      "   66 |     uint32_t in_len[1] = {16};\n",
      "      |              ^~~~~~\n",
      "/tools/C/tedkim7/sp24-Baremetal-IDE/shmoo_bench/dsp_conv_bench/src/main.c: In function 'main':\n",
      "/tools/C/tedkim7/sp24-Baremetal-IDE/shmoo_bench/dsp_conv_bench/src/main.c:127:14: warning: unused parameter 'argc' [-Wunused-parameter]\n",
      "  127 | int main(int argc, char **argv) {\n",
      "      |          ~~~~^~~~\n",
      "/tools/C/tedkim7/sp24-Baremetal-IDE/shmoo_bench/dsp_conv_bench/src/main.c:127:27: warning: unused parameter 'argv' [-Wunused-parameter]\n",
      "  127 | int main(int argc, char **argv) {\n",
      "      |                    ~~~~~~~^~~~\n"
     ]
    },
    {
     "name": "stdout",
     "output_type": "stream",
     "text": [
      "[100%] \u001b[32m\u001b[1mLinking C executable shmoo_bench.elf\u001b[0m\n"
     ]
    },
    {
     "name": "stderr",
     "output_type": "stream",
     "text": [
      "/bwrcq/C/ee290-fa24-2/.conda-env/riscv-tools/bin/../lib/gcc/riscv64-unknown-elf/13.2.0/../../../../riscv64-unknown-elf/bin/ld: warning: shmoo_bench.elf has a LOAD segment with RWX permissions\n"
     ]
    },
    {
     "name": "stdout",
     "output_type": "stream",
     "text": [
      "gmake[4]: Leaving directory '/bwrcq/C/tedkim7/sp24-Baremetal-IDE/build'\n",
      "[100%] Built target shmoo_bench\n",
      "gmake[3]: Leaving directory '/bwrcq/C/tedkim7/sp24-Baremetal-IDE/build'\n",
      "gmake[2]: Leaving directory '/bwrcq/C/tedkim7/sp24-Baremetal-IDE/build'\n",
      "gmake[1]: Leaving directory '/bwrcq/C/tedkim7/sp24-Baremetal-IDE/build'\n",
      "**Clock set to: 400MHz**\n",
      "**Voltage set to: +5.00000000E-01\n",
      "V**\n"
     ]
    },
    {
     "name": "stderr",
     "output_type": "stream",
     "text": [
      "warning: tohost and fromhost symbols not in ELF; can't communicate with target\n",
      "Writing 14006c with 8\n",
      "Done writing 14006c with 8\n"
     ]
    },
    {
     "name": "stdout",
     "output_type": "stream",
     "text": [
      "Starting UART-based TSI\n",
      "Usage: ./uart_tsi +tty=/dev/pts/xx <PLUSARGS> <bin>\n",
      "       ./uart_tsi +tty=/dev/ttyxx  <PLUSARGS> <bin>\n",
      "       ./uart_tsi +tty=/dev/ttyxx  +no_hart0_msip +init_write=0x80000000:0xdeadbeef none\n",
      "       ./uart_tsi +tty=/dev/ttyxx  +no_hart0_msip +init_read=0x80000000 none\n",
      "       ./uart_tsi +tty=/dev/ttyxx  +selfcheck <bin>\n",
      "       ./uart_tsi +tty=/dev/ttyxx  +baudrate=921600 <bin>\n",
      "Attempting to open TTY at /dev/ttyUSB1\n",
      "Warning: You selected a non-standard baudrate. This will only work if the HW was configured with this baud-rate\n",
      "Checking connection status with /dev/ttyUSB1\n",
      "Connection succeeded\n",
      "Done, shutting down, flushing UART\n",
      "WARNING: You should probably reset the target before running this program again\n",
      "Done: now reset during the sleep before next iteration\n",
      "**Voltage set to: +5.50000000E-01\n",
      "V**\n"
     ]
    },
    {
     "name": "stderr",
     "output_type": "stream",
     "text": [
      "warning: tohost and fromhost symbols not in ELF; can't communicate with target\n",
      "Writing 14006c with 8\n",
      "Done writing 14006c with 8\n"
     ]
    },
    {
     "name": "stdout",
     "output_type": "stream",
     "text": [
      "Starting UART-based TSI\n",
      "Usage: ./uart_tsi +tty=/dev/pts/xx <PLUSARGS> <bin>\n",
      "       ./uart_tsi +tty=/dev/ttyxx  <PLUSARGS> <bin>\n",
      "       ./uart_tsi +tty=/dev/ttyxx  +no_hart0_msip +init_write=0x80000000:0xdeadbeef none\n",
      "       ./uart_tsi +tty=/dev/ttyxx  +no_hart0_msip +init_read=0x80000000 none\n",
      "       ./uart_tsi +tty=/dev/ttyxx  +selfcheck <bin>\n",
      "       ./uart_tsi +tty=/dev/ttyxx  +baudrate=921600 <bin>\n",
      "Attempting to open TTY at /dev/ttyUSB1\n",
      "Warning: You selected a non-standard baudrate. This will only work if the HW was configured with this baud-rate\n",
      "Checking connection status with /dev/ttyUSB1\n",
      "Connection succeeded\n",
      "Done, shutting down, flushing UART\n",
      "WARNING: You should probably reset the target before running this program again\n",
      "Done: now reset during the sleep before next iteration\n",
      "**Voltage set to: +6.00000000E-01\n",
      "V**\n"
     ]
    },
    {
     "name": "stderr",
     "output_type": "stream",
     "text": [
      "warning: tohost and fromhost symbols not in ELF; can't communicate with target\n",
      "Writing 14006c with 8\n",
      "Done writing 14006c with 8\n"
     ]
    },
    {
     "name": "stdout",
     "output_type": "stream",
     "text": [
      "Starting UART-based TSI\n",
      "Usage: ./uart_tsi +tty=/dev/pts/xx <PLUSARGS> <bin>\n",
      "       ./uart_tsi +tty=/dev/ttyxx  <PLUSARGS> <bin>\n",
      "       ./uart_tsi +tty=/dev/ttyxx  +no_hart0_msip +init_write=0x80000000:0xdeadbeef none\n",
      "       ./uart_tsi +tty=/dev/ttyxx  +no_hart0_msip +init_read=0x80000000 none\n",
      "       ./uart_tsi +tty=/dev/ttyxx  +selfcheck <bin>\n",
      "       ./uart_tsi +tty=/dev/ttyxx  +baudrate=921600 <bin>\n",
      "Attempting to open TTY at /dev/ttyUSB1\n",
      "Warning: You selected a non-standard baudrate. This will only work if the HW was configured with this baud-rate\n",
      "Checking connection status with /dev/ttyUSB1\n",
      "Connection succeeded\n",
      "Done, shutting down, flushing UART\n",
      "WARNING: You should probably reset the target before running this program again\n",
      "Done: now reset during the sleep before next iteration\n",
      "**Voltage set to: +6.50000000E-01\n",
      "V**\n"
     ]
    },
    {
     "name": "stderr",
     "output_type": "stream",
     "text": [
      "warning: tohost and fromhost symbols not in ELF; can't communicate with target\n",
      "Writing 14006c with 8\n",
      "Done writing 14006c with 8\n"
     ]
    },
    {
     "name": "stdout",
     "output_type": "stream",
     "text": [
      "Starting UART-based TSI\n",
      "Usage: ./uart_tsi +tty=/dev/pts/xx <PLUSARGS> <bin>\n",
      "       ./uart_tsi +tty=/dev/ttyxx  <PLUSARGS> <bin>\n",
      "       ./uart_tsi +tty=/dev/ttyxx  +no_hart0_msip +init_write=0x80000000:0xdeadbeef none\n",
      "       ./uart_tsi +tty=/dev/ttyxx  +no_hart0_msip +init_read=0x80000000 none\n",
      "       ./uart_tsi +tty=/dev/ttyxx  +selfcheck <bin>\n",
      "       ./uart_tsi +tty=/dev/ttyxx  +baudrate=921600 <bin>\n",
      "Attempting to open TTY at /dev/ttyUSB1\n",
      "Warning: You selected a non-standard baudrate. This will only work if the HW was configured with this baud-rate\n",
      "Checking connection status with /dev/ttyUSB1\n",
      "Connection succeeded\n",
      "Done, shutting down, flushing UART\n",
      "WARNING: You should probably reset the target before running this program again\n",
      "Done: now reset during the sleep before next iteration\n",
      "**Voltage set to: +7.00000000E-01\n",
      "V**\n"
     ]
    },
    {
     "name": "stderr",
     "output_type": "stream",
     "text": [
      "warning: tohost and fromhost symbols not in ELF; can't communicate with target\n",
      "Writing 14006c with 8\n",
      "Done writing 14006c with 8\n"
     ]
    },
    {
     "name": "stdout",
     "output_type": "stream",
     "text": [
      "b'0 4400 4600 4800 4900 4a00 4b00 4c00 4c80 4d00 4d80 4e00 4e80 4f00 4f80 5000 \\r\\n'\n",
      "Starting UART-based TSI\n",
      "Usage: ./uart_tsi +tty=/dev/pts/xx <PLUSARGS> <bin>\n",
      "       ./uart_tsi +tty=/dev/ttyxx  <PLUSARGS> <bin>\n",
      "       ./uart_tsi +tty=/dev/ttyxx  +no_hart0_msip +init_write=0x80000000:0xdeadbeef none\n",
      "       ./uart_tsi +tty=/dev/ttyxx  +no_hart0_msip +init_read=0x80000000 none\n",
      "       ./uart_tsi +tty=/dev/ttyxx  +selfcheck <bin>\n",
      "       ./uart_tsi +tty=/dev/ttyxx  +baudrate=921600 <bin>\n",
      "Attempting to open TTY at /dev/ttyUSB1\n",
      "Warning: You selected a non-standard baudrate. This will only work if the HW was configured with this baud-rate\n",
      "Checking connection status with /dev/ttyUSB1\n",
      "Connection succeeded\n",
      "Done, shutting down, flushing UART\n",
      "WARNING: You should probably reset the target before running this program again\n",
      "Done: now reset during the sleep before next iteration\n",
      "**Voltage set to: +7.50000000E-01\n",
      "V**\n"
     ]
    },
    {
     "name": "stderr",
     "output_type": "stream",
     "text": [
      "warning: tohost and fromhost symbols not in ELF; can't communicate with target\n",
      "Writing 14006c with 8\n",
      "Done writing 14006c with 8\n"
     ]
    },
    {
     "name": "stdout",
     "output_type": "stream",
     "text": [
      "b'0 4400 4600 4800 4900 4a00 4b00 4c00 4c80 4d00 4d80 4e00 4e80 4f00 4f80 5000 \\r\\n'\n",
      "Starting UART-based TSI\n",
      "Usage: ./uart_tsi +tty=/dev/pts/xx <PLUSARGS> <bin>\n",
      "       ./uart_tsi +tty=/dev/ttyxx  <PLUSARGS> <bin>\n",
      "       ./uart_tsi +tty=/dev/ttyxx  +no_hart0_msip +init_write=0x80000000:0xdeadbeef none\n",
      "       ./uart_tsi +tty=/dev/ttyxx  +no_hart0_msip +init_read=0x80000000 none\n",
      "       ./uart_tsi +tty=/dev/ttyxx  +selfcheck <bin>\n",
      "       ./uart_tsi +tty=/dev/ttyxx  +baudrate=921600 <bin>\n",
      "Attempting to open TTY at /dev/ttyUSB1\n",
      "Warning: You selected a non-standard baudrate. This will only work if the HW was configured with this baud-rate\n",
      "Checking connection status with /dev/ttyUSB1\n",
      "Connection succeeded\n",
      "Done, shutting down, flushing UART\n",
      "WARNING: You should probably reset the target before running this program again\n",
      "Done: now reset during the sleep before next iteration\n",
      "**Voltage set to: +8.00000000E-01\n",
      "V**\n"
     ]
    },
    {
     "name": "stderr",
     "output_type": "stream",
     "text": [
      "warning: tohost and fromhost symbols not in ELF; can't communicate with target\n",
      "Writing 14006c with 8\n",
      "Done writing 14006c with 8\n"
     ]
    },
    {
     "name": "stdout",
     "output_type": "stream",
     "text": [
      "b'0 4400 4600 4800 4900 4a00 4b00 4c00 4c80 4d00 4d80 4e00 4e80 4f00 4f80 5000 \\r\\n'\n",
      "Starting UART-based TSI\n",
      "Usage: ./uart_tsi +tty=/dev/pts/xx <PLUSARGS> <bin>\n",
      "       ./uart_tsi +tty=/dev/ttyxx  <PLUSARGS> <bin>\n",
      "       ./uart_tsi +tty=/dev/ttyxx  +no_hart0_msip +init_write=0x80000000:0xdeadbeef none\n",
      "       ./uart_tsi +tty=/dev/ttyxx  +no_hart0_msip +init_read=0x80000000 none\n",
      "       ./uart_tsi +tty=/dev/ttyxx  +selfcheck <bin>\n",
      "       ./uart_tsi +tty=/dev/ttyxx  +baudrate=921600 <bin>\n",
      "Attempting to open TTY at /dev/ttyUSB1\n",
      "Warning: You selected a non-standard baudrate. This will only work if the HW was configured with this baud-rate\n",
      "Checking connection status with /dev/ttyUSB1\n",
      "Connection succeeded\n",
      "Done, shutting down, flushing UART\n",
      "WARNING: You should probably reset the target before running this program again\n",
      "Done: now reset during the sleep before next iteration\n",
      "**Voltage set to: +8.50000000E-01\n",
      "V**\n"
     ]
    },
    {
     "name": "stderr",
     "output_type": "stream",
     "text": [
      "warning: tohost and fromhost symbols not in ELF; can't communicate with target\n",
      "Writing 14006c with 8\n",
      "Done writing 14006c with 8\n"
     ]
    },
    {
     "name": "stdout",
     "output_type": "stream",
     "text": [
      "b'0 4400 4600 4800 4900 4a00 4b00 4c00 4c80 4d00 4d80 4e00 4e80 4f00 4f80 5000 \\r\\n'\n",
      "Starting UART-based TSI\n",
      "Usage: ./uart_tsi +tty=/dev/pts/xx <PLUSARGS> <bin>\n",
      "       ./uart_tsi +tty=/dev/ttyxx  <PLUSARGS> <bin>\n",
      "       ./uart_tsi +tty=/dev/ttyxx  +no_hart0_msip +init_write=0x80000000:0xdeadbeef none\n",
      "       ./uart_tsi +tty=/dev/ttyxx  +no_hart0_msip +init_read=0x80000000 none\n",
      "       ./uart_tsi +tty=/dev/ttyxx  +selfcheck <bin>\n",
      "       ./uart_tsi +tty=/dev/ttyxx  +baudrate=921600 <bin>\n",
      "Attempting to open TTY at /dev/ttyUSB1\n",
      "Warning: You selected a non-standard baudrate. This will only work if the HW was configured with this baud-rate\n",
      "Checking connection status with /dev/ttyUSB1\n",
      "Connection succeeded\n",
      "Done, shutting down, flushing UART\n",
      "WARNING: You should probably reset the target before running this program again\n",
      "Done: now reset during the sleep before next iteration\n",
      "**Voltage set to: +9.00000000E-01\n",
      "V**\n"
     ]
    },
    {
     "name": "stderr",
     "output_type": "stream",
     "text": [
      "warning: tohost and fromhost symbols not in ELF; can't communicate with target\n",
      "Writing 14006c with 8\n",
      "Done writing 14006c with 8\n"
     ]
    },
    {
     "name": "stdout",
     "output_type": "stream",
     "text": [
      "b'0 4400 4600 4800 4900 4a00 4b00 4c00 4c80 4d00 4d80 4e00 4e80 4f00 4f80 5000 \\r\\n'\n",
      "Starting UART-based TSI\n",
      "Usage: ./uart_tsi +tty=/dev/pts/xx <PLUSARGS> <bin>\n",
      "       ./uart_tsi +tty=/dev/ttyxx  <PLUSARGS> <bin>\n",
      "       ./uart_tsi +tty=/dev/ttyxx  +no_hart0_msip +init_write=0x80000000:0xdeadbeef none\n",
      "       ./uart_tsi +tty=/dev/ttyxx  +no_hart0_msip +init_read=0x80000000 none\n",
      "       ./uart_tsi +tty=/dev/ttyxx  +selfcheck <bin>\n",
      "       ./uart_tsi +tty=/dev/ttyxx  +baudrate=921600 <bin>\n",
      "Attempting to open TTY at /dev/ttyUSB1\n",
      "Warning: You selected a non-standard baudrate. This will only work if the HW was configured with this baud-rate\n",
      "Checking connection status with /dev/ttyUSB1\n",
      "Connection succeeded\n",
      "Done, shutting down, flushing UART\n",
      "WARNING: You should probably reset the target before running this program again\n",
      "Done: now reset during the sleep before next iteration\n",
      "**Voltage set to: +9.50000000E-01\n",
      "V**\n"
     ]
    },
    {
     "name": "stderr",
     "output_type": "stream",
     "text": [
      "warning: tohost and fromhost symbols not in ELF; can't communicate with target\n",
      "Writing 14006c with 8\n",
      "Done writing 14006c with 8\n"
     ]
    },
    {
     "name": "stdout",
     "output_type": "stream",
     "text": [
      "b'0 4400 4600 4800 4900 4a00 4b00 4c00 4c80 4d00 4d80 4e00 4e80 4f00 4f80 5000 \\r\\n'\n",
      "Starting UART-based TSI\n",
      "Usage: ./uart_tsi +tty=/dev/pts/xx <PLUSARGS> <bin>\n",
      "       ./uart_tsi +tty=/dev/ttyxx  <PLUSARGS> <bin>\n",
      "       ./uart_tsi +tty=/dev/ttyxx  +no_hart0_msip +init_write=0x80000000:0xdeadbeef none\n",
      "       ./uart_tsi +tty=/dev/ttyxx  +no_hart0_msip +init_read=0x80000000 none\n",
      "       ./uart_tsi +tty=/dev/ttyxx  +selfcheck <bin>\n",
      "       ./uart_tsi +tty=/dev/ttyxx  +baudrate=921600 <bin>\n",
      "Attempting to open TTY at /dev/ttyUSB1\n",
      "Warning: You selected a non-standard baudrate. This will only work if the HW was configured with this baud-rate\n",
      "Checking connection status with /dev/ttyUSB1\n",
      "Connection succeeded\n",
      "Done, shutting down, flushing UART\n",
      "WARNING: You should probably reset the target before running this program again\n",
      "Done: now reset during the sleep before next iteration\n",
      "**Voltage set to: +1.00000000E+00\n",
      "V**\n"
     ]
    },
    {
     "name": "stderr",
     "output_type": "stream",
     "text": [
      "warning: tohost and fromhost symbols not in ELF; can't communicate with target\n",
      "Writing 14006c with 8\n",
      "Done writing 14006c with 8\n"
     ]
    },
    {
     "name": "stdout",
     "output_type": "stream",
     "text": [
      "b'0 4400 4600 4800 4900 4a00 4b00 4c00 4c80 4d00 4d80 4e00 4e80 4f00 4f80 5000 \\r\\n'\n",
      "Starting UART-based TSI\n",
      "Usage: ./uart_tsi +tty=/dev/pts/xx <PLUSARGS> <bin>\n",
      "       ./uart_tsi +tty=/dev/ttyxx  <PLUSARGS> <bin>\n",
      "       ./uart_tsi +tty=/dev/ttyxx  +no_hart0_msip +init_write=0x80000000:0xdeadbeef none\n",
      "       ./uart_tsi +tty=/dev/ttyxx  +no_hart0_msip +init_read=0x80000000 none\n",
      "       ./uart_tsi +tty=/dev/ttyxx  +selfcheck <bin>\n",
      "       ./uart_tsi +tty=/dev/ttyxx  +baudrate=921600 <bin>\n",
      "Attempting to open TTY at /dev/ttyUSB1\n",
      "Warning: You selected a non-standard baudrate. This will only work if the HW was configured with this baud-rate\n",
      "Checking connection status with /dev/ttyUSB1\n",
      "Connection succeeded\n",
      "Done, shutting down, flushing UART\n",
      "WARNING: You should probably reset the target before running this program again\n",
      "Done: now reset during the sleep before next iteration\n",
      "**Voltage set to: +1.05000000E+00\n",
      "V**\n"
     ]
    },
    {
     "name": "stderr",
     "output_type": "stream",
     "text": [
      "warning: tohost and fromhost symbols not in ELF; can't communicate with target\n",
      "Writing 14006c with 8\n",
      "Done writing 14006c with 8\n"
     ]
    },
    {
     "name": "stdout",
     "output_type": "stream",
     "text": [
      "b'0 4400 4600 4800 4900 4a00 4b00 4c00 4c80 4d00 4d80 4e00 4e80 4f00 4f80 5000 \\r\\n'\n",
      "Starting UART-based TSI\n",
      "Usage: ./uart_tsi +tty=/dev/pts/xx <PLUSARGS> <bin>\n",
      "       ./uart_tsi +tty=/dev/ttyxx  <PLUSARGS> <bin>\n",
      "       ./uart_tsi +tty=/dev/ttyxx  +no_hart0_msip +init_write=0x80000000:0xdeadbeef none\n",
      "       ./uart_tsi +tty=/dev/ttyxx  +no_hart0_msip +init_read=0x80000000 none\n",
      "       ./uart_tsi +tty=/dev/ttyxx  +selfcheck <bin>\n",
      "       ./uart_tsi +tty=/dev/ttyxx  +baudrate=921600 <bin>\n",
      "Attempting to open TTY at /dev/ttyUSB1\n",
      "Warning: You selected a non-standard baudrate. This will only work if the HW was configured with this baud-rate\n",
      "Checking connection status with /dev/ttyUSB1\n",
      "Connection succeeded\n",
      "Done, shutting down, flushing UART\n",
      "WARNING: You should probably reset the target before running this program again\n",
      "Done: now reset during the sleep before next iteration\n",
      "**Voltage set to: +1.10000000E+00\n",
      "V**\n"
     ]
    },
    {
     "name": "stderr",
     "output_type": "stream",
     "text": [
      "warning: tohost and fromhost symbols not in ELF; can't communicate with target\n",
      "Writing 14006c with 8\n",
      "Done writing 14006c with 8\n"
     ]
    },
    {
     "name": "stdout",
     "output_type": "stream",
     "text": [
      "b'0 4400 4600 4800 4900 4a00 4b00 4c00 4c80 4d00 4d80 4e00 4e80 4f00 4f80 5000 \\r\\n'\n",
      "Starting UART-based TSI\n",
      "Usage: ./uart_tsi +tty=/dev/pts/xx <PLUSARGS> <bin>\n",
      "       ./uart_tsi +tty=/dev/ttyxx  <PLUSARGS> <bin>\n",
      "       ./uart_tsi +tty=/dev/ttyxx  +no_hart0_msip +init_write=0x80000000:0xdeadbeef none\n",
      "       ./uart_tsi +tty=/dev/ttyxx  +no_hart0_msip +init_read=0x80000000 none\n",
      "       ./uart_tsi +tty=/dev/ttyxx  +selfcheck <bin>\n",
      "       ./uart_tsi +tty=/dev/ttyxx  +baudrate=921600 <bin>\n",
      "Attempting to open TTY at /dev/ttyUSB1\n",
      "Warning: You selected a non-standard baudrate. This will only work if the HW was configured with this baud-rate\n",
      "Checking connection status with /dev/ttyUSB1\n",
      "Connection succeeded\n",
      "Done, shutting down, flushing UART\n",
      "WARNING: You should probably reset the target before running this program again\n",
      "Done: now reset during the sleep before next iteration\n",
      "**Voltage set to: +1.15000000E+00\n",
      "V**\n"
     ]
    },
    {
     "name": "stderr",
     "output_type": "stream",
     "text": [
      "warning: tohost and fromhost symbols not in ELF; can't communicate with target\n",
      "Writing 14006c with 8\n",
      "Done writing 14006c with 8\n"
     ]
    },
    {
     "name": "stdout",
     "output_type": "stream",
     "text": [
      "b'0 4400 4600 4800 4900 4a00 4b00 4c00 4c80 4d00 4d80 4e00 4e80 4f00 4f80 5000 \\r\\n'\n",
      "Starting UART-based TSI\n",
      "Usage: ./uart_tsi +tty=/dev/pts/xx <PLUSARGS> <bin>\n",
      "       ./uart_tsi +tty=/dev/ttyxx  <PLUSARGS> <bin>\n",
      "       ./uart_tsi +tty=/dev/ttyxx  +no_hart0_msip +init_write=0x80000000:0xdeadbeef none\n",
      "       ./uart_tsi +tty=/dev/ttyxx  +no_hart0_msip +init_read=0x80000000 none\n",
      "       ./uart_tsi +tty=/dev/ttyxx  +selfcheck <bin>\n",
      "       ./uart_tsi +tty=/dev/ttyxx  +baudrate=921600 <bin>\n",
      "Attempting to open TTY at /dev/ttyUSB1\n",
      "Warning: You selected a non-standard baudrate. This will only work if the HW was configured with this baud-rate\n",
      "Checking connection status with /dev/ttyUSB1\n",
      "Connection succeeded\n",
      "Done, shutting down, flushing UART\n",
      "WARNING: You should probably reset the target before running this program again\n",
      "Done: now reset during the sleep before next iteration\n",
      "**Voltage set to: +1.20000000E+00\n",
      "V**\n"
     ]
    },
    {
     "name": "stderr",
     "output_type": "stream",
     "text": [
      "warning: tohost and fromhost symbols not in ELF; can't communicate with target\n",
      "Writing 14006c with 8\n",
      "Done writing 14006c with 8\n"
     ]
    },
    {
     "name": "stdout",
     "output_type": "stream",
     "text": [
      "b'0 4400 4600 4800 4900 4a00 4b00 4c00 4c80 4d00 4d80 4e00 4e80 4f00 4f80 5000 \\r\\n'\n",
      "Starting UART-based TSI\n",
      "Usage: ./uart_tsi +tty=/dev/pts/xx <PLUSARGS> <bin>\n",
      "       ./uart_tsi +tty=/dev/ttyxx  <PLUSARGS> <bin>\n",
      "       ./uart_tsi +tty=/dev/ttyxx  +no_hart0_msip +init_write=0x80000000:0xdeadbeef none\n",
      "       ./uart_tsi +tty=/dev/ttyxx  +no_hart0_msip +init_read=0x80000000 none\n",
      "       ./uart_tsi +tty=/dev/ttyxx  +selfcheck <bin>\n",
      "       ./uart_tsi +tty=/dev/ttyxx  +baudrate=921600 <bin>\n",
      "Attempting to open TTY at /dev/ttyUSB1\n",
      "Warning: You selected a non-standard baudrate. This will only work if the HW was configured with this baud-rate\n",
      "Checking connection status with /dev/ttyUSB1\n",
      "Connection succeeded\n",
      "Done, shutting down, flushing UART\n",
      "WARNING: You should probably reset the target before running this program again\n",
      "Done: now reset during the sleep before next iteration\n",
      "rm -rf build\n",
      "cmake -S ./ -B ./build/ -D CMAKE_TOOLCHAIN_FILE=./riscv-gcc.cmake -DCHIP=dsp24\n",
      "-- The ASM compiler identification is GNU\n",
      "-- Found assembler: /tools/C/ee290-fa24-2/.conda-env/riscv-tools/bin/riscv64-unknown-elf-gcc\n",
      "-- The C compiler identification is GNU 13.2.0\n",
      "-- The CXX compiler identification is GNU 13.2.0\n",
      "-- Detecting C compiler ABI info\n",
      "-- Detecting C compiler ABI info - done\n",
      "-- Check for working C compiler: /tools/C/ee290-fa24-2/.conda-env/riscv-tools/bin/riscv64-unknown-elf-gcc - skipped\n",
      "-- Detecting C compile features\n",
      "-- Detecting C compile features - done\n",
      "-- Detecting CXX compiler ABI info\n",
      "-- Detecting CXX compiler ABI info - done\n",
      "-- Check for working CXX compiler: /tools/C/ee290-fa24-2/.conda-env/riscv-tools/bin/riscv64-unknown-elf-g++ - skipped\n",
      "-- Detecting CXX compile features\n",
      "-- Detecting CXX compile features - done\n",
      "-- Including HTIF to target\n",
      "-- Including CLINT to target\n",
      "-- ================ Glossy config ================\n",
      "--  Building for CHIP: \"dsp24\"\n",
      "--  Reading config from \"/tools/C/tedkim7/sp24-Baremetal-IDE/platform/dsp24/CMakeLists.txt\"\n",
      "--  Terminal Device: UART0\n",
      "--  Linker Script: /tools/C/tedkim7/sp24-Baremetal-IDE/platform/dsp24/dsp24.ld\n",
      "-- ===============================================\n",
      "-- Configuring done (3.3s)\n",
      "-- Generating done (1.4s)\n",
      "-- Build files have been written to: /tools/C/tedkim7/sp24-Baremetal-IDE/build\n",
      "cmake --build ./build/ --target shmoo_bench\n",
      "gmake[1]: Entering directory '/bwrcq/C/tedkim7/sp24-Baremetal-IDE/build'\n",
      "gmake[2]: Entering directory '/bwrcq/C/tedkim7/sp24-Baremetal-IDE/build'\n",
      "gmake[3]: Entering directory '/bwrcq/C/tedkim7/sp24-Baremetal-IDE/build'\n",
      "gmake[4]: Entering directory '/bwrcq/C/tedkim7/sp24-Baremetal-IDE/build'\n",
      "gmake[4]: Leaving directory '/bwrcq/C/tedkim7/sp24-Baremetal-IDE/build'\n",
      "gmake[4]: Entering directory '/bwrcq/C/tedkim7/sp24-Baremetal-IDE/build'\n",
      "[  2%] \u001b[32mBuilding C object driver/rocket-chip-blocks/uart/CMakeFiles/uart.dir/uart.c.obj\u001b[0m\n"
     ]
    },
    {
     "name": "stderr",
     "output_type": "stream",
     "text": [
      "/tools/C/tedkim7/sp24-Baremetal-IDE/driver/rocket-chip-blocks/uart/uart.c: In function 'uart_receive':\n",
      "/tools/C/tedkim7/sp24-Baremetal-IDE/driver/rocket-chip-blocks/uart/uart.c:35:78: warning: unused parameter 'timeout' [-Wunused-parameter]\n",
      "   35 | Status uart_receive(UART_Type *UARTx, uint8_t *data, uint16_t size, uint32_t timeout) {\n",
      "      |                                                                     ~~~~~~~~~^~~~~~~\n",
      "/tools/C/tedkim7/sp24-Baremetal-IDE/driver/rocket-chip-blocks/uart/uart.c: In function 'uart_transmit':\n",
      "/tools/C/tedkim7/sp24-Baremetal-IDE/driver/rocket-chip-blocks/uart/uart.c:50:85: warning: unused parameter 'timeout' [-Wunused-parameter]\n",
      "   50 | Status uart_transmit(UART_Type *UARTx, const uint8_t *data, uint16_t size, uint32_t timeout) {\n",
      "      |                                                                            ~~~~~~~~~^~~~~~~\n"
     ]
    },
    {
     "name": "stdout",
     "output_type": "stream",
     "text": [
      "[  5%] \u001b[32m\u001b[1mLinking C static library libuart.a\u001b[0m\n",
      "gmake[4]: Leaving directory '/bwrcq/C/tedkim7/sp24-Baremetal-IDE/build'\n",
      "[  5%] Built target uart\n",
      "gmake[4]: Entering directory '/bwrcq/C/tedkim7/sp24-Baremetal-IDE/build'\n",
      "gmake[4]: Leaving directory '/bwrcq/C/tedkim7/sp24-Baremetal-IDE/build'\n",
      "gmake[4]: Entering directory '/bwrcq/C/tedkim7/sp24-Baremetal-IDE/build'\n",
      "[  7%] \u001b[32mBuilding C object driver/intel/pll/CMakeFiles/intel-pll.dir/pll.c.obj\u001b[0m\n",
      "[ 10%] \u001b[32m\u001b[1mLinking C static library libintel-pll.a\u001b[0m\n",
      "gmake[4]: Leaving directory '/bwrcq/C/tedkim7/sp24-Baremetal-IDE/build'\n",
      "[ 10%] Built target intel-pll\n",
      "gmake[4]: Entering directory '/bwrcq/C/tedkim7/sp24-Baremetal-IDE/build'\n",
      "gmake[4]: Leaving directory '/bwrcq/C/tedkim7/sp24-Baremetal-IDE/build'\n",
      "gmake[4]: Entering directory '/bwrcq/C/tedkim7/sp24-Baremetal-IDE/build'\n",
      "[ 12%] \u001b[32mBuilding C object driver/rocket-chip/clint/CMakeFiles/clint.dir/clint.c.obj\u001b[0m\n",
      "[ 15%] \u001b[32m\u001b[1mLinking C static library libclint.a\u001b[0m\n",
      "gmake[4]: Leaving directory '/bwrcq/C/tedkim7/sp24-Baremetal-IDE/build'\n",
      "[ 15%] Built target clint\n",
      "gmake[4]: Entering directory '/bwrcq/C/tedkim7/sp24-Baremetal-IDE/build'\n",
      "gmake[4]: Leaving directory '/bwrcq/C/tedkim7/sp24-Baremetal-IDE/build'\n",
      "gmake[4]: Entering directory '/bwrcq/C/tedkim7/sp24-Baremetal-IDE/build'\n",
      "[ 17%] \u001b[32mBuilding C object driver/rocket-chip/rocketcore/CMakeFiles/rocketcore.dir/rocketcore.c.obj\u001b[0m\n",
      "[ 20%] \u001b[32m\u001b[1mLinking C static library librocketcore.a\u001b[0m\n",
      "gmake[4]: Leaving directory '/bwrcq/C/tedkim7/sp24-Baremetal-IDE/build'\n",
      "[ 20%] Built target rocketcore\n",
      "gmake[4]: Entering directory '/bwrcq/C/tedkim7/sp24-Baremetal-IDE/build'\n",
      "gmake[4]: Leaving directory '/bwrcq/C/tedkim7/sp24-Baremetal-IDE/build'\n",
      "gmake[4]: Entering directory '/bwrcq/C/tedkim7/sp24-Baremetal-IDE/build'\n",
      "[ 23%] \u001b[32mBuilding C object driver/rocket-chip-blocks/i2c/CMakeFiles/i2c.dir/i2c.c.obj\u001b[0m\n"
     ]
    },
    {
     "name": "stderr",
     "output_type": "stream",
     "text": [
      "/tools/C/tedkim7/sp24-Baremetal-IDE/driver/rocket-chip-blocks/i2c/i2c.c: In function 'i2c_init':\n",
      "/tools/C/tedkim7/sp24-Baremetal-IDE/driver/rocket-chip-blocks/i2c/i2c.c:13:45: warning: unused parameter 'I2C_init' [-Wunused-parameter]\n",
      "   13 | void i2c_init(I2C_Type *I2Cx, I2C_InitType *I2C_init) {\n",
      "      |                               ~~~~~~~~~~~~~~^~~~~~~~\n",
      "/tools/C/tedkim7/sp24-Baremetal-IDE/driver/rocket-chip-blocks/i2c/i2c.c: In function 'i2c_wait_for_flag':\n",
      "/tools/C/tedkim7/sp24-Baremetal-IDE/driver/rocket-chip-blocks/i2c/i2c.c:30:9: warning: implicit declaration of function 'CLINT_getTime' [-Wimplicit-function-declaration]\n",
      "   30 |     if (CLINT_getTime() > (timestart + timeout)) {\n",
      "      |         ^~~~~~~~~~~~~\n",
      "/tools/C/tedkim7/sp24-Baremetal-IDE/driver/rocket-chip-blocks/i2c/i2c.c:30:25: warning: comparison of integer expressions of different signedness: 'int' and 'uint32_t' {aka 'unsigned int'} [-Wsign-compare]\n",
      "   30 |     if (CLINT_getTime() > (timestart + timeout)) {\n",
      "      |                         ^\n",
      "/tools/C/tedkim7/sp24-Baremetal-IDE/driver/rocket-chip-blocks/i2c/i2c.c: In function 'i2c_master_receive':\n",
      "/tools/C/tedkim7/sp24-Baremetal-IDE/driver/rocket-chip-blocks/i2c/i2c.c:53:24: warning: implicit declaration of function 'clint_get_time' [-Wimplicit-function-declaration]\n",
      "   53 |   uint64_t timestart = clint_get_time();\n",
      "      |                        ^~~~~~~~~~~~~~\n",
      "/tools/C/tedkim7/sp24-Baremetal-IDE/driver/rocket-chip-blocks/i2c/i2c.c: In function 'i2c_wait_for_transaction':\n",
      "/tools/C/tedkim7/sp24-Baremetal-IDE/driver/rocket-chip-blocks/i2c/i2c.c:50:1: warning: control reaches end of non-void function [-Wreturn-type]\n",
      "   50 | }\n",
      "      | ^\n"
     ]
    },
    {
     "name": "stdout",
     "output_type": "stream",
     "text": [
      "[ 25%] \u001b[32m\u001b[1mLinking C static library libi2c.a\u001b[0m\n",
      "gmake[4]: Leaving directory '/bwrcq/C/tedkim7/sp24-Baremetal-IDE/build'\n",
      "[ 25%] Built target i2c\n",
      "gmake[4]: Entering directory '/bwrcq/C/tedkim7/sp24-Baremetal-IDE/build'\n",
      "gmake[4]: Leaving directory '/bwrcq/C/tedkim7/sp24-Baremetal-IDE/build'\n",
      "gmake[4]: Entering directory '/bwrcq/C/tedkim7/sp24-Baremetal-IDE/build'\n",
      "[ 28%] \u001b[32mBuilding C object driver/rocket-chip-blocks/spi/CMakeFiles/spi.dir/spi.c.obj\u001b[0m\n"
     ]
    },
    {
     "name": "stderr",
     "output_type": "stream",
     "text": [
      "/tools/C/tedkim7/sp24-Baremetal-IDE/driver/rocket-chip-blocks/spi/spi.c: In function 'spi_receive':\n",
      "/tools/C/tedkim7/sp24-Baremetal-IDE/driver/rocket-chip-blocks/spi/spi.c:56:75: warning: unused parameter 'timeout' [-Wunused-parameter]\n",
      "   56 | Status spi_receive(SPI_Type *SPIx, uint8_t *data, uint16_t size, uint64_t timeout) {\n",
      "      |                                                                  ~~~~~~~~~^~~~~~~\n",
      "/tools/C/tedkim7/sp24-Baremetal-IDE/driver/rocket-chip-blocks/spi/spi.c: In function 'spi_transmit':\n",
      "/tools/C/tedkim7/sp24-Baremetal-IDE/driver/rocket-chip-blocks/spi/spi.c:68:76: warning: unused parameter 'timeout' [-Wunused-parameter]\n",
      "   68 | Status spi_transmit(SPI_Type *SPIx, uint8_t *data, uint16_t size, uint64_t timeout) {\n",
      "      |                                                                   ~~~~~~~~~^~~~~~~\n",
      "/tools/C/tedkim7/sp24-Baremetal-IDE/driver/rocket-chip-blocks/spi/spi.c: In function 'spi_transmit_receive':\n",
      "/tools/C/tedkim7/sp24-Baremetal-IDE/driver/rocket-chip-blocks/spi/spi.c:80:105: warning: unused parameter 'timeout' [-Wunused-parameter]\n",
      "   80 | Status spi_transmit_receive(SPI_Type *SPIx, uint8_t *tx_data, uint8_t *rx_data, uint16_t size, uint64_t timeout) {\n",
      "      |                                                                                                ~~~~~~~~~^~~~~~~\n"
     ]
    },
    {
     "name": "stdout",
     "output_type": "stream",
     "text": [
      "[ 30%] \u001b[32m\u001b[1mLinking C static library libspi.a\u001b[0m\n",
      "gmake[4]: Leaving directory '/bwrcq/C/tedkim7/sp24-Baremetal-IDE/build'\n",
      "[ 30%] Built target spi\n",
      "gmake[4]: Entering directory '/bwrcq/C/tedkim7/sp24-Baremetal-IDE/build'\n",
      "gmake[4]: Leaving directory '/bwrcq/C/tedkim7/sp24-Baremetal-IDE/build'\n",
      "gmake[4]: Entering directory '/bwrcq/C/tedkim7/sp24-Baremetal-IDE/build'\n",
      "[ 33%] \u001b[32mBuilding C object platform/dsp24/CMakeFiles/chip-config.dir/chip.c.obj\u001b[0m\n",
      "[ 35%] \u001b[32mBuilding C object platform/dsp24/CMakeFiles/chip-config.dir/src/hal_DMA.c.obj\u001b[0m\n"
     ]
    },
    {
     "name": "stderr",
     "output_type": "stream",
     "text": [
      "/tools/C/tedkim7/sp24-Baremetal-IDE/platform/dsp24/src/hal_DMA.c: In function 'set_DMAP':\n",
      "/tools/C/tedkim7/sp24-Baremetal-IDE/platform/dsp24/src/hal_DMA.c:24:53: warning: passing argument 2 of 'reg_write64' makes integer from pointer without a cast [-Wint-conversion]\n",
      "   24 |     reg_write64(DMA_SET_READ + num*DMA_MMIO_Offset, addr_r);\n",
      "      |                                                     ^~~~~~\n",
      "      |                                                     |\n",
      "      |                                                     uint64_t * {aka long unsigned int *}\n",
      "In file included from /tools/C/tedkim7/sp24-Baremetal-IDE/platform/dsp24/inc/hal_DMA.h:10,\n",
      "                 from /tools/C/tedkim7/sp24-Baremetal-IDE/platform/dsp24/src/hal_DMA.c:1:\n",
      "/tools/C/tedkim7/sp24-Baremetal-IDE/platform/dsp24/inc/hal_mmio.h:23:47: note: expected 'uint64_t' {aka 'long unsigned int'} but argument is of type 'uint64_t *' {aka 'long unsigned int *'}\n",
      "   23 | void reg_write64(unsigned long addr, uint64_t data);\n",
      "      |                                      ~~~~~~~~~^~~~\n",
      "/tools/C/tedkim7/sp24-Baremetal-IDE/platform/dsp24/src/hal_DMA.c:25:54: warning: passing argument 2 of 'reg_write64' makes integer from pointer without a cast [-Wint-conversion]\n",
      "   25 |     reg_write64(DMA_SET_WRITE + num*DMA_MMIO_Offset, addr_w);\n",
      "      |                                                      ^~~~~~\n",
      "      |                                                      |\n",
      "      |                                                      uint64_t * {aka long unsigned int *}\n",
      "/tools/C/tedkim7/sp24-Baremetal-IDE/platform/dsp24/inc/hal_mmio.h:23:47: note: expected 'uint64_t' {aka 'long unsigned int'} but argument is of type 'uint64_t *' {aka 'long unsigned int *'}\n",
      "   23 | void reg_write64(unsigned long addr, uint64_t data);\n",
      "      |                                      ~~~~~~~~~^~~~\n",
      "/tools/C/tedkim7/sp24-Baremetal-IDE/platform/dsp24/src/hal_DMA.c:26:50: warning: passing argument 2 of 'reg_write64' makes integer from pointer without a cast [-Wint-conversion]\n",
      "   26 |     reg_write64(DMA_SET_C + num*DMA_MMIO_Offset, addr_c);\n",
      "      |                                                  ^~~~~~\n",
      "      |                                                  |\n",
      "      |                                                  uint64_t * {aka long unsigned int *}\n",
      "/tools/C/tedkim7/sp24-Baremetal-IDE/platform/dsp24/inc/hal_mmio.h:23:47: note: expected 'uint64_t' {aka 'long unsigned int'} but argument is of type 'uint64_t *' {aka 'long unsigned int *'}\n",
      "   23 | void reg_write64(unsigned long addr, uint64_t data);\n",
      "      |                                      ~~~~~~~~~^~~~\n"
     ]
    },
    {
     "name": "stdout",
     "output_type": "stream",
     "text": [
      "[ 38%] \u001b[32mBuilding C object platform/dsp24/CMakeFiles/chip-config.dir/src/hal_I2S.c.obj\u001b[0m\n"
     ]
    },
    {
     "name": "stderr",
     "output_type": "stream",
     "text": [
      "/tools/C/tedkim7/sp24-Baremetal-IDE/platform/dsp24/src/hal_I2S.c: In function 'write_I2S_tx_DMA':\n",
      "/tools/C/tedkim7/sp24-Baremetal-IDE/platform/dsp24/src/hal_I2S.c:49:9: warning: implicit declaration of function 'printf' [-Wimplicit-function-declaration]\n",
      "   49 |         printf(\"Writing to left queue\\n\");\n",
      "      |         ^~~~~~\n",
      "/tools/C/tedkim7/sp24-Baremetal-IDE/platform/dsp24/src/hal_I2S.c:3:1: note: include '<stdio.h>' or provide a declaration of 'printf'\n",
      "    2 | #include  \"hal_mmio.h\"\n",
      "  +++ |+#include <stdio.h>\n",
      "    3 | \n",
      "/tools/C/tedkim7/sp24-Baremetal-IDE/platform/dsp24/src/hal_I2S.c:49:9: warning: incompatible implicit declaration of built-in function 'printf' [-Wbuiltin-declaration-mismatch]\n",
      "   49 |         printf(\"Writing to left queue\\n\");\n",
      "      |         ^~~~~~\n",
      "/tools/C/tedkim7/sp24-Baremetal-IDE/platform/dsp24/src/hal_I2S.c:49:9: note: include '<stdio.h>' or provide a declaration of 'printf'\n",
      "In file included from /tools/C/tedkim7/sp24-Baremetal-IDE/platform/dsp24/src/hal_I2S.c:1:\n",
      "/tools/C/tedkim7/sp24-Baremetal-IDE/platform/dsp24/inc/hal_I2S.h:13:37: warning: passing argument 3 of 'set_DMAP' makes pointer from integer without a cast [-Wint-conversion]\n",
      "   13 | #define I2S_BASE                    0x10042000U\n",
      "      |                                     ^\n",
      "      |                                     |\n",
      "      |                                     unsigned int\n",
      "/tools/C/tedkim7/sp24-Baremetal-IDE/platform/dsp24/inc/hal_I2S.h:26:37: note: in expansion of macro 'I2S_BASE'\n",
      "   26 | #define I2S_TX_L                    I2S_BASE + 0x20\n",
      "      |                                     ^~~~~~~~\n",
      "/tools/C/tedkim7/sp24-Baremetal-IDE/platform/dsp24/src/hal_I2S.c:50:38: note: in expansion of macro 'I2S_TX_L'\n",
      "   50 |         set_DMAP(dma_num, read_addr, I2S_TX_L, I2S_WATERMARK_TX_L, 8, 0, length, 3, poll);\n",
      "      |                                      ^~~~~~~~\n",
      "In file included from /tools/C/tedkim7/sp24-Baremetal-IDE/platform/dsp24/inc/hal_I2S.h:9:\n",
      "/tools/C/tedkim7/sp24-Baremetal-IDE/platform/dsp24/inc/hal_DMA.h:37:57: note: expected 'uint64_t *' {aka 'long unsigned int *'} but argument is of type 'unsigned int'\n",
      "   37 | void set_DMAP(uint32_t num, uint64_t* addr_r, uint64_t* addr_w, uint64_t* addr_c, uint16_t inc_r, uint16_t inc_w, uint16_t len, uint8_t logd, uint32_t count);\n",
      "      |                                               ~~~~~~~~~~^~~~~~\n",
      "/tools/C/tedkim7/sp24-Baremetal-IDE/platform/dsp24/inc/hal_I2S.h:13:37: warning: passing argument 4 of 'set_DMAP' makes pointer from integer without a cast [-Wint-conversion]\n",
      "   13 | #define I2S_BASE                    0x10042000U\n",
      "      |                                     ^\n",
      "      |                                     |\n",
      "      |                                     unsigned int\n",
      "/tools/C/tedkim7/sp24-Baremetal-IDE/platform/dsp24/inc/hal_I2S.h:18:37: note: in expansion of macro 'I2S_BASE'\n",
      "   18 | #define I2S_WATERMARK_TX_L          I2S_BASE + 0x100\n",
      "      |                                     ^~~~~~~~\n",
      "/tools/C/tedkim7/sp24-Baremetal-IDE/platform/dsp24/src/hal_I2S.c:50:48: note: in expansion of macro 'I2S_WATERMARK_TX_L'\n",
      "   50 |         set_DMAP(dma_num, read_addr, I2S_TX_L, I2S_WATERMARK_TX_L, 8, 0, length, 3, poll);\n",
      "      |                                                ^~~~~~~~~~~~~~~~~~\n",
      "/tools/C/tedkim7/sp24-Baremetal-IDE/platform/dsp24/inc/hal_DMA.h:37:75: note: expected 'uint64_t *' {aka 'long unsigned int *'} but argument is of type 'unsigned int'\n",
      "   37 | void set_DMAP(uint32_t num, uint64_t* addr_r, uint64_t* addr_w, uint64_t* addr_c, uint16_t inc_r, uint16_t inc_w, uint16_t len, uint8_t logd, uint32_t count);\n",
      "      |                                                                 ~~~~~~~~~~^~~~~~\n",
      "/tools/C/tedkim7/sp24-Baremetal-IDE/platform/dsp24/src/hal_I2S.c:52:9: warning: incompatible implicit declaration of built-in function 'printf' [-Wbuiltin-declaration-mismatch]\n",
      "   52 |         printf(\"Writing to right queue\\n\");\n",
      "      |         ^~~~~~\n",
      "/tools/C/tedkim7/sp24-Baremetal-IDE/platform/dsp24/src/hal_I2S.c:52:9: note: include '<stdio.h>' or provide a declaration of 'printf'\n",
      "/tools/C/tedkim7/sp24-Baremetal-IDE/platform/dsp24/inc/hal_I2S.h:13:37: warning: passing argument 3 of 'set_DMAP' makes pointer from integer without a cast [-Wint-conversion]\n",
      "   13 | #define I2S_BASE                    0x10042000U\n",
      "      |                                     ^\n",
      "      |                                     |\n",
      "      |                                     unsigned int\n",
      "/tools/C/tedkim7/sp24-Baremetal-IDE/platform/dsp24/inc/hal_I2S.h:27:37: note: in expansion of macro 'I2S_BASE'\n",
      "   27 | #define I2S_TX_R                    I2S_BASE + 0x28\n",
      "      |                                     ^~~~~~~~\n",
      "/tools/C/tedkim7/sp24-Baremetal-IDE/platform/dsp24/src/hal_I2S.c:53:38: note: in expansion of macro 'I2S_TX_R'\n",
      "   53 |         set_DMAP(dma_num, read_addr, I2S_TX_R, I2S_WATERMARK_TX_R, 8, 0, length, 3, poll);\n",
      "      |                                      ^~~~~~~~\n",
      "/tools/C/tedkim7/sp24-Baremetal-IDE/platform/dsp24/inc/hal_DMA.h:37:57: note: expected 'uint64_t *' {aka 'long unsigned int *'} but argument is of type 'unsigned int'\n",
      "   37 | void set_DMAP(uint32_t num, uint64_t* addr_r, uint64_t* addr_w, uint64_t* addr_c, uint16_t inc_r, uint16_t inc_w, uint16_t len, uint8_t logd, uint32_t count);\n",
      "      |                                               ~~~~~~~~~~^~~~~~\n",
      "/tools/C/tedkim7/sp24-Baremetal-IDE/platform/dsp24/inc/hal_I2S.h:13:37: warning: passing argument 4 of 'set_DMAP' makes pointer from integer without a cast [-Wint-conversion]\n",
      "   13 | #define I2S_BASE                    0x10042000U\n",
      "      |                                     ^\n",
      "      |                                     |\n",
      "      |                                     unsigned int\n",
      "/tools/C/tedkim7/sp24-Baremetal-IDE/platform/dsp24/inc/hal_I2S.h:19:37: note: in expansion of macro 'I2S_BASE'\n",
      "   19 | #define I2S_WATERMARK_TX_R          I2S_BASE + 0x101\n",
      "      |                                     ^~~~~~~~\n",
      "/tools/C/tedkim7/sp24-Baremetal-IDE/platform/dsp24/src/hal_I2S.c:53:48: note: in expansion of macro 'I2S_WATERMARK_TX_R'\n",
      "   53 |         set_DMAP(dma_num, read_addr, I2S_TX_R, I2S_WATERMARK_TX_R, 8, 0, length, 3, poll);\n",
      "      |                                                ^~~~~~~~~~~~~~~~~~\n",
      "/tools/C/tedkim7/sp24-Baremetal-IDE/platform/dsp24/inc/hal_DMA.h:37:75: note: expected 'uint64_t *' {aka 'long unsigned int *'} but argument is of type 'unsigned int'\n",
      "   37 | void set_DMAP(uint32_t num, uint64_t* addr_r, uint64_t* addr_w, uint64_t* addr_c, uint16_t inc_r, uint16_t inc_w, uint16_t len, uint8_t logd, uint32_t count);\n",
      "      |                                                                 ~~~~~~~~~~^~~~~~\n",
      "/tools/C/tedkim7/sp24-Baremetal-IDE/platform/dsp24/src/hal_I2S.c: In function 'read_I2S_rx_DMA':\n",
      "/tools/C/tedkim7/sp24-Baremetal-IDE/platform/dsp24/inc/hal_I2S.h:13:37: warning: passing argument 2 of 'set_DMAP' makes pointer from integer without a cast [-Wint-conversion]\n",
      "   13 | #define I2S_BASE                    0x10042000U\n",
      "      |                                     ^\n",
      "      |                                     |\n",
      "      |                                     unsigned int\n",
      "/tools/C/tedkim7/sp24-Baremetal-IDE/platform/dsp24/inc/hal_I2S.h:28:37: note: in expansion of macro 'I2S_BASE'\n",
      "   28 | #define I2S_RX_L                    I2S_BASE + 0x60\n",
      "      |                                     ^~~~~~~~\n",
      "/tools/C/tedkim7/sp24-Baremetal-IDE/platform/dsp24/src/hal_I2S.c:60:27: note: in expansion of macro 'I2S_RX_L'\n",
      "   60 |         set_DMAP(dma_num, I2S_RX_L, write_addr, I2S_WATERMARK_RX_L, 0, 8, length, 3, poll);\n",
      "      |                           ^~~~~~~~\n",
      "/tools/C/tedkim7/sp24-Baremetal-IDE/platform/dsp24/inc/hal_DMA.h:37:39: note: expected 'uint64_t *' {aka 'long unsigned int *'} but argument is of type 'unsigned int'\n",
      "   37 | void set_DMAP(uint32_t num, uint64_t* addr_r, uint64_t* addr_w, uint64_t* addr_c, uint16_t inc_r, uint16_t inc_w, uint16_t len, uint8_t logd, uint32_t count);\n",
      "      |                             ~~~~~~~~~~^~~~~~\n",
      "/tools/C/tedkim7/sp24-Baremetal-IDE/platform/dsp24/inc/hal_I2S.h:13:37: warning: passing argument 4 of 'set_DMAP' makes pointer from integer without a cast [-Wint-conversion]\n",
      "   13 | #define I2S_BASE                    0x10042000U\n",
      "      |                                     ^\n",
      "      |                                     |\n",
      "      |                                     unsigned int\n",
      "/tools/C/tedkim7/sp24-Baremetal-IDE/platform/dsp24/inc/hal_I2S.h:16:37: note: in expansion of macro 'I2S_BASE'\n",
      "   16 | #define I2S_WATERMARK_RX_L          I2S_BASE + 0x102\n",
      "      |                                     ^~~~~~~~\n",
      "/tools/C/tedkim7/sp24-Baremetal-IDE/platform/dsp24/src/hal_I2S.c:60:49: note: in expansion of macro 'I2S_WATERMARK_RX_L'\n",
      "   60 |         set_DMAP(dma_num, I2S_RX_L, write_addr, I2S_WATERMARK_RX_L, 0, 8, length, 3, poll);\n",
      "      |                                                 ^~~~~~~~~~~~~~~~~~\n",
      "/tools/C/tedkim7/sp24-Baremetal-IDE/platform/dsp24/inc/hal_DMA.h:37:75: note: expected 'uint64_t *' {aka 'long unsigned int *'} but argument is of type 'unsigned int'\n",
      "   37 | void set_DMAP(uint32_t num, uint64_t* addr_r, uint64_t* addr_w, uint64_t* addr_c, uint16_t inc_r, uint16_t inc_w, uint16_t len, uint8_t logd, uint32_t count);\n",
      "      |                                                                 ~~~~~~~~~~^~~~~~\n",
      "/tools/C/tedkim7/sp24-Baremetal-IDE/platform/dsp24/inc/hal_I2S.h:13:37: warning: passing argument 2 of 'set_DMAP' makes pointer from integer without a cast [-Wint-conversion]\n",
      "   13 | #define I2S_BASE                    0x10042000U\n",
      "      |                                     ^\n",
      "      |                                     |\n",
      "      |                                     unsigned int\n",
      "/tools/C/tedkim7/sp24-Baremetal-IDE/platform/dsp24/inc/hal_I2S.h:29:37: note: in expansion of macro 'I2S_BASE'\n",
      "   29 | #define I2S_RX_R                    I2S_BASE + 0x68\n",
      "      |                                     ^~~~~~~~\n",
      "/tools/C/tedkim7/sp24-Baremetal-IDE/platform/dsp24/src/hal_I2S.c:62:27: note: in expansion of macro 'I2S_RX_R'\n",
      "   62 |         set_DMAP(dma_num, I2S_RX_R, write_addr, I2S_WATERMARK_RX_R, 0, 8, length, 3, poll);\n",
      "      |                           ^~~~~~~~\n",
      "/tools/C/tedkim7/sp24-Baremetal-IDE/platform/dsp24/inc/hal_DMA.h:37:39: note: expected 'uint64_t *' {aka 'long unsigned int *'} but argument is of type 'unsigned int'\n",
      "   37 | void set_DMAP(uint32_t num, uint64_t* addr_r, uint64_t* addr_w, uint64_t* addr_c, uint16_t inc_r, uint16_t inc_w, uint16_t len, uint8_t logd, uint32_t count);\n",
      "      |                             ~~~~~~~~~~^~~~~~\n",
      "/tools/C/tedkim7/sp24-Baremetal-IDE/platform/dsp24/inc/hal_I2S.h:13:37: warning: passing argument 4 of 'set_DMAP' makes pointer from integer without a cast [-Wint-conversion]\n",
      "   13 | #define I2S_BASE                    0x10042000U\n",
      "      |                                     ^\n",
      "      |                                     |\n",
      "      |                                     unsigned int\n",
      "/tools/C/tedkim7/sp24-Baremetal-IDE/platform/dsp24/inc/hal_I2S.h:17:37: note: in expansion of macro 'I2S_BASE'\n",
      "   17 | #define I2S_WATERMARK_RX_R          I2S_BASE + 0x103\n",
      "      |                                     ^~~~~~~~\n",
      "/tools/C/tedkim7/sp24-Baremetal-IDE/platform/dsp24/src/hal_I2S.c:62:49: note: in expansion of macro 'I2S_WATERMARK_RX_R'\n",
      "   62 |         set_DMAP(dma_num, I2S_RX_R, write_addr, I2S_WATERMARK_RX_R, 0, 8, length, 3, poll);\n",
      "      |                                                 ^~~~~~~~~~~~~~~~~~\n",
      "/tools/C/tedkim7/sp24-Baremetal-IDE/platform/dsp24/inc/hal_DMA.h:37:75: note: expected 'uint64_t *' {aka 'long unsigned int *'} but argument is of type 'unsigned int'\n",
      "   37 | void set_DMAP(uint32_t num, uint64_t* addr_r, uint64_t* addr_w, uint64_t* addr_c, uint16_t inc_r, uint16_t inc_w, uint16_t len, uint8_t logd, uint32_t count);\n",
      "      |                                                                 ~~~~~~~~~~^~~~~~\n"
     ]
    },
    {
     "name": "stdout",
     "output_type": "stream",
     "text": [
      "[ 41%] \u001b[32mBuilding C object platform/dsp24/CMakeFiles/chip-config.dir/src/hal_conv.c.obj\u001b[0m\n"
     ]
    },
    {
     "name": "stderr",
     "output_type": "stream",
     "text": [
      "/tools/C/tedkim7/sp24-Baremetal-IDE/platform/dsp24/src/hal_conv.c: In function 'write_conv_dma':\n",
      "/tools/C/tedkim7/sp24-Baremetal-IDE/platform/dsp24/src/hal_conv.c:13:5: warning: implicit declaration of function 'set_DMAC' [-Wimplicit-function-declaration]\n",
      "   13 |     set_DMAC(dma_num, (uint64_t*) data, CONV_BASE, 8, 0, length/8, 3);\n",
      "      |     ^~~~~~~~\n",
      "/tools/C/tedkim7/sp24-Baremetal-IDE/platform/dsp24/src/hal_conv.c:14:5: warning: implicit declaration of function 'start_DMA' [-Wimplicit-function-declaration]\n",
      "   14 |     start_DMA(dma_num);\n",
      "      |     ^~~~~~~~~\n",
      "/tools/C/tedkim7/sp24-Baremetal-IDE/platform/dsp24/src/hal_conv.c: In function 'read_conv_dma_p':\n",
      "/tools/C/tedkim7/sp24-Baremetal-IDE/platform/dsp24/src/hal_conv.c:23:5: warning: implicit declaration of function 'set_DMAP' [-Wimplicit-function-declaration]\n",
      "   23 |     set_DMAP(dma_num, CONV_OUTPUT_ADDR, write_addr, READ_CHECK_ADDR, 0, 8, length/4, 3, 0);\n",
      "      |     ^~~~~~~~\n"
     ]
    },
    {
     "name": "stdout",
     "output_type": "stream",
     "text": [
      "[ 43%] \u001b[32mBuilding C object platform/dsp24/CMakeFiles/chip-config.dir/src/hal_fft.c.obj\u001b[0m\n"
     ]
    },
    {
     "name": "stderr",
     "output_type": "stream",
     "text": [
      "/tools/C/tedkim7/sp24-Baremetal-IDE/platform/dsp24/src/hal_fft.c: In function 'write_fft_dma':\n",
      "/tools/C/tedkim7/sp24-Baremetal-IDE/platform/dsp24/src/hal_fft.c:28:23: warning: passing argument 2 of 'set_DMAC' makes integer from pointer without a cast [-Wint-conversion]\n",
      "   28 |     set_DMAC(dma_num, data, FFT_INPUT, 8, 0, length/2, 3);\n",
      "      |                       ^~~~\n",
      "      |                       |\n",
      "      |                       uint64_t * {aka long unsigned int *}\n",
      "In file included from /tools/C/tedkim7/sp24-Baremetal-IDE/platform/dsp24/inc/hal_fft.h:9,\n",
      "                 from /tools/C/tedkim7/sp24-Baremetal-IDE/platform/dsp24/src/hal_fft.c:1:\n",
      "/tools/C/tedkim7/sp24-Baremetal-IDE/platform/dsp24/inc/hal_DMA.h:34:38: note: expected 'uint64_t' {aka 'long unsigned int'} but argument is of type 'uint64_t *' {aka 'long unsigned int *'}\n",
      "   34 | void set_DMAC(uint32_t num, uint64_t addr_r, uint64_t addr_w, uint16_t inc_r, uint16_t inc_w, uint16_t len, uint16_t logd);\n",
      "      |                             ~~~~~~~~~^~~~~~\n",
      "/tools/C/tedkim7/sp24-Baremetal-IDE/platform/dsp24/src/hal_fft.c: In function 'read_fft_dma':\n",
      "/tools/C/tedkim7/sp24-Baremetal-IDE/platform/dsp24/src/hal_fft.c:33:35: warning: passing argument 3 of 'set_DMAC' makes integer from pointer without a cast [-Wint-conversion]\n",
      "   33 |     set_DMAC(dma_num, FFT_OUTPUT, write_addr, 0, 8, length, 2);\n",
      "      |                                   ^~~~~~~~~~\n",
      "      |                                   |\n",
      "      |                                   uint64_t * {aka long unsigned int *}\n",
      "/tools/C/tedkim7/sp24-Baremetal-IDE/platform/dsp24/inc/hal_DMA.h:34:55: note: expected 'uint64_t' {aka 'long unsigned int'} but argument is of type 'uint64_t *' {aka 'long unsigned int *'}\n",
      "   34 | void set_DMAC(uint32_t num, uint64_t addr_r, uint64_t addr_w, uint16_t inc_r, uint16_t inc_w, uint16_t len, uint16_t logd);\n",
      "      |                                              ~~~~~~~~~^~~~~~\n",
      "/tools/C/tedkim7/sp24-Baremetal-IDE/platform/dsp24/src/hal_fft.c: In function 'read_fft_real_dma':\n",
      "/tools/C/tedkim7/sp24-Baremetal-IDE/platform/dsp24/src/hal_fft.c:38:35: warning: passing argument 3 of 'set_DMAC' makes integer from pointer without a cast [-Wint-conversion]\n",
      "   38 |     set_DMAC(dma_num, FFT_OUTPUT, write_addr, 0, 4, length, 1);\n",
      "      |                                   ^~~~~~~~~~\n",
      "      |                                   |\n",
      "      |                                   uint64_t * {aka long unsigned int *}\n",
      "/tools/C/tedkim7/sp24-Baremetal-IDE/platform/dsp24/inc/hal_DMA.h:34:55: note: expected 'uint64_t' {aka 'long unsigned int'} but argument is of type 'uint64_t *' {aka 'long unsigned int *'}\n",
      "   34 | void set_DMAC(uint32_t num, uint64_t addr_r, uint64_t addr_w, uint16_t inc_r, uint16_t inc_w, uint16_t len, uint16_t logd);\n",
      "      |                                              ~~~~~~~~~^~~~~~\n"
     ]
    },
    {
     "name": "stdout",
     "output_type": "stream",
     "text": [
      "[ 46%] \u001b[32mBuilding C object platform/dsp24/CMakeFiles/chip-config.dir/src/hal_mmio.c.obj\u001b[0m\n",
      "[ 48%] \u001b[32m\u001b[1mLinking C static library libchip-config.a\u001b[0m\n",
      "gmake[4]: Leaving directory '/bwrcq/C/tedkim7/sp24-Baremetal-IDE/build'\n",
      "[ 48%] Built target chip-config\n",
      "gmake[4]: Entering directory '/bwrcq/C/tedkim7/sp24-Baremetal-IDE/build'\n",
      "gmake[4]: Leaving directory '/bwrcq/C/tedkim7/sp24-Baremetal-IDE/build'\n",
      "gmake[4]: Entering directory '/bwrcq/C/tedkim7/sp24-Baremetal-IDE/build'\n",
      "[ 51%] \u001b[32mBuilding ASM object glossy/CMakeFiles/glossy.dir/src/startup/crt0.S.obj\u001b[0m\n",
      "[ 53%] \u001b[32mBuilding ASM object glossy/CMakeFiles/glossy.dir/src/startup/init.S.obj\u001b[0m\n",
      "[ 56%] \u001b[32mBuilding C object glossy/CMakeFiles/glossy.dir/src/startup/secondary.c.obj\u001b[0m\n",
      "[ 58%] \u001b[32mBuilding ASM object glossy/CMakeFiles/glossy.dir/src/trap/trap.S.obj\u001b[0m\n",
      "[ 61%] \u001b[32mBuilding C object glossy/CMakeFiles/glossy.dir/src/trap/trap.c.obj\u001b[0m\n"
     ]
    },
    {
     "name": "stderr",
     "output_type": "stream",
     "text": [
      "/tools/C/tedkim7/sp24-Baremetal-IDE/glossy/src/trap/trap.c: In function 'trap_handler':\n",
      "/tools/C/tedkim7/sp24-Baremetal-IDE/glossy/src/trap/trap.c:73:92: warning: unused parameter 'm_tval' [-Wunused-parameter]\n",
      "   73 | __attribute__((weak)) uintptr_t trap_handler(uintptr_t m_epc, uintptr_t m_cause, uintptr_t m_tval, uintptr_t regs[32]) {\n",
      "      |                                                                                  ~~~~~~~~~~^~~~~~\n",
      "/tools/C/tedkim7/sp24-Baremetal-IDE/glossy/src/trap/trap.c:73:110: warning: unused parameter 'regs' [-Wunused-parameter]\n",
      "   73 | __attribute__((weak)) uintptr_t trap_handler(uintptr_t m_epc, uintptr_t m_cause, uintptr_t m_tval, uintptr_t regs[32]) {\n",
      "      |                                                                                                    ~~~~~~~~~~^~~~~~~~\n"
     ]
    },
    {
     "name": "stdout",
     "output_type": "stream",
     "text": [
      "[ 64%] \u001b[32mBuilding C object glossy/CMakeFiles/glossy.dir/src/sys/close.c.obj\u001b[0m\n"
     ]
    },
    {
     "name": "stderr",
     "output_type": "stream",
     "text": [
      "/tools/C/tedkim7/sp24-Baremetal-IDE/glossy/src/sys/close.c: In function '_close':\n",
      "/tools/C/tedkim7/sp24-Baremetal-IDE/glossy/src/sys/close.c:2:38: warning: unused parameter 'file' [-Wunused-parameter]\n",
      "    2 | __attribute__((weak)) int _close(int file) {\n",
      "      |                                  ~~~~^~~~\n"
     ]
    },
    {
     "name": "stdout",
     "output_type": "stream",
     "text": [
      "[ 66%] \u001b[32mBuilding C object glossy/CMakeFiles/glossy.dir/src/sys/exit.c.obj\u001b[0m\n"
     ]
    },
    {
     "name": "stderr",
     "output_type": "stream",
     "text": [
      "/tools/C/tedkim7/sp24-Baremetal-IDE/glossy/src/sys/exit.c: In function '_exit':\n",
      "/tools/C/tedkim7/sp24-Baremetal-IDE/glossy/src/sys/exit.c:4:48: warning: unused parameter 'code' [-Wunused-parameter]\n",
      "    4 | __attribute__((weak, noreturn)) void _exit(int code) {\n",
      "      |                                            ~~~~^~~~\n"
     ]
    },
    {
     "name": "stdout",
     "output_type": "stream",
     "text": [
      "[ 69%] \u001b[32mBuilding C object glossy/CMakeFiles/glossy.dir/src/sys/fstat.c.obj\u001b[0m\n"
     ]
    },
    {
     "name": "stderr",
     "output_type": "stream",
     "text": [
      "/tools/C/tedkim7/sp24-Baremetal-IDE/glossy/src/sys/fstat.c: In function '_fstat':\n",
      "/tools/C/tedkim7/sp24-Baremetal-IDE/glossy/src/sys/fstat.c:4:38: warning: unused parameter 'file' [-Wunused-parameter]\n",
      "    4 | __attribute__((weak)) int _fstat(int file, struct stat *st) {\n",
      "      |                                  ~~~~^~~~\n",
      "/tools/C/tedkim7/sp24-Baremetal-IDE/glossy/src/sys/fstat.c:4:57: warning: unused parameter 'st' [-Wunused-parameter]\n",
      "    4 | __attribute__((weak)) int _fstat(int file, struct stat *st) {\n",
      "      |                                            ~~~~~~~~~~~~~^~\n"
     ]
    },
    {
     "name": "stdout",
     "output_type": "stream",
     "text": [
      "[ 71%] \u001b[32mBuilding C object glossy/CMakeFiles/glossy.dir/src/sys/getpid.c.obj\u001b[0m\n",
      "[ 74%] \u001b[32mBuilding C object glossy/CMakeFiles/glossy.dir/src/sys/isatty.c.obj\u001b[0m\n",
      "[ 76%] \u001b[32mBuilding C object glossy/CMakeFiles/glossy.dir/src/sys/kill.c.obj\u001b[0m\n"
     ]
    },
    {
     "name": "stderr",
     "output_type": "stream",
     "text": [
      "/tools/C/tedkim7/sp24-Baremetal-IDE/glossy/src/sys/kill.c: In function '_kill':\n",
      "/tools/C/tedkim7/sp24-Baremetal-IDE/glossy/src/sys/kill.c:2:37: warning: unused parameter 'pid' [-Wunused-parameter]\n",
      "    2 | __attribute__((weak)) int _kill(int pid, int sig) {\n",
      "      |                                 ~~~~^~~\n",
      "/tools/C/tedkim7/sp24-Baremetal-IDE/glossy/src/sys/kill.c:2:46: warning: unused parameter 'sig' [-Wunused-parameter]\n",
      "    2 | __attribute__((weak)) int _kill(int pid, int sig) {\n",
      "      |                                          ~~~~^~~\n"
     ]
    },
    {
     "name": "stdout",
     "output_type": "stream",
     "text": [
      "[ 79%] \u001b[32mBuilding C object glossy/CMakeFiles/glossy.dir/src/sys/lseek.c.obj\u001b[0m\n"
     ]
    },
    {
     "name": "stderr",
     "output_type": "stream",
     "text": [
      "/tools/C/tedkim7/sp24-Baremetal-IDE/glossy/src/sys/lseek.c: In function '_lseek':\n",
      "/tools/C/tedkim7/sp24-Baremetal-IDE/glossy/src/sys/lseek.c:5:40: warning: unused parameter 'file' [-Wunused-parameter]\n",
      "    5 | __attribute__((weak)) off_t _lseek(int file, off_t ptr, int dir) {\n",
      "      |                                    ~~~~^~~~\n",
      "/tools/C/tedkim7/sp24-Baremetal-IDE/glossy/src/sys/lseek.c:5:52: warning: unused parameter 'ptr' [-Wunused-parameter]\n",
      "    5 | __attribute__((weak)) off_t _lseek(int file, off_t ptr, int dir) {\n",
      "      |                                              ~~~~~~^~~\n",
      "/tools/C/tedkim7/sp24-Baremetal-IDE/glossy/src/sys/lseek.c:5:61: warning: unused parameter 'dir' [-Wunused-parameter]\n",
      "    5 | __attribute__((weak)) off_t _lseek(int file, off_t ptr, int dir) {\n",
      "      |                                                         ~~~~^~~\n"
     ]
    },
    {
     "name": "stdout",
     "output_type": "stream",
     "text": [
      "[ 82%] \u001b[32mBuilding C object glossy/CMakeFiles/glossy.dir/src/sys/open.c.obj\u001b[0m\n"
     ]
    },
    {
     "name": "stderr",
     "output_type": "stream",
     "text": [
      "/tools/C/tedkim7/sp24-Baremetal-IDE/glossy/src/sys/open.c: In function '_open':\n",
      "/tools/C/tedkim7/sp24-Baremetal-IDE/glossy/src/sys/open.c:3:45: warning: unused parameter 'path' [-Wunused-parameter]\n",
      "    3 | __attribute__((weak)) int _open(const char *path, int flags, int mode) {\n",
      "      |                                 ~~~~~~~~~~~~^~~~\n",
      "/tools/C/tedkim7/sp24-Baremetal-IDE/glossy/src/sys/open.c:3:55: warning: unused parameter 'flags' [-Wunused-parameter]\n",
      "    3 | __attribute__((weak)) int _open(const char *path, int flags, int mode) {\n",
      "      |                                                   ~~~~^~~~~\n",
      "/tools/C/tedkim7/sp24-Baremetal-IDE/glossy/src/sys/open.c:3:66: warning: unused parameter 'mode' [-Wunused-parameter]\n",
      "    3 | __attribute__((weak)) int _open(const char *path, int flags, int mode) {\n",
      "      |                                                              ~~~~^~~~\n"
     ]
    },
    {
     "name": "stdout",
     "output_type": "stream",
     "text": [
      "[ 84%] \u001b[32mBuilding C object glossy/CMakeFiles/glossy.dir/src/sys/read.c.obj\u001b[0m\n"
     ]
    },
    {
     "name": "stderr",
     "output_type": "stream",
     "text": [
      "/tools/C/tedkim7/sp24-Baremetal-IDE/glossy/src/sys/read.c: In function '_read':\n",
      "/tools/C/tedkim7/sp24-Baremetal-IDE/glossy/src/sys/read.c:5:41: warning: unused parameter 'file' [-Wunused-parameter]\n",
      "    5 | __attribute__((weak)) ssize_t _read(int file, void *ptr, size_t len) {\n",
      "      |                                     ~~~~^~~~\n",
      "/tools/C/tedkim7/sp24-Baremetal-IDE/glossy/src/sys/read.c:5:53: warning: unused parameter 'ptr' [-Wunused-parameter]\n",
      "    5 | __attribute__((weak)) ssize_t _read(int file, void *ptr, size_t len) {\n",
      "      |                                               ~~~~~~^~~\n",
      "/tools/C/tedkim7/sp24-Baremetal-IDE/glossy/src/sys/read.c:5:65: warning: unused parameter 'len' [-Wunused-parameter]\n",
      "    5 | __attribute__((weak)) ssize_t _read(int file, void *ptr, size_t len) {\n",
      "      |                                                          ~~~~~~~^~~\n"
     ]
    },
    {
     "name": "stdout",
     "output_type": "stream",
     "text": [
      "[ 87%] \u001b[32mBuilding C object glossy/CMakeFiles/glossy.dir/src/sys/sbrk.c.obj\u001b[0m\n",
      "[ 89%] \u001b[32mBuilding C object glossy/CMakeFiles/glossy.dir/src/sys/time.c.obj\u001b[0m\n",
      "[ 92%] \u001b[32mBuilding C object glossy/CMakeFiles/glossy.dir/src/sys/write.c.obj\u001b[0m\n"
     ]
    },
    {
     "name": "stderr",
     "output_type": "stream",
     "text": [
      "/tools/C/tedkim7/sp24-Baremetal-IDE/glossy/src/sys/write.c: In function '_write':\n",
      "/tools/C/tedkim7/sp24-Baremetal-IDE/glossy/src/sys/write.c:8:42: warning: unused parameter 'fd' [-Wunused-parameter]\n",
      "    8 | __attribute__((weak)) ssize_t _write(int fd, const void *ptr, size_t len) {\n",
      "      |                                      ~~~~^~\n"
     ]
    },
    {
     "name": "stdout",
     "output_type": "stream",
     "text": [
      "[ 94%] \u001b[32m\u001b[1mLinking C static library libglossy.a\u001b[0m\n",
      "gmake[4]: Leaving directory '/bwrcq/C/tedkim7/sp24-Baremetal-IDE/build'\n",
      "[ 94%] Built target glossy\n",
      "gmake[4]: Entering directory '/bwrcq/C/tedkim7/sp24-Baremetal-IDE/build'\n",
      "gmake[4]: Leaving directory '/bwrcq/C/tedkim7/sp24-Baremetal-IDE/build'\n",
      "gmake[4]: Entering directory '/bwrcq/C/tedkim7/sp24-Baremetal-IDE/build'\n",
      "[ 97%] \u001b[32mBuilding C object CMakeFiles/shmoo_bench.dir/shmoo_bench/dsp_conv_bench/src/main.c.obj\u001b[0m\n"
     ]
    },
    {
     "name": "stderr",
     "output_type": "stream",
     "text": [
      "/tools/C/tedkim7/sp24-Baremetal-IDE/shmoo_bench/dsp_conv_bench/src/main.c: In function 'app_main':\n",
      "/tools/C/tedkim7/sp24-Baremetal-IDE/shmoo_bench/dsp_conv_bench/src/main.c:61:5: warning: implicit declaration of function 'reg_write8' [-Wimplicit-function-declaration]\n",
      "   61 |     reg_write8(RESET_ADDR, 1);\n",
      "      |     ^~~~~~~~~~\n",
      "/tools/C/tedkim7/sp24-Baremetal-IDE/shmoo_bench/dsp_conv_bench/src/main.c:71:5: warning: implicit declaration of function 'set_conv_params' [-Wimplicit-function-declaration]\n",
      "   71 |     set_conv_params(16, 1, ((uint64_t*) in_kernel));\n",
      "      |     ^~~~~~~~~~~~~~~\n",
      "/tools/C/tedkim7/sp24-Baremetal-IDE/shmoo_bench/dsp_conv_bench/src/main.c:72:5: warning: implicit declaration of function 'write_conv_dma' [-Wimplicit-function-declaration]\n",
      "   72 |     write_conv_dma(0, 16, in_arr);\n",
      "      |     ^~~~~~~~~~~~~~\n",
      "/tools/C/tedkim7/sp24-Baremetal-IDE/shmoo_bench/dsp_conv_bench/src/main.c:77:5: warning: implicit declaration of function 'start_conv' [-Wimplicit-function-declaration]\n",
      "   77 |     start_conv();\n",
      "      |     ^~~~~~~~~~\n",
      "/tools/C/tedkim7/sp24-Baremetal-IDE/shmoo_bench/dsp_conv_bench/src/main.c:91:5: warning: implicit declaration of function 'read_conv_dma' [-Wimplicit-function-declaration]\n",
      "   91 |     read_conv_dma(0, 16, ((uint64_t*) test_out));\n",
      "      |     ^~~~~~~~~~~~~\n",
      "/tools/C/tedkim7/sp24-Baremetal-IDE/shmoo_bench/dsp_conv_bench/src/main.c:95:20: warning: format '%lx' expects argument of type 'long unsigned int', but argument 2 has type 'int' [-Wformat=]\n",
      "   95 |             printf(\"%\"PRIx64\" \", test_out[i*4 + j]);\n",
      "      |                    ^~~           ~~~~~~~~~~~~~~~~~\n",
      "      |                                          |\n",
      "      |                                          int\n",
      "/tools/C/tedkim7/sp24-Baremetal-IDE/shmoo_bench/dsp_conv_bench/src/main.c:100:14: warning: variable 'ref_out' set but not used [-Wunused-but-set-variable]\n",
      "  100 |     uint16_t ref_out[32];\n",
      "      |              ^~~~~~~\n",
      "/tools/C/tedkim7/sp24-Baremetal-IDE/shmoo_bench/dsp_conv_bench/src/main.c:79:14: warning: unused variable 'cpu_end_cycles' [-Wunused-variable]\n",
      "   79 |     uint64_t cpu_end_cycles = READ_CSR(\"mcycle\");\n",
      "      |              ^~~~~~~~~~~~~~\n",
      "/tools/C/tedkim7/sp24-Baremetal-IDE/shmoo_bench/dsp_conv_bench/src/main.c:74:14: warning: unused variable 'cpu_start_cycles' [-Wunused-variable]\n",
      "   74 |     uint64_t cpu_start_cycles = READ_CSR(\"mcycle\");\n",
      "      |              ^~~~~~~~~~~~~~~~\n",
      "/tools/C/tedkim7/sp24-Baremetal-IDE/shmoo_bench/dsp_conv_bench/src/main.c:67:14: warning: unused variable 'in_dilation' [-Wunused-variable]\n",
      "   67 |     uint16_t in_dilation[1] = {1};\n",
      "      |              ^~~~~~~~~~~\n",
      "/tools/C/tedkim7/sp24-Baremetal-IDE/shmoo_bench/dsp_conv_bench/src/main.c:66:14: warning: unused variable 'in_len' [-Wunused-variable]\n",
      "   66 |     uint32_t in_len[1] = {16};\n",
      "      |              ^~~~~~\n",
      "/tools/C/tedkim7/sp24-Baremetal-IDE/shmoo_bench/dsp_conv_bench/src/main.c: In function 'main':\n",
      "/tools/C/tedkim7/sp24-Baremetal-IDE/shmoo_bench/dsp_conv_bench/src/main.c:127:14: warning: unused parameter 'argc' [-Wunused-parameter]\n",
      "  127 | int main(int argc, char **argv) {\n",
      "      |          ~~~~^~~~\n",
      "/tools/C/tedkim7/sp24-Baremetal-IDE/shmoo_bench/dsp_conv_bench/src/main.c:127:27: warning: unused parameter 'argv' [-Wunused-parameter]\n",
      "  127 | int main(int argc, char **argv) {\n",
      "      |                    ~~~~~~~^~~~\n"
     ]
    },
    {
     "name": "stdout",
     "output_type": "stream",
     "text": [
      "[100%] \u001b[32m\u001b[1mLinking C executable shmoo_bench.elf\u001b[0m\n"
     ]
    },
    {
     "name": "stderr",
     "output_type": "stream",
     "text": [
      "/bwrcq/C/ee290-fa24-2/.conda-env/riscv-tools/bin/../lib/gcc/riscv64-unknown-elf/13.2.0/../../../../riscv64-unknown-elf/bin/ld: warning: shmoo_bench.elf has a LOAD segment with RWX permissions\n"
     ]
    },
    {
     "name": "stdout",
     "output_type": "stream",
     "text": [
      "gmake[4]: Leaving directory '/bwrcq/C/tedkim7/sp24-Baremetal-IDE/build'\n",
      "[100%] Built target shmoo_bench\n",
      "gmake[3]: Leaving directory '/bwrcq/C/tedkim7/sp24-Baremetal-IDE/build'\n",
      "gmake[2]: Leaving directory '/bwrcq/C/tedkim7/sp24-Baremetal-IDE/build'\n",
      "gmake[1]: Leaving directory '/bwrcq/C/tedkim7/sp24-Baremetal-IDE/build'\n",
      "**Clock set to: 450MHz**\n",
      "**Voltage set to: +5.00000000E-01\n",
      "V**\n"
     ]
    },
    {
     "name": "stderr",
     "output_type": "stream",
     "text": [
      "warning: tohost and fromhost symbols not in ELF; can't communicate with target\n",
      "Writing 14006c with 9\n",
      "Done writing 14006c with 9\n"
     ]
    },
    {
     "name": "stdout",
     "output_type": "stream",
     "text": [
      "Starting UART-based TSI\n",
      "Usage: ./uart_tsi +tty=/dev/pts/xx <PLUSARGS> <bin>\n",
      "       ./uart_tsi +tty=/dev/ttyxx  <PLUSARGS> <bin>\n",
      "       ./uart_tsi +tty=/dev/ttyxx  +no_hart0_msip +init_write=0x80000000:0xdeadbeef none\n",
      "       ./uart_tsi +tty=/dev/ttyxx  +no_hart0_msip +init_read=0x80000000 none\n",
      "       ./uart_tsi +tty=/dev/ttyxx  +selfcheck <bin>\n",
      "       ./uart_tsi +tty=/dev/ttyxx  +baudrate=921600 <bin>\n",
      "Attempting to open TTY at /dev/ttyUSB1\n",
      "Warning: You selected a non-standard baudrate. This will only work if the HW was configured with this baud-rate\n",
      "Checking connection status with /dev/ttyUSB1\n",
      "Connection succeeded\n",
      "Done, shutting down, flushing UART\n",
      "WARNING: You should probably reset the target before running this program again\n",
      "Done: now reset during the sleep before next iteration\n",
      "**Voltage set to: +5.50000000E-01\n",
      "V**\n"
     ]
    },
    {
     "name": "stderr",
     "output_type": "stream",
     "text": [
      "warning: tohost and fromhost symbols not in ELF; can't communicate with target\n",
      "Writing 14006c with 9\n",
      "Done writing 14006c with 9\n"
     ]
    },
    {
     "name": "stdout",
     "output_type": "stream",
     "text": [
      "Starting UART-based TSI\n",
      "Usage: ./uart_tsi +tty=/dev/pts/xx <PLUSARGS> <bin>\n",
      "       ./uart_tsi +tty=/dev/ttyxx  <PLUSARGS> <bin>\n",
      "       ./uart_tsi +tty=/dev/ttyxx  +no_hart0_msip +init_write=0x80000000:0xdeadbeef none\n",
      "       ./uart_tsi +tty=/dev/ttyxx  +no_hart0_msip +init_read=0x80000000 none\n",
      "       ./uart_tsi +tty=/dev/ttyxx  +selfcheck <bin>\n",
      "       ./uart_tsi +tty=/dev/ttyxx  +baudrate=921600 <bin>\n",
      "Attempting to open TTY at /dev/ttyUSB1\n",
      "Warning: You selected a non-standard baudrate. This will only work if the HW was configured with this baud-rate\n",
      "Checking connection status with /dev/ttyUSB1\n",
      "Connection succeeded\n",
      "Done, shutting down, flushing UART\n",
      "WARNING: You should probably reset the target before running this program again\n",
      "Done: now reset during the sleep before next iteration\n",
      "**Voltage set to: +6.00000000E-01\n",
      "V**\n"
     ]
    },
    {
     "name": "stderr",
     "output_type": "stream",
     "text": [
      "warning: tohost and fromhost symbols not in ELF; can't communicate with target\n",
      "Writing 14006c with 9\n",
      "Done writing 14006c with 9\n"
     ]
    },
    {
     "name": "stdout",
     "output_type": "stream",
     "text": [
      "Starting UART-based TSI\n",
      "Usage: ./uart_tsi +tty=/dev/pts/xx <PLUSARGS> <bin>\n",
      "       ./uart_tsi +tty=/dev/ttyxx  <PLUSARGS> <bin>\n",
      "       ./uart_tsi +tty=/dev/ttyxx  +no_hart0_msip +init_write=0x80000000:0xdeadbeef none\n",
      "       ./uart_tsi +tty=/dev/ttyxx  +no_hart0_msip +init_read=0x80000000 none\n",
      "       ./uart_tsi +tty=/dev/ttyxx  +selfcheck <bin>\n",
      "       ./uart_tsi +tty=/dev/ttyxx  +baudrate=921600 <bin>\n",
      "Attempting to open TTY at /dev/ttyUSB1\n",
      "Warning: You selected a non-standard baudrate. This will only work if the HW was configured with this baud-rate\n",
      "Checking connection status with /dev/ttyUSB1\n",
      "Connection succeeded\n",
      "Done, shutting down, flushing UART\n",
      "WARNING: You should probably reset the target before running this program again\n",
      "Done: now reset during the sleep before next iteration\n",
      "**Voltage set to: +6.50000000E-01\n",
      "V**\n"
     ]
    },
    {
     "name": "stderr",
     "output_type": "stream",
     "text": [
      "warning: tohost and fromhost symbols not in ELF; can't communicate with target\n",
      "Writing 14006c with 9\n",
      "Done writing 14006c with 9\n"
     ]
    },
    {
     "name": "stdout",
     "output_type": "stream",
     "text": [
      "Starting UART-based TSI\n",
      "Usage: ./uart_tsi +tty=/dev/pts/xx <PLUSARGS> <bin>\n",
      "       ./uart_tsi +tty=/dev/ttyxx  <PLUSARGS> <bin>\n",
      "       ./uart_tsi +tty=/dev/ttyxx  +no_hart0_msip +init_write=0x80000000:0xdeadbeef none\n",
      "       ./uart_tsi +tty=/dev/ttyxx  +no_hart0_msip +init_read=0x80000000 none\n",
      "       ./uart_tsi +tty=/dev/ttyxx  +selfcheck <bin>\n",
      "       ./uart_tsi +tty=/dev/ttyxx  +baudrate=921600 <bin>\n",
      "Attempting to open TTY at /dev/ttyUSB1\n",
      "Warning: You selected a non-standard baudrate. This will only work if the HW was configured with this baud-rate\n",
      "Checking connection status with /dev/ttyUSB1\n",
      "Connection succeeded\n",
      "Done, shutting down, flushing UART\n",
      "WARNING: You should probably reset the target before running this program again\n",
      "Done: now reset during the sleep before next iteration\n",
      "**Voltage set to: +7.00000000E-01\n",
      "V**\n"
     ]
    },
    {
     "name": "stderr",
     "output_type": "stream",
     "text": [
      "warning: tohost and fromhost symbols not in ELF; can't communicate with target\n",
      "Writing 14006c with 9\n",
      "Done writing 14006c with 9\n"
     ]
    },
    {
     "name": "stdout",
     "output_type": "stream",
     "text": [
      "Starting UART-based TSI\n",
      "Usage: ./uart_tsi +tty=/dev/pts/xx <PLUSARGS> <bin>\n",
      "       ./uart_tsi +tty=/dev/ttyxx  <PLUSARGS> <bin>\n",
      "       ./uart_tsi +tty=/dev/ttyxx  +no_hart0_msip +init_write=0x80000000:0xdeadbeef none\n",
      "       ./uart_tsi +tty=/dev/ttyxx  +no_hart0_msip +init_read=0x80000000 none\n",
      "       ./uart_tsi +tty=/dev/ttyxx  +selfcheck <bin>\n",
      "       ./uart_tsi +tty=/dev/ttyxx  +baudrate=921600 <bin>\n",
      "Attempting to open TTY at /dev/ttyUSB1\n",
      "Warning: You selected a non-standard baudrate. This will only work if the HW was configured with this baud-rate\n",
      "Checking connection status with /dev/ttyUSB1\n",
      "Connection succeeded\n",
      "Done, shutting down, flushing UART\n",
      "WARNING: You should probably reset the target before running this program again\n",
      "Done: now reset during the sleep before next iteration\n",
      "**Voltage set to: +7.50000000E-01\n",
      "V**\n"
     ]
    },
    {
     "name": "stderr",
     "output_type": "stream",
     "text": [
      "warning: tohost and fromhost symbols not in ELF; can't communicate with target\n",
      "Writing 14006c with 9\n",
      "Done writing 14006c with 9\n"
     ]
    },
    {
     "name": "stdout",
     "output_type": "stream",
     "text": [
      "b'0 4400 4600 4800 4900 4a00 4b00 4c00 4c80 4d00 4d80 4e00 4e80 4f00 4f80 5000 \\r\\n'\n",
      "Starting UART-based TSI\n",
      "Usage: ./uart_tsi +tty=/dev/pts/xx <PLUSARGS> <bin>\n",
      "       ./uart_tsi +tty=/dev/ttyxx  <PLUSARGS> <bin>\n",
      "       ./uart_tsi +tty=/dev/ttyxx  +no_hart0_msip +init_write=0x80000000:0xdeadbeef none\n",
      "       ./uart_tsi +tty=/dev/ttyxx  +no_hart0_msip +init_read=0x80000000 none\n",
      "       ./uart_tsi +tty=/dev/ttyxx  +selfcheck <bin>\n",
      "       ./uart_tsi +tty=/dev/ttyxx  +baudrate=921600 <bin>\n",
      "Attempting to open TTY at /dev/ttyUSB1\n",
      "Warning: You selected a non-standard baudrate. This will only work if the HW was configured with this baud-rate\n",
      "Checking connection status with /dev/ttyUSB1\n",
      "Connection succeeded\n",
      "Done, shutting down, flushing UART\n",
      "WARNING: You should probably reset the target before running this program again\n",
      "Done: now reset during the sleep before next iteration\n",
      "**Voltage set to: +8.00000000E-01\n",
      "V**\n"
     ]
    },
    {
     "name": "stderr",
     "output_type": "stream",
     "text": [
      "warning: tohost and fromhost symbols not in ELF; can't communicate with target\n",
      "Writing 14006c with 9\n",
      "Done writing 14006c with 9\n"
     ]
    },
    {
     "name": "stdout",
     "output_type": "stream",
     "text": [
      "b'0 4400 4600 4800 4900 4a00 4b00 4c00 4c80 4d00 4d80 4e00 4e80 4f00 4f80 5000 \\r\\n'\n",
      "Starting UART-based TSI\n",
      "Usage: ./uart_tsi +tty=/dev/pts/xx <PLUSARGS> <bin>\n",
      "       ./uart_tsi +tty=/dev/ttyxx  <PLUSARGS> <bin>\n",
      "       ./uart_tsi +tty=/dev/ttyxx  +no_hart0_msip +init_write=0x80000000:0xdeadbeef none\n",
      "       ./uart_tsi +tty=/dev/ttyxx  +no_hart0_msip +init_read=0x80000000 none\n",
      "       ./uart_tsi +tty=/dev/ttyxx  +selfcheck <bin>\n",
      "       ./uart_tsi +tty=/dev/ttyxx  +baudrate=921600 <bin>\n",
      "Attempting to open TTY at /dev/ttyUSB1\n",
      "Warning: You selected a non-standard baudrate. This will only work if the HW was configured with this baud-rate\n",
      "Checking connection status with /dev/ttyUSB1\n",
      "Connection succeeded\n",
      "Done, shutting down, flushing UART\n",
      "WARNING: You should probably reset the target before running this program again\n",
      "Done: now reset during the sleep before next iteration\n",
      "**Voltage set to: +8.50000000E-01\n",
      "V**\n"
     ]
    },
    {
     "name": "stderr",
     "output_type": "stream",
     "text": [
      "warning: tohost and fromhost symbols not in ELF; can't communicate with target\n",
      "Writing 14006c with 9\n",
      "Done writing 14006c with 9\n"
     ]
    },
    {
     "name": "stdout",
     "output_type": "stream",
     "text": [
      "b'0 4400 4600 4800 4900 4a00 4b00 4c00 4c80 4d00 4d80 4e00 4e80 4f00 4f80 5000 \\r\\n'\n",
      "Starting UART-based TSI\n",
      "Usage: ./uart_tsi +tty=/dev/pts/xx <PLUSARGS> <bin>\n",
      "       ./uart_tsi +tty=/dev/ttyxx  <PLUSARGS> <bin>\n",
      "       ./uart_tsi +tty=/dev/ttyxx  +no_hart0_msip +init_write=0x80000000:0xdeadbeef none\n",
      "       ./uart_tsi +tty=/dev/ttyxx  +no_hart0_msip +init_read=0x80000000 none\n",
      "       ./uart_tsi +tty=/dev/ttyxx  +selfcheck <bin>\n",
      "       ./uart_tsi +tty=/dev/ttyxx  +baudrate=921600 <bin>\n",
      "Attempting to open TTY at /dev/ttyUSB1\n",
      "Warning: You selected a non-standard baudrate. This will only work if the HW was configured with this baud-rate\n",
      "Checking connection status with /dev/ttyUSB1\n",
      "Connection succeeded\n",
      "Done, shutting down, flushing UART\n",
      "WARNING: You should probably reset the target before running this program again\n",
      "Done: now reset during the sleep before next iteration\n",
      "**Voltage set to: +9.00000000E-01\n",
      "V**\n"
     ]
    },
    {
     "name": "stderr",
     "output_type": "stream",
     "text": [
      "warning: tohost and fromhost symbols not in ELF; can't communicate with target\n",
      "Writing 14006c with 9\n",
      "Done writing 14006c with 9\n"
     ]
    },
    {
     "name": "stdout",
     "output_type": "stream",
     "text": [
      "b'0 4400 4600 4800 4900 4a00 4b00 4c00 4c80 4d00 4d80 4e00 4e80 4f00 4f80 5000 \\r\\n'\n",
      "Starting UART-based TSI\n",
      "Usage: ./uart_tsi +tty=/dev/pts/xx <PLUSARGS> <bin>\n",
      "       ./uart_tsi +tty=/dev/ttyxx  <PLUSARGS> <bin>\n",
      "       ./uart_tsi +tty=/dev/ttyxx  +no_hart0_msip +init_write=0x80000000:0xdeadbeef none\n",
      "       ./uart_tsi +tty=/dev/ttyxx  +no_hart0_msip +init_read=0x80000000 none\n",
      "       ./uart_tsi +tty=/dev/ttyxx  +selfcheck <bin>\n",
      "       ./uart_tsi +tty=/dev/ttyxx  +baudrate=921600 <bin>\n",
      "Attempting to open TTY at /dev/ttyUSB1\n",
      "Warning: You selected a non-standard baudrate. This will only work if the HW was configured with this baud-rate\n",
      "Checking connection status with /dev/ttyUSB1\n",
      "Connection succeeded\n",
      "Done, shutting down, flushing UART\n",
      "WARNING: You should probably reset the target before running this program again\n",
      "Done: now reset during the sleep before next iteration\n",
      "**Voltage set to: +9.50000000E-01\n",
      "V**\n"
     ]
    },
    {
     "name": "stderr",
     "output_type": "stream",
     "text": [
      "warning: tohost and fromhost symbols not in ELF; can't communicate with target\n",
      "Writing 14006c with 9\n",
      "Done writing 14006c with 9\n"
     ]
    },
    {
     "name": "stdout",
     "output_type": "stream",
     "text": [
      "b'0 4400 4600 4800 4900 4a00 4b00 4c00 4c80 4d00 4d80 4e00 4e80 4f00 4f80 5000 \\r\\n'\n",
      "Starting UART-based TSI\n",
      "Usage: ./uart_tsi +tty=/dev/pts/xx <PLUSARGS> <bin>\n",
      "       ./uart_tsi +tty=/dev/ttyxx  <PLUSARGS> <bin>\n",
      "       ./uart_tsi +tty=/dev/ttyxx  +no_hart0_msip +init_write=0x80000000:0xdeadbeef none\n",
      "       ./uart_tsi +tty=/dev/ttyxx  +no_hart0_msip +init_read=0x80000000 none\n",
      "       ./uart_tsi +tty=/dev/ttyxx  +selfcheck <bin>\n",
      "       ./uart_tsi +tty=/dev/ttyxx  +baudrate=921600 <bin>\n",
      "Attempting to open TTY at /dev/ttyUSB1\n",
      "Warning: You selected a non-standard baudrate. This will only work if the HW was configured with this baud-rate\n",
      "Checking connection status with /dev/ttyUSB1\n",
      "Connection succeeded\n",
      "Done, shutting down, flushing UART\n",
      "WARNING: You should probably reset the target before running this program again\n",
      "Done: now reset during the sleep before next iteration\n",
      "**Voltage set to: +1.00000000E+00\n",
      "V**\n"
     ]
    },
    {
     "name": "stderr",
     "output_type": "stream",
     "text": [
      "warning: tohost and fromhost symbols not in ELF; can't communicate with target\n",
      "Writing 14006c with 9\n",
      "Done writing 14006c with 9\n"
     ]
    },
    {
     "name": "stdout",
     "output_type": "stream",
     "text": [
      "b'0 4400 4600 4800 4900 4a00 4b00 4c00 4c80 4d00 4d80 4e00 4e80 4f00 4f80 5000 \\r\\n'\n",
      "Starting UART-based TSI\n",
      "Usage: ./uart_tsi +tty=/dev/pts/xx <PLUSARGS> <bin>\n",
      "       ./uart_tsi +tty=/dev/ttyxx  <PLUSARGS> <bin>\n",
      "       ./uart_tsi +tty=/dev/ttyxx  +no_hart0_msip +init_write=0x80000000:0xdeadbeef none\n",
      "       ./uart_tsi +tty=/dev/ttyxx  +no_hart0_msip +init_read=0x80000000 none\n",
      "       ./uart_tsi +tty=/dev/ttyxx  +selfcheck <bin>\n",
      "       ./uart_tsi +tty=/dev/ttyxx  +baudrate=921600 <bin>\n",
      "Attempting to open TTY at /dev/ttyUSB1\n",
      "Warning: You selected a non-standard baudrate. This will only work if the HW was configured with this baud-rate\n",
      "Checking connection status with /dev/ttyUSB1\n",
      "Connection succeeded\n",
      "Done, shutting down, flushing UART\n",
      "WARNING: You should probably reset the target before running this program again\n",
      "Done: now reset during the sleep before next iteration\n",
      "**Voltage set to: +1.05000000E+00\n",
      "V**\n"
     ]
    },
    {
     "name": "stderr",
     "output_type": "stream",
     "text": [
      "warning: tohost and fromhost symbols not in ELF; can't communicate with target\n",
      "Writing 14006c with 9\n",
      "Done writing 14006c with 9\n"
     ]
    },
    {
     "name": "stdout",
     "output_type": "stream",
     "text": [
      "b'0 4400 4600 4800 4900 4a00 4b00 4c00 4c80 4d00 4d80 4e00 4e80 4f00 4f80 5000 \\r\\n'\n",
      "Starting UART-based TSI\n",
      "Usage: ./uart_tsi +tty=/dev/pts/xx <PLUSARGS> <bin>\n",
      "       ./uart_tsi +tty=/dev/ttyxx  <PLUSARGS> <bin>\n",
      "       ./uart_tsi +tty=/dev/ttyxx  +no_hart0_msip +init_write=0x80000000:0xdeadbeef none\n",
      "       ./uart_tsi +tty=/dev/ttyxx  +no_hart0_msip +init_read=0x80000000 none\n",
      "       ./uart_tsi +tty=/dev/ttyxx  +selfcheck <bin>\n",
      "       ./uart_tsi +tty=/dev/ttyxx  +baudrate=921600 <bin>\n",
      "Attempting to open TTY at /dev/ttyUSB1\n",
      "Warning: You selected a non-standard baudrate. This will only work if the HW was configured with this baud-rate\n",
      "Checking connection status with /dev/ttyUSB1\n",
      "Connection succeeded\n",
      "Done, shutting down, flushing UART\n",
      "WARNING: You should probably reset the target before running this program again\n",
      "Done: now reset during the sleep before next iteration\n",
      "**Voltage set to: +1.10000000E+00\n",
      "V**\n"
     ]
    },
    {
     "name": "stderr",
     "output_type": "stream",
     "text": [
      "warning: tohost and fromhost symbols not in ELF; can't communicate with target\n",
      "Writing 14006c with 9\n",
      "Done writing 14006c with 9\n"
     ]
    },
    {
     "name": "stdout",
     "output_type": "stream",
     "text": [
      "b'0 4400 4600 4800 4900 4a00 4b00 4c00 4c80 4d00 4d80 4e00 4e80 4f00 4f80 5000 \\r\\n'\n",
      "Starting UART-based TSI\n",
      "Usage: ./uart_tsi +tty=/dev/pts/xx <PLUSARGS> <bin>\n",
      "       ./uart_tsi +tty=/dev/ttyxx  <PLUSARGS> <bin>\n",
      "       ./uart_tsi +tty=/dev/ttyxx  +no_hart0_msip +init_write=0x80000000:0xdeadbeef none\n",
      "       ./uart_tsi +tty=/dev/ttyxx  +no_hart0_msip +init_read=0x80000000 none\n",
      "       ./uart_tsi +tty=/dev/ttyxx  +selfcheck <bin>\n",
      "       ./uart_tsi +tty=/dev/ttyxx  +baudrate=921600 <bin>\n",
      "Attempting to open TTY at /dev/ttyUSB1\n",
      "Warning: You selected a non-standard baudrate. This will only work if the HW was configured with this baud-rate\n",
      "Checking connection status with /dev/ttyUSB1\n",
      "Connection succeeded\n",
      "Done, shutting down, flushing UART\n",
      "WARNING: You should probably reset the target before running this program again\n",
      "Done: now reset during the sleep before next iteration\n",
      "**Voltage set to: +1.15000000E+00\n",
      "V**\n"
     ]
    },
    {
     "name": "stderr",
     "output_type": "stream",
     "text": [
      "warning: tohost and fromhost symbols not in ELF; can't communicate with target\n",
      "Writing 14006c with 9\n",
      "Done writing 14006c with 9\n"
     ]
    },
    {
     "name": "stdout",
     "output_type": "stream",
     "text": [
      "b'0 4400 4600 4800 4900 4a00 4b00 4c00 4c80 4d00 4d80 4e00 4e80 4f00 4f80 5000 \\r\\n'\n",
      "Starting UART-based TSI\n",
      "Usage: ./uart_tsi +tty=/dev/pts/xx <PLUSARGS> <bin>\n",
      "       ./uart_tsi +tty=/dev/ttyxx  <PLUSARGS> <bin>\n",
      "       ./uart_tsi +tty=/dev/ttyxx  +no_hart0_msip +init_write=0x80000000:0xdeadbeef none\n",
      "       ./uart_tsi +tty=/dev/ttyxx  +no_hart0_msip +init_read=0x80000000 none\n",
      "       ./uart_tsi +tty=/dev/ttyxx  +selfcheck <bin>\n",
      "       ./uart_tsi +tty=/dev/ttyxx  +baudrate=921600 <bin>\n",
      "Attempting to open TTY at /dev/ttyUSB1\n",
      "Warning: You selected a non-standard baudrate. This will only work if the HW was configured with this baud-rate\n",
      "Checking connection status with /dev/ttyUSB1\n",
      "Connection succeeded\n",
      "Done, shutting down, flushing UART\n",
      "WARNING: You should probably reset the target before running this program again\n",
      "Done: now reset during the sleep before next iteration\n",
      "**Voltage set to: +1.20000000E+00\n",
      "V**\n"
     ]
    },
    {
     "name": "stderr",
     "output_type": "stream",
     "text": [
      "warning: tohost and fromhost symbols not in ELF; can't communicate with target\n",
      "Writing 14006c with 9\n",
      "Done writing 14006c with 9\n"
     ]
    },
    {
     "name": "stdout",
     "output_type": "stream",
     "text": [
      "b'0 4400 4600 4800 4900 4a00 4b00 4c00 4c80 4d00 4d80 4e00 4e80 4f00 4f80 5000 \\r\\n'\n",
      "Starting UART-based TSI\n",
      "Usage: ./uart_tsi +tty=/dev/pts/xx <PLUSARGS> <bin>\n",
      "       ./uart_tsi +tty=/dev/ttyxx  <PLUSARGS> <bin>\n",
      "       ./uart_tsi +tty=/dev/ttyxx  +no_hart0_msip +init_write=0x80000000:0xdeadbeef none\n",
      "       ./uart_tsi +tty=/dev/ttyxx  +no_hart0_msip +init_read=0x80000000 none\n",
      "       ./uart_tsi +tty=/dev/ttyxx  +selfcheck <bin>\n",
      "       ./uart_tsi +tty=/dev/ttyxx  +baudrate=921600 <bin>\n",
      "Attempting to open TTY at /dev/ttyUSB1\n",
      "Warning: You selected a non-standard baudrate. This will only work if the HW was configured with this baud-rate\n",
      "Checking connection status with /dev/ttyUSB1\n",
      "Connection succeeded\n",
      "Done, shutting down, flushing UART\n",
      "WARNING: You should probably reset the target before running this program again\n",
      "Done: now reset during the sleep before next iteration\n",
      "rm -rf build\n",
      "cmake -S ./ -B ./build/ -D CMAKE_TOOLCHAIN_FILE=./riscv-gcc.cmake -DCHIP=dsp24\n",
      "-- The ASM compiler identification is GNU\n",
      "-- Found assembler: /tools/C/ee290-fa24-2/.conda-env/riscv-tools/bin/riscv64-unknown-elf-gcc\n",
      "-- The C compiler identification is GNU 13.2.0\n",
      "-- The CXX compiler identification is GNU 13.2.0\n",
      "-- Detecting C compiler ABI info\n",
      "-- Detecting C compiler ABI info - done\n",
      "-- Check for working C compiler: /tools/C/ee290-fa24-2/.conda-env/riscv-tools/bin/riscv64-unknown-elf-gcc - skipped\n",
      "-- Detecting C compile features\n",
      "-- Detecting C compile features - done\n",
      "-- Detecting CXX compiler ABI info\n",
      "-- Detecting CXX compiler ABI info - done\n",
      "-- Check for working CXX compiler: /tools/C/ee290-fa24-2/.conda-env/riscv-tools/bin/riscv64-unknown-elf-g++ - skipped\n",
      "-- Detecting CXX compile features\n",
      "-- Detecting CXX compile features - done\n",
      "-- Including HTIF to target\n",
      "-- Including CLINT to target\n",
      "-- ================ Glossy config ================\n",
      "--  Building for CHIP: \"dsp24\"\n",
      "--  Reading config from \"/tools/C/tedkim7/sp24-Baremetal-IDE/platform/dsp24/CMakeLists.txt\"\n",
      "--  Terminal Device: UART0\n",
      "--  Linker Script: /tools/C/tedkim7/sp24-Baremetal-IDE/platform/dsp24/dsp24.ld\n",
      "-- ===============================================\n",
      "-- Configuring done (3.3s)\n",
      "-- Generating done (1.4s)\n",
      "-- Build files have been written to: /tools/C/tedkim7/sp24-Baremetal-IDE/build\n",
      "cmake --build ./build/ --target shmoo_bench\n",
      "gmake[1]: Entering directory '/bwrcq/C/tedkim7/sp24-Baremetal-IDE/build'\n",
      "gmake[2]: Entering directory '/bwrcq/C/tedkim7/sp24-Baremetal-IDE/build'\n",
      "gmake[3]: Entering directory '/bwrcq/C/tedkim7/sp24-Baremetal-IDE/build'\n",
      "gmake[4]: Entering directory '/bwrcq/C/tedkim7/sp24-Baremetal-IDE/build'\n",
      "gmake[4]: Leaving directory '/bwrcq/C/tedkim7/sp24-Baremetal-IDE/build'\n",
      "gmake[4]: Entering directory '/bwrcq/C/tedkim7/sp24-Baremetal-IDE/build'\n",
      "[  2%] \u001b[32mBuilding C object driver/rocket-chip-blocks/uart/CMakeFiles/uart.dir/uart.c.obj\u001b[0m\n"
     ]
    },
    {
     "name": "stderr",
     "output_type": "stream",
     "text": [
      "/tools/C/tedkim7/sp24-Baremetal-IDE/driver/rocket-chip-blocks/uart/uart.c: In function 'uart_receive':\n",
      "/tools/C/tedkim7/sp24-Baremetal-IDE/driver/rocket-chip-blocks/uart/uart.c:35:78: warning: unused parameter 'timeout' [-Wunused-parameter]\n",
      "   35 | Status uart_receive(UART_Type *UARTx, uint8_t *data, uint16_t size, uint32_t timeout) {\n",
      "      |                                                                     ~~~~~~~~~^~~~~~~\n",
      "/tools/C/tedkim7/sp24-Baremetal-IDE/driver/rocket-chip-blocks/uart/uart.c: In function 'uart_transmit':\n",
      "/tools/C/tedkim7/sp24-Baremetal-IDE/driver/rocket-chip-blocks/uart/uart.c:50:85: warning: unused parameter 'timeout' [-Wunused-parameter]\n",
      "   50 | Status uart_transmit(UART_Type *UARTx, const uint8_t *data, uint16_t size, uint32_t timeout) {\n",
      "      |                                                                            ~~~~~~~~~^~~~~~~\n"
     ]
    },
    {
     "name": "stdout",
     "output_type": "stream",
     "text": [
      "[  5%] \u001b[32m\u001b[1mLinking C static library libuart.a\u001b[0m\n",
      "gmake[4]: Leaving directory '/bwrcq/C/tedkim7/sp24-Baremetal-IDE/build'\n",
      "[  5%] Built target uart\n",
      "gmake[4]: Entering directory '/bwrcq/C/tedkim7/sp24-Baremetal-IDE/build'\n",
      "gmake[4]: Leaving directory '/bwrcq/C/tedkim7/sp24-Baremetal-IDE/build'\n",
      "gmake[4]: Entering directory '/bwrcq/C/tedkim7/sp24-Baremetal-IDE/build'\n",
      "[  7%] \u001b[32mBuilding C object driver/intel/pll/CMakeFiles/intel-pll.dir/pll.c.obj\u001b[0m\n",
      "[ 10%] \u001b[32m\u001b[1mLinking C static library libintel-pll.a\u001b[0m\n",
      "gmake[4]: Leaving directory '/bwrcq/C/tedkim7/sp24-Baremetal-IDE/build'\n",
      "[ 10%] Built target intel-pll\n",
      "gmake[4]: Entering directory '/bwrcq/C/tedkim7/sp24-Baremetal-IDE/build'\n",
      "gmake[4]: Leaving directory '/bwrcq/C/tedkim7/sp24-Baremetal-IDE/build'\n",
      "gmake[4]: Entering directory '/bwrcq/C/tedkim7/sp24-Baremetal-IDE/build'\n",
      "[ 12%] \u001b[32mBuilding C object driver/rocket-chip/clint/CMakeFiles/clint.dir/clint.c.obj\u001b[0m\n",
      "[ 15%] \u001b[32m\u001b[1mLinking C static library libclint.a\u001b[0m\n",
      "gmake[4]: Leaving directory '/bwrcq/C/tedkim7/sp24-Baremetal-IDE/build'\n",
      "[ 15%] Built target clint\n",
      "gmake[4]: Entering directory '/bwrcq/C/tedkim7/sp24-Baremetal-IDE/build'\n",
      "gmake[4]: Leaving directory '/bwrcq/C/tedkim7/sp24-Baremetal-IDE/build'\n",
      "gmake[4]: Entering directory '/bwrcq/C/tedkim7/sp24-Baremetal-IDE/build'\n",
      "[ 17%] \u001b[32mBuilding C object driver/rocket-chip/rocketcore/CMakeFiles/rocketcore.dir/rocketcore.c.obj\u001b[0m\n",
      "[ 20%] \u001b[32m\u001b[1mLinking C static library librocketcore.a\u001b[0m\n",
      "gmake[4]: Leaving directory '/bwrcq/C/tedkim7/sp24-Baremetal-IDE/build'\n",
      "[ 20%] Built target rocketcore\n",
      "gmake[4]: Entering directory '/bwrcq/C/tedkim7/sp24-Baremetal-IDE/build'\n",
      "gmake[4]: Leaving directory '/bwrcq/C/tedkim7/sp24-Baremetal-IDE/build'\n",
      "gmake[4]: Entering directory '/bwrcq/C/tedkim7/sp24-Baremetal-IDE/build'\n",
      "[ 23%] \u001b[32mBuilding C object driver/rocket-chip-blocks/i2c/CMakeFiles/i2c.dir/i2c.c.obj\u001b[0m\n"
     ]
    },
    {
     "name": "stderr",
     "output_type": "stream",
     "text": [
      "/tools/C/tedkim7/sp24-Baremetal-IDE/driver/rocket-chip-blocks/i2c/i2c.c: In function 'i2c_init':\n",
      "/tools/C/tedkim7/sp24-Baremetal-IDE/driver/rocket-chip-blocks/i2c/i2c.c:13:45: warning: unused parameter 'I2C_init' [-Wunused-parameter]\n",
      "   13 | void i2c_init(I2C_Type *I2Cx, I2C_InitType *I2C_init) {\n",
      "      |                               ~~~~~~~~~~~~~~^~~~~~~~\n",
      "/tools/C/tedkim7/sp24-Baremetal-IDE/driver/rocket-chip-blocks/i2c/i2c.c: In function 'i2c_wait_for_flag':\n",
      "/tools/C/tedkim7/sp24-Baremetal-IDE/driver/rocket-chip-blocks/i2c/i2c.c:30:9: warning: implicit declaration of function 'CLINT_getTime' [-Wimplicit-function-declaration]\n",
      "   30 |     if (CLINT_getTime() > (timestart + timeout)) {\n",
      "      |         ^~~~~~~~~~~~~\n",
      "/tools/C/tedkim7/sp24-Baremetal-IDE/driver/rocket-chip-blocks/i2c/i2c.c:30:25: warning: comparison of integer expressions of different signedness: 'int' and 'uint32_t' {aka 'unsigned int'} [-Wsign-compare]\n",
      "   30 |     if (CLINT_getTime() > (timestart + timeout)) {\n",
      "      |                         ^\n",
      "/tools/C/tedkim7/sp24-Baremetal-IDE/driver/rocket-chip-blocks/i2c/i2c.c: In function 'i2c_master_receive':\n",
      "/tools/C/tedkim7/sp24-Baremetal-IDE/driver/rocket-chip-blocks/i2c/i2c.c:53:24: warning: implicit declaration of function 'clint_get_time' [-Wimplicit-function-declaration]\n",
      "   53 |   uint64_t timestart = clint_get_time();\n",
      "      |                        ^~~~~~~~~~~~~~\n",
      "/tools/C/tedkim7/sp24-Baremetal-IDE/driver/rocket-chip-blocks/i2c/i2c.c: In function 'i2c_wait_for_transaction':\n",
      "/tools/C/tedkim7/sp24-Baremetal-IDE/driver/rocket-chip-blocks/i2c/i2c.c:50:1: warning: control reaches end of non-void function [-Wreturn-type]\n",
      "   50 | }\n",
      "      | ^\n"
     ]
    },
    {
     "name": "stdout",
     "output_type": "stream",
     "text": [
      "[ 25%] \u001b[32m\u001b[1mLinking C static library libi2c.a\u001b[0m\n",
      "gmake[4]: Leaving directory '/bwrcq/C/tedkim7/sp24-Baremetal-IDE/build'\n",
      "[ 25%] Built target i2c\n",
      "gmake[4]: Entering directory '/bwrcq/C/tedkim7/sp24-Baremetal-IDE/build'\n",
      "gmake[4]: Leaving directory '/bwrcq/C/tedkim7/sp24-Baremetal-IDE/build'\n",
      "gmake[4]: Entering directory '/bwrcq/C/tedkim7/sp24-Baremetal-IDE/build'\n",
      "[ 28%] \u001b[32mBuilding C object driver/rocket-chip-blocks/spi/CMakeFiles/spi.dir/spi.c.obj\u001b[0m\n"
     ]
    },
    {
     "name": "stderr",
     "output_type": "stream",
     "text": [
      "/tools/C/tedkim7/sp24-Baremetal-IDE/driver/rocket-chip-blocks/spi/spi.c: In function 'spi_receive':\n",
      "/tools/C/tedkim7/sp24-Baremetal-IDE/driver/rocket-chip-blocks/spi/spi.c:56:75: warning: unused parameter 'timeout' [-Wunused-parameter]\n",
      "   56 | Status spi_receive(SPI_Type *SPIx, uint8_t *data, uint16_t size, uint64_t timeout) {\n",
      "      |                                                                  ~~~~~~~~~^~~~~~~\n",
      "/tools/C/tedkim7/sp24-Baremetal-IDE/driver/rocket-chip-blocks/spi/spi.c: In function 'spi_transmit':\n",
      "/tools/C/tedkim7/sp24-Baremetal-IDE/driver/rocket-chip-blocks/spi/spi.c:68:76: warning: unused parameter 'timeout' [-Wunused-parameter]\n",
      "   68 | Status spi_transmit(SPI_Type *SPIx, uint8_t *data, uint16_t size, uint64_t timeout) {\n",
      "      |                                                                   ~~~~~~~~~^~~~~~~\n",
      "/tools/C/tedkim7/sp24-Baremetal-IDE/driver/rocket-chip-blocks/spi/spi.c: In function 'spi_transmit_receive':\n",
      "/tools/C/tedkim7/sp24-Baremetal-IDE/driver/rocket-chip-blocks/spi/spi.c:80:105: warning: unused parameter 'timeout' [-Wunused-parameter]\n",
      "   80 | Status spi_transmit_receive(SPI_Type *SPIx, uint8_t *tx_data, uint8_t *rx_data, uint16_t size, uint64_t timeout) {\n",
      "      |                                                                                                ~~~~~~~~~^~~~~~~\n"
     ]
    },
    {
     "name": "stdout",
     "output_type": "stream",
     "text": [
      "[ 30%] \u001b[32m\u001b[1mLinking C static library libspi.a\u001b[0m\n",
      "gmake[4]: Leaving directory '/bwrcq/C/tedkim7/sp24-Baremetal-IDE/build'\n",
      "[ 30%] Built target spi\n",
      "gmake[4]: Entering directory '/bwrcq/C/tedkim7/sp24-Baremetal-IDE/build'\n",
      "gmake[4]: Leaving directory '/bwrcq/C/tedkim7/sp24-Baremetal-IDE/build'\n",
      "gmake[4]: Entering directory '/bwrcq/C/tedkim7/sp24-Baremetal-IDE/build'\n",
      "[ 33%] \u001b[32mBuilding C object platform/dsp24/CMakeFiles/chip-config.dir/chip.c.obj\u001b[0m\n",
      "[ 35%] \u001b[32mBuilding C object platform/dsp24/CMakeFiles/chip-config.dir/src/hal_DMA.c.obj\u001b[0m\n"
     ]
    },
    {
     "name": "stderr",
     "output_type": "stream",
     "text": [
      "/tools/C/tedkim7/sp24-Baremetal-IDE/platform/dsp24/src/hal_DMA.c: In function 'set_DMAP':\n",
      "/tools/C/tedkim7/sp24-Baremetal-IDE/platform/dsp24/src/hal_DMA.c:24:53: warning: passing argument 2 of 'reg_write64' makes integer from pointer without a cast [-Wint-conversion]\n",
      "   24 |     reg_write64(DMA_SET_READ + num*DMA_MMIO_Offset, addr_r);\n",
      "      |                                                     ^~~~~~\n",
      "      |                                                     |\n",
      "      |                                                     uint64_t * {aka long unsigned int *}\n",
      "In file included from /tools/C/tedkim7/sp24-Baremetal-IDE/platform/dsp24/inc/hal_DMA.h:10,\n",
      "                 from /tools/C/tedkim7/sp24-Baremetal-IDE/platform/dsp24/src/hal_DMA.c:1:\n",
      "/tools/C/tedkim7/sp24-Baremetal-IDE/platform/dsp24/inc/hal_mmio.h:23:47: note: expected 'uint64_t' {aka 'long unsigned int'} but argument is of type 'uint64_t *' {aka 'long unsigned int *'}\n",
      "   23 | void reg_write64(unsigned long addr, uint64_t data);\n",
      "      |                                      ~~~~~~~~~^~~~\n",
      "/tools/C/tedkim7/sp24-Baremetal-IDE/platform/dsp24/src/hal_DMA.c:25:54: warning: passing argument 2 of 'reg_write64' makes integer from pointer without a cast [-Wint-conversion]\n",
      "   25 |     reg_write64(DMA_SET_WRITE + num*DMA_MMIO_Offset, addr_w);\n",
      "      |                                                      ^~~~~~\n",
      "      |                                                      |\n",
      "      |                                                      uint64_t * {aka long unsigned int *}\n",
      "/tools/C/tedkim7/sp24-Baremetal-IDE/platform/dsp24/inc/hal_mmio.h:23:47: note: expected 'uint64_t' {aka 'long unsigned int'} but argument is of type 'uint64_t *' {aka 'long unsigned int *'}\n",
      "   23 | void reg_write64(unsigned long addr, uint64_t data);\n",
      "      |                                      ~~~~~~~~~^~~~\n",
      "/tools/C/tedkim7/sp24-Baremetal-IDE/platform/dsp24/src/hal_DMA.c:26:50: warning: passing argument 2 of 'reg_write64' makes integer from pointer without a cast [-Wint-conversion]\n",
      "   26 |     reg_write64(DMA_SET_C + num*DMA_MMIO_Offset, addr_c);\n",
      "      |                                                  ^~~~~~\n",
      "      |                                                  |\n",
      "      |                                                  uint64_t * {aka long unsigned int *}\n",
      "/tools/C/tedkim7/sp24-Baremetal-IDE/platform/dsp24/inc/hal_mmio.h:23:47: note: expected 'uint64_t' {aka 'long unsigned int'} but argument is of type 'uint64_t *' {aka 'long unsigned int *'}\n",
      "   23 | void reg_write64(unsigned long addr, uint64_t data);\n",
      "      |                                      ~~~~~~~~~^~~~\n"
     ]
    },
    {
     "name": "stdout",
     "output_type": "stream",
     "text": [
      "[ 38%] \u001b[32mBuilding C object platform/dsp24/CMakeFiles/chip-config.dir/src/hal_I2S.c.obj\u001b[0m\n"
     ]
    },
    {
     "name": "stderr",
     "output_type": "stream",
     "text": [
      "/tools/C/tedkim7/sp24-Baremetal-IDE/platform/dsp24/src/hal_I2S.c: In function 'write_I2S_tx_DMA':\n",
      "/tools/C/tedkim7/sp24-Baremetal-IDE/platform/dsp24/src/hal_I2S.c:49:9: warning: implicit declaration of function 'printf' [-Wimplicit-function-declaration]\n",
      "   49 |         printf(\"Writing to left queue\\n\");\n",
      "      |         ^~~~~~\n",
      "/tools/C/tedkim7/sp24-Baremetal-IDE/platform/dsp24/src/hal_I2S.c:3:1: note: include '<stdio.h>' or provide a declaration of 'printf'\n",
      "    2 | #include  \"hal_mmio.h\"\n",
      "  +++ |+#include <stdio.h>\n",
      "    3 | \n",
      "/tools/C/tedkim7/sp24-Baremetal-IDE/platform/dsp24/src/hal_I2S.c:49:9: warning: incompatible implicit declaration of built-in function 'printf' [-Wbuiltin-declaration-mismatch]\n",
      "   49 |         printf(\"Writing to left queue\\n\");\n",
      "      |         ^~~~~~\n",
      "/tools/C/tedkim7/sp24-Baremetal-IDE/platform/dsp24/src/hal_I2S.c:49:9: note: include '<stdio.h>' or provide a declaration of 'printf'\n",
      "In file included from /tools/C/tedkim7/sp24-Baremetal-IDE/platform/dsp24/src/hal_I2S.c:1:\n",
      "/tools/C/tedkim7/sp24-Baremetal-IDE/platform/dsp24/inc/hal_I2S.h:13:37: warning: passing argument 3 of 'set_DMAP' makes pointer from integer without a cast [-Wint-conversion]\n",
      "   13 | #define I2S_BASE                    0x10042000U\n",
      "      |                                     ^\n",
      "      |                                     |\n",
      "      |                                     unsigned int\n",
      "/tools/C/tedkim7/sp24-Baremetal-IDE/platform/dsp24/inc/hal_I2S.h:26:37: note: in expansion of macro 'I2S_BASE'\n",
      "   26 | #define I2S_TX_L                    I2S_BASE + 0x20\n",
      "      |                                     ^~~~~~~~\n",
      "/tools/C/tedkim7/sp24-Baremetal-IDE/platform/dsp24/src/hal_I2S.c:50:38: note: in expansion of macro 'I2S_TX_L'\n",
      "   50 |         set_DMAP(dma_num, read_addr, I2S_TX_L, I2S_WATERMARK_TX_L, 8, 0, length, 3, poll);\n",
      "      |                                      ^~~~~~~~\n",
      "In file included from /tools/C/tedkim7/sp24-Baremetal-IDE/platform/dsp24/inc/hal_I2S.h:9:\n",
      "/tools/C/tedkim7/sp24-Baremetal-IDE/platform/dsp24/inc/hal_DMA.h:37:57: note: expected 'uint64_t *' {aka 'long unsigned int *'} but argument is of type 'unsigned int'\n",
      "   37 | void set_DMAP(uint32_t num, uint64_t* addr_r, uint64_t* addr_w, uint64_t* addr_c, uint16_t inc_r, uint16_t inc_w, uint16_t len, uint8_t logd, uint32_t count);\n",
      "      |                                               ~~~~~~~~~~^~~~~~\n",
      "/tools/C/tedkim7/sp24-Baremetal-IDE/platform/dsp24/inc/hal_I2S.h:13:37: warning: passing argument 4 of 'set_DMAP' makes pointer from integer without a cast [-Wint-conversion]\n",
      "   13 | #define I2S_BASE                    0x10042000U\n",
      "      |                                     ^\n",
      "      |                                     |\n",
      "      |                                     unsigned int\n",
      "/tools/C/tedkim7/sp24-Baremetal-IDE/platform/dsp24/inc/hal_I2S.h:18:37: note: in expansion of macro 'I2S_BASE'\n",
      "   18 | #define I2S_WATERMARK_TX_L          I2S_BASE + 0x100\n",
      "      |                                     ^~~~~~~~\n",
      "/tools/C/tedkim7/sp24-Baremetal-IDE/platform/dsp24/src/hal_I2S.c:50:48: note: in expansion of macro 'I2S_WATERMARK_TX_L'\n",
      "   50 |         set_DMAP(dma_num, read_addr, I2S_TX_L, I2S_WATERMARK_TX_L, 8, 0, length, 3, poll);\n",
      "      |                                                ^~~~~~~~~~~~~~~~~~\n",
      "/tools/C/tedkim7/sp24-Baremetal-IDE/platform/dsp24/inc/hal_DMA.h:37:75: note: expected 'uint64_t *' {aka 'long unsigned int *'} but argument is of type 'unsigned int'\n",
      "   37 | void set_DMAP(uint32_t num, uint64_t* addr_r, uint64_t* addr_w, uint64_t* addr_c, uint16_t inc_r, uint16_t inc_w, uint16_t len, uint8_t logd, uint32_t count);\n",
      "      |                                                                 ~~~~~~~~~~^~~~~~\n",
      "/tools/C/tedkim7/sp24-Baremetal-IDE/platform/dsp24/src/hal_I2S.c:52:9: warning: incompatible implicit declaration of built-in function 'printf' [-Wbuiltin-declaration-mismatch]\n",
      "   52 |         printf(\"Writing to right queue\\n\");\n",
      "      |         ^~~~~~\n",
      "/tools/C/tedkim7/sp24-Baremetal-IDE/platform/dsp24/src/hal_I2S.c:52:9: note: include '<stdio.h>' or provide a declaration of 'printf'\n",
      "/tools/C/tedkim7/sp24-Baremetal-IDE/platform/dsp24/inc/hal_I2S.h:13:37: warning: passing argument 3 of 'set_DMAP' makes pointer from integer without a cast [-Wint-conversion]\n",
      "   13 | #define I2S_BASE                    0x10042000U\n",
      "      |                                     ^\n",
      "      |                                     |\n",
      "      |                                     unsigned int\n",
      "/tools/C/tedkim7/sp24-Baremetal-IDE/platform/dsp24/inc/hal_I2S.h:27:37: note: in expansion of macro 'I2S_BASE'\n",
      "   27 | #define I2S_TX_R                    I2S_BASE + 0x28\n",
      "      |                                     ^~~~~~~~\n",
      "/tools/C/tedkim7/sp24-Baremetal-IDE/platform/dsp24/src/hal_I2S.c:53:38: note: in expansion of macro 'I2S_TX_R'\n",
      "   53 |         set_DMAP(dma_num, read_addr, I2S_TX_R, I2S_WATERMARK_TX_R, 8, 0, length, 3, poll);\n",
      "      |                                      ^~~~~~~~\n",
      "/tools/C/tedkim7/sp24-Baremetal-IDE/platform/dsp24/inc/hal_DMA.h:37:57: note: expected 'uint64_t *' {aka 'long unsigned int *'} but argument is of type 'unsigned int'\n",
      "   37 | void set_DMAP(uint32_t num, uint64_t* addr_r, uint64_t* addr_w, uint64_t* addr_c, uint16_t inc_r, uint16_t inc_w, uint16_t len, uint8_t logd, uint32_t count);\n",
      "      |                                               ~~~~~~~~~~^~~~~~\n",
      "/tools/C/tedkim7/sp24-Baremetal-IDE/platform/dsp24/inc/hal_I2S.h:13:37: warning: passing argument 4 of 'set_DMAP' makes pointer from integer without a cast [-Wint-conversion]\n",
      "   13 | #define I2S_BASE                    0x10042000U\n",
      "      |                                     ^\n",
      "      |                                     |\n",
      "      |                                     unsigned int\n",
      "/tools/C/tedkim7/sp24-Baremetal-IDE/platform/dsp24/inc/hal_I2S.h:19:37: note: in expansion of macro 'I2S_BASE'\n",
      "   19 | #define I2S_WATERMARK_TX_R          I2S_BASE + 0x101\n",
      "      |                                     ^~~~~~~~\n",
      "/tools/C/tedkim7/sp24-Baremetal-IDE/platform/dsp24/src/hal_I2S.c:53:48: note: in expansion of macro 'I2S_WATERMARK_TX_R'\n",
      "   53 |         set_DMAP(dma_num, read_addr, I2S_TX_R, I2S_WATERMARK_TX_R, 8, 0, length, 3, poll);\n",
      "      |                                                ^~~~~~~~~~~~~~~~~~\n",
      "/tools/C/tedkim7/sp24-Baremetal-IDE/platform/dsp24/inc/hal_DMA.h:37:75: note: expected 'uint64_t *' {aka 'long unsigned int *'} but argument is of type 'unsigned int'\n",
      "   37 | void set_DMAP(uint32_t num, uint64_t* addr_r, uint64_t* addr_w, uint64_t* addr_c, uint16_t inc_r, uint16_t inc_w, uint16_t len, uint8_t logd, uint32_t count);\n",
      "      |                                                                 ~~~~~~~~~~^~~~~~\n",
      "/tools/C/tedkim7/sp24-Baremetal-IDE/platform/dsp24/src/hal_I2S.c: In function 'read_I2S_rx_DMA':\n",
      "/tools/C/tedkim7/sp24-Baremetal-IDE/platform/dsp24/inc/hal_I2S.h:13:37: warning: passing argument 2 of 'set_DMAP' makes pointer from integer without a cast [-Wint-conversion]\n",
      "   13 | #define I2S_BASE                    0x10042000U\n",
      "      |                                     ^\n",
      "      |                                     |\n",
      "      |                                     unsigned int\n",
      "/tools/C/tedkim7/sp24-Baremetal-IDE/platform/dsp24/inc/hal_I2S.h:28:37: note: in expansion of macro 'I2S_BASE'\n",
      "   28 | #define I2S_RX_L                    I2S_BASE + 0x60\n",
      "      |                                     ^~~~~~~~\n",
      "/tools/C/tedkim7/sp24-Baremetal-IDE/platform/dsp24/src/hal_I2S.c:60:27: note: in expansion of macro 'I2S_RX_L'\n",
      "   60 |         set_DMAP(dma_num, I2S_RX_L, write_addr, I2S_WATERMARK_RX_L, 0, 8, length, 3, poll);\n",
      "      |                           ^~~~~~~~\n",
      "/tools/C/tedkim7/sp24-Baremetal-IDE/platform/dsp24/inc/hal_DMA.h:37:39: note: expected 'uint64_t *' {aka 'long unsigned int *'} but argument is of type 'unsigned int'\n",
      "   37 | void set_DMAP(uint32_t num, uint64_t* addr_r, uint64_t* addr_w, uint64_t* addr_c, uint16_t inc_r, uint16_t inc_w, uint16_t len, uint8_t logd, uint32_t count);\n",
      "      |                             ~~~~~~~~~~^~~~~~\n",
      "/tools/C/tedkim7/sp24-Baremetal-IDE/platform/dsp24/inc/hal_I2S.h:13:37: warning: passing argument 4 of 'set_DMAP' makes pointer from integer without a cast [-Wint-conversion]\n",
      "   13 | #define I2S_BASE                    0x10042000U\n",
      "      |                                     ^\n",
      "      |                                     |\n",
      "      |                                     unsigned int\n",
      "/tools/C/tedkim7/sp24-Baremetal-IDE/platform/dsp24/inc/hal_I2S.h:16:37: note: in expansion of macro 'I2S_BASE'\n",
      "   16 | #define I2S_WATERMARK_RX_L          I2S_BASE + 0x102\n",
      "      |                                     ^~~~~~~~\n",
      "/tools/C/tedkim7/sp24-Baremetal-IDE/platform/dsp24/src/hal_I2S.c:60:49: note: in expansion of macro 'I2S_WATERMARK_RX_L'\n",
      "   60 |         set_DMAP(dma_num, I2S_RX_L, write_addr, I2S_WATERMARK_RX_L, 0, 8, length, 3, poll);\n",
      "      |                                                 ^~~~~~~~~~~~~~~~~~\n",
      "/tools/C/tedkim7/sp24-Baremetal-IDE/platform/dsp24/inc/hal_DMA.h:37:75: note: expected 'uint64_t *' {aka 'long unsigned int *'} but argument is of type 'unsigned int'\n",
      "   37 | void set_DMAP(uint32_t num, uint64_t* addr_r, uint64_t* addr_w, uint64_t* addr_c, uint16_t inc_r, uint16_t inc_w, uint16_t len, uint8_t logd, uint32_t count);\n",
      "      |                                                                 ~~~~~~~~~~^~~~~~\n",
      "/tools/C/tedkim7/sp24-Baremetal-IDE/platform/dsp24/inc/hal_I2S.h:13:37: warning: passing argument 2 of 'set_DMAP' makes pointer from integer without a cast [-Wint-conversion]\n",
      "   13 | #define I2S_BASE                    0x10042000U\n",
      "      |                                     ^\n",
      "      |                                     |\n",
      "      |                                     unsigned int\n",
      "/tools/C/tedkim7/sp24-Baremetal-IDE/platform/dsp24/inc/hal_I2S.h:29:37: note: in expansion of macro 'I2S_BASE'\n",
      "   29 | #define I2S_RX_R                    I2S_BASE + 0x68\n",
      "      |                                     ^~~~~~~~\n",
      "/tools/C/tedkim7/sp24-Baremetal-IDE/platform/dsp24/src/hal_I2S.c:62:27: note: in expansion of macro 'I2S_RX_R'\n",
      "   62 |         set_DMAP(dma_num, I2S_RX_R, write_addr, I2S_WATERMARK_RX_R, 0, 8, length, 3, poll);\n",
      "      |                           ^~~~~~~~\n",
      "/tools/C/tedkim7/sp24-Baremetal-IDE/platform/dsp24/inc/hal_DMA.h:37:39: note: expected 'uint64_t *' {aka 'long unsigned int *'} but argument is of type 'unsigned int'\n",
      "   37 | void set_DMAP(uint32_t num, uint64_t* addr_r, uint64_t* addr_w, uint64_t* addr_c, uint16_t inc_r, uint16_t inc_w, uint16_t len, uint8_t logd, uint32_t count);\n",
      "      |                             ~~~~~~~~~~^~~~~~\n",
      "/tools/C/tedkim7/sp24-Baremetal-IDE/platform/dsp24/inc/hal_I2S.h:13:37: warning: passing argument 4 of 'set_DMAP' makes pointer from integer without a cast [-Wint-conversion]\n",
      "   13 | #define I2S_BASE                    0x10042000U\n",
      "      |                                     ^\n",
      "      |                                     |\n",
      "      |                                     unsigned int\n",
      "/tools/C/tedkim7/sp24-Baremetal-IDE/platform/dsp24/inc/hal_I2S.h:17:37: note: in expansion of macro 'I2S_BASE'\n",
      "   17 | #define I2S_WATERMARK_RX_R          I2S_BASE + 0x103\n",
      "      |                                     ^~~~~~~~\n",
      "/tools/C/tedkim7/sp24-Baremetal-IDE/platform/dsp24/src/hal_I2S.c:62:49: note: in expansion of macro 'I2S_WATERMARK_RX_R'\n",
      "   62 |         set_DMAP(dma_num, I2S_RX_R, write_addr, I2S_WATERMARK_RX_R, 0, 8, length, 3, poll);\n",
      "      |                                                 ^~~~~~~~~~~~~~~~~~\n",
      "/tools/C/tedkim7/sp24-Baremetal-IDE/platform/dsp24/inc/hal_DMA.h:37:75: note: expected 'uint64_t *' {aka 'long unsigned int *'} but argument is of type 'unsigned int'\n",
      "   37 | void set_DMAP(uint32_t num, uint64_t* addr_r, uint64_t* addr_w, uint64_t* addr_c, uint16_t inc_r, uint16_t inc_w, uint16_t len, uint8_t logd, uint32_t count);\n",
      "      |                                                                 ~~~~~~~~~~^~~~~~\n"
     ]
    },
    {
     "name": "stdout",
     "output_type": "stream",
     "text": [
      "[ 41%] \u001b[32mBuilding C object platform/dsp24/CMakeFiles/chip-config.dir/src/hal_conv.c.obj\u001b[0m\n"
     ]
    },
    {
     "name": "stderr",
     "output_type": "stream",
     "text": [
      "/tools/C/tedkim7/sp24-Baremetal-IDE/platform/dsp24/src/hal_conv.c: In function 'write_conv_dma':\n",
      "/tools/C/tedkim7/sp24-Baremetal-IDE/platform/dsp24/src/hal_conv.c:13:5: warning: implicit declaration of function 'set_DMAC' [-Wimplicit-function-declaration]\n",
      "   13 |     set_DMAC(dma_num, (uint64_t*) data, CONV_BASE, 8, 0, length/8, 3);\n",
      "      |     ^~~~~~~~\n",
      "/tools/C/tedkim7/sp24-Baremetal-IDE/platform/dsp24/src/hal_conv.c:14:5: warning: implicit declaration of function 'start_DMA' [-Wimplicit-function-declaration]\n",
      "   14 |     start_DMA(dma_num);\n",
      "      |     ^~~~~~~~~\n",
      "/tools/C/tedkim7/sp24-Baremetal-IDE/platform/dsp24/src/hal_conv.c: In function 'read_conv_dma_p':\n",
      "/tools/C/tedkim7/sp24-Baremetal-IDE/platform/dsp24/src/hal_conv.c:23:5: warning: implicit declaration of function 'set_DMAP' [-Wimplicit-function-declaration]\n",
      "   23 |     set_DMAP(dma_num, CONV_OUTPUT_ADDR, write_addr, READ_CHECK_ADDR, 0, 8, length/4, 3, 0);\n",
      "      |     ^~~~~~~~\n"
     ]
    },
    {
     "name": "stdout",
     "output_type": "stream",
     "text": [
      "[ 43%] \u001b[32mBuilding C object platform/dsp24/CMakeFiles/chip-config.dir/src/hal_fft.c.obj\u001b[0m\n"
     ]
    },
    {
     "name": "stderr",
     "output_type": "stream",
     "text": [
      "/tools/C/tedkim7/sp24-Baremetal-IDE/platform/dsp24/src/hal_fft.c: In function 'write_fft_dma':\n",
      "/tools/C/tedkim7/sp24-Baremetal-IDE/platform/dsp24/src/hal_fft.c:28:23: warning: passing argument 2 of 'set_DMAC' makes integer from pointer without a cast [-Wint-conversion]\n",
      "   28 |     set_DMAC(dma_num, data, FFT_INPUT, 8, 0, length/2, 3);\n",
      "      |                       ^~~~\n",
      "      |                       |\n",
      "      |                       uint64_t * {aka long unsigned int *}\n",
      "In file included from /tools/C/tedkim7/sp24-Baremetal-IDE/platform/dsp24/inc/hal_fft.h:9,\n",
      "                 from /tools/C/tedkim7/sp24-Baremetal-IDE/platform/dsp24/src/hal_fft.c:1:\n",
      "/tools/C/tedkim7/sp24-Baremetal-IDE/platform/dsp24/inc/hal_DMA.h:34:38: note: expected 'uint64_t' {aka 'long unsigned int'} but argument is of type 'uint64_t *' {aka 'long unsigned int *'}\n",
      "   34 | void set_DMAC(uint32_t num, uint64_t addr_r, uint64_t addr_w, uint16_t inc_r, uint16_t inc_w, uint16_t len, uint16_t logd);\n",
      "      |                             ~~~~~~~~~^~~~~~\n",
      "/tools/C/tedkim7/sp24-Baremetal-IDE/platform/dsp24/src/hal_fft.c: In function 'read_fft_dma':\n",
      "/tools/C/tedkim7/sp24-Baremetal-IDE/platform/dsp24/src/hal_fft.c:33:35: warning: passing argument 3 of 'set_DMAC' makes integer from pointer without a cast [-Wint-conversion]\n",
      "   33 |     set_DMAC(dma_num, FFT_OUTPUT, write_addr, 0, 8, length, 2);\n",
      "      |                                   ^~~~~~~~~~\n",
      "      |                                   |\n",
      "      |                                   uint64_t * {aka long unsigned int *}\n",
      "/tools/C/tedkim7/sp24-Baremetal-IDE/platform/dsp24/inc/hal_DMA.h:34:55: note: expected 'uint64_t' {aka 'long unsigned int'} but argument is of type 'uint64_t *' {aka 'long unsigned int *'}\n",
      "   34 | void set_DMAC(uint32_t num, uint64_t addr_r, uint64_t addr_w, uint16_t inc_r, uint16_t inc_w, uint16_t len, uint16_t logd);\n",
      "      |                                              ~~~~~~~~~^~~~~~\n",
      "/tools/C/tedkim7/sp24-Baremetal-IDE/platform/dsp24/src/hal_fft.c: In function 'read_fft_real_dma':\n",
      "/tools/C/tedkim7/sp24-Baremetal-IDE/platform/dsp24/src/hal_fft.c:38:35: warning: passing argument 3 of 'set_DMAC' makes integer from pointer without a cast [-Wint-conversion]\n",
      "   38 |     set_DMAC(dma_num, FFT_OUTPUT, write_addr, 0, 4, length, 1);\n",
      "      |                                   ^~~~~~~~~~\n",
      "      |                                   |\n",
      "      |                                   uint64_t * {aka long unsigned int *}\n",
      "/tools/C/tedkim7/sp24-Baremetal-IDE/platform/dsp24/inc/hal_DMA.h:34:55: note: expected 'uint64_t' {aka 'long unsigned int'} but argument is of type 'uint64_t *' {aka 'long unsigned int *'}\n",
      "   34 | void set_DMAC(uint32_t num, uint64_t addr_r, uint64_t addr_w, uint16_t inc_r, uint16_t inc_w, uint16_t len, uint16_t logd);\n",
      "      |                                              ~~~~~~~~~^~~~~~\n"
     ]
    },
    {
     "name": "stdout",
     "output_type": "stream",
     "text": [
      "[ 46%] \u001b[32mBuilding C object platform/dsp24/CMakeFiles/chip-config.dir/src/hal_mmio.c.obj\u001b[0m\n",
      "[ 48%] \u001b[32m\u001b[1mLinking C static library libchip-config.a\u001b[0m\n",
      "gmake[4]: Leaving directory '/bwrcq/C/tedkim7/sp24-Baremetal-IDE/build'\n",
      "[ 48%] Built target chip-config\n",
      "gmake[4]: Entering directory '/bwrcq/C/tedkim7/sp24-Baremetal-IDE/build'\n",
      "gmake[4]: Leaving directory '/bwrcq/C/tedkim7/sp24-Baremetal-IDE/build'\n",
      "gmake[4]: Entering directory '/bwrcq/C/tedkim7/sp24-Baremetal-IDE/build'\n",
      "[ 51%] \u001b[32mBuilding ASM object glossy/CMakeFiles/glossy.dir/src/startup/crt0.S.obj\u001b[0m\n",
      "[ 53%] \u001b[32mBuilding ASM object glossy/CMakeFiles/glossy.dir/src/startup/init.S.obj\u001b[0m\n",
      "[ 56%] \u001b[32mBuilding C object glossy/CMakeFiles/glossy.dir/src/startup/secondary.c.obj\u001b[0m\n",
      "[ 58%] \u001b[32mBuilding ASM object glossy/CMakeFiles/glossy.dir/src/trap/trap.S.obj\u001b[0m\n",
      "[ 61%] \u001b[32mBuilding C object glossy/CMakeFiles/glossy.dir/src/trap/trap.c.obj\u001b[0m\n"
     ]
    },
    {
     "name": "stderr",
     "output_type": "stream",
     "text": [
      "/tools/C/tedkim7/sp24-Baremetal-IDE/glossy/src/trap/trap.c: In function 'trap_handler':\n",
      "/tools/C/tedkim7/sp24-Baremetal-IDE/glossy/src/trap/trap.c:73:92: warning: unused parameter 'm_tval' [-Wunused-parameter]\n",
      "   73 | __attribute__((weak)) uintptr_t trap_handler(uintptr_t m_epc, uintptr_t m_cause, uintptr_t m_tval, uintptr_t regs[32]) {\n",
      "      |                                                                                  ~~~~~~~~~~^~~~~~\n",
      "/tools/C/tedkim7/sp24-Baremetal-IDE/glossy/src/trap/trap.c:73:110: warning: unused parameter 'regs' [-Wunused-parameter]\n",
      "   73 | __attribute__((weak)) uintptr_t trap_handler(uintptr_t m_epc, uintptr_t m_cause, uintptr_t m_tval, uintptr_t regs[32]) {\n",
      "      |                                                                                                    ~~~~~~~~~~^~~~~~~~\n"
     ]
    },
    {
     "name": "stdout",
     "output_type": "stream",
     "text": [
      "[ 64%] \u001b[32mBuilding C object glossy/CMakeFiles/glossy.dir/src/sys/close.c.obj\u001b[0m\n"
     ]
    },
    {
     "name": "stderr",
     "output_type": "stream",
     "text": [
      "/tools/C/tedkim7/sp24-Baremetal-IDE/glossy/src/sys/close.c: In function '_close':\n",
      "/tools/C/tedkim7/sp24-Baremetal-IDE/glossy/src/sys/close.c:2:38: warning: unused parameter 'file' [-Wunused-parameter]\n",
      "    2 | __attribute__((weak)) int _close(int file) {\n",
      "      |                                  ~~~~^~~~\n"
     ]
    },
    {
     "name": "stdout",
     "output_type": "stream",
     "text": [
      "[ 66%] \u001b[32mBuilding C object glossy/CMakeFiles/glossy.dir/src/sys/exit.c.obj\u001b[0m\n"
     ]
    },
    {
     "name": "stderr",
     "output_type": "stream",
     "text": [
      "/tools/C/tedkim7/sp24-Baremetal-IDE/glossy/src/sys/exit.c: In function '_exit':\n",
      "/tools/C/tedkim7/sp24-Baremetal-IDE/glossy/src/sys/exit.c:4:48: warning: unused parameter 'code' [-Wunused-parameter]\n",
      "    4 | __attribute__((weak, noreturn)) void _exit(int code) {\n",
      "      |                                            ~~~~^~~~\n"
     ]
    },
    {
     "name": "stdout",
     "output_type": "stream",
     "text": [
      "[ 69%] \u001b[32mBuilding C object glossy/CMakeFiles/glossy.dir/src/sys/fstat.c.obj\u001b[0m\n"
     ]
    },
    {
     "name": "stderr",
     "output_type": "stream",
     "text": [
      "/tools/C/tedkim7/sp24-Baremetal-IDE/glossy/src/sys/fstat.c: In function '_fstat':\n",
      "/tools/C/tedkim7/sp24-Baremetal-IDE/glossy/src/sys/fstat.c:4:38: warning: unused parameter 'file' [-Wunused-parameter]\n",
      "    4 | __attribute__((weak)) int _fstat(int file, struct stat *st) {\n",
      "      |                                  ~~~~^~~~\n",
      "/tools/C/tedkim7/sp24-Baremetal-IDE/glossy/src/sys/fstat.c:4:57: warning: unused parameter 'st' [-Wunused-parameter]\n",
      "    4 | __attribute__((weak)) int _fstat(int file, struct stat *st) {\n",
      "      |                                            ~~~~~~~~~~~~~^~\n"
     ]
    },
    {
     "name": "stdout",
     "output_type": "stream",
     "text": [
      "[ 71%] \u001b[32mBuilding C object glossy/CMakeFiles/glossy.dir/src/sys/getpid.c.obj\u001b[0m\n",
      "[ 74%] \u001b[32mBuilding C object glossy/CMakeFiles/glossy.dir/src/sys/isatty.c.obj\u001b[0m\n",
      "[ 76%] \u001b[32mBuilding C object glossy/CMakeFiles/glossy.dir/src/sys/kill.c.obj\u001b[0m\n"
     ]
    },
    {
     "name": "stderr",
     "output_type": "stream",
     "text": [
      "/tools/C/tedkim7/sp24-Baremetal-IDE/glossy/src/sys/kill.c: In function '_kill':\n",
      "/tools/C/tedkim7/sp24-Baremetal-IDE/glossy/src/sys/kill.c:2:37: warning: unused parameter 'pid' [-Wunused-parameter]\n",
      "    2 | __attribute__((weak)) int _kill(int pid, int sig) {\n",
      "      |                                 ~~~~^~~\n",
      "/tools/C/tedkim7/sp24-Baremetal-IDE/glossy/src/sys/kill.c:2:46: warning: unused parameter 'sig' [-Wunused-parameter]\n",
      "    2 | __attribute__((weak)) int _kill(int pid, int sig) {\n",
      "      |                                          ~~~~^~~\n"
     ]
    },
    {
     "name": "stdout",
     "output_type": "stream",
     "text": [
      "[ 79%] \u001b[32mBuilding C object glossy/CMakeFiles/glossy.dir/src/sys/lseek.c.obj\u001b[0m\n"
     ]
    },
    {
     "name": "stderr",
     "output_type": "stream",
     "text": [
      "/tools/C/tedkim7/sp24-Baremetal-IDE/glossy/src/sys/lseek.c: In function '_lseek':\n",
      "/tools/C/tedkim7/sp24-Baremetal-IDE/glossy/src/sys/lseek.c:5:40: warning: unused parameter 'file' [-Wunused-parameter]\n",
      "    5 | __attribute__((weak)) off_t _lseek(int file, off_t ptr, int dir) {\n",
      "      |                                    ~~~~^~~~\n",
      "/tools/C/tedkim7/sp24-Baremetal-IDE/glossy/src/sys/lseek.c:5:52: warning: unused parameter 'ptr' [-Wunused-parameter]\n",
      "    5 | __attribute__((weak)) off_t _lseek(int file, off_t ptr, int dir) {\n",
      "      |                                              ~~~~~~^~~\n",
      "/tools/C/tedkim7/sp24-Baremetal-IDE/glossy/src/sys/lseek.c:5:61: warning: unused parameter 'dir' [-Wunused-parameter]\n",
      "    5 | __attribute__((weak)) off_t _lseek(int file, off_t ptr, int dir) {\n",
      "      |                                                         ~~~~^~~\n"
     ]
    },
    {
     "name": "stdout",
     "output_type": "stream",
     "text": [
      "[ 82%] \u001b[32mBuilding C object glossy/CMakeFiles/glossy.dir/src/sys/open.c.obj\u001b[0m\n"
     ]
    },
    {
     "name": "stderr",
     "output_type": "stream",
     "text": [
      "/tools/C/tedkim7/sp24-Baremetal-IDE/glossy/src/sys/open.c: In function '_open':\n",
      "/tools/C/tedkim7/sp24-Baremetal-IDE/glossy/src/sys/open.c:3:45: warning: unused parameter 'path' [-Wunused-parameter]\n",
      "    3 | __attribute__((weak)) int _open(const char *path, int flags, int mode) {\n",
      "      |                                 ~~~~~~~~~~~~^~~~\n",
      "/tools/C/tedkim7/sp24-Baremetal-IDE/glossy/src/sys/open.c:3:55: warning: unused parameter 'flags' [-Wunused-parameter]\n",
      "    3 | __attribute__((weak)) int _open(const char *path, int flags, int mode) {\n",
      "      |                                                   ~~~~^~~~~\n",
      "/tools/C/tedkim7/sp24-Baremetal-IDE/glossy/src/sys/open.c:3:66: warning: unused parameter 'mode' [-Wunused-parameter]\n",
      "    3 | __attribute__((weak)) int _open(const char *path, int flags, int mode) {\n",
      "      |                                                              ~~~~^~~~\n"
     ]
    },
    {
     "name": "stdout",
     "output_type": "stream",
     "text": [
      "[ 84%] \u001b[32mBuilding C object glossy/CMakeFiles/glossy.dir/src/sys/read.c.obj\u001b[0m\n"
     ]
    },
    {
     "name": "stderr",
     "output_type": "stream",
     "text": [
      "/tools/C/tedkim7/sp24-Baremetal-IDE/glossy/src/sys/read.c: In function '_read':\n",
      "/tools/C/tedkim7/sp24-Baremetal-IDE/glossy/src/sys/read.c:5:41: warning: unused parameter 'file' [-Wunused-parameter]\n",
      "    5 | __attribute__((weak)) ssize_t _read(int file, void *ptr, size_t len) {\n",
      "      |                                     ~~~~^~~~\n",
      "/tools/C/tedkim7/sp24-Baremetal-IDE/glossy/src/sys/read.c:5:53: warning: unused parameter 'ptr' [-Wunused-parameter]\n",
      "    5 | __attribute__((weak)) ssize_t _read(int file, void *ptr, size_t len) {\n",
      "      |                                               ~~~~~~^~~\n",
      "/tools/C/tedkim7/sp24-Baremetal-IDE/glossy/src/sys/read.c:5:65: warning: unused parameter 'len' [-Wunused-parameter]\n",
      "    5 | __attribute__((weak)) ssize_t _read(int file, void *ptr, size_t len) {\n",
      "      |                                                          ~~~~~~~^~~\n"
     ]
    },
    {
     "name": "stdout",
     "output_type": "stream",
     "text": [
      "[ 87%] \u001b[32mBuilding C object glossy/CMakeFiles/glossy.dir/src/sys/sbrk.c.obj\u001b[0m\n",
      "[ 89%] \u001b[32mBuilding C object glossy/CMakeFiles/glossy.dir/src/sys/time.c.obj\u001b[0m\n",
      "[ 92%] \u001b[32mBuilding C object glossy/CMakeFiles/glossy.dir/src/sys/write.c.obj\u001b[0m\n"
     ]
    },
    {
     "name": "stderr",
     "output_type": "stream",
     "text": [
      "/tools/C/tedkim7/sp24-Baremetal-IDE/glossy/src/sys/write.c: In function '_write':\n",
      "/tools/C/tedkim7/sp24-Baremetal-IDE/glossy/src/sys/write.c:8:42: warning: unused parameter 'fd' [-Wunused-parameter]\n",
      "    8 | __attribute__((weak)) ssize_t _write(int fd, const void *ptr, size_t len) {\n",
      "      |                                      ~~~~^~\n"
     ]
    },
    {
     "name": "stdout",
     "output_type": "stream",
     "text": [
      "[ 94%] \u001b[32m\u001b[1mLinking C static library libglossy.a\u001b[0m\n",
      "gmake[4]: Leaving directory '/bwrcq/C/tedkim7/sp24-Baremetal-IDE/build'\n",
      "[ 94%] Built target glossy\n",
      "gmake[4]: Entering directory '/bwrcq/C/tedkim7/sp24-Baremetal-IDE/build'\n",
      "gmake[4]: Leaving directory '/bwrcq/C/tedkim7/sp24-Baremetal-IDE/build'\n",
      "gmake[4]: Entering directory '/bwrcq/C/tedkim7/sp24-Baremetal-IDE/build'\n",
      "[ 97%] \u001b[32mBuilding C object CMakeFiles/shmoo_bench.dir/shmoo_bench/dsp_conv_bench/src/main.c.obj\u001b[0m\n"
     ]
    },
    {
     "name": "stderr",
     "output_type": "stream",
     "text": [
      "/tools/C/tedkim7/sp24-Baremetal-IDE/shmoo_bench/dsp_conv_bench/src/main.c: In function 'app_main':\n",
      "/tools/C/tedkim7/sp24-Baremetal-IDE/shmoo_bench/dsp_conv_bench/src/main.c:61:5: warning: implicit declaration of function 'reg_write8' [-Wimplicit-function-declaration]\n",
      "   61 |     reg_write8(RESET_ADDR, 1);\n",
      "      |     ^~~~~~~~~~\n",
      "/tools/C/tedkim7/sp24-Baremetal-IDE/shmoo_bench/dsp_conv_bench/src/main.c:71:5: warning: implicit declaration of function 'set_conv_params' [-Wimplicit-function-declaration]\n",
      "   71 |     set_conv_params(16, 1, ((uint64_t*) in_kernel));\n",
      "      |     ^~~~~~~~~~~~~~~\n",
      "/tools/C/tedkim7/sp24-Baremetal-IDE/shmoo_bench/dsp_conv_bench/src/main.c:72:5: warning: implicit declaration of function 'write_conv_dma' [-Wimplicit-function-declaration]\n",
      "   72 |     write_conv_dma(0, 16, in_arr);\n",
      "      |     ^~~~~~~~~~~~~~\n",
      "/tools/C/tedkim7/sp24-Baremetal-IDE/shmoo_bench/dsp_conv_bench/src/main.c:77:5: warning: implicit declaration of function 'start_conv' [-Wimplicit-function-declaration]\n",
      "   77 |     start_conv();\n",
      "      |     ^~~~~~~~~~\n",
      "/tools/C/tedkim7/sp24-Baremetal-IDE/shmoo_bench/dsp_conv_bench/src/main.c:91:5: warning: implicit declaration of function 'read_conv_dma' [-Wimplicit-function-declaration]\n",
      "   91 |     read_conv_dma(0, 16, ((uint64_t*) test_out));\n",
      "      |     ^~~~~~~~~~~~~\n",
      "/tools/C/tedkim7/sp24-Baremetal-IDE/shmoo_bench/dsp_conv_bench/src/main.c:95:20: warning: format '%lx' expects argument of type 'long unsigned int', but argument 2 has type 'int' [-Wformat=]\n",
      "   95 |             printf(\"%\"PRIx64\" \", test_out[i*4 + j]);\n",
      "      |                    ^~~           ~~~~~~~~~~~~~~~~~\n",
      "      |                                          |\n",
      "      |                                          int\n",
      "/tools/C/tedkim7/sp24-Baremetal-IDE/shmoo_bench/dsp_conv_bench/src/main.c:100:14: warning: variable 'ref_out' set but not used [-Wunused-but-set-variable]\n",
      "  100 |     uint16_t ref_out[32];\n",
      "      |              ^~~~~~~\n",
      "/tools/C/tedkim7/sp24-Baremetal-IDE/shmoo_bench/dsp_conv_bench/src/main.c:79:14: warning: unused variable 'cpu_end_cycles' [-Wunused-variable]\n",
      "   79 |     uint64_t cpu_end_cycles = READ_CSR(\"mcycle\");\n",
      "      |              ^~~~~~~~~~~~~~\n",
      "/tools/C/tedkim7/sp24-Baremetal-IDE/shmoo_bench/dsp_conv_bench/src/main.c:74:14: warning: unused variable 'cpu_start_cycles' [-Wunused-variable]\n",
      "   74 |     uint64_t cpu_start_cycles = READ_CSR(\"mcycle\");\n",
      "      |              ^~~~~~~~~~~~~~~~\n",
      "/tools/C/tedkim7/sp24-Baremetal-IDE/shmoo_bench/dsp_conv_bench/src/main.c:67:14: warning: unused variable 'in_dilation' [-Wunused-variable]\n",
      "   67 |     uint16_t in_dilation[1] = {1};\n",
      "      |              ^~~~~~~~~~~\n",
      "/tools/C/tedkim7/sp24-Baremetal-IDE/shmoo_bench/dsp_conv_bench/src/main.c:66:14: warning: unused variable 'in_len' [-Wunused-variable]\n",
      "   66 |     uint32_t in_len[1] = {16};\n",
      "      |              ^~~~~~\n",
      "/tools/C/tedkim7/sp24-Baremetal-IDE/shmoo_bench/dsp_conv_bench/src/main.c: In function 'main':\n",
      "/tools/C/tedkim7/sp24-Baremetal-IDE/shmoo_bench/dsp_conv_bench/src/main.c:127:14: warning: unused parameter 'argc' [-Wunused-parameter]\n",
      "  127 | int main(int argc, char **argv) {\n",
      "      |          ~~~~^~~~\n",
      "/tools/C/tedkim7/sp24-Baremetal-IDE/shmoo_bench/dsp_conv_bench/src/main.c:127:27: warning: unused parameter 'argv' [-Wunused-parameter]\n",
      "  127 | int main(int argc, char **argv) {\n",
      "      |                    ~~~~~~~^~~~\n"
     ]
    },
    {
     "name": "stdout",
     "output_type": "stream",
     "text": [
      "[100%] \u001b[32m\u001b[1mLinking C executable shmoo_bench.elf\u001b[0m\n"
     ]
    },
    {
     "name": "stderr",
     "output_type": "stream",
     "text": [
      "/bwrcq/C/ee290-fa24-2/.conda-env/riscv-tools/bin/../lib/gcc/riscv64-unknown-elf/13.2.0/../../../../riscv64-unknown-elf/bin/ld: warning: shmoo_bench.elf has a LOAD segment with RWX permissions\n"
     ]
    },
    {
     "name": "stdout",
     "output_type": "stream",
     "text": [
      "gmake[4]: Leaving directory '/bwrcq/C/tedkim7/sp24-Baremetal-IDE/build'\n",
      "[100%] Built target shmoo_bench\n",
      "gmake[3]: Leaving directory '/bwrcq/C/tedkim7/sp24-Baremetal-IDE/build'\n",
      "gmake[2]: Leaving directory '/bwrcq/C/tedkim7/sp24-Baremetal-IDE/build'\n",
      "gmake[1]: Leaving directory '/bwrcq/C/tedkim7/sp24-Baremetal-IDE/build'\n",
      "**Clock set to: 500MHz**\n",
      "**Voltage set to: +5.00000000E-01\n",
      "V**\n"
     ]
    },
    {
     "name": "stderr",
     "output_type": "stream",
     "text": [
      "warning: tohost and fromhost symbols not in ELF; can't communicate with target\n",
      "Writing 14006c with a\n",
      "Done writing 14006c with a\n"
     ]
    },
    {
     "name": "stdout",
     "output_type": "stream",
     "text": [
      "Starting UART-based TSI\n",
      "Usage: ./uart_tsi +tty=/dev/pts/xx <PLUSARGS> <bin>\n",
      "       ./uart_tsi +tty=/dev/ttyxx  <PLUSARGS> <bin>\n",
      "       ./uart_tsi +tty=/dev/ttyxx  +no_hart0_msip +init_write=0x80000000:0xdeadbeef none\n",
      "       ./uart_tsi +tty=/dev/ttyxx  +no_hart0_msip +init_read=0x80000000 none\n",
      "       ./uart_tsi +tty=/dev/ttyxx  +selfcheck <bin>\n",
      "       ./uart_tsi +tty=/dev/ttyxx  +baudrate=921600 <bin>\n",
      "Attempting to open TTY at /dev/ttyUSB1\n",
      "Warning: You selected a non-standard baudrate. This will only work if the HW was configured with this baud-rate\n",
      "Checking connection status with /dev/ttyUSB1\n",
      "Connection succeeded\n",
      "Done, shutting down, flushing UART\n",
      "WARNING: You should probably reset the target before running this program again\n",
      "Done: now reset during the sleep before next iteration\n",
      "**Voltage set to: +5.50000000E-01\n",
      "V**\n"
     ]
    },
    {
     "name": "stderr",
     "output_type": "stream",
     "text": [
      "warning: tohost and fromhost symbols not in ELF; can't communicate with target\n",
      "Writing 14006c with a\n",
      "Done writing 14006c with a\n"
     ]
    },
    {
     "name": "stdout",
     "output_type": "stream",
     "text": [
      "Starting UART-based TSI\n",
      "Usage: ./uart_tsi +tty=/dev/pts/xx <PLUSARGS> <bin>\n",
      "       ./uart_tsi +tty=/dev/ttyxx  <PLUSARGS> <bin>\n",
      "       ./uart_tsi +tty=/dev/ttyxx  +no_hart0_msip +init_write=0x80000000:0xdeadbeef none\n",
      "       ./uart_tsi +tty=/dev/ttyxx  +no_hart0_msip +init_read=0x80000000 none\n",
      "       ./uart_tsi +tty=/dev/ttyxx  +selfcheck <bin>\n",
      "       ./uart_tsi +tty=/dev/ttyxx  +baudrate=921600 <bin>\n",
      "Attempting to open TTY at /dev/ttyUSB1\n",
      "Warning: You selected a non-standard baudrate. This will only work if the HW was configured with this baud-rate\n",
      "Checking connection status with /dev/ttyUSB1\n",
      "Connection succeeded\n",
      "Done, shutting down, flushing UART\n",
      "WARNING: You should probably reset the target before running this program again\n",
      "Done: now reset during the sleep before next iteration\n",
      "**Voltage set to: +6.00000000E-01\n",
      "V**\n"
     ]
    },
    {
     "name": "stderr",
     "output_type": "stream",
     "text": [
      "warning: tohost and fromhost symbols not in ELF; can't communicate with target\n",
      "Writing 14006c with a\n",
      "Done writing 14006c with a\n"
     ]
    },
    {
     "name": "stdout",
     "output_type": "stream",
     "text": [
      "Starting UART-based TSI\n",
      "Usage: ./uart_tsi +tty=/dev/pts/xx <PLUSARGS> <bin>\n",
      "       ./uart_tsi +tty=/dev/ttyxx  <PLUSARGS> <bin>\n",
      "       ./uart_tsi +tty=/dev/ttyxx  +no_hart0_msip +init_write=0x80000000:0xdeadbeef none\n",
      "       ./uart_tsi +tty=/dev/ttyxx  +no_hart0_msip +init_read=0x80000000 none\n",
      "       ./uart_tsi +tty=/dev/ttyxx  +selfcheck <bin>\n",
      "       ./uart_tsi +tty=/dev/ttyxx  +baudrate=921600 <bin>\n",
      "Attempting to open TTY at /dev/ttyUSB1\n",
      "Warning: You selected a non-standard baudrate. This will only work if the HW was configured with this baud-rate\n",
      "Checking connection status with /dev/ttyUSB1\n",
      "Connection succeeded\n",
      "Done, shutting down, flushing UART\n",
      "WARNING: You should probably reset the target before running this program again\n",
      "Done: now reset during the sleep before next iteration\n",
      "**Voltage set to: +6.50000000E-01\n",
      "V**\n"
     ]
    },
    {
     "name": "stderr",
     "output_type": "stream",
     "text": [
      "warning: tohost and fromhost symbols not in ELF; can't communicate with target\n",
      "Writing 14006c with a\n",
      "Done writing 14006c with a\n"
     ]
    },
    {
     "name": "stdout",
     "output_type": "stream",
     "text": [
      "Starting UART-based TSI\n",
      "Usage: ./uart_tsi +tty=/dev/pts/xx <PLUSARGS> <bin>\n",
      "       ./uart_tsi +tty=/dev/ttyxx  <PLUSARGS> <bin>\n",
      "       ./uart_tsi +tty=/dev/ttyxx  +no_hart0_msip +init_write=0x80000000:0xdeadbeef none\n",
      "       ./uart_tsi +tty=/dev/ttyxx  +no_hart0_msip +init_read=0x80000000 none\n",
      "       ./uart_tsi +tty=/dev/ttyxx  +selfcheck <bin>\n",
      "       ./uart_tsi +tty=/dev/ttyxx  +baudrate=921600 <bin>\n",
      "Attempting to open TTY at /dev/ttyUSB1\n",
      "Warning: You selected a non-standard baudrate. This will only work if the HW was configured with this baud-rate\n",
      "Checking connection status with /dev/ttyUSB1\n",
      "Connection succeeded\n",
      "Done, shutting down, flushing UART\n",
      "WARNING: You should probably reset the target before running this program again\n",
      "Done: now reset during the sleep before next iteration\n",
      "**Voltage set to: +7.00000000E-01\n",
      "V**\n"
     ]
    },
    {
     "name": "stderr",
     "output_type": "stream",
     "text": [
      "warning: tohost and fromhost symbols not in ELF; can't communicate with target\n",
      "Writing 14006c with a\n",
      "Done writing 14006c with a\n"
     ]
    },
    {
     "name": "stdout",
     "output_type": "stream",
     "text": [
      "Starting UART-based TSI\n",
      "Usage: ./uart_tsi +tty=/dev/pts/xx <PLUSARGS> <bin>\n",
      "       ./uart_tsi +tty=/dev/ttyxx  <PLUSARGS> <bin>\n",
      "       ./uart_tsi +tty=/dev/ttyxx  +no_hart0_msip +init_write=0x80000000:0xdeadbeef none\n",
      "       ./uart_tsi +tty=/dev/ttyxx  +no_hart0_msip +init_read=0x80000000 none\n",
      "       ./uart_tsi +tty=/dev/ttyxx  +selfcheck <bin>\n",
      "       ./uart_tsi +tty=/dev/ttyxx  +baudrate=921600 <bin>\n",
      "Attempting to open TTY at /dev/ttyUSB1\n",
      "Warning: You selected a non-standard baudrate. This will only work if the HW was configured with this baud-rate\n",
      "Checking connection status with /dev/ttyUSB1\n",
      "Connection succeeded\n",
      "Done, shutting down, flushing UART\n",
      "WARNING: You should probably reset the target before running this program again\n",
      "Done: now reset during the sleep before next iteration\n",
      "**Voltage set to: +7.50000000E-01\n",
      "V**\n"
     ]
    },
    {
     "name": "stderr",
     "output_type": "stream",
     "text": [
      "warning: tohost and fromhost symbols not in ELF; can't communicate with target\n",
      "Writing 14006c with a\n",
      "Done writing 14006c with a\n"
     ]
    },
    {
     "name": "stdout",
     "output_type": "stream",
     "text": [
      "b'0 4400 4600 4800 4900 4a00 4b00 4c00 4c80 4d00 4d80 4e00 4e80 4f00 4f80 5000 \\r\\n'\n",
      "Starting UART-based TSI\n",
      "Usage: ./uart_tsi +tty=/dev/pts/xx <PLUSARGS> <bin>\n",
      "       ./uart_tsi +tty=/dev/ttyxx  <PLUSARGS> <bin>\n",
      "       ./uart_tsi +tty=/dev/ttyxx  +no_hart0_msip +init_write=0x80000000:0xdeadbeef none\n",
      "       ./uart_tsi +tty=/dev/ttyxx  +no_hart0_msip +init_read=0x80000000 none\n",
      "       ./uart_tsi +tty=/dev/ttyxx  +selfcheck <bin>\n",
      "       ./uart_tsi +tty=/dev/ttyxx  +baudrate=921600 <bin>\n",
      "Attempting to open TTY at /dev/ttyUSB1\n",
      "Warning: You selected a non-standard baudrate. This will only work if the HW was configured with this baud-rate\n",
      "Checking connection status with /dev/ttyUSB1\n",
      "Connection succeeded\n",
      "Done, shutting down, flushing UART\n",
      "WARNING: You should probably reset the target before running this program again\n",
      "Done: now reset during the sleep before next iteration\n",
      "**Voltage set to: +8.00000000E-01\n",
      "V**\n"
     ]
    },
    {
     "name": "stderr",
     "output_type": "stream",
     "text": [
      "warning: tohost and fromhost symbols not in ELF; can't communicate with target\n",
      "Writing 14006c with a\n",
      "Done writing 14006c with a\n"
     ]
    },
    {
     "name": "stdout",
     "output_type": "stream",
     "text": [
      "b'0 4400 4600 4800 4900 4a00 4b00 4c00 4c80 4d00 4d80 4e00 4e80 4f00 4f80 5000 \\r\\n'\n",
      "Starting UART-based TSI\n",
      "Usage: ./uart_tsi +tty=/dev/pts/xx <PLUSARGS> <bin>\n",
      "       ./uart_tsi +tty=/dev/ttyxx  <PLUSARGS> <bin>\n",
      "       ./uart_tsi +tty=/dev/ttyxx  +no_hart0_msip +init_write=0x80000000:0xdeadbeef none\n",
      "       ./uart_tsi +tty=/dev/ttyxx  +no_hart0_msip +init_read=0x80000000 none\n",
      "       ./uart_tsi +tty=/dev/ttyxx  +selfcheck <bin>\n",
      "       ./uart_tsi +tty=/dev/ttyxx  +baudrate=921600 <bin>\n",
      "Attempting to open TTY at /dev/ttyUSB1\n",
      "Warning: You selected a non-standard baudrate. This will only work if the HW was configured with this baud-rate\n",
      "Checking connection status with /dev/ttyUSB1\n",
      "Connection succeeded\n",
      "Done, shutting down, flushing UART\n",
      "WARNING: You should probably reset the target before running this program again\n",
      "Done: now reset during the sleep before next iteration\n",
      "**Voltage set to: +8.50000000E-01\n",
      "V**\n"
     ]
    },
    {
     "name": "stderr",
     "output_type": "stream",
     "text": [
      "warning: tohost and fromhost symbols not in ELF; can't communicate with target\n",
      "Writing 14006c with a\n",
      "Done writing 14006c with a\n"
     ]
    },
    {
     "name": "stdout",
     "output_type": "stream",
     "text": [
      "b'0 4400 4600 4800 4900 4a00 4b00 4c00 4c80 4d00 4d80 4e00 4e80 4f00 4f80 5000 \\r\\n'\n",
      "Starting UART-based TSI\n",
      "Usage: ./uart_tsi +tty=/dev/pts/xx <PLUSARGS> <bin>\n",
      "       ./uart_tsi +tty=/dev/ttyxx  <PLUSARGS> <bin>\n",
      "       ./uart_tsi +tty=/dev/ttyxx  +no_hart0_msip +init_write=0x80000000:0xdeadbeef none\n",
      "       ./uart_tsi +tty=/dev/ttyxx  +no_hart0_msip +init_read=0x80000000 none\n",
      "       ./uart_tsi +tty=/dev/ttyxx  +selfcheck <bin>\n",
      "       ./uart_tsi +tty=/dev/ttyxx  +baudrate=921600 <bin>\n",
      "Attempting to open TTY at /dev/ttyUSB1\n",
      "Warning: You selected a non-standard baudrate. This will only work if the HW was configured with this baud-rate\n",
      "Checking connection status with /dev/ttyUSB1\n",
      "Connection succeeded\n",
      "Done, shutting down, flushing UART\n",
      "WARNING: You should probably reset the target before running this program again\n",
      "Done: now reset during the sleep before next iteration\n",
      "**Voltage set to: +9.00000000E-01\n",
      "V**\n"
     ]
    },
    {
     "name": "stderr",
     "output_type": "stream",
     "text": [
      "warning: tohost and fromhost symbols not in ELF; can't communicate with target\n",
      "Writing 14006c with a\n",
      "Done writing 14006c with a\n"
     ]
    },
    {
     "name": "stdout",
     "output_type": "stream",
     "text": [
      "b'0 4400 4600 4800 4900 4a00 4b00 4c00 4c80 4d00 4d80 4e00 4e80 4f00 4f80 5000 \\r\\n'\n",
      "Starting UART-based TSI\n",
      "Usage: ./uart_tsi +tty=/dev/pts/xx <PLUSARGS> <bin>\n",
      "       ./uart_tsi +tty=/dev/ttyxx  <PLUSARGS> <bin>\n",
      "       ./uart_tsi +tty=/dev/ttyxx  +no_hart0_msip +init_write=0x80000000:0xdeadbeef none\n",
      "       ./uart_tsi +tty=/dev/ttyxx  +no_hart0_msip +init_read=0x80000000 none\n",
      "       ./uart_tsi +tty=/dev/ttyxx  +selfcheck <bin>\n",
      "       ./uart_tsi +tty=/dev/ttyxx  +baudrate=921600 <bin>\n",
      "Attempting to open TTY at /dev/ttyUSB1\n",
      "Warning: You selected a non-standard baudrate. This will only work if the HW was configured with this baud-rate\n",
      "Checking connection status with /dev/ttyUSB1\n",
      "Connection succeeded\n",
      "Done, shutting down, flushing UART\n",
      "WARNING: You should probably reset the target before running this program again\n",
      "Done: now reset during the sleep before next iteration\n",
      "**Voltage set to: +9.50000000E-01\n",
      "V**\n"
     ]
    },
    {
     "name": "stderr",
     "output_type": "stream",
     "text": [
      "warning: tohost and fromhost symbols not in ELF; can't communicate with target\n",
      "Writing 14006c with a\n",
      "Done writing 14006c with a\n"
     ]
    },
    {
     "name": "stdout",
     "output_type": "stream",
     "text": [
      "b'0 4400 4600 4800 4900 4a00 4b00 4c00 4c80 4d00 4d80 4e00 4e80 4f00 4f80 5000 \\r\\n'\n",
      "Starting UART-based TSI\n",
      "Usage: ./uart_tsi +tty=/dev/pts/xx <PLUSARGS> <bin>\n",
      "       ./uart_tsi +tty=/dev/ttyxx  <PLUSARGS> <bin>\n",
      "       ./uart_tsi +tty=/dev/ttyxx  +no_hart0_msip +init_write=0x80000000:0xdeadbeef none\n",
      "       ./uart_tsi +tty=/dev/ttyxx  +no_hart0_msip +init_read=0x80000000 none\n",
      "       ./uart_tsi +tty=/dev/ttyxx  +selfcheck <bin>\n",
      "       ./uart_tsi +tty=/dev/ttyxx  +baudrate=921600 <bin>\n",
      "Attempting to open TTY at /dev/ttyUSB1\n",
      "Warning: You selected a non-standard baudrate. This will only work if the HW was configured with this baud-rate\n",
      "Checking connection status with /dev/ttyUSB1\n",
      "Connection succeeded\n",
      "Done, shutting down, flushing UART\n",
      "WARNING: You should probably reset the target before running this program again\n",
      "Done: now reset during the sleep before next iteration\n",
      "**Voltage set to: +1.00000000E+00\n",
      "V**\n"
     ]
    },
    {
     "name": "stderr",
     "output_type": "stream",
     "text": [
      "warning: tohost and fromhost symbols not in ELF; can't communicate with target\n",
      "Writing 14006c with a\n",
      "Done writing 14006c with a\n"
     ]
    },
    {
     "name": "stdout",
     "output_type": "stream",
     "text": [
      "b'0 4400 4600 4800 4900 4a00 4b00 4c00 4c80 4d00 4d80 4e00 4e80 4f00 4f80 5000 \\r\\n'\n",
      "Starting UART-based TSI\n",
      "Usage: ./uart_tsi +tty=/dev/pts/xx <PLUSARGS> <bin>\n",
      "       ./uart_tsi +tty=/dev/ttyxx  <PLUSARGS> <bin>\n",
      "       ./uart_tsi +tty=/dev/ttyxx  +no_hart0_msip +init_write=0x80000000:0xdeadbeef none\n",
      "       ./uart_tsi +tty=/dev/ttyxx  +no_hart0_msip +init_read=0x80000000 none\n",
      "       ./uart_tsi +tty=/dev/ttyxx  +selfcheck <bin>\n",
      "       ./uart_tsi +tty=/dev/ttyxx  +baudrate=921600 <bin>\n",
      "Attempting to open TTY at /dev/ttyUSB1\n",
      "Warning: You selected a non-standard baudrate. This will only work if the HW was configured with this baud-rate\n",
      "Checking connection status with /dev/ttyUSB1\n",
      "Connection succeeded\n",
      "Done, shutting down, flushing UART\n",
      "WARNING: You should probably reset the target before running this program again\n",
      "Done: now reset during the sleep before next iteration\n",
      "**Voltage set to: +1.05000000E+00\n",
      "V**\n"
     ]
    },
    {
     "name": "stderr",
     "output_type": "stream",
     "text": [
      "warning: tohost and fromhost symbols not in ELF; can't communicate with target\n",
      "Writing 14006c with a\n",
      "Done writing 14006c with a\n"
     ]
    },
    {
     "name": "stdout",
     "output_type": "stream",
     "text": [
      "b'0 4400 4600 4800 4900 4a00 4b00 4c00 4c80 4d00 4d80 4e00 4e80 4f00 4f80 5000 \\r\\n'\n",
      "Starting UART-based TSI\n",
      "Usage: ./uart_tsi +tty=/dev/pts/xx <PLUSARGS> <bin>\n",
      "       ./uart_tsi +tty=/dev/ttyxx  <PLUSARGS> <bin>\n",
      "       ./uart_tsi +tty=/dev/ttyxx  +no_hart0_msip +init_write=0x80000000:0xdeadbeef none\n",
      "       ./uart_tsi +tty=/dev/ttyxx  +no_hart0_msip +init_read=0x80000000 none\n",
      "       ./uart_tsi +tty=/dev/ttyxx  +selfcheck <bin>\n",
      "       ./uart_tsi +tty=/dev/ttyxx  +baudrate=921600 <bin>\n",
      "Attempting to open TTY at /dev/ttyUSB1\n",
      "Warning: You selected a non-standard baudrate. This will only work if the HW was configured with this baud-rate\n",
      "Checking connection status with /dev/ttyUSB1\n",
      "Connection succeeded\n",
      "Done, shutting down, flushing UART\n",
      "WARNING: You should probably reset the target before running this program again\n",
      "Done: now reset during the sleep before next iteration\n",
      "**Voltage set to: +1.10000000E+00\n",
      "V**\n"
     ]
    },
    {
     "name": "stderr",
     "output_type": "stream",
     "text": [
      "warning: tohost and fromhost symbols not in ELF; can't communicate with target\n",
      "Writing 14006c with a\n",
      "Done writing 14006c with a\n"
     ]
    },
    {
     "name": "stdout",
     "output_type": "stream",
     "text": [
      "b'0 4400 4600 4800 4900 4a00 4b00 4c00 4c80 4d00 4d80 4e00 4e80 4f00 4f80 5000 \\r\\n'\n",
      "Starting UART-based TSI\n",
      "Usage: ./uart_tsi +tty=/dev/pts/xx <PLUSARGS> <bin>\n",
      "       ./uart_tsi +tty=/dev/ttyxx  <PLUSARGS> <bin>\n",
      "       ./uart_tsi +tty=/dev/ttyxx  +no_hart0_msip +init_write=0x80000000:0xdeadbeef none\n",
      "       ./uart_tsi +tty=/dev/ttyxx  +no_hart0_msip +init_read=0x80000000 none\n",
      "       ./uart_tsi +tty=/dev/ttyxx  +selfcheck <bin>\n",
      "       ./uart_tsi +tty=/dev/ttyxx  +baudrate=921600 <bin>\n",
      "Attempting to open TTY at /dev/ttyUSB1\n",
      "Warning: You selected a non-standard baudrate. This will only work if the HW was configured with this baud-rate\n",
      "Checking connection status with /dev/ttyUSB1\n",
      "Connection succeeded\n",
      "Done, shutting down, flushing UART\n",
      "WARNING: You should probably reset the target before running this program again\n",
      "Done: now reset during the sleep before next iteration\n",
      "**Voltage set to: +1.15000000E+00\n",
      "V**\n"
     ]
    },
    {
     "name": "stderr",
     "output_type": "stream",
     "text": [
      "warning: tohost and fromhost symbols not in ELF; can't communicate with target\n",
      "Writing 14006c with a\n",
      "Done writing 14006c with a\n"
     ]
    },
    {
     "name": "stdout",
     "output_type": "stream",
     "text": [
      "b'0 4400 4600 4800 4900 4a00 4b00 4c00 4c80 4d00 4d80 4e00 4e80 4f00 4f80 5000 \\r\\n'\n",
      "Done: now reset during the sleep before next iteration\n",
      "Starting UART-based TSI\n",
      "Usage: ./uart_tsi +tty=/dev/pts/xx <PLUSARGS> <bin>\n",
      "       ./uart_tsi +tty=/dev/ttyxx  <PLUSARGS> <bin>\n",
      "       ./uart_tsi +tty=/dev/ttyxx  +no_hart0_msip +init_write=0x80000000:0xdeadbeef none\n",
      "       ./uart_tsi +tty=/dev/ttyxx  +no_hart0_msip +init_read=0x80000000 none\n",
      "       ./uart_tsi +tty=/dev/ttyxx  +selfcheck <bin>\n",
      "       ./uart_tsi +tty=/dev/ttyxx  +baudrate=921600 <bin>\n",
      "Attempting to open TTY at /dev/ttyUSB1\n",
      "Warning: You selected a non-standard baudrate. This will only work if the HW was configured with this baud-rate\n",
      "Checking connection status with /dev/ttyUSB1\n",
      "Connection succeeded\n",
      "Done, shutting down, flushing UART\n",
      "WARNING: You should probably reset the target before running this program again\n",
      "**Voltage set to: +1.20000000E+00\n",
      "V**\n"
     ]
    },
    {
     "name": "stderr",
     "output_type": "stream",
     "text": [
      "warning: tohost and fromhost symbols not in ELF; can't communicate with target\n",
      "Writing 14006c with a\n",
      "Done writing 14006c with a\n"
     ]
    },
    {
     "name": "stdout",
     "output_type": "stream",
     "text": [
      "b'0 4400 4600 4800 4900 4a00 4b00 4c00 4c80 4d00 4d80 4e00 4e80 4f00 4f80 5000 \\r\\n'\n",
      "Starting UART-based TSI\n",
      "Usage: ./uart_tsi +tty=/dev/pts/xx <PLUSARGS> <bin>\n",
      "       ./uart_tsi +tty=/dev/ttyxx  <PLUSARGS> <bin>\n",
      "       ./uart_tsi +tty=/dev/ttyxx  +no_hart0_msip +init_write=0x80000000:0xdeadbeef none\n",
      "       ./uart_tsi +tty=/dev/ttyxx  +no_hart0_msip +init_read=0x80000000 none\n",
      "       ./uart_tsi +tty=/dev/ttyxx  +selfcheck <bin>\n",
      "       ./uart_tsi +tty=/dev/ttyxx  +baudrate=921600 <bin>\n",
      "Attempting to open TTY at /dev/ttyUSB1\n",
      "Warning: You selected a non-standard baudrate. This will only work if the HW was configured with this baud-rate\n",
      "Checking connection status with /dev/ttyUSB1\n",
      "Connection succeeded\n",
      "Done, shutting down, flushing UART\n",
      "WARNING: You should probably reset the target before running this program again\n",
      "Done: now reset during the sleep before next iteration\n",
      "rm -rf build\n",
      "cmake -S ./ -B ./build/ -D CMAKE_TOOLCHAIN_FILE=./riscv-gcc.cmake -DCHIP=dsp24\n",
      "-- The ASM compiler identification is GNU\n",
      "-- Found assembler: /tools/C/ee290-fa24-2/.conda-env/riscv-tools/bin/riscv64-unknown-elf-gcc\n",
      "-- The C compiler identification is GNU 13.2.0\n",
      "-- The CXX compiler identification is GNU 13.2.0\n",
      "-- Detecting C compiler ABI info\n",
      "-- Detecting C compiler ABI info - done\n",
      "-- Check for working C compiler: /tools/C/ee290-fa24-2/.conda-env/riscv-tools/bin/riscv64-unknown-elf-gcc - skipped\n",
      "-- Detecting C compile features\n",
      "-- Detecting C compile features - done\n",
      "-- Detecting CXX compiler ABI info\n",
      "-- Detecting CXX compiler ABI info - done\n",
      "-- Check for working CXX compiler: /tools/C/ee290-fa24-2/.conda-env/riscv-tools/bin/riscv64-unknown-elf-g++ - skipped\n",
      "-- Detecting CXX compile features\n",
      "-- Detecting CXX compile features - done\n",
      "-- Including HTIF to target\n",
      "-- Including CLINT to target\n",
      "-- ================ Glossy config ================\n",
      "--  Building for CHIP: \"dsp24\"\n",
      "--  Reading config from \"/tools/C/tedkim7/sp24-Baremetal-IDE/platform/dsp24/CMakeLists.txt\"\n",
      "--  Terminal Device: UART0\n",
      "--  Linker Script: /tools/C/tedkim7/sp24-Baremetal-IDE/platform/dsp24/dsp24.ld\n",
      "-- ===============================================\n",
      "-- Configuring done (3.3s)\n",
      "-- Generating done (1.5s)\n",
      "-- Build files have been written to: /tools/C/tedkim7/sp24-Baremetal-IDE/build\n",
      "cmake --build ./build/ --target shmoo_bench\n",
      "gmake[1]: Entering directory '/bwrcq/C/tedkim7/sp24-Baremetal-IDE/build'\n",
      "gmake[2]: Entering directory '/bwrcq/C/tedkim7/sp24-Baremetal-IDE/build'\n",
      "gmake[3]: Entering directory '/bwrcq/C/tedkim7/sp24-Baremetal-IDE/build'\n",
      "gmake[4]: Entering directory '/bwrcq/C/tedkim7/sp24-Baremetal-IDE/build'\n",
      "gmake[4]: Leaving directory '/bwrcq/C/tedkim7/sp24-Baremetal-IDE/build'\n",
      "gmake[4]: Entering directory '/bwrcq/C/tedkim7/sp24-Baremetal-IDE/build'\n",
      "[  2%] \u001b[32mBuilding C object driver/rocket-chip-blocks/uart/CMakeFiles/uart.dir/uart.c.obj\u001b[0m\n"
     ]
    },
    {
     "name": "stderr",
     "output_type": "stream",
     "text": [
      "/tools/C/tedkim7/sp24-Baremetal-IDE/driver/rocket-chip-blocks/uart/uart.c: In function 'uart_receive':\n",
      "/tools/C/tedkim7/sp24-Baremetal-IDE/driver/rocket-chip-blocks/uart/uart.c:35:78: warning: unused parameter 'timeout' [-Wunused-parameter]\n",
      "   35 | Status uart_receive(UART_Type *UARTx, uint8_t *data, uint16_t size, uint32_t timeout) {\n",
      "      |                                                                     ~~~~~~~~~^~~~~~~\n",
      "/tools/C/tedkim7/sp24-Baremetal-IDE/driver/rocket-chip-blocks/uart/uart.c: In function 'uart_transmit':\n",
      "/tools/C/tedkim7/sp24-Baremetal-IDE/driver/rocket-chip-blocks/uart/uart.c:50:85: warning: unused parameter 'timeout' [-Wunused-parameter]\n",
      "   50 | Status uart_transmit(UART_Type *UARTx, const uint8_t *data, uint16_t size, uint32_t timeout) {\n",
      "      |                                                                            ~~~~~~~~~^~~~~~~\n"
     ]
    },
    {
     "name": "stdout",
     "output_type": "stream",
     "text": [
      "[  5%] \u001b[32m\u001b[1mLinking C static library libuart.a\u001b[0m\n",
      "gmake[4]: Leaving directory '/bwrcq/C/tedkim7/sp24-Baremetal-IDE/build'\n",
      "[  5%] Built target uart\n",
      "gmake[4]: Entering directory '/bwrcq/C/tedkim7/sp24-Baremetal-IDE/build'\n",
      "gmake[4]: Leaving directory '/bwrcq/C/tedkim7/sp24-Baremetal-IDE/build'\n",
      "gmake[4]: Entering directory '/bwrcq/C/tedkim7/sp24-Baremetal-IDE/build'\n",
      "[  7%] \u001b[32mBuilding C object driver/intel/pll/CMakeFiles/intel-pll.dir/pll.c.obj\u001b[0m\n",
      "[ 10%] \u001b[32m\u001b[1mLinking C static library libintel-pll.a\u001b[0m\n",
      "gmake[4]: Leaving directory '/bwrcq/C/tedkim7/sp24-Baremetal-IDE/build'\n",
      "[ 10%] Built target intel-pll\n",
      "gmake[4]: Entering directory '/bwrcq/C/tedkim7/sp24-Baremetal-IDE/build'\n",
      "gmake[4]: Leaving directory '/bwrcq/C/tedkim7/sp24-Baremetal-IDE/build'\n",
      "gmake[4]: Entering directory '/bwrcq/C/tedkim7/sp24-Baremetal-IDE/build'\n",
      "[ 12%] \u001b[32mBuilding C object driver/rocket-chip/clint/CMakeFiles/clint.dir/clint.c.obj\u001b[0m\n",
      "[ 15%] \u001b[32m\u001b[1mLinking C static library libclint.a\u001b[0m\n",
      "gmake[4]: Leaving directory '/bwrcq/C/tedkim7/sp24-Baremetal-IDE/build'\n",
      "[ 15%] Built target clint\n",
      "gmake[4]: Entering directory '/bwrcq/C/tedkim7/sp24-Baremetal-IDE/build'\n",
      "gmake[4]: Leaving directory '/bwrcq/C/tedkim7/sp24-Baremetal-IDE/build'\n",
      "gmake[4]: Entering directory '/bwrcq/C/tedkim7/sp24-Baremetal-IDE/build'\n",
      "[ 17%] \u001b[32mBuilding C object driver/rocket-chip/rocketcore/CMakeFiles/rocketcore.dir/rocketcore.c.obj\u001b[0m\n",
      "[ 20%] \u001b[32m\u001b[1mLinking C static library librocketcore.a\u001b[0m\n",
      "gmake[4]: Leaving directory '/bwrcq/C/tedkim7/sp24-Baremetal-IDE/build'\n",
      "[ 20%] Built target rocketcore\n",
      "gmake[4]: Entering directory '/bwrcq/C/tedkim7/sp24-Baremetal-IDE/build'\n",
      "gmake[4]: Leaving directory '/bwrcq/C/tedkim7/sp24-Baremetal-IDE/build'\n",
      "gmake[4]: Entering directory '/bwrcq/C/tedkim7/sp24-Baremetal-IDE/build'\n",
      "[ 23%] \u001b[32mBuilding C object driver/rocket-chip-blocks/i2c/CMakeFiles/i2c.dir/i2c.c.obj\u001b[0m\n"
     ]
    },
    {
     "name": "stderr",
     "output_type": "stream",
     "text": [
      "/tools/C/tedkim7/sp24-Baremetal-IDE/driver/rocket-chip-blocks/i2c/i2c.c: In function 'i2c_init':\n",
      "/tools/C/tedkim7/sp24-Baremetal-IDE/driver/rocket-chip-blocks/i2c/i2c.c:13:45: warning: unused parameter 'I2C_init' [-Wunused-parameter]\n",
      "   13 | void i2c_init(I2C_Type *I2Cx, I2C_InitType *I2C_init) {\n",
      "      |                               ~~~~~~~~~~~~~~^~~~~~~~\n",
      "/tools/C/tedkim7/sp24-Baremetal-IDE/driver/rocket-chip-blocks/i2c/i2c.c: In function 'i2c_wait_for_flag':\n",
      "/tools/C/tedkim7/sp24-Baremetal-IDE/driver/rocket-chip-blocks/i2c/i2c.c:30:9: warning: implicit declaration of function 'CLINT_getTime' [-Wimplicit-function-declaration]\n",
      "   30 |     if (CLINT_getTime() > (timestart + timeout)) {\n",
      "      |         ^~~~~~~~~~~~~\n",
      "/tools/C/tedkim7/sp24-Baremetal-IDE/driver/rocket-chip-blocks/i2c/i2c.c:30:25: warning: comparison of integer expressions of different signedness: 'int' and 'uint32_t' {aka 'unsigned int'} [-Wsign-compare]\n",
      "   30 |     if (CLINT_getTime() > (timestart + timeout)) {\n",
      "      |                         ^\n",
      "/tools/C/tedkim7/sp24-Baremetal-IDE/driver/rocket-chip-blocks/i2c/i2c.c: In function 'i2c_master_receive':\n",
      "/tools/C/tedkim7/sp24-Baremetal-IDE/driver/rocket-chip-blocks/i2c/i2c.c:53:24: warning: implicit declaration of function 'clint_get_time' [-Wimplicit-function-declaration]\n",
      "   53 |   uint64_t timestart = clint_get_time();\n",
      "      |                        ^~~~~~~~~~~~~~\n",
      "/tools/C/tedkim7/sp24-Baremetal-IDE/driver/rocket-chip-blocks/i2c/i2c.c: In function 'i2c_wait_for_transaction':\n",
      "/tools/C/tedkim7/sp24-Baremetal-IDE/driver/rocket-chip-blocks/i2c/i2c.c:50:1: warning: control reaches end of non-void function [-Wreturn-type]\n",
      "   50 | }\n",
      "      | ^\n"
     ]
    },
    {
     "name": "stdout",
     "output_type": "stream",
     "text": [
      "[ 25%] \u001b[32m\u001b[1mLinking C static library libi2c.a\u001b[0m\n",
      "gmake[4]: Leaving directory '/bwrcq/C/tedkim7/sp24-Baremetal-IDE/build'\n",
      "[ 25%] Built target i2c\n",
      "gmake[4]: Entering directory '/bwrcq/C/tedkim7/sp24-Baremetal-IDE/build'\n",
      "gmake[4]: Leaving directory '/bwrcq/C/tedkim7/sp24-Baremetal-IDE/build'\n",
      "gmake[4]: Entering directory '/bwrcq/C/tedkim7/sp24-Baremetal-IDE/build'\n",
      "[ 28%] \u001b[32mBuilding C object driver/rocket-chip-blocks/spi/CMakeFiles/spi.dir/spi.c.obj\u001b[0m\n"
     ]
    },
    {
     "name": "stderr",
     "output_type": "stream",
     "text": [
      "/tools/C/tedkim7/sp24-Baremetal-IDE/driver/rocket-chip-blocks/spi/spi.c: In function 'spi_receive':\n",
      "/tools/C/tedkim7/sp24-Baremetal-IDE/driver/rocket-chip-blocks/spi/spi.c:56:75: warning: unused parameter 'timeout' [-Wunused-parameter]\n",
      "   56 | Status spi_receive(SPI_Type *SPIx, uint8_t *data, uint16_t size, uint64_t timeout) {\n",
      "      |                                                                  ~~~~~~~~~^~~~~~~\n",
      "/tools/C/tedkim7/sp24-Baremetal-IDE/driver/rocket-chip-blocks/spi/spi.c: In function 'spi_transmit':\n",
      "/tools/C/tedkim7/sp24-Baremetal-IDE/driver/rocket-chip-blocks/spi/spi.c:68:76: warning: unused parameter 'timeout' [-Wunused-parameter]\n",
      "   68 | Status spi_transmit(SPI_Type *SPIx, uint8_t *data, uint16_t size, uint64_t timeout) {\n",
      "      |                                                                   ~~~~~~~~~^~~~~~~\n",
      "/tools/C/tedkim7/sp24-Baremetal-IDE/driver/rocket-chip-blocks/spi/spi.c: In function 'spi_transmit_receive':\n",
      "/tools/C/tedkim7/sp24-Baremetal-IDE/driver/rocket-chip-blocks/spi/spi.c:80:105: warning: unused parameter 'timeout' [-Wunused-parameter]\n",
      "   80 | Status spi_transmit_receive(SPI_Type *SPIx, uint8_t *tx_data, uint8_t *rx_data, uint16_t size, uint64_t timeout) {\n",
      "      |                                                                                                ~~~~~~~~~^~~~~~~\n"
     ]
    },
    {
     "name": "stdout",
     "output_type": "stream",
     "text": [
      "[ 30%] \u001b[32m\u001b[1mLinking C static library libspi.a\u001b[0m\n",
      "gmake[4]: Leaving directory '/bwrcq/C/tedkim7/sp24-Baremetal-IDE/build'\n",
      "[ 30%] Built target spi\n",
      "gmake[4]: Entering directory '/bwrcq/C/tedkim7/sp24-Baremetal-IDE/build'\n",
      "gmake[4]: Leaving directory '/bwrcq/C/tedkim7/sp24-Baremetal-IDE/build'\n",
      "gmake[4]: Entering directory '/bwrcq/C/tedkim7/sp24-Baremetal-IDE/build'\n",
      "[ 33%] \u001b[32mBuilding C object platform/dsp24/CMakeFiles/chip-config.dir/chip.c.obj\u001b[0m\n",
      "[ 35%] \u001b[32mBuilding C object platform/dsp24/CMakeFiles/chip-config.dir/src/hal_DMA.c.obj\u001b[0m\n"
     ]
    },
    {
     "name": "stderr",
     "output_type": "stream",
     "text": [
      "/tools/C/tedkim7/sp24-Baremetal-IDE/platform/dsp24/src/hal_DMA.c: In function 'set_DMAP':\n",
      "/tools/C/tedkim7/sp24-Baremetal-IDE/platform/dsp24/src/hal_DMA.c:24:53: warning: passing argument 2 of 'reg_write64' makes integer from pointer without a cast [-Wint-conversion]\n",
      "   24 |     reg_write64(DMA_SET_READ + num*DMA_MMIO_Offset, addr_r);\n",
      "      |                                                     ^~~~~~\n",
      "      |                                                     |\n",
      "      |                                                     uint64_t * {aka long unsigned int *}\n",
      "In file included from /tools/C/tedkim7/sp24-Baremetal-IDE/platform/dsp24/inc/hal_DMA.h:10,\n",
      "                 from /tools/C/tedkim7/sp24-Baremetal-IDE/platform/dsp24/src/hal_DMA.c:1:\n",
      "/tools/C/tedkim7/sp24-Baremetal-IDE/platform/dsp24/inc/hal_mmio.h:23:47: note: expected 'uint64_t' {aka 'long unsigned int'} but argument is of type 'uint64_t *' {aka 'long unsigned int *'}\n",
      "   23 | void reg_write64(unsigned long addr, uint64_t data);\n",
      "      |                                      ~~~~~~~~~^~~~\n",
      "/tools/C/tedkim7/sp24-Baremetal-IDE/platform/dsp24/src/hal_DMA.c:25:54: warning: passing argument 2 of 'reg_write64' makes integer from pointer without a cast [-Wint-conversion]\n",
      "   25 |     reg_write64(DMA_SET_WRITE + num*DMA_MMIO_Offset, addr_w);\n",
      "      |                                                      ^~~~~~\n",
      "      |                                                      |\n",
      "      |                                                      uint64_t * {aka long unsigned int *}\n",
      "/tools/C/tedkim7/sp24-Baremetal-IDE/platform/dsp24/inc/hal_mmio.h:23:47: note: expected 'uint64_t' {aka 'long unsigned int'} but argument is of type 'uint64_t *' {aka 'long unsigned int *'}\n",
      "   23 | void reg_write64(unsigned long addr, uint64_t data);\n",
      "      |                                      ~~~~~~~~~^~~~\n",
      "/tools/C/tedkim7/sp24-Baremetal-IDE/platform/dsp24/src/hal_DMA.c:26:50: warning: passing argument 2 of 'reg_write64' makes integer from pointer without a cast [-Wint-conversion]\n",
      "   26 |     reg_write64(DMA_SET_C + num*DMA_MMIO_Offset, addr_c);\n",
      "      |                                                  ^~~~~~\n",
      "      |                                                  |\n",
      "      |                                                  uint64_t * {aka long unsigned int *}\n",
      "/tools/C/tedkim7/sp24-Baremetal-IDE/platform/dsp24/inc/hal_mmio.h:23:47: note: expected 'uint64_t' {aka 'long unsigned int'} but argument is of type 'uint64_t *' {aka 'long unsigned int *'}\n",
      "   23 | void reg_write64(unsigned long addr, uint64_t data);\n",
      "      |                                      ~~~~~~~~~^~~~\n"
     ]
    },
    {
     "name": "stdout",
     "output_type": "stream",
     "text": [
      "[ 38%] \u001b[32mBuilding C object platform/dsp24/CMakeFiles/chip-config.dir/src/hal_I2S.c.obj\u001b[0m\n"
     ]
    },
    {
     "name": "stderr",
     "output_type": "stream",
     "text": [
      "/tools/C/tedkim7/sp24-Baremetal-IDE/platform/dsp24/src/hal_I2S.c: In function 'write_I2S_tx_DMA':\n",
      "/tools/C/tedkim7/sp24-Baremetal-IDE/platform/dsp24/src/hal_I2S.c:49:9: warning: implicit declaration of function 'printf' [-Wimplicit-function-declaration]\n",
      "   49 |         printf(\"Writing to left queue\\n\");\n",
      "      |         ^~~~~~\n",
      "/tools/C/tedkim7/sp24-Baremetal-IDE/platform/dsp24/src/hal_I2S.c:3:1: note: include '<stdio.h>' or provide a declaration of 'printf'\n",
      "    2 | #include  \"hal_mmio.h\"\n",
      "  +++ |+#include <stdio.h>\n",
      "    3 | \n",
      "/tools/C/tedkim7/sp24-Baremetal-IDE/platform/dsp24/src/hal_I2S.c:49:9: warning: incompatible implicit declaration of built-in function 'printf' [-Wbuiltin-declaration-mismatch]\n",
      "   49 |         printf(\"Writing to left queue\\n\");\n",
      "      |         ^~~~~~\n",
      "/tools/C/tedkim7/sp24-Baremetal-IDE/platform/dsp24/src/hal_I2S.c:49:9: note: include '<stdio.h>' or provide a declaration of 'printf'\n",
      "In file included from /tools/C/tedkim7/sp24-Baremetal-IDE/platform/dsp24/src/hal_I2S.c:1:\n",
      "/tools/C/tedkim7/sp24-Baremetal-IDE/platform/dsp24/inc/hal_I2S.h:13:37: warning: passing argument 3 of 'set_DMAP' makes pointer from integer without a cast [-Wint-conversion]\n",
      "   13 | #define I2S_BASE                    0x10042000U\n",
      "      |                                     ^\n",
      "      |                                     |\n",
      "      |                                     unsigned int\n",
      "/tools/C/tedkim7/sp24-Baremetal-IDE/platform/dsp24/inc/hal_I2S.h:26:37: note: in expansion of macro 'I2S_BASE'\n",
      "   26 | #define I2S_TX_L                    I2S_BASE + 0x20\n",
      "      |                                     ^~~~~~~~\n",
      "/tools/C/tedkim7/sp24-Baremetal-IDE/platform/dsp24/src/hal_I2S.c:50:38: note: in expansion of macro 'I2S_TX_L'\n",
      "   50 |         set_DMAP(dma_num, read_addr, I2S_TX_L, I2S_WATERMARK_TX_L, 8, 0, length, 3, poll);\n",
      "      |                                      ^~~~~~~~\n",
      "In file included from /tools/C/tedkim7/sp24-Baremetal-IDE/platform/dsp24/inc/hal_I2S.h:9:\n",
      "/tools/C/tedkim7/sp24-Baremetal-IDE/platform/dsp24/inc/hal_DMA.h:37:57: note: expected 'uint64_t *' {aka 'long unsigned int *'} but argument is of type 'unsigned int'\n",
      "   37 | void set_DMAP(uint32_t num, uint64_t* addr_r, uint64_t* addr_w, uint64_t* addr_c, uint16_t inc_r, uint16_t inc_w, uint16_t len, uint8_t logd, uint32_t count);\n",
      "      |                                               ~~~~~~~~~~^~~~~~\n",
      "/tools/C/tedkim7/sp24-Baremetal-IDE/platform/dsp24/inc/hal_I2S.h:13:37: warning: passing argument 4 of 'set_DMAP' makes pointer from integer without a cast [-Wint-conversion]\n",
      "   13 | #define I2S_BASE                    0x10042000U\n",
      "      |                                     ^\n",
      "      |                                     |\n",
      "      |                                     unsigned int\n",
      "/tools/C/tedkim7/sp24-Baremetal-IDE/platform/dsp24/inc/hal_I2S.h:18:37: note: in expansion of macro 'I2S_BASE'\n",
      "   18 | #define I2S_WATERMARK_TX_L          I2S_BASE + 0x100\n",
      "      |                                     ^~~~~~~~\n",
      "/tools/C/tedkim7/sp24-Baremetal-IDE/platform/dsp24/src/hal_I2S.c:50:48: note: in expansion of macro 'I2S_WATERMARK_TX_L'\n",
      "   50 |         set_DMAP(dma_num, read_addr, I2S_TX_L, I2S_WATERMARK_TX_L, 8, 0, length, 3, poll);\n",
      "      |                                                ^~~~~~~~~~~~~~~~~~\n",
      "/tools/C/tedkim7/sp24-Baremetal-IDE/platform/dsp24/inc/hal_DMA.h:37:75: note: expected 'uint64_t *' {aka 'long unsigned int *'} but argument is of type 'unsigned int'\n",
      "   37 | void set_DMAP(uint32_t num, uint64_t* addr_r, uint64_t* addr_w, uint64_t* addr_c, uint16_t inc_r, uint16_t inc_w, uint16_t len, uint8_t logd, uint32_t count);\n",
      "      |                                                                 ~~~~~~~~~~^~~~~~\n",
      "/tools/C/tedkim7/sp24-Baremetal-IDE/platform/dsp24/src/hal_I2S.c:52:9: warning: incompatible implicit declaration of built-in function 'printf' [-Wbuiltin-declaration-mismatch]\n",
      "   52 |         printf(\"Writing to right queue\\n\");\n",
      "      |         ^~~~~~\n",
      "/tools/C/tedkim7/sp24-Baremetal-IDE/platform/dsp24/src/hal_I2S.c:52:9: note: include '<stdio.h>' or provide a declaration of 'printf'\n",
      "/tools/C/tedkim7/sp24-Baremetal-IDE/platform/dsp24/inc/hal_I2S.h:13:37: warning: passing argument 3 of 'set_DMAP' makes pointer from integer without a cast [-Wint-conversion]\n",
      "   13 | #define I2S_BASE                    0x10042000U\n",
      "      |                                     ^\n",
      "      |                                     |\n",
      "      |                                     unsigned int\n",
      "/tools/C/tedkim7/sp24-Baremetal-IDE/platform/dsp24/inc/hal_I2S.h:27:37: note: in expansion of macro 'I2S_BASE'\n",
      "   27 | #define I2S_TX_R                    I2S_BASE + 0x28\n",
      "      |                                     ^~~~~~~~\n",
      "/tools/C/tedkim7/sp24-Baremetal-IDE/platform/dsp24/src/hal_I2S.c:53:38: note: in expansion of macro 'I2S_TX_R'\n",
      "   53 |         set_DMAP(dma_num, read_addr, I2S_TX_R, I2S_WATERMARK_TX_R, 8, 0, length, 3, poll);\n",
      "      |                                      ^~~~~~~~\n",
      "/tools/C/tedkim7/sp24-Baremetal-IDE/platform/dsp24/inc/hal_DMA.h:37:57: note: expected 'uint64_t *' {aka 'long unsigned int *'} but argument is of type 'unsigned int'\n",
      "   37 | void set_DMAP(uint32_t num, uint64_t* addr_r, uint64_t* addr_w, uint64_t* addr_c, uint16_t inc_r, uint16_t inc_w, uint16_t len, uint8_t logd, uint32_t count);\n",
      "      |                                               ~~~~~~~~~~^~~~~~\n",
      "/tools/C/tedkim7/sp24-Baremetal-IDE/platform/dsp24/inc/hal_I2S.h:13:37: warning: passing argument 4 of 'set_DMAP' makes pointer from integer without a cast [-Wint-conversion]\n",
      "   13 | #define I2S_BASE                    0x10042000U\n",
      "      |                                     ^\n",
      "      |                                     |\n",
      "      |                                     unsigned int\n",
      "/tools/C/tedkim7/sp24-Baremetal-IDE/platform/dsp24/inc/hal_I2S.h:19:37: note: in expansion of macro 'I2S_BASE'\n",
      "   19 | #define I2S_WATERMARK_TX_R          I2S_BASE + 0x101\n",
      "      |                                     ^~~~~~~~\n",
      "/tools/C/tedkim7/sp24-Baremetal-IDE/platform/dsp24/src/hal_I2S.c:53:48: note: in expansion of macro 'I2S_WATERMARK_TX_R'\n",
      "   53 |         set_DMAP(dma_num, read_addr, I2S_TX_R, I2S_WATERMARK_TX_R, 8, 0, length, 3, poll);\n",
      "      |                                                ^~~~~~~~~~~~~~~~~~\n",
      "/tools/C/tedkim7/sp24-Baremetal-IDE/platform/dsp24/inc/hal_DMA.h:37:75: note: expected 'uint64_t *' {aka 'long unsigned int *'} but argument is of type 'unsigned int'\n",
      "   37 | void set_DMAP(uint32_t num, uint64_t* addr_r, uint64_t* addr_w, uint64_t* addr_c, uint16_t inc_r, uint16_t inc_w, uint16_t len, uint8_t logd, uint32_t count);\n",
      "      |                                                                 ~~~~~~~~~~^~~~~~\n",
      "/tools/C/tedkim7/sp24-Baremetal-IDE/platform/dsp24/src/hal_I2S.c: In function 'read_I2S_rx_DMA':\n",
      "/tools/C/tedkim7/sp24-Baremetal-IDE/platform/dsp24/inc/hal_I2S.h:13:37: warning: passing argument 2 of 'set_DMAP' makes pointer from integer without a cast [-Wint-conversion]\n",
      "   13 | #define I2S_BASE                    0x10042000U\n",
      "      |                                     ^\n",
      "      |                                     |\n",
      "      |                                     unsigned int\n",
      "/tools/C/tedkim7/sp24-Baremetal-IDE/platform/dsp24/inc/hal_I2S.h:28:37: note: in expansion of macro 'I2S_BASE'\n",
      "   28 | #define I2S_RX_L                    I2S_BASE + 0x60\n",
      "      |                                     ^~~~~~~~\n",
      "/tools/C/tedkim7/sp24-Baremetal-IDE/platform/dsp24/src/hal_I2S.c:60:27: note: in expansion of macro 'I2S_RX_L'\n",
      "   60 |         set_DMAP(dma_num, I2S_RX_L, write_addr, I2S_WATERMARK_RX_L, 0, 8, length, 3, poll);\n",
      "      |                           ^~~~~~~~\n",
      "/tools/C/tedkim7/sp24-Baremetal-IDE/platform/dsp24/inc/hal_DMA.h:37:39: note: expected 'uint64_t *' {aka 'long unsigned int *'} but argument is of type 'unsigned int'\n",
      "   37 | void set_DMAP(uint32_t num, uint64_t* addr_r, uint64_t* addr_w, uint64_t* addr_c, uint16_t inc_r, uint16_t inc_w, uint16_t len, uint8_t logd, uint32_t count);\n",
      "      |                             ~~~~~~~~~~^~~~~~\n",
      "/tools/C/tedkim7/sp24-Baremetal-IDE/platform/dsp24/inc/hal_I2S.h:13:37: warning: passing argument 4 of 'set_DMAP' makes pointer from integer without a cast [-Wint-conversion]\n",
      "   13 | #define I2S_BASE                    0x10042000U\n",
      "      |                                     ^\n",
      "      |                                     |\n",
      "      |                                     unsigned int\n",
      "/tools/C/tedkim7/sp24-Baremetal-IDE/platform/dsp24/inc/hal_I2S.h:16:37: note: in expansion of macro 'I2S_BASE'\n",
      "   16 | #define I2S_WATERMARK_RX_L          I2S_BASE + 0x102\n",
      "      |                                     ^~~~~~~~\n",
      "/tools/C/tedkim7/sp24-Baremetal-IDE/platform/dsp24/src/hal_I2S.c:60:49: note: in expansion of macro 'I2S_WATERMARK_RX_L'\n",
      "   60 |         set_DMAP(dma_num, I2S_RX_L, write_addr, I2S_WATERMARK_RX_L, 0, 8, length, 3, poll);\n",
      "      |                                                 ^~~~~~~~~~~~~~~~~~\n",
      "/tools/C/tedkim7/sp24-Baremetal-IDE/platform/dsp24/inc/hal_DMA.h:37:75: note: expected 'uint64_t *' {aka 'long unsigned int *'} but argument is of type 'unsigned int'\n",
      "   37 | void set_DMAP(uint32_t num, uint64_t* addr_r, uint64_t* addr_w, uint64_t* addr_c, uint16_t inc_r, uint16_t inc_w, uint16_t len, uint8_t logd, uint32_t count);\n",
      "      |                                                                 ~~~~~~~~~~^~~~~~\n",
      "/tools/C/tedkim7/sp24-Baremetal-IDE/platform/dsp24/inc/hal_I2S.h:13:37: warning: passing argument 2 of 'set_DMAP' makes pointer from integer without a cast [-Wint-conversion]\n",
      "   13 | #define I2S_BASE                    0x10042000U\n",
      "      |                                     ^\n",
      "      |                                     |\n",
      "      |                                     unsigned int\n",
      "/tools/C/tedkim7/sp24-Baremetal-IDE/platform/dsp24/inc/hal_I2S.h:29:37: note: in expansion of macro 'I2S_BASE'\n",
      "   29 | #define I2S_RX_R                    I2S_BASE + 0x68\n",
      "      |                                     ^~~~~~~~\n",
      "/tools/C/tedkim7/sp24-Baremetal-IDE/platform/dsp24/src/hal_I2S.c:62:27: note: in expansion of macro 'I2S_RX_R'\n",
      "   62 |         set_DMAP(dma_num, I2S_RX_R, write_addr, I2S_WATERMARK_RX_R, 0, 8, length, 3, poll);\n",
      "      |                           ^~~~~~~~\n",
      "/tools/C/tedkim7/sp24-Baremetal-IDE/platform/dsp24/inc/hal_DMA.h:37:39: note: expected 'uint64_t *' {aka 'long unsigned int *'} but argument is of type 'unsigned int'\n",
      "   37 | void set_DMAP(uint32_t num, uint64_t* addr_r, uint64_t* addr_w, uint64_t* addr_c, uint16_t inc_r, uint16_t inc_w, uint16_t len, uint8_t logd, uint32_t count);\n",
      "      |                             ~~~~~~~~~~^~~~~~\n",
      "/tools/C/tedkim7/sp24-Baremetal-IDE/platform/dsp24/inc/hal_I2S.h:13:37: warning: passing argument 4 of 'set_DMAP' makes pointer from integer without a cast [-Wint-conversion]\n",
      "   13 | #define I2S_BASE                    0x10042000U\n",
      "      |                                     ^\n",
      "      |                                     |\n",
      "      |                                     unsigned int\n",
      "/tools/C/tedkim7/sp24-Baremetal-IDE/platform/dsp24/inc/hal_I2S.h:17:37: note: in expansion of macro 'I2S_BASE'\n",
      "   17 | #define I2S_WATERMARK_RX_R          I2S_BASE + 0x103\n",
      "      |                                     ^~~~~~~~\n",
      "/tools/C/tedkim7/sp24-Baremetal-IDE/platform/dsp24/src/hal_I2S.c:62:49: note: in expansion of macro 'I2S_WATERMARK_RX_R'\n",
      "   62 |         set_DMAP(dma_num, I2S_RX_R, write_addr, I2S_WATERMARK_RX_R, 0, 8, length, 3, poll);\n",
      "      |                                                 ^~~~~~~~~~~~~~~~~~\n",
      "/tools/C/tedkim7/sp24-Baremetal-IDE/platform/dsp24/inc/hal_DMA.h:37:75: note: expected 'uint64_t *' {aka 'long unsigned int *'} but argument is of type 'unsigned int'\n",
      "   37 | void set_DMAP(uint32_t num, uint64_t* addr_r, uint64_t* addr_w, uint64_t* addr_c, uint16_t inc_r, uint16_t inc_w, uint16_t len, uint8_t logd, uint32_t count);\n",
      "      |                                                                 ~~~~~~~~~~^~~~~~\n"
     ]
    },
    {
     "name": "stdout",
     "output_type": "stream",
     "text": [
      "[ 41%] \u001b[32mBuilding C object platform/dsp24/CMakeFiles/chip-config.dir/src/hal_conv.c.obj\u001b[0m\n"
     ]
    },
    {
     "name": "stderr",
     "output_type": "stream",
     "text": [
      "/tools/C/tedkim7/sp24-Baremetal-IDE/platform/dsp24/src/hal_conv.c: In function 'write_conv_dma':\n",
      "/tools/C/tedkim7/sp24-Baremetal-IDE/platform/dsp24/src/hal_conv.c:13:5: warning: implicit declaration of function 'set_DMAC' [-Wimplicit-function-declaration]\n",
      "   13 |     set_DMAC(dma_num, (uint64_t*) data, CONV_BASE, 8, 0, length/8, 3);\n",
      "      |     ^~~~~~~~\n",
      "/tools/C/tedkim7/sp24-Baremetal-IDE/platform/dsp24/src/hal_conv.c:14:5: warning: implicit declaration of function 'start_DMA' [-Wimplicit-function-declaration]\n",
      "   14 |     start_DMA(dma_num);\n",
      "      |     ^~~~~~~~~\n",
      "/tools/C/tedkim7/sp24-Baremetal-IDE/platform/dsp24/src/hal_conv.c: In function 'read_conv_dma_p':\n",
      "/tools/C/tedkim7/sp24-Baremetal-IDE/platform/dsp24/src/hal_conv.c:23:5: warning: implicit declaration of function 'set_DMAP' [-Wimplicit-function-declaration]\n",
      "   23 |     set_DMAP(dma_num, CONV_OUTPUT_ADDR, write_addr, READ_CHECK_ADDR, 0, 8, length/4, 3, 0);\n",
      "      |     ^~~~~~~~\n"
     ]
    },
    {
     "name": "stdout",
     "output_type": "stream",
     "text": [
      "[ 43%] \u001b[32mBuilding C object platform/dsp24/CMakeFiles/chip-config.dir/src/hal_fft.c.obj\u001b[0m\n"
     ]
    },
    {
     "name": "stderr",
     "output_type": "stream",
     "text": [
      "/tools/C/tedkim7/sp24-Baremetal-IDE/platform/dsp24/src/hal_fft.c: In function 'write_fft_dma':\n",
      "/tools/C/tedkim7/sp24-Baremetal-IDE/platform/dsp24/src/hal_fft.c:28:23: warning: passing argument 2 of 'set_DMAC' makes integer from pointer without a cast [-Wint-conversion]\n",
      "   28 |     set_DMAC(dma_num, data, FFT_INPUT, 8, 0, length/2, 3);\n",
      "      |                       ^~~~\n",
      "      |                       |\n",
      "      |                       uint64_t * {aka long unsigned int *}\n",
      "In file included from /tools/C/tedkim7/sp24-Baremetal-IDE/platform/dsp24/inc/hal_fft.h:9,\n",
      "                 from /tools/C/tedkim7/sp24-Baremetal-IDE/platform/dsp24/src/hal_fft.c:1:\n",
      "/tools/C/tedkim7/sp24-Baremetal-IDE/platform/dsp24/inc/hal_DMA.h:34:38: note: expected 'uint64_t' {aka 'long unsigned int'} but argument is of type 'uint64_t *' {aka 'long unsigned int *'}\n",
      "   34 | void set_DMAC(uint32_t num, uint64_t addr_r, uint64_t addr_w, uint16_t inc_r, uint16_t inc_w, uint16_t len, uint16_t logd);\n",
      "      |                             ~~~~~~~~~^~~~~~\n",
      "/tools/C/tedkim7/sp24-Baremetal-IDE/platform/dsp24/src/hal_fft.c: In function 'read_fft_dma':\n",
      "/tools/C/tedkim7/sp24-Baremetal-IDE/platform/dsp24/src/hal_fft.c:33:35: warning: passing argument 3 of 'set_DMAC' makes integer from pointer without a cast [-Wint-conversion]\n",
      "   33 |     set_DMAC(dma_num, FFT_OUTPUT, write_addr, 0, 8, length, 2);\n",
      "      |                                   ^~~~~~~~~~\n",
      "      |                                   |\n",
      "      |                                   uint64_t * {aka long unsigned int *}\n",
      "/tools/C/tedkim7/sp24-Baremetal-IDE/platform/dsp24/inc/hal_DMA.h:34:55: note: expected 'uint64_t' {aka 'long unsigned int'} but argument is of type 'uint64_t *' {aka 'long unsigned int *'}\n",
      "   34 | void set_DMAC(uint32_t num, uint64_t addr_r, uint64_t addr_w, uint16_t inc_r, uint16_t inc_w, uint16_t len, uint16_t logd);\n",
      "      |                                              ~~~~~~~~~^~~~~~\n",
      "/tools/C/tedkim7/sp24-Baremetal-IDE/platform/dsp24/src/hal_fft.c: In function 'read_fft_real_dma':\n",
      "/tools/C/tedkim7/sp24-Baremetal-IDE/platform/dsp24/src/hal_fft.c:38:35: warning: passing argument 3 of 'set_DMAC' makes integer from pointer without a cast [-Wint-conversion]\n",
      "   38 |     set_DMAC(dma_num, FFT_OUTPUT, write_addr, 0, 4, length, 1);\n",
      "      |                                   ^~~~~~~~~~\n",
      "      |                                   |\n",
      "      |                                   uint64_t * {aka long unsigned int *}\n",
      "/tools/C/tedkim7/sp24-Baremetal-IDE/platform/dsp24/inc/hal_DMA.h:34:55: note: expected 'uint64_t' {aka 'long unsigned int'} but argument is of type 'uint64_t *' {aka 'long unsigned int *'}\n",
      "   34 | void set_DMAC(uint32_t num, uint64_t addr_r, uint64_t addr_w, uint16_t inc_r, uint16_t inc_w, uint16_t len, uint16_t logd);\n",
      "      |                                              ~~~~~~~~~^~~~~~\n"
     ]
    },
    {
     "name": "stdout",
     "output_type": "stream",
     "text": [
      "[ 46%] \u001b[32mBuilding C object platform/dsp24/CMakeFiles/chip-config.dir/src/hal_mmio.c.obj\u001b[0m\n",
      "[ 48%] \u001b[32m\u001b[1mLinking C static library libchip-config.a\u001b[0m\n",
      "gmake[4]: Leaving directory '/bwrcq/C/tedkim7/sp24-Baremetal-IDE/build'\n",
      "[ 48%] Built target chip-config\n",
      "gmake[4]: Entering directory '/bwrcq/C/tedkim7/sp24-Baremetal-IDE/build'\n",
      "gmake[4]: Leaving directory '/bwrcq/C/tedkim7/sp24-Baremetal-IDE/build'\n",
      "gmake[4]: Entering directory '/bwrcq/C/tedkim7/sp24-Baremetal-IDE/build'\n",
      "[ 51%] \u001b[32mBuilding ASM object glossy/CMakeFiles/glossy.dir/src/startup/crt0.S.obj\u001b[0m\n",
      "[ 53%] \u001b[32mBuilding ASM object glossy/CMakeFiles/glossy.dir/src/startup/init.S.obj\u001b[0m\n",
      "[ 56%] \u001b[32mBuilding C object glossy/CMakeFiles/glossy.dir/src/startup/secondary.c.obj\u001b[0m\n",
      "[ 58%] \u001b[32mBuilding ASM object glossy/CMakeFiles/glossy.dir/src/trap/trap.S.obj\u001b[0m\n",
      "[ 61%] \u001b[32mBuilding C object glossy/CMakeFiles/glossy.dir/src/trap/trap.c.obj\u001b[0m\n"
     ]
    },
    {
     "name": "stderr",
     "output_type": "stream",
     "text": [
      "/tools/C/tedkim7/sp24-Baremetal-IDE/glossy/src/trap/trap.c: In function 'trap_handler':\n",
      "/tools/C/tedkim7/sp24-Baremetal-IDE/glossy/src/trap/trap.c:73:92: warning: unused parameter 'm_tval' [-Wunused-parameter]\n",
      "   73 | __attribute__((weak)) uintptr_t trap_handler(uintptr_t m_epc, uintptr_t m_cause, uintptr_t m_tval, uintptr_t regs[32]) {\n",
      "      |                                                                                  ~~~~~~~~~~^~~~~~\n",
      "/tools/C/tedkim7/sp24-Baremetal-IDE/glossy/src/trap/trap.c:73:110: warning: unused parameter 'regs' [-Wunused-parameter]\n",
      "   73 | __attribute__((weak)) uintptr_t trap_handler(uintptr_t m_epc, uintptr_t m_cause, uintptr_t m_tval, uintptr_t regs[32]) {\n",
      "      |                                                                                                    ~~~~~~~~~~^~~~~~~~\n"
     ]
    },
    {
     "name": "stdout",
     "output_type": "stream",
     "text": [
      "[ 64%] \u001b[32mBuilding C object glossy/CMakeFiles/glossy.dir/src/sys/close.c.obj\u001b[0m\n"
     ]
    },
    {
     "name": "stderr",
     "output_type": "stream",
     "text": [
      "/tools/C/tedkim7/sp24-Baremetal-IDE/glossy/src/sys/close.c: In function '_close':\n",
      "/tools/C/tedkim7/sp24-Baremetal-IDE/glossy/src/sys/close.c:2:38: warning: unused parameter 'file' [-Wunused-parameter]\n",
      "    2 | __attribute__((weak)) int _close(int file) {\n",
      "      |                                  ~~~~^~~~\n"
     ]
    },
    {
     "name": "stdout",
     "output_type": "stream",
     "text": [
      "[ 66%] \u001b[32mBuilding C object glossy/CMakeFiles/glossy.dir/src/sys/exit.c.obj\u001b[0m\n"
     ]
    },
    {
     "name": "stderr",
     "output_type": "stream",
     "text": [
      "/tools/C/tedkim7/sp24-Baremetal-IDE/glossy/src/sys/exit.c: In function '_exit':\n",
      "/tools/C/tedkim7/sp24-Baremetal-IDE/glossy/src/sys/exit.c:4:48: warning: unused parameter 'code' [-Wunused-parameter]\n",
      "    4 | __attribute__((weak, noreturn)) void _exit(int code) {\n",
      "      |                                            ~~~~^~~~\n"
     ]
    },
    {
     "name": "stdout",
     "output_type": "stream",
     "text": [
      "[ 69%] \u001b[32mBuilding C object glossy/CMakeFiles/glossy.dir/src/sys/fstat.c.obj\u001b[0m\n"
     ]
    },
    {
     "name": "stderr",
     "output_type": "stream",
     "text": [
      "/tools/C/tedkim7/sp24-Baremetal-IDE/glossy/src/sys/fstat.c: In function '_fstat':\n",
      "/tools/C/tedkim7/sp24-Baremetal-IDE/glossy/src/sys/fstat.c:4:38: warning: unused parameter 'file' [-Wunused-parameter]\n",
      "    4 | __attribute__((weak)) int _fstat(int file, struct stat *st) {\n",
      "      |                                  ~~~~^~~~\n",
      "/tools/C/tedkim7/sp24-Baremetal-IDE/glossy/src/sys/fstat.c:4:57: warning: unused parameter 'st' [-Wunused-parameter]\n",
      "    4 | __attribute__((weak)) int _fstat(int file, struct stat *st) {\n",
      "      |                                            ~~~~~~~~~~~~~^~\n"
     ]
    },
    {
     "name": "stdout",
     "output_type": "stream",
     "text": [
      "[ 71%] \u001b[32mBuilding C object glossy/CMakeFiles/glossy.dir/src/sys/getpid.c.obj\u001b[0m\n",
      "[ 74%] \u001b[32mBuilding C object glossy/CMakeFiles/glossy.dir/src/sys/isatty.c.obj\u001b[0m\n",
      "[ 76%] \u001b[32mBuilding C object glossy/CMakeFiles/glossy.dir/src/sys/kill.c.obj\u001b[0m\n"
     ]
    },
    {
     "name": "stderr",
     "output_type": "stream",
     "text": [
      "/tools/C/tedkim7/sp24-Baremetal-IDE/glossy/src/sys/kill.c: In function '_kill':\n",
      "/tools/C/tedkim7/sp24-Baremetal-IDE/glossy/src/sys/kill.c:2:37: warning: unused parameter 'pid' [-Wunused-parameter]\n",
      "    2 | __attribute__((weak)) int _kill(int pid, int sig) {\n",
      "      |                                 ~~~~^~~\n",
      "/tools/C/tedkim7/sp24-Baremetal-IDE/glossy/src/sys/kill.c:2:46: warning: unused parameter 'sig' [-Wunused-parameter]\n",
      "    2 | __attribute__((weak)) int _kill(int pid, int sig) {\n",
      "      |                                          ~~~~^~~\n"
     ]
    },
    {
     "name": "stdout",
     "output_type": "stream",
     "text": [
      "[ 79%] \u001b[32mBuilding C object glossy/CMakeFiles/glossy.dir/src/sys/lseek.c.obj\u001b[0m\n"
     ]
    },
    {
     "name": "stderr",
     "output_type": "stream",
     "text": [
      "/tools/C/tedkim7/sp24-Baremetal-IDE/glossy/src/sys/lseek.c: In function '_lseek':\n",
      "/tools/C/tedkim7/sp24-Baremetal-IDE/glossy/src/sys/lseek.c:5:40: warning: unused parameter 'file' [-Wunused-parameter]\n",
      "    5 | __attribute__((weak)) off_t _lseek(int file, off_t ptr, int dir) {\n",
      "      |                                    ~~~~^~~~\n",
      "/tools/C/tedkim7/sp24-Baremetal-IDE/glossy/src/sys/lseek.c:5:52: warning: unused parameter 'ptr' [-Wunused-parameter]\n",
      "    5 | __attribute__((weak)) off_t _lseek(int file, off_t ptr, int dir) {\n",
      "      |                                              ~~~~~~^~~\n",
      "/tools/C/tedkim7/sp24-Baremetal-IDE/glossy/src/sys/lseek.c:5:61: warning: unused parameter 'dir' [-Wunused-parameter]\n",
      "    5 | __attribute__((weak)) off_t _lseek(int file, off_t ptr, int dir) {\n",
      "      |                                                         ~~~~^~~\n"
     ]
    },
    {
     "name": "stdout",
     "output_type": "stream",
     "text": [
      "[ 82%] \u001b[32mBuilding C object glossy/CMakeFiles/glossy.dir/src/sys/open.c.obj\u001b[0m\n"
     ]
    },
    {
     "name": "stderr",
     "output_type": "stream",
     "text": [
      "/tools/C/tedkim7/sp24-Baremetal-IDE/glossy/src/sys/open.c: In function '_open':\n",
      "/tools/C/tedkim7/sp24-Baremetal-IDE/glossy/src/sys/open.c:3:45: warning: unused parameter 'path' [-Wunused-parameter]\n",
      "    3 | __attribute__((weak)) int _open(const char *path, int flags, int mode) {\n",
      "      |                                 ~~~~~~~~~~~~^~~~\n",
      "/tools/C/tedkim7/sp24-Baremetal-IDE/glossy/src/sys/open.c:3:55: warning: unused parameter 'flags' [-Wunused-parameter]\n",
      "    3 | __attribute__((weak)) int _open(const char *path, int flags, int mode) {\n",
      "      |                                                   ~~~~^~~~~\n",
      "/tools/C/tedkim7/sp24-Baremetal-IDE/glossy/src/sys/open.c:3:66: warning: unused parameter 'mode' [-Wunused-parameter]\n",
      "    3 | __attribute__((weak)) int _open(const char *path, int flags, int mode) {\n",
      "      |                                                              ~~~~^~~~\n"
     ]
    },
    {
     "name": "stdout",
     "output_type": "stream",
     "text": [
      "[ 84%] \u001b[32mBuilding C object glossy/CMakeFiles/glossy.dir/src/sys/read.c.obj\u001b[0m\n"
     ]
    },
    {
     "name": "stderr",
     "output_type": "stream",
     "text": [
      "/tools/C/tedkim7/sp24-Baremetal-IDE/glossy/src/sys/read.c: In function '_read':\n",
      "/tools/C/tedkim7/sp24-Baremetal-IDE/glossy/src/sys/read.c:5:41: warning: unused parameter 'file' [-Wunused-parameter]\n",
      "    5 | __attribute__((weak)) ssize_t _read(int file, void *ptr, size_t len) {\n",
      "      |                                     ~~~~^~~~\n",
      "/tools/C/tedkim7/sp24-Baremetal-IDE/glossy/src/sys/read.c:5:53: warning: unused parameter 'ptr' [-Wunused-parameter]\n",
      "    5 | __attribute__((weak)) ssize_t _read(int file, void *ptr, size_t len) {\n",
      "      |                                               ~~~~~~^~~\n",
      "/tools/C/tedkim7/sp24-Baremetal-IDE/glossy/src/sys/read.c:5:65: warning: unused parameter 'len' [-Wunused-parameter]\n",
      "    5 | __attribute__((weak)) ssize_t _read(int file, void *ptr, size_t len) {\n",
      "      |                                                          ~~~~~~~^~~\n"
     ]
    },
    {
     "name": "stdout",
     "output_type": "stream",
     "text": [
      "[ 87%] \u001b[32mBuilding C object glossy/CMakeFiles/glossy.dir/src/sys/sbrk.c.obj\u001b[0m\n",
      "[ 89%] \u001b[32mBuilding C object glossy/CMakeFiles/glossy.dir/src/sys/time.c.obj\u001b[0m\n",
      "[ 92%] \u001b[32mBuilding C object glossy/CMakeFiles/glossy.dir/src/sys/write.c.obj\u001b[0m\n"
     ]
    },
    {
     "name": "stderr",
     "output_type": "stream",
     "text": [
      "/tools/C/tedkim7/sp24-Baremetal-IDE/glossy/src/sys/write.c: In function '_write':\n",
      "/tools/C/tedkim7/sp24-Baremetal-IDE/glossy/src/sys/write.c:8:42: warning: unused parameter 'fd' [-Wunused-parameter]\n",
      "    8 | __attribute__((weak)) ssize_t _write(int fd, const void *ptr, size_t len) {\n",
      "      |                                      ~~~~^~\n"
     ]
    },
    {
     "name": "stdout",
     "output_type": "stream",
     "text": [
      "[ 94%] \u001b[32m\u001b[1mLinking C static library libglossy.a\u001b[0m\n",
      "gmake[4]: Leaving directory '/bwrcq/C/tedkim7/sp24-Baremetal-IDE/build'\n",
      "[ 94%] Built target glossy\n",
      "gmake[4]: Entering directory '/bwrcq/C/tedkim7/sp24-Baremetal-IDE/build'\n",
      "gmake[4]: Leaving directory '/bwrcq/C/tedkim7/sp24-Baremetal-IDE/build'\n",
      "gmake[4]: Entering directory '/bwrcq/C/tedkim7/sp24-Baremetal-IDE/build'\n",
      "[ 97%] \u001b[32mBuilding C object CMakeFiles/shmoo_bench.dir/shmoo_bench/dsp_conv_bench/src/main.c.obj\u001b[0m\n"
     ]
    },
    {
     "name": "stderr",
     "output_type": "stream",
     "text": [
      "/tools/C/tedkim7/sp24-Baremetal-IDE/shmoo_bench/dsp_conv_bench/src/main.c: In function 'app_main':\n",
      "/tools/C/tedkim7/sp24-Baremetal-IDE/shmoo_bench/dsp_conv_bench/src/main.c:61:5: warning: implicit declaration of function 'reg_write8' [-Wimplicit-function-declaration]\n",
      "   61 |     reg_write8(RESET_ADDR, 1);\n",
      "      |     ^~~~~~~~~~\n",
      "/tools/C/tedkim7/sp24-Baremetal-IDE/shmoo_bench/dsp_conv_bench/src/main.c:71:5: warning: implicit declaration of function 'set_conv_params' [-Wimplicit-function-declaration]\n",
      "   71 |     set_conv_params(16, 1, ((uint64_t*) in_kernel));\n",
      "      |     ^~~~~~~~~~~~~~~\n",
      "/tools/C/tedkim7/sp24-Baremetal-IDE/shmoo_bench/dsp_conv_bench/src/main.c:72:5: warning: implicit declaration of function 'write_conv_dma' [-Wimplicit-function-declaration]\n",
      "   72 |     write_conv_dma(0, 16, in_arr);\n",
      "      |     ^~~~~~~~~~~~~~\n",
      "/tools/C/tedkim7/sp24-Baremetal-IDE/shmoo_bench/dsp_conv_bench/src/main.c:77:5: warning: implicit declaration of function 'start_conv' [-Wimplicit-function-declaration]\n",
      "   77 |     start_conv();\n",
      "      |     ^~~~~~~~~~\n",
      "/tools/C/tedkim7/sp24-Baremetal-IDE/shmoo_bench/dsp_conv_bench/src/main.c:91:5: warning: implicit declaration of function 'read_conv_dma' [-Wimplicit-function-declaration]\n",
      "   91 |     read_conv_dma(0, 16, ((uint64_t*) test_out));\n",
      "      |     ^~~~~~~~~~~~~\n",
      "/tools/C/tedkim7/sp24-Baremetal-IDE/shmoo_bench/dsp_conv_bench/src/main.c:95:20: warning: format '%lx' expects argument of type 'long unsigned int', but argument 2 has type 'int' [-Wformat=]\n",
      "   95 |             printf(\"%\"PRIx64\" \", test_out[i*4 + j]);\n",
      "      |                    ^~~           ~~~~~~~~~~~~~~~~~\n",
      "      |                                          |\n",
      "      |                                          int\n",
      "/tools/C/tedkim7/sp24-Baremetal-IDE/shmoo_bench/dsp_conv_bench/src/main.c:100:14: warning: variable 'ref_out' set but not used [-Wunused-but-set-variable]\n",
      "  100 |     uint16_t ref_out[32];\n",
      "      |              ^~~~~~~\n",
      "/tools/C/tedkim7/sp24-Baremetal-IDE/shmoo_bench/dsp_conv_bench/src/main.c:79:14: warning: unused variable 'cpu_end_cycles' [-Wunused-variable]\n",
      "   79 |     uint64_t cpu_end_cycles = READ_CSR(\"mcycle\");\n",
      "      |              ^~~~~~~~~~~~~~\n",
      "/tools/C/tedkim7/sp24-Baremetal-IDE/shmoo_bench/dsp_conv_bench/src/main.c:74:14: warning: unused variable 'cpu_start_cycles' [-Wunused-variable]\n",
      "   74 |     uint64_t cpu_start_cycles = READ_CSR(\"mcycle\");\n",
      "      |              ^~~~~~~~~~~~~~~~\n",
      "/tools/C/tedkim7/sp24-Baremetal-IDE/shmoo_bench/dsp_conv_bench/src/main.c:67:14: warning: unused variable 'in_dilation' [-Wunused-variable]\n",
      "   67 |     uint16_t in_dilation[1] = {1};\n",
      "      |              ^~~~~~~~~~~\n",
      "/tools/C/tedkim7/sp24-Baremetal-IDE/shmoo_bench/dsp_conv_bench/src/main.c:66:14: warning: unused variable 'in_len' [-Wunused-variable]\n",
      "   66 |     uint32_t in_len[1] = {16};\n",
      "      |              ^~~~~~\n",
      "/tools/C/tedkim7/sp24-Baremetal-IDE/shmoo_bench/dsp_conv_bench/src/main.c: In function 'main':\n",
      "/tools/C/tedkim7/sp24-Baremetal-IDE/shmoo_bench/dsp_conv_bench/src/main.c:127:14: warning: unused parameter 'argc' [-Wunused-parameter]\n",
      "  127 | int main(int argc, char **argv) {\n",
      "      |          ~~~~^~~~\n",
      "/tools/C/tedkim7/sp24-Baremetal-IDE/shmoo_bench/dsp_conv_bench/src/main.c:127:27: warning: unused parameter 'argv' [-Wunused-parameter]\n",
      "  127 | int main(int argc, char **argv) {\n",
      "      |                    ~~~~~~~^~~~\n"
     ]
    },
    {
     "name": "stdout",
     "output_type": "stream",
     "text": [
      "[100%] \u001b[32m\u001b[1mLinking C executable shmoo_bench.elf\u001b[0m\n"
     ]
    },
    {
     "name": "stderr",
     "output_type": "stream",
     "text": [
      "/bwrcq/C/ee290-fa24-2/.conda-env/riscv-tools/bin/../lib/gcc/riscv64-unknown-elf/13.2.0/../../../../riscv64-unknown-elf/bin/ld: warning: shmoo_bench.elf has a LOAD segment with RWX permissions\n"
     ]
    },
    {
     "name": "stdout",
     "output_type": "stream",
     "text": [
      "gmake[4]: Leaving directory '/bwrcq/C/tedkim7/sp24-Baremetal-IDE/build'\n",
      "[100%] Built target shmoo_bench\n",
      "gmake[3]: Leaving directory '/bwrcq/C/tedkim7/sp24-Baremetal-IDE/build'\n",
      "gmake[2]: Leaving directory '/bwrcq/C/tedkim7/sp24-Baremetal-IDE/build'\n",
      "gmake[1]: Leaving directory '/bwrcq/C/tedkim7/sp24-Baremetal-IDE/build'\n",
      "**Clock set to: 550MHz**\n",
      "**Voltage set to: +5.00000000E-01\n",
      "V**\n"
     ]
    },
    {
     "name": "stderr",
     "output_type": "stream",
     "text": [
      "warning: tohost and fromhost symbols not in ELF; can't communicate with target\n",
      "Writing 14006c with b\n",
      "Done writing 14006c with b\n"
     ]
    },
    {
     "name": "stdout",
     "output_type": "stream",
     "text": [
      "Starting UART-based TSI\n",
      "Usage: ./uart_tsi +tty=/dev/pts/xx <PLUSARGS> <bin>\n",
      "       ./uart_tsi +tty=/dev/ttyxx  <PLUSARGS> <bin>\n",
      "       ./uart_tsi +tty=/dev/ttyxx  +no_hart0_msip +init_write=0x80000000:0xdeadbeef none\n",
      "       ./uart_tsi +tty=/dev/ttyxx  +no_hart0_msip +init_read=0x80000000 none\n",
      "       ./uart_tsi +tty=/dev/ttyxx  +selfcheck <bin>\n",
      "       ./uart_tsi +tty=/dev/ttyxx  +baudrate=921600 <bin>\n",
      "Attempting to open TTY at /dev/ttyUSB1\n",
      "Warning: You selected a non-standard baudrate. This will only work if the HW was configured with this baud-rate\n",
      "Checking connection status with /dev/ttyUSB1\n",
      "Connection succeeded\n",
      "Done, shutting down, flushing UART\n",
      "WARNING: You should probably reset the target before running this program again\n",
      "Done: now reset during the sleep before next iteration\n",
      "**Voltage set to: +5.50000000E-01\n",
      "V**\n"
     ]
    },
    {
     "name": "stderr",
     "output_type": "stream",
     "text": [
      "warning: tohost and fromhost symbols not in ELF; can't communicate with target\n",
      "Writing 14006c with b\n",
      "Done writing 14006c with b\n"
     ]
    },
    {
     "name": "stdout",
     "output_type": "stream",
     "text": [
      "Starting UART-based TSI\n",
      "Usage: ./uart_tsi +tty=/dev/pts/xx <PLUSARGS> <bin>\n",
      "       ./uart_tsi +tty=/dev/ttyxx  <PLUSARGS> <bin>\n",
      "       ./uart_tsi +tty=/dev/ttyxx  +no_hart0_msip +init_write=0x80000000:0xdeadbeef none\n",
      "       ./uart_tsi +tty=/dev/ttyxx  +no_hart0_msip +init_read=0x80000000 none\n",
      "       ./uart_tsi +tty=/dev/ttyxx  +selfcheck <bin>\n",
      "       ./uart_tsi +tty=/dev/ttyxx  +baudrate=921600 <bin>\n",
      "Attempting to open TTY at /dev/ttyUSB1\n",
      "Warning: You selected a non-standard baudrate. This will only work if the HW was configured with this baud-rate\n",
      "Checking connection status with /dev/ttyUSB1\n",
      "Connection succeeded\n",
      "Done, shutting down, flushing UART\n",
      "WARNING: You should probably reset the target before running this program again\n",
      "Done: now reset during the sleep before next iteration\n",
      "**Voltage set to: +6.00000000E-01\n",
      "V**\n"
     ]
    },
    {
     "name": "stderr",
     "output_type": "stream",
     "text": [
      "warning: tohost and fromhost symbols not in ELF; can't communicate with target\n",
      "Writing 14006c with b\n",
      "Done writing 14006c with b\n"
     ]
    },
    {
     "name": "stdout",
     "output_type": "stream",
     "text": [
      "Starting UART-based TSI\n",
      "Usage: ./uart_tsi +tty=/dev/pts/xx <PLUSARGS> <bin>\n",
      "       ./uart_tsi +tty=/dev/ttyxx  <PLUSARGS> <bin>\n",
      "       ./uart_tsi +tty=/dev/ttyxx  +no_hart0_msip +init_write=0x80000000:0xdeadbeef none\n",
      "       ./uart_tsi +tty=/dev/ttyxx  +no_hart0_msip +init_read=0x80000000 none\n",
      "       ./uart_tsi +tty=/dev/ttyxx  +selfcheck <bin>\n",
      "       ./uart_tsi +tty=/dev/ttyxx  +baudrate=921600 <bin>\n",
      "Attempting to open TTY at /dev/ttyUSB1\n",
      "Warning: You selected a non-standard baudrate. This will only work if the HW was configured with this baud-rate\n",
      "Checking connection status with /dev/ttyUSB1\n",
      "Connection succeeded\n",
      "Done, shutting down, flushing UART\n",
      "WARNING: You should probably reset the target before running this program again\n",
      "Done: now reset during the sleep before next iteration\n",
      "**Voltage set to: +6.50000000E-01\n",
      "V**\n"
     ]
    },
    {
     "name": "stderr",
     "output_type": "stream",
     "text": [
      "warning: tohost and fromhost symbols not in ELF; can't communicate with target\n",
      "Writing 14006c with b\n",
      "Done writing 14006c with b\n"
     ]
    },
    {
     "name": "stdout",
     "output_type": "stream",
     "text": [
      "Starting UART-based TSI\n",
      "Usage: ./uart_tsi +tty=/dev/pts/xx <PLUSARGS> <bin>\n",
      "       ./uart_tsi +tty=/dev/ttyxx  <PLUSARGS> <bin>\n",
      "       ./uart_tsi +tty=/dev/ttyxx  +no_hart0_msip +init_write=0x80000000:0xdeadbeef none\n",
      "       ./uart_tsi +tty=/dev/ttyxx  +no_hart0_msip +init_read=0x80000000 none\n",
      "       ./uart_tsi +tty=/dev/ttyxx  +selfcheck <bin>\n",
      "       ./uart_tsi +tty=/dev/ttyxx  +baudrate=921600 <bin>\n",
      "Attempting to open TTY at /dev/ttyUSB1\n",
      "Warning: You selected a non-standard baudrate. This will only work if the HW was configured with this baud-rate\n",
      "Checking connection status with /dev/ttyUSB1\n",
      "Connection succeeded\n",
      "Done, shutting down, flushing UART\n",
      "WARNING: You should probably reset the target before running this program again\n",
      "Done: now reset during the sleep before next iteration\n",
      "**Voltage set to: +7.00000000E-01\n",
      "V**\n"
     ]
    },
    {
     "name": "stderr",
     "output_type": "stream",
     "text": [
      "warning: tohost and fromhost symbols not in ELF; can't communicate with target\n",
      "Writing 14006c with b\n",
      "Done writing 14006c with b\n"
     ]
    },
    {
     "name": "stdout",
     "output_type": "stream",
     "text": [
      "Starting UART-based TSI\n",
      "Usage: ./uart_tsi +tty=/dev/pts/xx <PLUSARGS> <bin>\n",
      "       ./uart_tsi +tty=/dev/ttyxx  <PLUSARGS> <bin>\n",
      "       ./uart_tsi +tty=/dev/ttyxx  +no_hart0_msip +init_write=0x80000000:0xdeadbeef none\n",
      "       ./uart_tsi +tty=/dev/ttyxx  +no_hart0_msip +init_read=0x80000000 none\n",
      "       ./uart_tsi +tty=/dev/ttyxx  +selfcheck <bin>\n",
      "       ./uart_tsi +tty=/dev/ttyxx  +baudrate=921600 <bin>\n",
      "Attempting to open TTY at /dev/ttyUSB1\n",
      "Warning: You selected a non-standard baudrate. This will only work if the HW was configured with this baud-rate\n",
      "Checking connection status with /dev/ttyUSB1\n",
      "Connection succeeded\n",
      "Done, shutting down, flushing UART\n",
      "WARNING: You should probably reset the target before running this program again\n",
      "Done: now reset during the sleep before next iteration\n",
      "**Voltage set to: +7.50000000E-01\n",
      "V**\n"
     ]
    },
    {
     "name": "stderr",
     "output_type": "stream",
     "text": [
      "warning: tohost and fromhost symbols not in ELF; can't communicate with target\n",
      "Writing 14006c with b\n",
      "Done writing 14006c with b\n"
     ]
    },
    {
     "name": "stdout",
     "output_type": "stream",
     "text": [
      "Starting UART-based TSI\n",
      "Usage: ./uart_tsi +tty=/dev/pts/xx <PLUSARGS> <bin>\n",
      "       ./uart_tsi +tty=/dev/ttyxx  <PLUSARGS> <bin>\n",
      "       ./uart_tsi +tty=/dev/ttyxx  +no_hart0_msip +init_write=0x80000000:0xdeadbeef none\n",
      "       ./uart_tsi +tty=/dev/ttyxx  +no_hart0_msip +init_read=0x80000000 none\n",
      "       ./uart_tsi +tty=/dev/ttyxx  +selfcheck <bin>\n",
      "       ./uart_tsi +tty=/dev/ttyxx  +baudrate=921600 <bin>\n",
      "Attempting to open TTY at /dev/ttyUSB1\n",
      "Warning: You selected a non-standard baudrate. This will only work if the HW was configured with this baud-rate\n",
      "Checking connection status with /dev/ttyUSB1\n",
      "Connection succeeded\n",
      "Done, shutting down, flushing UART\n",
      "WARNING: You should probably reset the target before running this program again\n",
      "Done: now reset during the sleep before next iteration\n",
      "**Voltage set to: +8.00000000E-01\n",
      "V**\n"
     ]
    },
    {
     "name": "stderr",
     "output_type": "stream",
     "text": [
      "warning: tohost and fromhost symbols not in ELF; can't communicate with target\n",
      "Writing 14006c with b\n",
      "Done writing 14006c with b\n"
     ]
    },
    {
     "name": "stdout",
     "output_type": "stream",
     "text": [
      "b'0 4400 4600 4800 4900 4a00 4b00 4c00 4c80 4d00 4d80 4e00 4e80 4f00 4f80 5000 \\r\\n'\n",
      "Starting UART-based TSI\n",
      "Usage: ./uart_tsi +tty=/dev/pts/xx <PLUSARGS> <bin>\n",
      "       ./uart_tsi +tty=/dev/ttyxx  <PLUSARGS> <bin>\n",
      "       ./uart_tsi +tty=/dev/ttyxx  +no_hart0_msip +init_write=0x80000000:0xdeadbeef none\n",
      "       ./uart_tsi +tty=/dev/ttyxx  +no_hart0_msip +init_read=0x80000000 none\n",
      "       ./uart_tsi +tty=/dev/ttyxx  +selfcheck <bin>\n",
      "       ./uart_tsi +tty=/dev/ttyxx  +baudrate=921600 <bin>\n",
      "Attempting to open TTY at /dev/ttyUSB1\n",
      "Warning: You selected a non-standard baudrate. This will only work if the HW was configured with this baud-rate\n",
      "Checking connection status with /dev/ttyUSB1\n",
      "Connection succeeded\n",
      "Done, shutting down, flushing UART\n",
      "WARNING: You should probably reset the target before running this program again\n",
      "Done: now reset during the sleep before next iteration\n",
      "**Voltage set to: +8.50000000E-01\n",
      "V**\n"
     ]
    },
    {
     "name": "stderr",
     "output_type": "stream",
     "text": [
      "warning: tohost and fromhost symbols not in ELF; can't communicate with target\n",
      "Writing 14006c with b\n",
      "Done writing 14006c with b\n"
     ]
    },
    {
     "name": "stdout",
     "output_type": "stream",
     "text": [
      "b'0 4400 4600 4800 4900 4a00 4b00 4c00 4c80 4d00 4d80 4e00 4e80 4f00 4f80 5000 \\r\\n'\n",
      "Starting UART-based TSI\n",
      "Usage: ./uart_tsi +tty=/dev/pts/xx <PLUSARGS> <bin>\n",
      "       ./uart_tsi +tty=/dev/ttyxx  <PLUSARGS> <bin>\n",
      "       ./uart_tsi +tty=/dev/ttyxx  +no_hart0_msip +init_write=0x80000000:0xdeadbeef none\n",
      "       ./uart_tsi +tty=/dev/ttyxx  +no_hart0_msip +init_read=0x80000000 none\n",
      "       ./uart_tsi +tty=/dev/ttyxx  +selfcheck <bin>\n",
      "       ./uart_tsi +tty=/dev/ttyxx  +baudrate=921600 <bin>\n",
      "Attempting to open TTY at /dev/ttyUSB1\n",
      "Warning: You selected a non-standard baudrate. This will only work if the HW was configured with this baud-rate\n",
      "Checking connection status with /dev/ttyUSB1\n",
      "Connection succeeded\n",
      "Done, shutting down, flushing UART\n",
      "WARNING: You should probably reset the target before running this program again\n",
      "Done: now reset during the sleep before next iteration\n",
      "**Voltage set to: +9.00000000E-01\n",
      "V**\n"
     ]
    },
    {
     "name": "stderr",
     "output_type": "stream",
     "text": [
      "warning: tohost and fromhost symbols not in ELF; can't communicate with target\n",
      "Writing 14006c with b\n",
      "Done writing 14006c with b\n"
     ]
    },
    {
     "name": "stdout",
     "output_type": "stream",
     "text": [
      "b'0 4400 4600 4800 4900 4a00 4b00 4c00 4c80 4d00 4d80 4e00 4e80 4f00 4f80 5000 \\r\\n'\n",
      "Starting UART-based TSI\n",
      "Usage: ./uart_tsi +tty=/dev/pts/xx <PLUSARGS> <bin>\n",
      "       ./uart_tsi +tty=/dev/ttyxx  <PLUSARGS> <bin>\n",
      "       ./uart_tsi +tty=/dev/ttyxx  +no_hart0_msip +init_write=0x80000000:0xdeadbeef none\n",
      "       ./uart_tsi +tty=/dev/ttyxx  +no_hart0_msip +init_read=0x80000000 none\n",
      "       ./uart_tsi +tty=/dev/ttyxx  +selfcheck <bin>\n",
      "       ./uart_tsi +tty=/dev/ttyxx  +baudrate=921600 <bin>\n",
      "Attempting to open TTY at /dev/ttyUSB1\n",
      "Warning: You selected a non-standard baudrate. This will only work if the HW was configured with this baud-rate\n",
      "Checking connection status with /dev/ttyUSB1\n",
      "Connection succeeded\n",
      "Done, shutting down, flushing UART\n",
      "WARNING: You should probably reset the target before running this program again\n",
      "Done: now reset during the sleep before next iteration\n",
      "**Voltage set to: +9.50000000E-01\n",
      "V**\n"
     ]
    },
    {
     "name": "stderr",
     "output_type": "stream",
     "text": [
      "warning: tohost and fromhost symbols not in ELF; can't communicate with target\n",
      "Writing 14006c with b\n",
      "Done writing 14006c with b\n"
     ]
    },
    {
     "name": "stdout",
     "output_type": "stream",
     "text": [
      "b'0 4400 4600 4800 4900 4a00 4b00 4c00 4c80 4d00 4d80 4e00 4e80 4f00 4f80 5000 \\r\\n'\n",
      "Starting UART-based TSI\n",
      "Usage: ./uart_tsi +tty=/dev/pts/xx <PLUSARGS> <bin>\n",
      "       ./uart_tsi +tty=/dev/ttyxx  <PLUSARGS> <bin>\n",
      "       ./uart_tsi +tty=/dev/ttyxx  +no_hart0_msip +init_write=0x80000000:0xdeadbeef none\n",
      "       ./uart_tsi +tty=/dev/ttyxx  +no_hart0_msip +init_read=0x80000000 none\n",
      "       ./uart_tsi +tty=/dev/ttyxx  +selfcheck <bin>\n",
      "       ./uart_tsi +tty=/dev/ttyxx  +baudrate=921600 <bin>\n",
      "Attempting to open TTY at /dev/ttyUSB1\n",
      "Warning: You selected a non-standard baudrate. This will only work if the HW was configured with this baud-rate\n",
      "Checking connection status with /dev/ttyUSB1\n",
      "Connection succeeded\n",
      "Done, shutting down, flushing UART\n",
      "WARNING: You should probably reset the target before running this program again\n",
      "Done: now reset during the sleep before next iteration\n",
      "**Voltage set to: +1.00000000E+00\n",
      "V**\n"
     ]
    },
    {
     "name": "stderr",
     "output_type": "stream",
     "text": [
      "warning: tohost and fromhost symbols not in ELF; can't communicate with target\n",
      "Writing 14006c with b\n",
      "Done writing 14006c with b\n"
     ]
    },
    {
     "name": "stdout",
     "output_type": "stream",
     "text": [
      "b'0 4400 4600 4800 4900 4a00 4b00 4c00 4c80 4d00 4d80 4e00 4e80 4f00 4f80 5000 \\r\\n'\n",
      "Starting UART-based TSI\n",
      "Usage: ./uart_tsi +tty=/dev/pts/xx <PLUSARGS> <bin>\n",
      "       ./uart_tsi +tty=/dev/ttyxx  <PLUSARGS> <bin>\n",
      "       ./uart_tsi +tty=/dev/ttyxx  +no_hart0_msip +init_write=0x80000000:0xdeadbeef none\n",
      "       ./uart_tsi +tty=/dev/ttyxx  +no_hart0_msip +init_read=0x80000000 none\n",
      "       ./uart_tsi +tty=/dev/ttyxx  +selfcheck <bin>\n",
      "       ./uart_tsi +tty=/dev/ttyxx  +baudrate=921600 <bin>\n",
      "Attempting to open TTY at /dev/ttyUSB1\n",
      "Warning: You selected a non-standard baudrate. This will only work if the HW was configured with this baud-rate\n",
      "Checking connection status with /dev/ttyUSB1\n",
      "Connection succeeded\n",
      "Done, shutting down, flushing UART\n",
      "WARNING: You should probably reset the target before running this program again\n",
      "Done: now reset during the sleep before next iteration\n",
      "**Voltage set to: +1.05000000E+00\n",
      "V**\n"
     ]
    },
    {
     "name": "stderr",
     "output_type": "stream",
     "text": [
      "warning: tohost and fromhost symbols not in ELF; can't communicate with target\n",
      "Writing 14006c with b\n",
      "Done writing 14006c with b\n"
     ]
    },
    {
     "name": "stdout",
     "output_type": "stream",
     "text": [
      "b'0 4400 4600 4800 4900 4a00 4b00 4c00 4c80 4d00 4d80 4e00 4e80 4f00 4f80 5000 \\r\\n'\n",
      "Starting UART-based TSI\n",
      "Usage: ./uart_tsi +tty=/dev/pts/xx <PLUSARGS> <bin>\n",
      "       ./uart_tsi +tty=/dev/ttyxx  <PLUSARGS> <bin>\n",
      "       ./uart_tsi +tty=/dev/ttyxx  +no_hart0_msip +init_write=0x80000000:0xdeadbeef none\n",
      "       ./uart_tsi +tty=/dev/ttyxx  +no_hart0_msip +init_read=0x80000000 none\n",
      "       ./uart_tsi +tty=/dev/ttyxx  +selfcheck <bin>\n",
      "       ./uart_tsi +tty=/dev/ttyxx  +baudrate=921600 <bin>\n",
      "Attempting to open TTY at /dev/ttyUSB1\n",
      "Warning: You selected a non-standard baudrate. This will only work if the HW was configured with this baud-rate\n",
      "Checking connection status with /dev/ttyUSB1\n",
      "Connection succeeded\n",
      "Done, shutting down, flushing UART\n",
      "WARNING: You should probably reset the target before running this program again\n",
      "Done: now reset during the sleep before next iteration\n",
      "**Voltage set to: +1.10000000E+00\n",
      "V**\n"
     ]
    },
    {
     "name": "stderr",
     "output_type": "stream",
     "text": [
      "warning: tohost and fromhost symbols not in ELF; can't communicate with target\n",
      "Writing 14006c with b\n",
      "Done writing 14006c with b\n"
     ]
    },
    {
     "name": "stdout",
     "output_type": "stream",
     "text": [
      "b'0 4400 4600 4800 4900 4a00 4b00 4c00 4c80 4d00 4d80 4e00 4e80 4f00 4f80 5000 \\r\\n'\n",
      "Starting UART-based TSI\n",
      "Usage: ./uart_tsi +tty=/dev/pts/xx <PLUSARGS> <bin>\n",
      "       ./uart_tsi +tty=/dev/ttyxx  <PLUSARGS> <bin>\n",
      "       ./uart_tsi +tty=/dev/ttyxx  +no_hart0_msip +init_write=0x80000000:0xdeadbeef none\n",
      "       ./uart_tsi +tty=/dev/ttyxx  +no_hart0_msip +init_read=0x80000000 none\n",
      "       ./uart_tsi +tty=/dev/ttyxx  +selfcheck <bin>\n",
      "       ./uart_tsi +tty=/dev/ttyxx  +baudrate=921600 <bin>\n",
      "Attempting to open TTY at /dev/ttyUSB1\n",
      "Warning: You selected a non-standard baudrate. This will only work if the HW was configured with this baud-rate\n",
      "Checking connection status with /dev/ttyUSB1\n",
      "Connection succeeded\n",
      "Done, shutting down, flushing UART\n",
      "WARNING: You should probably reset the target before running this program again\n",
      "Done: now reset during the sleep before next iteration\n",
      "**Voltage set to: +1.15000000E+00\n",
      "V**\n"
     ]
    },
    {
     "name": "stderr",
     "output_type": "stream",
     "text": [
      "warning: tohost and fromhost symbols not in ELF; can't communicate with target\n",
      "Writing 14006c with b\n",
      "Done writing 14006c with b\n"
     ]
    },
    {
     "name": "stdout",
     "output_type": "stream",
     "text": [
      "b'0 4400 4600 4800 4900 4a00 4b00 4c00 4c80 4d00 4d80 4e00 4e80 4f00 4f80 5000 \\r\\n'\n",
      "Starting UART-based TSI\n",
      "Usage: ./uart_tsi +tty=/dev/pts/xx <PLUSARGS> <bin>\n",
      "       ./uart_tsi +tty=/dev/ttyxx  <PLUSARGS> <bin>\n",
      "       ./uart_tsi +tty=/dev/ttyxx  +no_hart0_msip +init_write=0x80000000:0xdeadbeef none\n",
      "       ./uart_tsi +tty=/dev/ttyxx  +no_hart0_msip +init_read=0x80000000 none\n",
      "       ./uart_tsi +tty=/dev/ttyxx  +selfcheck <bin>\n",
      "       ./uart_tsi +tty=/dev/ttyxx  +baudrate=921600 <bin>\n",
      "Attempting to open TTY at /dev/ttyUSB1\n",
      "Warning: You selected a non-standard baudrate. This will only work if the HW was configured with this baud-rate\n",
      "Checking connection status with /dev/ttyUSB1\n",
      "Connection succeeded\n",
      "Done, shutting down, flushing UART\n",
      "WARNING: You should probably reset the target before running this program again\n",
      "Done: now reset during the sleep before next iteration\n",
      "**Voltage set to: +1.20000000E+00\n",
      "V**\n"
     ]
    },
    {
     "name": "stderr",
     "output_type": "stream",
     "text": [
      "warning: tohost and fromhost symbols not in ELF; can't communicate with target\n",
      "Writing 14006c with b\n",
      "Done writing 14006c with b\n"
     ]
    },
    {
     "name": "stdout",
     "output_type": "stream",
     "text": [
      "b'0 4400 4600 4800 4900 4a00 4b00 4c00 4c80 4d00 4d80 4e00 4e80 4f00 4f80 5000 \\r\\n'\n",
      "Starting UART-based TSI\n",
      "Usage: ./uart_tsi +tty=/dev/pts/xx <PLUSARGS> <bin>\n",
      "       ./uart_tsi +tty=/dev/ttyxx  <PLUSARGS> <bin>\n",
      "       ./uart_tsi +tty=/dev/ttyxx  +no_hart0_msip +init_write=0x80000000:0xdeadbeef none\n",
      "       ./uart_tsi +tty=/dev/ttyxx  +no_hart0_msip +init_read=0x80000000 none\n",
      "       ./uart_tsi +tty=/dev/ttyxx  +selfcheck <bin>\n",
      "       ./uart_tsi +tty=/dev/ttyxx  +baudrate=921600 <bin>\n",
      "Attempting to open TTY at /dev/ttyUSB1\n",
      "Warning: You selected a non-standard baudrate. This will only work if the HW was configured with this baud-rate\n",
      "Checking connection status with /dev/ttyUSB1\n",
      "Connection succeeded\n",
      "Done, shutting down, flushing UART\n",
      "WARNING: You should probably reset the target before running this program again\n",
      "Done: now reset during the sleep before next iteration\n",
      "rm -rf build\n",
      "cmake -S ./ -B ./build/ -D CMAKE_TOOLCHAIN_FILE=./riscv-gcc.cmake -DCHIP=dsp24\n",
      "-- The ASM compiler identification is GNU\n",
      "-- Found assembler: /tools/C/ee290-fa24-2/.conda-env/riscv-tools/bin/riscv64-unknown-elf-gcc\n",
      "-- The C compiler identification is GNU 13.2.0\n",
      "-- The CXX compiler identification is GNU 13.2.0\n",
      "-- Detecting C compiler ABI info\n",
      "-- Detecting C compiler ABI info - done\n",
      "-- Check for working C compiler: /tools/C/ee290-fa24-2/.conda-env/riscv-tools/bin/riscv64-unknown-elf-gcc - skipped\n",
      "-- Detecting C compile features\n",
      "-- Detecting C compile features - done\n",
      "-- Detecting CXX compiler ABI info\n",
      "-- Detecting CXX compiler ABI info - done\n",
      "-- Check for working CXX compiler: /tools/C/ee290-fa24-2/.conda-env/riscv-tools/bin/riscv64-unknown-elf-g++ - skipped\n",
      "-- Detecting CXX compile features\n",
      "-- Detecting CXX compile features - done\n",
      "-- Including HTIF to target\n",
      "-- Including CLINT to target\n",
      "-- ================ Glossy config ================\n",
      "--  Building for CHIP: \"dsp24\"\n",
      "--  Reading config from \"/tools/C/tedkim7/sp24-Baremetal-IDE/platform/dsp24/CMakeLists.txt\"\n",
      "--  Terminal Device: UART0\n",
      "--  Linker Script: /tools/C/tedkim7/sp24-Baremetal-IDE/platform/dsp24/dsp24.ld\n",
      "-- ===============================================\n",
      "-- Configuring done (3.3s)\n",
      "-- Generating done (1.4s)\n",
      "-- Build files have been written to: /tools/C/tedkim7/sp24-Baremetal-IDE/build\n",
      "cmake --build ./build/ --target shmoo_bench\n",
      "gmake[1]: Entering directory '/bwrcq/C/tedkim7/sp24-Baremetal-IDE/build'\n",
      "gmake[2]: Entering directory '/bwrcq/C/tedkim7/sp24-Baremetal-IDE/build'\n",
      "gmake[3]: Entering directory '/bwrcq/C/tedkim7/sp24-Baremetal-IDE/build'\n",
      "gmake[4]: Entering directory '/bwrcq/C/tedkim7/sp24-Baremetal-IDE/build'\n",
      "gmake[4]: Leaving directory '/bwrcq/C/tedkim7/sp24-Baremetal-IDE/build'\n",
      "gmake[4]: Entering directory '/bwrcq/C/tedkim7/sp24-Baremetal-IDE/build'\n",
      "[  2%] \u001b[32mBuilding C object driver/rocket-chip-blocks/uart/CMakeFiles/uart.dir/uart.c.obj\u001b[0m\n"
     ]
    },
    {
     "name": "stderr",
     "output_type": "stream",
     "text": [
      "/tools/C/tedkim7/sp24-Baremetal-IDE/driver/rocket-chip-blocks/uart/uart.c: In function 'uart_receive':\n",
      "/tools/C/tedkim7/sp24-Baremetal-IDE/driver/rocket-chip-blocks/uart/uart.c:35:78: warning: unused parameter 'timeout' [-Wunused-parameter]\n",
      "   35 | Status uart_receive(UART_Type *UARTx, uint8_t *data, uint16_t size, uint32_t timeout) {\n",
      "      |                                                                     ~~~~~~~~~^~~~~~~\n",
      "/tools/C/tedkim7/sp24-Baremetal-IDE/driver/rocket-chip-blocks/uart/uart.c: In function 'uart_transmit':\n",
      "/tools/C/tedkim7/sp24-Baremetal-IDE/driver/rocket-chip-blocks/uart/uart.c:50:85: warning: unused parameter 'timeout' [-Wunused-parameter]\n",
      "   50 | Status uart_transmit(UART_Type *UARTx, const uint8_t *data, uint16_t size, uint32_t timeout) {\n",
      "      |                                                                            ~~~~~~~~~^~~~~~~\n"
     ]
    },
    {
     "name": "stdout",
     "output_type": "stream",
     "text": [
      "[  5%] \u001b[32m\u001b[1mLinking C static library libuart.a\u001b[0m\n",
      "gmake[4]: Leaving directory '/bwrcq/C/tedkim7/sp24-Baremetal-IDE/build'\n",
      "[  5%] Built target uart\n",
      "gmake[4]: Entering directory '/bwrcq/C/tedkim7/sp24-Baremetal-IDE/build'\n",
      "gmake[4]: Leaving directory '/bwrcq/C/tedkim7/sp24-Baremetal-IDE/build'\n",
      "gmake[4]: Entering directory '/bwrcq/C/tedkim7/sp24-Baremetal-IDE/build'\n",
      "[  7%] \u001b[32mBuilding C object driver/intel/pll/CMakeFiles/intel-pll.dir/pll.c.obj\u001b[0m\n",
      "[ 10%] \u001b[32m\u001b[1mLinking C static library libintel-pll.a\u001b[0m\n",
      "gmake[4]: Leaving directory '/bwrcq/C/tedkim7/sp24-Baremetal-IDE/build'\n",
      "[ 10%] Built target intel-pll\n",
      "gmake[4]: Entering directory '/bwrcq/C/tedkim7/sp24-Baremetal-IDE/build'\n",
      "gmake[4]: Leaving directory '/bwrcq/C/tedkim7/sp24-Baremetal-IDE/build'\n",
      "gmake[4]: Entering directory '/bwrcq/C/tedkim7/sp24-Baremetal-IDE/build'\n",
      "[ 12%] \u001b[32mBuilding C object driver/rocket-chip/clint/CMakeFiles/clint.dir/clint.c.obj\u001b[0m\n",
      "[ 15%] \u001b[32m\u001b[1mLinking C static library libclint.a\u001b[0m\n",
      "gmake[4]: Leaving directory '/bwrcq/C/tedkim7/sp24-Baremetal-IDE/build'\n",
      "[ 15%] Built target clint\n",
      "gmake[4]: Entering directory '/bwrcq/C/tedkim7/sp24-Baremetal-IDE/build'\n",
      "gmake[4]: Leaving directory '/bwrcq/C/tedkim7/sp24-Baremetal-IDE/build'\n",
      "gmake[4]: Entering directory '/bwrcq/C/tedkim7/sp24-Baremetal-IDE/build'\n",
      "[ 17%] \u001b[32mBuilding C object driver/rocket-chip/rocketcore/CMakeFiles/rocketcore.dir/rocketcore.c.obj\u001b[0m\n",
      "[ 20%] \u001b[32m\u001b[1mLinking C static library librocketcore.a\u001b[0m\n",
      "gmake[4]: Leaving directory '/bwrcq/C/tedkim7/sp24-Baremetal-IDE/build'\n",
      "[ 20%] Built target rocketcore\n",
      "gmake[4]: Entering directory '/bwrcq/C/tedkim7/sp24-Baremetal-IDE/build'\n",
      "gmake[4]: Leaving directory '/bwrcq/C/tedkim7/sp24-Baremetal-IDE/build'\n",
      "gmake[4]: Entering directory '/bwrcq/C/tedkim7/sp24-Baremetal-IDE/build'\n",
      "[ 23%] \u001b[32mBuilding C object driver/rocket-chip-blocks/i2c/CMakeFiles/i2c.dir/i2c.c.obj\u001b[0m\n"
     ]
    },
    {
     "name": "stderr",
     "output_type": "stream",
     "text": [
      "/tools/C/tedkim7/sp24-Baremetal-IDE/driver/rocket-chip-blocks/i2c/i2c.c: In function 'i2c_init':\n",
      "/tools/C/tedkim7/sp24-Baremetal-IDE/driver/rocket-chip-blocks/i2c/i2c.c:13:45: warning: unused parameter 'I2C_init' [-Wunused-parameter]\n",
      "   13 | void i2c_init(I2C_Type *I2Cx, I2C_InitType *I2C_init) {\n",
      "      |                               ~~~~~~~~~~~~~~^~~~~~~~\n",
      "/tools/C/tedkim7/sp24-Baremetal-IDE/driver/rocket-chip-blocks/i2c/i2c.c: In function 'i2c_wait_for_flag':\n",
      "/tools/C/tedkim7/sp24-Baremetal-IDE/driver/rocket-chip-blocks/i2c/i2c.c:30:9: warning: implicit declaration of function 'CLINT_getTime' [-Wimplicit-function-declaration]\n",
      "   30 |     if (CLINT_getTime() > (timestart + timeout)) {\n",
      "      |         ^~~~~~~~~~~~~\n",
      "/tools/C/tedkim7/sp24-Baremetal-IDE/driver/rocket-chip-blocks/i2c/i2c.c:30:25: warning: comparison of integer expressions of different signedness: 'int' and 'uint32_t' {aka 'unsigned int'} [-Wsign-compare]\n",
      "   30 |     if (CLINT_getTime() > (timestart + timeout)) {\n",
      "      |                         ^\n",
      "/tools/C/tedkim7/sp24-Baremetal-IDE/driver/rocket-chip-blocks/i2c/i2c.c: In function 'i2c_master_receive':\n",
      "/tools/C/tedkim7/sp24-Baremetal-IDE/driver/rocket-chip-blocks/i2c/i2c.c:53:24: warning: implicit declaration of function 'clint_get_time' [-Wimplicit-function-declaration]\n",
      "   53 |   uint64_t timestart = clint_get_time();\n",
      "      |                        ^~~~~~~~~~~~~~\n",
      "/tools/C/tedkim7/sp24-Baremetal-IDE/driver/rocket-chip-blocks/i2c/i2c.c: In function 'i2c_wait_for_transaction':\n",
      "/tools/C/tedkim7/sp24-Baremetal-IDE/driver/rocket-chip-blocks/i2c/i2c.c:50:1: warning: control reaches end of non-void function [-Wreturn-type]\n",
      "   50 | }\n",
      "      | ^\n"
     ]
    },
    {
     "name": "stdout",
     "output_type": "stream",
     "text": [
      "[ 25%] \u001b[32m\u001b[1mLinking C static library libi2c.a\u001b[0m\n",
      "gmake[4]: Leaving directory '/bwrcq/C/tedkim7/sp24-Baremetal-IDE/build'\n",
      "[ 25%] Built target i2c\n",
      "gmake[4]: Entering directory '/bwrcq/C/tedkim7/sp24-Baremetal-IDE/build'\n",
      "gmake[4]: Leaving directory '/bwrcq/C/tedkim7/sp24-Baremetal-IDE/build'\n",
      "gmake[4]: Entering directory '/bwrcq/C/tedkim7/sp24-Baremetal-IDE/build'\n",
      "[ 28%] \u001b[32mBuilding C object driver/rocket-chip-blocks/spi/CMakeFiles/spi.dir/spi.c.obj\u001b[0m\n"
     ]
    },
    {
     "name": "stderr",
     "output_type": "stream",
     "text": [
      "/tools/C/tedkim7/sp24-Baremetal-IDE/driver/rocket-chip-blocks/spi/spi.c: In function 'spi_receive':\n",
      "/tools/C/tedkim7/sp24-Baremetal-IDE/driver/rocket-chip-blocks/spi/spi.c:56:75: warning: unused parameter 'timeout' [-Wunused-parameter]\n",
      "   56 | Status spi_receive(SPI_Type *SPIx, uint8_t *data, uint16_t size, uint64_t timeout) {\n",
      "      |                                                                  ~~~~~~~~~^~~~~~~\n",
      "/tools/C/tedkim7/sp24-Baremetal-IDE/driver/rocket-chip-blocks/spi/spi.c: In function 'spi_transmit':\n",
      "/tools/C/tedkim7/sp24-Baremetal-IDE/driver/rocket-chip-blocks/spi/spi.c:68:76: warning: unused parameter 'timeout' [-Wunused-parameter]\n",
      "   68 | Status spi_transmit(SPI_Type *SPIx, uint8_t *data, uint16_t size, uint64_t timeout) {\n",
      "      |                                                                   ~~~~~~~~~^~~~~~~\n",
      "/tools/C/tedkim7/sp24-Baremetal-IDE/driver/rocket-chip-blocks/spi/spi.c: In function 'spi_transmit_receive':\n",
      "/tools/C/tedkim7/sp24-Baremetal-IDE/driver/rocket-chip-blocks/spi/spi.c:80:105: warning: unused parameter 'timeout' [-Wunused-parameter]\n",
      "   80 | Status spi_transmit_receive(SPI_Type *SPIx, uint8_t *tx_data, uint8_t *rx_data, uint16_t size, uint64_t timeout) {\n",
      "      |                                                                                                ~~~~~~~~~^~~~~~~\n"
     ]
    },
    {
     "name": "stdout",
     "output_type": "stream",
     "text": [
      "[ 30%] \u001b[32m\u001b[1mLinking C static library libspi.a\u001b[0m\n",
      "gmake[4]: Leaving directory '/bwrcq/C/tedkim7/sp24-Baremetal-IDE/build'\n",
      "[ 30%] Built target spi\n",
      "gmake[4]: Entering directory '/bwrcq/C/tedkim7/sp24-Baremetal-IDE/build'\n",
      "gmake[4]: Leaving directory '/bwrcq/C/tedkim7/sp24-Baremetal-IDE/build'\n",
      "gmake[4]: Entering directory '/bwrcq/C/tedkim7/sp24-Baremetal-IDE/build'\n",
      "[ 33%] \u001b[32mBuilding C object platform/dsp24/CMakeFiles/chip-config.dir/chip.c.obj\u001b[0m\n",
      "[ 35%] \u001b[32mBuilding C object platform/dsp24/CMakeFiles/chip-config.dir/src/hal_DMA.c.obj\u001b[0m\n"
     ]
    },
    {
     "name": "stderr",
     "output_type": "stream",
     "text": [
      "/tools/C/tedkim7/sp24-Baremetal-IDE/platform/dsp24/src/hal_DMA.c: In function 'set_DMAP':\n",
      "/tools/C/tedkim7/sp24-Baremetal-IDE/platform/dsp24/src/hal_DMA.c:24:53: warning: passing argument 2 of 'reg_write64' makes integer from pointer without a cast [-Wint-conversion]\n",
      "   24 |     reg_write64(DMA_SET_READ + num*DMA_MMIO_Offset, addr_r);\n",
      "      |                                                     ^~~~~~\n",
      "      |                                                     |\n",
      "      |                                                     uint64_t * {aka long unsigned int *}\n",
      "In file included from /tools/C/tedkim7/sp24-Baremetal-IDE/platform/dsp24/inc/hal_DMA.h:10,\n",
      "                 from /tools/C/tedkim7/sp24-Baremetal-IDE/platform/dsp24/src/hal_DMA.c:1:\n",
      "/tools/C/tedkim7/sp24-Baremetal-IDE/platform/dsp24/inc/hal_mmio.h:23:47: note: expected 'uint64_t' {aka 'long unsigned int'} but argument is of type 'uint64_t *' {aka 'long unsigned int *'}\n",
      "   23 | void reg_write64(unsigned long addr, uint64_t data);\n",
      "      |                                      ~~~~~~~~~^~~~\n",
      "/tools/C/tedkim7/sp24-Baremetal-IDE/platform/dsp24/src/hal_DMA.c:25:54: warning: passing argument 2 of 'reg_write64' makes integer from pointer without a cast [-Wint-conversion]\n",
      "   25 |     reg_write64(DMA_SET_WRITE + num*DMA_MMIO_Offset, addr_w);\n",
      "      |                                                      ^~~~~~\n",
      "      |                                                      |\n",
      "      |                                                      uint64_t * {aka long unsigned int *}\n",
      "/tools/C/tedkim7/sp24-Baremetal-IDE/platform/dsp24/inc/hal_mmio.h:23:47: note: expected 'uint64_t' {aka 'long unsigned int'} but argument is of type 'uint64_t *' {aka 'long unsigned int *'}\n",
      "   23 | void reg_write64(unsigned long addr, uint64_t data);\n",
      "      |                                      ~~~~~~~~~^~~~\n",
      "/tools/C/tedkim7/sp24-Baremetal-IDE/platform/dsp24/src/hal_DMA.c:26:50: warning: passing argument 2 of 'reg_write64' makes integer from pointer without a cast [-Wint-conversion]\n",
      "   26 |     reg_write64(DMA_SET_C + num*DMA_MMIO_Offset, addr_c);\n",
      "      |                                                  ^~~~~~\n",
      "      |                                                  |\n",
      "      |                                                  uint64_t * {aka long unsigned int *}\n",
      "/tools/C/tedkim7/sp24-Baremetal-IDE/platform/dsp24/inc/hal_mmio.h:23:47: note: expected 'uint64_t' {aka 'long unsigned int'} but argument is of type 'uint64_t *' {aka 'long unsigned int *'}\n",
      "   23 | void reg_write64(unsigned long addr, uint64_t data);\n",
      "      |                                      ~~~~~~~~~^~~~\n"
     ]
    },
    {
     "name": "stdout",
     "output_type": "stream",
     "text": [
      "[ 38%] \u001b[32mBuilding C object platform/dsp24/CMakeFiles/chip-config.dir/src/hal_I2S.c.obj\u001b[0m\n"
     ]
    },
    {
     "name": "stderr",
     "output_type": "stream",
     "text": [
      "/tools/C/tedkim7/sp24-Baremetal-IDE/platform/dsp24/src/hal_I2S.c: In function 'write_I2S_tx_DMA':\n",
      "/tools/C/tedkim7/sp24-Baremetal-IDE/platform/dsp24/src/hal_I2S.c:49:9: warning: implicit declaration of function 'printf' [-Wimplicit-function-declaration]\n",
      "   49 |         printf(\"Writing to left queue\\n\");\n",
      "      |         ^~~~~~\n",
      "/tools/C/tedkim7/sp24-Baremetal-IDE/platform/dsp24/src/hal_I2S.c:3:1: note: include '<stdio.h>' or provide a declaration of 'printf'\n",
      "    2 | #include  \"hal_mmio.h\"\n",
      "  +++ |+#include <stdio.h>\n",
      "    3 | \n",
      "/tools/C/tedkim7/sp24-Baremetal-IDE/platform/dsp24/src/hal_I2S.c:49:9: warning: incompatible implicit declaration of built-in function 'printf' [-Wbuiltin-declaration-mismatch]\n",
      "   49 |         printf(\"Writing to left queue\\n\");\n",
      "      |         ^~~~~~\n",
      "/tools/C/tedkim7/sp24-Baremetal-IDE/platform/dsp24/src/hal_I2S.c:49:9: note: include '<stdio.h>' or provide a declaration of 'printf'\n",
      "In file included from /tools/C/tedkim7/sp24-Baremetal-IDE/platform/dsp24/src/hal_I2S.c:1:\n",
      "/tools/C/tedkim7/sp24-Baremetal-IDE/platform/dsp24/inc/hal_I2S.h:13:37: warning: passing argument 3 of 'set_DMAP' makes pointer from integer without a cast [-Wint-conversion]\n",
      "   13 | #define I2S_BASE                    0x10042000U\n",
      "      |                                     ^\n",
      "      |                                     |\n",
      "      |                                     unsigned int\n",
      "/tools/C/tedkim7/sp24-Baremetal-IDE/platform/dsp24/inc/hal_I2S.h:26:37: note: in expansion of macro 'I2S_BASE'\n",
      "   26 | #define I2S_TX_L                    I2S_BASE + 0x20\n",
      "      |                                     ^~~~~~~~\n",
      "/tools/C/tedkim7/sp24-Baremetal-IDE/platform/dsp24/src/hal_I2S.c:50:38: note: in expansion of macro 'I2S_TX_L'\n",
      "   50 |         set_DMAP(dma_num, read_addr, I2S_TX_L, I2S_WATERMARK_TX_L, 8, 0, length, 3, poll);\n",
      "      |                                      ^~~~~~~~\n",
      "In file included from /tools/C/tedkim7/sp24-Baremetal-IDE/platform/dsp24/inc/hal_I2S.h:9:\n",
      "/tools/C/tedkim7/sp24-Baremetal-IDE/platform/dsp24/inc/hal_DMA.h:37:57: note: expected 'uint64_t *' {aka 'long unsigned int *'} but argument is of type 'unsigned int'\n",
      "   37 | void set_DMAP(uint32_t num, uint64_t* addr_r, uint64_t* addr_w, uint64_t* addr_c, uint16_t inc_r, uint16_t inc_w, uint16_t len, uint8_t logd, uint32_t count);\n",
      "      |                                               ~~~~~~~~~~^~~~~~\n",
      "/tools/C/tedkim7/sp24-Baremetal-IDE/platform/dsp24/inc/hal_I2S.h:13:37: warning: passing argument 4 of 'set_DMAP' makes pointer from integer without a cast [-Wint-conversion]\n",
      "   13 | #define I2S_BASE                    0x10042000U\n",
      "      |                                     ^\n",
      "      |                                     |\n",
      "      |                                     unsigned int\n",
      "/tools/C/tedkim7/sp24-Baremetal-IDE/platform/dsp24/inc/hal_I2S.h:18:37: note: in expansion of macro 'I2S_BASE'\n",
      "   18 | #define I2S_WATERMARK_TX_L          I2S_BASE + 0x100\n",
      "      |                                     ^~~~~~~~\n",
      "/tools/C/tedkim7/sp24-Baremetal-IDE/platform/dsp24/src/hal_I2S.c:50:48: note: in expansion of macro 'I2S_WATERMARK_TX_L'\n",
      "   50 |         set_DMAP(dma_num, read_addr, I2S_TX_L, I2S_WATERMARK_TX_L, 8, 0, length, 3, poll);\n",
      "      |                                                ^~~~~~~~~~~~~~~~~~\n",
      "/tools/C/tedkim7/sp24-Baremetal-IDE/platform/dsp24/inc/hal_DMA.h:37:75: note: expected 'uint64_t *' {aka 'long unsigned int *'} but argument is of type 'unsigned int'\n",
      "   37 | void set_DMAP(uint32_t num, uint64_t* addr_r, uint64_t* addr_w, uint64_t* addr_c, uint16_t inc_r, uint16_t inc_w, uint16_t len, uint8_t logd, uint32_t count);\n",
      "      |                                                                 ~~~~~~~~~~^~~~~~\n",
      "/tools/C/tedkim7/sp24-Baremetal-IDE/platform/dsp24/src/hal_I2S.c:52:9: warning: incompatible implicit declaration of built-in function 'printf' [-Wbuiltin-declaration-mismatch]\n",
      "   52 |         printf(\"Writing to right queue\\n\");\n",
      "      |         ^~~~~~\n",
      "/tools/C/tedkim7/sp24-Baremetal-IDE/platform/dsp24/src/hal_I2S.c:52:9: note: include '<stdio.h>' or provide a declaration of 'printf'\n",
      "/tools/C/tedkim7/sp24-Baremetal-IDE/platform/dsp24/inc/hal_I2S.h:13:37: warning: passing argument 3 of 'set_DMAP' makes pointer from integer without a cast [-Wint-conversion]\n",
      "   13 | #define I2S_BASE                    0x10042000U\n",
      "      |                                     ^\n",
      "      |                                     |\n",
      "      |                                     unsigned int\n",
      "/tools/C/tedkim7/sp24-Baremetal-IDE/platform/dsp24/inc/hal_I2S.h:27:37: note: in expansion of macro 'I2S_BASE'\n",
      "   27 | #define I2S_TX_R                    I2S_BASE + 0x28\n",
      "      |                                     ^~~~~~~~\n",
      "/tools/C/tedkim7/sp24-Baremetal-IDE/platform/dsp24/src/hal_I2S.c:53:38: note: in expansion of macro 'I2S_TX_R'\n",
      "   53 |         set_DMAP(dma_num, read_addr, I2S_TX_R, I2S_WATERMARK_TX_R, 8, 0, length, 3, poll);\n",
      "      |                                      ^~~~~~~~\n",
      "/tools/C/tedkim7/sp24-Baremetal-IDE/platform/dsp24/inc/hal_DMA.h:37:57: note: expected 'uint64_t *' {aka 'long unsigned int *'} but argument is of type 'unsigned int'\n",
      "   37 | void set_DMAP(uint32_t num, uint64_t* addr_r, uint64_t* addr_w, uint64_t* addr_c, uint16_t inc_r, uint16_t inc_w, uint16_t len, uint8_t logd, uint32_t count);\n",
      "      |                                               ~~~~~~~~~~^~~~~~\n",
      "/tools/C/tedkim7/sp24-Baremetal-IDE/platform/dsp24/inc/hal_I2S.h:13:37: warning: passing argument 4 of 'set_DMAP' makes pointer from integer without a cast [-Wint-conversion]\n",
      "   13 | #define I2S_BASE                    0x10042000U\n",
      "      |                                     ^\n",
      "      |                                     |\n",
      "      |                                     unsigned int\n",
      "/tools/C/tedkim7/sp24-Baremetal-IDE/platform/dsp24/inc/hal_I2S.h:19:37: note: in expansion of macro 'I2S_BASE'\n",
      "   19 | #define I2S_WATERMARK_TX_R          I2S_BASE + 0x101\n",
      "      |                                     ^~~~~~~~\n",
      "/tools/C/tedkim7/sp24-Baremetal-IDE/platform/dsp24/src/hal_I2S.c:53:48: note: in expansion of macro 'I2S_WATERMARK_TX_R'\n",
      "   53 |         set_DMAP(dma_num, read_addr, I2S_TX_R, I2S_WATERMARK_TX_R, 8, 0, length, 3, poll);\n",
      "      |                                                ^~~~~~~~~~~~~~~~~~\n",
      "/tools/C/tedkim7/sp24-Baremetal-IDE/platform/dsp24/inc/hal_DMA.h:37:75: note: expected 'uint64_t *' {aka 'long unsigned int *'} but argument is of type 'unsigned int'\n",
      "   37 | void set_DMAP(uint32_t num, uint64_t* addr_r, uint64_t* addr_w, uint64_t* addr_c, uint16_t inc_r, uint16_t inc_w, uint16_t len, uint8_t logd, uint32_t count);\n",
      "      |                                                                 ~~~~~~~~~~^~~~~~\n",
      "/tools/C/tedkim7/sp24-Baremetal-IDE/platform/dsp24/src/hal_I2S.c: In function 'read_I2S_rx_DMA':\n",
      "/tools/C/tedkim7/sp24-Baremetal-IDE/platform/dsp24/inc/hal_I2S.h:13:37: warning: passing argument 2 of 'set_DMAP' makes pointer from integer without a cast [-Wint-conversion]\n",
      "   13 | #define I2S_BASE                    0x10042000U\n",
      "      |                                     ^\n",
      "      |                                     |\n",
      "      |                                     unsigned int\n",
      "/tools/C/tedkim7/sp24-Baremetal-IDE/platform/dsp24/inc/hal_I2S.h:28:37: note: in expansion of macro 'I2S_BASE'\n",
      "   28 | #define I2S_RX_L                    I2S_BASE + 0x60\n",
      "      |                                     ^~~~~~~~\n",
      "/tools/C/tedkim7/sp24-Baremetal-IDE/platform/dsp24/src/hal_I2S.c:60:27: note: in expansion of macro 'I2S_RX_L'\n",
      "   60 |         set_DMAP(dma_num, I2S_RX_L, write_addr, I2S_WATERMARK_RX_L, 0, 8, length, 3, poll);\n",
      "      |                           ^~~~~~~~\n",
      "/tools/C/tedkim7/sp24-Baremetal-IDE/platform/dsp24/inc/hal_DMA.h:37:39: note: expected 'uint64_t *' {aka 'long unsigned int *'} but argument is of type 'unsigned int'\n",
      "   37 | void set_DMAP(uint32_t num, uint64_t* addr_r, uint64_t* addr_w, uint64_t* addr_c, uint16_t inc_r, uint16_t inc_w, uint16_t len, uint8_t logd, uint32_t count);\n",
      "      |                             ~~~~~~~~~~^~~~~~\n",
      "/tools/C/tedkim7/sp24-Baremetal-IDE/platform/dsp24/inc/hal_I2S.h:13:37: warning: passing argument 4 of 'set_DMAP' makes pointer from integer without a cast [-Wint-conversion]\n",
      "   13 | #define I2S_BASE                    0x10042000U\n",
      "      |                                     ^\n",
      "      |                                     |\n",
      "      |                                     unsigned int\n",
      "/tools/C/tedkim7/sp24-Baremetal-IDE/platform/dsp24/inc/hal_I2S.h:16:37: note: in expansion of macro 'I2S_BASE'\n",
      "   16 | #define I2S_WATERMARK_RX_L          I2S_BASE + 0x102\n",
      "      |                                     ^~~~~~~~\n",
      "/tools/C/tedkim7/sp24-Baremetal-IDE/platform/dsp24/src/hal_I2S.c:60:49: note: in expansion of macro 'I2S_WATERMARK_RX_L'\n",
      "   60 |         set_DMAP(dma_num, I2S_RX_L, write_addr, I2S_WATERMARK_RX_L, 0, 8, length, 3, poll);\n",
      "      |                                                 ^~~~~~~~~~~~~~~~~~\n",
      "/tools/C/tedkim7/sp24-Baremetal-IDE/platform/dsp24/inc/hal_DMA.h:37:75: note: expected 'uint64_t *' {aka 'long unsigned int *'} but argument is of type 'unsigned int'\n",
      "   37 | void set_DMAP(uint32_t num, uint64_t* addr_r, uint64_t* addr_w, uint64_t* addr_c, uint16_t inc_r, uint16_t inc_w, uint16_t len, uint8_t logd, uint32_t count);\n",
      "      |                                                                 ~~~~~~~~~~^~~~~~\n",
      "/tools/C/tedkim7/sp24-Baremetal-IDE/platform/dsp24/inc/hal_I2S.h:13:37: warning: passing argument 2 of 'set_DMAP' makes pointer from integer without a cast [-Wint-conversion]\n",
      "   13 | #define I2S_BASE                    0x10042000U\n",
      "      |                                     ^\n",
      "      |                                     |\n",
      "      |                                     unsigned int\n",
      "/tools/C/tedkim7/sp24-Baremetal-IDE/platform/dsp24/inc/hal_I2S.h:29:37: note: in expansion of macro 'I2S_BASE'\n",
      "   29 | #define I2S_RX_R                    I2S_BASE + 0x68\n",
      "      |                                     ^~~~~~~~\n",
      "/tools/C/tedkim7/sp24-Baremetal-IDE/platform/dsp24/src/hal_I2S.c:62:27: note: in expansion of macro 'I2S_RX_R'\n",
      "   62 |         set_DMAP(dma_num, I2S_RX_R, write_addr, I2S_WATERMARK_RX_R, 0, 8, length, 3, poll);\n",
      "      |                           ^~~~~~~~\n",
      "/tools/C/tedkim7/sp24-Baremetal-IDE/platform/dsp24/inc/hal_DMA.h:37:39: note: expected 'uint64_t *' {aka 'long unsigned int *'} but argument is of type 'unsigned int'\n",
      "   37 | void set_DMAP(uint32_t num, uint64_t* addr_r, uint64_t* addr_w, uint64_t* addr_c, uint16_t inc_r, uint16_t inc_w, uint16_t len, uint8_t logd, uint32_t count);\n",
      "      |                             ~~~~~~~~~~^~~~~~\n",
      "/tools/C/tedkim7/sp24-Baremetal-IDE/platform/dsp24/inc/hal_I2S.h:13:37: warning: passing argument 4 of 'set_DMAP' makes pointer from integer without a cast [-Wint-conversion]\n",
      "   13 | #define I2S_BASE                    0x10042000U\n",
      "      |                                     ^\n",
      "      |                                     |\n",
      "      |                                     unsigned int\n",
      "/tools/C/tedkim7/sp24-Baremetal-IDE/platform/dsp24/inc/hal_I2S.h:17:37: note: in expansion of macro 'I2S_BASE'\n",
      "   17 | #define I2S_WATERMARK_RX_R          I2S_BASE + 0x103\n",
      "      |                                     ^~~~~~~~\n",
      "/tools/C/tedkim7/sp24-Baremetal-IDE/platform/dsp24/src/hal_I2S.c:62:49: note: in expansion of macro 'I2S_WATERMARK_RX_R'\n",
      "   62 |         set_DMAP(dma_num, I2S_RX_R, write_addr, I2S_WATERMARK_RX_R, 0, 8, length, 3, poll);\n",
      "      |                                                 ^~~~~~~~~~~~~~~~~~\n",
      "/tools/C/tedkim7/sp24-Baremetal-IDE/platform/dsp24/inc/hal_DMA.h:37:75: note: expected 'uint64_t *' {aka 'long unsigned int *'} but argument is of type 'unsigned int'\n",
      "   37 | void set_DMAP(uint32_t num, uint64_t* addr_r, uint64_t* addr_w, uint64_t* addr_c, uint16_t inc_r, uint16_t inc_w, uint16_t len, uint8_t logd, uint32_t count);\n",
      "      |                                                                 ~~~~~~~~~~^~~~~~\n"
     ]
    },
    {
     "name": "stdout",
     "output_type": "stream",
     "text": [
      "[ 41%] \u001b[32mBuilding C object platform/dsp24/CMakeFiles/chip-config.dir/src/hal_conv.c.obj\u001b[0m\n"
     ]
    },
    {
     "name": "stderr",
     "output_type": "stream",
     "text": [
      "/tools/C/tedkim7/sp24-Baremetal-IDE/platform/dsp24/src/hal_conv.c: In function 'write_conv_dma':\n",
      "/tools/C/tedkim7/sp24-Baremetal-IDE/platform/dsp24/src/hal_conv.c:13:5: warning: implicit declaration of function 'set_DMAC' [-Wimplicit-function-declaration]\n",
      "   13 |     set_DMAC(dma_num, (uint64_t*) data, CONV_BASE, 8, 0, length/8, 3);\n",
      "      |     ^~~~~~~~\n",
      "/tools/C/tedkim7/sp24-Baremetal-IDE/platform/dsp24/src/hal_conv.c:14:5: warning: implicit declaration of function 'start_DMA' [-Wimplicit-function-declaration]\n",
      "   14 |     start_DMA(dma_num);\n",
      "      |     ^~~~~~~~~\n",
      "/tools/C/tedkim7/sp24-Baremetal-IDE/platform/dsp24/src/hal_conv.c: In function 'read_conv_dma_p':\n",
      "/tools/C/tedkim7/sp24-Baremetal-IDE/platform/dsp24/src/hal_conv.c:23:5: warning: implicit declaration of function 'set_DMAP' [-Wimplicit-function-declaration]\n",
      "   23 |     set_DMAP(dma_num, CONV_OUTPUT_ADDR, write_addr, READ_CHECK_ADDR, 0, 8, length/4, 3, 0);\n",
      "      |     ^~~~~~~~\n"
     ]
    },
    {
     "name": "stdout",
     "output_type": "stream",
     "text": [
      "[ 43%] \u001b[32mBuilding C object platform/dsp24/CMakeFiles/chip-config.dir/src/hal_fft.c.obj\u001b[0m\n"
     ]
    },
    {
     "name": "stderr",
     "output_type": "stream",
     "text": [
      "/tools/C/tedkim7/sp24-Baremetal-IDE/platform/dsp24/src/hal_fft.c: In function 'write_fft_dma':\n",
      "/tools/C/tedkim7/sp24-Baremetal-IDE/platform/dsp24/src/hal_fft.c:28:23: warning: passing argument 2 of 'set_DMAC' makes integer from pointer without a cast [-Wint-conversion]\n",
      "   28 |     set_DMAC(dma_num, data, FFT_INPUT, 8, 0, length/2, 3);\n",
      "      |                       ^~~~\n",
      "      |                       |\n",
      "      |                       uint64_t * {aka long unsigned int *}\n",
      "In file included from /tools/C/tedkim7/sp24-Baremetal-IDE/platform/dsp24/inc/hal_fft.h:9,\n",
      "                 from /tools/C/tedkim7/sp24-Baremetal-IDE/platform/dsp24/src/hal_fft.c:1:\n",
      "/tools/C/tedkim7/sp24-Baremetal-IDE/platform/dsp24/inc/hal_DMA.h:34:38: note: expected 'uint64_t' {aka 'long unsigned int'} but argument is of type 'uint64_t *' {aka 'long unsigned int *'}\n",
      "   34 | void set_DMAC(uint32_t num, uint64_t addr_r, uint64_t addr_w, uint16_t inc_r, uint16_t inc_w, uint16_t len, uint16_t logd);\n",
      "      |                             ~~~~~~~~~^~~~~~\n",
      "/tools/C/tedkim7/sp24-Baremetal-IDE/platform/dsp24/src/hal_fft.c: In function 'read_fft_dma':\n",
      "/tools/C/tedkim7/sp24-Baremetal-IDE/platform/dsp24/src/hal_fft.c:33:35: warning: passing argument 3 of 'set_DMAC' makes integer from pointer without a cast [-Wint-conversion]\n",
      "   33 |     set_DMAC(dma_num, FFT_OUTPUT, write_addr, 0, 8, length, 2);\n",
      "      |                                   ^~~~~~~~~~\n",
      "      |                                   |\n",
      "      |                                   uint64_t * {aka long unsigned int *}\n",
      "/tools/C/tedkim7/sp24-Baremetal-IDE/platform/dsp24/inc/hal_DMA.h:34:55: note: expected 'uint64_t' {aka 'long unsigned int'} but argument is of type 'uint64_t *' {aka 'long unsigned int *'}\n",
      "   34 | void set_DMAC(uint32_t num, uint64_t addr_r, uint64_t addr_w, uint16_t inc_r, uint16_t inc_w, uint16_t len, uint16_t logd);\n",
      "      |                                              ~~~~~~~~~^~~~~~\n",
      "/tools/C/tedkim7/sp24-Baremetal-IDE/platform/dsp24/src/hal_fft.c: In function 'read_fft_real_dma':\n",
      "/tools/C/tedkim7/sp24-Baremetal-IDE/platform/dsp24/src/hal_fft.c:38:35: warning: passing argument 3 of 'set_DMAC' makes integer from pointer without a cast [-Wint-conversion]\n",
      "   38 |     set_DMAC(dma_num, FFT_OUTPUT, write_addr, 0, 4, length, 1);\n",
      "      |                                   ^~~~~~~~~~\n",
      "      |                                   |\n",
      "      |                                   uint64_t * {aka long unsigned int *}\n",
      "/tools/C/tedkim7/sp24-Baremetal-IDE/platform/dsp24/inc/hal_DMA.h:34:55: note: expected 'uint64_t' {aka 'long unsigned int'} but argument is of type 'uint64_t *' {aka 'long unsigned int *'}\n",
      "   34 | void set_DMAC(uint32_t num, uint64_t addr_r, uint64_t addr_w, uint16_t inc_r, uint16_t inc_w, uint16_t len, uint16_t logd);\n",
      "      |                                              ~~~~~~~~~^~~~~~\n"
     ]
    },
    {
     "name": "stdout",
     "output_type": "stream",
     "text": [
      "[ 46%] \u001b[32mBuilding C object platform/dsp24/CMakeFiles/chip-config.dir/src/hal_mmio.c.obj\u001b[0m\n",
      "[ 48%] \u001b[32m\u001b[1mLinking C static library libchip-config.a\u001b[0m\n",
      "gmake[4]: Leaving directory '/bwrcq/C/tedkim7/sp24-Baremetal-IDE/build'\n",
      "[ 48%] Built target chip-config\n",
      "gmake[4]: Entering directory '/bwrcq/C/tedkim7/sp24-Baremetal-IDE/build'\n",
      "gmake[4]: Leaving directory '/bwrcq/C/tedkim7/sp24-Baremetal-IDE/build'\n",
      "gmake[4]: Entering directory '/bwrcq/C/tedkim7/sp24-Baremetal-IDE/build'\n",
      "[ 51%] \u001b[32mBuilding ASM object glossy/CMakeFiles/glossy.dir/src/startup/crt0.S.obj\u001b[0m\n",
      "[ 53%] \u001b[32mBuilding ASM object glossy/CMakeFiles/glossy.dir/src/startup/init.S.obj\u001b[0m\n",
      "[ 56%] \u001b[32mBuilding C object glossy/CMakeFiles/glossy.dir/src/startup/secondary.c.obj\u001b[0m\n",
      "[ 58%] \u001b[32mBuilding ASM object glossy/CMakeFiles/glossy.dir/src/trap/trap.S.obj\u001b[0m\n",
      "[ 61%] \u001b[32mBuilding C object glossy/CMakeFiles/glossy.dir/src/trap/trap.c.obj\u001b[0m\n"
     ]
    },
    {
     "name": "stderr",
     "output_type": "stream",
     "text": [
      "/tools/C/tedkim7/sp24-Baremetal-IDE/glossy/src/trap/trap.c: In function 'trap_handler':\n",
      "/tools/C/tedkim7/sp24-Baremetal-IDE/glossy/src/trap/trap.c:73:92: warning: unused parameter 'm_tval' [-Wunused-parameter]\n",
      "   73 | __attribute__((weak)) uintptr_t trap_handler(uintptr_t m_epc, uintptr_t m_cause, uintptr_t m_tval, uintptr_t regs[32]) {\n",
      "      |                                                                                  ~~~~~~~~~~^~~~~~\n",
      "/tools/C/tedkim7/sp24-Baremetal-IDE/glossy/src/trap/trap.c:73:110: warning: unused parameter 'regs' [-Wunused-parameter]\n",
      "   73 | __attribute__((weak)) uintptr_t trap_handler(uintptr_t m_epc, uintptr_t m_cause, uintptr_t m_tval, uintptr_t regs[32]) {\n",
      "      |                                                                                                    ~~~~~~~~~~^~~~~~~~\n"
     ]
    },
    {
     "name": "stdout",
     "output_type": "stream",
     "text": [
      "[ 64%] \u001b[32mBuilding C object glossy/CMakeFiles/glossy.dir/src/sys/close.c.obj\u001b[0m\n"
     ]
    },
    {
     "name": "stderr",
     "output_type": "stream",
     "text": [
      "/tools/C/tedkim7/sp24-Baremetal-IDE/glossy/src/sys/close.c: In function '_close':\n",
      "/tools/C/tedkim7/sp24-Baremetal-IDE/glossy/src/sys/close.c:2:38: warning: unused parameter 'file' [-Wunused-parameter]\n",
      "    2 | __attribute__((weak)) int _close(int file) {\n",
      "      |                                  ~~~~^~~~\n"
     ]
    },
    {
     "name": "stdout",
     "output_type": "stream",
     "text": [
      "[ 66%] \u001b[32mBuilding C object glossy/CMakeFiles/glossy.dir/src/sys/exit.c.obj\u001b[0m\n"
     ]
    },
    {
     "name": "stderr",
     "output_type": "stream",
     "text": [
      "/tools/C/tedkim7/sp24-Baremetal-IDE/glossy/src/sys/exit.c: In function '_exit':\n",
      "/tools/C/tedkim7/sp24-Baremetal-IDE/glossy/src/sys/exit.c:4:48: warning: unused parameter 'code' [-Wunused-parameter]\n",
      "    4 | __attribute__((weak, noreturn)) void _exit(int code) {\n",
      "      |                                            ~~~~^~~~\n"
     ]
    },
    {
     "name": "stdout",
     "output_type": "stream",
     "text": [
      "[ 69%] \u001b[32mBuilding C object glossy/CMakeFiles/glossy.dir/src/sys/fstat.c.obj\u001b[0m\n"
     ]
    },
    {
     "name": "stderr",
     "output_type": "stream",
     "text": [
      "/tools/C/tedkim7/sp24-Baremetal-IDE/glossy/src/sys/fstat.c: In function '_fstat':\n",
      "/tools/C/tedkim7/sp24-Baremetal-IDE/glossy/src/sys/fstat.c:4:38: warning: unused parameter 'file' [-Wunused-parameter]\n",
      "    4 | __attribute__((weak)) int _fstat(int file, struct stat *st) {\n",
      "      |                                  ~~~~^~~~\n",
      "/tools/C/tedkim7/sp24-Baremetal-IDE/glossy/src/sys/fstat.c:4:57: warning: unused parameter 'st' [-Wunused-parameter]\n",
      "    4 | __attribute__((weak)) int _fstat(int file, struct stat *st) {\n",
      "      |                                            ~~~~~~~~~~~~~^~\n"
     ]
    },
    {
     "name": "stdout",
     "output_type": "stream",
     "text": [
      "[ 71%] \u001b[32mBuilding C object glossy/CMakeFiles/glossy.dir/src/sys/getpid.c.obj\u001b[0m\n",
      "[ 74%] \u001b[32mBuilding C object glossy/CMakeFiles/glossy.dir/src/sys/isatty.c.obj\u001b[0m\n",
      "[ 76%] \u001b[32mBuilding C object glossy/CMakeFiles/glossy.dir/src/sys/kill.c.obj\u001b[0m\n"
     ]
    },
    {
     "name": "stderr",
     "output_type": "stream",
     "text": [
      "/tools/C/tedkim7/sp24-Baremetal-IDE/glossy/src/sys/kill.c: In function '_kill':\n",
      "/tools/C/tedkim7/sp24-Baremetal-IDE/glossy/src/sys/kill.c:2:37: warning: unused parameter 'pid' [-Wunused-parameter]\n",
      "    2 | __attribute__((weak)) int _kill(int pid, int sig) {\n",
      "      |                                 ~~~~^~~\n",
      "/tools/C/tedkim7/sp24-Baremetal-IDE/glossy/src/sys/kill.c:2:46: warning: unused parameter 'sig' [-Wunused-parameter]\n",
      "    2 | __attribute__((weak)) int _kill(int pid, int sig) {\n",
      "      |                                          ~~~~^~~\n"
     ]
    },
    {
     "name": "stdout",
     "output_type": "stream",
     "text": [
      "[ 79%] \u001b[32mBuilding C object glossy/CMakeFiles/glossy.dir/src/sys/lseek.c.obj\u001b[0m\n"
     ]
    },
    {
     "name": "stderr",
     "output_type": "stream",
     "text": [
      "/tools/C/tedkim7/sp24-Baremetal-IDE/glossy/src/sys/lseek.c: In function '_lseek':\n",
      "/tools/C/tedkim7/sp24-Baremetal-IDE/glossy/src/sys/lseek.c:5:40: warning: unused parameter 'file' [-Wunused-parameter]\n",
      "    5 | __attribute__((weak)) off_t _lseek(int file, off_t ptr, int dir) {\n",
      "      |                                    ~~~~^~~~\n",
      "/tools/C/tedkim7/sp24-Baremetal-IDE/glossy/src/sys/lseek.c:5:52: warning: unused parameter 'ptr' [-Wunused-parameter]\n",
      "    5 | __attribute__((weak)) off_t _lseek(int file, off_t ptr, int dir) {\n",
      "      |                                              ~~~~~~^~~\n",
      "/tools/C/tedkim7/sp24-Baremetal-IDE/glossy/src/sys/lseek.c:5:61: warning: unused parameter 'dir' [-Wunused-parameter]\n",
      "    5 | __attribute__((weak)) off_t _lseek(int file, off_t ptr, int dir) {\n",
      "      |                                                         ~~~~^~~\n"
     ]
    },
    {
     "name": "stdout",
     "output_type": "stream",
     "text": [
      "[ 82%] \u001b[32mBuilding C object glossy/CMakeFiles/glossy.dir/src/sys/open.c.obj\u001b[0m\n"
     ]
    },
    {
     "name": "stderr",
     "output_type": "stream",
     "text": [
      "/tools/C/tedkim7/sp24-Baremetal-IDE/glossy/src/sys/open.c: In function '_open':\n",
      "/tools/C/tedkim7/sp24-Baremetal-IDE/glossy/src/sys/open.c:3:45: warning: unused parameter 'path' [-Wunused-parameter]\n",
      "    3 | __attribute__((weak)) int _open(const char *path, int flags, int mode) {\n",
      "      |                                 ~~~~~~~~~~~~^~~~\n",
      "/tools/C/tedkim7/sp24-Baremetal-IDE/glossy/src/sys/open.c:3:55: warning: unused parameter 'flags' [-Wunused-parameter]\n",
      "    3 | __attribute__((weak)) int _open(const char *path, int flags, int mode) {\n",
      "      |                                                   ~~~~^~~~~\n",
      "/tools/C/tedkim7/sp24-Baremetal-IDE/glossy/src/sys/open.c:3:66: warning: unused parameter 'mode' [-Wunused-parameter]\n",
      "    3 | __attribute__((weak)) int _open(const char *path, int flags, int mode) {\n",
      "      |                                                              ~~~~^~~~\n"
     ]
    },
    {
     "name": "stdout",
     "output_type": "stream",
     "text": [
      "[ 84%] \u001b[32mBuilding C object glossy/CMakeFiles/glossy.dir/src/sys/read.c.obj\u001b[0m\n"
     ]
    },
    {
     "name": "stderr",
     "output_type": "stream",
     "text": [
      "/tools/C/tedkim7/sp24-Baremetal-IDE/glossy/src/sys/read.c: In function '_read':\n",
      "/tools/C/tedkim7/sp24-Baremetal-IDE/glossy/src/sys/read.c:5:41: warning: unused parameter 'file' [-Wunused-parameter]\n",
      "    5 | __attribute__((weak)) ssize_t _read(int file, void *ptr, size_t len) {\n",
      "      |                                     ~~~~^~~~\n",
      "/tools/C/tedkim7/sp24-Baremetal-IDE/glossy/src/sys/read.c:5:53: warning: unused parameter 'ptr' [-Wunused-parameter]\n",
      "    5 | __attribute__((weak)) ssize_t _read(int file, void *ptr, size_t len) {\n",
      "      |                                               ~~~~~~^~~\n",
      "/tools/C/tedkim7/sp24-Baremetal-IDE/glossy/src/sys/read.c:5:65: warning: unused parameter 'len' [-Wunused-parameter]\n",
      "    5 | __attribute__((weak)) ssize_t _read(int file, void *ptr, size_t len) {\n",
      "      |                                                          ~~~~~~~^~~\n"
     ]
    },
    {
     "name": "stdout",
     "output_type": "stream",
     "text": [
      "[ 87%] \u001b[32mBuilding C object glossy/CMakeFiles/glossy.dir/src/sys/sbrk.c.obj\u001b[0m\n",
      "[ 89%] \u001b[32mBuilding C object glossy/CMakeFiles/glossy.dir/src/sys/time.c.obj\u001b[0m\n",
      "[ 92%] \u001b[32mBuilding C object glossy/CMakeFiles/glossy.dir/src/sys/write.c.obj\u001b[0m\n"
     ]
    },
    {
     "name": "stderr",
     "output_type": "stream",
     "text": [
      "/tools/C/tedkim7/sp24-Baremetal-IDE/glossy/src/sys/write.c: In function '_write':\n",
      "/tools/C/tedkim7/sp24-Baremetal-IDE/glossy/src/sys/write.c:8:42: warning: unused parameter 'fd' [-Wunused-parameter]\n",
      "    8 | __attribute__((weak)) ssize_t _write(int fd, const void *ptr, size_t len) {\n",
      "      |                                      ~~~~^~\n"
     ]
    },
    {
     "name": "stdout",
     "output_type": "stream",
     "text": [
      "[ 94%] \u001b[32m\u001b[1mLinking C static library libglossy.a\u001b[0m\n",
      "gmake[4]: Leaving directory '/bwrcq/C/tedkim7/sp24-Baremetal-IDE/build'\n",
      "[ 94%] Built target glossy\n",
      "gmake[4]: Entering directory '/bwrcq/C/tedkim7/sp24-Baremetal-IDE/build'\n",
      "gmake[4]: Leaving directory '/bwrcq/C/tedkim7/sp24-Baremetal-IDE/build'\n",
      "gmake[4]: Entering directory '/bwrcq/C/tedkim7/sp24-Baremetal-IDE/build'\n",
      "[ 97%] \u001b[32mBuilding C object CMakeFiles/shmoo_bench.dir/shmoo_bench/dsp_conv_bench/src/main.c.obj\u001b[0m\n"
     ]
    },
    {
     "name": "stderr",
     "output_type": "stream",
     "text": [
      "/tools/C/tedkim7/sp24-Baremetal-IDE/shmoo_bench/dsp_conv_bench/src/main.c: In function 'app_main':\n",
      "/tools/C/tedkim7/sp24-Baremetal-IDE/shmoo_bench/dsp_conv_bench/src/main.c:61:5: warning: implicit declaration of function 'reg_write8' [-Wimplicit-function-declaration]\n",
      "   61 |     reg_write8(RESET_ADDR, 1);\n",
      "      |     ^~~~~~~~~~\n",
      "/tools/C/tedkim7/sp24-Baremetal-IDE/shmoo_bench/dsp_conv_bench/src/main.c:71:5: warning: implicit declaration of function 'set_conv_params' [-Wimplicit-function-declaration]\n",
      "   71 |     set_conv_params(16, 1, ((uint64_t*) in_kernel));\n",
      "      |     ^~~~~~~~~~~~~~~\n",
      "/tools/C/tedkim7/sp24-Baremetal-IDE/shmoo_bench/dsp_conv_bench/src/main.c:72:5: warning: implicit declaration of function 'write_conv_dma' [-Wimplicit-function-declaration]\n",
      "   72 |     write_conv_dma(0, 16, in_arr);\n",
      "      |     ^~~~~~~~~~~~~~\n",
      "/tools/C/tedkim7/sp24-Baremetal-IDE/shmoo_bench/dsp_conv_bench/src/main.c:77:5: warning: implicit declaration of function 'start_conv' [-Wimplicit-function-declaration]\n",
      "   77 |     start_conv();\n",
      "      |     ^~~~~~~~~~\n",
      "/tools/C/tedkim7/sp24-Baremetal-IDE/shmoo_bench/dsp_conv_bench/src/main.c:91:5: warning: implicit declaration of function 'read_conv_dma' [-Wimplicit-function-declaration]\n",
      "   91 |     read_conv_dma(0, 16, ((uint64_t*) test_out));\n",
      "      |     ^~~~~~~~~~~~~\n",
      "/tools/C/tedkim7/sp24-Baremetal-IDE/shmoo_bench/dsp_conv_bench/src/main.c:95:20: warning: format '%lx' expects argument of type 'long unsigned int', but argument 2 has type 'int' [-Wformat=]\n",
      "   95 |             printf(\"%\"PRIx64\" \", test_out[i*4 + j]);\n",
      "      |                    ^~~           ~~~~~~~~~~~~~~~~~\n",
      "      |                                          |\n",
      "      |                                          int\n",
      "/tools/C/tedkim7/sp24-Baremetal-IDE/shmoo_bench/dsp_conv_bench/src/main.c:100:14: warning: variable 'ref_out' set but not used [-Wunused-but-set-variable]\n",
      "  100 |     uint16_t ref_out[32];\n",
      "      |              ^~~~~~~\n",
      "/tools/C/tedkim7/sp24-Baremetal-IDE/shmoo_bench/dsp_conv_bench/src/main.c:79:14: warning: unused variable 'cpu_end_cycles' [-Wunused-variable]\n",
      "   79 |     uint64_t cpu_end_cycles = READ_CSR(\"mcycle\");\n",
      "      |              ^~~~~~~~~~~~~~\n",
      "/tools/C/tedkim7/sp24-Baremetal-IDE/shmoo_bench/dsp_conv_bench/src/main.c:74:14: warning: unused variable 'cpu_start_cycles' [-Wunused-variable]\n",
      "   74 |     uint64_t cpu_start_cycles = READ_CSR(\"mcycle\");\n",
      "      |              ^~~~~~~~~~~~~~~~\n",
      "/tools/C/tedkim7/sp24-Baremetal-IDE/shmoo_bench/dsp_conv_bench/src/main.c:67:14: warning: unused variable 'in_dilation' [-Wunused-variable]\n",
      "   67 |     uint16_t in_dilation[1] = {1};\n",
      "      |              ^~~~~~~~~~~\n",
      "/tools/C/tedkim7/sp24-Baremetal-IDE/shmoo_bench/dsp_conv_bench/src/main.c:66:14: warning: unused variable 'in_len' [-Wunused-variable]\n",
      "   66 |     uint32_t in_len[1] = {16};\n",
      "      |              ^~~~~~\n",
      "/tools/C/tedkim7/sp24-Baremetal-IDE/shmoo_bench/dsp_conv_bench/src/main.c: In function 'main':\n",
      "/tools/C/tedkim7/sp24-Baremetal-IDE/shmoo_bench/dsp_conv_bench/src/main.c:127:14: warning: unused parameter 'argc' [-Wunused-parameter]\n",
      "  127 | int main(int argc, char **argv) {\n",
      "      |          ~~~~^~~~\n",
      "/tools/C/tedkim7/sp24-Baremetal-IDE/shmoo_bench/dsp_conv_bench/src/main.c:127:27: warning: unused parameter 'argv' [-Wunused-parameter]\n",
      "  127 | int main(int argc, char **argv) {\n",
      "      |                    ~~~~~~~^~~~\n"
     ]
    },
    {
     "name": "stdout",
     "output_type": "stream",
     "text": [
      "[100%] \u001b[32m\u001b[1mLinking C executable shmoo_bench.elf\u001b[0m\n"
     ]
    },
    {
     "name": "stderr",
     "output_type": "stream",
     "text": [
      "/bwrcq/C/ee290-fa24-2/.conda-env/riscv-tools/bin/../lib/gcc/riscv64-unknown-elf/13.2.0/../../../../riscv64-unknown-elf/bin/ld: warning: shmoo_bench.elf has a LOAD segment with RWX permissions\n"
     ]
    },
    {
     "name": "stdout",
     "output_type": "stream",
     "text": [
      "gmake[4]: Leaving directory '/bwrcq/C/tedkim7/sp24-Baremetal-IDE/build'\n",
      "[100%] Built target shmoo_bench\n",
      "gmake[3]: Leaving directory '/bwrcq/C/tedkim7/sp24-Baremetal-IDE/build'\n",
      "gmake[2]: Leaving directory '/bwrcq/C/tedkim7/sp24-Baremetal-IDE/build'\n",
      "gmake[1]: Leaving directory '/bwrcq/C/tedkim7/sp24-Baremetal-IDE/build'\n",
      "**Clock set to: 600MHz**\n",
      "**Voltage set to: +5.00000000E-01\n",
      "V**\n"
     ]
    },
    {
     "name": "stderr",
     "output_type": "stream",
     "text": [
      "warning: tohost and fromhost symbols not in ELF; can't communicate with target\n",
      "Writing 14006c with c\n",
      "Done writing 14006c with c\n"
     ]
    },
    {
     "name": "stdout",
     "output_type": "stream",
     "text": [
      "Starting UART-based TSI\n",
      "Usage: ./uart_tsi +tty=/dev/pts/xx <PLUSARGS> <bin>\n",
      "       ./uart_tsi +tty=/dev/ttyxx  <PLUSARGS> <bin>\n",
      "       ./uart_tsi +tty=/dev/ttyxx  +no_hart0_msip +init_write=0x80000000:0xdeadbeef none\n",
      "       ./uart_tsi +tty=/dev/ttyxx  +no_hart0_msip +init_read=0x80000000 none\n",
      "       ./uart_tsi +tty=/dev/ttyxx  +selfcheck <bin>\n",
      "       ./uart_tsi +tty=/dev/ttyxx  +baudrate=921600 <bin>\n",
      "Attempting to open TTY at /dev/ttyUSB1\n",
      "Warning: You selected a non-standard baudrate. This will only work if the HW was configured with this baud-rate\n",
      "Checking connection status with /dev/ttyUSB1\n",
      "Connection succeeded\n",
      "Done, shutting down, flushing UART\n",
      "WARNING: You should probably reset the target before running this program again\n",
      "Done: now reset during the sleep before next iteration\n",
      "**Voltage set to: +5.50000000E-01\n",
      "V**\n"
     ]
    },
    {
     "name": "stderr",
     "output_type": "stream",
     "text": [
      "warning: tohost and fromhost symbols not in ELF; can't communicate with target\n",
      "Writing 14006c with c\n",
      "Done writing 14006c with c\n"
     ]
    },
    {
     "name": "stdout",
     "output_type": "stream",
     "text": [
      "Starting UART-based TSI\n",
      "Usage: ./uart_tsi +tty=/dev/pts/xx <PLUSARGS> <bin>\n",
      "       ./uart_tsi +tty=/dev/ttyxx  <PLUSARGS> <bin>\n",
      "       ./uart_tsi +tty=/dev/ttyxx  +no_hart0_msip +init_write=0x80000000:0xdeadbeef none\n",
      "       ./uart_tsi +tty=/dev/ttyxx  +no_hart0_msip +init_read=0x80000000 none\n",
      "       ./uart_tsi +tty=/dev/ttyxx  +selfcheck <bin>\n",
      "       ./uart_tsi +tty=/dev/ttyxx  +baudrate=921600 <bin>\n",
      "Attempting to open TTY at /dev/ttyUSB1\n",
      "Warning: You selected a non-standard baudrate. This will only work if the HW was configured with this baud-rate\n",
      "Checking connection status with /dev/ttyUSB1\n",
      "Connection succeeded\n",
      "Done, shutting down, flushing UART\n",
      "WARNING: You should probably reset the target before running this program again\n",
      "Done: now reset during the sleep before next iteration\n",
      "**Voltage set to: +6.00000000E-01\n",
      "V**\n"
     ]
    },
    {
     "name": "stderr",
     "output_type": "stream",
     "text": [
      "warning: tohost and fromhost symbols not in ELF; can't communicate with target\n",
      "Writing 14006c with c\n",
      "Done writing 14006c with c\n"
     ]
    },
    {
     "name": "stdout",
     "output_type": "stream",
     "text": [
      "Starting UART-based TSI\n",
      "Usage: ./uart_tsi +tty=/dev/pts/xx <PLUSARGS> <bin>\n",
      "       ./uart_tsi +tty=/dev/ttyxx  <PLUSARGS> <bin>\n",
      "       ./uart_tsi +tty=/dev/ttyxx  +no_hart0_msip +init_write=0x80000000:0xdeadbeef none\n",
      "       ./uart_tsi +tty=/dev/ttyxx  +no_hart0_msip +init_read=0x80000000 none\n",
      "       ./uart_tsi +tty=/dev/ttyxx  +selfcheck <bin>\n",
      "       ./uart_tsi +tty=/dev/ttyxx  +baudrate=921600 <bin>\n",
      "Attempting to open TTY at /dev/ttyUSB1\n",
      "Warning: You selected a non-standard baudrate. This will only work if the HW was configured with this baud-rate\n",
      "Checking connection status with /dev/ttyUSB1\n",
      "Connection succeeded\n",
      "Done, shutting down, flushing UART\n",
      "WARNING: You should probably reset the target before running this program again\n",
      "Done: now reset during the sleep before next iteration\n",
      "**Voltage set to: +6.50000000E-01\n",
      "V**\n"
     ]
    },
    {
     "name": "stderr",
     "output_type": "stream",
     "text": [
      "warning: tohost and fromhost symbols not in ELF; can't communicate with target\n",
      "Writing 14006c with c\n",
      "Done writing 14006c with c\n"
     ]
    },
    {
     "name": "stdout",
     "output_type": "stream",
     "text": [
      "Starting UART-based TSI\n",
      "Usage: ./uart_tsi +tty=/dev/pts/xx <PLUSARGS> <bin>\n",
      "       ./uart_tsi +tty=/dev/ttyxx  <PLUSARGS> <bin>\n",
      "       ./uart_tsi +tty=/dev/ttyxx  +no_hart0_msip +init_write=0x80000000:0xdeadbeef none\n",
      "       ./uart_tsi +tty=/dev/ttyxx  +no_hart0_msip +init_read=0x80000000 none\n",
      "       ./uart_tsi +tty=/dev/ttyxx  +selfcheck <bin>\n",
      "       ./uart_tsi +tty=/dev/ttyxx  +baudrate=921600 <bin>\n",
      "Attempting to open TTY at /dev/ttyUSB1\n",
      "Warning: You selected a non-standard baudrate. This will only work if the HW was configured with this baud-rate\n",
      "Checking connection status with /dev/ttyUSB1\n",
      "Connection succeeded\n",
      "Done, shutting down, flushing UART\n",
      "WARNING: You should probably reset the target before running this program again\n",
      "Done: now reset during the sleep before next iteration\n",
      "**Voltage set to: +7.00000000E-01\n",
      "V**\n"
     ]
    },
    {
     "name": "stderr",
     "output_type": "stream",
     "text": [
      "warning: tohost and fromhost symbols not in ELF; can't communicate with target\n",
      "Writing 14006c with c\n",
      "Done writing 14006c with c\n"
     ]
    },
    {
     "name": "stdout",
     "output_type": "stream",
     "text": [
      "Starting UART-based TSI\n",
      "Usage: ./uart_tsi +tty=/dev/pts/xx <PLUSARGS> <bin>\n",
      "       ./uart_tsi +tty=/dev/ttyxx  <PLUSARGS> <bin>\n",
      "       ./uart_tsi +tty=/dev/ttyxx  +no_hart0_msip +init_write=0x80000000:0xdeadbeef none\n",
      "       ./uart_tsi +tty=/dev/ttyxx  +no_hart0_msip +init_read=0x80000000 none\n",
      "       ./uart_tsi +tty=/dev/ttyxx  +selfcheck <bin>\n",
      "       ./uart_tsi +tty=/dev/ttyxx  +baudrate=921600 <bin>\n",
      "Attempting to open TTY at /dev/ttyUSB1\n",
      "Warning: You selected a non-standard baudrate. This will only work if the HW was configured with this baud-rate\n",
      "Checking connection status with /dev/ttyUSB1\n",
      "Connection succeeded\n",
      "Done, shutting down, flushing UART\n",
      "WARNING: You should probably reset the target before running this program again\n",
      "Done: now reset during the sleep before next iteration\n",
      "**Voltage set to: +7.50000000E-01\n",
      "V**\n"
     ]
    },
    {
     "name": "stderr",
     "output_type": "stream",
     "text": [
      "warning: tohost and fromhost symbols not in ELF; can't communicate with target\n",
      "Writing 14006c with c\n",
      "Done writing 14006c with c\n"
     ]
    },
    {
     "name": "stdout",
     "output_type": "stream",
     "text": [
      "Starting UART-based TSI\n",
      "Usage: ./uart_tsi +tty=/dev/pts/xx <PLUSARGS> <bin>\n",
      "       ./uart_tsi +tty=/dev/ttyxx  <PLUSARGS> <bin>\n",
      "       ./uart_tsi +tty=/dev/ttyxx  +no_hart0_msip +init_write=0x80000000:0xdeadbeef none\n",
      "       ./uart_tsi +tty=/dev/ttyxx  +no_hart0_msip +init_read=0x80000000 none\n",
      "       ./uart_tsi +tty=/dev/ttyxx  +selfcheck <bin>\n",
      "       ./uart_tsi +tty=/dev/ttyxx  +baudrate=921600 <bin>\n",
      "Attempting to open TTY at /dev/ttyUSB1\n",
      "Warning: You selected a non-standard baudrate. This will only work if the HW was configured with this baud-rate\n",
      "Checking connection status with /dev/ttyUSB1\n",
      "Connection succeeded\n",
      "Done, shutting down, flushing UART\n",
      "WARNING: You should probably reset the target before running this program again\n",
      "Done: now reset during the sleep before next iteration\n",
      "**Voltage set to: +8.00000000E-01\n",
      "V**\n"
     ]
    },
    {
     "name": "stderr",
     "output_type": "stream",
     "text": [
      "warning: tohost and fromhost symbols not in ELF; can't communicate with target\n",
      "Writing 14006c with c\n",
      "Done writing 14006c with c\n"
     ]
    },
    {
     "name": "stdout",
     "output_type": "stream",
     "text": [
      "b'0 4400 4600 4800 4900 4a00 4b00 4c00 4c80 4d00 4d80 4e00 4e80 4f00 4f80 5000 \\r\\n'\n",
      "Starting UART-based TSI\n",
      "Usage: ./uart_tsi +tty=/dev/pts/xx <PLUSARGS> <bin>\n",
      "       ./uart_tsi +tty=/dev/ttyxx  <PLUSARGS> <bin>\n",
      "       ./uart_tsi +tty=/dev/ttyxx  +no_hart0_msip +init_write=0x80000000:0xdeadbeef none\n",
      "       ./uart_tsi +tty=/dev/ttyxx  +no_hart0_msip +init_read=0x80000000 none\n",
      "       ./uart_tsi +tty=/dev/ttyxx  +selfcheck <bin>\n",
      "       ./uart_tsi +tty=/dev/ttyxx  +baudrate=921600 <bin>\n",
      "Attempting to open TTY at /dev/ttyUSB1\n",
      "Warning: You selected a non-standard baudrate. This will only work if the HW was configured with this baud-rate\n",
      "Checking connection status with /dev/ttyUSB1\n",
      "Connection succeeded\n",
      "Done, shutting down, flushing UART\n",
      "WARNING: You should probably reset the target before running this program again\n",
      "Done: now reset during the sleep before next iteration\n",
      "**Voltage set to: +8.50000000E-01\n",
      "V**\n"
     ]
    },
    {
     "name": "stderr",
     "output_type": "stream",
     "text": [
      "warning: tohost and fromhost symbols not in ELF; can't communicate with target\n",
      "Writing 14006c with c\n",
      "Done writing 14006c with c\n"
     ]
    },
    {
     "name": "stdout",
     "output_type": "stream",
     "text": [
      "Starting UART-based TSI\n",
      "Usage: ./uart_tsi +tty=/dev/pts/xx <PLUSARGS> <bin>\n",
      "       ./uart_tsi +tty=/dev/ttyxx  <PLUSARGS> <bin>\n",
      "       ./uart_tsi +tty=/dev/ttyxx  +no_hart0_msip +init_write=0x80000000:0xdeadbeef none\n",
      "       ./uart_tsi +tty=/dev/ttyxx  +no_hart0_msip +init_read=0x80000000 none\n",
      "       ./uart_tsi +tty=/dev/ttyxx  +selfcheck <bin>\n",
      "       ./uart_tsi +tty=/dev/ttyxx  +baudrate=921600 <bin>\n",
      "Attempting to open TTY at /dev/ttyUSB1\n",
      "Warning: You selected a non-standard baudrate. This will only work if the HW was configured with this baud-rate\n",
      "Checking connection status with /dev/ttyUSB1\n",
      "Connection succeeded\n",
      "Done, shutting down, flushing UART\n",
      "WARNING: You should probably reset the target before running this program again\n",
      "Done: now reset during the sleep before next iteration\n",
      "**Voltage set to: +9.00000000E-01\n",
      "V**\n"
     ]
    },
    {
     "name": "stderr",
     "output_type": "stream",
     "text": [
      "warning: tohost and fromhost symbols not in ELF; can't communicate with target\n",
      "Writing 14006c with c\n",
      "Done writing 14006c with c\n"
     ]
    },
    {
     "name": "stdout",
     "output_type": "stream",
     "text": [
      "Starting UART-based TSI\n",
      "Usage: ./uart_tsi +tty=/dev/pts/xx <PLUSARGS> <bin>\n",
      "       ./uart_tsi +tty=/dev/ttyxx  <PLUSARGS> <bin>\n",
      "       ./uart_tsi +tty=/dev/ttyxx  +no_hart0_msip +init_write=0x80000000:0xdeadbeef none\n",
      "       ./uart_tsi +tty=/dev/ttyxx  +no_hart0_msip +init_read=0x80000000 none\n",
      "       ./uart_tsi +tty=/dev/ttyxx  +selfcheck <bin>\n",
      "       ./uart_tsi +tty=/dev/ttyxx  +baudrate=921600 <bin>\n",
      "Attempting to open TTY at /dev/ttyUSB1\n",
      "Warning: You selected a non-standard baudrate. This will only work if the HW was configured with this baud-rate\n",
      "Checking connection status with /dev/ttyUSB1\n",
      "Connection succeeded\n",
      "Done, shutting down, flushing UART\n",
      "WARNING: You should probably reset the target before running this program again\n",
      "Done: now reset during the sleep before next iteration\n",
      "**Voltage set to: +9.50000000E-01\n",
      "V**\n"
     ]
    },
    {
     "name": "stderr",
     "output_type": "stream",
     "text": [
      "warning: tohost and fromhost symbols not in ELF; can't communicate with target\n",
      "Writing 14006c with c\n",
      "Done writing 14006c with c\n"
     ]
    },
    {
     "name": "stdout",
     "output_type": "stream",
     "text": [
      "Starting UART-based TSI\n",
      "Usage: ./uart_tsi +tty=/dev/pts/xx <PLUSARGS> <bin>\n",
      "       ./uart_tsi +tty=/dev/ttyxx  <PLUSARGS> <bin>\n",
      "       ./uart_tsi +tty=/dev/ttyxx  +no_hart0_msip +init_write=0x80000000:0xdeadbeef none\n",
      "       ./uart_tsi +tty=/dev/ttyxx  +no_hart0_msip +init_read=0x80000000 none\n",
      "       ./uart_tsi +tty=/dev/ttyxx  +selfcheck <bin>\n",
      "       ./uart_tsi +tty=/dev/ttyxx  +baudrate=921600 <bin>\n",
      "Attempting to open TTY at /dev/ttyUSB1\n",
      "Warning: You selected a non-standard baudrate. This will only work if the HW was configured with this baud-rate\n",
      "Checking connection status with /dev/ttyUSB1\n",
      "Connection succeeded\n",
      "Done, shutting down, flushing UART\n",
      "WARNING: You should probably reset the target before running this program again\n",
      "Done: now reset during the sleep before next iteration\n",
      "**Voltage set to: +1.00000000E+00\n",
      "V**\n"
     ]
    },
    {
     "name": "stderr",
     "output_type": "stream",
     "text": [
      "warning: tohost and fromhost symbols not in ELF; can't communicate with target\n",
      "Writing 14006c with c\n",
      "Done writing 14006c with c\n"
     ]
    },
    {
     "name": "stdout",
     "output_type": "stream",
     "text": [
      "b'0 4400 4600 4800 4900 4a00 4b00 4c00 4c80 4d00 4d80 4e00 4e80 4f00 4f80 5000 \\r\\n'\n",
      "Starting UART-based TSI\n",
      "Usage: ./uart_tsi +tty=/dev/pts/xx <PLUSARGS> <bin>\n",
      "       ./uart_tsi +tty=/dev/ttyxx  <PLUSARGS> <bin>\n",
      "       ./uart_tsi +tty=/dev/ttyxx  +no_hart0_msip +init_write=0x80000000:0xdeadbeef none\n",
      "       ./uart_tsi +tty=/dev/ttyxx  +no_hart0_msip +init_read=0x80000000 none\n",
      "       ./uart_tsi +tty=/dev/ttyxx  +selfcheck <bin>\n",
      "       ./uart_tsi +tty=/dev/ttyxx  +baudrate=921600 <bin>\n",
      "Attempting to open TTY at /dev/ttyUSB1\n",
      "Warning: You selected a non-standard baudrate. This will only work if the HW was configured with this baud-rate\n",
      "Checking connection status with /dev/ttyUSB1\n",
      "Connection succeeded\n",
      "Done, shutting down, flushing UART\n",
      "WARNING: You should probably reset the target before running this program again\n",
      "Done: now reset during the sleep before next iteration\n",
      "**Voltage set to: +1.05000000E+00\n",
      "V**\n"
     ]
    },
    {
     "name": "stderr",
     "output_type": "stream",
     "text": [
      "warning: tohost and fromhost symbols not in ELF; can't communicate with target\n",
      "Writing 14006c with c\n",
      "Done writing 14006c with c\n"
     ]
    },
    {
     "name": "stdout",
     "output_type": "stream",
     "text": [
      "b'0 4400 4600 4800 4900 4a00 4b00 4c00 4c80 4d00 4d80 4e00 4e80 4f00 4f80 5000 \\r\\n'\n",
      "Starting UART-based TSI\n",
      "Usage: ./uart_tsi +tty=/dev/pts/xx <PLUSARGS> <bin>\n",
      "       ./uart_tsi +tty=/dev/ttyxx  <PLUSARGS> <bin>\n",
      "       ./uart_tsi +tty=/dev/ttyxx  +no_hart0_msip +init_write=0x80000000:0xdeadbeef none\n",
      "       ./uart_tsi +tty=/dev/ttyxx  +no_hart0_msip +init_read=0x80000000 none\n",
      "       ./uart_tsi +tty=/dev/ttyxx  +selfcheck <bin>\n",
      "       ./uart_tsi +tty=/dev/ttyxx  +baudrate=921600 <bin>\n",
      "Attempting to open TTY at /dev/ttyUSB1\n",
      "Warning: You selected a non-standard baudrate. This will only work if the HW was configured with this baud-rate\n",
      "Checking connection status with /dev/ttyUSB1\n",
      "Connection succeeded\n",
      "Done, shutting down, flushing UART\n",
      "WARNING: You should probably reset the target before running this program again\n",
      "Done: now reset during the sleep before next iteration\n",
      "**Voltage set to: +1.10000000E+00\n",
      "V**\n"
     ]
    },
    {
     "name": "stderr",
     "output_type": "stream",
     "text": [
      "warning: tohost and fromhost symbols not in ELF; can't communicate with target\n",
      "Writing 14006c with c\n",
      "Done writing 14006c with c\n"
     ]
    },
    {
     "name": "stdout",
     "output_type": "stream",
     "text": [
      "b'0 4400 4600 4800 4900 4a00 4b00 4c00 4c80 4d00 4d80 4e00 4e80 4f00 4f80 5000 \\r\\n'\n",
      "Starting UART-based TSI\n",
      "Usage: ./uart_tsi +tty=/dev/pts/xx <PLUSARGS> <bin>\n",
      "       ./uart_tsi +tty=/dev/ttyxx  <PLUSARGS> <bin>\n",
      "       ./uart_tsi +tty=/dev/ttyxx  +no_hart0_msip +init_write=0x80000000:0xdeadbeef none\n",
      "       ./uart_tsi +tty=/dev/ttyxx  +no_hart0_msip +init_read=0x80000000 none\n",
      "       ./uart_tsi +tty=/dev/ttyxx  +selfcheck <bin>\n",
      "       ./uart_tsi +tty=/dev/ttyxx  +baudrate=921600 <bin>\n",
      "Attempting to open TTY at /dev/ttyUSB1\n",
      "Warning: You selected a non-standard baudrate. This will only work if the HW was configured with this baud-rate\n",
      "Checking connection status with /dev/ttyUSB1\n",
      "Connection succeeded\n",
      "Done, shutting down, flushing UART\n",
      "WARNING: You should probably reset the target before running this program again\n",
      "Done: now reset during the sleep before next iteration\n",
      "**Voltage set to: +1.15000000E+00\n",
      "V**\n"
     ]
    },
    {
     "name": "stderr",
     "output_type": "stream",
     "text": [
      "warning: tohost and fromhost symbols not in ELF; can't communicate with target\n",
      "Writing 14006c with c\n",
      "Done writing 14006c with c\n"
     ]
    },
    {
     "name": "stdout",
     "output_type": "stream",
     "text": [
      "b'0 4400 4600 4800 4900 4a00 4b00 4c00 4c80 4d00 4d80 4e00 4e80 4f00 4f80 5000 \\r\\n'\n",
      "Starting UART-based TSI\n",
      "Usage: ./uart_tsi +tty=/dev/pts/xx <PLUSARGS> <bin>\n",
      "       ./uart_tsi +tty=/dev/ttyxx  <PLUSARGS> <bin>\n",
      "       ./uart_tsi +tty=/dev/ttyxx  +no_hart0_msip +init_write=0x80000000:0xdeadbeef none\n",
      "       ./uart_tsi +tty=/dev/ttyxx  +no_hart0_msip +init_read=0x80000000 none\n",
      "       ./uart_tsi +tty=/dev/ttyxx  +selfcheck <bin>\n",
      "       ./uart_tsi +tty=/dev/ttyxx  +baudrate=921600 <bin>\n",
      "Attempting to open TTY at /dev/ttyUSB1\n",
      "Warning: You selected a non-standard baudrate. This will only work if the HW was configured with this baud-rate\n",
      "Checking connection status with /dev/ttyUSB1\n",
      "Connection succeeded\n",
      "Done, shutting down, flushing UART\n",
      "WARNING: You should probably reset the target before running this program again\n",
      "Done: now reset during the sleep before next iteration\n",
      "**Voltage set to: +1.20000000E+00\n",
      "V**\n"
     ]
    },
    {
     "name": "stderr",
     "output_type": "stream",
     "text": [
      "warning: tohost and fromhost symbols not in ELF; can't communicate with target\n",
      "Writing 14006c with c\n",
      "Done writing 14006c with c\n"
     ]
    },
    {
     "name": "stdout",
     "output_type": "stream",
     "text": [
      "Starting UART-based TSI\n",
      "Usage: ./uart_tsi +tty=/dev/pts/xx <PLUSARGS> <bin>\n",
      "       ./uart_tsi +tty=/dev/ttyxx  <PLUSARGS> <bin>\n",
      "       ./uart_tsi +tty=/dev/ttyxx  +no_hart0_msip +init_write=0x80000000:0xdeadbeef none\n",
      "       ./uart_tsi +tty=/dev/ttyxx  +no_hart0_msip +init_read=0x80000000 none\n",
      "       ./uart_tsi +tty=/dev/ttyxx  +selfcheck <bin>\n",
      "       ./uart_tsi +tty=/dev/ttyxx  +baudrate=921600 <bin>\n",
      "Attempting to open TTY at /dev/ttyUSB1\n",
      "Warning: You selected a non-standard baudrate. This will only work if the HW was configured with this baud-rate\n",
      "Checking connection status with /dev/ttyUSB1\n",
      "Connection succeeded\n",
      "Done, shutting down, flushing UART\n",
      "WARNING: You should probably reset the target before running this program again\n",
      "Done: now reset during the sleep before next iteration\n",
      "rm -rf build\n",
      "cmake -S ./ -B ./build/ -D CMAKE_TOOLCHAIN_FILE=./riscv-gcc.cmake -DCHIP=dsp24\n",
      "-- The ASM compiler identification is GNU\n",
      "-- Found assembler: /tools/C/ee290-fa24-2/.conda-env/riscv-tools/bin/riscv64-unknown-elf-gcc\n",
      "-- The C compiler identification is GNU 13.2.0\n",
      "-- The CXX compiler identification is GNU 13.2.0\n",
      "-- Detecting C compiler ABI info\n",
      "-- Detecting C compiler ABI info - done\n",
      "-- Check for working C compiler: /tools/C/ee290-fa24-2/.conda-env/riscv-tools/bin/riscv64-unknown-elf-gcc - skipped\n",
      "-- Detecting C compile features\n",
      "-- Detecting C compile features - done\n",
      "-- Detecting CXX compiler ABI info\n",
      "-- Detecting CXX compiler ABI info - done\n",
      "-- Check for working CXX compiler: /tools/C/ee290-fa24-2/.conda-env/riscv-tools/bin/riscv64-unknown-elf-g++ - skipped\n",
      "-- Detecting CXX compile features\n",
      "-- Detecting CXX compile features - done\n",
      "-- Including HTIF to target\n",
      "-- Including CLINT to target\n",
      "-- ================ Glossy config ================\n",
      "--  Building for CHIP: \"dsp24\"\n",
      "--  Reading config from \"/tools/C/tedkim7/sp24-Baremetal-IDE/platform/dsp24/CMakeLists.txt\"\n",
      "--  Terminal Device: UART0\n",
      "--  Linker Script: /tools/C/tedkim7/sp24-Baremetal-IDE/platform/dsp24/dsp24.ld\n",
      "-- ===============================================\n",
      "-- Configuring done (3.4s)\n",
      "-- Generating done (1.5s)\n",
      "-- Build files have been written to: /tools/C/tedkim7/sp24-Baremetal-IDE/build\n",
      "cmake --build ./build/ --target shmoo_bench\n",
      "gmake[1]: Entering directory '/bwrcq/C/tedkim7/sp24-Baremetal-IDE/build'\n",
      "gmake[2]: Entering directory '/bwrcq/C/tedkim7/sp24-Baremetal-IDE/build'\n",
      "gmake[3]: Entering directory '/bwrcq/C/tedkim7/sp24-Baremetal-IDE/build'\n",
      "gmake[4]: Entering directory '/bwrcq/C/tedkim7/sp24-Baremetal-IDE/build'\n",
      "gmake[4]: Leaving directory '/bwrcq/C/tedkim7/sp24-Baremetal-IDE/build'\n",
      "gmake[4]: Entering directory '/bwrcq/C/tedkim7/sp24-Baremetal-IDE/build'\n",
      "[  2%] \u001b[32mBuilding C object driver/rocket-chip-blocks/uart/CMakeFiles/uart.dir/uart.c.obj\u001b[0m\n"
     ]
    },
    {
     "name": "stderr",
     "output_type": "stream",
     "text": [
      "/tools/C/tedkim7/sp24-Baremetal-IDE/driver/rocket-chip-blocks/uart/uart.c: In function 'uart_receive':\n",
      "/tools/C/tedkim7/sp24-Baremetal-IDE/driver/rocket-chip-blocks/uart/uart.c:35:78: warning: unused parameter 'timeout' [-Wunused-parameter]\n",
      "   35 | Status uart_receive(UART_Type *UARTx, uint8_t *data, uint16_t size, uint32_t timeout) {\n",
      "      |                                                                     ~~~~~~~~~^~~~~~~\n",
      "/tools/C/tedkim7/sp24-Baremetal-IDE/driver/rocket-chip-blocks/uart/uart.c: In function 'uart_transmit':\n",
      "/tools/C/tedkim7/sp24-Baremetal-IDE/driver/rocket-chip-blocks/uart/uart.c:50:85: warning: unused parameter 'timeout' [-Wunused-parameter]\n",
      "   50 | Status uart_transmit(UART_Type *UARTx, const uint8_t *data, uint16_t size, uint32_t timeout) {\n",
      "      |                                                                            ~~~~~~~~~^~~~~~~\n"
     ]
    },
    {
     "name": "stdout",
     "output_type": "stream",
     "text": [
      "[  5%] \u001b[32m\u001b[1mLinking C static library libuart.a\u001b[0m\n",
      "gmake[4]: Leaving directory '/bwrcq/C/tedkim7/sp24-Baremetal-IDE/build'\n",
      "[  5%] Built target uart\n",
      "gmake[4]: Entering directory '/bwrcq/C/tedkim7/sp24-Baremetal-IDE/build'\n",
      "gmake[4]: Leaving directory '/bwrcq/C/tedkim7/sp24-Baremetal-IDE/build'\n",
      "gmake[4]: Entering directory '/bwrcq/C/tedkim7/sp24-Baremetal-IDE/build'\n",
      "[  7%] \u001b[32mBuilding C object driver/intel/pll/CMakeFiles/intel-pll.dir/pll.c.obj\u001b[0m\n",
      "[ 10%] \u001b[32m\u001b[1mLinking C static library libintel-pll.a\u001b[0m\n",
      "gmake[4]: Leaving directory '/bwrcq/C/tedkim7/sp24-Baremetal-IDE/build'\n",
      "[ 10%] Built target intel-pll\n",
      "gmake[4]: Entering directory '/bwrcq/C/tedkim7/sp24-Baremetal-IDE/build'\n",
      "gmake[4]: Leaving directory '/bwrcq/C/tedkim7/sp24-Baremetal-IDE/build'\n",
      "gmake[4]: Entering directory '/bwrcq/C/tedkim7/sp24-Baremetal-IDE/build'\n",
      "[ 12%] \u001b[32mBuilding C object driver/rocket-chip/clint/CMakeFiles/clint.dir/clint.c.obj\u001b[0m\n",
      "[ 15%] \u001b[32m\u001b[1mLinking C static library libclint.a\u001b[0m\n",
      "gmake[4]: Leaving directory '/bwrcq/C/tedkim7/sp24-Baremetal-IDE/build'\n",
      "[ 15%] Built target clint\n",
      "gmake[4]: Entering directory '/bwrcq/C/tedkim7/sp24-Baremetal-IDE/build'\n",
      "gmake[4]: Leaving directory '/bwrcq/C/tedkim7/sp24-Baremetal-IDE/build'\n",
      "gmake[4]: Entering directory '/bwrcq/C/tedkim7/sp24-Baremetal-IDE/build'\n",
      "[ 17%] \u001b[32mBuilding C object driver/rocket-chip/rocketcore/CMakeFiles/rocketcore.dir/rocketcore.c.obj\u001b[0m\n",
      "[ 20%] \u001b[32m\u001b[1mLinking C static library librocketcore.a\u001b[0m\n",
      "gmake[4]: Leaving directory '/bwrcq/C/tedkim7/sp24-Baremetal-IDE/build'\n",
      "[ 20%] Built target rocketcore\n",
      "gmake[4]: Entering directory '/bwrcq/C/tedkim7/sp24-Baremetal-IDE/build'\n",
      "gmake[4]: Leaving directory '/bwrcq/C/tedkim7/sp24-Baremetal-IDE/build'\n",
      "gmake[4]: Entering directory '/bwrcq/C/tedkim7/sp24-Baremetal-IDE/build'\n",
      "[ 23%] \u001b[32mBuilding C object driver/rocket-chip-blocks/i2c/CMakeFiles/i2c.dir/i2c.c.obj\u001b[0m\n"
     ]
    },
    {
     "name": "stderr",
     "output_type": "stream",
     "text": [
      "/tools/C/tedkim7/sp24-Baremetal-IDE/driver/rocket-chip-blocks/i2c/i2c.c: In function 'i2c_init':\n",
      "/tools/C/tedkim7/sp24-Baremetal-IDE/driver/rocket-chip-blocks/i2c/i2c.c:13:45: warning: unused parameter 'I2C_init' [-Wunused-parameter]\n",
      "   13 | void i2c_init(I2C_Type *I2Cx, I2C_InitType *I2C_init) {\n",
      "      |                               ~~~~~~~~~~~~~~^~~~~~~~\n",
      "/tools/C/tedkim7/sp24-Baremetal-IDE/driver/rocket-chip-blocks/i2c/i2c.c: In function 'i2c_wait_for_flag':\n",
      "/tools/C/tedkim7/sp24-Baremetal-IDE/driver/rocket-chip-blocks/i2c/i2c.c:30:9: warning: implicit declaration of function 'CLINT_getTime' [-Wimplicit-function-declaration]\n",
      "   30 |     if (CLINT_getTime() > (timestart + timeout)) {\n",
      "      |         ^~~~~~~~~~~~~\n",
      "/tools/C/tedkim7/sp24-Baremetal-IDE/driver/rocket-chip-blocks/i2c/i2c.c:30:25: warning: comparison of integer expressions of different signedness: 'int' and 'uint32_t' {aka 'unsigned int'} [-Wsign-compare]\n",
      "   30 |     if (CLINT_getTime() > (timestart + timeout)) {\n",
      "      |                         ^\n",
      "/tools/C/tedkim7/sp24-Baremetal-IDE/driver/rocket-chip-blocks/i2c/i2c.c: In function 'i2c_master_receive':\n",
      "/tools/C/tedkim7/sp24-Baremetal-IDE/driver/rocket-chip-blocks/i2c/i2c.c:53:24: warning: implicit declaration of function 'clint_get_time' [-Wimplicit-function-declaration]\n",
      "   53 |   uint64_t timestart = clint_get_time();\n",
      "      |                        ^~~~~~~~~~~~~~\n",
      "/tools/C/tedkim7/sp24-Baremetal-IDE/driver/rocket-chip-blocks/i2c/i2c.c: In function 'i2c_wait_for_transaction':\n",
      "/tools/C/tedkim7/sp24-Baremetal-IDE/driver/rocket-chip-blocks/i2c/i2c.c:50:1: warning: control reaches end of non-void function [-Wreturn-type]\n",
      "   50 | }\n",
      "      | ^\n"
     ]
    },
    {
     "name": "stdout",
     "output_type": "stream",
     "text": [
      "[ 25%] \u001b[32m\u001b[1mLinking C static library libi2c.a\u001b[0m\n",
      "gmake[4]: Leaving directory '/bwrcq/C/tedkim7/sp24-Baremetal-IDE/build'\n",
      "[ 25%] Built target i2c\n",
      "gmake[4]: Entering directory '/bwrcq/C/tedkim7/sp24-Baremetal-IDE/build'\n",
      "gmake[4]: Leaving directory '/bwrcq/C/tedkim7/sp24-Baremetal-IDE/build'\n",
      "gmake[4]: Entering directory '/bwrcq/C/tedkim7/sp24-Baremetal-IDE/build'\n",
      "[ 28%] \u001b[32mBuilding C object driver/rocket-chip-blocks/spi/CMakeFiles/spi.dir/spi.c.obj\u001b[0m\n"
     ]
    },
    {
     "name": "stderr",
     "output_type": "stream",
     "text": [
      "/tools/C/tedkim7/sp24-Baremetal-IDE/driver/rocket-chip-blocks/spi/spi.c: In function 'spi_receive':\n",
      "/tools/C/tedkim7/sp24-Baremetal-IDE/driver/rocket-chip-blocks/spi/spi.c:56:75: warning: unused parameter 'timeout' [-Wunused-parameter]\n",
      "   56 | Status spi_receive(SPI_Type *SPIx, uint8_t *data, uint16_t size, uint64_t timeout) {\n",
      "      |                                                                  ~~~~~~~~~^~~~~~~\n",
      "/tools/C/tedkim7/sp24-Baremetal-IDE/driver/rocket-chip-blocks/spi/spi.c: In function 'spi_transmit':\n",
      "/tools/C/tedkim7/sp24-Baremetal-IDE/driver/rocket-chip-blocks/spi/spi.c:68:76: warning: unused parameter 'timeout' [-Wunused-parameter]\n",
      "   68 | Status spi_transmit(SPI_Type *SPIx, uint8_t *data, uint16_t size, uint64_t timeout) {\n",
      "      |                                                                   ~~~~~~~~~^~~~~~~\n",
      "/tools/C/tedkim7/sp24-Baremetal-IDE/driver/rocket-chip-blocks/spi/spi.c: In function 'spi_transmit_receive':\n",
      "/tools/C/tedkim7/sp24-Baremetal-IDE/driver/rocket-chip-blocks/spi/spi.c:80:105: warning: unused parameter 'timeout' [-Wunused-parameter]\n",
      "   80 | Status spi_transmit_receive(SPI_Type *SPIx, uint8_t *tx_data, uint8_t *rx_data, uint16_t size, uint64_t timeout) {\n",
      "      |                                                                                                ~~~~~~~~~^~~~~~~\n"
     ]
    },
    {
     "name": "stdout",
     "output_type": "stream",
     "text": [
      "[ 30%] \u001b[32m\u001b[1mLinking C static library libspi.a\u001b[0m\n",
      "gmake[4]: Leaving directory '/bwrcq/C/tedkim7/sp24-Baremetal-IDE/build'\n",
      "[ 30%] Built target spi\n",
      "gmake[4]: Entering directory '/bwrcq/C/tedkim7/sp24-Baremetal-IDE/build'\n",
      "gmake[4]: Leaving directory '/bwrcq/C/tedkim7/sp24-Baremetal-IDE/build'\n",
      "gmake[4]: Entering directory '/bwrcq/C/tedkim7/sp24-Baremetal-IDE/build'\n",
      "[ 33%] \u001b[32mBuilding C object platform/dsp24/CMakeFiles/chip-config.dir/chip.c.obj\u001b[0m\n",
      "[ 35%] \u001b[32mBuilding C object platform/dsp24/CMakeFiles/chip-config.dir/src/hal_DMA.c.obj\u001b[0m\n"
     ]
    },
    {
     "name": "stderr",
     "output_type": "stream",
     "text": [
      "/tools/C/tedkim7/sp24-Baremetal-IDE/platform/dsp24/src/hal_DMA.c: In function 'set_DMAP':\n",
      "/tools/C/tedkim7/sp24-Baremetal-IDE/platform/dsp24/src/hal_DMA.c:24:53: warning: passing argument 2 of 'reg_write64' makes integer from pointer without a cast [-Wint-conversion]\n",
      "   24 |     reg_write64(DMA_SET_READ + num*DMA_MMIO_Offset, addr_r);\n",
      "      |                                                     ^~~~~~\n",
      "      |                                                     |\n",
      "      |                                                     uint64_t * {aka long unsigned int *}\n",
      "In file included from /tools/C/tedkim7/sp24-Baremetal-IDE/platform/dsp24/inc/hal_DMA.h:10,\n",
      "                 from /tools/C/tedkim7/sp24-Baremetal-IDE/platform/dsp24/src/hal_DMA.c:1:\n",
      "/tools/C/tedkim7/sp24-Baremetal-IDE/platform/dsp24/inc/hal_mmio.h:23:47: note: expected 'uint64_t' {aka 'long unsigned int'} but argument is of type 'uint64_t *' {aka 'long unsigned int *'}\n",
      "   23 | void reg_write64(unsigned long addr, uint64_t data);\n",
      "      |                                      ~~~~~~~~~^~~~\n",
      "/tools/C/tedkim7/sp24-Baremetal-IDE/platform/dsp24/src/hal_DMA.c:25:54: warning: passing argument 2 of 'reg_write64' makes integer from pointer without a cast [-Wint-conversion]\n",
      "   25 |     reg_write64(DMA_SET_WRITE + num*DMA_MMIO_Offset, addr_w);\n",
      "      |                                                      ^~~~~~\n",
      "      |                                                      |\n",
      "      |                                                      uint64_t * {aka long unsigned int *}\n",
      "/tools/C/tedkim7/sp24-Baremetal-IDE/platform/dsp24/inc/hal_mmio.h:23:47: note: expected 'uint64_t' {aka 'long unsigned int'} but argument is of type 'uint64_t *' {aka 'long unsigned int *'}\n",
      "   23 | void reg_write64(unsigned long addr, uint64_t data);\n",
      "      |                                      ~~~~~~~~~^~~~\n",
      "/tools/C/tedkim7/sp24-Baremetal-IDE/platform/dsp24/src/hal_DMA.c:26:50: warning: passing argument 2 of 'reg_write64' makes integer from pointer without a cast [-Wint-conversion]\n",
      "   26 |     reg_write64(DMA_SET_C + num*DMA_MMIO_Offset, addr_c);\n",
      "      |                                                  ^~~~~~\n",
      "      |                                                  |\n",
      "      |                                                  uint64_t * {aka long unsigned int *}\n",
      "/tools/C/tedkim7/sp24-Baremetal-IDE/platform/dsp24/inc/hal_mmio.h:23:47: note: expected 'uint64_t' {aka 'long unsigned int'} but argument is of type 'uint64_t *' {aka 'long unsigned int *'}\n",
      "   23 | void reg_write64(unsigned long addr, uint64_t data);\n",
      "      |                                      ~~~~~~~~~^~~~\n"
     ]
    },
    {
     "name": "stdout",
     "output_type": "stream",
     "text": [
      "[ 38%] \u001b[32mBuilding C object platform/dsp24/CMakeFiles/chip-config.dir/src/hal_I2S.c.obj\u001b[0m\n"
     ]
    },
    {
     "name": "stderr",
     "output_type": "stream",
     "text": [
      "/tools/C/tedkim7/sp24-Baremetal-IDE/platform/dsp24/src/hal_I2S.c: In function 'write_I2S_tx_DMA':\n",
      "/tools/C/tedkim7/sp24-Baremetal-IDE/platform/dsp24/src/hal_I2S.c:49:9: warning: implicit declaration of function 'printf' [-Wimplicit-function-declaration]\n",
      "   49 |         printf(\"Writing to left queue\\n\");\n",
      "      |         ^~~~~~\n",
      "/tools/C/tedkim7/sp24-Baremetal-IDE/platform/dsp24/src/hal_I2S.c:3:1: note: include '<stdio.h>' or provide a declaration of 'printf'\n",
      "    2 | #include  \"hal_mmio.h\"\n",
      "  +++ |+#include <stdio.h>\n",
      "    3 | \n",
      "/tools/C/tedkim7/sp24-Baremetal-IDE/platform/dsp24/src/hal_I2S.c:49:9: warning: incompatible implicit declaration of built-in function 'printf' [-Wbuiltin-declaration-mismatch]\n",
      "   49 |         printf(\"Writing to left queue\\n\");\n",
      "      |         ^~~~~~\n",
      "/tools/C/tedkim7/sp24-Baremetal-IDE/platform/dsp24/src/hal_I2S.c:49:9: note: include '<stdio.h>' or provide a declaration of 'printf'\n",
      "In file included from /tools/C/tedkim7/sp24-Baremetal-IDE/platform/dsp24/src/hal_I2S.c:1:\n",
      "/tools/C/tedkim7/sp24-Baremetal-IDE/platform/dsp24/inc/hal_I2S.h:13:37: warning: passing argument 3 of 'set_DMAP' makes pointer from integer without a cast [-Wint-conversion]\n",
      "   13 | #define I2S_BASE                    0x10042000U\n",
      "      |                                     ^\n",
      "      |                                     |\n",
      "      |                                     unsigned int\n",
      "/tools/C/tedkim7/sp24-Baremetal-IDE/platform/dsp24/inc/hal_I2S.h:26:37: note: in expansion of macro 'I2S_BASE'\n",
      "   26 | #define I2S_TX_L                    I2S_BASE + 0x20\n",
      "      |                                     ^~~~~~~~\n",
      "/tools/C/tedkim7/sp24-Baremetal-IDE/platform/dsp24/src/hal_I2S.c:50:38: note: in expansion of macro 'I2S_TX_L'\n",
      "   50 |         set_DMAP(dma_num, read_addr, I2S_TX_L, I2S_WATERMARK_TX_L, 8, 0, length, 3, poll);\n",
      "      |                                      ^~~~~~~~\n",
      "In file included from /tools/C/tedkim7/sp24-Baremetal-IDE/platform/dsp24/inc/hal_I2S.h:9:\n",
      "/tools/C/tedkim7/sp24-Baremetal-IDE/platform/dsp24/inc/hal_DMA.h:37:57: note: expected 'uint64_t *' {aka 'long unsigned int *'} but argument is of type 'unsigned int'\n",
      "   37 | void set_DMAP(uint32_t num, uint64_t* addr_r, uint64_t* addr_w, uint64_t* addr_c, uint16_t inc_r, uint16_t inc_w, uint16_t len, uint8_t logd, uint32_t count);\n",
      "      |                                               ~~~~~~~~~~^~~~~~\n",
      "/tools/C/tedkim7/sp24-Baremetal-IDE/platform/dsp24/inc/hal_I2S.h:13:37: warning: passing argument 4 of 'set_DMAP' makes pointer from integer without a cast [-Wint-conversion]\n",
      "   13 | #define I2S_BASE                    0x10042000U\n",
      "      |                                     ^\n",
      "      |                                     |\n",
      "      |                                     unsigned int\n",
      "/tools/C/tedkim7/sp24-Baremetal-IDE/platform/dsp24/inc/hal_I2S.h:18:37: note: in expansion of macro 'I2S_BASE'\n",
      "   18 | #define I2S_WATERMARK_TX_L          I2S_BASE + 0x100\n",
      "      |                                     ^~~~~~~~\n",
      "/tools/C/tedkim7/sp24-Baremetal-IDE/platform/dsp24/src/hal_I2S.c:50:48: note: in expansion of macro 'I2S_WATERMARK_TX_L'\n",
      "   50 |         set_DMAP(dma_num, read_addr, I2S_TX_L, I2S_WATERMARK_TX_L, 8, 0, length, 3, poll);\n",
      "      |                                                ^~~~~~~~~~~~~~~~~~\n",
      "/tools/C/tedkim7/sp24-Baremetal-IDE/platform/dsp24/inc/hal_DMA.h:37:75: note: expected 'uint64_t *' {aka 'long unsigned int *'} but argument is of type 'unsigned int'\n",
      "   37 | void set_DMAP(uint32_t num, uint64_t* addr_r, uint64_t* addr_w, uint64_t* addr_c, uint16_t inc_r, uint16_t inc_w, uint16_t len, uint8_t logd, uint32_t count);\n",
      "      |                                                                 ~~~~~~~~~~^~~~~~\n",
      "/tools/C/tedkim7/sp24-Baremetal-IDE/platform/dsp24/src/hal_I2S.c:52:9: warning: incompatible implicit declaration of built-in function 'printf' [-Wbuiltin-declaration-mismatch]\n",
      "   52 |         printf(\"Writing to right queue\\n\");\n",
      "      |         ^~~~~~\n",
      "/tools/C/tedkim7/sp24-Baremetal-IDE/platform/dsp24/src/hal_I2S.c:52:9: note: include '<stdio.h>' or provide a declaration of 'printf'\n",
      "/tools/C/tedkim7/sp24-Baremetal-IDE/platform/dsp24/inc/hal_I2S.h:13:37: warning: passing argument 3 of 'set_DMAP' makes pointer from integer without a cast [-Wint-conversion]\n",
      "   13 | #define I2S_BASE                    0x10042000U\n",
      "      |                                     ^\n",
      "      |                                     |\n",
      "      |                                     unsigned int\n",
      "/tools/C/tedkim7/sp24-Baremetal-IDE/platform/dsp24/inc/hal_I2S.h:27:37: note: in expansion of macro 'I2S_BASE'\n",
      "   27 | #define I2S_TX_R                    I2S_BASE + 0x28\n",
      "      |                                     ^~~~~~~~\n",
      "/tools/C/tedkim7/sp24-Baremetal-IDE/platform/dsp24/src/hal_I2S.c:53:38: note: in expansion of macro 'I2S_TX_R'\n",
      "   53 |         set_DMAP(dma_num, read_addr, I2S_TX_R, I2S_WATERMARK_TX_R, 8, 0, length, 3, poll);\n",
      "      |                                      ^~~~~~~~\n",
      "/tools/C/tedkim7/sp24-Baremetal-IDE/platform/dsp24/inc/hal_DMA.h:37:57: note: expected 'uint64_t *' {aka 'long unsigned int *'} but argument is of type 'unsigned int'\n",
      "   37 | void set_DMAP(uint32_t num, uint64_t* addr_r, uint64_t* addr_w, uint64_t* addr_c, uint16_t inc_r, uint16_t inc_w, uint16_t len, uint8_t logd, uint32_t count);\n",
      "      |                                               ~~~~~~~~~~^~~~~~\n",
      "/tools/C/tedkim7/sp24-Baremetal-IDE/platform/dsp24/inc/hal_I2S.h:13:37: warning: passing argument 4 of 'set_DMAP' makes pointer from integer without a cast [-Wint-conversion]\n",
      "   13 | #define I2S_BASE                    0x10042000U\n",
      "      |                                     ^\n",
      "      |                                     |\n",
      "      |                                     unsigned int\n",
      "/tools/C/tedkim7/sp24-Baremetal-IDE/platform/dsp24/inc/hal_I2S.h:19:37: note: in expansion of macro 'I2S_BASE'\n",
      "   19 | #define I2S_WATERMARK_TX_R          I2S_BASE + 0x101\n",
      "      |                                     ^~~~~~~~\n",
      "/tools/C/tedkim7/sp24-Baremetal-IDE/platform/dsp24/src/hal_I2S.c:53:48: note: in expansion of macro 'I2S_WATERMARK_TX_R'\n",
      "   53 |         set_DMAP(dma_num, read_addr, I2S_TX_R, I2S_WATERMARK_TX_R, 8, 0, length, 3, poll);\n",
      "      |                                                ^~~~~~~~~~~~~~~~~~\n",
      "/tools/C/tedkim7/sp24-Baremetal-IDE/platform/dsp24/inc/hal_DMA.h:37:75: note: expected 'uint64_t *' {aka 'long unsigned int *'} but argument is of type 'unsigned int'\n",
      "   37 | void set_DMAP(uint32_t num, uint64_t* addr_r, uint64_t* addr_w, uint64_t* addr_c, uint16_t inc_r, uint16_t inc_w, uint16_t len, uint8_t logd, uint32_t count);\n",
      "      |                                                                 ~~~~~~~~~~^~~~~~\n",
      "/tools/C/tedkim7/sp24-Baremetal-IDE/platform/dsp24/src/hal_I2S.c: In function 'read_I2S_rx_DMA':\n",
      "/tools/C/tedkim7/sp24-Baremetal-IDE/platform/dsp24/inc/hal_I2S.h:13:37: warning: passing argument 2 of 'set_DMAP' makes pointer from integer without a cast [-Wint-conversion]\n",
      "   13 | #define I2S_BASE                    0x10042000U\n",
      "      |                                     ^\n",
      "      |                                     |\n",
      "      |                                     unsigned int\n",
      "/tools/C/tedkim7/sp24-Baremetal-IDE/platform/dsp24/inc/hal_I2S.h:28:37: note: in expansion of macro 'I2S_BASE'\n",
      "   28 | #define I2S_RX_L                    I2S_BASE + 0x60\n",
      "      |                                     ^~~~~~~~\n",
      "/tools/C/tedkim7/sp24-Baremetal-IDE/platform/dsp24/src/hal_I2S.c:60:27: note: in expansion of macro 'I2S_RX_L'\n",
      "   60 |         set_DMAP(dma_num, I2S_RX_L, write_addr, I2S_WATERMARK_RX_L, 0, 8, length, 3, poll);\n",
      "      |                           ^~~~~~~~\n",
      "/tools/C/tedkim7/sp24-Baremetal-IDE/platform/dsp24/inc/hal_DMA.h:37:39: note: expected 'uint64_t *' {aka 'long unsigned int *'} but argument is of type 'unsigned int'\n",
      "   37 | void set_DMAP(uint32_t num, uint64_t* addr_r, uint64_t* addr_w, uint64_t* addr_c, uint16_t inc_r, uint16_t inc_w, uint16_t len, uint8_t logd, uint32_t count);\n",
      "      |                             ~~~~~~~~~~^~~~~~\n",
      "/tools/C/tedkim7/sp24-Baremetal-IDE/platform/dsp24/inc/hal_I2S.h:13:37: warning: passing argument 4 of 'set_DMAP' makes pointer from integer without a cast [-Wint-conversion]\n",
      "   13 | #define I2S_BASE                    0x10042000U\n",
      "      |                                     ^\n",
      "      |                                     |\n",
      "      |                                     unsigned int\n",
      "/tools/C/tedkim7/sp24-Baremetal-IDE/platform/dsp24/inc/hal_I2S.h:16:37: note: in expansion of macro 'I2S_BASE'\n",
      "   16 | #define I2S_WATERMARK_RX_L          I2S_BASE + 0x102\n",
      "      |                                     ^~~~~~~~\n",
      "/tools/C/tedkim7/sp24-Baremetal-IDE/platform/dsp24/src/hal_I2S.c:60:49: note: in expansion of macro 'I2S_WATERMARK_RX_L'\n",
      "   60 |         set_DMAP(dma_num, I2S_RX_L, write_addr, I2S_WATERMARK_RX_L, 0, 8, length, 3, poll);\n",
      "      |                                                 ^~~~~~~~~~~~~~~~~~\n",
      "/tools/C/tedkim7/sp24-Baremetal-IDE/platform/dsp24/inc/hal_DMA.h:37:75: note: expected 'uint64_t *' {aka 'long unsigned int *'} but argument is of type 'unsigned int'\n",
      "   37 | void set_DMAP(uint32_t num, uint64_t* addr_r, uint64_t* addr_w, uint64_t* addr_c, uint16_t inc_r, uint16_t inc_w, uint16_t len, uint8_t logd, uint32_t count);\n",
      "      |                                                                 ~~~~~~~~~~^~~~~~\n",
      "/tools/C/tedkim7/sp24-Baremetal-IDE/platform/dsp24/inc/hal_I2S.h:13:37: warning: passing argument 2 of 'set_DMAP' makes pointer from integer without a cast [-Wint-conversion]\n",
      "   13 | #define I2S_BASE                    0x10042000U\n",
      "      |                                     ^\n",
      "      |                                     |\n",
      "      |                                     unsigned int\n",
      "/tools/C/tedkim7/sp24-Baremetal-IDE/platform/dsp24/inc/hal_I2S.h:29:37: note: in expansion of macro 'I2S_BASE'\n",
      "   29 | #define I2S_RX_R                    I2S_BASE + 0x68\n",
      "      |                                     ^~~~~~~~\n",
      "/tools/C/tedkim7/sp24-Baremetal-IDE/platform/dsp24/src/hal_I2S.c:62:27: note: in expansion of macro 'I2S_RX_R'\n",
      "   62 |         set_DMAP(dma_num, I2S_RX_R, write_addr, I2S_WATERMARK_RX_R, 0, 8, length, 3, poll);\n",
      "      |                           ^~~~~~~~\n",
      "/tools/C/tedkim7/sp24-Baremetal-IDE/platform/dsp24/inc/hal_DMA.h:37:39: note: expected 'uint64_t *' {aka 'long unsigned int *'} but argument is of type 'unsigned int'\n",
      "   37 | void set_DMAP(uint32_t num, uint64_t* addr_r, uint64_t* addr_w, uint64_t* addr_c, uint16_t inc_r, uint16_t inc_w, uint16_t len, uint8_t logd, uint32_t count);\n",
      "      |                             ~~~~~~~~~~^~~~~~\n",
      "/tools/C/tedkim7/sp24-Baremetal-IDE/platform/dsp24/inc/hal_I2S.h:13:37: warning: passing argument 4 of 'set_DMAP' makes pointer from integer without a cast [-Wint-conversion]\n",
      "   13 | #define I2S_BASE                    0x10042000U\n",
      "      |                                     ^\n",
      "      |                                     |\n",
      "      |                                     unsigned int\n",
      "/tools/C/tedkim7/sp24-Baremetal-IDE/platform/dsp24/inc/hal_I2S.h:17:37: note: in expansion of macro 'I2S_BASE'\n",
      "   17 | #define I2S_WATERMARK_RX_R          I2S_BASE + 0x103\n",
      "      |                                     ^~~~~~~~\n",
      "/tools/C/tedkim7/sp24-Baremetal-IDE/platform/dsp24/src/hal_I2S.c:62:49: note: in expansion of macro 'I2S_WATERMARK_RX_R'\n",
      "   62 |         set_DMAP(dma_num, I2S_RX_R, write_addr, I2S_WATERMARK_RX_R, 0, 8, length, 3, poll);\n",
      "      |                                                 ^~~~~~~~~~~~~~~~~~\n",
      "/tools/C/tedkim7/sp24-Baremetal-IDE/platform/dsp24/inc/hal_DMA.h:37:75: note: expected 'uint64_t *' {aka 'long unsigned int *'} but argument is of type 'unsigned int'\n",
      "   37 | void set_DMAP(uint32_t num, uint64_t* addr_r, uint64_t* addr_w, uint64_t* addr_c, uint16_t inc_r, uint16_t inc_w, uint16_t len, uint8_t logd, uint32_t count);\n",
      "      |                                                                 ~~~~~~~~~~^~~~~~\n"
     ]
    },
    {
     "name": "stdout",
     "output_type": "stream",
     "text": [
      "[ 41%] \u001b[32mBuilding C object platform/dsp24/CMakeFiles/chip-config.dir/src/hal_conv.c.obj\u001b[0m\n"
     ]
    },
    {
     "name": "stderr",
     "output_type": "stream",
     "text": [
      "/tools/C/tedkim7/sp24-Baremetal-IDE/platform/dsp24/src/hal_conv.c: In function 'write_conv_dma':\n",
      "/tools/C/tedkim7/sp24-Baremetal-IDE/platform/dsp24/src/hal_conv.c:13:5: warning: implicit declaration of function 'set_DMAC' [-Wimplicit-function-declaration]\n",
      "   13 |     set_DMAC(dma_num, (uint64_t*) data, CONV_BASE, 8, 0, length/8, 3);\n",
      "      |     ^~~~~~~~\n",
      "/tools/C/tedkim7/sp24-Baremetal-IDE/platform/dsp24/src/hal_conv.c:14:5: warning: implicit declaration of function 'start_DMA' [-Wimplicit-function-declaration]\n",
      "   14 |     start_DMA(dma_num);\n",
      "      |     ^~~~~~~~~\n",
      "/tools/C/tedkim7/sp24-Baremetal-IDE/platform/dsp24/src/hal_conv.c: In function 'read_conv_dma_p':\n",
      "/tools/C/tedkim7/sp24-Baremetal-IDE/platform/dsp24/src/hal_conv.c:23:5: warning: implicit declaration of function 'set_DMAP' [-Wimplicit-function-declaration]\n",
      "   23 |     set_DMAP(dma_num, CONV_OUTPUT_ADDR, write_addr, READ_CHECK_ADDR, 0, 8, length/4, 3, 0);\n",
      "      |     ^~~~~~~~\n"
     ]
    },
    {
     "name": "stdout",
     "output_type": "stream",
     "text": [
      "[ 43%] \u001b[32mBuilding C object platform/dsp24/CMakeFiles/chip-config.dir/src/hal_fft.c.obj\u001b[0m\n"
     ]
    },
    {
     "name": "stderr",
     "output_type": "stream",
     "text": [
      "/tools/C/tedkim7/sp24-Baremetal-IDE/platform/dsp24/src/hal_fft.c: In function 'write_fft_dma':\n",
      "/tools/C/tedkim7/sp24-Baremetal-IDE/platform/dsp24/src/hal_fft.c:28:23: warning: passing argument 2 of 'set_DMAC' makes integer from pointer without a cast [-Wint-conversion]\n",
      "   28 |     set_DMAC(dma_num, data, FFT_INPUT, 8, 0, length/2, 3);\n",
      "      |                       ^~~~\n",
      "      |                       |\n",
      "      |                       uint64_t * {aka long unsigned int *}\n",
      "In file included from /tools/C/tedkim7/sp24-Baremetal-IDE/platform/dsp24/inc/hal_fft.h:9,\n",
      "                 from /tools/C/tedkim7/sp24-Baremetal-IDE/platform/dsp24/src/hal_fft.c:1:\n",
      "/tools/C/tedkim7/sp24-Baremetal-IDE/platform/dsp24/inc/hal_DMA.h:34:38: note: expected 'uint64_t' {aka 'long unsigned int'} but argument is of type 'uint64_t *' {aka 'long unsigned int *'}\n",
      "   34 | void set_DMAC(uint32_t num, uint64_t addr_r, uint64_t addr_w, uint16_t inc_r, uint16_t inc_w, uint16_t len, uint16_t logd);\n",
      "      |                             ~~~~~~~~~^~~~~~\n",
      "/tools/C/tedkim7/sp24-Baremetal-IDE/platform/dsp24/src/hal_fft.c: In function 'read_fft_dma':\n",
      "/tools/C/tedkim7/sp24-Baremetal-IDE/platform/dsp24/src/hal_fft.c:33:35: warning: passing argument 3 of 'set_DMAC' makes integer from pointer without a cast [-Wint-conversion]\n",
      "   33 |     set_DMAC(dma_num, FFT_OUTPUT, write_addr, 0, 8, length, 2);\n",
      "      |                                   ^~~~~~~~~~\n",
      "      |                                   |\n",
      "      |                                   uint64_t * {aka long unsigned int *}\n",
      "/tools/C/tedkim7/sp24-Baremetal-IDE/platform/dsp24/inc/hal_DMA.h:34:55: note: expected 'uint64_t' {aka 'long unsigned int'} but argument is of type 'uint64_t *' {aka 'long unsigned int *'}\n",
      "   34 | void set_DMAC(uint32_t num, uint64_t addr_r, uint64_t addr_w, uint16_t inc_r, uint16_t inc_w, uint16_t len, uint16_t logd);\n",
      "      |                                              ~~~~~~~~~^~~~~~\n",
      "/tools/C/tedkim7/sp24-Baremetal-IDE/platform/dsp24/src/hal_fft.c: In function 'read_fft_real_dma':\n",
      "/tools/C/tedkim7/sp24-Baremetal-IDE/platform/dsp24/src/hal_fft.c:38:35: warning: passing argument 3 of 'set_DMAC' makes integer from pointer without a cast [-Wint-conversion]\n",
      "   38 |     set_DMAC(dma_num, FFT_OUTPUT, write_addr, 0, 4, length, 1);\n",
      "      |                                   ^~~~~~~~~~\n",
      "      |                                   |\n",
      "      |                                   uint64_t * {aka long unsigned int *}\n",
      "/tools/C/tedkim7/sp24-Baremetal-IDE/platform/dsp24/inc/hal_DMA.h:34:55: note: expected 'uint64_t' {aka 'long unsigned int'} but argument is of type 'uint64_t *' {aka 'long unsigned int *'}\n",
      "   34 | void set_DMAC(uint32_t num, uint64_t addr_r, uint64_t addr_w, uint16_t inc_r, uint16_t inc_w, uint16_t len, uint16_t logd);\n",
      "      |                                              ~~~~~~~~~^~~~~~\n"
     ]
    },
    {
     "name": "stdout",
     "output_type": "stream",
     "text": [
      "[ 46%] \u001b[32mBuilding C object platform/dsp24/CMakeFiles/chip-config.dir/src/hal_mmio.c.obj\u001b[0m\n",
      "[ 48%] \u001b[32m\u001b[1mLinking C static library libchip-config.a\u001b[0m\n",
      "gmake[4]: Leaving directory '/bwrcq/C/tedkim7/sp24-Baremetal-IDE/build'\n",
      "[ 48%] Built target chip-config\n",
      "gmake[4]: Entering directory '/bwrcq/C/tedkim7/sp24-Baremetal-IDE/build'\n",
      "gmake[4]: Leaving directory '/bwrcq/C/tedkim7/sp24-Baremetal-IDE/build'\n",
      "gmake[4]: Entering directory '/bwrcq/C/tedkim7/sp24-Baremetal-IDE/build'\n",
      "[ 51%] \u001b[32mBuilding ASM object glossy/CMakeFiles/glossy.dir/src/startup/crt0.S.obj\u001b[0m\n",
      "[ 53%] \u001b[32mBuilding ASM object glossy/CMakeFiles/glossy.dir/src/startup/init.S.obj\u001b[0m\n",
      "[ 56%] \u001b[32mBuilding C object glossy/CMakeFiles/glossy.dir/src/startup/secondary.c.obj\u001b[0m\n",
      "[ 58%] \u001b[32mBuilding ASM object glossy/CMakeFiles/glossy.dir/src/trap/trap.S.obj\u001b[0m\n",
      "[ 61%] \u001b[32mBuilding C object glossy/CMakeFiles/glossy.dir/src/trap/trap.c.obj\u001b[0m\n"
     ]
    },
    {
     "name": "stderr",
     "output_type": "stream",
     "text": [
      "/tools/C/tedkim7/sp24-Baremetal-IDE/glossy/src/trap/trap.c: In function 'trap_handler':\n",
      "/tools/C/tedkim7/sp24-Baremetal-IDE/glossy/src/trap/trap.c:73:92: warning: unused parameter 'm_tval' [-Wunused-parameter]\n",
      "   73 | __attribute__((weak)) uintptr_t trap_handler(uintptr_t m_epc, uintptr_t m_cause, uintptr_t m_tval, uintptr_t regs[32]) {\n",
      "      |                                                                                  ~~~~~~~~~~^~~~~~\n",
      "/tools/C/tedkim7/sp24-Baremetal-IDE/glossy/src/trap/trap.c:73:110: warning: unused parameter 'regs' [-Wunused-parameter]\n",
      "   73 | __attribute__((weak)) uintptr_t trap_handler(uintptr_t m_epc, uintptr_t m_cause, uintptr_t m_tval, uintptr_t regs[32]) {\n",
      "      |                                                                                                    ~~~~~~~~~~^~~~~~~~\n"
     ]
    },
    {
     "name": "stdout",
     "output_type": "stream",
     "text": [
      "[ 64%] \u001b[32mBuilding C object glossy/CMakeFiles/glossy.dir/src/sys/close.c.obj\u001b[0m\n"
     ]
    },
    {
     "name": "stderr",
     "output_type": "stream",
     "text": [
      "/tools/C/tedkim7/sp24-Baremetal-IDE/glossy/src/sys/close.c: In function '_close':\n",
      "/tools/C/tedkim7/sp24-Baremetal-IDE/glossy/src/sys/close.c:2:38: warning: unused parameter 'file' [-Wunused-parameter]\n",
      "    2 | __attribute__((weak)) int _close(int file) {\n",
      "      |                                  ~~~~^~~~\n"
     ]
    },
    {
     "name": "stdout",
     "output_type": "stream",
     "text": [
      "[ 66%] \u001b[32mBuilding C object glossy/CMakeFiles/glossy.dir/src/sys/exit.c.obj\u001b[0m\n"
     ]
    },
    {
     "name": "stderr",
     "output_type": "stream",
     "text": [
      "/tools/C/tedkim7/sp24-Baremetal-IDE/glossy/src/sys/exit.c: In function '_exit':\n",
      "/tools/C/tedkim7/sp24-Baremetal-IDE/glossy/src/sys/exit.c:4:48: warning: unused parameter 'code' [-Wunused-parameter]\n",
      "    4 | __attribute__((weak, noreturn)) void _exit(int code) {\n",
      "      |                                            ~~~~^~~~\n"
     ]
    },
    {
     "name": "stdout",
     "output_type": "stream",
     "text": [
      "[ 69%] \u001b[32mBuilding C object glossy/CMakeFiles/glossy.dir/src/sys/fstat.c.obj\u001b[0m\n"
     ]
    },
    {
     "name": "stderr",
     "output_type": "stream",
     "text": [
      "/tools/C/tedkim7/sp24-Baremetal-IDE/glossy/src/sys/fstat.c: In function '_fstat':\n",
      "/tools/C/tedkim7/sp24-Baremetal-IDE/glossy/src/sys/fstat.c:4:38: warning: unused parameter 'file' [-Wunused-parameter]\n",
      "    4 | __attribute__((weak)) int _fstat(int file, struct stat *st) {\n",
      "      |                                  ~~~~^~~~\n",
      "/tools/C/tedkim7/sp24-Baremetal-IDE/glossy/src/sys/fstat.c:4:57: warning: unused parameter 'st' [-Wunused-parameter]\n",
      "    4 | __attribute__((weak)) int _fstat(int file, struct stat *st) {\n",
      "      |                                            ~~~~~~~~~~~~~^~\n"
     ]
    },
    {
     "name": "stdout",
     "output_type": "stream",
     "text": [
      "[ 71%] \u001b[32mBuilding C object glossy/CMakeFiles/glossy.dir/src/sys/getpid.c.obj\u001b[0m\n",
      "[ 74%] \u001b[32mBuilding C object glossy/CMakeFiles/glossy.dir/src/sys/isatty.c.obj\u001b[0m\n",
      "[ 76%] \u001b[32mBuilding C object glossy/CMakeFiles/glossy.dir/src/sys/kill.c.obj\u001b[0m\n"
     ]
    },
    {
     "name": "stderr",
     "output_type": "stream",
     "text": [
      "/tools/C/tedkim7/sp24-Baremetal-IDE/glossy/src/sys/kill.c: In function '_kill':\n",
      "/tools/C/tedkim7/sp24-Baremetal-IDE/glossy/src/sys/kill.c:2:37: warning: unused parameter 'pid' [-Wunused-parameter]\n",
      "    2 | __attribute__((weak)) int _kill(int pid, int sig) {\n",
      "      |                                 ~~~~^~~\n",
      "/tools/C/tedkim7/sp24-Baremetal-IDE/glossy/src/sys/kill.c:2:46: warning: unused parameter 'sig' [-Wunused-parameter]\n",
      "    2 | __attribute__((weak)) int _kill(int pid, int sig) {\n",
      "      |                                          ~~~~^~~\n"
     ]
    },
    {
     "name": "stdout",
     "output_type": "stream",
     "text": [
      "[ 79%] \u001b[32mBuilding C object glossy/CMakeFiles/glossy.dir/src/sys/lseek.c.obj\u001b[0m\n"
     ]
    },
    {
     "name": "stderr",
     "output_type": "stream",
     "text": [
      "/tools/C/tedkim7/sp24-Baremetal-IDE/glossy/src/sys/lseek.c: In function '_lseek':\n",
      "/tools/C/tedkim7/sp24-Baremetal-IDE/glossy/src/sys/lseek.c:5:40: warning: unused parameter 'file' [-Wunused-parameter]\n",
      "    5 | __attribute__((weak)) off_t _lseek(int file, off_t ptr, int dir) {\n",
      "      |                                    ~~~~^~~~\n",
      "/tools/C/tedkim7/sp24-Baremetal-IDE/glossy/src/sys/lseek.c:5:52: warning: unused parameter 'ptr' [-Wunused-parameter]\n",
      "    5 | __attribute__((weak)) off_t _lseek(int file, off_t ptr, int dir) {\n",
      "      |                                              ~~~~~~^~~\n",
      "/tools/C/tedkim7/sp24-Baremetal-IDE/glossy/src/sys/lseek.c:5:61: warning: unused parameter 'dir' [-Wunused-parameter]\n",
      "    5 | __attribute__((weak)) off_t _lseek(int file, off_t ptr, int dir) {\n",
      "      |                                                         ~~~~^~~\n"
     ]
    },
    {
     "name": "stdout",
     "output_type": "stream",
     "text": [
      "[ 82%] \u001b[32mBuilding C object glossy/CMakeFiles/glossy.dir/src/sys/open.c.obj\u001b[0m\n"
     ]
    },
    {
     "name": "stderr",
     "output_type": "stream",
     "text": [
      "/tools/C/tedkim7/sp24-Baremetal-IDE/glossy/src/sys/open.c: In function '_open':\n",
      "/tools/C/tedkim7/sp24-Baremetal-IDE/glossy/src/sys/open.c:3:45: warning: unused parameter 'path' [-Wunused-parameter]\n",
      "    3 | __attribute__((weak)) int _open(const char *path, int flags, int mode) {\n",
      "      |                                 ~~~~~~~~~~~~^~~~\n",
      "/tools/C/tedkim7/sp24-Baremetal-IDE/glossy/src/sys/open.c:3:55: warning: unused parameter 'flags' [-Wunused-parameter]\n",
      "    3 | __attribute__((weak)) int _open(const char *path, int flags, int mode) {\n",
      "      |                                                   ~~~~^~~~~\n",
      "/tools/C/tedkim7/sp24-Baremetal-IDE/glossy/src/sys/open.c:3:66: warning: unused parameter 'mode' [-Wunused-parameter]\n",
      "    3 | __attribute__((weak)) int _open(const char *path, int flags, int mode) {\n",
      "      |                                                              ~~~~^~~~\n"
     ]
    },
    {
     "name": "stdout",
     "output_type": "stream",
     "text": [
      "[ 84%] \u001b[32mBuilding C object glossy/CMakeFiles/glossy.dir/src/sys/read.c.obj\u001b[0m\n"
     ]
    },
    {
     "name": "stderr",
     "output_type": "stream",
     "text": [
      "/tools/C/tedkim7/sp24-Baremetal-IDE/glossy/src/sys/read.c: In function '_read':\n",
      "/tools/C/tedkim7/sp24-Baremetal-IDE/glossy/src/sys/read.c:5:41: warning: unused parameter 'file' [-Wunused-parameter]\n",
      "    5 | __attribute__((weak)) ssize_t _read(int file, void *ptr, size_t len) {\n",
      "      |                                     ~~~~^~~~\n",
      "/tools/C/tedkim7/sp24-Baremetal-IDE/glossy/src/sys/read.c:5:53: warning: unused parameter 'ptr' [-Wunused-parameter]\n",
      "    5 | __attribute__((weak)) ssize_t _read(int file, void *ptr, size_t len) {\n",
      "      |                                               ~~~~~~^~~\n",
      "/tools/C/tedkim7/sp24-Baremetal-IDE/glossy/src/sys/read.c:5:65: warning: unused parameter 'len' [-Wunused-parameter]\n",
      "    5 | __attribute__((weak)) ssize_t _read(int file, void *ptr, size_t len) {\n",
      "      |                                                          ~~~~~~~^~~\n"
     ]
    },
    {
     "name": "stdout",
     "output_type": "stream",
     "text": [
      "[ 87%] \u001b[32mBuilding C object glossy/CMakeFiles/glossy.dir/src/sys/sbrk.c.obj\u001b[0m\n",
      "[ 89%] \u001b[32mBuilding C object glossy/CMakeFiles/glossy.dir/src/sys/time.c.obj\u001b[0m\n",
      "[ 92%] \u001b[32mBuilding C object glossy/CMakeFiles/glossy.dir/src/sys/write.c.obj\u001b[0m\n"
     ]
    },
    {
     "name": "stderr",
     "output_type": "stream",
     "text": [
      "/tools/C/tedkim7/sp24-Baremetal-IDE/glossy/src/sys/write.c: In function '_write':\n",
      "/tools/C/tedkim7/sp24-Baremetal-IDE/glossy/src/sys/write.c:8:42: warning: unused parameter 'fd' [-Wunused-parameter]\n",
      "    8 | __attribute__((weak)) ssize_t _write(int fd, const void *ptr, size_t len) {\n",
      "      |                                      ~~~~^~\n"
     ]
    },
    {
     "name": "stdout",
     "output_type": "stream",
     "text": [
      "[ 94%] \u001b[32m\u001b[1mLinking C static library libglossy.a\u001b[0m\n",
      "gmake[4]: Leaving directory '/bwrcq/C/tedkim7/sp24-Baremetal-IDE/build'\n",
      "[ 94%] Built target glossy\n",
      "gmake[4]: Entering directory '/bwrcq/C/tedkim7/sp24-Baremetal-IDE/build'\n",
      "gmake[4]: Leaving directory '/bwrcq/C/tedkim7/sp24-Baremetal-IDE/build'\n",
      "gmake[4]: Entering directory '/bwrcq/C/tedkim7/sp24-Baremetal-IDE/build'\n",
      "[ 97%] \u001b[32mBuilding C object CMakeFiles/shmoo_bench.dir/shmoo_bench/dsp_conv_bench/src/main.c.obj\u001b[0m\n"
     ]
    },
    {
     "name": "stderr",
     "output_type": "stream",
     "text": [
      "/tools/C/tedkim7/sp24-Baremetal-IDE/shmoo_bench/dsp_conv_bench/src/main.c: In function 'app_main':\n",
      "/tools/C/tedkim7/sp24-Baremetal-IDE/shmoo_bench/dsp_conv_bench/src/main.c:61:5: warning: implicit declaration of function 'reg_write8' [-Wimplicit-function-declaration]\n",
      "   61 |     reg_write8(RESET_ADDR, 1);\n",
      "      |     ^~~~~~~~~~\n",
      "/tools/C/tedkim7/sp24-Baremetal-IDE/shmoo_bench/dsp_conv_bench/src/main.c:71:5: warning: implicit declaration of function 'set_conv_params' [-Wimplicit-function-declaration]\n",
      "   71 |     set_conv_params(16, 1, ((uint64_t*) in_kernel));\n",
      "      |     ^~~~~~~~~~~~~~~\n",
      "/tools/C/tedkim7/sp24-Baremetal-IDE/shmoo_bench/dsp_conv_bench/src/main.c:72:5: warning: implicit declaration of function 'write_conv_dma' [-Wimplicit-function-declaration]\n",
      "   72 |     write_conv_dma(0, 16, in_arr);\n",
      "      |     ^~~~~~~~~~~~~~\n",
      "/tools/C/tedkim7/sp24-Baremetal-IDE/shmoo_bench/dsp_conv_bench/src/main.c:77:5: warning: implicit declaration of function 'start_conv' [-Wimplicit-function-declaration]\n",
      "   77 |     start_conv();\n",
      "      |     ^~~~~~~~~~\n",
      "/tools/C/tedkim7/sp24-Baremetal-IDE/shmoo_bench/dsp_conv_bench/src/main.c:91:5: warning: implicit declaration of function 'read_conv_dma' [-Wimplicit-function-declaration]\n",
      "   91 |     read_conv_dma(0, 16, ((uint64_t*) test_out));\n",
      "      |     ^~~~~~~~~~~~~\n",
      "/tools/C/tedkim7/sp24-Baremetal-IDE/shmoo_bench/dsp_conv_bench/src/main.c:95:20: warning: format '%lx' expects argument of type 'long unsigned int', but argument 2 has type 'int' [-Wformat=]\n",
      "   95 |             printf(\"%\"PRIx64\" \", test_out[i*4 + j]);\n",
      "      |                    ^~~           ~~~~~~~~~~~~~~~~~\n",
      "      |                                          |\n",
      "      |                                          int\n",
      "/tools/C/tedkim7/sp24-Baremetal-IDE/shmoo_bench/dsp_conv_bench/src/main.c:100:14: warning: variable 'ref_out' set but not used [-Wunused-but-set-variable]\n",
      "  100 |     uint16_t ref_out[32];\n",
      "      |              ^~~~~~~\n",
      "/tools/C/tedkim7/sp24-Baremetal-IDE/shmoo_bench/dsp_conv_bench/src/main.c:79:14: warning: unused variable 'cpu_end_cycles' [-Wunused-variable]\n",
      "   79 |     uint64_t cpu_end_cycles = READ_CSR(\"mcycle\");\n",
      "      |              ^~~~~~~~~~~~~~\n",
      "/tools/C/tedkim7/sp24-Baremetal-IDE/shmoo_bench/dsp_conv_bench/src/main.c:74:14: warning: unused variable 'cpu_start_cycles' [-Wunused-variable]\n",
      "   74 |     uint64_t cpu_start_cycles = READ_CSR(\"mcycle\");\n",
      "      |              ^~~~~~~~~~~~~~~~\n",
      "/tools/C/tedkim7/sp24-Baremetal-IDE/shmoo_bench/dsp_conv_bench/src/main.c:67:14: warning: unused variable 'in_dilation' [-Wunused-variable]\n",
      "   67 |     uint16_t in_dilation[1] = {1};\n",
      "      |              ^~~~~~~~~~~\n",
      "/tools/C/tedkim7/sp24-Baremetal-IDE/shmoo_bench/dsp_conv_bench/src/main.c:66:14: warning: unused variable 'in_len' [-Wunused-variable]\n",
      "   66 |     uint32_t in_len[1] = {16};\n",
      "      |              ^~~~~~\n",
      "/tools/C/tedkim7/sp24-Baremetal-IDE/shmoo_bench/dsp_conv_bench/src/main.c: In function 'main':\n",
      "/tools/C/tedkim7/sp24-Baremetal-IDE/shmoo_bench/dsp_conv_bench/src/main.c:127:14: warning: unused parameter 'argc' [-Wunused-parameter]\n",
      "  127 | int main(int argc, char **argv) {\n",
      "      |          ~~~~^~~~\n",
      "/tools/C/tedkim7/sp24-Baremetal-IDE/shmoo_bench/dsp_conv_bench/src/main.c:127:27: warning: unused parameter 'argv' [-Wunused-parameter]\n",
      "  127 | int main(int argc, char **argv) {\n",
      "      |                    ~~~~~~~^~~~\n"
     ]
    },
    {
     "name": "stdout",
     "output_type": "stream",
     "text": [
      "[100%] \u001b[32m\u001b[1mLinking C executable shmoo_bench.elf\u001b[0m\n"
     ]
    },
    {
     "name": "stderr",
     "output_type": "stream",
     "text": [
      "/bwrcq/C/ee290-fa24-2/.conda-env/riscv-tools/bin/../lib/gcc/riscv64-unknown-elf/13.2.0/../../../../riscv64-unknown-elf/bin/ld: warning: shmoo_bench.elf has a LOAD segment with RWX permissions\n"
     ]
    },
    {
     "name": "stdout",
     "output_type": "stream",
     "text": [
      "gmake[4]: Leaving directory '/bwrcq/C/tedkim7/sp24-Baremetal-IDE/build'\n",
      "[100%] Built target shmoo_bench\n",
      "gmake[3]: Leaving directory '/bwrcq/C/tedkim7/sp24-Baremetal-IDE/build'\n",
      "gmake[2]: Leaving directory '/bwrcq/C/tedkim7/sp24-Baremetal-IDE/build'\n",
      "**Clock set to: 650MHz**\n",
      "gmake[1]: Leaving directory '/bwrcq/C/tedkim7/sp24-Baremetal-IDE/build'\n",
      "**Voltage set to: +5.00000000E-01\n",
      "V**\n"
     ]
    },
    {
     "name": "stderr",
     "output_type": "stream",
     "text": [
      "warning: tohost and fromhost symbols not in ELF; can't communicate with target\n",
      "Writing 14006c with d\n",
      "Done writing 14006c with d\n"
     ]
    },
    {
     "name": "stdout",
     "output_type": "stream",
     "text": [
      "Starting UART-based TSI\n",
      "Usage: ./uart_tsi +tty=/dev/pts/xx <PLUSARGS> <bin>\n",
      "       ./uart_tsi +tty=/dev/ttyxx  <PLUSARGS> <bin>\n",
      "       ./uart_tsi +tty=/dev/ttyxx  +no_hart0_msip +init_write=0x80000000:0xdeadbeef none\n",
      "       ./uart_tsi +tty=/dev/ttyxx  +no_hart0_msip +init_read=0x80000000 none\n",
      "       ./uart_tsi +tty=/dev/ttyxx  +selfcheck <bin>\n",
      "       ./uart_tsi +tty=/dev/ttyxx  +baudrate=921600 <bin>\n",
      "Attempting to open TTY at /dev/ttyUSB1\n",
      "Warning: You selected a non-standard baudrate. This will only work if the HW was configured with this baud-rate\n",
      "Checking connection status with /dev/ttyUSB1\n",
      "Connection succeeded\n",
      "Done, shutting down, flushing UART\n",
      "WARNING: You should probably reset the target before running this program again\n",
      "Done: now reset during the sleep before next iteration\n",
      "**Voltage set to: +5.50000000E-01\n",
      "V**\n"
     ]
    },
    {
     "name": "stderr",
     "output_type": "stream",
     "text": [
      "warning: tohost and fromhost symbols not in ELF; can't communicate with target\n",
      "Writing 14006c with d\n",
      "Done writing 14006c with d\n"
     ]
    },
    {
     "name": "stdout",
     "output_type": "stream",
     "text": [
      "Starting UART-based TSI\n",
      "Usage: ./uart_tsi +tty=/dev/pts/xx <PLUSARGS> <bin>\n",
      "       ./uart_tsi +tty=/dev/ttyxx  <PLUSARGS> <bin>\n",
      "       ./uart_tsi +tty=/dev/ttyxx  +no_hart0_msip +init_write=0x80000000:0xdeadbeef none\n",
      "       ./uart_tsi +tty=/dev/ttyxx  +no_hart0_msip +init_read=0x80000000 none\n",
      "       ./uart_tsi +tty=/dev/ttyxx  +selfcheck <bin>\n",
      "       ./uart_tsi +tty=/dev/ttyxx  +baudrate=921600 <bin>\n",
      "Attempting to open TTY at /dev/ttyUSB1\n",
      "Warning: You selected a non-standard baudrate. This will only work if the HW was configured with this baud-rate\n",
      "Checking connection status with /dev/ttyUSB1\n",
      "Connection succeeded\n",
      "Done, shutting down, flushing UART\n",
      "WARNING: You should probably reset the target before running this program again\n",
      "Done: now reset during the sleep before next iteration\n",
      "**Voltage set to: +6.00000000E-01\n",
      "V**\n"
     ]
    },
    {
     "name": "stderr",
     "output_type": "stream",
     "text": [
      "warning: tohost and fromhost symbols not in ELF; can't communicate with target\n",
      "Writing 14006c with d\n",
      "Done writing 14006c with d\n"
     ]
    },
    {
     "name": "stdout",
     "output_type": "stream",
     "text": [
      "Starting UART-based TSI\n",
      "Usage: ./uart_tsi +tty=/dev/pts/xx <PLUSARGS> <bin>\n",
      "       ./uart_tsi +tty=/dev/ttyxx  <PLUSARGS> <bin>\n",
      "       ./uart_tsi +tty=/dev/ttyxx  +no_hart0_msip +init_write=0x80000000:0xdeadbeef none\n",
      "       ./uart_tsi +tty=/dev/ttyxx  +no_hart0_msip +init_read=0x80000000 none\n",
      "       ./uart_tsi +tty=/dev/ttyxx  +selfcheck <bin>\n",
      "       ./uart_tsi +tty=/dev/ttyxx  +baudrate=921600 <bin>\n",
      "Attempting to open TTY at /dev/ttyUSB1\n",
      "Warning: You selected a non-standard baudrate. This will only work if the HW was configured with this baud-rate\n",
      "Checking connection status with /dev/ttyUSB1\n",
      "Connection succeeded\n",
      "Done, shutting down, flushing UART\n",
      "WARNING: You should probably reset the target before running this program again\n",
      "Done: now reset during the sleep before next iteration\n",
      "**Voltage set to: +6.50000000E-01\n",
      "V**\n"
     ]
    },
    {
     "name": "stderr",
     "output_type": "stream",
     "text": [
      "warning: tohost and fromhost symbols not in ELF; can't communicate with target\n",
      "Writing 14006c with d\n",
      "Done writing 14006c with d\n"
     ]
    },
    {
     "name": "stdout",
     "output_type": "stream",
     "text": [
      "Starting UART-based TSI\n",
      "Usage: ./uart_tsi +tty=/dev/pts/xx <PLUSARGS> <bin>\n",
      "       ./uart_tsi +tty=/dev/ttyxx  <PLUSARGS> <bin>\n",
      "       ./uart_tsi +tty=/dev/ttyxx  +no_hart0_msip +init_write=0x80000000:0xdeadbeef none\n",
      "       ./uart_tsi +tty=/dev/ttyxx  +no_hart0_msip +init_read=0x80000000 none\n",
      "       ./uart_tsi +tty=/dev/ttyxx  +selfcheck <bin>\n",
      "       ./uart_tsi +tty=/dev/ttyxx  +baudrate=921600 <bin>\n",
      "Attempting to open TTY at /dev/ttyUSB1\n",
      "Warning: You selected a non-standard baudrate. This will only work if the HW was configured with this baud-rate\n",
      "Checking connection status with /dev/ttyUSB1\n",
      "Connection succeeded\n",
      "Done, shutting down, flushing UART\n",
      "WARNING: You should probably reset the target before running this program again\n",
      "Done: now reset during the sleep before next iteration\n",
      "**Voltage set to: +7.00000000E-01\n",
      "V**\n"
     ]
    },
    {
     "name": "stderr",
     "output_type": "stream",
     "text": [
      "warning: tohost and fromhost symbols not in ELF; can't communicate with target\n",
      "Writing 14006c with d\n",
      "Done writing 14006c with d\n"
     ]
    },
    {
     "name": "stdout",
     "output_type": "stream",
     "text": [
      "Starting UART-based TSI\n",
      "Usage: ./uart_tsi +tty=/dev/pts/xx <PLUSARGS> <bin>\n",
      "       ./uart_tsi +tty=/dev/ttyxx  <PLUSARGS> <bin>\n",
      "       ./uart_tsi +tty=/dev/ttyxx  +no_hart0_msip +init_write=0x80000000:0xdeadbeef none\n",
      "       ./uart_tsi +tty=/dev/ttyxx  +no_hart0_msip +init_read=0x80000000 none\n",
      "       ./uart_tsi +tty=/dev/ttyxx  +selfcheck <bin>\n",
      "       ./uart_tsi +tty=/dev/ttyxx  +baudrate=921600 <bin>\n",
      "Attempting to open TTY at /dev/ttyUSB1\n",
      "Warning: You selected a non-standard baudrate. This will only work if the HW was configured with this baud-rate\n",
      "Checking connection status with /dev/ttyUSB1\n",
      "Connection succeeded\n",
      "Done, shutting down, flushing UART\n",
      "WARNING: You should probably reset the target before running this program again\n",
      "Done: now reset during the sleep before next iteration\n",
      "**Voltage set to: +7.50000000E-01\n",
      "V**\n"
     ]
    },
    {
     "name": "stderr",
     "output_type": "stream",
     "text": [
      "warning: tohost and fromhost symbols not in ELF; can't communicate with target\n",
      "Writing 14006c with d\n",
      "Done writing 14006c with d\n"
     ]
    },
    {
     "name": "stdout",
     "output_type": "stream",
     "text": [
      "Starting UART-based TSI\n",
      "Usage: ./uart_tsi +tty=/dev/pts/xx <PLUSARGS> <bin>\n",
      "       ./uart_tsi +tty=/dev/ttyxx  <PLUSARGS> <bin>\n",
      "       ./uart_tsi +tty=/dev/ttyxx  +no_hart0_msip +init_write=0x80000000:0xdeadbeef none\n",
      "       ./uart_tsi +tty=/dev/ttyxx  +no_hart0_msip +init_read=0x80000000 none\n",
      "       ./uart_tsi +tty=/dev/ttyxx  +selfcheck <bin>\n",
      "       ./uart_tsi +tty=/dev/ttyxx  +baudrate=921600 <bin>\n",
      "Attempting to open TTY at /dev/ttyUSB1\n",
      "Warning: You selected a non-standard baudrate. This will only work if the HW was configured with this baud-rate\n",
      "Checking connection status with /dev/ttyUSB1\n",
      "Connection succeeded\n",
      "Done, shutting down, flushing UART\n",
      "WARNING: You should probably reset the target before running this program again\n",
      "Done: now reset during the sleep before next iteration\n",
      "**Voltage set to: +8.00000000E-01\n",
      "V**\n"
     ]
    },
    {
     "name": "stderr",
     "output_type": "stream",
     "text": [
      "warning: tohost and fromhost symbols not in ELF; can't communicate with target\n",
      "Writing 14006c with d\n",
      "Done writing 14006c with d\n"
     ]
    },
    {
     "name": "stdout",
     "output_type": "stream",
     "text": [
      "Starting UART-based TSI\n",
      "Usage: ./uart_tsi +tty=/dev/pts/xx <PLUSARGS> <bin>\n",
      "       ./uart_tsi +tty=/dev/ttyxx  <PLUSARGS> <bin>\n",
      "       ./uart_tsi +tty=/dev/ttyxx  +no_hart0_msip +init_write=0x80000000:0xdeadbeef none\n",
      "       ./uart_tsi +tty=/dev/ttyxx  +no_hart0_msip +init_read=0x80000000 none\n",
      "       ./uart_tsi +tty=/dev/ttyxx  +selfcheck <bin>\n",
      "       ./uart_tsi +tty=/dev/ttyxx  +baudrate=921600 <bin>\n",
      "Attempting to open TTY at /dev/ttyUSB1\n",
      "Warning: You selected a non-standard baudrate. This will only work if the HW was configured with this baud-rate\n",
      "Checking connection status with /dev/ttyUSB1\n",
      "Connection succeeded\n",
      "Done, shutting down, flushing UART\n",
      "WARNING: You should probably reset the target before running this program again\n",
      "Done: now reset during the sleep before next iteration\n",
      "**Voltage set to: +8.50000000E-01\n",
      "V**\n"
     ]
    },
    {
     "name": "stderr",
     "output_type": "stream",
     "text": [
      "warning: tohost and fromhost symbols not in ELF; can't communicate with target\n",
      "Writing 14006c with d\n",
      "Done writing 14006c with d\n"
     ]
    },
    {
     "name": "stdout",
     "output_type": "stream",
     "text": [
      "b'0 4400 4600 4800 4900 4a00 4b00 4c00 4c80 4d00 4d80 4e00 4e80 4f00 4f80 5000 \\r\\n'\n",
      "Starting UART-based TSI\n",
      "Usage: ./uart_tsi +tty=/dev/pts/xx <PLUSARGS> <bin>\n",
      "       ./uart_tsi +tty=/dev/ttyxx  <PLUSARGS> <bin>\n",
      "       ./uart_tsi +tty=/dev/ttyxx  +no_hart0_msip +init_write=0x80000000:0xdeadbeef none\n",
      "       ./uart_tsi +tty=/dev/ttyxx  +no_hart0_msip +init_read=0x80000000 none\n",
      "       ./uart_tsi +tty=/dev/ttyxx  +selfcheck <bin>\n",
      "       ./uart_tsi +tty=/dev/ttyxx  +baudrate=921600 <bin>\n",
      "Attempting to open TTY at /dev/ttyUSB1\n",
      "Warning: You selected a non-standard baudrate. This will only work if the HW was configured with this baud-rate\n",
      "Checking connection status with /dev/ttyUSB1\n",
      "Connection succeeded\n",
      "Done, shutting down, flushing UART\n",
      "WARNING: You should probably reset the target before running this program again\n",
      "Done: now reset during the sleep before next iteration\n",
      "**Voltage set to: +9.00000000E-01\n",
      "V**\n"
     ]
    },
    {
     "name": "stderr",
     "output_type": "stream",
     "text": [
      "warning: tohost and fromhost symbols not in ELF; can't communicate with target\n",
      "Writing 14006c with d\n",
      "Done writing 14006c with d\n"
     ]
    },
    {
     "name": "stdout",
     "output_type": "stream",
     "text": [
      "b'0 4400 4600 4800 4900 4a00 4b00 4c00 4c80 4d00 4d80 4e00 4e80 4f00 4f80 5000 \\r\\n'\n",
      "Starting UART-based TSI\n",
      "Usage: ./uart_tsi +tty=/dev/pts/xx <PLUSARGS> <bin>\n",
      "       ./uart_tsi +tty=/dev/ttyxx  <PLUSARGS> <bin>\n",
      "       ./uart_tsi +tty=/dev/ttyxx  +no_hart0_msip +init_write=0x80000000:0xdeadbeef none\n",
      "       ./uart_tsi +tty=/dev/ttyxx  +no_hart0_msip +init_read=0x80000000 none\n",
      "       ./uart_tsi +tty=/dev/ttyxx  +selfcheck <bin>\n",
      "       ./uart_tsi +tty=/dev/ttyxx  +baudrate=921600 <bin>\n",
      "Attempting to open TTY at /dev/ttyUSB1\n",
      "Warning: You selected a non-standard baudrate. This will only work if the HW was configured with this baud-rate\n",
      "Checking connection status with /dev/ttyUSB1\n",
      "Connection succeeded\n",
      "Done, shutting down, flushing UART\n",
      "WARNING: You should probably reset the target before running this program again\n",
      "Done: now reset during the sleep before next iteration\n",
      "**Voltage set to: +9.50000000E-01\n",
      "V**\n"
     ]
    },
    {
     "name": "stderr",
     "output_type": "stream",
     "text": [
      "warning: tohost and fromhost symbols not in ELF; can't communicate with target\n",
      "Writing 14006c with d\n",
      "Done writing 14006c with d\n"
     ]
    },
    {
     "name": "stdout",
     "output_type": "stream",
     "text": [
      "b'0 4400 4600 4800 4900 4a00 4b00 4c00 4c80 4d00 4d80 4e00 4e80 4f00 4f80 5000 \\r\\n'\n",
      "Starting UART-based TSI\n",
      "Usage: ./uart_tsi +tty=/dev/pts/xx <PLUSARGS> <bin>\n",
      "       ./uart_tsi +tty=/dev/ttyxx  <PLUSARGS> <bin>\n",
      "       ./uart_tsi +tty=/dev/ttyxx  +no_hart0_msip +init_write=0x80000000:0xdeadbeef none\n",
      "       ./uart_tsi +tty=/dev/ttyxx  +no_hart0_msip +init_read=0x80000000 none\n",
      "       ./uart_tsi +tty=/dev/ttyxx  +selfcheck <bin>\n",
      "       ./uart_tsi +tty=/dev/ttyxx  +baudrate=921600 <bin>\n",
      "Attempting to open TTY at /dev/ttyUSB1\n",
      "Warning: You selected a non-standard baudrate. This will only work if the HW was configured with this baud-rate\n",
      "Checking connection status with /dev/ttyUSB1\n",
      "Connection succeeded\n",
      "Done, shutting down, flushing UART\n",
      "WARNING: You should probably reset the target before running this program again\n",
      "Done: now reset during the sleep before next iteration\n",
      "**Voltage set to: +1.00000000E+00\n",
      "V**\n"
     ]
    },
    {
     "name": "stderr",
     "output_type": "stream",
     "text": [
      "warning: tohost and fromhost symbols not in ELF; can't communicate with target\n",
      "Writing 14006c with d\n",
      "Done writing 14006c with d\n"
     ]
    },
    {
     "name": "stdout",
     "output_type": "stream",
     "text": [
      "b'0 4400 4600 4800 4900 4a00 4b00 4c00 4c80 4d00 4d80 4e00 4e80 4f00 4f80 5000 \\r\\n'\n",
      "Starting UART-based TSI\n",
      "Usage: ./uart_tsi +tty=/dev/pts/xx <PLUSARGS> <bin>\n",
      "       ./uart_tsi +tty=/dev/ttyxx  <PLUSARGS> <bin>\n",
      "       ./uart_tsi +tty=/dev/ttyxx  +no_hart0_msip +init_write=0x80000000:0xdeadbeef none\n",
      "       ./uart_tsi +tty=/dev/ttyxx  +no_hart0_msip +init_read=0x80000000 none\n",
      "       ./uart_tsi +tty=/dev/ttyxx  +selfcheck <bin>\n",
      "       ./uart_tsi +tty=/dev/ttyxx  +baudrate=921600 <bin>\n",
      "Attempting to open TTY at /dev/ttyUSB1\n",
      "Warning: You selected a non-standard baudrate. This will only work if the HW was configured with this baud-rate\n",
      "Checking connection status with /dev/ttyUSB1\n",
      "Connection succeeded\n",
      "Done, shutting down, flushing UART\n",
      "WARNING: You should probably reset the target before running this program again\n",
      "Done: now reset during the sleep before next iteration\n",
      "**Voltage set to: +1.05000000E+00\n",
      "V**\n"
     ]
    },
    {
     "name": "stderr",
     "output_type": "stream",
     "text": [
      "warning: tohost and fromhost symbols not in ELF; can't communicate with target\n",
      "Writing 14006c with d\n",
      "Done writing 14006c with d\n"
     ]
    },
    {
     "name": "stdout",
     "output_type": "stream",
     "text": [
      "b'0 4400 4600 4800 4900 4a00 4b00 4c00 4c80 4d00 4d80 4e00 4e80 4f00 4f80 5000 \\r\\n'\n",
      "Starting UART-based TSI\n",
      "Usage: ./uart_tsi +tty=/dev/pts/xx <PLUSARGS> <bin>\n",
      "       ./uart_tsi +tty=/dev/ttyxx  <PLUSARGS> <bin>\n",
      "       ./uart_tsi +tty=/dev/ttyxx  +no_hart0_msip +init_write=0x80000000:0xdeadbeef none\n",
      "       ./uart_tsi +tty=/dev/ttyxx  +no_hart0_msip +init_read=0x80000000 none\n",
      "       ./uart_tsi +tty=/dev/ttyxx  +selfcheck <bin>\n",
      "       ./uart_tsi +tty=/dev/ttyxx  +baudrate=921600 <bin>\n",
      "Attempting to open TTY at /dev/ttyUSB1\n",
      "Warning: You selected a non-standard baudrate. This will only work if the HW was configured with this baud-rate\n",
      "Checking connection status with /dev/ttyUSB1\n",
      "Connection succeeded\n",
      "Done, shutting down, flushing UART\n",
      "WARNING: You should probably reset the target before running this program again\n",
      "Done: now reset during the sleep before next iteration\n",
      "**Voltage set to: +1.10000000E+00\n",
      "V**\n"
     ]
    },
    {
     "name": "stderr",
     "output_type": "stream",
     "text": [
      "warning: tohost and fromhost symbols not in ELF; can't communicate with target\n",
      "Writing 14006c with d\n",
      "Done writing 14006c with d\n"
     ]
    },
    {
     "name": "stdout",
     "output_type": "stream",
     "text": [
      "Starting UART-based TSI\n",
      "Usage: ./uart_tsi +tty=/dev/pts/xx <PLUSARGS> <bin>\n",
      "       ./uart_tsi +tty=/dev/ttyxx  <PLUSARGS> <bin>\n",
      "       ./uart_tsi +tty=/dev/ttyxx  +no_hart0_msip +init_write=0x80000000:0xdeadbeef none\n",
      "       ./uart_tsi +tty=/dev/ttyxx  +no_hart0_msip +init_read=0x80000000 none\n",
      "       ./uart_tsi +tty=/dev/ttyxx  +selfcheck <bin>\n",
      "       ./uart_tsi +tty=/dev/ttyxx  +baudrate=921600 <bin>\n",
      "Attempting to open TTY at /dev/ttyUSB1\n",
      "Warning: You selected a non-standard baudrate. This will only work if the HW was configured with this baud-rate\n",
      "Checking connection status with /dev/ttyUSB1\n",
      "Connection succeeded\n",
      "Done, shutting down, flushing UART\n",
      "WARNING: You should probably reset the target before running this program again\n",
      "Done: now reset during the sleep before next iteration\n",
      "**Voltage set to: +1.15000000E+00\n",
      "V**\n"
     ]
    },
    {
     "name": "stderr",
     "output_type": "stream",
     "text": [
      "warning: tohost and fromhost symbols not in ELF; can't communicate with target\n",
      "Writing 14006c with d\n",
      "Done writing 14006c with d\n"
     ]
    },
    {
     "name": "stdout",
     "output_type": "stream",
     "text": [
      "Starting UART-based TSI\n",
      "Usage: ./uart_tsi +tty=/dev/pts/xx <PLUSARGS> <bin>\n",
      "       ./uart_tsi +tty=/dev/ttyxx  <PLUSARGS> <bin>\n",
      "       ./uart_tsi +tty=/dev/ttyxx  +no_hart0_msip +init_write=0x80000000:0xdeadbeef none\n",
      "       ./uart_tsi +tty=/dev/ttyxx  +no_hart0_msip +init_read=0x80000000 none\n",
      "       ./uart_tsi +tty=/dev/ttyxx  +selfcheck <bin>\n",
      "       ./uart_tsi +tty=/dev/ttyxx  +baudrate=921600 <bin>\n",
      "Attempting to open TTY at /dev/ttyUSB1\n",
      "Warning: You selected a non-standard baudrate. This will only work if the HW was configured with this baud-rate\n",
      "Checking connection status with /dev/ttyUSB1\n",
      "Connection succeeded\n",
      "Done, shutting down, flushing UART\n",
      "WARNING: You should probably reset the target before running this program again\n",
      "Done: now reset during the sleep before next iteration\n",
      "**Voltage set to: +1.20000000E+00\n",
      "V**\n"
     ]
    },
    {
     "name": "stderr",
     "output_type": "stream",
     "text": [
      "warning: tohost and fromhost symbols not in ELF; can't communicate with target\n",
      "Writing 14006c with d\n",
      "Done writing 14006c with d\n"
     ]
    },
    {
     "name": "stdout",
     "output_type": "stream",
     "text": [
      "b'0 4400 4600 4800 4900 4a00 4b00 4c00 4c80 4d00 4d80 4e00 4e80 4f00 4f80 5000 \\r\\n'\n",
      "Starting UART-based TSI\n",
      "Usage: ./uart_tsi +tty=/dev/pts/xx <PLUSARGS> <bin>\n",
      "       ./uart_tsi +tty=/dev/ttyxx  <PLUSARGS> <bin>\n",
      "       ./uart_tsi +tty=/dev/ttyxx  +no_hart0_msip +init_write=0x80000000:0xdeadbeef none\n",
      "       ./uart_tsi +tty=/dev/ttyxx  +no_hart0_msip +init_read=0x80000000 none\n",
      "       ./uart_tsi +tty=/dev/ttyxx  +selfcheck <bin>\n",
      "       ./uart_tsi +tty=/dev/ttyxx  +baudrate=921600 <bin>\n",
      "Attempting to open TTY at /dev/ttyUSB1\n",
      "Warning: You selected a non-standard baudrate. This will only work if the HW was configured with this baud-rate\n",
      "Checking connection status with /dev/ttyUSB1\n",
      "Connection succeeded\n",
      "Done, shutting down, flushing UART\n",
      "WARNING: You should probably reset the target before running this program again\n",
      "Done: now reset during the sleep before next iteration\n",
      "rm -rf build\n",
      "cmake -S ./ -B ./build/ -D CMAKE_TOOLCHAIN_FILE=./riscv-gcc.cmake -DCHIP=dsp24\n",
      "-- The ASM compiler identification is GNU\n",
      "-- Found assembler: /tools/C/ee290-fa24-2/.conda-env/riscv-tools/bin/riscv64-unknown-elf-gcc\n",
      "-- The C compiler identification is GNU 13.2.0\n",
      "-- The CXX compiler identification is GNU 13.2.0\n",
      "-- Detecting C compiler ABI info\n",
      "-- Detecting C compiler ABI info - done\n",
      "-- Check for working C compiler: /tools/C/ee290-fa24-2/.conda-env/riscv-tools/bin/riscv64-unknown-elf-gcc - skipped\n",
      "-- Detecting C compile features\n",
      "-- Detecting C compile features - done\n",
      "-- Detecting CXX compiler ABI info\n",
      "-- Detecting CXX compiler ABI info - done\n",
      "-- Check for working CXX compiler: /tools/C/ee290-fa24-2/.conda-env/riscv-tools/bin/riscv64-unknown-elf-g++ - skipped\n",
      "-- Detecting CXX compile features\n",
      "-- Detecting CXX compile features - done\n",
      "-- Including HTIF to target\n",
      "-- Including CLINT to target\n",
      "-- ================ Glossy config ================\n",
      "--  Building for CHIP: \"dsp24\"\n",
      "--  Reading config from \"/tools/C/tedkim7/sp24-Baremetal-IDE/platform/dsp24/CMakeLists.txt\"\n",
      "--  Terminal Device: UART0\n",
      "--  Linker Script: /tools/C/tedkim7/sp24-Baremetal-IDE/platform/dsp24/dsp24.ld\n",
      "-- ===============================================\n",
      "-- Configuring done (3.7s)\n",
      "-- Generating done (1.4s)\n",
      "-- Build files have been written to: /tools/C/tedkim7/sp24-Baremetal-IDE/build\n",
      "cmake --build ./build/ --target shmoo_bench\n",
      "gmake[1]: Entering directory '/bwrcq/C/tedkim7/sp24-Baremetal-IDE/build'\n",
      "gmake[2]: Entering directory '/bwrcq/C/tedkim7/sp24-Baremetal-IDE/build'\n",
      "gmake[3]: Entering directory '/bwrcq/C/tedkim7/sp24-Baremetal-IDE/build'\n",
      "gmake[4]: Entering directory '/bwrcq/C/tedkim7/sp24-Baremetal-IDE/build'\n",
      "gmake[4]: Leaving directory '/bwrcq/C/tedkim7/sp24-Baremetal-IDE/build'\n",
      "gmake[4]: Entering directory '/bwrcq/C/tedkim7/sp24-Baremetal-IDE/build'\n",
      "[  2%] \u001b[32mBuilding C object driver/rocket-chip-blocks/uart/CMakeFiles/uart.dir/uart.c.obj\u001b[0m\n"
     ]
    },
    {
     "name": "stderr",
     "output_type": "stream",
     "text": [
      "/tools/C/tedkim7/sp24-Baremetal-IDE/driver/rocket-chip-blocks/uart/uart.c: In function 'uart_receive':\n",
      "/tools/C/tedkim7/sp24-Baremetal-IDE/driver/rocket-chip-blocks/uart/uart.c:35:78: warning: unused parameter 'timeout' [-Wunused-parameter]\n",
      "   35 | Status uart_receive(UART_Type *UARTx, uint8_t *data, uint16_t size, uint32_t timeout) {\n",
      "      |                                                                     ~~~~~~~~~^~~~~~~\n",
      "/tools/C/tedkim7/sp24-Baremetal-IDE/driver/rocket-chip-blocks/uart/uart.c: In function 'uart_transmit':\n",
      "/tools/C/tedkim7/sp24-Baremetal-IDE/driver/rocket-chip-blocks/uart/uart.c:50:85: warning: unused parameter 'timeout' [-Wunused-parameter]\n",
      "   50 | Status uart_transmit(UART_Type *UARTx, const uint8_t *data, uint16_t size, uint32_t timeout) {\n",
      "      |                                                                            ~~~~~~~~~^~~~~~~\n"
     ]
    },
    {
     "name": "stdout",
     "output_type": "stream",
     "text": [
      "[  5%] \u001b[32m\u001b[1mLinking C static library libuart.a\u001b[0m\n",
      "gmake[4]: Leaving directory '/bwrcq/C/tedkim7/sp24-Baremetal-IDE/build'\n",
      "[  5%] Built target uart\n",
      "gmake[4]: Entering directory '/bwrcq/C/tedkim7/sp24-Baremetal-IDE/build'\n",
      "gmake[4]: Leaving directory '/bwrcq/C/tedkim7/sp24-Baremetal-IDE/build'\n",
      "gmake[4]: Entering directory '/bwrcq/C/tedkim7/sp24-Baremetal-IDE/build'\n",
      "[  7%] \u001b[32mBuilding C object driver/intel/pll/CMakeFiles/intel-pll.dir/pll.c.obj\u001b[0m\n",
      "[ 10%] \u001b[32m\u001b[1mLinking C static library libintel-pll.a\u001b[0m\n",
      "gmake[4]: Leaving directory '/bwrcq/C/tedkim7/sp24-Baremetal-IDE/build'\n",
      "[ 10%] Built target intel-pll\n",
      "gmake[4]: Entering directory '/bwrcq/C/tedkim7/sp24-Baremetal-IDE/build'\n",
      "gmake[4]: Leaving directory '/bwrcq/C/tedkim7/sp24-Baremetal-IDE/build'\n",
      "gmake[4]: Entering directory '/bwrcq/C/tedkim7/sp24-Baremetal-IDE/build'\n",
      "[ 12%] \u001b[32mBuilding C object driver/rocket-chip/clint/CMakeFiles/clint.dir/clint.c.obj\u001b[0m\n",
      "[ 15%] \u001b[32m\u001b[1mLinking C static library libclint.a\u001b[0m\n",
      "gmake[4]: Leaving directory '/bwrcq/C/tedkim7/sp24-Baremetal-IDE/build'\n",
      "[ 15%] Built target clint\n",
      "gmake[4]: Entering directory '/bwrcq/C/tedkim7/sp24-Baremetal-IDE/build'\n",
      "gmake[4]: Leaving directory '/bwrcq/C/tedkim7/sp24-Baremetal-IDE/build'\n",
      "gmake[4]: Entering directory '/bwrcq/C/tedkim7/sp24-Baremetal-IDE/build'\n",
      "[ 17%] \u001b[32mBuilding C object driver/rocket-chip/rocketcore/CMakeFiles/rocketcore.dir/rocketcore.c.obj\u001b[0m\n",
      "[ 20%] \u001b[32m\u001b[1mLinking C static library librocketcore.a\u001b[0m\n",
      "gmake[4]: Leaving directory '/bwrcq/C/tedkim7/sp24-Baremetal-IDE/build'\n",
      "[ 20%] Built target rocketcore\n",
      "gmake[4]: Entering directory '/bwrcq/C/tedkim7/sp24-Baremetal-IDE/build'\n",
      "gmake[4]: Leaving directory '/bwrcq/C/tedkim7/sp24-Baremetal-IDE/build'\n",
      "gmake[4]: Entering directory '/bwrcq/C/tedkim7/sp24-Baremetal-IDE/build'\n",
      "[ 23%] \u001b[32mBuilding C object driver/rocket-chip-blocks/i2c/CMakeFiles/i2c.dir/i2c.c.obj\u001b[0m\n"
     ]
    },
    {
     "name": "stderr",
     "output_type": "stream",
     "text": [
      "/tools/C/tedkim7/sp24-Baremetal-IDE/driver/rocket-chip-blocks/i2c/i2c.c: In function 'i2c_init':\n",
      "/tools/C/tedkim7/sp24-Baremetal-IDE/driver/rocket-chip-blocks/i2c/i2c.c:13:45: warning: unused parameter 'I2C_init' [-Wunused-parameter]\n",
      "   13 | void i2c_init(I2C_Type *I2Cx, I2C_InitType *I2C_init) {\n",
      "      |                               ~~~~~~~~~~~~~~^~~~~~~~\n",
      "/tools/C/tedkim7/sp24-Baremetal-IDE/driver/rocket-chip-blocks/i2c/i2c.c: In function 'i2c_wait_for_flag':\n",
      "/tools/C/tedkim7/sp24-Baremetal-IDE/driver/rocket-chip-blocks/i2c/i2c.c:30:9: warning: implicit declaration of function 'CLINT_getTime' [-Wimplicit-function-declaration]\n",
      "   30 |     if (CLINT_getTime() > (timestart + timeout)) {\n",
      "      |         ^~~~~~~~~~~~~\n",
      "/tools/C/tedkim7/sp24-Baremetal-IDE/driver/rocket-chip-blocks/i2c/i2c.c:30:25: warning: comparison of integer expressions of different signedness: 'int' and 'uint32_t' {aka 'unsigned int'} [-Wsign-compare]\n",
      "   30 |     if (CLINT_getTime() > (timestart + timeout)) {\n",
      "      |                         ^\n",
      "/tools/C/tedkim7/sp24-Baremetal-IDE/driver/rocket-chip-blocks/i2c/i2c.c: In function 'i2c_master_receive':\n",
      "/tools/C/tedkim7/sp24-Baremetal-IDE/driver/rocket-chip-blocks/i2c/i2c.c:53:24: warning: implicit declaration of function 'clint_get_time' [-Wimplicit-function-declaration]\n",
      "   53 |   uint64_t timestart = clint_get_time();\n",
      "      |                        ^~~~~~~~~~~~~~\n",
      "/tools/C/tedkim7/sp24-Baremetal-IDE/driver/rocket-chip-blocks/i2c/i2c.c: In function 'i2c_wait_for_transaction':\n",
      "/tools/C/tedkim7/sp24-Baremetal-IDE/driver/rocket-chip-blocks/i2c/i2c.c:50:1: warning: control reaches end of non-void function [-Wreturn-type]\n",
      "   50 | }\n",
      "      | ^\n"
     ]
    },
    {
     "name": "stdout",
     "output_type": "stream",
     "text": [
      "[ 25%] \u001b[32m\u001b[1mLinking C static library libi2c.a\u001b[0m\n",
      "gmake[4]: Leaving directory '/bwrcq/C/tedkim7/sp24-Baremetal-IDE/build'\n",
      "[ 25%] Built target i2c\n",
      "gmake[4]: Entering directory '/bwrcq/C/tedkim7/sp24-Baremetal-IDE/build'\n",
      "gmake[4]: Leaving directory '/bwrcq/C/tedkim7/sp24-Baremetal-IDE/build'\n",
      "gmake[4]: Entering directory '/bwrcq/C/tedkim7/sp24-Baremetal-IDE/build'\n",
      "[ 28%] \u001b[32mBuilding C object driver/rocket-chip-blocks/spi/CMakeFiles/spi.dir/spi.c.obj\u001b[0m\n"
     ]
    },
    {
     "name": "stderr",
     "output_type": "stream",
     "text": [
      "/tools/C/tedkim7/sp24-Baremetal-IDE/driver/rocket-chip-blocks/spi/spi.c: In function 'spi_receive':\n",
      "/tools/C/tedkim7/sp24-Baremetal-IDE/driver/rocket-chip-blocks/spi/spi.c:56:75: warning: unused parameter 'timeout' [-Wunused-parameter]\n",
      "   56 | Status spi_receive(SPI_Type *SPIx, uint8_t *data, uint16_t size, uint64_t timeout) {\n",
      "      |                                                                  ~~~~~~~~~^~~~~~~\n",
      "/tools/C/tedkim7/sp24-Baremetal-IDE/driver/rocket-chip-blocks/spi/spi.c: In function 'spi_transmit':\n",
      "/tools/C/tedkim7/sp24-Baremetal-IDE/driver/rocket-chip-blocks/spi/spi.c:68:76: warning: unused parameter 'timeout' [-Wunused-parameter]\n",
      "   68 | Status spi_transmit(SPI_Type *SPIx, uint8_t *data, uint16_t size, uint64_t timeout) {\n",
      "      |                                                                   ~~~~~~~~~^~~~~~~\n",
      "/tools/C/tedkim7/sp24-Baremetal-IDE/driver/rocket-chip-blocks/spi/spi.c: In function 'spi_transmit_receive':\n",
      "/tools/C/tedkim7/sp24-Baremetal-IDE/driver/rocket-chip-blocks/spi/spi.c:80:105: warning: unused parameter 'timeout' [-Wunused-parameter]\n",
      "   80 | Status spi_transmit_receive(SPI_Type *SPIx, uint8_t *tx_data, uint8_t *rx_data, uint16_t size, uint64_t timeout) {\n",
      "      |                                                                                                ~~~~~~~~~^~~~~~~\n"
     ]
    },
    {
     "name": "stdout",
     "output_type": "stream",
     "text": [
      "[ 30%] \u001b[32m\u001b[1mLinking C static library libspi.a\u001b[0m\n",
      "gmake[4]: Leaving directory '/bwrcq/C/tedkim7/sp24-Baremetal-IDE/build'\n",
      "[ 30%] Built target spi\n",
      "gmake[4]: Entering directory '/bwrcq/C/tedkim7/sp24-Baremetal-IDE/build'\n",
      "gmake[4]: Leaving directory '/bwrcq/C/tedkim7/sp24-Baremetal-IDE/build'\n",
      "gmake[4]: Entering directory '/bwrcq/C/tedkim7/sp24-Baremetal-IDE/build'\n",
      "[ 33%] \u001b[32mBuilding C object platform/dsp24/CMakeFiles/chip-config.dir/chip.c.obj\u001b[0m\n",
      "[ 35%] \u001b[32mBuilding C object platform/dsp24/CMakeFiles/chip-config.dir/src/hal_DMA.c.obj\u001b[0m\n"
     ]
    },
    {
     "name": "stderr",
     "output_type": "stream",
     "text": [
      "/tools/C/tedkim7/sp24-Baremetal-IDE/platform/dsp24/src/hal_DMA.c: In function 'set_DMAP':\n",
      "/tools/C/tedkim7/sp24-Baremetal-IDE/platform/dsp24/src/hal_DMA.c:24:53: warning: passing argument 2 of 'reg_write64' makes integer from pointer without a cast [-Wint-conversion]\n",
      "   24 |     reg_write64(DMA_SET_READ + num*DMA_MMIO_Offset, addr_r);\n",
      "      |                                                     ^~~~~~\n",
      "      |                                                     |\n",
      "      |                                                     uint64_t * {aka long unsigned int *}\n",
      "In file included from /tools/C/tedkim7/sp24-Baremetal-IDE/platform/dsp24/inc/hal_DMA.h:10,\n",
      "                 from /tools/C/tedkim7/sp24-Baremetal-IDE/platform/dsp24/src/hal_DMA.c:1:\n",
      "/tools/C/tedkim7/sp24-Baremetal-IDE/platform/dsp24/inc/hal_mmio.h:23:47: note: expected 'uint64_t' {aka 'long unsigned int'} but argument is of type 'uint64_t *' {aka 'long unsigned int *'}\n",
      "   23 | void reg_write64(unsigned long addr, uint64_t data);\n",
      "      |                                      ~~~~~~~~~^~~~\n",
      "/tools/C/tedkim7/sp24-Baremetal-IDE/platform/dsp24/src/hal_DMA.c:25:54: warning: passing argument 2 of 'reg_write64' makes integer from pointer without a cast [-Wint-conversion]\n",
      "   25 |     reg_write64(DMA_SET_WRITE + num*DMA_MMIO_Offset, addr_w);\n",
      "      |                                                      ^~~~~~\n",
      "      |                                                      |\n",
      "      |                                                      uint64_t * {aka long unsigned int *}\n",
      "/tools/C/tedkim7/sp24-Baremetal-IDE/platform/dsp24/inc/hal_mmio.h:23:47: note: expected 'uint64_t' {aka 'long unsigned int'} but argument is of type 'uint64_t *' {aka 'long unsigned int *'}\n",
      "   23 | void reg_write64(unsigned long addr, uint64_t data);\n",
      "      |                                      ~~~~~~~~~^~~~\n",
      "/tools/C/tedkim7/sp24-Baremetal-IDE/platform/dsp24/src/hal_DMA.c:26:50: warning: passing argument 2 of 'reg_write64' makes integer from pointer without a cast [-Wint-conversion]\n",
      "   26 |     reg_write64(DMA_SET_C + num*DMA_MMIO_Offset, addr_c);\n",
      "      |                                                  ^~~~~~\n",
      "      |                                                  |\n",
      "      |                                                  uint64_t * {aka long unsigned int *}\n",
      "/tools/C/tedkim7/sp24-Baremetal-IDE/platform/dsp24/inc/hal_mmio.h:23:47: note: expected 'uint64_t' {aka 'long unsigned int'} but argument is of type 'uint64_t *' {aka 'long unsigned int *'}\n",
      "   23 | void reg_write64(unsigned long addr, uint64_t data);\n",
      "      |                                      ~~~~~~~~~^~~~\n"
     ]
    },
    {
     "name": "stdout",
     "output_type": "stream",
     "text": [
      "[ 38%] \u001b[32mBuilding C object platform/dsp24/CMakeFiles/chip-config.dir/src/hal_I2S.c.obj\u001b[0m\n"
     ]
    },
    {
     "name": "stderr",
     "output_type": "stream",
     "text": [
      "/tools/C/tedkim7/sp24-Baremetal-IDE/platform/dsp24/src/hal_I2S.c: In function 'write_I2S_tx_DMA':\n",
      "/tools/C/tedkim7/sp24-Baremetal-IDE/platform/dsp24/src/hal_I2S.c:49:9: warning: implicit declaration of function 'printf' [-Wimplicit-function-declaration]\n",
      "   49 |         printf(\"Writing to left queue\\n\");\n",
      "      |         ^~~~~~\n",
      "/tools/C/tedkim7/sp24-Baremetal-IDE/platform/dsp24/src/hal_I2S.c:3:1: note: include '<stdio.h>' or provide a declaration of 'printf'\n",
      "    2 | #include  \"hal_mmio.h\"\n",
      "  +++ |+#include <stdio.h>\n",
      "    3 | \n",
      "/tools/C/tedkim7/sp24-Baremetal-IDE/platform/dsp24/src/hal_I2S.c:49:9: warning: incompatible implicit declaration of built-in function 'printf' [-Wbuiltin-declaration-mismatch]\n",
      "   49 |         printf(\"Writing to left queue\\n\");\n",
      "      |         ^~~~~~\n",
      "/tools/C/tedkim7/sp24-Baremetal-IDE/platform/dsp24/src/hal_I2S.c:49:9: note: include '<stdio.h>' or provide a declaration of 'printf'\n",
      "In file included from /tools/C/tedkim7/sp24-Baremetal-IDE/platform/dsp24/src/hal_I2S.c:1:\n",
      "/tools/C/tedkim7/sp24-Baremetal-IDE/platform/dsp24/inc/hal_I2S.h:13:37: warning: passing argument 3 of 'set_DMAP' makes pointer from integer without a cast [-Wint-conversion]\n",
      "   13 | #define I2S_BASE                    0x10042000U\n",
      "      |                                     ^\n",
      "      |                                     |\n",
      "      |                                     unsigned int\n",
      "/tools/C/tedkim7/sp24-Baremetal-IDE/platform/dsp24/inc/hal_I2S.h:26:37: note: in expansion of macro 'I2S_BASE'\n",
      "   26 | #define I2S_TX_L                    I2S_BASE + 0x20\n",
      "      |                                     ^~~~~~~~\n",
      "/tools/C/tedkim7/sp24-Baremetal-IDE/platform/dsp24/src/hal_I2S.c:50:38: note: in expansion of macro 'I2S_TX_L'\n",
      "   50 |         set_DMAP(dma_num, read_addr, I2S_TX_L, I2S_WATERMARK_TX_L, 8, 0, length, 3, poll);\n",
      "      |                                      ^~~~~~~~\n",
      "In file included from /tools/C/tedkim7/sp24-Baremetal-IDE/platform/dsp24/inc/hal_I2S.h:9:\n",
      "/tools/C/tedkim7/sp24-Baremetal-IDE/platform/dsp24/inc/hal_DMA.h:37:57: note: expected 'uint64_t *' {aka 'long unsigned int *'} but argument is of type 'unsigned int'\n",
      "   37 | void set_DMAP(uint32_t num, uint64_t* addr_r, uint64_t* addr_w, uint64_t* addr_c, uint16_t inc_r, uint16_t inc_w, uint16_t len, uint8_t logd, uint32_t count);\n",
      "      |                                               ~~~~~~~~~~^~~~~~\n",
      "/tools/C/tedkim7/sp24-Baremetal-IDE/platform/dsp24/inc/hal_I2S.h:13:37: warning: passing argument 4 of 'set_DMAP' makes pointer from integer without a cast [-Wint-conversion]\n",
      "   13 | #define I2S_BASE                    0x10042000U\n",
      "      |                                     ^\n",
      "      |                                     |\n",
      "      |                                     unsigned int\n",
      "/tools/C/tedkim7/sp24-Baremetal-IDE/platform/dsp24/inc/hal_I2S.h:18:37: note: in expansion of macro 'I2S_BASE'\n",
      "   18 | #define I2S_WATERMARK_TX_L          I2S_BASE + 0x100\n",
      "      |                                     ^~~~~~~~\n",
      "/tools/C/tedkim7/sp24-Baremetal-IDE/platform/dsp24/src/hal_I2S.c:50:48: note: in expansion of macro 'I2S_WATERMARK_TX_L'\n",
      "   50 |         set_DMAP(dma_num, read_addr, I2S_TX_L, I2S_WATERMARK_TX_L, 8, 0, length, 3, poll);\n",
      "      |                                                ^~~~~~~~~~~~~~~~~~\n",
      "/tools/C/tedkim7/sp24-Baremetal-IDE/platform/dsp24/inc/hal_DMA.h:37:75: note: expected 'uint64_t *' {aka 'long unsigned int *'} but argument is of type 'unsigned int'\n",
      "   37 | void set_DMAP(uint32_t num, uint64_t* addr_r, uint64_t* addr_w, uint64_t* addr_c, uint16_t inc_r, uint16_t inc_w, uint16_t len, uint8_t logd, uint32_t count);\n",
      "      |                                                                 ~~~~~~~~~~^~~~~~\n",
      "/tools/C/tedkim7/sp24-Baremetal-IDE/platform/dsp24/src/hal_I2S.c:52:9: warning: incompatible implicit declaration of built-in function 'printf' [-Wbuiltin-declaration-mismatch]\n",
      "   52 |         printf(\"Writing to right queue\\n\");\n",
      "      |         ^~~~~~\n",
      "/tools/C/tedkim7/sp24-Baremetal-IDE/platform/dsp24/src/hal_I2S.c:52:9: note: include '<stdio.h>' or provide a declaration of 'printf'\n",
      "/tools/C/tedkim7/sp24-Baremetal-IDE/platform/dsp24/inc/hal_I2S.h:13:37: warning: passing argument 3 of 'set_DMAP' makes pointer from integer without a cast [-Wint-conversion]\n",
      "   13 | #define I2S_BASE                    0x10042000U\n",
      "      |                                     ^\n",
      "      |                                     |\n",
      "      |                                     unsigned int\n",
      "/tools/C/tedkim7/sp24-Baremetal-IDE/platform/dsp24/inc/hal_I2S.h:27:37: note: in expansion of macro 'I2S_BASE'\n",
      "   27 | #define I2S_TX_R                    I2S_BASE + 0x28\n",
      "      |                                     ^~~~~~~~\n",
      "/tools/C/tedkim7/sp24-Baremetal-IDE/platform/dsp24/src/hal_I2S.c:53:38: note: in expansion of macro 'I2S_TX_R'\n",
      "   53 |         set_DMAP(dma_num, read_addr, I2S_TX_R, I2S_WATERMARK_TX_R, 8, 0, length, 3, poll);\n",
      "      |                                      ^~~~~~~~\n",
      "/tools/C/tedkim7/sp24-Baremetal-IDE/platform/dsp24/inc/hal_DMA.h:37:57: note: expected 'uint64_t *' {aka 'long unsigned int *'} but argument is of type 'unsigned int'\n",
      "   37 | void set_DMAP(uint32_t num, uint64_t* addr_r, uint64_t* addr_w, uint64_t* addr_c, uint16_t inc_r, uint16_t inc_w, uint16_t len, uint8_t logd, uint32_t count);\n",
      "      |                                               ~~~~~~~~~~^~~~~~\n",
      "/tools/C/tedkim7/sp24-Baremetal-IDE/platform/dsp24/inc/hal_I2S.h:13:37: warning: passing argument 4 of 'set_DMAP' makes pointer from integer without a cast [-Wint-conversion]\n",
      "   13 | #define I2S_BASE                    0x10042000U\n",
      "      |                                     ^\n",
      "      |                                     |\n",
      "      |                                     unsigned int\n",
      "/tools/C/tedkim7/sp24-Baremetal-IDE/platform/dsp24/inc/hal_I2S.h:19:37: note: in expansion of macro 'I2S_BASE'\n",
      "   19 | #define I2S_WATERMARK_TX_R          I2S_BASE + 0x101\n",
      "      |                                     ^~~~~~~~\n",
      "/tools/C/tedkim7/sp24-Baremetal-IDE/platform/dsp24/src/hal_I2S.c:53:48: note: in expansion of macro 'I2S_WATERMARK_TX_R'\n",
      "   53 |         set_DMAP(dma_num, read_addr, I2S_TX_R, I2S_WATERMARK_TX_R, 8, 0, length, 3, poll);\n",
      "      |                                                ^~~~~~~~~~~~~~~~~~\n",
      "/tools/C/tedkim7/sp24-Baremetal-IDE/platform/dsp24/inc/hal_DMA.h:37:75: note: expected 'uint64_t *' {aka 'long unsigned int *'} but argument is of type 'unsigned int'\n",
      "   37 | void set_DMAP(uint32_t num, uint64_t* addr_r, uint64_t* addr_w, uint64_t* addr_c, uint16_t inc_r, uint16_t inc_w, uint16_t len, uint8_t logd, uint32_t count);\n",
      "      |                                                                 ~~~~~~~~~~^~~~~~\n",
      "/tools/C/tedkim7/sp24-Baremetal-IDE/platform/dsp24/src/hal_I2S.c: In function 'read_I2S_rx_DMA':\n",
      "/tools/C/tedkim7/sp24-Baremetal-IDE/platform/dsp24/inc/hal_I2S.h:13:37: warning: passing argument 2 of 'set_DMAP' makes pointer from integer without a cast [-Wint-conversion]\n",
      "   13 | #define I2S_BASE                    0x10042000U\n",
      "      |                                     ^\n",
      "      |                                     |\n",
      "      |                                     unsigned int\n",
      "/tools/C/tedkim7/sp24-Baremetal-IDE/platform/dsp24/inc/hal_I2S.h:28:37: note: in expansion of macro 'I2S_BASE'\n",
      "   28 | #define I2S_RX_L                    I2S_BASE + 0x60\n",
      "      |                                     ^~~~~~~~\n",
      "/tools/C/tedkim7/sp24-Baremetal-IDE/platform/dsp24/src/hal_I2S.c:60:27: note: in expansion of macro 'I2S_RX_L'\n",
      "   60 |         set_DMAP(dma_num, I2S_RX_L, write_addr, I2S_WATERMARK_RX_L, 0, 8, length, 3, poll);\n",
      "      |                           ^~~~~~~~\n",
      "/tools/C/tedkim7/sp24-Baremetal-IDE/platform/dsp24/inc/hal_DMA.h:37:39: note: expected 'uint64_t *' {aka 'long unsigned int *'} but argument is of type 'unsigned int'\n",
      "   37 | void set_DMAP(uint32_t num, uint64_t* addr_r, uint64_t* addr_w, uint64_t* addr_c, uint16_t inc_r, uint16_t inc_w, uint16_t len, uint8_t logd, uint32_t count);\n",
      "      |                             ~~~~~~~~~~^~~~~~\n",
      "/tools/C/tedkim7/sp24-Baremetal-IDE/platform/dsp24/inc/hal_I2S.h:13:37: warning: passing argument 4 of 'set_DMAP' makes pointer from integer without a cast [-Wint-conversion]\n",
      "   13 | #define I2S_BASE                    0x10042000U\n",
      "      |                                     ^\n",
      "      |                                     |\n",
      "      |                                     unsigned int\n",
      "/tools/C/tedkim7/sp24-Baremetal-IDE/platform/dsp24/inc/hal_I2S.h:16:37: note: in expansion of macro 'I2S_BASE'\n",
      "   16 | #define I2S_WATERMARK_RX_L          I2S_BASE + 0x102\n",
      "      |                                     ^~~~~~~~\n",
      "/tools/C/tedkim7/sp24-Baremetal-IDE/platform/dsp24/src/hal_I2S.c:60:49: note: in expansion of macro 'I2S_WATERMARK_RX_L'\n",
      "   60 |         set_DMAP(dma_num, I2S_RX_L, write_addr, I2S_WATERMARK_RX_L, 0, 8, length, 3, poll);\n",
      "      |                                                 ^~~~~~~~~~~~~~~~~~\n",
      "/tools/C/tedkim7/sp24-Baremetal-IDE/platform/dsp24/inc/hal_DMA.h:37:75: note: expected 'uint64_t *' {aka 'long unsigned int *'} but argument is of type 'unsigned int'\n",
      "   37 | void set_DMAP(uint32_t num, uint64_t* addr_r, uint64_t* addr_w, uint64_t* addr_c, uint16_t inc_r, uint16_t inc_w, uint16_t len, uint8_t logd, uint32_t count);\n",
      "      |                                                                 ~~~~~~~~~~^~~~~~\n",
      "/tools/C/tedkim7/sp24-Baremetal-IDE/platform/dsp24/inc/hal_I2S.h:13:37: warning: passing argument 2 of 'set_DMAP' makes pointer from integer without a cast [-Wint-conversion]\n",
      "   13 | #define I2S_BASE                    0x10042000U\n",
      "      |                                     ^\n",
      "      |                                     |\n",
      "      |                                     unsigned int\n",
      "/tools/C/tedkim7/sp24-Baremetal-IDE/platform/dsp24/inc/hal_I2S.h:29:37: note: in expansion of macro 'I2S_BASE'\n",
      "   29 | #define I2S_RX_R                    I2S_BASE + 0x68\n",
      "      |                                     ^~~~~~~~\n",
      "/tools/C/tedkim7/sp24-Baremetal-IDE/platform/dsp24/src/hal_I2S.c:62:27: note: in expansion of macro 'I2S_RX_R'\n",
      "   62 |         set_DMAP(dma_num, I2S_RX_R, write_addr, I2S_WATERMARK_RX_R, 0, 8, length, 3, poll);\n",
      "      |                           ^~~~~~~~\n",
      "/tools/C/tedkim7/sp24-Baremetal-IDE/platform/dsp24/inc/hal_DMA.h:37:39: note: expected 'uint64_t *' {aka 'long unsigned int *'} but argument is of type 'unsigned int'\n",
      "   37 | void set_DMAP(uint32_t num, uint64_t* addr_r, uint64_t* addr_w, uint64_t* addr_c, uint16_t inc_r, uint16_t inc_w, uint16_t len, uint8_t logd, uint32_t count);\n",
      "      |                             ~~~~~~~~~~^~~~~~\n",
      "/tools/C/tedkim7/sp24-Baremetal-IDE/platform/dsp24/inc/hal_I2S.h:13:37: warning: passing argument 4 of 'set_DMAP' makes pointer from integer without a cast [-Wint-conversion]\n",
      "   13 | #define I2S_BASE                    0x10042000U\n",
      "      |                                     ^\n",
      "      |                                     |\n",
      "      |                                     unsigned int\n",
      "/tools/C/tedkim7/sp24-Baremetal-IDE/platform/dsp24/inc/hal_I2S.h:17:37: note: in expansion of macro 'I2S_BASE'\n",
      "   17 | #define I2S_WATERMARK_RX_R          I2S_BASE + 0x103\n",
      "      |                                     ^~~~~~~~\n",
      "/tools/C/tedkim7/sp24-Baremetal-IDE/platform/dsp24/src/hal_I2S.c:62:49: note: in expansion of macro 'I2S_WATERMARK_RX_R'\n",
      "   62 |         set_DMAP(dma_num, I2S_RX_R, write_addr, I2S_WATERMARK_RX_R, 0, 8, length, 3, poll);\n",
      "      |                                                 ^~~~~~~~~~~~~~~~~~\n",
      "/tools/C/tedkim7/sp24-Baremetal-IDE/platform/dsp24/inc/hal_DMA.h:37:75: note: expected 'uint64_t *' {aka 'long unsigned int *'} but argument is of type 'unsigned int'\n",
      "   37 | void set_DMAP(uint32_t num, uint64_t* addr_r, uint64_t* addr_w, uint64_t* addr_c, uint16_t inc_r, uint16_t inc_w, uint16_t len, uint8_t logd, uint32_t count);\n",
      "      |                                                                 ~~~~~~~~~~^~~~~~\n"
     ]
    },
    {
     "name": "stdout",
     "output_type": "stream",
     "text": [
      "[ 41%] \u001b[32mBuilding C object platform/dsp24/CMakeFiles/chip-config.dir/src/hal_conv.c.obj\u001b[0m\n"
     ]
    },
    {
     "name": "stderr",
     "output_type": "stream",
     "text": [
      "/tools/C/tedkim7/sp24-Baremetal-IDE/platform/dsp24/src/hal_conv.c: In function 'write_conv_dma':\n",
      "/tools/C/tedkim7/sp24-Baremetal-IDE/platform/dsp24/src/hal_conv.c:13:5: warning: implicit declaration of function 'set_DMAC' [-Wimplicit-function-declaration]\n",
      "   13 |     set_DMAC(dma_num, (uint64_t*) data, CONV_BASE, 8, 0, length/8, 3);\n",
      "      |     ^~~~~~~~\n",
      "/tools/C/tedkim7/sp24-Baremetal-IDE/platform/dsp24/src/hal_conv.c:14:5: warning: implicit declaration of function 'start_DMA' [-Wimplicit-function-declaration]\n",
      "   14 |     start_DMA(dma_num);\n",
      "      |     ^~~~~~~~~\n",
      "/tools/C/tedkim7/sp24-Baremetal-IDE/platform/dsp24/src/hal_conv.c: In function 'read_conv_dma_p':\n",
      "/tools/C/tedkim7/sp24-Baremetal-IDE/platform/dsp24/src/hal_conv.c:23:5: warning: implicit declaration of function 'set_DMAP' [-Wimplicit-function-declaration]\n",
      "   23 |     set_DMAP(dma_num, CONV_OUTPUT_ADDR, write_addr, READ_CHECK_ADDR, 0, 8, length/4, 3, 0);\n",
      "      |     ^~~~~~~~\n"
     ]
    },
    {
     "name": "stdout",
     "output_type": "stream",
     "text": [
      "[ 43%] \u001b[32mBuilding C object platform/dsp24/CMakeFiles/chip-config.dir/src/hal_fft.c.obj\u001b[0m\n"
     ]
    },
    {
     "name": "stderr",
     "output_type": "stream",
     "text": [
      "/tools/C/tedkim7/sp24-Baremetal-IDE/platform/dsp24/src/hal_fft.c: In function 'write_fft_dma':\n",
      "/tools/C/tedkim7/sp24-Baremetal-IDE/platform/dsp24/src/hal_fft.c:28:23: warning: passing argument 2 of 'set_DMAC' makes integer from pointer without a cast [-Wint-conversion]\n",
      "   28 |     set_DMAC(dma_num, data, FFT_INPUT, 8, 0, length/2, 3);\n",
      "      |                       ^~~~\n",
      "      |                       |\n",
      "      |                       uint64_t * {aka long unsigned int *}\n",
      "In file included from /tools/C/tedkim7/sp24-Baremetal-IDE/platform/dsp24/inc/hal_fft.h:9,\n",
      "                 from /tools/C/tedkim7/sp24-Baremetal-IDE/platform/dsp24/src/hal_fft.c:1:\n",
      "/tools/C/tedkim7/sp24-Baremetal-IDE/platform/dsp24/inc/hal_DMA.h:34:38: note: expected 'uint64_t' {aka 'long unsigned int'} but argument is of type 'uint64_t *' {aka 'long unsigned int *'}\n",
      "   34 | void set_DMAC(uint32_t num, uint64_t addr_r, uint64_t addr_w, uint16_t inc_r, uint16_t inc_w, uint16_t len, uint16_t logd);\n",
      "      |                             ~~~~~~~~~^~~~~~\n",
      "/tools/C/tedkim7/sp24-Baremetal-IDE/platform/dsp24/src/hal_fft.c: In function 'read_fft_dma':\n",
      "/tools/C/tedkim7/sp24-Baremetal-IDE/platform/dsp24/src/hal_fft.c:33:35: warning: passing argument 3 of 'set_DMAC' makes integer from pointer without a cast [-Wint-conversion]\n",
      "   33 |     set_DMAC(dma_num, FFT_OUTPUT, write_addr, 0, 8, length, 2);\n",
      "      |                                   ^~~~~~~~~~\n",
      "      |                                   |\n",
      "      |                                   uint64_t * {aka long unsigned int *}\n",
      "/tools/C/tedkim7/sp24-Baremetal-IDE/platform/dsp24/inc/hal_DMA.h:34:55: note: expected 'uint64_t' {aka 'long unsigned int'} but argument is of type 'uint64_t *' {aka 'long unsigned int *'}\n",
      "   34 | void set_DMAC(uint32_t num, uint64_t addr_r, uint64_t addr_w, uint16_t inc_r, uint16_t inc_w, uint16_t len, uint16_t logd);\n",
      "      |                                              ~~~~~~~~~^~~~~~\n",
      "/tools/C/tedkim7/sp24-Baremetal-IDE/platform/dsp24/src/hal_fft.c: In function 'read_fft_real_dma':\n",
      "/tools/C/tedkim7/sp24-Baremetal-IDE/platform/dsp24/src/hal_fft.c:38:35: warning: passing argument 3 of 'set_DMAC' makes integer from pointer without a cast [-Wint-conversion]\n",
      "   38 |     set_DMAC(dma_num, FFT_OUTPUT, write_addr, 0, 4, length, 1);\n",
      "      |                                   ^~~~~~~~~~\n",
      "      |                                   |\n",
      "      |                                   uint64_t * {aka long unsigned int *}\n",
      "/tools/C/tedkim7/sp24-Baremetal-IDE/platform/dsp24/inc/hal_DMA.h:34:55: note: expected 'uint64_t' {aka 'long unsigned int'} but argument is of type 'uint64_t *' {aka 'long unsigned int *'}\n",
      "   34 | void set_DMAC(uint32_t num, uint64_t addr_r, uint64_t addr_w, uint16_t inc_r, uint16_t inc_w, uint16_t len, uint16_t logd);\n",
      "      |                                              ~~~~~~~~~^~~~~~\n"
     ]
    },
    {
     "name": "stdout",
     "output_type": "stream",
     "text": [
      "[ 46%] \u001b[32mBuilding C object platform/dsp24/CMakeFiles/chip-config.dir/src/hal_mmio.c.obj\u001b[0m\n",
      "[ 48%] \u001b[32m\u001b[1mLinking C static library libchip-config.a\u001b[0m\n",
      "gmake[4]: Leaving directory '/bwrcq/C/tedkim7/sp24-Baremetal-IDE/build'\n",
      "[ 48%] Built target chip-config\n",
      "gmake[4]: Entering directory '/bwrcq/C/tedkim7/sp24-Baremetal-IDE/build'\n",
      "gmake[4]: Leaving directory '/bwrcq/C/tedkim7/sp24-Baremetal-IDE/build'\n",
      "gmake[4]: Entering directory '/bwrcq/C/tedkim7/sp24-Baremetal-IDE/build'\n",
      "[ 51%] \u001b[32mBuilding ASM object glossy/CMakeFiles/glossy.dir/src/startup/crt0.S.obj\u001b[0m\n",
      "[ 53%] \u001b[32mBuilding ASM object glossy/CMakeFiles/glossy.dir/src/startup/init.S.obj\u001b[0m\n",
      "[ 56%] \u001b[32mBuilding C object glossy/CMakeFiles/glossy.dir/src/startup/secondary.c.obj\u001b[0m\n",
      "[ 58%] \u001b[32mBuilding ASM object glossy/CMakeFiles/glossy.dir/src/trap/trap.S.obj\u001b[0m\n",
      "[ 61%] \u001b[32mBuilding C object glossy/CMakeFiles/glossy.dir/src/trap/trap.c.obj\u001b[0m\n"
     ]
    },
    {
     "name": "stderr",
     "output_type": "stream",
     "text": [
      "/tools/C/tedkim7/sp24-Baremetal-IDE/glossy/src/trap/trap.c: In function 'trap_handler':\n",
      "/tools/C/tedkim7/sp24-Baremetal-IDE/glossy/src/trap/trap.c:73:92: warning: unused parameter 'm_tval' [-Wunused-parameter]\n",
      "   73 | __attribute__((weak)) uintptr_t trap_handler(uintptr_t m_epc, uintptr_t m_cause, uintptr_t m_tval, uintptr_t regs[32]) {\n",
      "      |                                                                                  ~~~~~~~~~~^~~~~~\n",
      "/tools/C/tedkim7/sp24-Baremetal-IDE/glossy/src/trap/trap.c:73:110: warning: unused parameter 'regs' [-Wunused-parameter]\n",
      "   73 | __attribute__((weak)) uintptr_t trap_handler(uintptr_t m_epc, uintptr_t m_cause, uintptr_t m_tval, uintptr_t regs[32]) {\n",
      "      |                                                                                                    ~~~~~~~~~~^~~~~~~~\n"
     ]
    },
    {
     "name": "stdout",
     "output_type": "stream",
     "text": [
      "[ 64%] \u001b[32mBuilding C object glossy/CMakeFiles/glossy.dir/src/sys/close.c.obj\u001b[0m\n"
     ]
    },
    {
     "name": "stderr",
     "output_type": "stream",
     "text": [
      "/tools/C/tedkim7/sp24-Baremetal-IDE/glossy/src/sys/close.c: In function '_close':\n",
      "/tools/C/tedkim7/sp24-Baremetal-IDE/glossy/src/sys/close.c:2:38: warning: unused parameter 'file' [-Wunused-parameter]\n",
      "    2 | __attribute__((weak)) int _close(int file) {\n",
      "      |                                  ~~~~^~~~\n"
     ]
    },
    {
     "name": "stdout",
     "output_type": "stream",
     "text": [
      "[ 66%] \u001b[32mBuilding C object glossy/CMakeFiles/glossy.dir/src/sys/exit.c.obj\u001b[0m\n"
     ]
    },
    {
     "name": "stderr",
     "output_type": "stream",
     "text": [
      "/tools/C/tedkim7/sp24-Baremetal-IDE/glossy/src/sys/exit.c: In function '_exit':\n",
      "/tools/C/tedkim7/sp24-Baremetal-IDE/glossy/src/sys/exit.c:4:48: warning: unused parameter 'code' [-Wunused-parameter]\n",
      "    4 | __attribute__((weak, noreturn)) void _exit(int code) {\n",
      "      |                                            ~~~~^~~~\n"
     ]
    },
    {
     "name": "stdout",
     "output_type": "stream",
     "text": [
      "[ 69%] \u001b[32mBuilding C object glossy/CMakeFiles/glossy.dir/src/sys/fstat.c.obj\u001b[0m\n"
     ]
    },
    {
     "name": "stderr",
     "output_type": "stream",
     "text": [
      "/tools/C/tedkim7/sp24-Baremetal-IDE/glossy/src/sys/fstat.c: In function '_fstat':\n",
      "/tools/C/tedkim7/sp24-Baremetal-IDE/glossy/src/sys/fstat.c:4:38: warning: unused parameter 'file' [-Wunused-parameter]\n",
      "    4 | __attribute__((weak)) int _fstat(int file, struct stat *st) {\n",
      "      |                                  ~~~~^~~~\n",
      "/tools/C/tedkim7/sp24-Baremetal-IDE/glossy/src/sys/fstat.c:4:57: warning: unused parameter 'st' [-Wunused-parameter]\n",
      "    4 | __attribute__((weak)) int _fstat(int file, struct stat *st) {\n",
      "      |                                            ~~~~~~~~~~~~~^~\n"
     ]
    },
    {
     "name": "stdout",
     "output_type": "stream",
     "text": [
      "[ 71%] \u001b[32mBuilding C object glossy/CMakeFiles/glossy.dir/src/sys/getpid.c.obj\u001b[0m\n",
      "[ 74%] \u001b[32mBuilding C object glossy/CMakeFiles/glossy.dir/src/sys/isatty.c.obj\u001b[0m\n",
      "[ 76%] \u001b[32mBuilding C object glossy/CMakeFiles/glossy.dir/src/sys/kill.c.obj\u001b[0m\n"
     ]
    },
    {
     "name": "stderr",
     "output_type": "stream",
     "text": [
      "/tools/C/tedkim7/sp24-Baremetal-IDE/glossy/src/sys/kill.c: In function '_kill':\n",
      "/tools/C/tedkim7/sp24-Baremetal-IDE/glossy/src/sys/kill.c:2:37: warning: unused parameter 'pid' [-Wunused-parameter]\n",
      "    2 | __attribute__((weak)) int _kill(int pid, int sig) {\n",
      "      |                                 ~~~~^~~\n",
      "/tools/C/tedkim7/sp24-Baremetal-IDE/glossy/src/sys/kill.c:2:46: warning: unused parameter 'sig' [-Wunused-parameter]\n",
      "    2 | __attribute__((weak)) int _kill(int pid, int sig) {\n",
      "      |                                          ~~~~^~~\n"
     ]
    },
    {
     "name": "stdout",
     "output_type": "stream",
     "text": [
      "[ 79%] \u001b[32mBuilding C object glossy/CMakeFiles/glossy.dir/src/sys/lseek.c.obj\u001b[0m\n"
     ]
    },
    {
     "name": "stderr",
     "output_type": "stream",
     "text": [
      "/tools/C/tedkim7/sp24-Baremetal-IDE/glossy/src/sys/lseek.c: In function '_lseek':\n",
      "/tools/C/tedkim7/sp24-Baremetal-IDE/glossy/src/sys/lseek.c:5:40: warning: unused parameter 'file' [-Wunused-parameter]\n",
      "    5 | __attribute__((weak)) off_t _lseek(int file, off_t ptr, int dir) {\n",
      "      |                                    ~~~~^~~~\n",
      "/tools/C/tedkim7/sp24-Baremetal-IDE/glossy/src/sys/lseek.c:5:52: warning: unused parameter 'ptr' [-Wunused-parameter]\n",
      "    5 | __attribute__((weak)) off_t _lseek(int file, off_t ptr, int dir) {\n",
      "      |                                              ~~~~~~^~~\n",
      "/tools/C/tedkim7/sp24-Baremetal-IDE/glossy/src/sys/lseek.c:5:61: warning: unused parameter 'dir' [-Wunused-parameter]\n",
      "    5 | __attribute__((weak)) off_t _lseek(int file, off_t ptr, int dir) {\n",
      "      |                                                         ~~~~^~~\n"
     ]
    },
    {
     "name": "stdout",
     "output_type": "stream",
     "text": [
      "[ 82%] \u001b[32mBuilding C object glossy/CMakeFiles/glossy.dir/src/sys/open.c.obj\u001b[0m\n"
     ]
    },
    {
     "name": "stderr",
     "output_type": "stream",
     "text": [
      "/tools/C/tedkim7/sp24-Baremetal-IDE/glossy/src/sys/open.c: In function '_open':\n",
      "/tools/C/tedkim7/sp24-Baremetal-IDE/glossy/src/sys/open.c:3:45: warning: unused parameter 'path' [-Wunused-parameter]\n",
      "    3 | __attribute__((weak)) int _open(const char *path, int flags, int mode) {\n",
      "      |                                 ~~~~~~~~~~~~^~~~\n",
      "/tools/C/tedkim7/sp24-Baremetal-IDE/glossy/src/sys/open.c:3:55: warning: unused parameter 'flags' [-Wunused-parameter]\n",
      "    3 | __attribute__((weak)) int _open(const char *path, int flags, int mode) {\n",
      "      |                                                   ~~~~^~~~~\n",
      "/tools/C/tedkim7/sp24-Baremetal-IDE/glossy/src/sys/open.c:3:66: warning: unused parameter 'mode' [-Wunused-parameter]\n",
      "    3 | __attribute__((weak)) int _open(const char *path, int flags, int mode) {\n",
      "      |                                                              ~~~~^~~~\n"
     ]
    },
    {
     "name": "stdout",
     "output_type": "stream",
     "text": [
      "[ 84%] \u001b[32mBuilding C object glossy/CMakeFiles/glossy.dir/src/sys/read.c.obj\u001b[0m\n"
     ]
    },
    {
     "name": "stderr",
     "output_type": "stream",
     "text": [
      "/tools/C/tedkim7/sp24-Baremetal-IDE/glossy/src/sys/read.c: In function '_read':\n",
      "/tools/C/tedkim7/sp24-Baremetal-IDE/glossy/src/sys/read.c:5:41: warning: unused parameter 'file' [-Wunused-parameter]\n",
      "    5 | __attribute__((weak)) ssize_t _read(int file, void *ptr, size_t len) {\n",
      "      |                                     ~~~~^~~~\n",
      "/tools/C/tedkim7/sp24-Baremetal-IDE/glossy/src/sys/read.c:5:53: warning: unused parameter 'ptr' [-Wunused-parameter]\n",
      "    5 | __attribute__((weak)) ssize_t _read(int file, void *ptr, size_t len) {\n",
      "      |                                               ~~~~~~^~~\n",
      "/tools/C/tedkim7/sp24-Baremetal-IDE/glossy/src/sys/read.c:5:65: warning: unused parameter 'len' [-Wunused-parameter]\n",
      "    5 | __attribute__((weak)) ssize_t _read(int file, void *ptr, size_t len) {\n",
      "      |                                                          ~~~~~~~^~~\n"
     ]
    },
    {
     "name": "stdout",
     "output_type": "stream",
     "text": [
      "[ 87%] \u001b[32mBuilding C object glossy/CMakeFiles/glossy.dir/src/sys/sbrk.c.obj\u001b[0m\n",
      "[ 89%] \u001b[32mBuilding C object glossy/CMakeFiles/glossy.dir/src/sys/time.c.obj\u001b[0m\n",
      "[ 92%] \u001b[32mBuilding C object glossy/CMakeFiles/glossy.dir/src/sys/write.c.obj\u001b[0m\n"
     ]
    },
    {
     "name": "stderr",
     "output_type": "stream",
     "text": [
      "/tools/C/tedkim7/sp24-Baremetal-IDE/glossy/src/sys/write.c: In function '_write':\n",
      "/tools/C/tedkim7/sp24-Baremetal-IDE/glossy/src/sys/write.c:8:42: warning: unused parameter 'fd' [-Wunused-parameter]\n",
      "    8 | __attribute__((weak)) ssize_t _write(int fd, const void *ptr, size_t len) {\n",
      "      |                                      ~~~~^~\n"
     ]
    },
    {
     "name": "stdout",
     "output_type": "stream",
     "text": [
      "[ 94%] \u001b[32m\u001b[1mLinking C static library libglossy.a\u001b[0m\n",
      "gmake[4]: Leaving directory '/bwrcq/C/tedkim7/sp24-Baremetal-IDE/build'\n",
      "[ 94%] Built target glossy\n",
      "gmake[4]: Entering directory '/bwrcq/C/tedkim7/sp24-Baremetal-IDE/build'\n",
      "gmake[4]: Leaving directory '/bwrcq/C/tedkim7/sp24-Baremetal-IDE/build'\n",
      "gmake[4]: Entering directory '/bwrcq/C/tedkim7/sp24-Baremetal-IDE/build'\n",
      "[ 97%] \u001b[32mBuilding C object CMakeFiles/shmoo_bench.dir/shmoo_bench/dsp_conv_bench/src/main.c.obj\u001b[0m\n"
     ]
    },
    {
     "name": "stderr",
     "output_type": "stream",
     "text": [
      "/tools/C/tedkim7/sp24-Baremetal-IDE/shmoo_bench/dsp_conv_bench/src/main.c: In function 'app_main':\n",
      "/tools/C/tedkim7/sp24-Baremetal-IDE/shmoo_bench/dsp_conv_bench/src/main.c:61:5: warning: implicit declaration of function 'reg_write8' [-Wimplicit-function-declaration]\n",
      "   61 |     reg_write8(RESET_ADDR, 1);\n",
      "      |     ^~~~~~~~~~\n",
      "/tools/C/tedkim7/sp24-Baremetal-IDE/shmoo_bench/dsp_conv_bench/src/main.c:71:5: warning: implicit declaration of function 'set_conv_params' [-Wimplicit-function-declaration]\n",
      "   71 |     set_conv_params(16, 1, ((uint64_t*) in_kernel));\n",
      "      |     ^~~~~~~~~~~~~~~\n",
      "/tools/C/tedkim7/sp24-Baremetal-IDE/shmoo_bench/dsp_conv_bench/src/main.c:72:5: warning: implicit declaration of function 'write_conv_dma' [-Wimplicit-function-declaration]\n",
      "   72 |     write_conv_dma(0, 16, in_arr);\n",
      "      |     ^~~~~~~~~~~~~~\n",
      "/tools/C/tedkim7/sp24-Baremetal-IDE/shmoo_bench/dsp_conv_bench/src/main.c:77:5: warning: implicit declaration of function 'start_conv' [-Wimplicit-function-declaration]\n",
      "   77 |     start_conv();\n",
      "      |     ^~~~~~~~~~\n",
      "/tools/C/tedkim7/sp24-Baremetal-IDE/shmoo_bench/dsp_conv_bench/src/main.c:91:5: warning: implicit declaration of function 'read_conv_dma' [-Wimplicit-function-declaration]\n",
      "   91 |     read_conv_dma(0, 16, ((uint64_t*) test_out));\n",
      "      |     ^~~~~~~~~~~~~\n",
      "/tools/C/tedkim7/sp24-Baremetal-IDE/shmoo_bench/dsp_conv_bench/src/main.c:95:20: warning: format '%lx' expects argument of type 'long unsigned int', but argument 2 has type 'int' [-Wformat=]\n",
      "   95 |             printf(\"%\"PRIx64\" \", test_out[i*4 + j]);\n",
      "      |                    ^~~           ~~~~~~~~~~~~~~~~~\n",
      "      |                                          |\n",
      "      |                                          int\n",
      "/tools/C/tedkim7/sp24-Baremetal-IDE/shmoo_bench/dsp_conv_bench/src/main.c:100:14: warning: variable 'ref_out' set but not used [-Wunused-but-set-variable]\n",
      "  100 |     uint16_t ref_out[32];\n",
      "      |              ^~~~~~~\n",
      "/tools/C/tedkim7/sp24-Baremetal-IDE/shmoo_bench/dsp_conv_bench/src/main.c:79:14: warning: unused variable 'cpu_end_cycles' [-Wunused-variable]\n",
      "   79 |     uint64_t cpu_end_cycles = READ_CSR(\"mcycle\");\n",
      "      |              ^~~~~~~~~~~~~~\n",
      "/tools/C/tedkim7/sp24-Baremetal-IDE/shmoo_bench/dsp_conv_bench/src/main.c:74:14: warning: unused variable 'cpu_start_cycles' [-Wunused-variable]\n",
      "   74 |     uint64_t cpu_start_cycles = READ_CSR(\"mcycle\");\n",
      "      |              ^~~~~~~~~~~~~~~~\n",
      "/tools/C/tedkim7/sp24-Baremetal-IDE/shmoo_bench/dsp_conv_bench/src/main.c:67:14: warning: unused variable 'in_dilation' [-Wunused-variable]\n",
      "   67 |     uint16_t in_dilation[1] = {1};\n",
      "      |              ^~~~~~~~~~~\n",
      "/tools/C/tedkim7/sp24-Baremetal-IDE/shmoo_bench/dsp_conv_bench/src/main.c:66:14: warning: unused variable 'in_len' [-Wunused-variable]\n",
      "   66 |     uint32_t in_len[1] = {16};\n",
      "      |              ^~~~~~\n",
      "/tools/C/tedkim7/sp24-Baremetal-IDE/shmoo_bench/dsp_conv_bench/src/main.c: In function 'main':\n",
      "/tools/C/tedkim7/sp24-Baremetal-IDE/shmoo_bench/dsp_conv_bench/src/main.c:127:14: warning: unused parameter 'argc' [-Wunused-parameter]\n",
      "  127 | int main(int argc, char **argv) {\n",
      "      |          ~~~~^~~~\n",
      "/tools/C/tedkim7/sp24-Baremetal-IDE/shmoo_bench/dsp_conv_bench/src/main.c:127:27: warning: unused parameter 'argv' [-Wunused-parameter]\n",
      "  127 | int main(int argc, char **argv) {\n",
      "      |                    ~~~~~~~^~~~\n"
     ]
    },
    {
     "name": "stdout",
     "output_type": "stream",
     "text": [
      "[100%] \u001b[32m\u001b[1mLinking C executable shmoo_bench.elf\u001b[0m\n"
     ]
    },
    {
     "name": "stderr",
     "output_type": "stream",
     "text": [
      "/bwrcq/C/ee290-fa24-2/.conda-env/riscv-tools/bin/../lib/gcc/riscv64-unknown-elf/13.2.0/../../../../riscv64-unknown-elf/bin/ld: warning: shmoo_bench.elf has a LOAD segment with RWX permissions\n"
     ]
    },
    {
     "name": "stdout",
     "output_type": "stream",
     "text": [
      "gmake[4]: Leaving directory '/bwrcq/C/tedkim7/sp24-Baremetal-IDE/build'\n",
      "[100%] Built target shmoo_bench\n",
      "gmake[3]: Leaving directory '/bwrcq/C/tedkim7/sp24-Baremetal-IDE/build'\n",
      "gmake[2]: Leaving directory '/bwrcq/C/tedkim7/sp24-Baremetal-IDE/build'\n",
      "gmake[1]: Leaving directory '/bwrcq/C/tedkim7/sp24-Baremetal-IDE/build'\n",
      "**Clock set to: 700MHz**\n",
      "**Voltage set to: +5.00000000E-01\n",
      "V**\n"
     ]
    },
    {
     "name": "stderr",
     "output_type": "stream",
     "text": [
      "warning: tohost and fromhost symbols not in ELF; can't communicate with target\n",
      "Writing 14006c with e\n",
      "Done writing 14006c with e\n"
     ]
    },
    {
     "name": "stdout",
     "output_type": "stream",
     "text": [
      "Starting UART-based TSI\n",
      "Usage: ./uart_tsi +tty=/dev/pts/xx <PLUSARGS> <bin>\n",
      "       ./uart_tsi +tty=/dev/ttyxx  <PLUSARGS> <bin>\n",
      "       ./uart_tsi +tty=/dev/ttyxx  +no_hart0_msip +init_write=0x80000000:0xdeadbeef none\n",
      "       ./uart_tsi +tty=/dev/ttyxx  +no_hart0_msip +init_read=0x80000000 none\n",
      "       ./uart_tsi +tty=/dev/ttyxx  +selfcheck <bin>\n",
      "       ./uart_tsi +tty=/dev/ttyxx  +baudrate=921600 <bin>\n",
      "Attempting to open TTY at /dev/ttyUSB1\n",
      "Warning: You selected a non-standard baudrate. This will only work if the HW was configured with this baud-rate\n",
      "Checking connection status with /dev/ttyUSB1\n",
      "Connection succeeded\n",
      "Done, shutting down, flushing UART\n",
      "WARNING: You should probably reset the target before running this program again\n",
      "Done: now reset during the sleep before next iteration\n",
      "**Voltage set to: +5.50000000E-01\n",
      "V**\n"
     ]
    },
    {
     "name": "stderr",
     "output_type": "stream",
     "text": [
      "warning: tohost and fromhost symbols not in ELF; can't communicate with target\n",
      "Writing 14006c with e\n",
      "Done writing 14006c with e\n"
     ]
    },
    {
     "name": "stdout",
     "output_type": "stream",
     "text": [
      "Starting UART-based TSI\n",
      "Usage: ./uart_tsi +tty=/dev/pts/xx <PLUSARGS> <bin>\n",
      "       ./uart_tsi +tty=/dev/ttyxx  <PLUSARGS> <bin>\n",
      "       ./uart_tsi +tty=/dev/ttyxx  +no_hart0_msip +init_write=0x80000000:0xdeadbeef none\n",
      "       ./uart_tsi +tty=/dev/ttyxx  +no_hart0_msip +init_read=0x80000000 none\n",
      "       ./uart_tsi +tty=/dev/ttyxx  +selfcheck <bin>\n",
      "       ./uart_tsi +tty=/dev/ttyxx  +baudrate=921600 <bin>\n",
      "Attempting to open TTY at /dev/ttyUSB1\n",
      "Warning: You selected a non-standard baudrate. This will only work if the HW was configured with this baud-rate\n",
      "Checking connection status with /dev/ttyUSB1\n",
      "Connection succeeded\n",
      "Done, shutting down, flushing UART\n",
      "WARNING: You should probably reset the target before running this program again\n",
      "Done: now reset during the sleep before next iteration\n",
      "**Voltage set to: +6.00000000E-01\n",
      "V**\n"
     ]
    },
    {
     "name": "stderr",
     "output_type": "stream",
     "text": [
      "warning: tohost and fromhost symbols not in ELF; can't communicate with target\n",
      "Writing 14006c with e\n",
      "Done writing 14006c with e\n"
     ]
    },
    {
     "name": "stdout",
     "output_type": "stream",
     "text": [
      "Starting UART-based TSI\n",
      "Usage: ./uart_tsi +tty=/dev/pts/xx <PLUSARGS> <bin>\n",
      "       ./uart_tsi +tty=/dev/ttyxx  <PLUSARGS> <bin>\n",
      "       ./uart_tsi +tty=/dev/ttyxx  +no_hart0_msip +init_write=0x80000000:0xdeadbeef none\n",
      "       ./uart_tsi +tty=/dev/ttyxx  +no_hart0_msip +init_read=0x80000000 none\n",
      "       ./uart_tsi +tty=/dev/ttyxx  +selfcheck <bin>\n",
      "       ./uart_tsi +tty=/dev/ttyxx  +baudrate=921600 <bin>\n",
      "Attempting to open TTY at /dev/ttyUSB1\n",
      "Warning: You selected a non-standard baudrate. This will only work if the HW was configured with this baud-rate\n",
      "Checking connection status with /dev/ttyUSB1\n",
      "Connection succeeded\n",
      "Done, shutting down, flushing UART\n",
      "WARNING: You should probably reset the target before running this program again\n",
      "Done: now reset during the sleep before next iteration\n",
      "**Voltage set to: +6.50000000E-01\n",
      "V**\n"
     ]
    },
    {
     "name": "stderr",
     "output_type": "stream",
     "text": [
      "warning: tohost and fromhost symbols not in ELF; can't communicate with target\n",
      "Writing 14006c with e\n",
      "Done writing 14006c with e\n"
     ]
    },
    {
     "name": "stdout",
     "output_type": "stream",
     "text": [
      "Starting UART-based TSI\n",
      "Usage: ./uart_tsi +tty=/dev/pts/xx <PLUSARGS> <bin>\n",
      "       ./uart_tsi +tty=/dev/ttyxx  <PLUSARGS> <bin>\n",
      "       ./uart_tsi +tty=/dev/ttyxx  +no_hart0_msip +init_write=0x80000000:0xdeadbeef none\n",
      "       ./uart_tsi +tty=/dev/ttyxx  +no_hart0_msip +init_read=0x80000000 none\n",
      "       ./uart_tsi +tty=/dev/ttyxx  +selfcheck <bin>\n",
      "       ./uart_tsi +tty=/dev/ttyxx  +baudrate=921600 <bin>\n",
      "Attempting to open TTY at /dev/ttyUSB1\n",
      "Warning: You selected a non-standard baudrate. This will only work if the HW was configured with this baud-rate\n",
      "Checking connection status with /dev/ttyUSB1\n",
      "Connection succeeded\n",
      "Done, shutting down, flushing UART\n",
      "WARNING: You should probably reset the target before running this program again\n",
      "Done: now reset during the sleep before next iteration\n",
      "**Voltage set to: +7.00000000E-01\n",
      "V**\n"
     ]
    },
    {
     "name": "stderr",
     "output_type": "stream",
     "text": [
      "warning: tohost and fromhost symbols not in ELF; can't communicate with target\n",
      "Writing 14006c with e\n",
      "Done writing 14006c with e\n"
     ]
    },
    {
     "name": "stdout",
     "output_type": "stream",
     "text": [
      "Starting UART-based TSI\n",
      "Usage: ./uart_tsi +tty=/dev/pts/xx <PLUSARGS> <bin>\n",
      "       ./uart_tsi +tty=/dev/ttyxx  <PLUSARGS> <bin>\n",
      "       ./uart_tsi +tty=/dev/ttyxx  +no_hart0_msip +init_write=0x80000000:0xdeadbeef none\n",
      "       ./uart_tsi +tty=/dev/ttyxx  +no_hart0_msip +init_read=0x80000000 none\n",
      "       ./uart_tsi +tty=/dev/ttyxx  +selfcheck <bin>\n",
      "       ./uart_tsi +tty=/dev/ttyxx  +baudrate=921600 <bin>\n",
      "Attempting to open TTY at /dev/ttyUSB1\n",
      "Warning: You selected a non-standard baudrate. This will only work if the HW was configured with this baud-rate\n",
      "Checking connection status with /dev/ttyUSB1\n",
      "Connection succeeded\n",
      "Done, shutting down, flushing UART\n",
      "WARNING: You should probably reset the target before running this program again\n",
      "Done: now reset during the sleep before next iteration\n",
      "**Voltage set to: +7.50000000E-01\n",
      "V**\n"
     ]
    },
    {
     "name": "stderr",
     "output_type": "stream",
     "text": [
      "warning: tohost and fromhost symbols not in ELF; can't communicate with target\n",
      "Writing 14006c with e\n",
      "Done writing 14006c with e\n"
     ]
    },
    {
     "name": "stdout",
     "output_type": "stream",
     "text": [
      "Starting UART-based TSI\n",
      "Usage: ./uart_tsi +tty=/dev/pts/xx <PLUSARGS> <bin>\n",
      "       ./uart_tsi +tty=/dev/ttyxx  <PLUSARGS> <bin>\n",
      "       ./uart_tsi +tty=/dev/ttyxx  +no_hart0_msip +init_write=0x80000000:0xdeadbeef none\n",
      "       ./uart_tsi +tty=/dev/ttyxx  +no_hart0_msip +init_read=0x80000000 none\n",
      "       ./uart_tsi +tty=/dev/ttyxx  +selfcheck <bin>\n",
      "       ./uart_tsi +tty=/dev/ttyxx  +baudrate=921600 <bin>\n",
      "Attempting to open TTY at /dev/ttyUSB1\n",
      "Warning: You selected a non-standard baudrate. This will only work if the HW was configured with this baud-rate\n",
      "Checking connection status with /dev/ttyUSB1\n",
      "Connection succeeded\n",
      "Done, shutting down, flushing UART\n",
      "WARNING: You should probably reset the target before running this program again\n",
      "Done: now reset during the sleep before next iteration\n",
      "**Voltage set to: +8.00000000E-01\n",
      "V**\n"
     ]
    },
    {
     "name": "stderr",
     "output_type": "stream",
     "text": [
      "warning: tohost and fromhost symbols not in ELF; can't communicate with target\n",
      "Writing 14006c with e\n",
      "Done writing 14006c with e\n"
     ]
    },
    {
     "name": "stdout",
     "output_type": "stream",
     "text": [
      "Starting UART-based TSI\n",
      "Usage: ./uart_tsi +tty=/dev/pts/xx <PLUSARGS> <bin>\n",
      "       ./uart_tsi +tty=/dev/ttyxx  <PLUSARGS> <bin>\n",
      "       ./uart_tsi +tty=/dev/ttyxx  +no_hart0_msip +init_write=0x80000000:0xdeadbeef none\n",
      "       ./uart_tsi +tty=/dev/ttyxx  +no_hart0_msip +init_read=0x80000000 none\n",
      "       ./uart_tsi +tty=/dev/ttyxx  +selfcheck <bin>\n",
      "       ./uart_tsi +tty=/dev/ttyxx  +baudrate=921600 <bin>\n",
      "Attempting to open TTY at /dev/ttyUSB1\n",
      "Warning: You selected a non-standard baudrate. This will only work if the HW was configured with this baud-rate\n",
      "Checking connection status with /dev/ttyUSB1\n",
      "Connection succeeded\n",
      "Done, shutting down, flushing UART\n",
      "WARNING: You should probably reset the target before running this program again\n",
      "Done: now reset during the sleep before next iteration\n",
      "**Voltage set to: +8.50000000E-01\n",
      "V**\n"
     ]
    },
    {
     "name": "stderr",
     "output_type": "stream",
     "text": [
      "warning: tohost and fromhost symbols not in ELF; can't communicate with target\n",
      "Writing 14006c with e\n",
      "Done writing 14006c with e\n"
     ]
    },
    {
     "name": "stdout",
     "output_type": "stream",
     "text": [
      "b'0 4400 4600 4800 4900 4a00 4b00 4d00 4c80 4d00 4d80 4e00 4e80 4f00 4f80 5000 \\r\\n'\n",
      "Starting UART-based TSI\n",
      "Usage: ./uart_tsi +tty=/dev/pts/xx <PLUSARGS> <bin>\n",
      "       ./uart_tsi +tty=/dev/ttyxx  <PLUSARGS> <bin>\n",
      "       ./uart_tsi +tty=/dev/ttyxx  +no_hart0_msip +init_write=0x80000000:0xdeadbeef none\n",
      "       ./uart_tsi +tty=/dev/ttyxx  +no_hart0_msip +init_read=0x80000000 none\n",
      "       ./uart_tsi +tty=/dev/ttyxx  +selfcheck <bin>\n",
      "       ./uart_tsi +tty=/dev/ttyxx  +baudrate=921600 <bin>\n",
      "Attempting to open TTY at /dev/ttyUSB1\n",
      "Warning: You selected a non-standard baudrate. This will only work if the HW was configured with this baud-rate\n",
      "Checking connection status with /dev/ttyUSB1\n",
      "Connection succeeded\n",
      "Done, shutting down, flushing UART\n",
      "WARNING: You should probably reset the target before running this program again\n",
      "Done: now reset during the sleep before next iteration\n",
      "**Voltage set to: +9.00000000E-01\n",
      "V**\n"
     ]
    },
    {
     "name": "stderr",
     "output_type": "stream",
     "text": [
      "warning: tohost and fromhost symbols not in ELF; can't communicate with target\n",
      "Writing 14006c with e\n",
      "Done writing 14006c with e\n"
     ]
    },
    {
     "name": "stdout",
     "output_type": "stream",
     "text": [
      "b'0 4400 4600 4800 4900 4a00 4b00 4c00 4c80 4d00 4d80 4e00 4e80 4f00 4f80 5000 \\r\\n'\n",
      "Starting UART-based TSI\n",
      "Usage: ./uart_tsi +tty=/dev/pts/xx <PLUSARGS> <bin>\n",
      "       ./uart_tsi +tty=/dev/ttyxx  <PLUSARGS> <bin>\n",
      "       ./uart_tsi +tty=/dev/ttyxx  +no_hart0_msip +init_write=0x80000000:0xdeadbeef none\n",
      "       ./uart_tsi +tty=/dev/ttyxx  +no_hart0_msip +init_read=0x80000000 none\n",
      "       ./uart_tsi +tty=/dev/ttyxx  +selfcheck <bin>\n",
      "       ./uart_tsi +tty=/dev/ttyxx  +baudrate=921600 <bin>\n",
      "Attempting to open TTY at /dev/ttyUSB1\n",
      "Warning: You selected a non-standard baudrate. This will only work if the HW was configured with this baud-rate\n",
      "Checking connection status with /dev/ttyUSB1\n",
      "Connection succeeded\n",
      "Done, shutting down, flushing UART\n",
      "WARNING: You should probably reset the target before running this program again\n",
      "Done: now reset during the sleep before next iteration\n",
      "**Voltage set to: +9.50000000E-01\n",
      "V**\n"
     ]
    },
    {
     "name": "stderr",
     "output_type": "stream",
     "text": [
      "warning: tohost and fromhost symbols not in ELF; can't communicate with target\n",
      "Writing 14006c with e\n",
      "Done writing 14006c with e\n"
     ]
    },
    {
     "name": "stdout",
     "output_type": "stream",
     "text": [
      "b'0 4400 4600 4800 4900 4a00 4b00 4c00 4c80 4d00 4d80 4e00 4e80 4f00 4f80 5000 \\r\\n'\n",
      "Starting UART-based TSI\n",
      "Usage: ./uart_tsi +tty=/dev/pts/xx <PLUSARGS> <bin>\n",
      "       ./uart_tsi +tty=/dev/ttyxx  <PLUSARGS> <bin>\n",
      "       ./uart_tsi +tty=/dev/ttyxx  +no_hart0_msip +init_write=0x80000000:0xdeadbeef none\n",
      "       ./uart_tsi +tty=/dev/ttyxx  +no_hart0_msip +init_read=0x80000000 none\n",
      "       ./uart_tsi +tty=/dev/ttyxx  +selfcheck <bin>\n",
      "       ./uart_tsi +tty=/dev/ttyxx  +baudrate=921600 <bin>\n",
      "Attempting to open TTY at /dev/ttyUSB1\n",
      "Warning: You selected a non-standard baudrate. This will only work if the HW was configured with this baud-rate\n",
      "Checking connection status with /dev/ttyUSB1\n",
      "Connection succeeded\n",
      "Done, shutting down, flushing UART\n",
      "WARNING: You should probably reset the target before running this program again\n",
      "Done: now reset during the sleep before next iteration\n",
      "**Voltage set to: +1.00000000E+00\n",
      "V**\n"
     ]
    },
    {
     "name": "stderr",
     "output_type": "stream",
     "text": [
      "warning: tohost and fromhost symbols not in ELF; can't communicate with target\n",
      "Writing 14006c with e\n",
      "Done writing 14006c with e\n"
     ]
    },
    {
     "name": "stdout",
     "output_type": "stream",
     "text": [
      "b'0 4400 4600 4800 4900 4a00 4b00 4c00 4c80 4d00 4d80 4e00 4e80 4f00 4f80 5000 \\r\\n'\n",
      "Starting UART-based TSI\n",
      "Usage: ./uart_tsi +tty=/dev/pts/xx <PLUSARGS> <bin>\n",
      "       ./uart_tsi +tty=/dev/ttyxx  <PLUSARGS> <bin>\n",
      "       ./uart_tsi +tty=/dev/ttyxx  +no_hart0_msip +init_write=0x80000000:0xdeadbeef none\n",
      "       ./uart_tsi +tty=/dev/ttyxx  +no_hart0_msip +init_read=0x80000000 none\n",
      "       ./uart_tsi +tty=/dev/ttyxx  +selfcheck <bin>\n",
      "       ./uart_tsi +tty=/dev/ttyxx  +baudrate=921600 <bin>\n",
      "Attempting to open TTY at /dev/ttyUSB1\n",
      "Warning: You selected a non-standard baudrate. This will only work if the HW was configured with this baud-rate\n",
      "Checking connection status with /dev/ttyUSB1\n",
      "Connection succeeded\n",
      "Done, shutting down, flushing UART\n",
      "WARNING: You should probably reset the target before running this program again\n",
      "Done: now reset during the sleep before next iteration\n",
      "**Voltage set to: +1.05000000E+00\n",
      "V**\n"
     ]
    },
    {
     "name": "stderr",
     "output_type": "stream",
     "text": [
      "warning: tohost and fromhost symbols not in ELF; can't communicate with target\n",
      "Writing 14006c with e\n",
      "Done writing 14006c with e\n"
     ]
    },
    {
     "name": "stdout",
     "output_type": "stream",
     "text": [
      "b'0 4400 4600 4800 4900 4a00 4b00 4c00 4c80 4d00 4d80 4e00 4e80 4f00 4f80 5000 \\r\\n'\n",
      "Starting UART-based TSI\n",
      "Usage: ./uart_tsi +tty=/dev/pts/xx <PLUSARGS> <bin>\n",
      "       ./uart_tsi +tty=/dev/ttyxx  <PLUSARGS> <bin>\n",
      "       ./uart_tsi +tty=/dev/ttyxx  +no_hart0_msip +init_write=0x80000000:0xdeadbeef none\n",
      "       ./uart_tsi +tty=/dev/ttyxx  +no_hart0_msip +init_read=0x80000000 none\n",
      "       ./uart_tsi +tty=/dev/ttyxx  +selfcheck <bin>\n",
      "       ./uart_tsi +tty=/dev/ttyxx  +baudrate=921600 <bin>\n",
      "Attempting to open TTY at /dev/ttyUSB1\n",
      "Warning: You selected a non-standard baudrate. This will only work if the HW was configured with this baud-rate\n",
      "Checking connection status with /dev/ttyUSB1\n",
      "Connection succeeded\n",
      "Done, shutting down, flushing UART\n",
      "WARNING: You should probably reset the target before running this program again\n",
      "Done: now reset during the sleep before next iteration\n",
      "**Voltage set to: +1.10000000E+00\n",
      "V**\n"
     ]
    },
    {
     "name": "stderr",
     "output_type": "stream",
     "text": [
      "warning: tohost and fromhost symbols not in ELF; can't communicate with target\n",
      "Writing 14006c with e\n",
      "Done writing 14006c with e\n"
     ]
    },
    {
     "name": "stdout",
     "output_type": "stream",
     "text": [
      "b'0 4400 4600 4800 4900 4a00 4b00 4c00 4c80 4d00 4d80 4e00 4e80 4f00 4f80 5000 \\r\\n'\n",
      "Starting UART-based TSI\n",
      "Usage: ./uart_tsi +tty=/dev/pts/xx <PLUSARGS> <bin>\n",
      "       ./uart_tsi +tty=/dev/ttyxx  <PLUSARGS> <bin>\n",
      "       ./uart_tsi +tty=/dev/ttyxx  +no_hart0_msip +init_write=0x80000000:0xdeadbeef none\n",
      "       ./uart_tsi +tty=/dev/ttyxx  +no_hart0_msip +init_read=0x80000000 none\n",
      "       ./uart_tsi +tty=/dev/ttyxx  +selfcheck <bin>\n",
      "       ./uart_tsi +tty=/dev/ttyxx  +baudrate=921600 <bin>\n",
      "Attempting to open TTY at /dev/ttyUSB1\n",
      "Warning: You selected a non-standard baudrate. This will only work if the HW was configured with this baud-rate\n",
      "Checking connection status with /dev/ttyUSB1\n",
      "Connection succeeded\n",
      "Done, shutting down, flushing UART\n",
      "WARNING: You should probably reset the target before running this program again\n",
      "Done: now reset during the sleep before next iteration\n",
      "**Voltage set to: +1.15000000E+00\n",
      "V**\n"
     ]
    },
    {
     "name": "stderr",
     "output_type": "stream",
     "text": [
      "warning: tohost and fromhost symbols not in ELF; can't communicate with target\n",
      "Writing 14006c with e\n",
      "Done writing 14006c with e\n"
     ]
    },
    {
     "name": "stdout",
     "output_type": "stream",
     "text": [
      "b'0 4400 4600 4800 4900 4a00 4b00 4c00 4c80 4d00 4d80 4e00 4e80 4f00 4f80 5000 \\r\\n'\n",
      "Starting UART-based TSI\n",
      "Usage: ./uart_tsi +tty=/dev/pts/xx <PLUSARGS> <bin>\n",
      "       ./uart_tsi +tty=/dev/ttyxx  <PLUSARGS> <bin>\n",
      "       ./uart_tsi +tty=/dev/ttyxx  +no_hart0_msip +init_write=0x80000000:0xdeadbeef none\n",
      "       ./uart_tsi +tty=/dev/ttyxx  +no_hart0_msip +init_read=0x80000000 none\n",
      "       ./uart_tsi +tty=/dev/ttyxx  +selfcheck <bin>\n",
      "       ./uart_tsi +tty=/dev/ttyxx  +baudrate=921600 <bin>\n",
      "Attempting to open TTY at /dev/ttyUSB1\n",
      "Warning: You selected a non-standard baudrate. This will only work if the HW was configured with this baud-rate\n",
      "Checking connection status with /dev/ttyUSB1\n",
      "Connection succeeded\n",
      "Done, shutting down, flushing UART\n",
      "WARNING: You should probably reset the target before running this program again\n",
      "Done: now reset during the sleep before next iteration\n",
      "**Voltage set to: +1.20000000E+00\n",
      "V**\n"
     ]
    },
    {
     "name": "stderr",
     "output_type": "stream",
     "text": [
      "warning: tohost and fromhost symbols not in ELF; can't communicate with target\n",
      "Writing 14006c with e\n",
      "Done writing 14006c with e\n"
     ]
    },
    {
     "name": "stdout",
     "output_type": "stream",
     "text": [
      "b'0 4400 4600 4800 4900 4a00 4b00 4c00 4c80 4d00 4d80 4e00 4e80 4f00 4f80 5000 \\r\\n'\n",
      "Starting UART-based TSI\n",
      "Usage: ./uart_tsi +tty=/dev/pts/xx <PLUSARGS> <bin>\n",
      "       ./uart_tsi +tty=/dev/ttyxx  <PLUSARGS> <bin>\n",
      "       ./uart_tsi +tty=/dev/ttyxx  +no_hart0_msip +init_write=0x80000000:0xdeadbeef none\n",
      "       ./uart_tsi +tty=/dev/ttyxx  +no_hart0_msip +init_read=0x80000000 none\n",
      "       ./uart_tsi +tty=/dev/ttyxx  +selfcheck <bin>\n",
      "       ./uart_tsi +tty=/dev/ttyxx  +baudrate=921600 <bin>\n",
      "Attempting to open TTY at /dev/ttyUSB1\n",
      "Warning: You selected a non-standard baudrate. This will only work if the HW was configured with this baud-rate\n",
      "Checking connection status with /dev/ttyUSB1\n",
      "Connection succeeded\n",
      "Done, shutting down, flushing UART\n",
      "WARNING: You should probably reset the target before running this program again\n",
      "Done: now reset during the sleep before next iteration\n",
      "rm -rf build\n",
      "cmake -S ./ -B ./build/ -D CMAKE_TOOLCHAIN_FILE=./riscv-gcc.cmake -DCHIP=dsp24\n",
      "-- The ASM compiler identification is GNU\n",
      "-- Found assembler: /tools/C/ee290-fa24-2/.conda-env/riscv-tools/bin/riscv64-unknown-elf-gcc\n",
      "-- The C compiler identification is GNU 13.2.0\n",
      "-- The CXX compiler identification is GNU 13.2.0\n",
      "-- Detecting C compiler ABI info\n",
      "-- Detecting C compiler ABI info - done\n",
      "-- Check for working C compiler: /tools/C/ee290-fa24-2/.conda-env/riscv-tools/bin/riscv64-unknown-elf-gcc - skipped\n",
      "-- Detecting C compile features\n",
      "-- Detecting C compile features - done\n",
      "-- Detecting CXX compiler ABI info\n",
      "-- Detecting CXX compiler ABI info - done\n",
      "-- Check for working CXX compiler: /tools/C/ee290-fa24-2/.conda-env/riscv-tools/bin/riscv64-unknown-elf-g++ - skipped\n",
      "-- Detecting CXX compile features\n",
      "-- Detecting CXX compile features - done\n",
      "-- Including HTIF to target\n",
      "-- Including CLINT to target\n",
      "-- ================ Glossy config ================\n",
      "--  Building for CHIP: \"dsp24\"\n",
      "--  Reading config from \"/tools/C/tedkim7/sp24-Baremetal-IDE/platform/dsp24/CMakeLists.txt\"\n",
      "--  Terminal Device: UART0\n",
      "--  Linker Script: /tools/C/tedkim7/sp24-Baremetal-IDE/platform/dsp24/dsp24.ld\n",
      "-- ===============================================\n",
      "-- Configuring done (3.5s)\n",
      "-- Generating done (1.4s)\n",
      "-- Build files have been written to: /tools/C/tedkim7/sp24-Baremetal-IDE/build\n",
      "cmake --build ./build/ --target shmoo_bench\n",
      "gmake[1]: Entering directory '/bwrcq/C/tedkim7/sp24-Baremetal-IDE/build'\n",
      "gmake[2]: Entering directory '/bwrcq/C/tedkim7/sp24-Baremetal-IDE/build'\n",
      "gmake[3]: Entering directory '/bwrcq/C/tedkim7/sp24-Baremetal-IDE/build'\n",
      "gmake[4]: Entering directory '/bwrcq/C/tedkim7/sp24-Baremetal-IDE/build'\n",
      "gmake[4]: Leaving directory '/bwrcq/C/tedkim7/sp24-Baremetal-IDE/build'\n",
      "gmake[4]: Entering directory '/bwrcq/C/tedkim7/sp24-Baremetal-IDE/build'\n",
      "[  2%] \u001b[32mBuilding C object driver/rocket-chip-blocks/uart/CMakeFiles/uart.dir/uart.c.obj\u001b[0m\n"
     ]
    },
    {
     "name": "stderr",
     "output_type": "stream",
     "text": [
      "/tools/C/tedkim7/sp24-Baremetal-IDE/driver/rocket-chip-blocks/uart/uart.c: In function 'uart_receive':\n",
      "/tools/C/tedkim7/sp24-Baremetal-IDE/driver/rocket-chip-blocks/uart/uart.c:35:78: warning: unused parameter 'timeout' [-Wunused-parameter]\n",
      "   35 | Status uart_receive(UART_Type *UARTx, uint8_t *data, uint16_t size, uint32_t timeout) {\n",
      "      |                                                                     ~~~~~~~~~^~~~~~~\n",
      "/tools/C/tedkim7/sp24-Baremetal-IDE/driver/rocket-chip-blocks/uart/uart.c: In function 'uart_transmit':\n",
      "/tools/C/tedkim7/sp24-Baremetal-IDE/driver/rocket-chip-blocks/uart/uart.c:50:85: warning: unused parameter 'timeout' [-Wunused-parameter]\n",
      "   50 | Status uart_transmit(UART_Type *UARTx, const uint8_t *data, uint16_t size, uint32_t timeout) {\n",
      "      |                                                                            ~~~~~~~~~^~~~~~~\n"
     ]
    },
    {
     "name": "stdout",
     "output_type": "stream",
     "text": [
      "[  5%] \u001b[32m\u001b[1mLinking C static library libuart.a\u001b[0m\n",
      "gmake[4]: Leaving directory '/bwrcq/C/tedkim7/sp24-Baremetal-IDE/build'\n",
      "[  5%] Built target uart\n",
      "gmake[4]: Entering directory '/bwrcq/C/tedkim7/sp24-Baremetal-IDE/build'\n",
      "gmake[4]: Leaving directory '/bwrcq/C/tedkim7/sp24-Baremetal-IDE/build'\n",
      "gmake[4]: Entering directory '/bwrcq/C/tedkim7/sp24-Baremetal-IDE/build'\n",
      "[  7%] \u001b[32mBuilding C object driver/intel/pll/CMakeFiles/intel-pll.dir/pll.c.obj\u001b[0m\n",
      "[ 10%] \u001b[32m\u001b[1mLinking C static library libintel-pll.a\u001b[0m\n",
      "gmake[4]: Leaving directory '/bwrcq/C/tedkim7/sp24-Baremetal-IDE/build'\n",
      "[ 10%] Built target intel-pll\n",
      "gmake[4]: Entering directory '/bwrcq/C/tedkim7/sp24-Baremetal-IDE/build'\n",
      "gmake[4]: Leaving directory '/bwrcq/C/tedkim7/sp24-Baremetal-IDE/build'\n",
      "gmake[4]: Entering directory '/bwrcq/C/tedkim7/sp24-Baremetal-IDE/build'\n",
      "[ 12%] \u001b[32mBuilding C object driver/rocket-chip/clint/CMakeFiles/clint.dir/clint.c.obj\u001b[0m\n",
      "[ 15%] \u001b[32m\u001b[1mLinking C static library libclint.a\u001b[0m\n",
      "gmake[4]: Leaving directory '/bwrcq/C/tedkim7/sp24-Baremetal-IDE/build'\n",
      "[ 15%] Built target clint\n",
      "gmake[4]: Entering directory '/bwrcq/C/tedkim7/sp24-Baremetal-IDE/build'\n",
      "gmake[4]: Leaving directory '/bwrcq/C/tedkim7/sp24-Baremetal-IDE/build'\n",
      "gmake[4]: Entering directory '/bwrcq/C/tedkim7/sp24-Baremetal-IDE/build'\n",
      "[ 17%] \u001b[32mBuilding C object driver/rocket-chip/rocketcore/CMakeFiles/rocketcore.dir/rocketcore.c.obj\u001b[0m\n",
      "[ 20%] \u001b[32m\u001b[1mLinking C static library librocketcore.a\u001b[0m\n",
      "gmake[4]: Leaving directory '/bwrcq/C/tedkim7/sp24-Baremetal-IDE/build'\n",
      "[ 20%] Built target rocketcore\n",
      "gmake[4]: Entering directory '/bwrcq/C/tedkim7/sp24-Baremetal-IDE/build'\n",
      "gmake[4]: Leaving directory '/bwrcq/C/tedkim7/sp24-Baremetal-IDE/build'\n",
      "gmake[4]: Entering directory '/bwrcq/C/tedkim7/sp24-Baremetal-IDE/build'\n",
      "[ 23%] \u001b[32mBuilding C object driver/rocket-chip-blocks/i2c/CMakeFiles/i2c.dir/i2c.c.obj\u001b[0m\n"
     ]
    },
    {
     "name": "stderr",
     "output_type": "stream",
     "text": [
      "/tools/C/tedkim7/sp24-Baremetal-IDE/driver/rocket-chip-blocks/i2c/i2c.c: In function 'i2c_init':\n",
      "/tools/C/tedkim7/sp24-Baremetal-IDE/driver/rocket-chip-blocks/i2c/i2c.c:13:45: warning: unused parameter 'I2C_init' [-Wunused-parameter]\n",
      "   13 | void i2c_init(I2C_Type *I2Cx, I2C_InitType *I2C_init) {\n",
      "      |                               ~~~~~~~~~~~~~~^~~~~~~~\n",
      "/tools/C/tedkim7/sp24-Baremetal-IDE/driver/rocket-chip-blocks/i2c/i2c.c: In function 'i2c_wait_for_flag':\n",
      "/tools/C/tedkim7/sp24-Baremetal-IDE/driver/rocket-chip-blocks/i2c/i2c.c:30:9: warning: implicit declaration of function 'CLINT_getTime' [-Wimplicit-function-declaration]\n",
      "   30 |     if (CLINT_getTime() > (timestart + timeout)) {\n",
      "      |         ^~~~~~~~~~~~~\n",
      "/tools/C/tedkim7/sp24-Baremetal-IDE/driver/rocket-chip-blocks/i2c/i2c.c:30:25: warning: comparison of integer expressions of different signedness: 'int' and 'uint32_t' {aka 'unsigned int'} [-Wsign-compare]\n",
      "   30 |     if (CLINT_getTime() > (timestart + timeout)) {\n",
      "      |                         ^\n",
      "/tools/C/tedkim7/sp24-Baremetal-IDE/driver/rocket-chip-blocks/i2c/i2c.c: In function 'i2c_master_receive':\n",
      "/tools/C/tedkim7/sp24-Baremetal-IDE/driver/rocket-chip-blocks/i2c/i2c.c:53:24: warning: implicit declaration of function 'clint_get_time' [-Wimplicit-function-declaration]\n",
      "   53 |   uint64_t timestart = clint_get_time();\n",
      "      |                        ^~~~~~~~~~~~~~\n",
      "/tools/C/tedkim7/sp24-Baremetal-IDE/driver/rocket-chip-blocks/i2c/i2c.c: In function 'i2c_wait_for_transaction':\n",
      "/tools/C/tedkim7/sp24-Baremetal-IDE/driver/rocket-chip-blocks/i2c/i2c.c:50:1: warning: control reaches end of non-void function [-Wreturn-type]\n",
      "   50 | }\n",
      "      | ^\n"
     ]
    },
    {
     "name": "stdout",
     "output_type": "stream",
     "text": [
      "[ 25%] \u001b[32m\u001b[1mLinking C static library libi2c.a\u001b[0m\n",
      "gmake[4]: Leaving directory '/bwrcq/C/tedkim7/sp24-Baremetal-IDE/build'\n",
      "[ 25%] Built target i2c\n",
      "gmake[4]: Entering directory '/bwrcq/C/tedkim7/sp24-Baremetal-IDE/build'\n",
      "gmake[4]: Leaving directory '/bwrcq/C/tedkim7/sp24-Baremetal-IDE/build'\n",
      "gmake[4]: Entering directory '/bwrcq/C/tedkim7/sp24-Baremetal-IDE/build'\n",
      "[ 28%] \u001b[32mBuilding C object driver/rocket-chip-blocks/spi/CMakeFiles/spi.dir/spi.c.obj\u001b[0m\n"
     ]
    },
    {
     "name": "stderr",
     "output_type": "stream",
     "text": [
      "/tools/C/tedkim7/sp24-Baremetal-IDE/driver/rocket-chip-blocks/spi/spi.c: In function 'spi_receive':\n",
      "/tools/C/tedkim7/sp24-Baremetal-IDE/driver/rocket-chip-blocks/spi/spi.c:56:75: warning: unused parameter 'timeout' [-Wunused-parameter]\n",
      "   56 | Status spi_receive(SPI_Type *SPIx, uint8_t *data, uint16_t size, uint64_t timeout) {\n",
      "      |                                                                  ~~~~~~~~~^~~~~~~\n",
      "/tools/C/tedkim7/sp24-Baremetal-IDE/driver/rocket-chip-blocks/spi/spi.c: In function 'spi_transmit':\n",
      "/tools/C/tedkim7/sp24-Baremetal-IDE/driver/rocket-chip-blocks/spi/spi.c:68:76: warning: unused parameter 'timeout' [-Wunused-parameter]\n",
      "   68 | Status spi_transmit(SPI_Type *SPIx, uint8_t *data, uint16_t size, uint64_t timeout) {\n",
      "      |                                                                   ~~~~~~~~~^~~~~~~\n",
      "/tools/C/tedkim7/sp24-Baremetal-IDE/driver/rocket-chip-blocks/spi/spi.c: In function 'spi_transmit_receive':\n",
      "/tools/C/tedkim7/sp24-Baremetal-IDE/driver/rocket-chip-blocks/spi/spi.c:80:105: warning: unused parameter 'timeout' [-Wunused-parameter]\n",
      "   80 | Status spi_transmit_receive(SPI_Type *SPIx, uint8_t *tx_data, uint8_t *rx_data, uint16_t size, uint64_t timeout) {\n",
      "      |                                                                                                ~~~~~~~~~^~~~~~~\n"
     ]
    },
    {
     "name": "stdout",
     "output_type": "stream",
     "text": [
      "[ 30%] \u001b[32m\u001b[1mLinking C static library libspi.a\u001b[0m\n",
      "gmake[4]: Leaving directory '/bwrcq/C/tedkim7/sp24-Baremetal-IDE/build'\n",
      "[ 30%] Built target spi\n",
      "gmake[4]: Entering directory '/bwrcq/C/tedkim7/sp24-Baremetal-IDE/build'\n",
      "gmake[4]: Leaving directory '/bwrcq/C/tedkim7/sp24-Baremetal-IDE/build'\n",
      "gmake[4]: Entering directory '/bwrcq/C/tedkim7/sp24-Baremetal-IDE/build'\n",
      "[ 33%] \u001b[32mBuilding C object platform/dsp24/CMakeFiles/chip-config.dir/chip.c.obj\u001b[0m\n",
      "[ 35%] \u001b[32mBuilding C object platform/dsp24/CMakeFiles/chip-config.dir/src/hal_DMA.c.obj\u001b[0m\n"
     ]
    },
    {
     "name": "stderr",
     "output_type": "stream",
     "text": [
      "/tools/C/tedkim7/sp24-Baremetal-IDE/platform/dsp24/src/hal_DMA.c: In function 'set_DMAP':\n",
      "/tools/C/tedkim7/sp24-Baremetal-IDE/platform/dsp24/src/hal_DMA.c:24:53: warning: passing argument 2 of 'reg_write64' makes integer from pointer without a cast [-Wint-conversion]\n",
      "   24 |     reg_write64(DMA_SET_READ + num*DMA_MMIO_Offset, addr_r);\n",
      "      |                                                     ^~~~~~\n",
      "      |                                                     |\n",
      "      |                                                     uint64_t * {aka long unsigned int *}\n",
      "In file included from /tools/C/tedkim7/sp24-Baremetal-IDE/platform/dsp24/inc/hal_DMA.h:10,\n",
      "                 from /tools/C/tedkim7/sp24-Baremetal-IDE/platform/dsp24/src/hal_DMA.c:1:\n",
      "/tools/C/tedkim7/sp24-Baremetal-IDE/platform/dsp24/inc/hal_mmio.h:23:47: note: expected 'uint64_t' {aka 'long unsigned int'} but argument is of type 'uint64_t *' {aka 'long unsigned int *'}\n",
      "   23 | void reg_write64(unsigned long addr, uint64_t data);\n",
      "      |                                      ~~~~~~~~~^~~~\n",
      "/tools/C/tedkim7/sp24-Baremetal-IDE/platform/dsp24/src/hal_DMA.c:25:54: warning: passing argument 2 of 'reg_write64' makes integer from pointer without a cast [-Wint-conversion]\n",
      "   25 |     reg_write64(DMA_SET_WRITE + num*DMA_MMIO_Offset, addr_w);\n",
      "      |                                                      ^~~~~~\n",
      "      |                                                      |\n",
      "      |                                                      uint64_t * {aka long unsigned int *}\n",
      "/tools/C/tedkim7/sp24-Baremetal-IDE/platform/dsp24/inc/hal_mmio.h:23:47: note: expected 'uint64_t' {aka 'long unsigned int'} but argument is of type 'uint64_t *' {aka 'long unsigned int *'}\n",
      "   23 | void reg_write64(unsigned long addr, uint64_t data);\n",
      "      |                                      ~~~~~~~~~^~~~\n",
      "/tools/C/tedkim7/sp24-Baremetal-IDE/platform/dsp24/src/hal_DMA.c:26:50: warning: passing argument 2 of 'reg_write64' makes integer from pointer without a cast [-Wint-conversion]\n",
      "   26 |     reg_write64(DMA_SET_C + num*DMA_MMIO_Offset, addr_c);\n",
      "      |                                                  ^~~~~~\n",
      "      |                                                  |\n",
      "      |                                                  uint64_t * {aka long unsigned int *}\n",
      "/tools/C/tedkim7/sp24-Baremetal-IDE/platform/dsp24/inc/hal_mmio.h:23:47: note: expected 'uint64_t' {aka 'long unsigned int'} but argument is of type 'uint64_t *' {aka 'long unsigned int *'}\n",
      "   23 | void reg_write64(unsigned long addr, uint64_t data);\n",
      "      |                                      ~~~~~~~~~^~~~\n"
     ]
    },
    {
     "name": "stdout",
     "output_type": "stream",
     "text": [
      "[ 38%] \u001b[32mBuilding C object platform/dsp24/CMakeFiles/chip-config.dir/src/hal_I2S.c.obj\u001b[0m\n"
     ]
    },
    {
     "name": "stderr",
     "output_type": "stream",
     "text": [
      "/tools/C/tedkim7/sp24-Baremetal-IDE/platform/dsp24/src/hal_I2S.c: In function 'write_I2S_tx_DMA':\n",
      "/tools/C/tedkim7/sp24-Baremetal-IDE/platform/dsp24/src/hal_I2S.c:49:9: warning: implicit declaration of function 'printf' [-Wimplicit-function-declaration]\n",
      "   49 |         printf(\"Writing to left queue\\n\");\n",
      "      |         ^~~~~~\n",
      "/tools/C/tedkim7/sp24-Baremetal-IDE/platform/dsp24/src/hal_I2S.c:3:1: note: include '<stdio.h>' or provide a declaration of 'printf'\n",
      "    2 | #include  \"hal_mmio.h\"\n",
      "  +++ |+#include <stdio.h>\n",
      "    3 | \n",
      "/tools/C/tedkim7/sp24-Baremetal-IDE/platform/dsp24/src/hal_I2S.c:49:9: warning: incompatible implicit declaration of built-in function 'printf' [-Wbuiltin-declaration-mismatch]\n",
      "   49 |         printf(\"Writing to left queue\\n\");\n",
      "      |         ^~~~~~\n",
      "/tools/C/tedkim7/sp24-Baremetal-IDE/platform/dsp24/src/hal_I2S.c:49:9: note: include '<stdio.h>' or provide a declaration of 'printf'\n",
      "In file included from /tools/C/tedkim7/sp24-Baremetal-IDE/platform/dsp24/src/hal_I2S.c:1:\n",
      "/tools/C/tedkim7/sp24-Baremetal-IDE/platform/dsp24/inc/hal_I2S.h:13:37: warning: passing argument 3 of 'set_DMAP' makes pointer from integer without a cast [-Wint-conversion]\n",
      "   13 | #define I2S_BASE                    0x10042000U\n",
      "      |                                     ^\n",
      "      |                                     |\n",
      "      |                                     unsigned int\n",
      "/tools/C/tedkim7/sp24-Baremetal-IDE/platform/dsp24/inc/hal_I2S.h:26:37: note: in expansion of macro 'I2S_BASE'\n",
      "   26 | #define I2S_TX_L                    I2S_BASE + 0x20\n",
      "      |                                     ^~~~~~~~\n",
      "/tools/C/tedkim7/sp24-Baremetal-IDE/platform/dsp24/src/hal_I2S.c:50:38: note: in expansion of macro 'I2S_TX_L'\n",
      "   50 |         set_DMAP(dma_num, read_addr, I2S_TX_L, I2S_WATERMARK_TX_L, 8, 0, length, 3, poll);\n",
      "      |                                      ^~~~~~~~\n",
      "In file included from /tools/C/tedkim7/sp24-Baremetal-IDE/platform/dsp24/inc/hal_I2S.h:9:\n",
      "/tools/C/tedkim7/sp24-Baremetal-IDE/platform/dsp24/inc/hal_DMA.h:37:57: note: expected 'uint64_t *' {aka 'long unsigned int *'} but argument is of type 'unsigned int'\n",
      "   37 | void set_DMAP(uint32_t num, uint64_t* addr_r, uint64_t* addr_w, uint64_t* addr_c, uint16_t inc_r, uint16_t inc_w, uint16_t len, uint8_t logd, uint32_t count);\n",
      "      |                                               ~~~~~~~~~~^~~~~~\n",
      "/tools/C/tedkim7/sp24-Baremetal-IDE/platform/dsp24/inc/hal_I2S.h:13:37: warning: passing argument 4 of 'set_DMAP' makes pointer from integer without a cast [-Wint-conversion]\n",
      "   13 | #define I2S_BASE                    0x10042000U\n",
      "      |                                     ^\n",
      "      |                                     |\n",
      "      |                                     unsigned int\n",
      "/tools/C/tedkim7/sp24-Baremetal-IDE/platform/dsp24/inc/hal_I2S.h:18:37: note: in expansion of macro 'I2S_BASE'\n",
      "   18 | #define I2S_WATERMARK_TX_L          I2S_BASE + 0x100\n",
      "      |                                     ^~~~~~~~\n",
      "/tools/C/tedkim7/sp24-Baremetal-IDE/platform/dsp24/src/hal_I2S.c:50:48: note: in expansion of macro 'I2S_WATERMARK_TX_L'\n",
      "   50 |         set_DMAP(dma_num, read_addr, I2S_TX_L, I2S_WATERMARK_TX_L, 8, 0, length, 3, poll);\n",
      "      |                                                ^~~~~~~~~~~~~~~~~~\n",
      "/tools/C/tedkim7/sp24-Baremetal-IDE/platform/dsp24/inc/hal_DMA.h:37:75: note: expected 'uint64_t *' {aka 'long unsigned int *'} but argument is of type 'unsigned int'\n",
      "   37 | void set_DMAP(uint32_t num, uint64_t* addr_r, uint64_t* addr_w, uint64_t* addr_c, uint16_t inc_r, uint16_t inc_w, uint16_t len, uint8_t logd, uint32_t count);\n",
      "      |                                                                 ~~~~~~~~~~^~~~~~\n",
      "/tools/C/tedkim7/sp24-Baremetal-IDE/platform/dsp24/src/hal_I2S.c:52:9: warning: incompatible implicit declaration of built-in function 'printf' [-Wbuiltin-declaration-mismatch]\n",
      "   52 |         printf(\"Writing to right queue\\n\");\n",
      "      |         ^~~~~~\n",
      "/tools/C/tedkim7/sp24-Baremetal-IDE/platform/dsp24/src/hal_I2S.c:52:9: note: include '<stdio.h>' or provide a declaration of 'printf'\n",
      "/tools/C/tedkim7/sp24-Baremetal-IDE/platform/dsp24/inc/hal_I2S.h:13:37: warning: passing argument 3 of 'set_DMAP' makes pointer from integer without a cast [-Wint-conversion]\n",
      "   13 | #define I2S_BASE                    0x10042000U\n",
      "      |                                     ^\n",
      "      |                                     |\n",
      "      |                                     unsigned int\n",
      "/tools/C/tedkim7/sp24-Baremetal-IDE/platform/dsp24/inc/hal_I2S.h:27:37: note: in expansion of macro 'I2S_BASE'\n",
      "   27 | #define I2S_TX_R                    I2S_BASE + 0x28\n",
      "      |                                     ^~~~~~~~\n",
      "/tools/C/tedkim7/sp24-Baremetal-IDE/platform/dsp24/src/hal_I2S.c:53:38: note: in expansion of macro 'I2S_TX_R'\n",
      "   53 |         set_DMAP(dma_num, read_addr, I2S_TX_R, I2S_WATERMARK_TX_R, 8, 0, length, 3, poll);\n",
      "      |                                      ^~~~~~~~\n",
      "/tools/C/tedkim7/sp24-Baremetal-IDE/platform/dsp24/inc/hal_DMA.h:37:57: note: expected 'uint64_t *' {aka 'long unsigned int *'} but argument is of type 'unsigned int'\n",
      "   37 | void set_DMAP(uint32_t num, uint64_t* addr_r, uint64_t* addr_w, uint64_t* addr_c, uint16_t inc_r, uint16_t inc_w, uint16_t len, uint8_t logd, uint32_t count);\n",
      "      |                                               ~~~~~~~~~~^~~~~~\n",
      "/tools/C/tedkim7/sp24-Baremetal-IDE/platform/dsp24/inc/hal_I2S.h:13:37: warning: passing argument 4 of 'set_DMAP' makes pointer from integer without a cast [-Wint-conversion]\n",
      "   13 | #define I2S_BASE                    0x10042000U\n",
      "      |                                     ^\n",
      "      |                                     |\n",
      "      |                                     unsigned int\n",
      "/tools/C/tedkim7/sp24-Baremetal-IDE/platform/dsp24/inc/hal_I2S.h:19:37: note: in expansion of macro 'I2S_BASE'\n",
      "   19 | #define I2S_WATERMARK_TX_R          I2S_BASE + 0x101\n",
      "      |                                     ^~~~~~~~\n",
      "/tools/C/tedkim7/sp24-Baremetal-IDE/platform/dsp24/src/hal_I2S.c:53:48: note: in expansion of macro 'I2S_WATERMARK_TX_R'\n",
      "   53 |         set_DMAP(dma_num, read_addr, I2S_TX_R, I2S_WATERMARK_TX_R, 8, 0, length, 3, poll);\n",
      "      |                                                ^~~~~~~~~~~~~~~~~~\n",
      "/tools/C/tedkim7/sp24-Baremetal-IDE/platform/dsp24/inc/hal_DMA.h:37:75: note: expected 'uint64_t *' {aka 'long unsigned int *'} but argument is of type 'unsigned int'\n",
      "   37 | void set_DMAP(uint32_t num, uint64_t* addr_r, uint64_t* addr_w, uint64_t* addr_c, uint16_t inc_r, uint16_t inc_w, uint16_t len, uint8_t logd, uint32_t count);\n",
      "      |                                                                 ~~~~~~~~~~^~~~~~\n",
      "/tools/C/tedkim7/sp24-Baremetal-IDE/platform/dsp24/src/hal_I2S.c: In function 'read_I2S_rx_DMA':\n",
      "/tools/C/tedkim7/sp24-Baremetal-IDE/platform/dsp24/inc/hal_I2S.h:13:37: warning: passing argument 2 of 'set_DMAP' makes pointer from integer without a cast [-Wint-conversion]\n",
      "   13 | #define I2S_BASE                    0x10042000U\n",
      "      |                                     ^\n",
      "      |                                     |\n",
      "      |                                     unsigned int\n",
      "/tools/C/tedkim7/sp24-Baremetal-IDE/platform/dsp24/inc/hal_I2S.h:28:37: note: in expansion of macro 'I2S_BASE'\n",
      "   28 | #define I2S_RX_L                    I2S_BASE + 0x60\n",
      "      |                                     ^~~~~~~~\n",
      "/tools/C/tedkim7/sp24-Baremetal-IDE/platform/dsp24/src/hal_I2S.c:60:27: note: in expansion of macro 'I2S_RX_L'\n",
      "   60 |         set_DMAP(dma_num, I2S_RX_L, write_addr, I2S_WATERMARK_RX_L, 0, 8, length, 3, poll);\n",
      "      |                           ^~~~~~~~\n",
      "/tools/C/tedkim7/sp24-Baremetal-IDE/platform/dsp24/inc/hal_DMA.h:37:39: note: expected 'uint64_t *' {aka 'long unsigned int *'} but argument is of type 'unsigned int'\n",
      "   37 | void set_DMAP(uint32_t num, uint64_t* addr_r, uint64_t* addr_w, uint64_t* addr_c, uint16_t inc_r, uint16_t inc_w, uint16_t len, uint8_t logd, uint32_t count);\n",
      "      |                             ~~~~~~~~~~^~~~~~\n",
      "/tools/C/tedkim7/sp24-Baremetal-IDE/platform/dsp24/inc/hal_I2S.h:13:37: warning: passing argument 4 of 'set_DMAP' makes pointer from integer without a cast [-Wint-conversion]\n",
      "   13 | #define I2S_BASE                    0x10042000U\n",
      "      |                                     ^\n",
      "      |                                     |\n",
      "      |                                     unsigned int\n",
      "/tools/C/tedkim7/sp24-Baremetal-IDE/platform/dsp24/inc/hal_I2S.h:16:37: note: in expansion of macro 'I2S_BASE'\n",
      "   16 | #define I2S_WATERMARK_RX_L          I2S_BASE + 0x102\n",
      "      |                                     ^~~~~~~~\n",
      "/tools/C/tedkim7/sp24-Baremetal-IDE/platform/dsp24/src/hal_I2S.c:60:49: note: in expansion of macro 'I2S_WATERMARK_RX_L'\n",
      "   60 |         set_DMAP(dma_num, I2S_RX_L, write_addr, I2S_WATERMARK_RX_L, 0, 8, length, 3, poll);\n",
      "      |                                                 ^~~~~~~~~~~~~~~~~~\n",
      "/tools/C/tedkim7/sp24-Baremetal-IDE/platform/dsp24/inc/hal_DMA.h:37:75: note: expected 'uint64_t *' {aka 'long unsigned int *'} but argument is of type 'unsigned int'\n",
      "   37 | void set_DMAP(uint32_t num, uint64_t* addr_r, uint64_t* addr_w, uint64_t* addr_c, uint16_t inc_r, uint16_t inc_w, uint16_t len, uint8_t logd, uint32_t count);\n",
      "      |                                                                 ~~~~~~~~~~^~~~~~\n",
      "/tools/C/tedkim7/sp24-Baremetal-IDE/platform/dsp24/inc/hal_I2S.h:13:37: warning: passing argument 2 of 'set_DMAP' makes pointer from integer without a cast [-Wint-conversion]\n",
      "   13 | #define I2S_BASE                    0x10042000U\n",
      "      |                                     ^\n",
      "      |                                     |\n",
      "      |                                     unsigned int\n",
      "/tools/C/tedkim7/sp24-Baremetal-IDE/platform/dsp24/inc/hal_I2S.h:29:37: note: in expansion of macro 'I2S_BASE'\n",
      "   29 | #define I2S_RX_R                    I2S_BASE + 0x68\n",
      "      |                                     ^~~~~~~~\n",
      "/tools/C/tedkim7/sp24-Baremetal-IDE/platform/dsp24/src/hal_I2S.c:62:27: note: in expansion of macro 'I2S_RX_R'\n",
      "   62 |         set_DMAP(dma_num, I2S_RX_R, write_addr, I2S_WATERMARK_RX_R, 0, 8, length, 3, poll);\n",
      "      |                           ^~~~~~~~\n",
      "/tools/C/tedkim7/sp24-Baremetal-IDE/platform/dsp24/inc/hal_DMA.h:37:39: note: expected 'uint64_t *' {aka 'long unsigned int *'} but argument is of type 'unsigned int'\n",
      "   37 | void set_DMAP(uint32_t num, uint64_t* addr_r, uint64_t* addr_w, uint64_t* addr_c, uint16_t inc_r, uint16_t inc_w, uint16_t len, uint8_t logd, uint32_t count);\n",
      "      |                             ~~~~~~~~~~^~~~~~\n",
      "/tools/C/tedkim7/sp24-Baremetal-IDE/platform/dsp24/inc/hal_I2S.h:13:37: warning: passing argument 4 of 'set_DMAP' makes pointer from integer without a cast [-Wint-conversion]\n",
      "   13 | #define I2S_BASE                    0x10042000U\n",
      "      |                                     ^\n",
      "      |                                     |\n",
      "      |                                     unsigned int\n",
      "/tools/C/tedkim7/sp24-Baremetal-IDE/platform/dsp24/inc/hal_I2S.h:17:37: note: in expansion of macro 'I2S_BASE'\n",
      "   17 | #define I2S_WATERMARK_RX_R          I2S_BASE + 0x103\n",
      "      |                                     ^~~~~~~~\n",
      "/tools/C/tedkim7/sp24-Baremetal-IDE/platform/dsp24/src/hal_I2S.c:62:49: note: in expansion of macro 'I2S_WATERMARK_RX_R'\n",
      "   62 |         set_DMAP(dma_num, I2S_RX_R, write_addr, I2S_WATERMARK_RX_R, 0, 8, length, 3, poll);\n",
      "      |                                                 ^~~~~~~~~~~~~~~~~~\n",
      "/tools/C/tedkim7/sp24-Baremetal-IDE/platform/dsp24/inc/hal_DMA.h:37:75: note: expected 'uint64_t *' {aka 'long unsigned int *'} but argument is of type 'unsigned int'\n",
      "   37 | void set_DMAP(uint32_t num, uint64_t* addr_r, uint64_t* addr_w, uint64_t* addr_c, uint16_t inc_r, uint16_t inc_w, uint16_t len, uint8_t logd, uint32_t count);\n",
      "      |                                                                 ~~~~~~~~~~^~~~~~\n"
     ]
    },
    {
     "name": "stdout",
     "output_type": "stream",
     "text": [
      "[ 41%] \u001b[32mBuilding C object platform/dsp24/CMakeFiles/chip-config.dir/src/hal_conv.c.obj\u001b[0m\n"
     ]
    },
    {
     "name": "stderr",
     "output_type": "stream",
     "text": [
      "/tools/C/tedkim7/sp24-Baremetal-IDE/platform/dsp24/src/hal_conv.c: In function 'write_conv_dma':\n",
      "/tools/C/tedkim7/sp24-Baremetal-IDE/platform/dsp24/src/hal_conv.c:13:5: warning: implicit declaration of function 'set_DMAC' [-Wimplicit-function-declaration]\n",
      "   13 |     set_DMAC(dma_num, (uint64_t*) data, CONV_BASE, 8, 0, length/8, 3);\n",
      "      |     ^~~~~~~~\n",
      "/tools/C/tedkim7/sp24-Baremetal-IDE/platform/dsp24/src/hal_conv.c:14:5: warning: implicit declaration of function 'start_DMA' [-Wimplicit-function-declaration]\n",
      "   14 |     start_DMA(dma_num);\n",
      "      |     ^~~~~~~~~\n",
      "/tools/C/tedkim7/sp24-Baremetal-IDE/platform/dsp24/src/hal_conv.c: In function 'read_conv_dma_p':\n",
      "/tools/C/tedkim7/sp24-Baremetal-IDE/platform/dsp24/src/hal_conv.c:23:5: warning: implicit declaration of function 'set_DMAP' [-Wimplicit-function-declaration]\n",
      "   23 |     set_DMAP(dma_num, CONV_OUTPUT_ADDR, write_addr, READ_CHECK_ADDR, 0, 8, length/4, 3, 0);\n",
      "      |     ^~~~~~~~\n"
     ]
    },
    {
     "name": "stdout",
     "output_type": "stream",
     "text": [
      "[ 43%] \u001b[32mBuilding C object platform/dsp24/CMakeFiles/chip-config.dir/src/hal_fft.c.obj\u001b[0m\n"
     ]
    },
    {
     "name": "stderr",
     "output_type": "stream",
     "text": [
      "/tools/C/tedkim7/sp24-Baremetal-IDE/platform/dsp24/src/hal_fft.c: In function 'write_fft_dma':\n",
      "/tools/C/tedkim7/sp24-Baremetal-IDE/platform/dsp24/src/hal_fft.c:28:23: warning: passing argument 2 of 'set_DMAC' makes integer from pointer without a cast [-Wint-conversion]\n",
      "   28 |     set_DMAC(dma_num, data, FFT_INPUT, 8, 0, length/2, 3);\n",
      "      |                       ^~~~\n",
      "      |                       |\n",
      "      |                       uint64_t * {aka long unsigned int *}\n",
      "In file included from /tools/C/tedkim7/sp24-Baremetal-IDE/platform/dsp24/inc/hal_fft.h:9,\n",
      "                 from /tools/C/tedkim7/sp24-Baremetal-IDE/platform/dsp24/src/hal_fft.c:1:\n",
      "/tools/C/tedkim7/sp24-Baremetal-IDE/platform/dsp24/inc/hal_DMA.h:34:38: note: expected 'uint64_t' {aka 'long unsigned int'} but argument is of type 'uint64_t *' {aka 'long unsigned int *'}\n",
      "   34 | void set_DMAC(uint32_t num, uint64_t addr_r, uint64_t addr_w, uint16_t inc_r, uint16_t inc_w, uint16_t len, uint16_t logd);\n",
      "      |                             ~~~~~~~~~^~~~~~\n",
      "/tools/C/tedkim7/sp24-Baremetal-IDE/platform/dsp24/src/hal_fft.c: In function 'read_fft_dma':\n",
      "/tools/C/tedkim7/sp24-Baremetal-IDE/platform/dsp24/src/hal_fft.c:33:35: warning: passing argument 3 of 'set_DMAC' makes integer from pointer without a cast [-Wint-conversion]\n",
      "   33 |     set_DMAC(dma_num, FFT_OUTPUT, write_addr, 0, 8, length, 2);\n",
      "      |                                   ^~~~~~~~~~\n",
      "      |                                   |\n",
      "      |                                   uint64_t * {aka long unsigned int *}\n",
      "/tools/C/tedkim7/sp24-Baremetal-IDE/platform/dsp24/inc/hal_DMA.h:34:55: note: expected 'uint64_t' {aka 'long unsigned int'} but argument is of type 'uint64_t *' {aka 'long unsigned int *'}\n",
      "   34 | void set_DMAC(uint32_t num, uint64_t addr_r, uint64_t addr_w, uint16_t inc_r, uint16_t inc_w, uint16_t len, uint16_t logd);\n",
      "      |                                              ~~~~~~~~~^~~~~~\n",
      "/tools/C/tedkim7/sp24-Baremetal-IDE/platform/dsp24/src/hal_fft.c: In function 'read_fft_real_dma':\n",
      "/tools/C/tedkim7/sp24-Baremetal-IDE/platform/dsp24/src/hal_fft.c:38:35: warning: passing argument 3 of 'set_DMAC' makes integer from pointer without a cast [-Wint-conversion]\n",
      "   38 |     set_DMAC(dma_num, FFT_OUTPUT, write_addr, 0, 4, length, 1);\n",
      "      |                                   ^~~~~~~~~~\n",
      "      |                                   |\n",
      "      |                                   uint64_t * {aka long unsigned int *}\n",
      "/tools/C/tedkim7/sp24-Baremetal-IDE/platform/dsp24/inc/hal_DMA.h:34:55: note: expected 'uint64_t' {aka 'long unsigned int'} but argument is of type 'uint64_t *' {aka 'long unsigned int *'}\n",
      "   34 | void set_DMAC(uint32_t num, uint64_t addr_r, uint64_t addr_w, uint16_t inc_r, uint16_t inc_w, uint16_t len, uint16_t logd);\n",
      "      |                                              ~~~~~~~~~^~~~~~\n"
     ]
    },
    {
     "name": "stdout",
     "output_type": "stream",
     "text": [
      "[ 46%] \u001b[32mBuilding C object platform/dsp24/CMakeFiles/chip-config.dir/src/hal_mmio.c.obj\u001b[0m\n",
      "[ 48%] \u001b[32m\u001b[1mLinking C static library libchip-config.a\u001b[0m\n",
      "gmake[4]: Leaving directory '/bwrcq/C/tedkim7/sp24-Baremetal-IDE/build'\n",
      "[ 48%] Built target chip-config\n",
      "gmake[4]: Entering directory '/bwrcq/C/tedkim7/sp24-Baremetal-IDE/build'\n",
      "gmake[4]: Leaving directory '/bwrcq/C/tedkim7/sp24-Baremetal-IDE/build'\n",
      "gmake[4]: Entering directory '/bwrcq/C/tedkim7/sp24-Baremetal-IDE/build'\n",
      "[ 51%] \u001b[32mBuilding ASM object glossy/CMakeFiles/glossy.dir/src/startup/crt0.S.obj\u001b[0m\n",
      "[ 53%] \u001b[32mBuilding ASM object glossy/CMakeFiles/glossy.dir/src/startup/init.S.obj\u001b[0m\n",
      "[ 56%] \u001b[32mBuilding C object glossy/CMakeFiles/glossy.dir/src/startup/secondary.c.obj\u001b[0m\n",
      "[ 58%] \u001b[32mBuilding ASM object glossy/CMakeFiles/glossy.dir/src/trap/trap.S.obj\u001b[0m\n",
      "[ 61%] \u001b[32mBuilding C object glossy/CMakeFiles/glossy.dir/src/trap/trap.c.obj\u001b[0m\n"
     ]
    },
    {
     "name": "stderr",
     "output_type": "stream",
     "text": [
      "/tools/C/tedkim7/sp24-Baremetal-IDE/glossy/src/trap/trap.c: In function 'trap_handler':\n",
      "/tools/C/tedkim7/sp24-Baremetal-IDE/glossy/src/trap/trap.c:73:92: warning: unused parameter 'm_tval' [-Wunused-parameter]\n",
      "   73 | __attribute__((weak)) uintptr_t trap_handler(uintptr_t m_epc, uintptr_t m_cause, uintptr_t m_tval, uintptr_t regs[32]) {\n",
      "      |                                                                                  ~~~~~~~~~~^~~~~~\n",
      "/tools/C/tedkim7/sp24-Baremetal-IDE/glossy/src/trap/trap.c:73:110: warning: unused parameter 'regs' [-Wunused-parameter]\n",
      "   73 | __attribute__((weak)) uintptr_t trap_handler(uintptr_t m_epc, uintptr_t m_cause, uintptr_t m_tval, uintptr_t regs[32]) {\n",
      "      |                                                                                                    ~~~~~~~~~~^~~~~~~~\n"
     ]
    },
    {
     "name": "stdout",
     "output_type": "stream",
     "text": [
      "[ 64%] \u001b[32mBuilding C object glossy/CMakeFiles/glossy.dir/src/sys/close.c.obj\u001b[0m\n"
     ]
    },
    {
     "name": "stderr",
     "output_type": "stream",
     "text": [
      "/tools/C/tedkim7/sp24-Baremetal-IDE/glossy/src/sys/close.c: In function '_close':\n",
      "/tools/C/tedkim7/sp24-Baremetal-IDE/glossy/src/sys/close.c:2:38: warning: unused parameter 'file' [-Wunused-parameter]\n",
      "    2 | __attribute__((weak)) int _close(int file) {\n",
      "      |                                  ~~~~^~~~\n"
     ]
    },
    {
     "name": "stdout",
     "output_type": "stream",
     "text": [
      "[ 66%] \u001b[32mBuilding C object glossy/CMakeFiles/glossy.dir/src/sys/exit.c.obj\u001b[0m\n"
     ]
    },
    {
     "name": "stderr",
     "output_type": "stream",
     "text": [
      "/tools/C/tedkim7/sp24-Baremetal-IDE/glossy/src/sys/exit.c: In function '_exit':\n",
      "/tools/C/tedkim7/sp24-Baremetal-IDE/glossy/src/sys/exit.c:4:48: warning: unused parameter 'code' [-Wunused-parameter]\n",
      "    4 | __attribute__((weak, noreturn)) void _exit(int code) {\n",
      "      |                                            ~~~~^~~~\n"
     ]
    },
    {
     "name": "stdout",
     "output_type": "stream",
     "text": [
      "[ 69%] \u001b[32mBuilding C object glossy/CMakeFiles/glossy.dir/src/sys/fstat.c.obj\u001b[0m\n"
     ]
    },
    {
     "name": "stderr",
     "output_type": "stream",
     "text": [
      "/tools/C/tedkim7/sp24-Baremetal-IDE/glossy/src/sys/fstat.c: In function '_fstat':\n",
      "/tools/C/tedkim7/sp24-Baremetal-IDE/glossy/src/sys/fstat.c:4:38: warning: unused parameter 'file' [-Wunused-parameter]\n",
      "    4 | __attribute__((weak)) int _fstat(int file, struct stat *st) {\n",
      "      |                                  ~~~~^~~~\n",
      "/tools/C/tedkim7/sp24-Baremetal-IDE/glossy/src/sys/fstat.c:4:57: warning: unused parameter 'st' [-Wunused-parameter]\n",
      "    4 | __attribute__((weak)) int _fstat(int file, struct stat *st) {\n",
      "      |                                            ~~~~~~~~~~~~~^~\n"
     ]
    },
    {
     "name": "stdout",
     "output_type": "stream",
     "text": [
      "[ 71%] \u001b[32mBuilding C object glossy/CMakeFiles/glossy.dir/src/sys/getpid.c.obj\u001b[0m\n",
      "[ 74%] \u001b[32mBuilding C object glossy/CMakeFiles/glossy.dir/src/sys/isatty.c.obj\u001b[0m\n",
      "[ 76%] \u001b[32mBuilding C object glossy/CMakeFiles/glossy.dir/src/sys/kill.c.obj\u001b[0m\n"
     ]
    },
    {
     "name": "stderr",
     "output_type": "stream",
     "text": [
      "/tools/C/tedkim7/sp24-Baremetal-IDE/glossy/src/sys/kill.c: In function '_kill':\n",
      "/tools/C/tedkim7/sp24-Baremetal-IDE/glossy/src/sys/kill.c:2:37: warning: unused parameter 'pid' [-Wunused-parameter]\n",
      "    2 | __attribute__((weak)) int _kill(int pid, int sig) {\n",
      "      |                                 ~~~~^~~\n",
      "/tools/C/tedkim7/sp24-Baremetal-IDE/glossy/src/sys/kill.c:2:46: warning: unused parameter 'sig' [-Wunused-parameter]\n",
      "    2 | __attribute__((weak)) int _kill(int pid, int sig) {\n",
      "      |                                          ~~~~^~~\n"
     ]
    },
    {
     "name": "stdout",
     "output_type": "stream",
     "text": [
      "[ 79%] \u001b[32mBuilding C object glossy/CMakeFiles/glossy.dir/src/sys/lseek.c.obj\u001b[0m\n"
     ]
    },
    {
     "name": "stderr",
     "output_type": "stream",
     "text": [
      "/tools/C/tedkim7/sp24-Baremetal-IDE/glossy/src/sys/lseek.c: In function '_lseek':\n",
      "/tools/C/tedkim7/sp24-Baremetal-IDE/glossy/src/sys/lseek.c:5:40: warning: unused parameter 'file' [-Wunused-parameter]\n",
      "    5 | __attribute__((weak)) off_t _lseek(int file, off_t ptr, int dir) {\n",
      "      |                                    ~~~~^~~~\n",
      "/tools/C/tedkim7/sp24-Baremetal-IDE/glossy/src/sys/lseek.c:5:52: warning: unused parameter 'ptr' [-Wunused-parameter]\n",
      "    5 | __attribute__((weak)) off_t _lseek(int file, off_t ptr, int dir) {\n",
      "      |                                              ~~~~~~^~~\n",
      "/tools/C/tedkim7/sp24-Baremetal-IDE/glossy/src/sys/lseek.c:5:61: warning: unused parameter 'dir' [-Wunused-parameter]\n",
      "    5 | __attribute__((weak)) off_t _lseek(int file, off_t ptr, int dir) {\n",
      "      |                                                         ~~~~^~~\n"
     ]
    },
    {
     "name": "stdout",
     "output_type": "stream",
     "text": [
      "[ 82%] \u001b[32mBuilding C object glossy/CMakeFiles/glossy.dir/src/sys/open.c.obj\u001b[0m\n"
     ]
    },
    {
     "name": "stderr",
     "output_type": "stream",
     "text": [
      "/tools/C/tedkim7/sp24-Baremetal-IDE/glossy/src/sys/open.c: In function '_open':\n",
      "/tools/C/tedkim7/sp24-Baremetal-IDE/glossy/src/sys/open.c:3:45: warning: unused parameter 'path' [-Wunused-parameter]\n",
      "    3 | __attribute__((weak)) int _open(const char *path, int flags, int mode) {\n",
      "      |                                 ~~~~~~~~~~~~^~~~\n",
      "/tools/C/tedkim7/sp24-Baremetal-IDE/glossy/src/sys/open.c:3:55: warning: unused parameter 'flags' [-Wunused-parameter]\n",
      "    3 | __attribute__((weak)) int _open(const char *path, int flags, int mode) {\n",
      "      |                                                   ~~~~^~~~~\n",
      "/tools/C/tedkim7/sp24-Baremetal-IDE/glossy/src/sys/open.c:3:66: warning: unused parameter 'mode' [-Wunused-parameter]\n",
      "    3 | __attribute__((weak)) int _open(const char *path, int flags, int mode) {\n",
      "      |                                                              ~~~~^~~~\n"
     ]
    },
    {
     "name": "stdout",
     "output_type": "stream",
     "text": [
      "[ 84%] \u001b[32mBuilding C object glossy/CMakeFiles/glossy.dir/src/sys/read.c.obj\u001b[0m\n"
     ]
    },
    {
     "name": "stderr",
     "output_type": "stream",
     "text": [
      "/tools/C/tedkim7/sp24-Baremetal-IDE/glossy/src/sys/read.c: In function '_read':\n",
      "/tools/C/tedkim7/sp24-Baremetal-IDE/glossy/src/sys/read.c:5:41: warning: unused parameter 'file' [-Wunused-parameter]\n",
      "    5 | __attribute__((weak)) ssize_t _read(int file, void *ptr, size_t len) {\n",
      "      |                                     ~~~~^~~~\n",
      "/tools/C/tedkim7/sp24-Baremetal-IDE/glossy/src/sys/read.c:5:53: warning: unused parameter 'ptr' [-Wunused-parameter]\n",
      "    5 | __attribute__((weak)) ssize_t _read(int file, void *ptr, size_t len) {\n",
      "      |                                               ~~~~~~^~~\n",
      "/tools/C/tedkim7/sp24-Baremetal-IDE/glossy/src/sys/read.c:5:65: warning: unused parameter 'len' [-Wunused-parameter]\n",
      "    5 | __attribute__((weak)) ssize_t _read(int file, void *ptr, size_t len) {\n",
      "      |                                                          ~~~~~~~^~~\n"
     ]
    },
    {
     "name": "stdout",
     "output_type": "stream",
     "text": [
      "[ 87%] \u001b[32mBuilding C object glossy/CMakeFiles/glossy.dir/src/sys/sbrk.c.obj\u001b[0m\n",
      "[ 89%] \u001b[32mBuilding C object glossy/CMakeFiles/glossy.dir/src/sys/time.c.obj\u001b[0m\n",
      "[ 92%] \u001b[32mBuilding C object glossy/CMakeFiles/glossy.dir/src/sys/write.c.obj\u001b[0m\n"
     ]
    },
    {
     "name": "stderr",
     "output_type": "stream",
     "text": [
      "/tools/C/tedkim7/sp24-Baremetal-IDE/glossy/src/sys/write.c: In function '_write':\n",
      "/tools/C/tedkim7/sp24-Baremetal-IDE/glossy/src/sys/write.c:8:42: warning: unused parameter 'fd' [-Wunused-parameter]\n",
      "    8 | __attribute__((weak)) ssize_t _write(int fd, const void *ptr, size_t len) {\n",
      "      |                                      ~~~~^~\n"
     ]
    },
    {
     "name": "stdout",
     "output_type": "stream",
     "text": [
      "[ 94%] \u001b[32m\u001b[1mLinking C static library libglossy.a\u001b[0m\n",
      "gmake[4]: Leaving directory '/bwrcq/C/tedkim7/sp24-Baremetal-IDE/build'\n",
      "[ 94%] Built target glossy\n",
      "gmake[4]: Entering directory '/bwrcq/C/tedkim7/sp24-Baremetal-IDE/build'\n",
      "gmake[4]: Leaving directory '/bwrcq/C/tedkim7/sp24-Baremetal-IDE/build'\n",
      "gmake[4]: Entering directory '/bwrcq/C/tedkim7/sp24-Baremetal-IDE/build'\n",
      "[ 97%] \u001b[32mBuilding C object CMakeFiles/shmoo_bench.dir/shmoo_bench/dsp_conv_bench/src/main.c.obj\u001b[0m\n"
     ]
    },
    {
     "name": "stderr",
     "output_type": "stream",
     "text": [
      "/tools/C/tedkim7/sp24-Baremetal-IDE/shmoo_bench/dsp_conv_bench/src/main.c: In function 'app_main':\n",
      "/tools/C/tedkim7/sp24-Baremetal-IDE/shmoo_bench/dsp_conv_bench/src/main.c:61:5: warning: implicit declaration of function 'reg_write8' [-Wimplicit-function-declaration]\n",
      "   61 |     reg_write8(RESET_ADDR, 1);\n",
      "      |     ^~~~~~~~~~\n",
      "/tools/C/tedkim7/sp24-Baremetal-IDE/shmoo_bench/dsp_conv_bench/src/main.c:71:5: warning: implicit declaration of function 'set_conv_params' [-Wimplicit-function-declaration]\n",
      "   71 |     set_conv_params(16, 1, ((uint64_t*) in_kernel));\n",
      "      |     ^~~~~~~~~~~~~~~\n",
      "/tools/C/tedkim7/sp24-Baremetal-IDE/shmoo_bench/dsp_conv_bench/src/main.c:72:5: warning: implicit declaration of function 'write_conv_dma' [-Wimplicit-function-declaration]\n",
      "   72 |     write_conv_dma(0, 16, in_arr);\n",
      "      |     ^~~~~~~~~~~~~~\n",
      "/tools/C/tedkim7/sp24-Baremetal-IDE/shmoo_bench/dsp_conv_bench/src/main.c:77:5: warning: implicit declaration of function 'start_conv' [-Wimplicit-function-declaration]\n",
      "   77 |     start_conv();\n",
      "      |     ^~~~~~~~~~\n",
      "/tools/C/tedkim7/sp24-Baremetal-IDE/shmoo_bench/dsp_conv_bench/src/main.c:91:5: warning: implicit declaration of function 'read_conv_dma' [-Wimplicit-function-declaration]\n",
      "   91 |     read_conv_dma(0, 16, ((uint64_t*) test_out));\n",
      "      |     ^~~~~~~~~~~~~\n",
      "/tools/C/tedkim7/sp24-Baremetal-IDE/shmoo_bench/dsp_conv_bench/src/main.c:95:20: warning: format '%lx' expects argument of type 'long unsigned int', but argument 2 has type 'int' [-Wformat=]\n",
      "   95 |             printf(\"%\"PRIx64\" \", test_out[i*4 + j]);\n",
      "      |                    ^~~           ~~~~~~~~~~~~~~~~~\n",
      "      |                                          |\n",
      "      |                                          int\n",
      "/tools/C/tedkim7/sp24-Baremetal-IDE/shmoo_bench/dsp_conv_bench/src/main.c:100:14: warning: variable 'ref_out' set but not used [-Wunused-but-set-variable]\n",
      "  100 |     uint16_t ref_out[32];\n",
      "      |              ^~~~~~~\n",
      "/tools/C/tedkim7/sp24-Baremetal-IDE/shmoo_bench/dsp_conv_bench/src/main.c:79:14: warning: unused variable 'cpu_end_cycles' [-Wunused-variable]\n",
      "   79 |     uint64_t cpu_end_cycles = READ_CSR(\"mcycle\");\n",
      "      |              ^~~~~~~~~~~~~~\n",
      "/tools/C/tedkim7/sp24-Baremetal-IDE/shmoo_bench/dsp_conv_bench/src/main.c:74:14: warning: unused variable 'cpu_start_cycles' [-Wunused-variable]\n",
      "   74 |     uint64_t cpu_start_cycles = READ_CSR(\"mcycle\");\n",
      "      |              ^~~~~~~~~~~~~~~~\n",
      "/tools/C/tedkim7/sp24-Baremetal-IDE/shmoo_bench/dsp_conv_bench/src/main.c:67:14: warning: unused variable 'in_dilation' [-Wunused-variable]\n",
      "   67 |     uint16_t in_dilation[1] = {1};\n",
      "      |              ^~~~~~~~~~~\n",
      "/tools/C/tedkim7/sp24-Baremetal-IDE/shmoo_bench/dsp_conv_bench/src/main.c:66:14: warning: unused variable 'in_len' [-Wunused-variable]\n",
      "   66 |     uint32_t in_len[1] = {16};\n",
      "      |              ^~~~~~\n",
      "/tools/C/tedkim7/sp24-Baremetal-IDE/shmoo_bench/dsp_conv_bench/src/main.c: In function 'main':\n",
      "/tools/C/tedkim7/sp24-Baremetal-IDE/shmoo_bench/dsp_conv_bench/src/main.c:127:14: warning: unused parameter 'argc' [-Wunused-parameter]\n",
      "  127 | int main(int argc, char **argv) {\n",
      "      |          ~~~~^~~~\n",
      "/tools/C/tedkim7/sp24-Baremetal-IDE/shmoo_bench/dsp_conv_bench/src/main.c:127:27: warning: unused parameter 'argv' [-Wunused-parameter]\n",
      "  127 | int main(int argc, char **argv) {\n",
      "      |                    ~~~~~~~^~~~\n"
     ]
    },
    {
     "name": "stdout",
     "output_type": "stream",
     "text": [
      "[100%] \u001b[32m\u001b[1mLinking C executable shmoo_bench.elf\u001b[0m\n"
     ]
    },
    {
     "name": "stderr",
     "output_type": "stream",
     "text": [
      "/bwrcq/C/ee290-fa24-2/.conda-env/riscv-tools/bin/../lib/gcc/riscv64-unknown-elf/13.2.0/../../../../riscv64-unknown-elf/bin/ld: warning: shmoo_bench.elf has a LOAD segment with RWX permissions\n"
     ]
    },
    {
     "name": "stdout",
     "output_type": "stream",
     "text": [
      "gmake[4]: Leaving directory '/bwrcq/C/tedkim7/sp24-Baremetal-IDE/build'\n",
      "[100%] Built target shmoo_bench\n",
      "gmake[3]: Leaving directory '/bwrcq/C/tedkim7/sp24-Baremetal-IDE/build'\n",
      "gmake[2]: Leaving directory '/bwrcq/C/tedkim7/sp24-Baremetal-IDE/build'\n",
      "gmake[1]: Leaving directory '/bwrcq/C/tedkim7/sp24-Baremetal-IDE/build'\n",
      "**Clock set to: 750MHz**\n",
      "**Voltage set to: +5.00000000E-01\n",
      "V**\n"
     ]
    },
    {
     "name": "stderr",
     "output_type": "stream",
     "text": [
      "warning: tohost and fromhost symbols not in ELF; can't communicate with target\n",
      "Writing 14006c with f\n",
      "Done writing 14006c with f\n"
     ]
    },
    {
     "name": "stdout",
     "output_type": "stream",
     "text": [
      "Starting UART-based TSI\n",
      "Usage: ./uart_tsi +tty=/dev/pts/xx <PLUSARGS> <bin>\n",
      "       ./uart_tsi +tty=/dev/ttyxx  <PLUSARGS> <bin>\n",
      "       ./uart_tsi +tty=/dev/ttyxx  +no_hart0_msip +init_write=0x80000000:0xdeadbeef none\n",
      "       ./uart_tsi +tty=/dev/ttyxx  +no_hart0_msip +init_read=0x80000000 none\n",
      "       ./uart_tsi +tty=/dev/ttyxx  +selfcheck <bin>\n",
      "       ./uart_tsi +tty=/dev/ttyxx  +baudrate=921600 <bin>\n",
      "Attempting to open TTY at /dev/ttyUSB1\n",
      "Warning: You selected a non-standard baudrate. This will only work if the HW was configured with this baud-rate\n",
      "Checking connection status with /dev/ttyUSB1\n",
      "Connection succeeded\n",
      "Done, shutting down, flushing UART\n",
      "WARNING: You should probably reset the target before running this program again\n",
      "Done: now reset during the sleep before next iteration\n",
      "**Voltage set to: +5.50000000E-01\n",
      "V**\n"
     ]
    },
    {
     "name": "stderr",
     "output_type": "stream",
     "text": [
      "warning: tohost and fromhost symbols not in ELF; can't communicate with target\n",
      "Writing 14006c with f\n",
      "Done writing 14006c with f\n"
     ]
    },
    {
     "name": "stdout",
     "output_type": "stream",
     "text": [
      "Starting UART-based TSI\n",
      "Usage: ./uart_tsi +tty=/dev/pts/xx <PLUSARGS> <bin>\n",
      "       ./uart_tsi +tty=/dev/ttyxx  <PLUSARGS> <bin>\n",
      "       ./uart_tsi +tty=/dev/ttyxx  +no_hart0_msip +init_write=0x80000000:0xdeadbeef none\n",
      "       ./uart_tsi +tty=/dev/ttyxx  +no_hart0_msip +init_read=0x80000000 none\n",
      "       ./uart_tsi +tty=/dev/ttyxx  +selfcheck <bin>\n",
      "       ./uart_tsi +tty=/dev/ttyxx  +baudrate=921600 <bin>\n",
      "Attempting to open TTY at /dev/ttyUSB1\n",
      "Warning: You selected a non-standard baudrate. This will only work if the HW was configured with this baud-rate\n",
      "Checking connection status with /dev/ttyUSB1\n",
      "Connection succeeded\n",
      "Done, shutting down, flushing UART\n",
      "WARNING: You should probably reset the target before running this program again\n",
      "Done: now reset during the sleep before next iteration\n",
      "**Voltage set to: +6.00000000E-01\n",
      "V**\n"
     ]
    },
    {
     "name": "stderr",
     "output_type": "stream",
     "text": [
      "warning: tohost and fromhost symbols not in ELF; can't communicate with target\n",
      "Writing 14006c with f\n",
      "Done writing 14006c with f\n"
     ]
    },
    {
     "name": "stdout",
     "output_type": "stream",
     "text": [
      "Starting UART-based TSI\n",
      "Usage: ./uart_tsi +tty=/dev/pts/xx <PLUSARGS> <bin>\n",
      "       ./uart_tsi +tty=/dev/ttyxx  <PLUSARGS> <bin>\n",
      "       ./uart_tsi +tty=/dev/ttyxx  +no_hart0_msip +init_write=0x80000000:0xdeadbeef none\n",
      "       ./uart_tsi +tty=/dev/ttyxx  +no_hart0_msip +init_read=0x80000000 none\n",
      "       ./uart_tsi +tty=/dev/ttyxx  +selfcheck <bin>\n",
      "       ./uart_tsi +tty=/dev/ttyxx  +baudrate=921600 <bin>\n",
      "Attempting to open TTY at /dev/ttyUSB1\n",
      "Warning: You selected a non-standard baudrate. This will only work if the HW was configured with this baud-rate\n",
      "Checking connection status with /dev/ttyUSB1\n",
      "Connection succeeded\n",
      "Done, shutting down, flushing UART\n",
      "WARNING: You should probably reset the target before running this program again\n",
      "Done: now reset during the sleep before next iteration\n",
      "**Voltage set to: +6.50000000E-01\n",
      "V**\n"
     ]
    },
    {
     "name": "stderr",
     "output_type": "stream",
     "text": [
      "warning: tohost and fromhost symbols not in ELF; can't communicate with target\n",
      "Writing 14006c with f\n",
      "Done writing 14006c with f\n"
     ]
    },
    {
     "name": "stdout",
     "output_type": "stream",
     "text": [
      "Starting UART-based TSI\n",
      "Usage: ./uart_tsi +tty=/dev/pts/xx <PLUSARGS> <bin>\n",
      "       ./uart_tsi +tty=/dev/ttyxx  <PLUSARGS> <bin>\n",
      "       ./uart_tsi +tty=/dev/ttyxx  +no_hart0_msip +init_write=0x80000000:0xdeadbeef none\n",
      "       ./uart_tsi +tty=/dev/ttyxx  +no_hart0_msip +init_read=0x80000000 none\n",
      "       ./uart_tsi +tty=/dev/ttyxx  +selfcheck <bin>\n",
      "       ./uart_tsi +tty=/dev/ttyxx  +baudrate=921600 <bin>\n",
      "Attempting to open TTY at /dev/ttyUSB1\n",
      "Warning: You selected a non-standard baudrate. This will only work if the HW was configured with this baud-rate\n",
      "Checking connection status with /dev/ttyUSB1\n",
      "Connection succeeded\n",
      "Done, shutting down, flushing UART\n",
      "WARNING: You should probably reset the target before running this program again\n",
      "Done: now reset during the sleep before next iteration\n",
      "**Voltage set to: +7.00000000E-01\n",
      "V**\n"
     ]
    },
    {
     "name": "stderr",
     "output_type": "stream",
     "text": [
      "warning: tohost and fromhost symbols not in ELF; can't communicate with target\n",
      "Writing 14006c with f\n",
      "Done writing 14006c with f\n"
     ]
    },
    {
     "name": "stdout",
     "output_type": "stream",
     "text": [
      "Starting UART-based TSI\n",
      "Usage: ./uart_tsi +tty=/dev/pts/xx <PLUSARGS> <bin>\n",
      "       ./uart_tsi +tty=/dev/ttyxx  <PLUSARGS> <bin>\n",
      "       ./uart_tsi +tty=/dev/ttyxx  +no_hart0_msip +init_write=0x80000000:0xdeadbeef none\n",
      "       ./uart_tsi +tty=/dev/ttyxx  +no_hart0_msip +init_read=0x80000000 none\n",
      "       ./uart_tsi +tty=/dev/ttyxx  +selfcheck <bin>\n",
      "       ./uart_tsi +tty=/dev/ttyxx  +baudrate=921600 <bin>\n",
      "Attempting to open TTY at /dev/ttyUSB1\n",
      "Warning: You selected a non-standard baudrate. This will only work if the HW was configured with this baud-rate\n",
      "Checking connection status with /dev/ttyUSB1\n",
      "Connection succeeded\n",
      "Done, shutting down, flushing UART\n",
      "WARNING: You should probably reset the target before running this program again\n",
      "Done: now reset during the sleep before next iteration\n",
      "**Voltage set to: +7.50000000E-01\n",
      "V**\n"
     ]
    },
    {
     "name": "stderr",
     "output_type": "stream",
     "text": [
      "warning: tohost and fromhost symbols not in ELF; can't communicate with target\n",
      "Writing 14006c with f\n",
      "Done writing 14006c with f\n"
     ]
    },
    {
     "name": "stdout",
     "output_type": "stream",
     "text": [
      "Starting UART-based TSI\n",
      "Usage: ./uart_tsi +tty=/dev/pts/xx <PLUSARGS> <bin>\n",
      "       ./uart_tsi +tty=/dev/ttyxx  <PLUSARGS> <bin>\n",
      "       ./uart_tsi +tty=/dev/ttyxx  +no_hart0_msip +init_write=0x80000000:0xdeadbeef none\n",
      "       ./uart_tsi +tty=/dev/ttyxx  +no_hart0_msip +init_read=0x80000000 none\n",
      "       ./uart_tsi +tty=/dev/ttyxx  +selfcheck <bin>\n",
      "       ./uart_tsi +tty=/dev/ttyxx  +baudrate=921600 <bin>\n",
      "Attempting to open TTY at /dev/ttyUSB1\n",
      "Warning: You selected a non-standard baudrate. This will only work if the HW was configured with this baud-rate\n",
      "Checking connection status with /dev/ttyUSB1\n",
      "Connection succeeded\n",
      "Done, shutting down, flushing UART\n",
      "WARNING: You should probably reset the target before running this program again\n",
      "Done: now reset during the sleep before next iteration\n",
      "**Voltage set to: +8.00000000E-01\n",
      "V**\n"
     ]
    },
    {
     "name": "stderr",
     "output_type": "stream",
     "text": [
      "warning: tohost and fromhost symbols not in ELF; can't communicate with target\n",
      "Writing 14006c with f\n",
      "Done writing 14006c with f\n"
     ]
    },
    {
     "name": "stdout",
     "output_type": "stream",
     "text": [
      "Starting UART-based TSI\n",
      "Usage: ./uart_tsi +tty=/dev/pts/xx <PLUSARGS> <bin>\n",
      "       ./uart_tsi +tty=/dev/ttyxx  <PLUSARGS> <bin>\n",
      "       ./uart_tsi +tty=/dev/ttyxx  +no_hart0_msip +init_write=0x80000000:0xdeadbeef none\n",
      "       ./uart_tsi +tty=/dev/ttyxx  +no_hart0_msip +init_read=0x80000000 none\n",
      "       ./uart_tsi +tty=/dev/ttyxx  +selfcheck <bin>\n",
      "       ./uart_tsi +tty=/dev/ttyxx  +baudrate=921600 <bin>\n",
      "Attempting to open TTY at /dev/ttyUSB1\n",
      "Warning: You selected a non-standard baudrate. This will only work if the HW was configured with this baud-rate\n",
      "Checking connection status with /dev/ttyUSB1\n",
      "Connection succeeded\n",
      "Done, shutting down, flushing UART\n",
      "WARNING: You should probably reset the target before running this program again\n",
      "Done: now reset during the sleep before next iteration\n",
      "**Voltage set to: +8.50000000E-01\n",
      "V**\n"
     ]
    },
    {
     "name": "stderr",
     "output_type": "stream",
     "text": [
      "warning: tohost and fromhost symbols not in ELF; can't communicate with target\n",
      "Writing 14006c with f\n",
      "Done writing 14006c with f\n"
     ]
    },
    {
     "name": "stdout",
     "output_type": "stream",
     "text": [
      "Starting UART-based TSI\n",
      "Usage: ./uart_tsi +tty=/dev/pts/xx <PLUSARGS> <bin>\n",
      "       ./uart_tsi +tty=/dev/ttyxx  <PLUSARGS> <bin>\n",
      "       ./uart_tsi +tty=/dev/ttyxx  +no_hart0_msip +init_write=0x80000000:0xdeadbeef none\n",
      "       ./uart_tsi +tty=/dev/ttyxx  +no_hart0_msip +init_read=0x80000000 none\n",
      "       ./uart_tsi +tty=/dev/ttyxx  +selfcheck <bin>\n",
      "       ./uart_tsi +tty=/dev/ttyxx  +baudrate=921600 <bin>\n",
      "Attempting to open TTY at /dev/ttyUSB1\n",
      "Warning: You selected a non-standard baudrate. This will only work if the HW was configured with this baud-rate\n",
      "Checking connection status with /dev/ttyUSB1\n",
      "Connection succeeded\n",
      "Done, shutting down, flushing UART\n",
      "WARNING: You should probably reset the target before running this program again\n",
      "Done: now reset during the sleep before next iteration\n",
      "**Voltage set to: +9.00000000E-01\n",
      "V**\n"
     ]
    },
    {
     "name": "stderr",
     "output_type": "stream",
     "text": [
      "warning: tohost and fromhost symbols not in ELF; can't communicate with target\n",
      "Writing 14006c with f\n",
      "Done writing 14006c with f\n"
     ]
    },
    {
     "name": "stdout",
     "output_type": "stream",
     "text": [
      "b'0 4400 4600 4800 4900 4a00 4b00 4c00 4c80 4d00 4d80 4e00 4e80 4f00 4f80 5000 \\r\\n'\n",
      "Starting UART-based TSI\n",
      "Usage: ./uart_tsi +tty=/dev/pts/xx <PLUSARGS> <bin>\n",
      "       ./uart_tsi +tty=/dev/ttyxx  <PLUSARGS> <bin>\n",
      "       ./uart_tsi +tty=/dev/ttyxx  +no_hart0_msip +init_write=0x80000000:0xdeadbeef none\n",
      "       ./uart_tsi +tty=/dev/ttyxx  +no_hart0_msip +init_read=0x80000000 none\n",
      "       ./uart_tsi +tty=/dev/ttyxx  +selfcheck <bin>\n",
      "       ./uart_tsi +tty=/dev/ttyxx  +baudrate=921600 <bin>\n",
      "Attempting to open TTY at /dev/ttyUSB1\n",
      "Warning: You selected a non-standard baudrate. This will only work if the HW was configured with this baud-rate\n",
      "Checking connection status with /dev/ttyUSB1\n",
      "Connection succeeded\n",
      "Done, shutting down, flushing UART\n",
      "WARNING: You should probably reset the target before running this program again\n",
      "Done: now reset during the sleep before next iteration\n",
      "**Voltage set to: +9.50000000E-01\n",
      "V**\n"
     ]
    },
    {
     "name": "stderr",
     "output_type": "stream",
     "text": [
      "warning: tohost and fromhost symbols not in ELF; can't communicate with target\n",
      "Writing 14006c with f\n",
      "Done writing 14006c with f\n"
     ]
    },
    {
     "name": "stdout",
     "output_type": "stream",
     "text": [
      "b'0 4400 4600 4800 4900 4a00 4b00 4c00 4c80 4d00 4d80 4e00 4e80 4f00 4f80 5000 \\r\\n'\n",
      "Starting UART-based TSI\n",
      "Usage: ./uart_tsi +tty=/dev/pts/xx <PLUSARGS> <bin>\n",
      "       ./uart_tsi +tty=/dev/ttyxx  <PLUSARGS> <bin>\n",
      "       ./uart_tsi +tty=/dev/ttyxx  +no_hart0_msip +init_write=0x80000000:0xdeadbeef none\n",
      "       ./uart_tsi +tty=/dev/ttyxx  +no_hart0_msip +init_read=0x80000000 none\n",
      "       ./uart_tsi +tty=/dev/ttyxx  +selfcheck <bin>\n",
      "       ./uart_tsi +tty=/dev/ttyxx  +baudrate=921600 <bin>\n",
      "Attempting to open TTY at /dev/ttyUSB1\n",
      "Warning: You selected a non-standard baudrate. This will only work if the HW was configured with this baud-rate\n",
      "Checking connection status with /dev/ttyUSB1\n",
      "Connection succeeded\n",
      "Done, shutting down, flushing UART\n",
      "WARNING: You should probably reset the target before running this program again\n",
      "Done: now reset during the sleep before next iteration\n",
      "**Voltage set to: +1.00000000E+00\n",
      "V**\n"
     ]
    },
    {
     "name": "stderr",
     "output_type": "stream",
     "text": [
      "warning: tohost and fromhost symbols not in ELF; can't communicate with target\n",
      "Writing 14006c with f\n",
      "Done writing 14006c with f\n"
     ]
    },
    {
     "name": "stdout",
     "output_type": "stream",
     "text": [
      "b'0 4400 4600 4800 4900 4a00 4b00 4c00 4c80 4d00 4d80 4e00 4e80 4f00 4f80 5000 \\r\\n'\n",
      "Starting UART-based TSI\n",
      "Usage: ./uart_tsi +tty=/dev/pts/xx <PLUSARGS> <bin>\n",
      "       ./uart_tsi +tty=/dev/ttyxx  <PLUSARGS> <bin>\n",
      "       ./uart_tsi +tty=/dev/ttyxx  +no_hart0_msip +init_write=0x80000000:0xdeadbeef none\n",
      "       ./uart_tsi +tty=/dev/ttyxx  +no_hart0_msip +init_read=0x80000000 none\n",
      "       ./uart_tsi +tty=/dev/ttyxx  +selfcheck <bin>\n",
      "       ./uart_tsi +tty=/dev/ttyxx  +baudrate=921600 <bin>\n",
      "Attempting to open TTY at /dev/ttyUSB1\n",
      "Warning: You selected a non-standard baudrate. This will only work if the HW was configured with this baud-rate\n",
      "Checking connection status with /dev/ttyUSB1\n",
      "Connection succeeded\n",
      "Done, shutting down, flushing UART\n",
      "WARNING: You should probably reset the target before running this program again\n",
      "Done: now reset during the sleep before next iteration\n",
      "**Voltage set to: +1.05000000E+00\n",
      "V**\n"
     ]
    },
    {
     "name": "stderr",
     "output_type": "stream",
     "text": [
      "warning: tohost and fromhost symbols not in ELF; can't communicate with target\n",
      "Writing 14006c with f\n",
      "Done writing 14006c with f\n"
     ]
    },
    {
     "name": "stdout",
     "output_type": "stream",
     "text": [
      "b'0 4400 4600 4800 4900 4a00 4b00 4c00 4c80 4d00 4d80 4e00 4e80 4f00 4f80 5000 \\r\\n'\n",
      "Starting UART-based TSI\n",
      "Usage: ./uart_tsi +tty=/dev/pts/xx <PLUSARGS> <bin>\n",
      "       ./uart_tsi +tty=/dev/ttyxx  <PLUSARGS> <bin>\n",
      "       ./uart_tsi +tty=/dev/ttyxx  +no_hart0_msip +init_write=0x80000000:0xdeadbeef none\n",
      "       ./uart_tsi +tty=/dev/ttyxx  +no_hart0_msip +init_read=0x80000000 none\n",
      "       ./uart_tsi +tty=/dev/ttyxx  +selfcheck <bin>\n",
      "       ./uart_tsi +tty=/dev/ttyxx  +baudrate=921600 <bin>\n",
      "Attempting to open TTY at /dev/ttyUSB1\n",
      "Warning: You selected a non-standard baudrate. This will only work if the HW was configured with this baud-rate\n",
      "Checking connection status with /dev/ttyUSB1\n",
      "Connection succeeded\n",
      "Done, shutting down, flushing UART\n",
      "WARNING: You should probably reset the target before running this program again\n",
      "Done: now reset during the sleep before next iteration\n",
      "**Voltage set to: +1.10000000E+00\n",
      "V**\n"
     ]
    },
    {
     "name": "stderr",
     "output_type": "stream",
     "text": [
      "warning: tohost and fromhost symbols not in ELF; can't communicate with target\n",
      "Writing 14006c with f\n",
      "Done writing 14006c with f\n"
     ]
    },
    {
     "name": "stdout",
     "output_type": "stream",
     "text": [
      "b'0 4400 4600 4800 4900 4a00 4b00 4c00 4c80 4d00 4d80 4e00 4e80 4f00 4f80 5000 \\r\\n'\n",
      "Starting UART-based TSI\n",
      "Usage: ./uart_tsi +tty=/dev/pts/xx <PLUSARGS> <bin>\n",
      "       ./uart_tsi +tty=/dev/ttyxx  <PLUSARGS> <bin>\n",
      "       ./uart_tsi +tty=/dev/ttyxx  +no_hart0_msip +init_write=0x80000000:0xdeadbeef none\n",
      "       ./uart_tsi +tty=/dev/ttyxx  +no_hart0_msip +init_read=0x80000000 none\n",
      "       ./uart_tsi +tty=/dev/ttyxx  +selfcheck <bin>\n",
      "       ./uart_tsi +tty=/dev/ttyxx  +baudrate=921600 <bin>\n",
      "Attempting to open TTY at /dev/ttyUSB1\n",
      "Warning: You selected a non-standard baudrate. This will only work if the HW was configured with this baud-rate\n",
      "Checking connection status with /dev/ttyUSB1\n",
      "Connection succeeded\n",
      "Done, shutting down, flushing UART\n",
      "WARNING: You should probably reset the target before running this program again\n",
      "Done: now reset during the sleep before next iteration\n",
      "**Voltage set to: +1.15000000E+00\n",
      "V**\n"
     ]
    },
    {
     "name": "stderr",
     "output_type": "stream",
     "text": [
      "warning: tohost and fromhost symbols not in ELF; can't communicate with target\n",
      "Writing 14006c with f\n",
      "Done writing 14006c with f\n"
     ]
    },
    {
     "name": "stdout",
     "output_type": "stream",
     "text": [
      "b'0 4400 4600 4800 4900 4a00 4b00 4c00 4c80 4d00 4d80 4e00 4e80 4f00 4f80 5000 \\r\\n'\n",
      "Starting UART-based TSI\n",
      "Usage: ./uart_tsi +tty=/dev/pts/xx <PLUSARGS> <bin>\n",
      "       ./uart_tsi +tty=/dev/ttyxx  <PLUSARGS> <bin>\n",
      "       ./uart_tsi +tty=/dev/ttyxx  +no_hart0_msip +init_write=0x80000000:0xdeadbeef none\n",
      "       ./uart_tsi +tty=/dev/ttyxx  +no_hart0_msip +init_read=0x80000000 none\n",
      "       ./uart_tsi +tty=/dev/ttyxx  +selfcheck <bin>\n",
      "       ./uart_tsi +tty=/dev/ttyxx  +baudrate=921600 <bin>\n",
      "Attempting to open TTY at /dev/ttyUSB1\n",
      "Warning: You selected a non-standard baudrate. This will only work if the HW was configured with this baud-rate\n",
      "Checking connection status with /dev/ttyUSB1\n",
      "Connection succeeded\n",
      "Done, shutting down, flushing UART\n",
      "WARNING: You should probably reset the target before running this program again\n",
      "Done: now reset during the sleep before next iteration\n",
      "**Voltage set to: +1.20000000E+00\n",
      "V**\n"
     ]
    },
    {
     "name": "stderr",
     "output_type": "stream",
     "text": [
      "warning: tohost and fromhost symbols not in ELF; can't communicate with target\n",
      "Writing 14006c with f\n",
      "Done writing 14006c with f\n"
     ]
    },
    {
     "name": "stdout",
     "output_type": "stream",
     "text": [
      "b'0 4400 4600 4800 4900 4a00 4b00 4c00 4c80 4d00 4d80 4e00 4e80 4f00 4f80 5000 \\r\\n'\n",
      "Starting UART-based TSI\n",
      "Usage: ./uart_tsi +tty=/dev/pts/xx <PLUSARGS> <bin>\n",
      "       ./uart_tsi +tty=/dev/ttyxx  <PLUSARGS> <bin>\n",
      "       ./uart_tsi +tty=/dev/ttyxx  +no_hart0_msip +init_write=0x80000000:0xdeadbeef none\n",
      "       ./uart_tsi +tty=/dev/ttyxx  +no_hart0_msip +init_read=0x80000000 none\n",
      "       ./uart_tsi +tty=/dev/ttyxx  +selfcheck <bin>\n",
      "       ./uart_tsi +tty=/dev/ttyxx  +baudrate=921600 <bin>\n",
      "Attempting to open TTY at /dev/ttyUSB1\n",
      "Warning: You selected a non-standard baudrate. This will only work if the HW was configured with this baud-rate\n",
      "Checking connection status with /dev/ttyUSB1\n",
      "Connection succeeded\n",
      "Done, shutting down, flushing UART\n",
      "WARNING: You should probably reset the target before running this program again\n",
      "Done: now reset during the sleep before next iteration\n",
      "rm -rf build\n",
      "cmake -S ./ -B ./build/ -D CMAKE_TOOLCHAIN_FILE=./riscv-gcc.cmake -DCHIP=dsp24\n",
      "-- The ASM compiler identification is GNU\n",
      "-- Found assembler: /tools/C/ee290-fa24-2/.conda-env/riscv-tools/bin/riscv64-unknown-elf-gcc\n",
      "-- The C compiler identification is GNU 13.2.0\n",
      "-- The CXX compiler identification is GNU 13.2.0\n",
      "-- Detecting C compiler ABI info\n",
      "-- Detecting C compiler ABI info - done\n",
      "-- Check for working C compiler: /tools/C/ee290-fa24-2/.conda-env/riscv-tools/bin/riscv64-unknown-elf-gcc - skipped\n",
      "-- Detecting C compile features\n",
      "-- Detecting C compile features - done\n",
      "-- Detecting CXX compiler ABI info\n",
      "-- Detecting CXX compiler ABI info - done\n",
      "-- Check for working CXX compiler: /tools/C/ee290-fa24-2/.conda-env/riscv-tools/bin/riscv64-unknown-elf-g++ - skipped\n",
      "-- Detecting CXX compile features\n",
      "-- Detecting CXX compile features - done\n",
      "-- Including HTIF to target\n",
      "-- Including CLINT to target\n",
      "-- ================ Glossy config ================\n",
      "--  Building for CHIP: \"dsp24\"\n",
      "--  Reading config from \"/tools/C/tedkim7/sp24-Baremetal-IDE/platform/dsp24/CMakeLists.txt\"\n",
      "--  Terminal Device: UART0\n",
      "--  Linker Script: /tools/C/tedkim7/sp24-Baremetal-IDE/platform/dsp24/dsp24.ld\n",
      "-- ===============================================\n",
      "-- Configuring done (3.3s)\n",
      "-- Generating done (1.5s)\n",
      "-- Build files have been written to: /tools/C/tedkim7/sp24-Baremetal-IDE/build\n",
      "cmake --build ./build/ --target shmoo_bench\n",
      "gmake[1]: Entering directory '/bwrcq/C/tedkim7/sp24-Baremetal-IDE/build'\n",
      "gmake[2]: Entering directory '/bwrcq/C/tedkim7/sp24-Baremetal-IDE/build'\n",
      "gmake[3]: Entering directory '/bwrcq/C/tedkim7/sp24-Baremetal-IDE/build'\n",
      "gmake[4]: Entering directory '/bwrcq/C/tedkim7/sp24-Baremetal-IDE/build'\n",
      "gmake[4]: Leaving directory '/bwrcq/C/tedkim7/sp24-Baremetal-IDE/build'\n",
      "gmake[4]: Entering directory '/bwrcq/C/tedkim7/sp24-Baremetal-IDE/build'\n",
      "[  2%] \u001b[32mBuilding C object driver/rocket-chip-blocks/uart/CMakeFiles/uart.dir/uart.c.obj\u001b[0m\n"
     ]
    },
    {
     "name": "stderr",
     "output_type": "stream",
     "text": [
      "/tools/C/tedkim7/sp24-Baremetal-IDE/driver/rocket-chip-blocks/uart/uart.c: In function 'uart_receive':\n",
      "/tools/C/tedkim7/sp24-Baremetal-IDE/driver/rocket-chip-blocks/uart/uart.c:35:78: warning: unused parameter 'timeout' [-Wunused-parameter]\n",
      "   35 | Status uart_receive(UART_Type *UARTx, uint8_t *data, uint16_t size, uint32_t timeout) {\n",
      "      |                                                                     ~~~~~~~~~^~~~~~~\n",
      "/tools/C/tedkim7/sp24-Baremetal-IDE/driver/rocket-chip-blocks/uart/uart.c: In function 'uart_transmit':\n",
      "/tools/C/tedkim7/sp24-Baremetal-IDE/driver/rocket-chip-blocks/uart/uart.c:50:85: warning: unused parameter 'timeout' [-Wunused-parameter]\n",
      "   50 | Status uart_transmit(UART_Type *UARTx, const uint8_t *data, uint16_t size, uint32_t timeout) {\n",
      "      |                                                                            ~~~~~~~~~^~~~~~~\n"
     ]
    },
    {
     "name": "stdout",
     "output_type": "stream",
     "text": [
      "[  5%] \u001b[32m\u001b[1mLinking C static library libuart.a\u001b[0m\n",
      "gmake[4]: Leaving directory '/bwrcq/C/tedkim7/sp24-Baremetal-IDE/build'\n",
      "[  5%] Built target uart\n",
      "gmake[4]: Entering directory '/bwrcq/C/tedkim7/sp24-Baremetal-IDE/build'\n",
      "gmake[4]: Leaving directory '/bwrcq/C/tedkim7/sp24-Baremetal-IDE/build'\n",
      "gmake[4]: Entering directory '/bwrcq/C/tedkim7/sp24-Baremetal-IDE/build'\n",
      "[  7%] \u001b[32mBuilding C object driver/intel/pll/CMakeFiles/intel-pll.dir/pll.c.obj\u001b[0m\n",
      "[ 10%] \u001b[32m\u001b[1mLinking C static library libintel-pll.a\u001b[0m\n",
      "gmake[4]: Leaving directory '/bwrcq/C/tedkim7/sp24-Baremetal-IDE/build'\n",
      "[ 10%] Built target intel-pll\n",
      "gmake[4]: Entering directory '/bwrcq/C/tedkim7/sp24-Baremetal-IDE/build'\n",
      "gmake[4]: Leaving directory '/bwrcq/C/tedkim7/sp24-Baremetal-IDE/build'\n",
      "gmake[4]: Entering directory '/bwrcq/C/tedkim7/sp24-Baremetal-IDE/build'\n",
      "[ 12%] \u001b[32mBuilding C object driver/rocket-chip/clint/CMakeFiles/clint.dir/clint.c.obj\u001b[0m\n",
      "[ 15%] \u001b[32m\u001b[1mLinking C static library libclint.a\u001b[0m\n",
      "gmake[4]: Leaving directory '/bwrcq/C/tedkim7/sp24-Baremetal-IDE/build'\n",
      "[ 15%] Built target clint\n",
      "gmake[4]: Entering directory '/bwrcq/C/tedkim7/sp24-Baremetal-IDE/build'\n",
      "gmake[4]: Leaving directory '/bwrcq/C/tedkim7/sp24-Baremetal-IDE/build'\n",
      "gmake[4]: Entering directory '/bwrcq/C/tedkim7/sp24-Baremetal-IDE/build'\n",
      "[ 17%] \u001b[32mBuilding C object driver/rocket-chip/rocketcore/CMakeFiles/rocketcore.dir/rocketcore.c.obj\u001b[0m\n",
      "[ 20%] \u001b[32m\u001b[1mLinking C static library librocketcore.a\u001b[0m\n",
      "gmake[4]: Leaving directory '/bwrcq/C/tedkim7/sp24-Baremetal-IDE/build'\n",
      "[ 20%] Built target rocketcore\n",
      "gmake[4]: Entering directory '/bwrcq/C/tedkim7/sp24-Baremetal-IDE/build'\n",
      "gmake[4]: Leaving directory '/bwrcq/C/tedkim7/sp24-Baremetal-IDE/build'\n",
      "gmake[4]: Entering directory '/bwrcq/C/tedkim7/sp24-Baremetal-IDE/build'\n",
      "[ 23%] \u001b[32mBuilding C object driver/rocket-chip-blocks/i2c/CMakeFiles/i2c.dir/i2c.c.obj\u001b[0m\n"
     ]
    },
    {
     "name": "stderr",
     "output_type": "stream",
     "text": [
      "/tools/C/tedkim7/sp24-Baremetal-IDE/driver/rocket-chip-blocks/i2c/i2c.c: In function 'i2c_init':\n",
      "/tools/C/tedkim7/sp24-Baremetal-IDE/driver/rocket-chip-blocks/i2c/i2c.c:13:45: warning: unused parameter 'I2C_init' [-Wunused-parameter]\n",
      "   13 | void i2c_init(I2C_Type *I2Cx, I2C_InitType *I2C_init) {\n",
      "      |                               ~~~~~~~~~~~~~~^~~~~~~~\n",
      "/tools/C/tedkim7/sp24-Baremetal-IDE/driver/rocket-chip-blocks/i2c/i2c.c: In function 'i2c_wait_for_flag':\n",
      "/tools/C/tedkim7/sp24-Baremetal-IDE/driver/rocket-chip-blocks/i2c/i2c.c:30:9: warning: implicit declaration of function 'CLINT_getTime' [-Wimplicit-function-declaration]\n",
      "   30 |     if (CLINT_getTime() > (timestart + timeout)) {\n",
      "      |         ^~~~~~~~~~~~~\n",
      "/tools/C/tedkim7/sp24-Baremetal-IDE/driver/rocket-chip-blocks/i2c/i2c.c:30:25: warning: comparison of integer expressions of different signedness: 'int' and 'uint32_t' {aka 'unsigned int'} [-Wsign-compare]\n",
      "   30 |     if (CLINT_getTime() > (timestart + timeout)) {\n",
      "      |                         ^\n",
      "/tools/C/tedkim7/sp24-Baremetal-IDE/driver/rocket-chip-blocks/i2c/i2c.c: In function 'i2c_master_receive':\n",
      "/tools/C/tedkim7/sp24-Baremetal-IDE/driver/rocket-chip-blocks/i2c/i2c.c:53:24: warning: implicit declaration of function 'clint_get_time' [-Wimplicit-function-declaration]\n",
      "   53 |   uint64_t timestart = clint_get_time();\n",
      "      |                        ^~~~~~~~~~~~~~\n",
      "/tools/C/tedkim7/sp24-Baremetal-IDE/driver/rocket-chip-blocks/i2c/i2c.c: In function 'i2c_wait_for_transaction':\n",
      "/tools/C/tedkim7/sp24-Baremetal-IDE/driver/rocket-chip-blocks/i2c/i2c.c:50:1: warning: control reaches end of non-void function [-Wreturn-type]\n",
      "   50 | }\n",
      "      | ^\n"
     ]
    },
    {
     "name": "stdout",
     "output_type": "stream",
     "text": [
      "[ 25%] \u001b[32m\u001b[1mLinking C static library libi2c.a\u001b[0m\n",
      "gmake[4]: Leaving directory '/bwrcq/C/tedkim7/sp24-Baremetal-IDE/build'\n",
      "[ 25%] Built target i2c\n",
      "gmake[4]: Entering directory '/bwrcq/C/tedkim7/sp24-Baremetal-IDE/build'\n",
      "gmake[4]: Leaving directory '/bwrcq/C/tedkim7/sp24-Baremetal-IDE/build'\n",
      "gmake[4]: Entering directory '/bwrcq/C/tedkim7/sp24-Baremetal-IDE/build'\n",
      "[ 28%] \u001b[32mBuilding C object driver/rocket-chip-blocks/spi/CMakeFiles/spi.dir/spi.c.obj\u001b[0m\n"
     ]
    },
    {
     "name": "stderr",
     "output_type": "stream",
     "text": [
      "/tools/C/tedkim7/sp24-Baremetal-IDE/driver/rocket-chip-blocks/spi/spi.c: In function 'spi_receive':\n",
      "/tools/C/tedkim7/sp24-Baremetal-IDE/driver/rocket-chip-blocks/spi/spi.c:56:75: warning: unused parameter 'timeout' [-Wunused-parameter]\n",
      "   56 | Status spi_receive(SPI_Type *SPIx, uint8_t *data, uint16_t size, uint64_t timeout) {\n",
      "      |                                                                  ~~~~~~~~~^~~~~~~\n",
      "/tools/C/tedkim7/sp24-Baremetal-IDE/driver/rocket-chip-blocks/spi/spi.c: In function 'spi_transmit':\n",
      "/tools/C/tedkim7/sp24-Baremetal-IDE/driver/rocket-chip-blocks/spi/spi.c:68:76: warning: unused parameter 'timeout' [-Wunused-parameter]\n",
      "   68 | Status spi_transmit(SPI_Type *SPIx, uint8_t *data, uint16_t size, uint64_t timeout) {\n",
      "      |                                                                   ~~~~~~~~~^~~~~~~\n",
      "/tools/C/tedkim7/sp24-Baremetal-IDE/driver/rocket-chip-blocks/spi/spi.c: In function 'spi_transmit_receive':\n",
      "/tools/C/tedkim7/sp24-Baremetal-IDE/driver/rocket-chip-blocks/spi/spi.c:80:105: warning: unused parameter 'timeout' [-Wunused-parameter]\n",
      "   80 | Status spi_transmit_receive(SPI_Type *SPIx, uint8_t *tx_data, uint8_t *rx_data, uint16_t size, uint64_t timeout) {\n",
      "      |                                                                                                ~~~~~~~~~^~~~~~~\n"
     ]
    },
    {
     "name": "stdout",
     "output_type": "stream",
     "text": [
      "[ 30%] \u001b[32m\u001b[1mLinking C static library libspi.a\u001b[0m\n",
      "gmake[4]: Leaving directory '/bwrcq/C/tedkim7/sp24-Baremetal-IDE/build'\n",
      "[ 30%] Built target spi\n",
      "gmake[4]: Entering directory '/bwrcq/C/tedkim7/sp24-Baremetal-IDE/build'\n",
      "gmake[4]: Leaving directory '/bwrcq/C/tedkim7/sp24-Baremetal-IDE/build'\n",
      "gmake[4]: Entering directory '/bwrcq/C/tedkim7/sp24-Baremetal-IDE/build'\n",
      "[ 33%] \u001b[32mBuilding C object platform/dsp24/CMakeFiles/chip-config.dir/chip.c.obj\u001b[0m\n",
      "[ 35%] \u001b[32mBuilding C object platform/dsp24/CMakeFiles/chip-config.dir/src/hal_DMA.c.obj\u001b[0m\n"
     ]
    },
    {
     "name": "stderr",
     "output_type": "stream",
     "text": [
      "/tools/C/tedkim7/sp24-Baremetal-IDE/platform/dsp24/src/hal_DMA.c: In function 'set_DMAP':\n",
      "/tools/C/tedkim7/sp24-Baremetal-IDE/platform/dsp24/src/hal_DMA.c:24:53: warning: passing argument 2 of 'reg_write64' makes integer from pointer without a cast [-Wint-conversion]\n",
      "   24 |     reg_write64(DMA_SET_READ + num*DMA_MMIO_Offset, addr_r);\n",
      "      |                                                     ^~~~~~\n",
      "      |                                                     |\n",
      "      |                                                     uint64_t * {aka long unsigned int *}\n",
      "In file included from /tools/C/tedkim7/sp24-Baremetal-IDE/platform/dsp24/inc/hal_DMA.h:10,\n",
      "                 from /tools/C/tedkim7/sp24-Baremetal-IDE/platform/dsp24/src/hal_DMA.c:1:\n",
      "/tools/C/tedkim7/sp24-Baremetal-IDE/platform/dsp24/inc/hal_mmio.h:23:47: note: expected 'uint64_t' {aka 'long unsigned int'} but argument is of type 'uint64_t *' {aka 'long unsigned int *'}\n",
      "   23 | void reg_write64(unsigned long addr, uint64_t data);\n",
      "      |                                      ~~~~~~~~~^~~~\n",
      "/tools/C/tedkim7/sp24-Baremetal-IDE/platform/dsp24/src/hal_DMA.c:25:54: warning: passing argument 2 of 'reg_write64' makes integer from pointer without a cast [-Wint-conversion]\n",
      "   25 |     reg_write64(DMA_SET_WRITE + num*DMA_MMIO_Offset, addr_w);\n",
      "      |                                                      ^~~~~~\n",
      "      |                                                      |\n",
      "      |                                                      uint64_t * {aka long unsigned int *}\n",
      "/tools/C/tedkim7/sp24-Baremetal-IDE/platform/dsp24/inc/hal_mmio.h:23:47: note: expected 'uint64_t' {aka 'long unsigned int'} but argument is of type 'uint64_t *' {aka 'long unsigned int *'}\n",
      "   23 | void reg_write64(unsigned long addr, uint64_t data);\n",
      "      |                                      ~~~~~~~~~^~~~\n",
      "/tools/C/tedkim7/sp24-Baremetal-IDE/platform/dsp24/src/hal_DMA.c:26:50: warning: passing argument 2 of 'reg_write64' makes integer from pointer without a cast [-Wint-conversion]\n",
      "   26 |     reg_write64(DMA_SET_C + num*DMA_MMIO_Offset, addr_c);\n",
      "      |                                                  ^~~~~~\n",
      "      |                                                  |\n",
      "      |                                                  uint64_t * {aka long unsigned int *}\n",
      "/tools/C/tedkim7/sp24-Baremetal-IDE/platform/dsp24/inc/hal_mmio.h:23:47: note: expected 'uint64_t' {aka 'long unsigned int'} but argument is of type 'uint64_t *' {aka 'long unsigned int *'}\n",
      "   23 | void reg_write64(unsigned long addr, uint64_t data);\n",
      "      |                                      ~~~~~~~~~^~~~\n"
     ]
    },
    {
     "name": "stdout",
     "output_type": "stream",
     "text": [
      "[ 38%] \u001b[32mBuilding C object platform/dsp24/CMakeFiles/chip-config.dir/src/hal_I2S.c.obj\u001b[0m\n"
     ]
    },
    {
     "name": "stderr",
     "output_type": "stream",
     "text": [
      "/tools/C/tedkim7/sp24-Baremetal-IDE/platform/dsp24/src/hal_I2S.c: In function 'write_I2S_tx_DMA':\n",
      "/tools/C/tedkim7/sp24-Baremetal-IDE/platform/dsp24/src/hal_I2S.c:49:9: warning: implicit declaration of function 'printf' [-Wimplicit-function-declaration]\n",
      "   49 |         printf(\"Writing to left queue\\n\");\n",
      "      |         ^~~~~~\n",
      "/tools/C/tedkim7/sp24-Baremetal-IDE/platform/dsp24/src/hal_I2S.c:3:1: note: include '<stdio.h>' or provide a declaration of 'printf'\n",
      "    2 | #include  \"hal_mmio.h\"\n",
      "  +++ |+#include <stdio.h>\n",
      "    3 | \n",
      "/tools/C/tedkim7/sp24-Baremetal-IDE/platform/dsp24/src/hal_I2S.c:49:9: warning: incompatible implicit declaration of built-in function 'printf' [-Wbuiltin-declaration-mismatch]\n",
      "   49 |         printf(\"Writing to left queue\\n\");\n",
      "      |         ^~~~~~\n",
      "/tools/C/tedkim7/sp24-Baremetal-IDE/platform/dsp24/src/hal_I2S.c:49:9: note: include '<stdio.h>' or provide a declaration of 'printf'\n",
      "In file included from /tools/C/tedkim7/sp24-Baremetal-IDE/platform/dsp24/src/hal_I2S.c:1:\n",
      "/tools/C/tedkim7/sp24-Baremetal-IDE/platform/dsp24/inc/hal_I2S.h:13:37: warning: passing argument 3 of 'set_DMAP' makes pointer from integer without a cast [-Wint-conversion]\n",
      "   13 | #define I2S_BASE                    0x10042000U\n",
      "      |                                     ^\n",
      "      |                                     |\n",
      "      |                                     unsigned int\n",
      "/tools/C/tedkim7/sp24-Baremetal-IDE/platform/dsp24/inc/hal_I2S.h:26:37: note: in expansion of macro 'I2S_BASE'\n",
      "   26 | #define I2S_TX_L                    I2S_BASE + 0x20\n",
      "      |                                     ^~~~~~~~\n",
      "/tools/C/tedkim7/sp24-Baremetal-IDE/platform/dsp24/src/hal_I2S.c:50:38: note: in expansion of macro 'I2S_TX_L'\n",
      "   50 |         set_DMAP(dma_num, read_addr, I2S_TX_L, I2S_WATERMARK_TX_L, 8, 0, length, 3, poll);\n",
      "      |                                      ^~~~~~~~\n",
      "In file included from /tools/C/tedkim7/sp24-Baremetal-IDE/platform/dsp24/inc/hal_I2S.h:9:\n",
      "/tools/C/tedkim7/sp24-Baremetal-IDE/platform/dsp24/inc/hal_DMA.h:37:57: note: expected 'uint64_t *' {aka 'long unsigned int *'} but argument is of type 'unsigned int'\n",
      "   37 | void set_DMAP(uint32_t num, uint64_t* addr_r, uint64_t* addr_w, uint64_t* addr_c, uint16_t inc_r, uint16_t inc_w, uint16_t len, uint8_t logd, uint32_t count);\n",
      "      |                                               ~~~~~~~~~~^~~~~~\n",
      "/tools/C/tedkim7/sp24-Baremetal-IDE/platform/dsp24/inc/hal_I2S.h:13:37: warning: passing argument 4 of 'set_DMAP' makes pointer from integer without a cast [-Wint-conversion]\n",
      "   13 | #define I2S_BASE                    0x10042000U\n",
      "      |                                     ^\n",
      "      |                                     |\n",
      "      |                                     unsigned int\n",
      "/tools/C/tedkim7/sp24-Baremetal-IDE/platform/dsp24/inc/hal_I2S.h:18:37: note: in expansion of macro 'I2S_BASE'\n",
      "   18 | #define I2S_WATERMARK_TX_L          I2S_BASE + 0x100\n",
      "      |                                     ^~~~~~~~\n",
      "/tools/C/tedkim7/sp24-Baremetal-IDE/platform/dsp24/src/hal_I2S.c:50:48: note: in expansion of macro 'I2S_WATERMARK_TX_L'\n",
      "   50 |         set_DMAP(dma_num, read_addr, I2S_TX_L, I2S_WATERMARK_TX_L, 8, 0, length, 3, poll);\n",
      "      |                                                ^~~~~~~~~~~~~~~~~~\n",
      "/tools/C/tedkim7/sp24-Baremetal-IDE/platform/dsp24/inc/hal_DMA.h:37:75: note: expected 'uint64_t *' {aka 'long unsigned int *'} but argument is of type 'unsigned int'\n",
      "   37 | void set_DMAP(uint32_t num, uint64_t* addr_r, uint64_t* addr_w, uint64_t* addr_c, uint16_t inc_r, uint16_t inc_w, uint16_t len, uint8_t logd, uint32_t count);\n",
      "      |                                                                 ~~~~~~~~~~^~~~~~\n",
      "/tools/C/tedkim7/sp24-Baremetal-IDE/platform/dsp24/src/hal_I2S.c:52:9: warning: incompatible implicit declaration of built-in function 'printf' [-Wbuiltin-declaration-mismatch]\n",
      "   52 |         printf(\"Writing to right queue\\n\");\n",
      "      |         ^~~~~~\n",
      "/tools/C/tedkim7/sp24-Baremetal-IDE/platform/dsp24/src/hal_I2S.c:52:9: note: include '<stdio.h>' or provide a declaration of 'printf'\n",
      "/tools/C/tedkim7/sp24-Baremetal-IDE/platform/dsp24/inc/hal_I2S.h:13:37: warning: passing argument 3 of 'set_DMAP' makes pointer from integer without a cast [-Wint-conversion]\n",
      "   13 | #define I2S_BASE                    0x10042000U\n",
      "      |                                     ^\n",
      "      |                                     |\n",
      "      |                                     unsigned int\n",
      "/tools/C/tedkim7/sp24-Baremetal-IDE/platform/dsp24/inc/hal_I2S.h:27:37: note: in expansion of macro 'I2S_BASE'\n",
      "   27 | #define I2S_TX_R                    I2S_BASE + 0x28\n",
      "      |                                     ^~~~~~~~\n",
      "/tools/C/tedkim7/sp24-Baremetal-IDE/platform/dsp24/src/hal_I2S.c:53:38: note: in expansion of macro 'I2S_TX_R'\n",
      "   53 |         set_DMAP(dma_num, read_addr, I2S_TX_R, I2S_WATERMARK_TX_R, 8, 0, length, 3, poll);\n",
      "      |                                      ^~~~~~~~\n",
      "/tools/C/tedkim7/sp24-Baremetal-IDE/platform/dsp24/inc/hal_DMA.h:37:57: note: expected 'uint64_t *' {aka 'long unsigned int *'} but argument is of type 'unsigned int'\n",
      "   37 | void set_DMAP(uint32_t num, uint64_t* addr_r, uint64_t* addr_w, uint64_t* addr_c, uint16_t inc_r, uint16_t inc_w, uint16_t len, uint8_t logd, uint32_t count);\n",
      "      |                                               ~~~~~~~~~~^~~~~~\n",
      "/tools/C/tedkim7/sp24-Baremetal-IDE/platform/dsp24/inc/hal_I2S.h:13:37: warning: passing argument 4 of 'set_DMAP' makes pointer from integer without a cast [-Wint-conversion]\n",
      "   13 | #define I2S_BASE                    0x10042000U\n",
      "      |                                     ^\n",
      "      |                                     |\n",
      "      |                                     unsigned int\n",
      "/tools/C/tedkim7/sp24-Baremetal-IDE/platform/dsp24/inc/hal_I2S.h:19:37: note: in expansion of macro 'I2S_BASE'\n",
      "   19 | #define I2S_WATERMARK_TX_R          I2S_BASE + 0x101\n",
      "      |                                     ^~~~~~~~\n",
      "/tools/C/tedkim7/sp24-Baremetal-IDE/platform/dsp24/src/hal_I2S.c:53:48: note: in expansion of macro 'I2S_WATERMARK_TX_R'\n",
      "   53 |         set_DMAP(dma_num, read_addr, I2S_TX_R, I2S_WATERMARK_TX_R, 8, 0, length, 3, poll);\n",
      "      |                                                ^~~~~~~~~~~~~~~~~~\n",
      "/tools/C/tedkim7/sp24-Baremetal-IDE/platform/dsp24/inc/hal_DMA.h:37:75: note: expected 'uint64_t *' {aka 'long unsigned int *'} but argument is of type 'unsigned int'\n",
      "   37 | void set_DMAP(uint32_t num, uint64_t* addr_r, uint64_t* addr_w, uint64_t* addr_c, uint16_t inc_r, uint16_t inc_w, uint16_t len, uint8_t logd, uint32_t count);\n",
      "      |                                                                 ~~~~~~~~~~^~~~~~\n",
      "/tools/C/tedkim7/sp24-Baremetal-IDE/platform/dsp24/src/hal_I2S.c: In function 'read_I2S_rx_DMA':\n",
      "/tools/C/tedkim7/sp24-Baremetal-IDE/platform/dsp24/inc/hal_I2S.h:13:37: warning: passing argument 2 of 'set_DMAP' makes pointer from integer without a cast [-Wint-conversion]\n",
      "   13 | #define I2S_BASE                    0x10042000U\n",
      "      |                                     ^\n",
      "      |                                     |\n",
      "      |                                     unsigned int\n",
      "/tools/C/tedkim7/sp24-Baremetal-IDE/platform/dsp24/inc/hal_I2S.h:28:37: note: in expansion of macro 'I2S_BASE'\n",
      "   28 | #define I2S_RX_L                    I2S_BASE + 0x60\n",
      "      |                                     ^~~~~~~~\n",
      "/tools/C/tedkim7/sp24-Baremetal-IDE/platform/dsp24/src/hal_I2S.c:60:27: note: in expansion of macro 'I2S_RX_L'\n",
      "   60 |         set_DMAP(dma_num, I2S_RX_L, write_addr, I2S_WATERMARK_RX_L, 0, 8, length, 3, poll);\n",
      "      |                           ^~~~~~~~\n",
      "/tools/C/tedkim7/sp24-Baremetal-IDE/platform/dsp24/inc/hal_DMA.h:37:39: note: expected 'uint64_t *' {aka 'long unsigned int *'} but argument is of type 'unsigned int'\n",
      "   37 | void set_DMAP(uint32_t num, uint64_t* addr_r, uint64_t* addr_w, uint64_t* addr_c, uint16_t inc_r, uint16_t inc_w, uint16_t len, uint8_t logd, uint32_t count);\n",
      "      |                             ~~~~~~~~~~^~~~~~\n",
      "/tools/C/tedkim7/sp24-Baremetal-IDE/platform/dsp24/inc/hal_I2S.h:13:37: warning: passing argument 4 of 'set_DMAP' makes pointer from integer without a cast [-Wint-conversion]\n",
      "   13 | #define I2S_BASE                    0x10042000U\n",
      "      |                                     ^\n",
      "      |                                     |\n",
      "      |                                     unsigned int\n",
      "/tools/C/tedkim7/sp24-Baremetal-IDE/platform/dsp24/inc/hal_I2S.h:16:37: note: in expansion of macro 'I2S_BASE'\n",
      "   16 | #define I2S_WATERMARK_RX_L          I2S_BASE + 0x102\n",
      "      |                                     ^~~~~~~~\n",
      "/tools/C/tedkim7/sp24-Baremetal-IDE/platform/dsp24/src/hal_I2S.c:60:49: note: in expansion of macro 'I2S_WATERMARK_RX_L'\n",
      "   60 |         set_DMAP(dma_num, I2S_RX_L, write_addr, I2S_WATERMARK_RX_L, 0, 8, length, 3, poll);\n",
      "      |                                                 ^~~~~~~~~~~~~~~~~~\n",
      "/tools/C/tedkim7/sp24-Baremetal-IDE/platform/dsp24/inc/hal_DMA.h:37:75: note: expected 'uint64_t *' {aka 'long unsigned int *'} but argument is of type 'unsigned int'\n",
      "   37 | void set_DMAP(uint32_t num, uint64_t* addr_r, uint64_t* addr_w, uint64_t* addr_c, uint16_t inc_r, uint16_t inc_w, uint16_t len, uint8_t logd, uint32_t count);\n",
      "      |                                                                 ~~~~~~~~~~^~~~~~\n",
      "/tools/C/tedkim7/sp24-Baremetal-IDE/platform/dsp24/inc/hal_I2S.h:13:37: warning: passing argument 2 of 'set_DMAP' makes pointer from integer without a cast [-Wint-conversion]\n",
      "   13 | #define I2S_BASE                    0x10042000U\n",
      "      |                                     ^\n",
      "      |                                     |\n",
      "      |                                     unsigned int\n",
      "/tools/C/tedkim7/sp24-Baremetal-IDE/platform/dsp24/inc/hal_I2S.h:29:37: note: in expansion of macro 'I2S_BASE'\n",
      "   29 | #define I2S_RX_R                    I2S_BASE + 0x68\n",
      "      |                                     ^~~~~~~~\n",
      "/tools/C/tedkim7/sp24-Baremetal-IDE/platform/dsp24/src/hal_I2S.c:62:27: note: in expansion of macro 'I2S_RX_R'\n",
      "   62 |         set_DMAP(dma_num, I2S_RX_R, write_addr, I2S_WATERMARK_RX_R, 0, 8, length, 3, poll);\n",
      "      |                           ^~~~~~~~\n",
      "/tools/C/tedkim7/sp24-Baremetal-IDE/platform/dsp24/inc/hal_DMA.h:37:39: note: expected 'uint64_t *' {aka 'long unsigned int *'} but argument is of type 'unsigned int'\n",
      "   37 | void set_DMAP(uint32_t num, uint64_t* addr_r, uint64_t* addr_w, uint64_t* addr_c, uint16_t inc_r, uint16_t inc_w, uint16_t len, uint8_t logd, uint32_t count);\n",
      "      |                             ~~~~~~~~~~^~~~~~\n",
      "/tools/C/tedkim7/sp24-Baremetal-IDE/platform/dsp24/inc/hal_I2S.h:13:37: warning: passing argument 4 of 'set_DMAP' makes pointer from integer without a cast [-Wint-conversion]\n",
      "   13 | #define I2S_BASE                    0x10042000U\n",
      "      |                                     ^\n",
      "      |                                     |\n",
      "      |                                     unsigned int\n",
      "/tools/C/tedkim7/sp24-Baremetal-IDE/platform/dsp24/inc/hal_I2S.h:17:37: note: in expansion of macro 'I2S_BASE'\n",
      "   17 | #define I2S_WATERMARK_RX_R          I2S_BASE + 0x103\n",
      "      |                                     ^~~~~~~~\n",
      "/tools/C/tedkim7/sp24-Baremetal-IDE/platform/dsp24/src/hal_I2S.c:62:49: note: in expansion of macro 'I2S_WATERMARK_RX_R'\n",
      "   62 |         set_DMAP(dma_num, I2S_RX_R, write_addr, I2S_WATERMARK_RX_R, 0, 8, length, 3, poll);\n",
      "      |                                                 ^~~~~~~~~~~~~~~~~~\n",
      "/tools/C/tedkim7/sp24-Baremetal-IDE/platform/dsp24/inc/hal_DMA.h:37:75: note: expected 'uint64_t *' {aka 'long unsigned int *'} but argument is of type 'unsigned int'\n",
      "   37 | void set_DMAP(uint32_t num, uint64_t* addr_r, uint64_t* addr_w, uint64_t* addr_c, uint16_t inc_r, uint16_t inc_w, uint16_t len, uint8_t logd, uint32_t count);\n",
      "      |                                                                 ~~~~~~~~~~^~~~~~\n"
     ]
    },
    {
     "name": "stdout",
     "output_type": "stream",
     "text": [
      "[ 41%] \u001b[32mBuilding C object platform/dsp24/CMakeFiles/chip-config.dir/src/hal_conv.c.obj\u001b[0m\n"
     ]
    },
    {
     "name": "stderr",
     "output_type": "stream",
     "text": [
      "/tools/C/tedkim7/sp24-Baremetal-IDE/platform/dsp24/src/hal_conv.c: In function 'write_conv_dma':\n",
      "/tools/C/tedkim7/sp24-Baremetal-IDE/platform/dsp24/src/hal_conv.c:13:5: warning: implicit declaration of function 'set_DMAC' [-Wimplicit-function-declaration]\n",
      "   13 |     set_DMAC(dma_num, (uint64_t*) data, CONV_BASE, 8, 0, length/8, 3);\n",
      "      |     ^~~~~~~~\n",
      "/tools/C/tedkim7/sp24-Baremetal-IDE/platform/dsp24/src/hal_conv.c:14:5: warning: implicit declaration of function 'start_DMA' [-Wimplicit-function-declaration]\n",
      "   14 |     start_DMA(dma_num);\n",
      "      |     ^~~~~~~~~\n",
      "/tools/C/tedkim7/sp24-Baremetal-IDE/platform/dsp24/src/hal_conv.c: In function 'read_conv_dma_p':\n",
      "/tools/C/tedkim7/sp24-Baremetal-IDE/platform/dsp24/src/hal_conv.c:23:5: warning: implicit declaration of function 'set_DMAP' [-Wimplicit-function-declaration]\n",
      "   23 |     set_DMAP(dma_num, CONV_OUTPUT_ADDR, write_addr, READ_CHECK_ADDR, 0, 8, length/4, 3, 0);\n",
      "      |     ^~~~~~~~\n"
     ]
    },
    {
     "name": "stdout",
     "output_type": "stream",
     "text": [
      "[ 43%] \u001b[32mBuilding C object platform/dsp24/CMakeFiles/chip-config.dir/src/hal_fft.c.obj\u001b[0m\n"
     ]
    },
    {
     "name": "stderr",
     "output_type": "stream",
     "text": [
      "/tools/C/tedkim7/sp24-Baremetal-IDE/platform/dsp24/src/hal_fft.c: In function 'write_fft_dma':\n",
      "/tools/C/tedkim7/sp24-Baremetal-IDE/platform/dsp24/src/hal_fft.c:28:23: warning: passing argument 2 of 'set_DMAC' makes integer from pointer without a cast [-Wint-conversion]\n",
      "   28 |     set_DMAC(dma_num, data, FFT_INPUT, 8, 0, length/2, 3);\n",
      "      |                       ^~~~\n",
      "      |                       |\n",
      "      |                       uint64_t * {aka long unsigned int *}\n",
      "In file included from /tools/C/tedkim7/sp24-Baremetal-IDE/platform/dsp24/inc/hal_fft.h:9,\n",
      "                 from /tools/C/tedkim7/sp24-Baremetal-IDE/platform/dsp24/src/hal_fft.c:1:\n",
      "/tools/C/tedkim7/sp24-Baremetal-IDE/platform/dsp24/inc/hal_DMA.h:34:38: note: expected 'uint64_t' {aka 'long unsigned int'} but argument is of type 'uint64_t *' {aka 'long unsigned int *'}\n",
      "   34 | void set_DMAC(uint32_t num, uint64_t addr_r, uint64_t addr_w, uint16_t inc_r, uint16_t inc_w, uint16_t len, uint16_t logd);\n",
      "      |                             ~~~~~~~~~^~~~~~\n",
      "/tools/C/tedkim7/sp24-Baremetal-IDE/platform/dsp24/src/hal_fft.c: In function 'read_fft_dma':\n",
      "/tools/C/tedkim7/sp24-Baremetal-IDE/platform/dsp24/src/hal_fft.c:33:35: warning: passing argument 3 of 'set_DMAC' makes integer from pointer without a cast [-Wint-conversion]\n",
      "   33 |     set_DMAC(dma_num, FFT_OUTPUT, write_addr, 0, 8, length, 2);\n",
      "      |                                   ^~~~~~~~~~\n",
      "      |                                   |\n",
      "      |                                   uint64_t * {aka long unsigned int *}\n",
      "/tools/C/tedkim7/sp24-Baremetal-IDE/platform/dsp24/inc/hal_DMA.h:34:55: note: expected 'uint64_t' {aka 'long unsigned int'} but argument is of type 'uint64_t *' {aka 'long unsigned int *'}\n",
      "   34 | void set_DMAC(uint32_t num, uint64_t addr_r, uint64_t addr_w, uint16_t inc_r, uint16_t inc_w, uint16_t len, uint16_t logd);\n",
      "      |                                              ~~~~~~~~~^~~~~~\n",
      "/tools/C/tedkim7/sp24-Baremetal-IDE/platform/dsp24/src/hal_fft.c: In function 'read_fft_real_dma':\n",
      "/tools/C/tedkim7/sp24-Baremetal-IDE/platform/dsp24/src/hal_fft.c:38:35: warning: passing argument 3 of 'set_DMAC' makes integer from pointer without a cast [-Wint-conversion]\n",
      "   38 |     set_DMAC(dma_num, FFT_OUTPUT, write_addr, 0, 4, length, 1);\n",
      "      |                                   ^~~~~~~~~~\n",
      "      |                                   |\n",
      "      |                                   uint64_t * {aka long unsigned int *}\n",
      "/tools/C/tedkim7/sp24-Baremetal-IDE/platform/dsp24/inc/hal_DMA.h:34:55: note: expected 'uint64_t' {aka 'long unsigned int'} but argument is of type 'uint64_t *' {aka 'long unsigned int *'}\n",
      "   34 | void set_DMAC(uint32_t num, uint64_t addr_r, uint64_t addr_w, uint16_t inc_r, uint16_t inc_w, uint16_t len, uint16_t logd);\n",
      "      |                                              ~~~~~~~~~^~~~~~\n"
     ]
    },
    {
     "name": "stdout",
     "output_type": "stream",
     "text": [
      "[ 46%] \u001b[32mBuilding C object platform/dsp24/CMakeFiles/chip-config.dir/src/hal_mmio.c.obj\u001b[0m\n",
      "[ 48%] \u001b[32m\u001b[1mLinking C static library libchip-config.a\u001b[0m\n",
      "gmake[4]: Leaving directory '/bwrcq/C/tedkim7/sp24-Baremetal-IDE/build'\n",
      "[ 48%] Built target chip-config\n",
      "gmake[4]: Entering directory '/bwrcq/C/tedkim7/sp24-Baremetal-IDE/build'\n",
      "gmake[4]: Leaving directory '/bwrcq/C/tedkim7/sp24-Baremetal-IDE/build'\n",
      "gmake[4]: Entering directory '/bwrcq/C/tedkim7/sp24-Baremetal-IDE/build'\n",
      "[ 51%] \u001b[32mBuilding ASM object glossy/CMakeFiles/glossy.dir/src/startup/crt0.S.obj\u001b[0m\n",
      "[ 53%] \u001b[32mBuilding ASM object glossy/CMakeFiles/glossy.dir/src/startup/init.S.obj\u001b[0m\n",
      "[ 56%] \u001b[32mBuilding C object glossy/CMakeFiles/glossy.dir/src/startup/secondary.c.obj\u001b[0m\n",
      "[ 58%] \u001b[32mBuilding ASM object glossy/CMakeFiles/glossy.dir/src/trap/trap.S.obj\u001b[0m\n",
      "[ 61%] \u001b[32mBuilding C object glossy/CMakeFiles/glossy.dir/src/trap/trap.c.obj\u001b[0m\n"
     ]
    },
    {
     "name": "stderr",
     "output_type": "stream",
     "text": [
      "/tools/C/tedkim7/sp24-Baremetal-IDE/glossy/src/trap/trap.c: In function 'trap_handler':\n",
      "/tools/C/tedkim7/sp24-Baremetal-IDE/glossy/src/trap/trap.c:73:92: warning: unused parameter 'm_tval' [-Wunused-parameter]\n",
      "   73 | __attribute__((weak)) uintptr_t trap_handler(uintptr_t m_epc, uintptr_t m_cause, uintptr_t m_tval, uintptr_t regs[32]) {\n",
      "      |                                                                                  ~~~~~~~~~~^~~~~~\n",
      "/tools/C/tedkim7/sp24-Baremetal-IDE/glossy/src/trap/trap.c:73:110: warning: unused parameter 'regs' [-Wunused-parameter]\n",
      "   73 | __attribute__((weak)) uintptr_t trap_handler(uintptr_t m_epc, uintptr_t m_cause, uintptr_t m_tval, uintptr_t regs[32]) {\n",
      "      |                                                                                                    ~~~~~~~~~~^~~~~~~~\n"
     ]
    },
    {
     "name": "stdout",
     "output_type": "stream",
     "text": [
      "[ 64%] \u001b[32mBuilding C object glossy/CMakeFiles/glossy.dir/src/sys/close.c.obj\u001b[0m\n"
     ]
    },
    {
     "name": "stderr",
     "output_type": "stream",
     "text": [
      "/tools/C/tedkim7/sp24-Baremetal-IDE/glossy/src/sys/close.c: In function '_close':\n",
      "/tools/C/tedkim7/sp24-Baremetal-IDE/glossy/src/sys/close.c:2:38: warning: unused parameter 'file' [-Wunused-parameter]\n",
      "    2 | __attribute__((weak)) int _close(int file) {\n",
      "      |                                  ~~~~^~~~\n"
     ]
    },
    {
     "name": "stdout",
     "output_type": "stream",
     "text": [
      "[ 66%] \u001b[32mBuilding C object glossy/CMakeFiles/glossy.dir/src/sys/exit.c.obj\u001b[0m\n"
     ]
    },
    {
     "name": "stderr",
     "output_type": "stream",
     "text": [
      "/tools/C/tedkim7/sp24-Baremetal-IDE/glossy/src/sys/exit.c: In function '_exit':\n",
      "/tools/C/tedkim7/sp24-Baremetal-IDE/glossy/src/sys/exit.c:4:48: warning: unused parameter 'code' [-Wunused-parameter]\n",
      "    4 | __attribute__((weak, noreturn)) void _exit(int code) {\n",
      "      |                                            ~~~~^~~~\n"
     ]
    },
    {
     "name": "stdout",
     "output_type": "stream",
     "text": [
      "[ 69%] \u001b[32mBuilding C object glossy/CMakeFiles/glossy.dir/src/sys/fstat.c.obj\u001b[0m\n"
     ]
    },
    {
     "name": "stderr",
     "output_type": "stream",
     "text": [
      "/tools/C/tedkim7/sp24-Baremetal-IDE/glossy/src/sys/fstat.c: In function '_fstat':\n",
      "/tools/C/tedkim7/sp24-Baremetal-IDE/glossy/src/sys/fstat.c:4:38: warning: unused parameter 'file' [-Wunused-parameter]\n",
      "    4 | __attribute__((weak)) int _fstat(int file, struct stat *st) {\n",
      "      |                                  ~~~~^~~~\n",
      "/tools/C/tedkim7/sp24-Baremetal-IDE/glossy/src/sys/fstat.c:4:57: warning: unused parameter 'st' [-Wunused-parameter]\n",
      "    4 | __attribute__((weak)) int _fstat(int file, struct stat *st) {\n",
      "      |                                            ~~~~~~~~~~~~~^~\n"
     ]
    },
    {
     "name": "stdout",
     "output_type": "stream",
     "text": [
      "[ 71%] \u001b[32mBuilding C object glossy/CMakeFiles/glossy.dir/src/sys/getpid.c.obj\u001b[0m\n",
      "[ 74%] \u001b[32mBuilding C object glossy/CMakeFiles/glossy.dir/src/sys/isatty.c.obj\u001b[0m\n",
      "[ 76%] \u001b[32mBuilding C object glossy/CMakeFiles/glossy.dir/src/sys/kill.c.obj\u001b[0m\n"
     ]
    },
    {
     "name": "stderr",
     "output_type": "stream",
     "text": [
      "/tools/C/tedkim7/sp24-Baremetal-IDE/glossy/src/sys/kill.c: In function '_kill':\n",
      "/tools/C/tedkim7/sp24-Baremetal-IDE/glossy/src/sys/kill.c:2:37: warning: unused parameter 'pid' [-Wunused-parameter]\n",
      "    2 | __attribute__((weak)) int _kill(int pid, int sig) {\n",
      "      |                                 ~~~~^~~\n",
      "/tools/C/tedkim7/sp24-Baremetal-IDE/glossy/src/sys/kill.c:2:46: warning: unused parameter 'sig' [-Wunused-parameter]\n",
      "    2 | __attribute__((weak)) int _kill(int pid, int sig) {\n",
      "      |                                          ~~~~^~~\n"
     ]
    },
    {
     "name": "stdout",
     "output_type": "stream",
     "text": [
      "[ 79%] \u001b[32mBuilding C object glossy/CMakeFiles/glossy.dir/src/sys/lseek.c.obj\u001b[0m\n"
     ]
    },
    {
     "name": "stderr",
     "output_type": "stream",
     "text": [
      "/tools/C/tedkim7/sp24-Baremetal-IDE/glossy/src/sys/lseek.c: In function '_lseek':\n",
      "/tools/C/tedkim7/sp24-Baremetal-IDE/glossy/src/sys/lseek.c:5:40: warning: unused parameter 'file' [-Wunused-parameter]\n",
      "    5 | __attribute__((weak)) off_t _lseek(int file, off_t ptr, int dir) {\n",
      "      |                                    ~~~~^~~~\n",
      "/tools/C/tedkim7/sp24-Baremetal-IDE/glossy/src/sys/lseek.c:5:52: warning: unused parameter 'ptr' [-Wunused-parameter]\n",
      "    5 | __attribute__((weak)) off_t _lseek(int file, off_t ptr, int dir) {\n",
      "      |                                              ~~~~~~^~~\n",
      "/tools/C/tedkim7/sp24-Baremetal-IDE/glossy/src/sys/lseek.c:5:61: warning: unused parameter 'dir' [-Wunused-parameter]\n",
      "    5 | __attribute__((weak)) off_t _lseek(int file, off_t ptr, int dir) {\n",
      "      |                                                         ~~~~^~~\n"
     ]
    },
    {
     "name": "stdout",
     "output_type": "stream",
     "text": [
      "[ 82%] \u001b[32mBuilding C object glossy/CMakeFiles/glossy.dir/src/sys/open.c.obj\u001b[0m\n"
     ]
    },
    {
     "name": "stderr",
     "output_type": "stream",
     "text": [
      "/tools/C/tedkim7/sp24-Baremetal-IDE/glossy/src/sys/open.c: In function '_open':\n",
      "/tools/C/tedkim7/sp24-Baremetal-IDE/glossy/src/sys/open.c:3:45: warning: unused parameter 'path' [-Wunused-parameter]\n",
      "    3 | __attribute__((weak)) int _open(const char *path, int flags, int mode) {\n",
      "      |                                 ~~~~~~~~~~~~^~~~\n",
      "/tools/C/tedkim7/sp24-Baremetal-IDE/glossy/src/sys/open.c:3:55: warning: unused parameter 'flags' [-Wunused-parameter]\n",
      "    3 | __attribute__((weak)) int _open(const char *path, int flags, int mode) {\n",
      "      |                                                   ~~~~^~~~~\n",
      "/tools/C/tedkim7/sp24-Baremetal-IDE/glossy/src/sys/open.c:3:66: warning: unused parameter 'mode' [-Wunused-parameter]\n",
      "    3 | __attribute__((weak)) int _open(const char *path, int flags, int mode) {\n",
      "      |                                                              ~~~~^~~~\n"
     ]
    },
    {
     "name": "stdout",
     "output_type": "stream",
     "text": [
      "[ 84%] \u001b[32mBuilding C object glossy/CMakeFiles/glossy.dir/src/sys/read.c.obj\u001b[0m\n"
     ]
    },
    {
     "name": "stderr",
     "output_type": "stream",
     "text": [
      "/tools/C/tedkim7/sp24-Baremetal-IDE/glossy/src/sys/read.c: In function '_read':\n",
      "/tools/C/tedkim7/sp24-Baremetal-IDE/glossy/src/sys/read.c:5:41: warning: unused parameter 'file' [-Wunused-parameter]\n",
      "    5 | __attribute__((weak)) ssize_t _read(int file, void *ptr, size_t len) {\n",
      "      |                                     ~~~~^~~~\n",
      "/tools/C/tedkim7/sp24-Baremetal-IDE/glossy/src/sys/read.c:5:53: warning: unused parameter 'ptr' [-Wunused-parameter]\n",
      "    5 | __attribute__((weak)) ssize_t _read(int file, void *ptr, size_t len) {\n",
      "      |                                               ~~~~~~^~~\n",
      "/tools/C/tedkim7/sp24-Baremetal-IDE/glossy/src/sys/read.c:5:65: warning: unused parameter 'len' [-Wunused-parameter]\n",
      "    5 | __attribute__((weak)) ssize_t _read(int file, void *ptr, size_t len) {\n",
      "      |                                                          ~~~~~~~^~~\n"
     ]
    },
    {
     "name": "stdout",
     "output_type": "stream",
     "text": [
      "[ 87%] \u001b[32mBuilding C object glossy/CMakeFiles/glossy.dir/src/sys/sbrk.c.obj\u001b[0m\n",
      "[ 89%] \u001b[32mBuilding C object glossy/CMakeFiles/glossy.dir/src/sys/time.c.obj\u001b[0m\n",
      "[ 92%] \u001b[32mBuilding C object glossy/CMakeFiles/glossy.dir/src/sys/write.c.obj\u001b[0m\n"
     ]
    },
    {
     "name": "stderr",
     "output_type": "stream",
     "text": [
      "/tools/C/tedkim7/sp24-Baremetal-IDE/glossy/src/sys/write.c: In function '_write':\n",
      "/tools/C/tedkim7/sp24-Baremetal-IDE/glossy/src/sys/write.c:8:42: warning: unused parameter 'fd' [-Wunused-parameter]\n",
      "    8 | __attribute__((weak)) ssize_t _write(int fd, const void *ptr, size_t len) {\n",
      "      |                                      ~~~~^~\n"
     ]
    },
    {
     "name": "stdout",
     "output_type": "stream",
     "text": [
      "[ 94%] \u001b[32m\u001b[1mLinking C static library libglossy.a\u001b[0m\n",
      "gmake[4]: Leaving directory '/bwrcq/C/tedkim7/sp24-Baremetal-IDE/build'\n",
      "[ 94%] Built target glossy\n",
      "gmake[4]: Entering directory '/bwrcq/C/tedkim7/sp24-Baremetal-IDE/build'\n",
      "gmake[4]: Leaving directory '/bwrcq/C/tedkim7/sp24-Baremetal-IDE/build'\n",
      "gmake[4]: Entering directory '/bwrcq/C/tedkim7/sp24-Baremetal-IDE/build'\n",
      "[ 97%] \u001b[32mBuilding C object CMakeFiles/shmoo_bench.dir/shmoo_bench/dsp_conv_bench/src/main.c.obj\u001b[0m\n"
     ]
    },
    {
     "name": "stderr",
     "output_type": "stream",
     "text": [
      "/tools/C/tedkim7/sp24-Baremetal-IDE/shmoo_bench/dsp_conv_bench/src/main.c: In function 'app_main':\n",
      "/tools/C/tedkim7/sp24-Baremetal-IDE/shmoo_bench/dsp_conv_bench/src/main.c:61:5: warning: implicit declaration of function 'reg_write8' [-Wimplicit-function-declaration]\n",
      "   61 |     reg_write8(RESET_ADDR, 1);\n",
      "      |     ^~~~~~~~~~\n",
      "/tools/C/tedkim7/sp24-Baremetal-IDE/shmoo_bench/dsp_conv_bench/src/main.c:71:5: warning: implicit declaration of function 'set_conv_params' [-Wimplicit-function-declaration]\n",
      "   71 |     set_conv_params(16, 1, ((uint64_t*) in_kernel));\n",
      "      |     ^~~~~~~~~~~~~~~\n",
      "/tools/C/tedkim7/sp24-Baremetal-IDE/shmoo_bench/dsp_conv_bench/src/main.c:72:5: warning: implicit declaration of function 'write_conv_dma' [-Wimplicit-function-declaration]\n",
      "   72 |     write_conv_dma(0, 16, in_arr);\n",
      "      |     ^~~~~~~~~~~~~~\n",
      "/tools/C/tedkim7/sp24-Baremetal-IDE/shmoo_bench/dsp_conv_bench/src/main.c:77:5: warning: implicit declaration of function 'start_conv' [-Wimplicit-function-declaration]\n",
      "   77 |     start_conv();\n",
      "      |     ^~~~~~~~~~\n",
      "/tools/C/tedkim7/sp24-Baremetal-IDE/shmoo_bench/dsp_conv_bench/src/main.c:91:5: warning: implicit declaration of function 'read_conv_dma' [-Wimplicit-function-declaration]\n",
      "   91 |     read_conv_dma(0, 16, ((uint64_t*) test_out));\n",
      "      |     ^~~~~~~~~~~~~\n",
      "/tools/C/tedkim7/sp24-Baremetal-IDE/shmoo_bench/dsp_conv_bench/src/main.c:95:20: warning: format '%lx' expects argument of type 'long unsigned int', but argument 2 has type 'int' [-Wformat=]\n",
      "   95 |             printf(\"%\"PRIx64\" \", test_out[i*4 + j]);\n",
      "      |                    ^~~           ~~~~~~~~~~~~~~~~~\n",
      "      |                                          |\n",
      "      |                                          int\n",
      "/tools/C/tedkim7/sp24-Baremetal-IDE/shmoo_bench/dsp_conv_bench/src/main.c:100:14: warning: variable 'ref_out' set but not used [-Wunused-but-set-variable]\n",
      "  100 |     uint16_t ref_out[32];\n",
      "      |              ^~~~~~~\n",
      "/tools/C/tedkim7/sp24-Baremetal-IDE/shmoo_bench/dsp_conv_bench/src/main.c:79:14: warning: unused variable 'cpu_end_cycles' [-Wunused-variable]\n",
      "   79 |     uint64_t cpu_end_cycles = READ_CSR(\"mcycle\");\n",
      "      |              ^~~~~~~~~~~~~~\n",
      "/tools/C/tedkim7/sp24-Baremetal-IDE/shmoo_bench/dsp_conv_bench/src/main.c:74:14: warning: unused variable 'cpu_start_cycles' [-Wunused-variable]\n",
      "   74 |     uint64_t cpu_start_cycles = READ_CSR(\"mcycle\");\n",
      "      |              ^~~~~~~~~~~~~~~~\n",
      "/tools/C/tedkim7/sp24-Baremetal-IDE/shmoo_bench/dsp_conv_bench/src/main.c:67:14: warning: unused variable 'in_dilation' [-Wunused-variable]\n",
      "   67 |     uint16_t in_dilation[1] = {1};\n",
      "      |              ^~~~~~~~~~~\n",
      "/tools/C/tedkim7/sp24-Baremetal-IDE/shmoo_bench/dsp_conv_bench/src/main.c:66:14: warning: unused variable 'in_len' [-Wunused-variable]\n",
      "   66 |     uint32_t in_len[1] = {16};\n",
      "      |              ^~~~~~\n",
      "/tools/C/tedkim7/sp24-Baremetal-IDE/shmoo_bench/dsp_conv_bench/src/main.c: In function 'main':\n",
      "/tools/C/tedkim7/sp24-Baremetal-IDE/shmoo_bench/dsp_conv_bench/src/main.c:127:14: warning: unused parameter 'argc' [-Wunused-parameter]\n",
      "  127 | int main(int argc, char **argv) {\n",
      "      |          ~~~~^~~~\n",
      "/tools/C/tedkim7/sp24-Baremetal-IDE/shmoo_bench/dsp_conv_bench/src/main.c:127:27: warning: unused parameter 'argv' [-Wunused-parameter]\n",
      "  127 | int main(int argc, char **argv) {\n",
      "      |                    ~~~~~~~^~~~\n"
     ]
    },
    {
     "name": "stdout",
     "output_type": "stream",
     "text": [
      "[100%] \u001b[32m\u001b[1mLinking C executable shmoo_bench.elf\u001b[0m\n"
     ]
    },
    {
     "name": "stderr",
     "output_type": "stream",
     "text": [
      "/bwrcq/C/ee290-fa24-2/.conda-env/riscv-tools/bin/../lib/gcc/riscv64-unknown-elf/13.2.0/../../../../riscv64-unknown-elf/bin/ld: warning: shmoo_bench.elf has a LOAD segment with RWX permissions\n"
     ]
    },
    {
     "name": "stdout",
     "output_type": "stream",
     "text": [
      "gmake[4]: Leaving directory '/bwrcq/C/tedkim7/sp24-Baremetal-IDE/build'\n",
      "[100%] Built target shmoo_bench\n",
      "gmake[3]: Leaving directory '/bwrcq/C/tedkim7/sp24-Baremetal-IDE/build'\n",
      "gmake[2]: Leaving directory '/bwrcq/C/tedkim7/sp24-Baremetal-IDE/build'\n",
      "gmake[1]: Leaving directory '/bwrcq/C/tedkim7/sp24-Baremetal-IDE/build'\n",
      "**Clock set to: 800MHz**\n",
      "**Voltage set to: +5.00000000E-01\n",
      "V**\n"
     ]
    },
    {
     "name": "stderr",
     "output_type": "stream",
     "text": [
      "warning: tohost and fromhost symbols not in ELF; can't communicate with target\n",
      "Writing 14006c with 10\n",
      "Done writing 14006c with 10\n"
     ]
    },
    {
     "name": "stdout",
     "output_type": "stream",
     "text": [
      "Starting UART-based TSI\n",
      "Usage: ./uart_tsi +tty=/dev/pts/xx <PLUSARGS> <bin>\n",
      "       ./uart_tsi +tty=/dev/ttyxx  <PLUSARGS> <bin>\n",
      "       ./uart_tsi +tty=/dev/ttyxx  +no_hart0_msip +init_write=0x80000000:0xdeadbeef none\n",
      "       ./uart_tsi +tty=/dev/ttyxx  +no_hart0_msip +init_read=0x80000000 none\n",
      "       ./uart_tsi +tty=/dev/ttyxx  +selfcheck <bin>\n",
      "       ./uart_tsi +tty=/dev/ttyxx  +baudrate=921600 <bin>\n",
      "Attempting to open TTY at /dev/ttyUSB1\n",
      "Warning: You selected a non-standard baudrate. This will only work if the HW was configured with this baud-rate\n",
      "Checking connection status with /dev/ttyUSB1\n",
      "Connection succeeded\n",
      "Done, shutting down, flushing UART\n",
      "WARNING: You should probably reset the target before running this program again\n",
      "Done: now reset during the sleep before next iteration\n",
      "**Voltage set to: +5.50000000E-01\n",
      "V**\n"
     ]
    },
    {
     "name": "stderr",
     "output_type": "stream",
     "text": [
      "warning: tohost and fromhost symbols not in ELF; can't communicate with target\n",
      "Writing 14006c with 10\n",
      "Done writing 14006c with 10\n"
     ]
    },
    {
     "name": "stdout",
     "output_type": "stream",
     "text": [
      "Starting UART-based TSI\n",
      "Usage: ./uart_tsi +tty=/dev/pts/xx <PLUSARGS> <bin>\n",
      "       ./uart_tsi +tty=/dev/ttyxx  <PLUSARGS> <bin>\n",
      "       ./uart_tsi +tty=/dev/ttyxx  +no_hart0_msip +init_write=0x80000000:0xdeadbeef none\n",
      "       ./uart_tsi +tty=/dev/ttyxx  +no_hart0_msip +init_read=0x80000000 none\n",
      "       ./uart_tsi +tty=/dev/ttyxx  +selfcheck <bin>\n",
      "       ./uart_tsi +tty=/dev/ttyxx  +baudrate=921600 <bin>\n",
      "Attempting to open TTY at /dev/ttyUSB1\n",
      "Warning: You selected a non-standard baudrate. This will only work if the HW was configured with this baud-rate\n",
      "Checking connection status with /dev/ttyUSB1\n",
      "Connection succeeded\n",
      "Done, shutting down, flushing UART\n",
      "WARNING: You should probably reset the target before running this program again\n",
      "Done: now reset during the sleep before next iteration\n",
      "**Voltage set to: +6.00000000E-01\n",
      "V**\n"
     ]
    },
    {
     "name": "stderr",
     "output_type": "stream",
     "text": [
      "warning: tohost and fromhost symbols not in ELF; can't communicate with target\n",
      "Writing 14006c with 10\n",
      "Done writing 14006c with 10\n"
     ]
    },
    {
     "name": "stdout",
     "output_type": "stream",
     "text": [
      "Starting UART-based TSI\n",
      "Usage: ./uart_tsi +tty=/dev/pts/xx <PLUSARGS> <bin>\n",
      "       ./uart_tsi +tty=/dev/ttyxx  <PLUSARGS> <bin>\n",
      "       ./uart_tsi +tty=/dev/ttyxx  +no_hart0_msip +init_write=0x80000000:0xdeadbeef none\n",
      "       ./uart_tsi +tty=/dev/ttyxx  +no_hart0_msip +init_read=0x80000000 none\n",
      "       ./uart_tsi +tty=/dev/ttyxx  +selfcheck <bin>\n",
      "       ./uart_tsi +tty=/dev/ttyxx  +baudrate=921600 <bin>\n",
      "Attempting to open TTY at /dev/ttyUSB1\n",
      "Warning: You selected a non-standard baudrate. This will only work if the HW was configured with this baud-rate\n",
      "Checking connection status with /dev/ttyUSB1\n",
      "Connection succeeded\n",
      "Done, shutting down, flushing UART\n",
      "WARNING: You should probably reset the target before running this program again\n",
      "Done: now reset during the sleep before next iteration\n",
      "**Voltage set to: +6.50000000E-01\n",
      "V**\n"
     ]
    },
    {
     "name": "stderr",
     "output_type": "stream",
     "text": [
      "warning: tohost and fromhost symbols not in ELF; can't communicate with target\n",
      "Writing 14006c with 10\n",
      "Done writing 14006c with 10\n"
     ]
    },
    {
     "name": "stdout",
     "output_type": "stream",
     "text": [
      "Starting UART-based TSI\n",
      "Usage: ./uart_tsi +tty=/dev/pts/xx <PLUSARGS> <bin>\n",
      "       ./uart_tsi +tty=/dev/ttyxx  <PLUSARGS> <bin>\n",
      "       ./uart_tsi +tty=/dev/ttyxx  +no_hart0_msip +init_write=0x80000000:0xdeadbeef none\n",
      "       ./uart_tsi +tty=/dev/ttyxx  +no_hart0_msip +init_read=0x80000000 none\n",
      "       ./uart_tsi +tty=/dev/ttyxx  +selfcheck <bin>\n",
      "       ./uart_tsi +tty=/dev/ttyxx  +baudrate=921600 <bin>\n",
      "Attempting to open TTY at /dev/ttyUSB1\n",
      "Warning: You selected a non-standard baudrate. This will only work if the HW was configured with this baud-rate\n",
      "Checking connection status with /dev/ttyUSB1\n",
      "Connection succeeded\n",
      "Done, shutting down, flushing UART\n",
      "WARNING: You should probably reset the target before running this program again\n",
      "Done: now reset during the sleep before next iteration\n",
      "**Voltage set to: +7.00000000E-01\n",
      "V**\n"
     ]
    },
    {
     "name": "stderr",
     "output_type": "stream",
     "text": [
      "warning: tohost and fromhost symbols not in ELF; can't communicate with target\n",
      "Writing 14006c with 10\n",
      "Done writing 14006c with 10\n"
     ]
    },
    {
     "name": "stdout",
     "output_type": "stream",
     "text": [
      "Starting UART-based TSI\n",
      "Usage: ./uart_tsi +tty=/dev/pts/xx <PLUSARGS> <bin>\n",
      "       ./uart_tsi +tty=/dev/ttyxx  <PLUSARGS> <bin>\n",
      "       ./uart_tsi +tty=/dev/ttyxx  +no_hart0_msip +init_write=0x80000000:0xdeadbeef none\n",
      "       ./uart_tsi +tty=/dev/ttyxx  +no_hart0_msip +init_read=0x80000000 none\n",
      "       ./uart_tsi +tty=/dev/ttyxx  +selfcheck <bin>\n",
      "       ./uart_tsi +tty=/dev/ttyxx  +baudrate=921600 <bin>\n",
      "Attempting to open TTY at /dev/ttyUSB1\n",
      "Warning: You selected a non-standard baudrate. This will only work if the HW was configured with this baud-rate\n",
      "Checking connection status with /dev/ttyUSB1\n",
      "Connection succeeded\n",
      "Done, shutting down, flushing UART\n",
      "WARNING: You should probably reset the target before running this program again\n",
      "Done: now reset during the sleep before next iteration\n",
      "**Voltage set to: +7.50000000E-01\n",
      "V**\n"
     ]
    },
    {
     "name": "stderr",
     "output_type": "stream",
     "text": [
      "warning: tohost and fromhost symbols not in ELF; can't communicate with target\n",
      "Writing 14006c with 10\n",
      "Done writing 14006c with 10\n"
     ]
    },
    {
     "name": "stdout",
     "output_type": "stream",
     "text": [
      "Starting UART-based TSI\n",
      "Usage: ./uart_tsi +tty=/dev/pts/xx <PLUSARGS> <bin>\n",
      "       ./uart_tsi +tty=/dev/ttyxx  <PLUSARGS> <bin>\n",
      "       ./uart_tsi +tty=/dev/ttyxx  +no_hart0_msip +init_write=0x80000000:0xdeadbeef none\n",
      "       ./uart_tsi +tty=/dev/ttyxx  +no_hart0_msip +init_read=0x80000000 none\n",
      "       ./uart_tsi +tty=/dev/ttyxx  +selfcheck <bin>\n",
      "       ./uart_tsi +tty=/dev/ttyxx  +baudrate=921600 <bin>\n",
      "Attempting to open TTY at /dev/ttyUSB1\n",
      "Warning: You selected a non-standard baudrate. This will only work if the HW was configured with this baud-rate\n",
      "Checking connection status with /dev/ttyUSB1\n",
      "Connection succeeded\n",
      "Done, shutting down, flushing UART\n",
      "WARNING: You should probably reset the target before running this program again\n",
      "Done: now reset during the sleep before next iteration\n",
      "**Voltage set to: +8.00000000E-01\n",
      "V**\n"
     ]
    },
    {
     "name": "stderr",
     "output_type": "stream",
     "text": [
      "warning: tohost and fromhost symbols not in ELF; can't communicate with target\n",
      "Writing 14006c with 10\n",
      "Done writing 14006c with 10\n"
     ]
    },
    {
     "name": "stdout",
     "output_type": "stream",
     "text": [
      "Starting UART-based TSI\n",
      "Usage: ./uart_tsi +tty=/dev/pts/xx <PLUSARGS> <bin>\n",
      "       ./uart_tsi +tty=/dev/ttyxx  <PLUSARGS> <bin>\n",
      "       ./uart_tsi +tty=/dev/ttyxx  +no_hart0_msip +init_write=0x80000000:0xdeadbeef none\n",
      "       ./uart_tsi +tty=/dev/ttyxx  +no_hart0_msip +init_read=0x80000000 none\n",
      "       ./uart_tsi +tty=/dev/ttyxx  +selfcheck <bin>\n",
      "       ./uart_tsi +tty=/dev/ttyxx  +baudrate=921600 <bin>\n",
      "Attempting to open TTY at /dev/ttyUSB1\n",
      "Warning: You selected a non-standard baudrate. This will only work if the HW was configured with this baud-rate\n",
      "Checking connection status with /dev/ttyUSB1\n",
      "Connection succeeded\n",
      "Done, shutting down, flushing UART\n",
      "WARNING: You should probably reset the target before running this program again\n",
      "Done: now reset during the sleep before next iteration\n",
      "**Voltage set to: +8.50000000E-01\n",
      "V**\n"
     ]
    },
    {
     "name": "stderr",
     "output_type": "stream",
     "text": [
      "warning: tohost and fromhost symbols not in ELF; can't communicate with target\n",
      "Writing 14006c with 10\n",
      "Done writing 14006c with 10\n"
     ]
    },
    {
     "name": "stdout",
     "output_type": "stream",
     "text": [
      "Starting UART-based TSI\n",
      "Usage: ./uart_tsi +tty=/dev/pts/xx <PLUSARGS> <bin>\n",
      "       ./uart_tsi +tty=/dev/ttyxx  <PLUSARGS> <bin>\n",
      "       ./uart_tsi +tty=/dev/ttyxx  +no_hart0_msip +init_write=0x80000000:0xdeadbeef none\n",
      "       ./uart_tsi +tty=/dev/ttyxx  +no_hart0_msip +init_read=0x80000000 none\n",
      "       ./uart_tsi +tty=/dev/ttyxx  +selfcheck <bin>\n",
      "       ./uart_tsi +tty=/dev/ttyxx  +baudrate=921600 <bin>\n",
      "Attempting to open TTY at /dev/ttyUSB1\n",
      "Warning: You selected a non-standard baudrate. This will only work if the HW was configured with this baud-rate\n",
      "Checking connection status with /dev/ttyUSB1\n",
      "Connection succeeded\n",
      "Done, shutting down, flushing UART\n",
      "WARNING: You should probably reset the target before running this program again\n",
      "Done: now reset during the sleep before next iteration\n",
      "**Voltage set to: +9.00000000E-01\n",
      "V**\n"
     ]
    },
    {
     "name": "stderr",
     "output_type": "stream",
     "text": [
      "warning: tohost and fromhost symbols not in ELF; can't communicate with target\n",
      "Writing 14006c with 10\n",
      "Done writing 14006c with 10\n"
     ]
    },
    {
     "name": "stdout",
     "output_type": "stream",
     "text": [
      "b'0 4400 4600 4800 4900 4a00 4b00 4d00 4c80 4d00 4d80 4e00 4e80 4f00 4f80 5000 \\r\\n'\n",
      "Starting UART-based TSI\n",
      "Usage: ./uart_tsi +tty=/dev/pts/xx <PLUSARGS> <bin>\n",
      "       ./uart_tsi +tty=/dev/ttyxx  <PLUSARGS> <bin>\n",
      "       ./uart_tsi +tty=/dev/ttyxx  +no_hart0_msip +init_write=0x80000000:0xdeadbeef none\n",
      "       ./uart_tsi +tty=/dev/ttyxx  +no_hart0_msip +init_read=0x80000000 none\n",
      "       ./uart_tsi +tty=/dev/ttyxx  +selfcheck <bin>\n",
      "       ./uart_tsi +tty=/dev/ttyxx  +baudrate=921600 <bin>\n",
      "Attempting to open TTY at /dev/ttyUSB1\n",
      "Warning: You selected a non-standard baudrate. This will only work if the HW was configured with this baud-rate\n",
      "Checking connection status with /dev/ttyUSB1\n",
      "Connection succeeded\n",
      "Done, shutting down, flushing UART\n",
      "WARNING: You should probably reset the target before running this program again\n",
      "Done: now reset during the sleep before next iteration\n",
      "**Voltage set to: +9.50000000E-01\n",
      "V**\n"
     ]
    },
    {
     "name": "stderr",
     "output_type": "stream",
     "text": [
      "warning: tohost and fromhost symbols not in ELF; can't communicate with target\n",
      "Writing 14006c with 10\n",
      "Done writing 14006c with 10\n"
     ]
    },
    {
     "name": "stdout",
     "output_type": "stream",
     "text": [
      "b'0 4400 4600 4800 4900 4a00 4b00 4c00 4c80 4d00 4d80 4e00 4e80 4f00 4f80 5000 \\r\\n'\n",
      "Starting UART-based TSI\n",
      "Usage: ./uart_tsi +tty=/dev/pts/xx <PLUSARGS> <bin>\n",
      "       ./uart_tsi +tty=/dev/ttyxx  <PLUSARGS> <bin>\n",
      "       ./uart_tsi +tty=/dev/ttyxx  +no_hart0_msip +init_write=0x80000000:0xdeadbeef none\n",
      "       ./uart_tsi +tty=/dev/ttyxx  +no_hart0_msip +init_read=0x80000000 none\n",
      "       ./uart_tsi +tty=/dev/ttyxx  +selfcheck <bin>\n",
      "       ./uart_tsi +tty=/dev/ttyxx  +baudrate=921600 <bin>\n",
      "Attempting to open TTY at /dev/ttyUSB1\n",
      "Warning: You selected a non-standard baudrate. This will only work if the HW was configured with this baud-rate\n",
      "Checking connection status with /dev/ttyUSB1\n",
      "Connection succeeded\n",
      "Done, shutting down, flushing UART\n",
      "WARNING: You should probably reset the target before running this program again\n",
      "Done: now reset during the sleep before next iteration\n",
      "**Voltage set to: +1.00000000E+00\n",
      "V**\n"
     ]
    },
    {
     "name": "stderr",
     "output_type": "stream",
     "text": [
      "warning: tohost and fromhost symbols not in ELF; can't communicate with target\n",
      "Writing 14006c with 10\n",
      "Done writing 14006c with 10\n"
     ]
    },
    {
     "name": "stdout",
     "output_type": "stream",
     "text": [
      "b'0 4400 4600 4800 4900 4a00 4b00 4c00 4c80 4d00 4d80 4e00 4e80 4f00 4f80 5000 \\r\\n'\n",
      "Starting UART-based TSI\n",
      "Usage: ./uart_tsi +tty=/dev/pts/xx <PLUSARGS> <bin>\n",
      "       ./uart_tsi +tty=/dev/ttyxx  <PLUSARGS> <bin>\n",
      "       ./uart_tsi +tty=/dev/ttyxx  +no_hart0_msip +init_write=0x80000000:0xdeadbeef none\n",
      "       ./uart_tsi +tty=/dev/ttyxx  +no_hart0_msip +init_read=0x80000000 none\n",
      "       ./uart_tsi +tty=/dev/ttyxx  +selfcheck <bin>\n",
      "       ./uart_tsi +tty=/dev/ttyxx  +baudrate=921600 <bin>\n",
      "Attempting to open TTY at /dev/ttyUSB1\n",
      "Warning: You selected a non-standard baudrate. This will only work if the HW was configured with this baud-rate\n",
      "Checking connection status with /dev/ttyUSB1\n",
      "Connection succeeded\n",
      "Done, shutting down, flushing UART\n",
      "WARNING: You should probably reset the target before running this program again\n",
      "Done: now reset during the sleep before next iteration\n",
      "**Voltage set to: +1.05000000E+00\n",
      "V**\n"
     ]
    },
    {
     "name": "stderr",
     "output_type": "stream",
     "text": [
      "warning: tohost and fromhost symbols not in ELF; can't communicate with target\n",
      "Writing 14006c with 10\n",
      "Done writing 14006c with 10\n"
     ]
    },
    {
     "name": "stdout",
     "output_type": "stream",
     "text": [
      "b'0 4400 4600 4800 4900 4a00 4b00 4c00 4c80 4d00 4d80 4e00 4e80 4f00 4f80 5000 \\r\\n'\n",
      "Starting UART-based TSI\n",
      "Usage: ./uart_tsi +tty=/dev/pts/xx <PLUSARGS> <bin>\n",
      "       ./uart_tsi +tty=/dev/ttyxx  <PLUSARGS> <bin>\n",
      "       ./uart_tsi +tty=/dev/ttyxx  +no_hart0_msip +init_write=0x80000000:0xdeadbeef none\n",
      "       ./uart_tsi +tty=/dev/ttyxx  +no_hart0_msip +init_read=0x80000000 none\n",
      "       ./uart_tsi +tty=/dev/ttyxx  +selfcheck <bin>\n",
      "       ./uart_tsi +tty=/dev/ttyxx  +baudrate=921600 <bin>\n",
      "Attempting to open TTY at /dev/ttyUSB1\n",
      "Warning: You selected a non-standard baudrate. This will only work if the HW was configured with this baud-rate\n",
      "Checking connection status with /dev/ttyUSB1\n",
      "Connection succeeded\n",
      "Done, shutting down, flushing UART\n",
      "WARNING: You should probably reset the target before running this program again\n",
      "Done: now reset during the sleep before next iteration\n",
      "**Voltage set to: +1.10000000E+00\n",
      "V**\n"
     ]
    },
    {
     "name": "stderr",
     "output_type": "stream",
     "text": [
      "warning: tohost and fromhost symbols not in ELF; can't communicate with target\n",
      "Writing 14006c with 10\n",
      "Done writing 14006c with 10\n"
     ]
    },
    {
     "name": "stdout",
     "output_type": "stream",
     "text": [
      "b'0 4400 4600 4800 4900 4a00 4b00 4c00 4c80 4d00 4d80 4e00 4e80 4f00 4f80 5000 \\r\\n'\n",
      "Starting UART-based TSI\n",
      "Usage: ./uart_tsi +tty=/dev/pts/xx <PLUSARGS> <bin>\n",
      "       ./uart_tsi +tty=/dev/ttyxx  <PLUSARGS> <bin>\n",
      "       ./uart_tsi +tty=/dev/ttyxx  +no_hart0_msip +init_write=0x80000000:0xdeadbeef none\n",
      "       ./uart_tsi +tty=/dev/ttyxx  +no_hart0_msip +init_read=0x80000000 none\n",
      "       ./uart_tsi +tty=/dev/ttyxx  +selfcheck <bin>\n",
      "       ./uart_tsi +tty=/dev/ttyxx  +baudrate=921600 <bin>\n",
      "Attempting to open TTY at /dev/ttyUSB1\n",
      "Warning: You selected a non-standard baudrate. This will only work if the HW was configured with this baud-rate\n",
      "Checking connection status with /dev/ttyUSB1\n",
      "Connection succeeded\n",
      "Done, shutting down, flushing UART\n",
      "WARNING: You should probably reset the target before running this program again\n",
      "Done: now reset during the sleep before next iteration\n",
      "**Voltage set to: +1.15000000E+00\n",
      "V**\n"
     ]
    },
    {
     "name": "stderr",
     "output_type": "stream",
     "text": [
      "warning: tohost and fromhost symbols not in ELF; can't communicate with target\n",
      "Writing 14006c with 10\n",
      "Done writing 14006c with 10\n"
     ]
    },
    {
     "name": "stdout",
     "output_type": "stream",
     "text": [
      "b'0 4400 4600 4800 4900 4a00 4b00 4c00 4c80 4d00 4d80 4e00 4e80 4f00 4f80 5000 \\r\\n'\n",
      "Starting UART-based TSI\n",
      "Usage: ./uart_tsi +tty=/dev/pts/xx <PLUSARGS> <bin>\n",
      "       ./uart_tsi +tty=/dev/ttyxx  <PLUSARGS> <bin>\n",
      "       ./uart_tsi +tty=/dev/ttyxx  +no_hart0_msip +init_write=0x80000000:0xdeadbeef none\n",
      "       ./uart_tsi +tty=/dev/ttyxx  +no_hart0_msip +init_read=0x80000000 none\n",
      "       ./uart_tsi +tty=/dev/ttyxx  +selfcheck <bin>\n",
      "       ./uart_tsi +tty=/dev/ttyxx  +baudrate=921600 <bin>\n",
      "Attempting to open TTY at /dev/ttyUSB1\n",
      "Warning: You selected a non-standard baudrate. This will only work if the HW was configured with this baud-rate\n",
      "Checking connection status with /dev/ttyUSB1\n",
      "Connection succeeded\n",
      "Done, shutting down, flushing UART\n",
      "WARNING: You should probably reset the target before running this program again\n",
      "Done: now reset during the sleep before next iteration\n",
      "**Voltage set to: +1.20000000E+00\n",
      "V**\n"
     ]
    },
    {
     "name": "stderr",
     "output_type": "stream",
     "text": [
      "warning: tohost and fromhost symbols not in ELF; can't communicate with target\n",
      "Writing 14006c with 10\n",
      "Done writing 14006c with 10\n"
     ]
    },
    {
     "name": "stdout",
     "output_type": "stream",
     "text": [
      "b'0 4400 4600 4800 4900 4a00 4b00 4c00 4c80 4d00 4d80 4e00 4e80 4f00 4f80 5000 \\r\\n'\n",
      "Starting UART-based TSI\n",
      "Usage: ./uart_tsi +tty=/dev/pts/xx <PLUSARGS> <bin>\n",
      "       ./uart_tsi +tty=/dev/ttyxx  <PLUSARGS> <bin>\n",
      "       ./uart_tsi +tty=/dev/ttyxx  +no_hart0_msip +init_write=0x80000000:0xdeadbeef none\n",
      "       ./uart_tsi +tty=/dev/ttyxx  +no_hart0_msip +init_read=0x80000000 none\n",
      "       ./uart_tsi +tty=/dev/ttyxx  +selfcheck <bin>\n",
      "       ./uart_tsi +tty=/dev/ttyxx  +baudrate=921600 <bin>\n",
      "Attempting to open TTY at /dev/ttyUSB1\n",
      "Warning: You selected a non-standard baudrate. This will only work if the HW was configured with this baud-rate\n",
      "Checking connection status with /dev/ttyUSB1\n",
      "Connection succeeded\n",
      "Done, shutting down, flushing UART\n",
      "WARNING: You should probably reset the target before running this program again\n",
      "Done: now reset during the sleep before next iteration\n",
      "rm -rf build\n",
      "cmake -S ./ -B ./build/ -D CMAKE_TOOLCHAIN_FILE=./riscv-gcc.cmake -DCHIP=dsp24\n",
      "-- The ASM compiler identification is GNU\n",
      "-- Found assembler: /tools/C/ee290-fa24-2/.conda-env/riscv-tools/bin/riscv64-unknown-elf-gcc\n",
      "-- The C compiler identification is GNU 13.2.0\n",
      "-- The CXX compiler identification is GNU 13.2.0\n",
      "-- Detecting C compiler ABI info\n",
      "-- Detecting C compiler ABI info - done\n",
      "-- Check for working C compiler: /tools/C/ee290-fa24-2/.conda-env/riscv-tools/bin/riscv64-unknown-elf-gcc - skipped\n",
      "-- Detecting C compile features\n",
      "-- Detecting C compile features - done\n",
      "-- Detecting CXX compiler ABI info\n",
      "-- Detecting CXX compiler ABI info - done\n",
      "-- Check for working CXX compiler: /tools/C/ee290-fa24-2/.conda-env/riscv-tools/bin/riscv64-unknown-elf-g++ - skipped\n",
      "-- Detecting CXX compile features\n",
      "-- Detecting CXX compile features - done\n",
      "-- Including HTIF to target\n",
      "-- Including CLINT to target\n",
      "-- ================ Glossy config ================\n",
      "--  Building for CHIP: \"dsp24\"\n",
      "--  Reading config from \"/tools/C/tedkim7/sp24-Baremetal-IDE/platform/dsp24/CMakeLists.txt\"\n",
      "--  Terminal Device: UART0\n",
      "--  Linker Script: /tools/C/tedkim7/sp24-Baremetal-IDE/platform/dsp24/dsp24.ld\n",
      "-- ===============================================\n",
      "-- Configuring done (3.4s)\n",
      "-- Generating done (1.4s)\n",
      "-- Build files have been written to: /tools/C/tedkim7/sp24-Baremetal-IDE/build\n",
      "cmake --build ./build/ --target shmoo_bench\n",
      "gmake[1]: Entering directory '/bwrcq/C/tedkim7/sp24-Baremetal-IDE/build'\n",
      "gmake[2]: Entering directory '/bwrcq/C/tedkim7/sp24-Baremetal-IDE/build'\n",
      "gmake[3]: Entering directory '/bwrcq/C/tedkim7/sp24-Baremetal-IDE/build'\n",
      "gmake[4]: Entering directory '/bwrcq/C/tedkim7/sp24-Baremetal-IDE/build'\n",
      "gmake[4]: Leaving directory '/bwrcq/C/tedkim7/sp24-Baremetal-IDE/build'\n",
      "gmake[4]: Entering directory '/bwrcq/C/tedkim7/sp24-Baremetal-IDE/build'\n",
      "[  2%] \u001b[32mBuilding C object driver/rocket-chip-blocks/uart/CMakeFiles/uart.dir/uart.c.obj\u001b[0m\n"
     ]
    },
    {
     "name": "stderr",
     "output_type": "stream",
     "text": [
      "/tools/C/tedkim7/sp24-Baremetal-IDE/driver/rocket-chip-blocks/uart/uart.c: In function 'uart_receive':\n",
      "/tools/C/tedkim7/sp24-Baremetal-IDE/driver/rocket-chip-blocks/uart/uart.c:35:78: warning: unused parameter 'timeout' [-Wunused-parameter]\n",
      "   35 | Status uart_receive(UART_Type *UARTx, uint8_t *data, uint16_t size, uint32_t timeout) {\n",
      "      |                                                                     ~~~~~~~~~^~~~~~~\n",
      "/tools/C/tedkim7/sp24-Baremetal-IDE/driver/rocket-chip-blocks/uart/uart.c: In function 'uart_transmit':\n",
      "/tools/C/tedkim7/sp24-Baremetal-IDE/driver/rocket-chip-blocks/uart/uart.c:50:85: warning: unused parameter 'timeout' [-Wunused-parameter]\n",
      "   50 | Status uart_transmit(UART_Type *UARTx, const uint8_t *data, uint16_t size, uint32_t timeout) {\n",
      "      |                                                                            ~~~~~~~~~^~~~~~~\n"
     ]
    },
    {
     "name": "stdout",
     "output_type": "stream",
     "text": [
      "[  5%] \u001b[32m\u001b[1mLinking C static library libuart.a\u001b[0m\n",
      "gmake[4]: Leaving directory '/bwrcq/C/tedkim7/sp24-Baremetal-IDE/build'\n",
      "[  5%] Built target uart\n",
      "gmake[4]: Entering directory '/bwrcq/C/tedkim7/sp24-Baremetal-IDE/build'\n",
      "gmake[4]: Leaving directory '/bwrcq/C/tedkim7/sp24-Baremetal-IDE/build'\n",
      "gmake[4]: Entering directory '/bwrcq/C/tedkim7/sp24-Baremetal-IDE/build'\n",
      "[  7%] \u001b[32mBuilding C object driver/intel/pll/CMakeFiles/intel-pll.dir/pll.c.obj\u001b[0m\n",
      "[ 10%] \u001b[32m\u001b[1mLinking C static library libintel-pll.a\u001b[0m\n",
      "gmake[4]: Leaving directory '/bwrcq/C/tedkim7/sp24-Baremetal-IDE/build'\n",
      "[ 10%] Built target intel-pll\n",
      "gmake[4]: Entering directory '/bwrcq/C/tedkim7/sp24-Baremetal-IDE/build'\n",
      "gmake[4]: Leaving directory '/bwrcq/C/tedkim7/sp24-Baremetal-IDE/build'\n",
      "gmake[4]: Entering directory '/bwrcq/C/tedkim7/sp24-Baremetal-IDE/build'\n",
      "[ 12%] \u001b[32mBuilding C object driver/rocket-chip/clint/CMakeFiles/clint.dir/clint.c.obj\u001b[0m\n",
      "[ 15%] \u001b[32m\u001b[1mLinking C static library libclint.a\u001b[0m\n",
      "gmake[4]: Leaving directory '/bwrcq/C/tedkim7/sp24-Baremetal-IDE/build'\n",
      "[ 15%] Built target clint\n",
      "gmake[4]: Entering directory '/bwrcq/C/tedkim7/sp24-Baremetal-IDE/build'\n",
      "gmake[4]: Leaving directory '/bwrcq/C/tedkim7/sp24-Baremetal-IDE/build'\n",
      "gmake[4]: Entering directory '/bwrcq/C/tedkim7/sp24-Baremetal-IDE/build'\n",
      "[ 17%] \u001b[32mBuilding C object driver/rocket-chip/rocketcore/CMakeFiles/rocketcore.dir/rocketcore.c.obj\u001b[0m\n",
      "[ 20%] \u001b[32m\u001b[1mLinking C static library librocketcore.a\u001b[0m\n",
      "gmake[4]: Leaving directory '/bwrcq/C/tedkim7/sp24-Baremetal-IDE/build'\n",
      "[ 20%] Built target rocketcore\n",
      "gmake[4]: Entering directory '/bwrcq/C/tedkim7/sp24-Baremetal-IDE/build'\n",
      "gmake[4]: Leaving directory '/bwrcq/C/tedkim7/sp24-Baremetal-IDE/build'\n",
      "gmake[4]: Entering directory '/bwrcq/C/tedkim7/sp24-Baremetal-IDE/build'\n",
      "[ 23%] \u001b[32mBuilding C object driver/rocket-chip-blocks/i2c/CMakeFiles/i2c.dir/i2c.c.obj\u001b[0m\n"
     ]
    },
    {
     "name": "stderr",
     "output_type": "stream",
     "text": [
      "/tools/C/tedkim7/sp24-Baremetal-IDE/driver/rocket-chip-blocks/i2c/i2c.c: In function 'i2c_init':\n",
      "/tools/C/tedkim7/sp24-Baremetal-IDE/driver/rocket-chip-blocks/i2c/i2c.c:13:45: warning: unused parameter 'I2C_init' [-Wunused-parameter]\n",
      "   13 | void i2c_init(I2C_Type *I2Cx, I2C_InitType *I2C_init) {\n",
      "      |                               ~~~~~~~~~~~~~~^~~~~~~~\n",
      "/tools/C/tedkim7/sp24-Baremetal-IDE/driver/rocket-chip-blocks/i2c/i2c.c: In function 'i2c_wait_for_flag':\n",
      "/tools/C/tedkim7/sp24-Baremetal-IDE/driver/rocket-chip-blocks/i2c/i2c.c:30:9: warning: implicit declaration of function 'CLINT_getTime' [-Wimplicit-function-declaration]\n",
      "   30 |     if (CLINT_getTime() > (timestart + timeout)) {\n",
      "      |         ^~~~~~~~~~~~~\n",
      "/tools/C/tedkim7/sp24-Baremetal-IDE/driver/rocket-chip-blocks/i2c/i2c.c:30:25: warning: comparison of integer expressions of different signedness: 'int' and 'uint32_t' {aka 'unsigned int'} [-Wsign-compare]\n",
      "   30 |     if (CLINT_getTime() > (timestart + timeout)) {\n",
      "      |                         ^\n",
      "/tools/C/tedkim7/sp24-Baremetal-IDE/driver/rocket-chip-blocks/i2c/i2c.c: In function 'i2c_master_receive':\n",
      "/tools/C/tedkim7/sp24-Baremetal-IDE/driver/rocket-chip-blocks/i2c/i2c.c:53:24: warning: implicit declaration of function 'clint_get_time' [-Wimplicit-function-declaration]\n",
      "   53 |   uint64_t timestart = clint_get_time();\n",
      "      |                        ^~~~~~~~~~~~~~\n",
      "/tools/C/tedkim7/sp24-Baremetal-IDE/driver/rocket-chip-blocks/i2c/i2c.c: In function 'i2c_wait_for_transaction':\n",
      "/tools/C/tedkim7/sp24-Baremetal-IDE/driver/rocket-chip-blocks/i2c/i2c.c:50:1: warning: control reaches end of non-void function [-Wreturn-type]\n",
      "   50 | }\n",
      "      | ^\n"
     ]
    },
    {
     "name": "stdout",
     "output_type": "stream",
     "text": [
      "[ 25%] \u001b[32m\u001b[1mLinking C static library libi2c.a\u001b[0m\n",
      "gmake[4]: Leaving directory '/bwrcq/C/tedkim7/sp24-Baremetal-IDE/build'\n",
      "[ 25%] Built target i2c\n",
      "gmake[4]: Entering directory '/bwrcq/C/tedkim7/sp24-Baremetal-IDE/build'\n",
      "gmake[4]: Leaving directory '/bwrcq/C/tedkim7/sp24-Baremetal-IDE/build'\n",
      "gmake[4]: Entering directory '/bwrcq/C/tedkim7/sp24-Baremetal-IDE/build'\n",
      "[ 28%] \u001b[32mBuilding C object driver/rocket-chip-blocks/spi/CMakeFiles/spi.dir/spi.c.obj\u001b[0m\n"
     ]
    },
    {
     "name": "stderr",
     "output_type": "stream",
     "text": [
      "/tools/C/tedkim7/sp24-Baremetal-IDE/driver/rocket-chip-blocks/spi/spi.c: In function 'spi_receive':\n",
      "/tools/C/tedkim7/sp24-Baremetal-IDE/driver/rocket-chip-blocks/spi/spi.c:56:75: warning: unused parameter 'timeout' [-Wunused-parameter]\n",
      "   56 | Status spi_receive(SPI_Type *SPIx, uint8_t *data, uint16_t size, uint64_t timeout) {\n",
      "      |                                                                  ~~~~~~~~~^~~~~~~\n",
      "/tools/C/tedkim7/sp24-Baremetal-IDE/driver/rocket-chip-blocks/spi/spi.c: In function 'spi_transmit':\n",
      "/tools/C/tedkim7/sp24-Baremetal-IDE/driver/rocket-chip-blocks/spi/spi.c:68:76: warning: unused parameter 'timeout' [-Wunused-parameter]\n",
      "   68 | Status spi_transmit(SPI_Type *SPIx, uint8_t *data, uint16_t size, uint64_t timeout) {\n",
      "      |                                                                   ~~~~~~~~~^~~~~~~\n",
      "/tools/C/tedkim7/sp24-Baremetal-IDE/driver/rocket-chip-blocks/spi/spi.c: In function 'spi_transmit_receive':\n",
      "/tools/C/tedkim7/sp24-Baremetal-IDE/driver/rocket-chip-blocks/spi/spi.c:80:105: warning: unused parameter 'timeout' [-Wunused-parameter]\n",
      "   80 | Status spi_transmit_receive(SPI_Type *SPIx, uint8_t *tx_data, uint8_t *rx_data, uint16_t size, uint64_t timeout) {\n",
      "      |                                                                                                ~~~~~~~~~^~~~~~~\n"
     ]
    },
    {
     "name": "stdout",
     "output_type": "stream",
     "text": [
      "[ 30%] \u001b[32m\u001b[1mLinking C static library libspi.a\u001b[0m\n",
      "gmake[4]: Leaving directory '/bwrcq/C/tedkim7/sp24-Baremetal-IDE/build'\n",
      "[ 30%] Built target spi\n",
      "gmake[4]: Entering directory '/bwrcq/C/tedkim7/sp24-Baremetal-IDE/build'\n",
      "gmake[4]: Leaving directory '/bwrcq/C/tedkim7/sp24-Baremetal-IDE/build'\n",
      "gmake[4]: Entering directory '/bwrcq/C/tedkim7/sp24-Baremetal-IDE/build'\n",
      "[ 33%] \u001b[32mBuilding C object platform/dsp24/CMakeFiles/chip-config.dir/chip.c.obj\u001b[0m\n",
      "[ 35%] \u001b[32mBuilding C object platform/dsp24/CMakeFiles/chip-config.dir/src/hal_DMA.c.obj\u001b[0m\n"
     ]
    },
    {
     "name": "stderr",
     "output_type": "stream",
     "text": [
      "/tools/C/tedkim7/sp24-Baremetal-IDE/platform/dsp24/src/hal_DMA.c: In function 'set_DMAP':\n",
      "/tools/C/tedkim7/sp24-Baremetal-IDE/platform/dsp24/src/hal_DMA.c:24:53: warning: passing argument 2 of 'reg_write64' makes integer from pointer without a cast [-Wint-conversion]\n",
      "   24 |     reg_write64(DMA_SET_READ + num*DMA_MMIO_Offset, addr_r);\n",
      "      |                                                     ^~~~~~\n",
      "      |                                                     |\n",
      "      |                                                     uint64_t * {aka long unsigned int *}\n",
      "In file included from /tools/C/tedkim7/sp24-Baremetal-IDE/platform/dsp24/inc/hal_DMA.h:10,\n",
      "                 from /tools/C/tedkim7/sp24-Baremetal-IDE/platform/dsp24/src/hal_DMA.c:1:\n",
      "/tools/C/tedkim7/sp24-Baremetal-IDE/platform/dsp24/inc/hal_mmio.h:23:47: note: expected 'uint64_t' {aka 'long unsigned int'} but argument is of type 'uint64_t *' {aka 'long unsigned int *'}\n",
      "   23 | void reg_write64(unsigned long addr, uint64_t data);\n",
      "      |                                      ~~~~~~~~~^~~~\n",
      "/tools/C/tedkim7/sp24-Baremetal-IDE/platform/dsp24/src/hal_DMA.c:25:54: warning: passing argument 2 of 'reg_write64' makes integer from pointer without a cast [-Wint-conversion]\n",
      "   25 |     reg_write64(DMA_SET_WRITE + num*DMA_MMIO_Offset, addr_w);\n",
      "      |                                                      ^~~~~~\n",
      "      |                                                      |\n",
      "      |                                                      uint64_t * {aka long unsigned int *}\n",
      "/tools/C/tedkim7/sp24-Baremetal-IDE/platform/dsp24/inc/hal_mmio.h:23:47: note: expected 'uint64_t' {aka 'long unsigned int'} but argument is of type 'uint64_t *' {aka 'long unsigned int *'}\n",
      "   23 | void reg_write64(unsigned long addr, uint64_t data);\n",
      "      |                                      ~~~~~~~~~^~~~\n",
      "/tools/C/tedkim7/sp24-Baremetal-IDE/platform/dsp24/src/hal_DMA.c:26:50: warning: passing argument 2 of 'reg_write64' makes integer from pointer without a cast [-Wint-conversion]\n",
      "   26 |     reg_write64(DMA_SET_C + num*DMA_MMIO_Offset, addr_c);\n",
      "      |                                                  ^~~~~~\n",
      "      |                                                  |\n",
      "      |                                                  uint64_t * {aka long unsigned int *}\n",
      "/tools/C/tedkim7/sp24-Baremetal-IDE/platform/dsp24/inc/hal_mmio.h:23:47: note: expected 'uint64_t' {aka 'long unsigned int'} but argument is of type 'uint64_t *' {aka 'long unsigned int *'}\n",
      "   23 | void reg_write64(unsigned long addr, uint64_t data);\n",
      "      |                                      ~~~~~~~~~^~~~\n"
     ]
    },
    {
     "name": "stdout",
     "output_type": "stream",
     "text": [
      "[ 38%] \u001b[32mBuilding C object platform/dsp24/CMakeFiles/chip-config.dir/src/hal_I2S.c.obj\u001b[0m\n"
     ]
    },
    {
     "name": "stderr",
     "output_type": "stream",
     "text": [
      "/tools/C/tedkim7/sp24-Baremetal-IDE/platform/dsp24/src/hal_I2S.c: In function 'write_I2S_tx_DMA':\n",
      "/tools/C/tedkim7/sp24-Baremetal-IDE/platform/dsp24/src/hal_I2S.c:49:9: warning: implicit declaration of function 'printf' [-Wimplicit-function-declaration]\n",
      "   49 |         printf(\"Writing to left queue\\n\");\n",
      "      |         ^~~~~~\n",
      "/tools/C/tedkim7/sp24-Baremetal-IDE/platform/dsp24/src/hal_I2S.c:3:1: note: include '<stdio.h>' or provide a declaration of 'printf'\n",
      "    2 | #include  \"hal_mmio.h\"\n",
      "  +++ |+#include <stdio.h>\n",
      "    3 | \n",
      "/tools/C/tedkim7/sp24-Baremetal-IDE/platform/dsp24/src/hal_I2S.c:49:9: warning: incompatible implicit declaration of built-in function 'printf' [-Wbuiltin-declaration-mismatch]\n",
      "   49 |         printf(\"Writing to left queue\\n\");\n",
      "      |         ^~~~~~\n",
      "/tools/C/tedkim7/sp24-Baremetal-IDE/platform/dsp24/src/hal_I2S.c:49:9: note: include '<stdio.h>' or provide a declaration of 'printf'\n",
      "In file included from /tools/C/tedkim7/sp24-Baremetal-IDE/platform/dsp24/src/hal_I2S.c:1:\n",
      "/tools/C/tedkim7/sp24-Baremetal-IDE/platform/dsp24/inc/hal_I2S.h:13:37: warning: passing argument 3 of 'set_DMAP' makes pointer from integer without a cast [-Wint-conversion]\n",
      "   13 | #define I2S_BASE                    0x10042000U\n",
      "      |                                     ^\n",
      "      |                                     |\n",
      "      |                                     unsigned int\n",
      "/tools/C/tedkim7/sp24-Baremetal-IDE/platform/dsp24/inc/hal_I2S.h:26:37: note: in expansion of macro 'I2S_BASE'\n",
      "   26 | #define I2S_TX_L                    I2S_BASE + 0x20\n",
      "      |                                     ^~~~~~~~\n",
      "/tools/C/tedkim7/sp24-Baremetal-IDE/platform/dsp24/src/hal_I2S.c:50:38: note: in expansion of macro 'I2S_TX_L'\n",
      "   50 |         set_DMAP(dma_num, read_addr, I2S_TX_L, I2S_WATERMARK_TX_L, 8, 0, length, 3, poll);\n",
      "      |                                      ^~~~~~~~\n",
      "In file included from /tools/C/tedkim7/sp24-Baremetal-IDE/platform/dsp24/inc/hal_I2S.h:9:\n",
      "/tools/C/tedkim7/sp24-Baremetal-IDE/platform/dsp24/inc/hal_DMA.h:37:57: note: expected 'uint64_t *' {aka 'long unsigned int *'} but argument is of type 'unsigned int'\n",
      "   37 | void set_DMAP(uint32_t num, uint64_t* addr_r, uint64_t* addr_w, uint64_t* addr_c, uint16_t inc_r, uint16_t inc_w, uint16_t len, uint8_t logd, uint32_t count);\n",
      "      |                                               ~~~~~~~~~~^~~~~~\n",
      "/tools/C/tedkim7/sp24-Baremetal-IDE/platform/dsp24/inc/hal_I2S.h:13:37: warning: passing argument 4 of 'set_DMAP' makes pointer from integer without a cast [-Wint-conversion]\n",
      "   13 | #define I2S_BASE                    0x10042000U\n",
      "      |                                     ^\n",
      "      |                                     |\n",
      "      |                                     unsigned int\n",
      "/tools/C/tedkim7/sp24-Baremetal-IDE/platform/dsp24/inc/hal_I2S.h:18:37: note: in expansion of macro 'I2S_BASE'\n",
      "   18 | #define I2S_WATERMARK_TX_L          I2S_BASE + 0x100\n",
      "      |                                     ^~~~~~~~\n",
      "/tools/C/tedkim7/sp24-Baremetal-IDE/platform/dsp24/src/hal_I2S.c:50:48: note: in expansion of macro 'I2S_WATERMARK_TX_L'\n",
      "   50 |         set_DMAP(dma_num, read_addr, I2S_TX_L, I2S_WATERMARK_TX_L, 8, 0, length, 3, poll);\n",
      "      |                                                ^~~~~~~~~~~~~~~~~~\n",
      "/tools/C/tedkim7/sp24-Baremetal-IDE/platform/dsp24/inc/hal_DMA.h:37:75: note: expected 'uint64_t *' {aka 'long unsigned int *'} but argument is of type 'unsigned int'\n",
      "   37 | void set_DMAP(uint32_t num, uint64_t* addr_r, uint64_t* addr_w, uint64_t* addr_c, uint16_t inc_r, uint16_t inc_w, uint16_t len, uint8_t logd, uint32_t count);\n",
      "      |                                                                 ~~~~~~~~~~^~~~~~\n",
      "/tools/C/tedkim7/sp24-Baremetal-IDE/platform/dsp24/src/hal_I2S.c:52:9: warning: incompatible implicit declaration of built-in function 'printf' [-Wbuiltin-declaration-mismatch]\n",
      "   52 |         printf(\"Writing to right queue\\n\");\n",
      "      |         ^~~~~~\n",
      "/tools/C/tedkim7/sp24-Baremetal-IDE/platform/dsp24/src/hal_I2S.c:52:9: note: include '<stdio.h>' or provide a declaration of 'printf'\n",
      "/tools/C/tedkim7/sp24-Baremetal-IDE/platform/dsp24/inc/hal_I2S.h:13:37: warning: passing argument 3 of 'set_DMAP' makes pointer from integer without a cast [-Wint-conversion]\n",
      "   13 | #define I2S_BASE                    0x10042000U\n",
      "      |                                     ^\n",
      "      |                                     |\n",
      "      |                                     unsigned int\n",
      "/tools/C/tedkim7/sp24-Baremetal-IDE/platform/dsp24/inc/hal_I2S.h:27:37: note: in expansion of macro 'I2S_BASE'\n",
      "   27 | #define I2S_TX_R                    I2S_BASE + 0x28\n",
      "      |                                     ^~~~~~~~\n",
      "/tools/C/tedkim7/sp24-Baremetal-IDE/platform/dsp24/src/hal_I2S.c:53:38: note: in expansion of macro 'I2S_TX_R'\n",
      "   53 |         set_DMAP(dma_num, read_addr, I2S_TX_R, I2S_WATERMARK_TX_R, 8, 0, length, 3, poll);\n",
      "      |                                      ^~~~~~~~\n",
      "/tools/C/tedkim7/sp24-Baremetal-IDE/platform/dsp24/inc/hal_DMA.h:37:57: note: expected 'uint64_t *' {aka 'long unsigned int *'} but argument is of type 'unsigned int'\n",
      "   37 | void set_DMAP(uint32_t num, uint64_t* addr_r, uint64_t* addr_w, uint64_t* addr_c, uint16_t inc_r, uint16_t inc_w, uint16_t len, uint8_t logd, uint32_t count);\n",
      "      |                                               ~~~~~~~~~~^~~~~~\n",
      "/tools/C/tedkim7/sp24-Baremetal-IDE/platform/dsp24/inc/hal_I2S.h:13:37: warning: passing argument 4 of 'set_DMAP' makes pointer from integer without a cast [-Wint-conversion]\n",
      "   13 | #define I2S_BASE                    0x10042000U\n",
      "      |                                     ^\n",
      "      |                                     |\n",
      "      |                                     unsigned int\n",
      "/tools/C/tedkim7/sp24-Baremetal-IDE/platform/dsp24/inc/hal_I2S.h:19:37: note: in expansion of macro 'I2S_BASE'\n",
      "   19 | #define I2S_WATERMARK_TX_R          I2S_BASE + 0x101\n",
      "      |                                     ^~~~~~~~\n",
      "/tools/C/tedkim7/sp24-Baremetal-IDE/platform/dsp24/src/hal_I2S.c:53:48: note: in expansion of macro 'I2S_WATERMARK_TX_R'\n",
      "   53 |         set_DMAP(dma_num, read_addr, I2S_TX_R, I2S_WATERMARK_TX_R, 8, 0, length, 3, poll);\n",
      "      |                                                ^~~~~~~~~~~~~~~~~~\n",
      "/tools/C/tedkim7/sp24-Baremetal-IDE/platform/dsp24/inc/hal_DMA.h:37:75: note: expected 'uint64_t *' {aka 'long unsigned int *'} but argument is of type 'unsigned int'\n",
      "   37 | void set_DMAP(uint32_t num, uint64_t* addr_r, uint64_t* addr_w, uint64_t* addr_c, uint16_t inc_r, uint16_t inc_w, uint16_t len, uint8_t logd, uint32_t count);\n",
      "      |                                                                 ~~~~~~~~~~^~~~~~\n",
      "/tools/C/tedkim7/sp24-Baremetal-IDE/platform/dsp24/src/hal_I2S.c: In function 'read_I2S_rx_DMA':\n",
      "/tools/C/tedkim7/sp24-Baremetal-IDE/platform/dsp24/inc/hal_I2S.h:13:37: warning: passing argument 2 of 'set_DMAP' makes pointer from integer without a cast [-Wint-conversion]\n",
      "   13 | #define I2S_BASE                    0x10042000U\n",
      "      |                                     ^\n",
      "      |                                     |\n",
      "      |                                     unsigned int\n",
      "/tools/C/tedkim7/sp24-Baremetal-IDE/platform/dsp24/inc/hal_I2S.h:28:37: note: in expansion of macro 'I2S_BASE'\n",
      "   28 | #define I2S_RX_L                    I2S_BASE + 0x60\n",
      "      |                                     ^~~~~~~~\n",
      "/tools/C/tedkim7/sp24-Baremetal-IDE/platform/dsp24/src/hal_I2S.c:60:27: note: in expansion of macro 'I2S_RX_L'\n",
      "   60 |         set_DMAP(dma_num, I2S_RX_L, write_addr, I2S_WATERMARK_RX_L, 0, 8, length, 3, poll);\n",
      "      |                           ^~~~~~~~\n",
      "/tools/C/tedkim7/sp24-Baremetal-IDE/platform/dsp24/inc/hal_DMA.h:37:39: note: expected 'uint64_t *' {aka 'long unsigned int *'} but argument is of type 'unsigned int'\n",
      "   37 | void set_DMAP(uint32_t num, uint64_t* addr_r, uint64_t* addr_w, uint64_t* addr_c, uint16_t inc_r, uint16_t inc_w, uint16_t len, uint8_t logd, uint32_t count);\n",
      "      |                             ~~~~~~~~~~^~~~~~\n",
      "/tools/C/tedkim7/sp24-Baremetal-IDE/platform/dsp24/inc/hal_I2S.h:13:37: warning: passing argument 4 of 'set_DMAP' makes pointer from integer without a cast [-Wint-conversion]\n",
      "   13 | #define I2S_BASE                    0x10042000U\n",
      "      |                                     ^\n",
      "      |                                     |\n",
      "      |                                     unsigned int\n",
      "/tools/C/tedkim7/sp24-Baremetal-IDE/platform/dsp24/inc/hal_I2S.h:16:37: note: in expansion of macro 'I2S_BASE'\n",
      "   16 | #define I2S_WATERMARK_RX_L          I2S_BASE + 0x102\n",
      "      |                                     ^~~~~~~~\n",
      "/tools/C/tedkim7/sp24-Baremetal-IDE/platform/dsp24/src/hal_I2S.c:60:49: note: in expansion of macro 'I2S_WATERMARK_RX_L'\n",
      "   60 |         set_DMAP(dma_num, I2S_RX_L, write_addr, I2S_WATERMARK_RX_L, 0, 8, length, 3, poll);\n",
      "      |                                                 ^~~~~~~~~~~~~~~~~~\n",
      "/tools/C/tedkim7/sp24-Baremetal-IDE/platform/dsp24/inc/hal_DMA.h:37:75: note: expected 'uint64_t *' {aka 'long unsigned int *'} but argument is of type 'unsigned int'\n",
      "   37 | void set_DMAP(uint32_t num, uint64_t* addr_r, uint64_t* addr_w, uint64_t* addr_c, uint16_t inc_r, uint16_t inc_w, uint16_t len, uint8_t logd, uint32_t count);\n",
      "      |                                                                 ~~~~~~~~~~^~~~~~\n",
      "/tools/C/tedkim7/sp24-Baremetal-IDE/platform/dsp24/inc/hal_I2S.h:13:37: warning: passing argument 2 of 'set_DMAP' makes pointer from integer without a cast [-Wint-conversion]\n",
      "   13 | #define I2S_BASE                    0x10042000U\n",
      "      |                                     ^\n",
      "      |                                     |\n",
      "      |                                     unsigned int\n",
      "/tools/C/tedkim7/sp24-Baremetal-IDE/platform/dsp24/inc/hal_I2S.h:29:37: note: in expansion of macro 'I2S_BASE'\n",
      "   29 | #define I2S_RX_R                    I2S_BASE + 0x68\n",
      "      |                                     ^~~~~~~~\n",
      "/tools/C/tedkim7/sp24-Baremetal-IDE/platform/dsp24/src/hal_I2S.c:62:27: note: in expansion of macro 'I2S_RX_R'\n",
      "   62 |         set_DMAP(dma_num, I2S_RX_R, write_addr, I2S_WATERMARK_RX_R, 0, 8, length, 3, poll);\n",
      "      |                           ^~~~~~~~\n",
      "/tools/C/tedkim7/sp24-Baremetal-IDE/platform/dsp24/inc/hal_DMA.h:37:39: note: expected 'uint64_t *' {aka 'long unsigned int *'} but argument is of type 'unsigned int'\n",
      "   37 | void set_DMAP(uint32_t num, uint64_t* addr_r, uint64_t* addr_w, uint64_t* addr_c, uint16_t inc_r, uint16_t inc_w, uint16_t len, uint8_t logd, uint32_t count);\n",
      "      |                             ~~~~~~~~~~^~~~~~\n",
      "/tools/C/tedkim7/sp24-Baremetal-IDE/platform/dsp24/inc/hal_I2S.h:13:37: warning: passing argument 4 of 'set_DMAP' makes pointer from integer without a cast [-Wint-conversion]\n",
      "   13 | #define I2S_BASE                    0x10042000U\n",
      "      |                                     ^\n",
      "      |                                     |\n",
      "      |                                     unsigned int\n",
      "/tools/C/tedkim7/sp24-Baremetal-IDE/platform/dsp24/inc/hal_I2S.h:17:37: note: in expansion of macro 'I2S_BASE'\n",
      "   17 | #define I2S_WATERMARK_RX_R          I2S_BASE + 0x103\n",
      "      |                                     ^~~~~~~~\n",
      "/tools/C/tedkim7/sp24-Baremetal-IDE/platform/dsp24/src/hal_I2S.c:62:49: note: in expansion of macro 'I2S_WATERMARK_RX_R'\n",
      "   62 |         set_DMAP(dma_num, I2S_RX_R, write_addr, I2S_WATERMARK_RX_R, 0, 8, length, 3, poll);\n",
      "      |                                                 ^~~~~~~~~~~~~~~~~~\n",
      "/tools/C/tedkim7/sp24-Baremetal-IDE/platform/dsp24/inc/hal_DMA.h:37:75: note: expected 'uint64_t *' {aka 'long unsigned int *'} but argument is of type 'unsigned int'\n",
      "   37 | void set_DMAP(uint32_t num, uint64_t* addr_r, uint64_t* addr_w, uint64_t* addr_c, uint16_t inc_r, uint16_t inc_w, uint16_t len, uint8_t logd, uint32_t count);\n",
      "      |                                                                 ~~~~~~~~~~^~~~~~\n"
     ]
    },
    {
     "name": "stdout",
     "output_type": "stream",
     "text": [
      "[ 41%] \u001b[32mBuilding C object platform/dsp24/CMakeFiles/chip-config.dir/src/hal_conv.c.obj\u001b[0m\n"
     ]
    },
    {
     "name": "stderr",
     "output_type": "stream",
     "text": [
      "/tools/C/tedkim7/sp24-Baremetal-IDE/platform/dsp24/src/hal_conv.c: In function 'write_conv_dma':\n",
      "/tools/C/tedkim7/sp24-Baremetal-IDE/platform/dsp24/src/hal_conv.c:13:5: warning: implicit declaration of function 'set_DMAC' [-Wimplicit-function-declaration]\n",
      "   13 |     set_DMAC(dma_num, (uint64_t*) data, CONV_BASE, 8, 0, length/8, 3);\n",
      "      |     ^~~~~~~~\n",
      "/tools/C/tedkim7/sp24-Baremetal-IDE/platform/dsp24/src/hal_conv.c:14:5: warning: implicit declaration of function 'start_DMA' [-Wimplicit-function-declaration]\n",
      "   14 |     start_DMA(dma_num);\n",
      "      |     ^~~~~~~~~\n",
      "/tools/C/tedkim7/sp24-Baremetal-IDE/platform/dsp24/src/hal_conv.c: In function 'read_conv_dma_p':\n",
      "/tools/C/tedkim7/sp24-Baremetal-IDE/platform/dsp24/src/hal_conv.c:23:5: warning: implicit declaration of function 'set_DMAP' [-Wimplicit-function-declaration]\n",
      "   23 |     set_DMAP(dma_num, CONV_OUTPUT_ADDR, write_addr, READ_CHECK_ADDR, 0, 8, length/4, 3, 0);\n",
      "      |     ^~~~~~~~\n"
     ]
    },
    {
     "name": "stdout",
     "output_type": "stream",
     "text": [
      "[ 43%] \u001b[32mBuilding C object platform/dsp24/CMakeFiles/chip-config.dir/src/hal_fft.c.obj\u001b[0m\n"
     ]
    },
    {
     "name": "stderr",
     "output_type": "stream",
     "text": [
      "/tools/C/tedkim7/sp24-Baremetal-IDE/platform/dsp24/src/hal_fft.c: In function 'write_fft_dma':\n",
      "/tools/C/tedkim7/sp24-Baremetal-IDE/platform/dsp24/src/hal_fft.c:28:23: warning: passing argument 2 of 'set_DMAC' makes integer from pointer without a cast [-Wint-conversion]\n",
      "   28 |     set_DMAC(dma_num, data, FFT_INPUT, 8, 0, length/2, 3);\n",
      "      |                       ^~~~\n",
      "      |                       |\n",
      "      |                       uint64_t * {aka long unsigned int *}\n",
      "In file included from /tools/C/tedkim7/sp24-Baremetal-IDE/platform/dsp24/inc/hal_fft.h:9,\n",
      "                 from /tools/C/tedkim7/sp24-Baremetal-IDE/platform/dsp24/src/hal_fft.c:1:\n",
      "/tools/C/tedkim7/sp24-Baremetal-IDE/platform/dsp24/inc/hal_DMA.h:34:38: note: expected 'uint64_t' {aka 'long unsigned int'} but argument is of type 'uint64_t *' {aka 'long unsigned int *'}\n",
      "   34 | void set_DMAC(uint32_t num, uint64_t addr_r, uint64_t addr_w, uint16_t inc_r, uint16_t inc_w, uint16_t len, uint16_t logd);\n",
      "      |                             ~~~~~~~~~^~~~~~\n",
      "/tools/C/tedkim7/sp24-Baremetal-IDE/platform/dsp24/src/hal_fft.c: In function 'read_fft_dma':\n",
      "/tools/C/tedkim7/sp24-Baremetal-IDE/platform/dsp24/src/hal_fft.c:33:35: warning: passing argument 3 of 'set_DMAC' makes integer from pointer without a cast [-Wint-conversion]\n",
      "   33 |     set_DMAC(dma_num, FFT_OUTPUT, write_addr, 0, 8, length, 2);\n",
      "      |                                   ^~~~~~~~~~\n",
      "      |                                   |\n",
      "      |                                   uint64_t * {aka long unsigned int *}\n",
      "/tools/C/tedkim7/sp24-Baremetal-IDE/platform/dsp24/inc/hal_DMA.h:34:55: note: expected 'uint64_t' {aka 'long unsigned int'} but argument is of type 'uint64_t *' {aka 'long unsigned int *'}\n",
      "   34 | void set_DMAC(uint32_t num, uint64_t addr_r, uint64_t addr_w, uint16_t inc_r, uint16_t inc_w, uint16_t len, uint16_t logd);\n",
      "      |                                              ~~~~~~~~~^~~~~~\n",
      "/tools/C/tedkim7/sp24-Baremetal-IDE/platform/dsp24/src/hal_fft.c: In function 'read_fft_real_dma':\n",
      "/tools/C/tedkim7/sp24-Baremetal-IDE/platform/dsp24/src/hal_fft.c:38:35: warning: passing argument 3 of 'set_DMAC' makes integer from pointer without a cast [-Wint-conversion]\n",
      "   38 |     set_DMAC(dma_num, FFT_OUTPUT, write_addr, 0, 4, length, 1);\n",
      "      |                                   ^~~~~~~~~~\n",
      "      |                                   |\n",
      "      |                                   uint64_t * {aka long unsigned int *}\n",
      "/tools/C/tedkim7/sp24-Baremetal-IDE/platform/dsp24/inc/hal_DMA.h:34:55: note: expected 'uint64_t' {aka 'long unsigned int'} but argument is of type 'uint64_t *' {aka 'long unsigned int *'}\n",
      "   34 | void set_DMAC(uint32_t num, uint64_t addr_r, uint64_t addr_w, uint16_t inc_r, uint16_t inc_w, uint16_t len, uint16_t logd);\n",
      "      |                                              ~~~~~~~~~^~~~~~\n"
     ]
    },
    {
     "name": "stdout",
     "output_type": "stream",
     "text": [
      "[ 46%] \u001b[32mBuilding C object platform/dsp24/CMakeFiles/chip-config.dir/src/hal_mmio.c.obj\u001b[0m\n",
      "[ 48%] \u001b[32m\u001b[1mLinking C static library libchip-config.a\u001b[0m\n",
      "gmake[4]: Leaving directory '/bwrcq/C/tedkim7/sp24-Baremetal-IDE/build'\n",
      "[ 48%] Built target chip-config\n",
      "gmake[4]: Entering directory '/bwrcq/C/tedkim7/sp24-Baremetal-IDE/build'\n",
      "gmake[4]: Leaving directory '/bwrcq/C/tedkim7/sp24-Baremetal-IDE/build'\n",
      "gmake[4]: Entering directory '/bwrcq/C/tedkim7/sp24-Baremetal-IDE/build'\n",
      "[ 51%] \u001b[32mBuilding ASM object glossy/CMakeFiles/glossy.dir/src/startup/crt0.S.obj\u001b[0m\n",
      "[ 53%] \u001b[32mBuilding ASM object glossy/CMakeFiles/glossy.dir/src/startup/init.S.obj\u001b[0m\n",
      "[ 56%] \u001b[32mBuilding C object glossy/CMakeFiles/glossy.dir/src/startup/secondary.c.obj\u001b[0m\n",
      "[ 58%] \u001b[32mBuilding ASM object glossy/CMakeFiles/glossy.dir/src/trap/trap.S.obj\u001b[0m\n",
      "[ 61%] \u001b[32mBuilding C object glossy/CMakeFiles/glossy.dir/src/trap/trap.c.obj\u001b[0m\n"
     ]
    },
    {
     "name": "stderr",
     "output_type": "stream",
     "text": [
      "/tools/C/tedkim7/sp24-Baremetal-IDE/glossy/src/trap/trap.c: In function 'trap_handler':\n",
      "/tools/C/tedkim7/sp24-Baremetal-IDE/glossy/src/trap/trap.c:73:92: warning: unused parameter 'm_tval' [-Wunused-parameter]\n",
      "   73 | __attribute__((weak)) uintptr_t trap_handler(uintptr_t m_epc, uintptr_t m_cause, uintptr_t m_tval, uintptr_t regs[32]) {\n",
      "      |                                                                                  ~~~~~~~~~~^~~~~~\n",
      "/tools/C/tedkim7/sp24-Baremetal-IDE/glossy/src/trap/trap.c:73:110: warning: unused parameter 'regs' [-Wunused-parameter]\n",
      "   73 | __attribute__((weak)) uintptr_t trap_handler(uintptr_t m_epc, uintptr_t m_cause, uintptr_t m_tval, uintptr_t regs[32]) {\n",
      "      |                                                                                                    ~~~~~~~~~~^~~~~~~~\n"
     ]
    },
    {
     "name": "stdout",
     "output_type": "stream",
     "text": [
      "[ 64%] \u001b[32mBuilding C object glossy/CMakeFiles/glossy.dir/src/sys/close.c.obj\u001b[0m\n"
     ]
    },
    {
     "name": "stderr",
     "output_type": "stream",
     "text": [
      "/tools/C/tedkim7/sp24-Baremetal-IDE/glossy/src/sys/close.c: In function '_close':\n",
      "/tools/C/tedkim7/sp24-Baremetal-IDE/glossy/src/sys/close.c:2:38: warning: unused parameter 'file' [-Wunused-parameter]\n",
      "    2 | __attribute__((weak)) int _close(int file) {\n",
      "      |                                  ~~~~^~~~\n"
     ]
    },
    {
     "name": "stdout",
     "output_type": "stream",
     "text": [
      "[ 66%] \u001b[32mBuilding C object glossy/CMakeFiles/glossy.dir/src/sys/exit.c.obj\u001b[0m\n"
     ]
    },
    {
     "name": "stderr",
     "output_type": "stream",
     "text": [
      "/tools/C/tedkim7/sp24-Baremetal-IDE/glossy/src/sys/exit.c: In function '_exit':\n",
      "/tools/C/tedkim7/sp24-Baremetal-IDE/glossy/src/sys/exit.c:4:48: warning: unused parameter 'code' [-Wunused-parameter]\n",
      "    4 | __attribute__((weak, noreturn)) void _exit(int code) {\n",
      "      |                                            ~~~~^~~~\n"
     ]
    },
    {
     "name": "stdout",
     "output_type": "stream",
     "text": [
      "[ 69%] \u001b[32mBuilding C object glossy/CMakeFiles/glossy.dir/src/sys/fstat.c.obj\u001b[0m\n"
     ]
    },
    {
     "name": "stderr",
     "output_type": "stream",
     "text": [
      "/tools/C/tedkim7/sp24-Baremetal-IDE/glossy/src/sys/fstat.c: In function '_fstat':\n",
      "/tools/C/tedkim7/sp24-Baremetal-IDE/glossy/src/sys/fstat.c:4:38: warning: unused parameter 'file' [-Wunused-parameter]\n",
      "    4 | __attribute__((weak)) int _fstat(int file, struct stat *st) {\n",
      "      |                                  ~~~~^~~~\n",
      "/tools/C/tedkim7/sp24-Baremetal-IDE/glossy/src/sys/fstat.c:4:57: warning: unused parameter 'st' [-Wunused-parameter]\n",
      "    4 | __attribute__((weak)) int _fstat(int file, struct stat *st) {\n",
      "      |                                            ~~~~~~~~~~~~~^~\n"
     ]
    },
    {
     "name": "stdout",
     "output_type": "stream",
     "text": [
      "[ 71%] \u001b[32mBuilding C object glossy/CMakeFiles/glossy.dir/src/sys/getpid.c.obj\u001b[0m\n",
      "[ 74%] \u001b[32mBuilding C object glossy/CMakeFiles/glossy.dir/src/sys/isatty.c.obj\u001b[0m\n",
      "[ 76%] \u001b[32mBuilding C object glossy/CMakeFiles/glossy.dir/src/sys/kill.c.obj\u001b[0m\n"
     ]
    },
    {
     "name": "stderr",
     "output_type": "stream",
     "text": [
      "/tools/C/tedkim7/sp24-Baremetal-IDE/glossy/src/sys/kill.c: In function '_kill':\n",
      "/tools/C/tedkim7/sp24-Baremetal-IDE/glossy/src/sys/kill.c:2:37: warning: unused parameter 'pid' [-Wunused-parameter]\n",
      "    2 | __attribute__((weak)) int _kill(int pid, int sig) {\n",
      "      |                                 ~~~~^~~\n",
      "/tools/C/tedkim7/sp24-Baremetal-IDE/glossy/src/sys/kill.c:2:46: warning: unused parameter 'sig' [-Wunused-parameter]\n",
      "    2 | __attribute__((weak)) int _kill(int pid, int sig) {\n",
      "      |                                          ~~~~^~~\n"
     ]
    },
    {
     "name": "stdout",
     "output_type": "stream",
     "text": [
      "[ 79%] \u001b[32mBuilding C object glossy/CMakeFiles/glossy.dir/src/sys/lseek.c.obj\u001b[0m\n"
     ]
    },
    {
     "name": "stderr",
     "output_type": "stream",
     "text": [
      "/tools/C/tedkim7/sp24-Baremetal-IDE/glossy/src/sys/lseek.c: In function '_lseek':\n",
      "/tools/C/tedkim7/sp24-Baremetal-IDE/glossy/src/sys/lseek.c:5:40: warning: unused parameter 'file' [-Wunused-parameter]\n",
      "    5 | __attribute__((weak)) off_t _lseek(int file, off_t ptr, int dir) {\n",
      "      |                                    ~~~~^~~~\n",
      "/tools/C/tedkim7/sp24-Baremetal-IDE/glossy/src/sys/lseek.c:5:52: warning: unused parameter 'ptr' [-Wunused-parameter]\n",
      "    5 | __attribute__((weak)) off_t _lseek(int file, off_t ptr, int dir) {\n",
      "      |                                              ~~~~~~^~~\n",
      "/tools/C/tedkim7/sp24-Baremetal-IDE/glossy/src/sys/lseek.c:5:61: warning: unused parameter 'dir' [-Wunused-parameter]\n",
      "    5 | __attribute__((weak)) off_t _lseek(int file, off_t ptr, int dir) {\n",
      "      |                                                         ~~~~^~~\n"
     ]
    },
    {
     "name": "stdout",
     "output_type": "stream",
     "text": [
      "[ 82%] \u001b[32mBuilding C object glossy/CMakeFiles/glossy.dir/src/sys/open.c.obj\u001b[0m\n"
     ]
    },
    {
     "name": "stderr",
     "output_type": "stream",
     "text": [
      "/tools/C/tedkim7/sp24-Baremetal-IDE/glossy/src/sys/open.c: In function '_open':\n",
      "/tools/C/tedkim7/sp24-Baremetal-IDE/glossy/src/sys/open.c:3:45: warning: unused parameter 'path' [-Wunused-parameter]\n",
      "    3 | __attribute__((weak)) int _open(const char *path, int flags, int mode) {\n",
      "      |                                 ~~~~~~~~~~~~^~~~\n",
      "/tools/C/tedkim7/sp24-Baremetal-IDE/glossy/src/sys/open.c:3:55: warning: unused parameter 'flags' [-Wunused-parameter]\n",
      "    3 | __attribute__((weak)) int _open(const char *path, int flags, int mode) {\n",
      "      |                                                   ~~~~^~~~~\n",
      "/tools/C/tedkim7/sp24-Baremetal-IDE/glossy/src/sys/open.c:3:66: warning: unused parameter 'mode' [-Wunused-parameter]\n",
      "    3 | __attribute__((weak)) int _open(const char *path, int flags, int mode) {\n",
      "      |                                                              ~~~~^~~~\n"
     ]
    },
    {
     "name": "stdout",
     "output_type": "stream",
     "text": [
      "[ 84%] \u001b[32mBuilding C object glossy/CMakeFiles/glossy.dir/src/sys/read.c.obj\u001b[0m\n"
     ]
    },
    {
     "name": "stderr",
     "output_type": "stream",
     "text": [
      "/tools/C/tedkim7/sp24-Baremetal-IDE/glossy/src/sys/read.c: In function '_read':\n",
      "/tools/C/tedkim7/sp24-Baremetal-IDE/glossy/src/sys/read.c:5:41: warning: unused parameter 'file' [-Wunused-parameter]\n",
      "    5 | __attribute__((weak)) ssize_t _read(int file, void *ptr, size_t len) {\n",
      "      |                                     ~~~~^~~~\n",
      "/tools/C/tedkim7/sp24-Baremetal-IDE/glossy/src/sys/read.c:5:53: warning: unused parameter 'ptr' [-Wunused-parameter]\n",
      "    5 | __attribute__((weak)) ssize_t _read(int file, void *ptr, size_t len) {\n",
      "      |                                               ~~~~~~^~~\n",
      "/tools/C/tedkim7/sp24-Baremetal-IDE/glossy/src/sys/read.c:5:65: warning: unused parameter 'len' [-Wunused-parameter]\n",
      "    5 | __attribute__((weak)) ssize_t _read(int file, void *ptr, size_t len) {\n",
      "      |                                                          ~~~~~~~^~~\n"
     ]
    },
    {
     "name": "stdout",
     "output_type": "stream",
     "text": [
      "[ 87%] \u001b[32mBuilding C object glossy/CMakeFiles/glossy.dir/src/sys/sbrk.c.obj\u001b[0m\n",
      "[ 89%] \u001b[32mBuilding C object glossy/CMakeFiles/glossy.dir/src/sys/time.c.obj\u001b[0m\n",
      "[ 92%] \u001b[32mBuilding C object glossy/CMakeFiles/glossy.dir/src/sys/write.c.obj\u001b[0m\n"
     ]
    },
    {
     "name": "stderr",
     "output_type": "stream",
     "text": [
      "/tools/C/tedkim7/sp24-Baremetal-IDE/glossy/src/sys/write.c: In function '_write':\n",
      "/tools/C/tedkim7/sp24-Baremetal-IDE/glossy/src/sys/write.c:8:42: warning: unused parameter 'fd' [-Wunused-parameter]\n",
      "    8 | __attribute__((weak)) ssize_t _write(int fd, const void *ptr, size_t len) {\n",
      "      |                                      ~~~~^~\n"
     ]
    },
    {
     "name": "stdout",
     "output_type": "stream",
     "text": [
      "[ 94%] \u001b[32m\u001b[1mLinking C static library libglossy.a\u001b[0m\n",
      "gmake[4]: Leaving directory '/bwrcq/C/tedkim7/sp24-Baremetal-IDE/build'\n",
      "[ 94%] Built target glossy\n",
      "gmake[4]: Entering directory '/bwrcq/C/tedkim7/sp24-Baremetal-IDE/build'\n",
      "gmake[4]: Leaving directory '/bwrcq/C/tedkim7/sp24-Baremetal-IDE/build'\n",
      "gmake[4]: Entering directory '/bwrcq/C/tedkim7/sp24-Baremetal-IDE/build'\n",
      "[ 97%] \u001b[32mBuilding C object CMakeFiles/shmoo_bench.dir/shmoo_bench/dsp_conv_bench/src/main.c.obj\u001b[0m\n"
     ]
    },
    {
     "name": "stderr",
     "output_type": "stream",
     "text": [
      "/tools/C/tedkim7/sp24-Baremetal-IDE/shmoo_bench/dsp_conv_bench/src/main.c: In function 'app_main':\n",
      "/tools/C/tedkim7/sp24-Baremetal-IDE/shmoo_bench/dsp_conv_bench/src/main.c:61:5: warning: implicit declaration of function 'reg_write8' [-Wimplicit-function-declaration]\n",
      "   61 |     reg_write8(RESET_ADDR, 1);\n",
      "      |     ^~~~~~~~~~\n",
      "/tools/C/tedkim7/sp24-Baremetal-IDE/shmoo_bench/dsp_conv_bench/src/main.c:71:5: warning: implicit declaration of function 'set_conv_params' [-Wimplicit-function-declaration]\n",
      "   71 |     set_conv_params(16, 1, ((uint64_t*) in_kernel));\n",
      "      |     ^~~~~~~~~~~~~~~\n",
      "/tools/C/tedkim7/sp24-Baremetal-IDE/shmoo_bench/dsp_conv_bench/src/main.c:72:5: warning: implicit declaration of function 'write_conv_dma' [-Wimplicit-function-declaration]\n",
      "   72 |     write_conv_dma(0, 16, in_arr);\n",
      "      |     ^~~~~~~~~~~~~~\n",
      "/tools/C/tedkim7/sp24-Baremetal-IDE/shmoo_bench/dsp_conv_bench/src/main.c:77:5: warning: implicit declaration of function 'start_conv' [-Wimplicit-function-declaration]\n",
      "   77 |     start_conv();\n",
      "      |     ^~~~~~~~~~\n",
      "/tools/C/tedkim7/sp24-Baremetal-IDE/shmoo_bench/dsp_conv_bench/src/main.c:91:5: warning: implicit declaration of function 'read_conv_dma' [-Wimplicit-function-declaration]\n",
      "   91 |     read_conv_dma(0, 16, ((uint64_t*) test_out));\n",
      "      |     ^~~~~~~~~~~~~\n",
      "/tools/C/tedkim7/sp24-Baremetal-IDE/shmoo_bench/dsp_conv_bench/src/main.c:95:20: warning: format '%lx' expects argument of type 'long unsigned int', but argument 2 has type 'int' [-Wformat=]\n",
      "   95 |             printf(\"%\"PRIx64\" \", test_out[i*4 + j]);\n",
      "      |                    ^~~           ~~~~~~~~~~~~~~~~~\n",
      "      |                                          |\n",
      "      |                                          int\n",
      "/tools/C/tedkim7/sp24-Baremetal-IDE/shmoo_bench/dsp_conv_bench/src/main.c:100:14: warning: variable 'ref_out' set but not used [-Wunused-but-set-variable]\n",
      "  100 |     uint16_t ref_out[32];\n",
      "      |              ^~~~~~~\n",
      "/tools/C/tedkim7/sp24-Baremetal-IDE/shmoo_bench/dsp_conv_bench/src/main.c:79:14: warning: unused variable 'cpu_end_cycles' [-Wunused-variable]\n",
      "   79 |     uint64_t cpu_end_cycles = READ_CSR(\"mcycle\");\n",
      "      |              ^~~~~~~~~~~~~~\n",
      "/tools/C/tedkim7/sp24-Baremetal-IDE/shmoo_bench/dsp_conv_bench/src/main.c:74:14: warning: unused variable 'cpu_start_cycles' [-Wunused-variable]\n",
      "   74 |     uint64_t cpu_start_cycles = READ_CSR(\"mcycle\");\n",
      "      |              ^~~~~~~~~~~~~~~~\n",
      "/tools/C/tedkim7/sp24-Baremetal-IDE/shmoo_bench/dsp_conv_bench/src/main.c:67:14: warning: unused variable 'in_dilation' [-Wunused-variable]\n",
      "   67 |     uint16_t in_dilation[1] = {1};\n",
      "      |              ^~~~~~~~~~~\n",
      "/tools/C/tedkim7/sp24-Baremetal-IDE/shmoo_bench/dsp_conv_bench/src/main.c:66:14: warning: unused variable 'in_len' [-Wunused-variable]\n",
      "   66 |     uint32_t in_len[1] = {16};\n",
      "      |              ^~~~~~\n",
      "/tools/C/tedkim7/sp24-Baremetal-IDE/shmoo_bench/dsp_conv_bench/src/main.c: In function 'main':\n",
      "/tools/C/tedkim7/sp24-Baremetal-IDE/shmoo_bench/dsp_conv_bench/src/main.c:127:14: warning: unused parameter 'argc' [-Wunused-parameter]\n",
      "  127 | int main(int argc, char **argv) {\n",
      "      |          ~~~~^~~~\n",
      "/tools/C/tedkim7/sp24-Baremetal-IDE/shmoo_bench/dsp_conv_bench/src/main.c:127:27: warning: unused parameter 'argv' [-Wunused-parameter]\n",
      "  127 | int main(int argc, char **argv) {\n",
      "      |                    ~~~~~~~^~~~\n"
     ]
    },
    {
     "name": "stdout",
     "output_type": "stream",
     "text": [
      "[100%] \u001b[32m\u001b[1mLinking C executable shmoo_bench.elf\u001b[0m\n"
     ]
    },
    {
     "name": "stderr",
     "output_type": "stream",
     "text": [
      "/bwrcq/C/ee290-fa24-2/.conda-env/riscv-tools/bin/../lib/gcc/riscv64-unknown-elf/13.2.0/../../../../riscv64-unknown-elf/bin/ld: warning: shmoo_bench.elf has a LOAD segment with RWX permissions\n"
     ]
    },
    {
     "name": "stdout",
     "output_type": "stream",
     "text": [
      "gmake[4]: Leaving directory '/bwrcq/C/tedkim7/sp24-Baremetal-IDE/build'\n",
      "[100%] Built target shmoo_bench\n",
      "gmake[3]: Leaving directory '/bwrcq/C/tedkim7/sp24-Baremetal-IDE/build'\n",
      "gmake[2]: Leaving directory '/bwrcq/C/tedkim7/sp24-Baremetal-IDE/build'\n",
      "gmake[1]: Leaving directory '/bwrcq/C/tedkim7/sp24-Baremetal-IDE/build'\n",
      "**Clock set to: 850MHz**\n",
      "**Voltage set to: +5.00000000E-01\n",
      "V**\n"
     ]
    },
    {
     "name": "stderr",
     "output_type": "stream",
     "text": [
      "warning: tohost and fromhost symbols not in ELF; can't communicate with target\n",
      "Writing 14006c with 11\n",
      "Done writing 14006c with 11\n"
     ]
    },
    {
     "name": "stdout",
     "output_type": "stream",
     "text": [
      "Starting UART-based TSI\n",
      "Usage: ./uart_tsi +tty=/dev/pts/xx <PLUSARGS> <bin>\n",
      "       ./uart_tsi +tty=/dev/ttyxx  <PLUSARGS> <bin>\n",
      "       ./uart_tsi +tty=/dev/ttyxx  +no_hart0_msip +init_write=0x80000000:0xdeadbeef none\n",
      "       ./uart_tsi +tty=/dev/ttyxx  +no_hart0_msip +init_read=0x80000000 none\n",
      "       ./uart_tsi +tty=/dev/ttyxx  +selfcheck <bin>\n",
      "       ./uart_tsi +tty=/dev/ttyxx  +baudrate=921600 <bin>\n",
      "Attempting to open TTY at /dev/ttyUSB1\n",
      "Warning: You selected a non-standard baudrate. This will only work if the HW was configured with this baud-rate\n",
      "Checking connection status with /dev/ttyUSB1\n",
      "Connection succeeded\n",
      "Done, shutting down, flushing UART\n",
      "WARNING: You should probably reset the target before running this program again\n",
      "Done: now reset during the sleep before next iteration\n",
      "**Voltage set to: +5.50000000E-01\n",
      "V**\n"
     ]
    },
    {
     "name": "stderr",
     "output_type": "stream",
     "text": [
      "warning: tohost and fromhost symbols not in ELF; can't communicate with target\n",
      "Writing 14006c with 11\n",
      "Done writing 14006c with 11\n"
     ]
    },
    {
     "name": "stdout",
     "output_type": "stream",
     "text": [
      "Starting UART-based TSI\n",
      "Usage: ./uart_tsi +tty=/dev/pts/xx <PLUSARGS> <bin>\n",
      "       ./uart_tsi +tty=/dev/ttyxx  <PLUSARGS> <bin>\n",
      "       ./uart_tsi +tty=/dev/ttyxx  +no_hart0_msip +init_write=0x80000000:0xdeadbeef none\n",
      "       ./uart_tsi +tty=/dev/ttyxx  +no_hart0_msip +init_read=0x80000000 none\n",
      "       ./uart_tsi +tty=/dev/ttyxx  +selfcheck <bin>\n",
      "       ./uart_tsi +tty=/dev/ttyxx  +baudrate=921600 <bin>\n",
      "Attempting to open TTY at /dev/ttyUSB1\n",
      "Warning: You selected a non-standard baudrate. This will only work if the HW was configured with this baud-rate\n",
      "Checking connection status with /dev/ttyUSB1\n",
      "Connection succeeded\n",
      "Done, shutting down, flushing UART\n",
      "WARNING: You should probably reset the target before running this program again\n",
      "Done: now reset during the sleep before next iteration\n",
      "**Voltage set to: +6.00000000E-01\n",
      "V**\n"
     ]
    },
    {
     "name": "stderr",
     "output_type": "stream",
     "text": [
      "warning: tohost and fromhost symbols not in ELF; can't communicate with target\n",
      "Writing 14006c with 11\n",
      "Done writing 14006c with 11\n"
     ]
    },
    {
     "name": "stdout",
     "output_type": "stream",
     "text": [
      "Starting UART-based TSI\n",
      "Usage: ./uart_tsi +tty=/dev/pts/xx <PLUSARGS> <bin>\n",
      "       ./uart_tsi +tty=/dev/ttyxx  <PLUSARGS> <bin>\n",
      "       ./uart_tsi +tty=/dev/ttyxx  +no_hart0_msip +init_write=0x80000000:0xdeadbeef none\n",
      "       ./uart_tsi +tty=/dev/ttyxx  +no_hart0_msip +init_read=0x80000000 none\n",
      "       ./uart_tsi +tty=/dev/ttyxx  +selfcheck <bin>\n",
      "       ./uart_tsi +tty=/dev/ttyxx  +baudrate=921600 <bin>\n",
      "Attempting to open TTY at /dev/ttyUSB1\n",
      "Warning: You selected a non-standard baudrate. This will only work if the HW was configured with this baud-rate\n",
      "Checking connection status with /dev/ttyUSB1\n",
      "Connection succeeded\n",
      "Done, shutting down, flushing UART\n",
      "WARNING: You should probably reset the target before running this program again\n",
      "Done: now reset during the sleep before next iteration\n",
      "**Voltage set to: +6.50000000E-01\n",
      "V**\n"
     ]
    },
    {
     "name": "stderr",
     "output_type": "stream",
     "text": [
      "warning: tohost and fromhost symbols not in ELF; can't communicate with target\n",
      "Writing 14006c with 11\n",
      "Done writing 14006c with 11\n"
     ]
    },
    {
     "name": "stdout",
     "output_type": "stream",
     "text": [
      "Starting UART-based TSI\n",
      "Usage: ./uart_tsi +tty=/dev/pts/xx <PLUSARGS> <bin>\n",
      "       ./uart_tsi +tty=/dev/ttyxx  <PLUSARGS> <bin>\n",
      "       ./uart_tsi +tty=/dev/ttyxx  +no_hart0_msip +init_write=0x80000000:0xdeadbeef none\n",
      "       ./uart_tsi +tty=/dev/ttyxx  +no_hart0_msip +init_read=0x80000000 none\n",
      "       ./uart_tsi +tty=/dev/ttyxx  +selfcheck <bin>\n",
      "       ./uart_tsi +tty=/dev/ttyxx  +baudrate=921600 <bin>\n",
      "Attempting to open TTY at /dev/ttyUSB1\n",
      "Warning: You selected a non-standard baudrate. This will only work if the HW was configured with this baud-rate\n",
      "Checking connection status with /dev/ttyUSB1\n",
      "Connection succeeded\n",
      "Done, shutting down, flushing UART\n",
      "WARNING: You should probably reset the target before running this program again\n",
      "Done: now reset during the sleep before next iteration\n",
      "**Voltage set to: +7.00000000E-01\n",
      "V**\n"
     ]
    },
    {
     "name": "stderr",
     "output_type": "stream",
     "text": [
      "warning: tohost and fromhost symbols not in ELF; can't communicate with target\n",
      "Writing 14006c with 11\n",
      "Done writing 14006c with 11\n"
     ]
    },
    {
     "name": "stdout",
     "output_type": "stream",
     "text": [
      "Starting UART-based TSI\n",
      "Usage: ./uart_tsi +tty=/dev/pts/xx <PLUSARGS> <bin>\n",
      "       ./uart_tsi +tty=/dev/ttyxx  <PLUSARGS> <bin>\n",
      "       ./uart_tsi +tty=/dev/ttyxx  +no_hart0_msip +init_write=0x80000000:0xdeadbeef none\n",
      "       ./uart_tsi +tty=/dev/ttyxx  +no_hart0_msip +init_read=0x80000000 none\n",
      "       ./uart_tsi +tty=/dev/ttyxx  +selfcheck <bin>\n",
      "       ./uart_tsi +tty=/dev/ttyxx  +baudrate=921600 <bin>\n",
      "Attempting to open TTY at /dev/ttyUSB1\n",
      "Warning: You selected a non-standard baudrate. This will only work if the HW was configured with this baud-rate\n",
      "Checking connection status with /dev/ttyUSB1\n",
      "Connection succeeded\n",
      "Done, shutting down, flushing UART\n",
      "WARNING: You should probably reset the target before running this program again\n",
      "Done: now reset during the sleep before next iteration\n",
      "**Voltage set to: +7.50000000E-01\n",
      "V**\n"
     ]
    },
    {
     "name": "stderr",
     "output_type": "stream",
     "text": [
      "warning: tohost and fromhost symbols not in ELF; can't communicate with target\n",
      "Writing 14006c with 11\n",
      "Done writing 14006c with 11\n"
     ]
    },
    {
     "name": "stdout",
     "output_type": "stream",
     "text": [
      "Starting UART-based TSI\n",
      "Usage: ./uart_tsi +tty=/dev/pts/xx <PLUSARGS> <bin>\n",
      "       ./uart_tsi +tty=/dev/ttyxx  <PLUSARGS> <bin>\n",
      "       ./uart_tsi +tty=/dev/ttyxx  +no_hart0_msip +init_write=0x80000000:0xdeadbeef none\n",
      "       ./uart_tsi +tty=/dev/ttyxx  +no_hart0_msip +init_read=0x80000000 none\n",
      "       ./uart_tsi +tty=/dev/ttyxx  +selfcheck <bin>\n",
      "       ./uart_tsi +tty=/dev/ttyxx  +baudrate=921600 <bin>\n",
      "Attempting to open TTY at /dev/ttyUSB1\n",
      "Warning: You selected a non-standard baudrate. This will only work if the HW was configured with this baud-rate\n",
      "Checking connection status with /dev/ttyUSB1\n",
      "Connection succeeded\n",
      "Done, shutting down, flushing UART\n",
      "WARNING: You should probably reset the target before running this program again\n",
      "Done: now reset during the sleep before next iteration\n",
      "**Voltage set to: +8.00000000E-01\n",
      "V**\n"
     ]
    },
    {
     "name": "stderr",
     "output_type": "stream",
     "text": [
      "warning: tohost and fromhost symbols not in ELF; can't communicate with target\n",
      "Writing 14006c with 11\n",
      "Done writing 14006c with 11\n"
     ]
    },
    {
     "name": "stdout",
     "output_type": "stream",
     "text": [
      "Starting UART-based TSI\n",
      "Usage: ./uart_tsi +tty=/dev/pts/xx <PLUSARGS> <bin>\n",
      "       ./uart_tsi +tty=/dev/ttyxx  <PLUSARGS> <bin>\n",
      "       ./uart_tsi +tty=/dev/ttyxx  +no_hart0_msip +init_write=0x80000000:0xdeadbeef none\n",
      "       ./uart_tsi +tty=/dev/ttyxx  +no_hart0_msip +init_read=0x80000000 none\n",
      "       ./uart_tsi +tty=/dev/ttyxx  +selfcheck <bin>\n",
      "       ./uart_tsi +tty=/dev/ttyxx  +baudrate=921600 <bin>\n",
      "Attempting to open TTY at /dev/ttyUSB1\n",
      "Warning: You selected a non-standard baudrate. This will only work if the HW was configured with this baud-rate\n",
      "Checking connection status with /dev/ttyUSB1\n",
      "Connection succeeded\n",
      "Done, shutting down, flushing UART\n",
      "WARNING: You should probably reset the target before running this program again\n",
      "Done: now reset during the sleep before next iteration\n",
      "**Voltage set to: +8.50000000E-01\n",
      "V**\n"
     ]
    },
    {
     "name": "stderr",
     "output_type": "stream",
     "text": [
      "warning: tohost and fromhost symbols not in ELF; can't communicate with target\n",
      "Writing 14006c with 11\n",
      "Done writing 14006c with 11\n"
     ]
    },
    {
     "name": "stdout",
     "output_type": "stream",
     "text": [
      "Starting UART-based TSI\n",
      "Usage: ./uart_tsi +tty=/dev/pts/xx <PLUSARGS> <bin>\n",
      "       ./uart_tsi +tty=/dev/ttyxx  <PLUSARGS> <bin>\n",
      "       ./uart_tsi +tty=/dev/ttyxx  +no_hart0_msip +init_write=0x80000000:0xdeadbeef none\n",
      "       ./uart_tsi +tty=/dev/ttyxx  +no_hart0_msip +init_read=0x80000000 none\n",
      "       ./uart_tsi +tty=/dev/ttyxx  +selfcheck <bin>\n",
      "       ./uart_tsi +tty=/dev/ttyxx  +baudrate=921600 <bin>\n",
      "Attempting to open TTY at /dev/ttyUSB1\n",
      "Warning: You selected a non-standard baudrate. This will only work if the HW was configured with this baud-rate\n",
      "Checking connection status with /dev/ttyUSB1\n",
      "Connection succeeded\n",
      "Done, shutting down, flushing UART\n",
      "WARNING: You should probably reset the target before running this program again\n",
      "Done: now reset during the sleep before next iteration\n",
      "**Voltage set to: +9.00000000E-01\n",
      "V**\n"
     ]
    },
    {
     "name": "stderr",
     "output_type": "stream",
     "text": [
      "warning: tohost and fromhost symbols not in ELF; can't communicate with target\n",
      "Writing 14006c with 11\n",
      "Done writing 14006c with 11\n"
     ]
    },
    {
     "name": "stdout",
     "output_type": "stream",
     "text": [
      "Starting UART-based TSI\n",
      "Usage: ./uart_tsi +tty=/dev/pts/xx <PLUSARGS> <bin>\n",
      "       ./uart_tsi +tty=/dev/ttyxx  <PLUSARGS> <bin>\n",
      "       ./uart_tsi +tty=/dev/ttyxx  +no_hart0_msip +init_write=0x80000000:0xdeadbeef none\n",
      "       ./uart_tsi +tty=/dev/ttyxx  +no_hart0_msip +init_read=0x80000000 none\n",
      "       ./uart_tsi +tty=/dev/ttyxx  +selfcheck <bin>\n",
      "       ./uart_tsi +tty=/dev/ttyxx  +baudrate=921600 <bin>\n",
      "Attempting to open TTY at /dev/ttyUSB1\n",
      "Warning: You selected a non-standard baudrate. This will only work if the HW was configured with this baud-rate\n",
      "Checking connection status with /dev/ttyUSB1\n",
      "Connection succeeded\n",
      "Done, shutting down, flushing UART\n",
      "WARNING: You should probably reset the target before running this program again\n",
      "Done: now reset during the sleep before next iteration\n",
      "**Voltage set to: +9.50000000E-01\n",
      "V**\n"
     ]
    },
    {
     "name": "stderr",
     "output_type": "stream",
     "text": [
      "warning: tohost and fromhost symbols not in ELF; can't communicate with target\n",
      "Writing 14006c with 11\n",
      "Done writing 14006c with 11\n"
     ]
    },
    {
     "name": "stdout",
     "output_type": "stream",
     "text": [
      "b'0 4400 4600 4800 4900 4a00 4b00 4d00 4c80 4d00 4d80 4e00 4e80 4f00 4f80 5000 \\r\\n'\n",
      "Starting UART-based TSI\n",
      "Usage: ./uart_tsi +tty=/dev/pts/xx <PLUSARGS> <bin>\n",
      "       ./uart_tsi +tty=/dev/ttyxx  <PLUSARGS> <bin>\n",
      "       ./uart_tsi +tty=/dev/ttyxx  +no_hart0_msip +init_write=0x80000000:0xdeadbeef none\n",
      "       ./uart_tsi +tty=/dev/ttyxx  +no_hart0_msip +init_read=0x80000000 none\n",
      "       ./uart_tsi +tty=/dev/ttyxx  +selfcheck <bin>\n",
      "       ./uart_tsi +tty=/dev/ttyxx  +baudrate=921600 <bin>\n",
      "Attempting to open TTY at /dev/ttyUSB1\n",
      "Warning: You selected a non-standard baudrate. This will only work if the HW was configured with this baud-rate\n",
      "Checking connection status with /dev/ttyUSB1\n",
      "Connection succeeded\n",
      "Done, shutting down, flushing UART\n",
      "WARNING: You should probably reset the target before running this program again\n",
      "Done: now reset during the sleep before next iteration\n",
      "**Voltage set to: +1.00000000E+00\n",
      "V**\n"
     ]
    },
    {
     "name": "stderr",
     "output_type": "stream",
     "text": [
      "warning: tohost and fromhost symbols not in ELF; can't communicate with target\n",
      "Writing 14006c with 11\n",
      "Done writing 14006c with 11\n"
     ]
    },
    {
     "name": "stdout",
     "output_type": "stream",
     "text": [
      "b'0 4400 4600 4800 4900 4a00 4b00 4c00 4c80 4d00 4d80 4e00 4e80 4f00 4f80 5000 \\r\\n'\n",
      "Starting UART-based TSI\n",
      "Usage: ./uart_tsi +tty=/dev/pts/xx <PLUSARGS> <bin>\n",
      "       ./uart_tsi +tty=/dev/ttyxx  <PLUSARGS> <bin>\n",
      "       ./uart_tsi +tty=/dev/ttyxx  +no_hart0_msip +init_write=0x80000000:0xdeadbeef none\n",
      "       ./uart_tsi +tty=/dev/ttyxx  +no_hart0_msip +init_read=0x80000000 none\n",
      "       ./uart_tsi +tty=/dev/ttyxx  +selfcheck <bin>\n",
      "       ./uart_tsi +tty=/dev/ttyxx  +baudrate=921600 <bin>\n",
      "Attempting to open TTY at /dev/ttyUSB1\n",
      "Warning: You selected a non-standard baudrate. This will only work if the HW was configured with this baud-rate\n",
      "Checking connection status with /dev/ttyUSB1\n",
      "Connection succeeded\n",
      "Done, shutting down, flushing UART\n",
      "WARNING: You should probably reset the target before running this program again\n",
      "Done: now reset during the sleep before next iteration\n",
      "**Voltage set to: +1.05000000E+00\n",
      "V**\n"
     ]
    },
    {
     "name": "stderr",
     "output_type": "stream",
     "text": [
      "warning: tohost and fromhost symbols not in ELF; can't communicate with target\n",
      "Writing 14006c with 11\n",
      "Done writing 14006c with 11\n"
     ]
    },
    {
     "name": "stdout",
     "output_type": "stream",
     "text": [
      "b'0 4400 4600 4800 4900 4a00 4b00 4c00 4c80 4d00 4d80 4e00 4e80 4f00 4f80 5000 \\r\\n'\n",
      "Starting UART-based TSI\n",
      "Usage: ./uart_tsi +tty=/dev/pts/xx <PLUSARGS> <bin>\n",
      "       ./uart_tsi +tty=/dev/ttyxx  <PLUSARGS> <bin>\n",
      "       ./uart_tsi +tty=/dev/ttyxx  +no_hart0_msip +init_write=0x80000000:0xdeadbeef none\n",
      "       ./uart_tsi +tty=/dev/ttyxx  +no_hart0_msip +init_read=0x80000000 none\n",
      "       ./uart_tsi +tty=/dev/ttyxx  +selfcheck <bin>\n",
      "       ./uart_tsi +tty=/dev/ttyxx  +baudrate=921600 <bin>\n",
      "Attempting to open TTY at /dev/ttyUSB1\n",
      "Warning: You selected a non-standard baudrate. This will only work if the HW was configured with this baud-rate\n",
      "Checking connection status with /dev/ttyUSB1\n",
      "Connection succeeded\n",
      "Done, shutting down, flushing UART\n",
      "WARNING: You should probably reset the target before running this program again\n",
      "Done: now reset during the sleep before next iteration\n",
      "**Voltage set to: +1.10000000E+00\n",
      "V**\n"
     ]
    },
    {
     "name": "stderr",
     "output_type": "stream",
     "text": [
      "warning: tohost and fromhost symbols not in ELF; can't communicate with target\n",
      "Writing 14006c with 11\n",
      "Done writing 14006c with 11\n"
     ]
    },
    {
     "name": "stdout",
     "output_type": "stream",
     "text": [
      "b'0 4400 4600 4800 4900 4a00 4b00 4c00 4c80 4d00 4d80 4e00 4e80 4f00 4f80 5000 \\r\\n'\n",
      "Starting UART-based TSI\n",
      "Usage: ./uart_tsi +tty=/dev/pts/xx <PLUSARGS> <bin>\n",
      "       ./uart_tsi +tty=/dev/ttyxx  <PLUSARGS> <bin>\n",
      "       ./uart_tsi +tty=/dev/ttyxx  +no_hart0_msip +init_write=0x80000000:0xdeadbeef none\n",
      "       ./uart_tsi +tty=/dev/ttyxx  +no_hart0_msip +init_read=0x80000000 none\n",
      "       ./uart_tsi +tty=/dev/ttyxx  +selfcheck <bin>\n",
      "       ./uart_tsi +tty=/dev/ttyxx  +baudrate=921600 <bin>\n",
      "Attempting to open TTY at /dev/ttyUSB1\n",
      "Warning: You selected a non-standard baudrate. This will only work if the HW was configured with this baud-rate\n",
      "Checking connection status with /dev/ttyUSB1\n",
      "Connection succeeded\n",
      "Done, shutting down, flushing UART\n",
      "WARNING: You should probably reset the target before running this program again\n",
      "Done: now reset during the sleep before next iteration\n",
      "**Voltage set to: +1.15000000E+00\n",
      "V**\n"
     ]
    },
    {
     "name": "stderr",
     "output_type": "stream",
     "text": [
      "warning: tohost and fromhost symbols not in ELF; can't communicate with target\n",
      "Writing 14006c with 11\n",
      "Done writing 14006c with 11\n"
     ]
    },
    {
     "name": "stdout",
     "output_type": "stream",
     "text": [
      "Starting UART-based TSI\n",
      "Usage: ./uart_tsi +tty=/dev/pts/xx <PLUSARGS> <bin>\n",
      "       ./uart_tsi +tty=/dev/ttyxx  <PLUSARGS> <bin>\n",
      "       ./uart_tsi +tty=/dev/ttyxx  +no_hart0_msip +init_write=0x80000000:0xdeadbeef none\n",
      "       ./uart_tsi +tty=/dev/ttyxx  +no_hart0_msip +init_read=0x80000000 none\n",
      "       ./uart_tsi +tty=/dev/ttyxx  +selfcheck <bin>\n",
      "       ./uart_tsi +tty=/dev/ttyxx  +baudrate=921600 <bin>\n",
      "Attempting to open TTY at /dev/ttyUSB1\n",
      "Warning: You selected a non-standard baudrate. This will only work if the HW was configured with this baud-rate\n",
      "Checking connection status with /dev/ttyUSB1\n",
      "Connection succeeded\n",
      "Done, shutting down, flushing UART\n",
      "WARNING: You should probably reset the target before running this program again\n",
      "Done: now reset during the sleep before next iteration\n",
      "**Voltage set to: +1.20000000E+00\n",
      "V**\n"
     ]
    },
    {
     "name": "stderr",
     "output_type": "stream",
     "text": [
      "warning: tohost and fromhost symbols not in ELF; can't communicate with target\n",
      "Writing 14006c with 11\n",
      "Done writing 14006c with 11\n"
     ]
    },
    {
     "name": "stdout",
     "output_type": "stream",
     "text": [
      "b'0 4400 4600 4800 4900 4a00 4b00 4c00 4c80 4d00 4d80 4e00 4e80 4f00 4f80 5000 \\r\\n'\n",
      "Starting UART-based TSI\n",
      "Usage: ./uart_tsi +tty=/dev/pts/xx <PLUSARGS> <bin>\n",
      "       ./uart_tsi +tty=/dev/ttyxx  <PLUSARGS> <bin>\n",
      "       ./uart_tsi +tty=/dev/ttyxx  +no_hart0_msip +init_write=0x80000000:0xdeadbeef none\n",
      "       ./uart_tsi +tty=/dev/ttyxx  +no_hart0_msip +init_read=0x80000000 none\n",
      "       ./uart_tsi +tty=/dev/ttyxx  +selfcheck <bin>\n",
      "       ./uart_tsi +tty=/dev/ttyxx  +baudrate=921600 <bin>\n",
      "Attempting to open TTY at /dev/ttyUSB1\n",
      "Warning: You selected a non-standard baudrate. This will only work if the HW was configured with this baud-rate\n",
      "Checking connection status with /dev/ttyUSB1\n",
      "Connection succeeded\n",
      "Done, shutting down, flushing UART\n",
      "WARNING: You should probably reset the target before running this program again\n",
      "Done: now reset during the sleep before next iteration\n",
      "Finished\n"
     ]
    }
   ],
   "source": [
    "while current_clock <= end_clock:\n",
    "     # remake to adjust with the frequency\n",
    "     subprocess.run([\"make\", \"clean\"], cwd=\"../../\")\n",
    "\n",
    "     with open(\"../../platform/dsp24/freq.h\", \"w\") as f:\n",
    "          f.write('''#ifndef __FREQ_H\n",
    "                    #define __FREQ_H\n",
    "                    ''')\n",
    "          f.write(f'''#define MTIME_FREQ     {current_clock}000000\n",
    "                    #define SYS_CLK_FREQ   {current_clock}000000\n",
    "                    ''')\n",
    "          f.write(\"#endif\")\n",
    "\n",
    "     subprocess.run([\"make\", \"shmoo_dsp\"], cwd=\"../../\")\n",
    "\n",
    "     clk.write(\":FREQ 100MHz\")\n",
    "     print(f\"**Clock set to: {current_clock}MHz**\") \n",
    "\n",
    "\n",
    "     while current_voltage <= end_voltage: # Set the voltage   \n",
    "          psu.write(f\"VOLT {current_voltage}\")\n",
    "\n",
    "          voltage = psu.query(\"VOLT?\") \n",
    "          print(f\"**Voltage set to: {voltage}V**\") \n",
    "\n",
    "          ratio_integer = hex(int(current_clock / 50))\n",
    "\n",
    "          # test subprocess with simple hello\n",
    "          with subprocess.Popen([\"uart_tsi\", \"+tty=/dev/ttyUSB1\", \"+baudrate=921600\", \n",
    "                              # \"+no_hart0_msip\",\n",
    "                              # \"+init_write=0x130000:0x0\",\n",
    "                              # \"+init_write=0x140064:0x0\",                  ## disable LDO\n",
    "                              # \"+init_write=0x140060:0x0\",                  ## disable PLL\n",
    "                              # \"+init_write=0x140074:0x1\", \n",
    "                              f\"+init_write=0x14006C:{ratio_integer}\",                  ## ratio_integer\n",
    "                              # \"+init_write=0x140088:0x0\",\n",
    "                              # \"+init_write=0x140078:0x1\",\n",
    "                              # \"+init_write=0x14007C:0x0\",\n",
    "                              # \"+init_write=0x140080:0x1\",\n",
    "                              # \"+init_write=0x140084:0x0\",\n",
    "                              # \"+init_write=0x140064:0x1\",                  ## enable LDO \n",
    "                              # \"+init_write=0x140060:0x0\",                  ## enable PLL\n",
    "                              \"../../build/shmoo_bench.elf\"]) as proc:\n",
    "               measured_voltages = []\n",
    "               measured_currents = []\n",
    "               start_time = time.time()\n",
    "               timeout = False\n",
    "               with serial.Serial('/dev/ttyUSB4', 115200, timeout=7) as ser:\n",
    "                    while (ser.inWaiting() == 0):\n",
    "                         ## measure the voltage + current\n",
    "                         if time.time() - start_time >= 7:\n",
    "                              timeout = True\n",
    "                              break\n",
    "                         measured_voltages.append(psu.query(\"MEAS:VOLT?\"))\n",
    "                         measured_currents.append(psu.query(\"MEAS:CURR?\"))\n",
    "                         # measured_voltages.append(5)\n",
    "                         # measured_currents.append(5)\n",
    "                    if timeout:\n",
    "                         length = min(len(measured_currents), len(measured_voltages))\n",
    "                         power_consumption = sum([float(measured_voltages[i]) * float(measured_currents[i]) for i in range(length)]) / length\n",
    "                         with open('../../output.txt', 'a') as file:\n",
    "                              file.write(f\"Freq: {current_clock}, Voltage: {current_voltage}, Output: Invalid, Power: {power_consumption}\\n\")\n",
    "                              proc.terminate()\n",
    "                              proc.wait()     \n",
    "                    else:\n",
    "                         line = ser.readline()\n",
    "                         print(line)\n",
    "                         new_line = line.decode(\"utf-8\")\n",
    "     \n",
    "\n",
    "                         res = \"Valid\"\n",
    "                         if not new_line.strip() == expected_output.strip():\n",
    "                              res = \"Invalid\"\n",
    "                         \n",
    "                         ## calculate power consumption\n",
    "                         length = min(len(measured_currents), len(measured_voltages))\n",
    "                         power_consumption = sum([float(measured_voltages[i]) * float(measured_currents[i]) for i in range(length)]) / length\n",
    "                         with open('../../output.txt', 'a') as file:\n",
    "                              file.write(f\"Freq: {current_clock}, Voltage: {current_voltage}, Output: {res}, Power {power_consumption}\\n\")\n",
    "                              proc.terminate()\n",
    "                              proc.wait()\n",
    "          \n",
    "\n",
    "\n",
    "          print(\"Done: now reset during the sleep before next iteration\")\n",
    "          time.sleep(7)\n",
    "\n",
    "          current_voltage += step_size\n",
    "     current_voltage = start_voltage\n",
    "     current_clock += step_size_clock\n",
    "\n",
    "print(\"Finished\")\n",
    "\n",
    "psu.close()\n",
    "\n",
    "current_clock = start_clock\n",
    "current_voltage = start_voltage"
   ]
  },
  {
   "cell_type": "markdown",
   "metadata": {},
   "source": [
    "#### Generate Shmoo Plot"
   ]
  },
  {
   "cell_type": "code",
   "execution_count": 118,
   "metadata": {},
   "outputs": [
    {
     "name": "stdout",
     "output_type": "stream",
     "text": [
      "Error closing VISA link: [Errno 104] Connection reset by peer\n"
     ]
    },
    {
     "ename": "IndexError",
     "evalue": "list index out of range",
     "output_type": "error",
     "traceback": [
      "\u001b[0;31m---------------------------------------------------------------------------\u001b[0m",
      "\u001b[0;31mIndexError\u001b[0m                                Traceback (most recent call last)",
      "Cell \u001b[0;32mIn[118], line 27\u001b[0m\n\u001b[1;32m     23\u001b[0m     \u001b[38;5;28;01mreturn\u001b[39;00m freq_values, voltage_values, valid_values, power_values\n\u001b[1;32m     25\u001b[0m file_name \u001b[38;5;241m=\u001b[39m \u001b[38;5;124m'\u001b[39m\u001b[38;5;124m../../output.txt\u001b[39m\u001b[38;5;124m'\u001b[39m\n\u001b[0;32m---> 27\u001b[0m freq_values, voltage_values, valid_values, power_values \u001b[38;5;241m=\u001b[39m \u001b[43mread_data\u001b[49m\u001b[43m(\u001b[49m\u001b[43mfile_name\u001b[49m\u001b[43m)\u001b[49m\n\u001b[1;32m     29\u001b[0m unique_freqs \u001b[38;5;241m=\u001b[39m np\u001b[38;5;241m.\u001b[39munique(freq_values)\n\u001b[1;32m     30\u001b[0m unique_voltages \u001b[38;5;241m=\u001b[39m np\u001b[38;5;241m.\u001b[39munique(voltage_values)\n",
      "Cell \u001b[0;32mIn[118], line 16\u001b[0m, in \u001b[0;36mread_data\u001b[0;34m(file_name)\u001b[0m\n\u001b[1;32m     14\u001b[0m voltage \u001b[38;5;241m=\u001b[39m \u001b[38;5;28mround\u001b[39m(\u001b[38;5;28mfloat\u001b[39m(parts[\u001b[38;5;241m1\u001b[39m]\u001b[38;5;241m.\u001b[39msplit(\u001b[38;5;124m'\u001b[39m\u001b[38;5;124m: \u001b[39m\u001b[38;5;124m'\u001b[39m)[\u001b[38;5;241m1\u001b[39m]), \u001b[38;5;241m2\u001b[39m)\n\u001b[1;32m     15\u001b[0m valid \u001b[38;5;241m=\u001b[39m parts[\u001b[38;5;241m2\u001b[39m]\u001b[38;5;241m.\u001b[39msplit(\u001b[38;5;124m'\u001b[39m\u001b[38;5;124m: \u001b[39m\u001b[38;5;124m'\u001b[39m)[\u001b[38;5;241m1\u001b[39m]\n\u001b[0;32m---> 16\u001b[0m power \u001b[38;5;241m=\u001b[39m \u001b[38;5;28mfloat\u001b[39m(\u001b[43mparts\u001b[49m\u001b[43m[\u001b[49m\u001b[38;5;241;43m3\u001b[39;49m\u001b[43m]\u001b[49m\u001b[38;5;241;43m.\u001b[39;49m\u001b[43msplit\u001b[49m\u001b[43m(\u001b[49m\u001b[38;5;124;43m'\u001b[39;49m\u001b[38;5;124;43m: \u001b[39;49m\u001b[38;5;124;43m'\u001b[39;49m\u001b[43m)\u001b[49m\u001b[43m[\u001b[49m\u001b[38;5;241;43m1\u001b[39;49m\u001b[43m]\u001b[49m)\n\u001b[1;32m     18\u001b[0m freq_values\u001b[38;5;241m.\u001b[39mappend(freq)\n\u001b[1;32m     19\u001b[0m voltage_values\u001b[38;5;241m.\u001b[39mappend(voltage)\n",
      "\u001b[0;31mIndexError\u001b[0m: list index out of range"
     ]
    }
   ],
   "source": [
    "import matplotlib.pyplot as plt\n",
    "import numpy as np\n",
    "\n",
    "def read_data(file_name):\n",
    "    freq_values = []\n",
    "    voltage_values = []\n",
    "    valid_values = []\n",
    "    power_values = []\n",
    "\n",
    "    with open(file_name, 'r') as file:\n",
    "        for line in file:\n",
    "            parts = line.strip().split(', ')\n",
    "            freq = float(parts[0].split(': ')[1])\n",
    "            voltage = round(float(parts[1].split(': ')[1]), 2)\n",
    "            valid = parts[2].split(': ')[1]\n",
    "            power = float(parts[3].split(': ')[1])\n",
    "\n",
    "            freq_values.append(freq)\n",
    "            voltage_values.append(voltage)\n",
    "            valid_values.append(valid)\n",
    "            power_values.append(power)\n",
    "    \n",
    "    return freq_values, voltage_values, valid_values, power_values\n",
    "\n",
    "file_name = '../../output.txt'\n",
    "\n",
    "freq_values, voltage_values, valid_values, power_values = read_data(file_name)\n",
    "\n",
    "unique_freqs = np.unique(freq_values)\n",
    "unique_voltages = np.unique(voltage_values)\n",
    "\n",
    "shmoo_plot = np.zeros((len(unique_voltages), len(unique_freqs)))\n",
    "power_plot = np.zeros((len(unique_voltages), len(unique_freqs)))\n",
    "\n",
    "for i, freq in enumerate(unique_freqs):\n",
    "    for j, voltage in enumerate(unique_voltages):\n",
    "        validity = valid_values[i * len(unique_voltages) + j]\n",
    "        if validity == \"Valid\":\n",
    "            shmoo_plot[j, i] = 1\n",
    "            power_plot[j, i] = power_values[i * len(unique_voltages) + j]\n",
    "\n",
    "plt.figure(figsize=(12, 8))\n",
    "\n",
    "cmap = plt.cm.colors.ListedColormap(['red', 'springgreen'])\n",
    "\n",
    "plt.imshow(shmoo_plot, cmap=cmap, aspect='auto', origin='lower')\n",
    "\n",
    "for i in range(len(unique_freqs)):\n",
    "    for j in range(len(unique_voltages)):\n",
    "        if shmoo_plot[j, i] == 1:  # Valid\n",
    "            plt.text(i, j, f'{power_plot[j, i]:.3f}W', ha='center', va='center', fontsize=8, color='black')\n",
    "\n",
    "plt.xlabel('Frequency (MHz)')\n",
    "plt.ylabel('Voltage (V)')\n",
    "plt.title('Shmoo Plot with Power Consumption')\n",
    "\n",
    "plt.xticks(np.arange(len(unique_freqs)), unique_freqs, rotation=45)\n",
    "plt.yticks(np.arange(len(unique_voltages)), unique_voltages)\n",
    "\n",
    "plt.tight_layout()\n",
    "plt.show()\n"
   ]
  }
 ],
 "metadata": {
  "kernelspec": {
   "display_name": "Python 3",
   "language": "python",
   "name": "python3"
  },
  "language_info": {
   "codemirror_mode": {
    "name": "ipython",
    "version": 3
   },
   "file_extension": ".py",
   "mimetype": "text/x-python",
   "name": "python",
   "nbconvert_exporter": "python",
   "pygments_lexer": "ipython3",
   "version": "3.13.0"
  }
 },
 "nbformat": 4,
 "nbformat_minor": 2
}
