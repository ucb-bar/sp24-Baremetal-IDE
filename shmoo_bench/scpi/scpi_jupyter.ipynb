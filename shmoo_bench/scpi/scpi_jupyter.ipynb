{
 "cells": [
  {
   "cell_type": "markdown",
   "metadata": {},
   "source": [
    "# Shmoo Plot Demo"
   ]
  },
  {
   "cell_type": "code",
   "execution_count": 139,
   "metadata": {},
   "outputs": [
    {
     "name": "stdout",
     "output_type": "stream",
     "text": [
      "Power supply: Keysight Technologies,E36312A,MY57010726,1.0.4-1.0.0-1.04\n",
      "\n",
      "Clock generator: Agilent Technologies, 81134A, DE42800131, Ver 2.9.3\n",
      "\n"
     ]
    }
   ],
   "source": [
    "# Equipment setup\n",
    "\n",
    "import pyvisa\n",
    "import time\n",
    "import subprocess\n",
    "import serial\n",
    "\n",
    "# Establish connection to the power supply\n",
    "rm = pyvisa.ResourceManager(\"@py\")\n",
    "\n",
    "#psu = rm.open_resource('TCPIP::169.254.58.10::gpib0,7::INSTR')                  ## for the Agilent power supply\n",
    "\n",
    "psu = rm.open_resource('TCPIP::169.254.201.77::lan0::INSTR')                    ## for the Keysight power supply\n",
    "\n",
    "clk = rm.open_resource('TCPIP::169.254.201.101::lan0::INSTR')\n",
    "\n",
    "# Need to verify that this is the power supply. psu_verification should be \n",
    "# something like \"Keysight Technologies,E3646A,0,X.X-Y.Y-Z.Z\"\n",
    "psu_verification = psu.query(\"*IDN?\")\n",
    "clk_verification = clk.query(\"*IDN?\")\n",
    "\n",
    "print(\"Power supply:\", psu_verification)\n",
    "print(\"Clock generator:\", clk_verification)\n",
    "\n",
    "# psu.write(\"*RST\")  # Reset the power supply\n",
    "\n",
    "start_voltage = 0.55\n",
    "\n",
    "end_voltage = 0.65\n",
    "\n",
    "step_size = 0.05  \n",
    "\n",
    "start_clock = 20\n",
    "\n",
    "end_clock = 40\n",
    "\n",
    "step_size_clock = 20\n",
    "\n",
    "# Loop through the voltage range and set the voltage\n",
    "current_voltage = start_voltage \n",
    "\n",
    "current_clock = start_clock\n",
    "\n",
    "psu.write(\"OUTP ON, (@2)\")\n",
    "\n",
    "# Only channel 2 works\n",
    "psu.write(\"INST:SEL CH2\")\n",
    "\n",
    "# Set current to 100mA\n",
    "psu.write(\"CURR 0.1\")\n",
    "\n",
    "# Start the clock at 20MHz\n",
    "clk.write(\":OUTP1:POS ON\") # Initialize clk gen channel 1 output\n",
    "clk.write(\":FUNC:PATT\")\n",
    "\n",
    "measured_voltages = []\n",
    "measured_currents = []"
   ]
  },
  {
   "cell_type": "markdown",
   "metadata": {},
   "source": [
    "#### Remember to reset the board!"
   ]
  },
  {
   "cell_type": "code",
   "execution_count": 140,
   "metadata": {},
   "outputs": [
    {
     "name": "stdout",
     "output_type": "stream",
     "text": [
      "rm -rf build\n",
      "cmake -S ./ -B ./build/ -D CMAKE_TOOLCHAIN_FILE=./riscv-gcc.cmake -DCHIP=bearly24\n",
      "-- The ASM compiler identification is GNU\n",
      "-- Found assembler: /tools/C/ee290-fa24-2/.conda-env/riscv-tools/bin/riscv64-unknown-elf-gcc\n",
      "-- The C compiler identification is GNU 13.2.0\n",
      "-- The CXX compiler identification is GNU 13.2.0\n",
      "-- Detecting C compiler ABI info\n",
      "-- Detecting C compiler ABI info - done\n",
      "-- Check for working C compiler: /tools/C/ee290-fa24-2/.conda-env/riscv-tools/bin/riscv64-unknown-elf-gcc - skipped\n",
      "-- Detecting C compile features\n",
      "-- Detecting C compile features - done\n",
      "-- Detecting CXX compiler ABI info\n",
      "-- Detecting CXX compiler ABI info - done\n",
      "-- Check for working CXX compiler: /tools/C/ee290-fa24-2/.conda-env/riscv-tools/bin/riscv64-unknown-elf-g++ - skipped\n",
      "-- Detecting CXX compile features\n",
      "-- Detecting CXX compile features - done\n",
      "-- Including HTIF to target\n",
      "-- Including CLINT to target\n",
      "-- ================ Glossy config ================\n",
      "--  Building for CHIP: \"bearly24\"\n",
      "--  Reading config from \"/tools/C/tedkim7/sp24-Baremetal-IDE/platform/bearly24/CMakeLists.txt\"\n",
      "--  Terminal Device: UART0\n",
      "--  Linker Script: /tools/C/tedkim7/sp24-Baremetal-IDE/platform/bearly24/bearly24.ld\n",
      "-- ===============================================\n",
      "-- Configuring done (4.8s)\n",
      "-- Generating done (1.9s)\n",
      "-- Build files have been written to: /tools/C/tedkim7/sp24-Baremetal-IDE/build\n",
      "cmake --build ./build/ --target shmoo_bench\n",
      "gmake[1]: Entering directory '/bwrcq/C/tedkim7/sp24-Baremetal-IDE/build'\n",
      "gmake[2]: Entering directory '/bwrcq/C/tedkim7/sp24-Baremetal-IDE/build'\n",
      "gmake[3]: Entering directory '/bwrcq/C/tedkim7/sp24-Baremetal-IDE/build'\n",
      "gmake[4]: Entering directory '/bwrcq/C/tedkim7/sp24-Baremetal-IDE/build'\n",
      "gmake[4]: Leaving directory '/bwrcq/C/tedkim7/sp24-Baremetal-IDE/build'\n",
      "gmake[4]: Entering directory '/bwrcq/C/tedkim7/sp24-Baremetal-IDE/build'\n",
      "[  2%] \u001b[32mBuilding C object driver/rocket-chip-blocks/uart/CMakeFiles/uart.dir/uart.c.obj\u001b[0m\n"
     ]
    },
    {
     "name": "stderr",
     "output_type": "stream",
     "text": [
      "/tools/C/tedkim7/sp24-Baremetal-IDE/driver/rocket-chip-blocks/uart/uart.c: In function 'uart_receive':\n",
      "/tools/C/tedkim7/sp24-Baremetal-IDE/driver/rocket-chip-blocks/uart/uart.c:35:78: warning: unused parameter 'timeout' [-Wunused-parameter]\n",
      "   35 | Status uart_receive(UART_Type *UARTx, uint8_t *data, uint16_t size, uint32_t timeout) {\n",
      "      |                                                                     ~~~~~~~~~^~~~~~~\n",
      "/tools/C/tedkim7/sp24-Baremetal-IDE/driver/rocket-chip-blocks/uart/uart.c: In function 'uart_transmit':\n",
      "/tools/C/tedkim7/sp24-Baremetal-IDE/driver/rocket-chip-blocks/uart/uart.c:50:85: warning: unused parameter 'timeout' [-Wunused-parameter]\n",
      "   50 | Status uart_transmit(UART_Type *UARTx, const uint8_t *data, uint16_t size, uint32_t timeout) {\n",
      "      |                                                                            ~~~~~~~~~^~~~~~~\n"
     ]
    },
    {
     "name": "stdout",
     "output_type": "stream",
     "text": [
      "[  5%] \u001b[32m\u001b[1mLinking C static library libuart.a\u001b[0m\n",
      "gmake[4]: Leaving directory '/bwrcq/C/tedkim7/sp24-Baremetal-IDE/build'\n",
      "[  5%] Built target uart\n",
      "gmake[4]: Entering directory '/bwrcq/C/tedkim7/sp24-Baremetal-IDE/build'\n",
      "gmake[4]: Leaving directory '/bwrcq/C/tedkim7/sp24-Baremetal-IDE/build'\n",
      "gmake[4]: Entering directory '/bwrcq/C/tedkim7/sp24-Baremetal-IDE/build'\n",
      "[  8%] \u001b[32mBuilding C object driver/intel/pll/CMakeFiles/intel-pll.dir/pll.c.obj\u001b[0m\n",
      "[ 11%] \u001b[32m\u001b[1mLinking C static library libintel-pll.a\u001b[0m\n",
      "gmake[4]: Leaving directory '/bwrcq/C/tedkim7/sp24-Baremetal-IDE/build'\n",
      "[ 11%] Built target intel-pll\n",
      "gmake[4]: Entering directory '/bwrcq/C/tedkim7/sp24-Baremetal-IDE/build'\n",
      "gmake[4]: Leaving directory '/bwrcq/C/tedkim7/sp24-Baremetal-IDE/build'\n",
      "gmake[4]: Entering directory '/bwrcq/C/tedkim7/sp24-Baremetal-IDE/build'\n",
      "[ 13%] \u001b[32mBuilding C object driver/rocket-chip/clint/CMakeFiles/clint.dir/clint.c.obj\u001b[0m\n",
      "[ 16%] \u001b[32m\u001b[1mLinking C static library libclint.a\u001b[0m\n",
      "gmake[4]: Leaving directory '/bwrcq/C/tedkim7/sp24-Baremetal-IDE/build'\n",
      "[ 16%] Built target clint\n",
      "gmake[4]: Entering directory '/bwrcq/C/tedkim7/sp24-Baremetal-IDE/build'\n",
      "gmake[4]: Leaving directory '/bwrcq/C/tedkim7/sp24-Baremetal-IDE/build'\n",
      "gmake[4]: Entering directory '/bwrcq/C/tedkim7/sp24-Baremetal-IDE/build'\n",
      "[ 19%] \u001b[32mBuilding C object driver/rocket-chip/rocketcore/CMakeFiles/rocketcore.dir/rocketcore.c.obj\u001b[0m\n",
      "[ 22%] \u001b[32m\u001b[1mLinking C static library librocketcore.a\u001b[0m\n",
      "gmake[4]: Leaving directory '/bwrcq/C/tedkim7/sp24-Baremetal-IDE/build'\n",
      "[ 22%] Built target rocketcore\n",
      "gmake[4]: Entering directory '/bwrcq/C/tedkim7/sp24-Baremetal-IDE/build'\n",
      "gmake[4]: Leaving directory '/bwrcq/C/tedkim7/sp24-Baremetal-IDE/build'\n",
      "gmake[4]: Entering directory '/bwrcq/C/tedkim7/sp24-Baremetal-IDE/build'\n",
      "[ 25%] \u001b[32mBuilding C object driver/rocket-chip-blocks/i2c/CMakeFiles/i2c.dir/i2c.c.obj\u001b[0m\n"
     ]
    },
    {
     "name": "stderr",
     "output_type": "stream",
     "text": [
      "/tools/C/tedkim7/sp24-Baremetal-IDE/driver/rocket-chip-blocks/i2c/i2c.c: In function 'i2c_init':\n",
      "/tools/C/tedkim7/sp24-Baremetal-IDE/driver/rocket-chip-blocks/i2c/i2c.c:13:45: warning: unused parameter 'I2C_init' [-Wunused-parameter]\n",
      "   13 | void i2c_init(I2C_Type *I2Cx, I2C_InitType *I2C_init) {\n",
      "      |                               ~~~~~~~~~~~~~~^~~~~~~~\n",
      "/tools/C/tedkim7/sp24-Baremetal-IDE/driver/rocket-chip-blocks/i2c/i2c.c: In function 'i2c_wait_for_flag':\n",
      "/tools/C/tedkim7/sp24-Baremetal-IDE/driver/rocket-chip-blocks/i2c/i2c.c:30:9: warning: implicit declaration of function 'CLINT_getTime' [-Wimplicit-function-declaration]\n",
      "   30 |     if (CLINT_getTime() > (timestart + timeout)) {\n",
      "      |         ^~~~~~~~~~~~~\n",
      "/tools/C/tedkim7/sp24-Baremetal-IDE/driver/rocket-chip-blocks/i2c/i2c.c:30:25: warning: comparison of integer expressions of different signedness: 'int' and 'uint32_t' {aka 'unsigned int'} [-Wsign-compare]\n",
      "   30 |     if (CLINT_getTime() > (timestart + timeout)) {\n",
      "      |                         ^\n",
      "/tools/C/tedkim7/sp24-Baremetal-IDE/driver/rocket-chip-blocks/i2c/i2c.c: In function 'i2c_master_receive':\n",
      "/tools/C/tedkim7/sp24-Baremetal-IDE/driver/rocket-chip-blocks/i2c/i2c.c:53:24: warning: implicit declaration of function 'clint_get_time' [-Wimplicit-function-declaration]\n",
      "   53 |   uint64_t timestart = clint_get_time();\n",
      "      |                        ^~~~~~~~~~~~~~\n",
      "/tools/C/tedkim7/sp24-Baremetal-IDE/driver/rocket-chip-blocks/i2c/i2c.c: In function 'i2c_wait_for_transaction':\n",
      "/tools/C/tedkim7/sp24-Baremetal-IDE/driver/rocket-chip-blocks/i2c/i2c.c:50:1: warning: control reaches end of non-void function [-Wreturn-type]\n",
      "   50 | }\n",
      "      | ^\n"
     ]
    },
    {
     "name": "stdout",
     "output_type": "stream",
     "text": [
      "[ 27%] \u001b[32m\u001b[1mLinking C static library libi2c.a\u001b[0m\n",
      "gmake[4]: Leaving directory '/bwrcq/C/tedkim7/sp24-Baremetal-IDE/build'\n",
      "[ 27%] Built target i2c\n",
      "gmake[4]: Entering directory '/bwrcq/C/tedkim7/sp24-Baremetal-IDE/build'\n",
      "gmake[4]: Leaving directory '/bwrcq/C/tedkim7/sp24-Baremetal-IDE/build'\n",
      "gmake[4]: Entering directory '/bwrcq/C/tedkim7/sp24-Baremetal-IDE/build'\n",
      "[ 30%] \u001b[32mBuilding C object driver/rocket-chip-blocks/spi/CMakeFiles/spi.dir/spi.c.obj\u001b[0m\n"
     ]
    },
    {
     "name": "stderr",
     "output_type": "stream",
     "text": [
      "/tools/C/tedkim7/sp24-Baremetal-IDE/driver/rocket-chip-blocks/spi/spi.c: In function 'spi_receive':\n",
      "/tools/C/tedkim7/sp24-Baremetal-IDE/driver/rocket-chip-blocks/spi/spi.c:56:75: warning: unused parameter 'timeout' [-Wunused-parameter]\n",
      "   56 | Status spi_receive(SPI_Type *SPIx, uint8_t *data, uint16_t size, uint64_t timeout) {\n",
      "      |                                                                  ~~~~~~~~~^~~~~~~\n",
      "/tools/C/tedkim7/sp24-Baremetal-IDE/driver/rocket-chip-blocks/spi/spi.c: In function 'spi_transmit':\n",
      "/tools/C/tedkim7/sp24-Baremetal-IDE/driver/rocket-chip-blocks/spi/spi.c:68:76: warning: unused parameter 'timeout' [-Wunused-parameter]\n",
      "   68 | Status spi_transmit(SPI_Type *SPIx, uint8_t *data, uint16_t size, uint64_t timeout) {\n",
      "      |                                                                   ~~~~~~~~~^~~~~~~\n",
      "/tools/C/tedkim7/sp24-Baremetal-IDE/driver/rocket-chip-blocks/spi/spi.c: In function 'spi_transmit_receive':\n",
      "/tools/C/tedkim7/sp24-Baremetal-IDE/driver/rocket-chip-blocks/spi/spi.c:80:105: warning: unused parameter 'timeout' [-Wunused-parameter]\n",
      "   80 | Status spi_transmit_receive(SPI_Type *SPIx, uint8_t *tx_data, uint8_t *rx_data, uint16_t size, uint64_t timeout) {\n",
      "      |                                                                                                ~~~~~~~~~^~~~~~~\n"
     ]
    },
    {
     "name": "stdout",
     "output_type": "stream",
     "text": [
      "[ 33%] \u001b[32m\u001b[1mLinking C static library libspi.a\u001b[0m\n",
      "gmake[4]: Leaving directory '/bwrcq/C/tedkim7/sp24-Baremetal-IDE/build'\n",
      "[ 33%] Built target spi\n",
      "gmake[4]: Entering directory '/bwrcq/C/tedkim7/sp24-Baremetal-IDE/build'\n",
      "gmake[4]: Leaving directory '/bwrcq/C/tedkim7/sp24-Baremetal-IDE/build'\n",
      "gmake[4]: Entering directory '/bwrcq/C/tedkim7/sp24-Baremetal-IDE/build'\n",
      "[ 36%] \u001b[32mBuilding C object platform/bearly24/CMakeFiles/chip-config.dir/chip.c.obj\u001b[0m\n",
      "[ 38%] \u001b[32mBuilding C object platform/bearly24/CMakeFiles/chip-config.dir/src/hal_dma.c.obj\u001b[0m\n"
     ]
    },
    {
     "name": "stderr",
     "output_type": "stream",
     "text": [
      "/tools/C/tedkim7/sp24-Baremetal-IDE/platform/bearly24/src/hal_dma.c: In function 'dma_init_memcpy':\n",
      "/tools/C/tedkim7/sp24-Baremetal-IDE/platform/bearly24/src/hal_dma.c:20:18: warning: assignment to 'volatile void *' from 'long unsigned int' makes pointer from integer without a cast [-Wint-conversion]\n",
      "   20 |   DMAX->SRC_ADDR = (uint64_t) src;\n",
      "      |                  ^\n",
      "/tools/C/tedkim7/sp24-Baremetal-IDE/platform/bearly24/src/hal_dma.c:21:19: warning: assignment to 'volatile void *' from 'long unsigned int' makes pointer from integer without a cast [-Wint-conversion]\n",
      "   21 |   DMAX->DEST_ADDR = (uint64_t) dst;\n",
      "      |                   ^\n",
      "/tools/C/tedkim7/sp24-Baremetal-IDE/platform/bearly24/src/hal_dma.c: In function 'dma_init_MAC':\n",
      "/tools/C/tedkim7/sp24-Baremetal-IDE/platform/bearly24/src/hal_dma.c:33:18: warning: assignment to 'volatile void *' from 'long unsigned int' makes pointer from integer without a cast [-Wint-conversion]\n",
      "   33 |   DMAX->SRC_ADDR = (uint64_t) src;\n",
      "      |                  ^\n"
     ]
    },
    {
     "name": "stdout",
     "output_type": "stream",
     "text": [
      "[ 41%] \u001b[32mBuilding C object platform/bearly24/CMakeFiles/chip-config.dir/src/hal_mmio.c.obj\u001b[0m\n",
      "[ 44%] \u001b[32m\u001b[1mLinking C static library libchip-config.a\u001b[0m\n",
      "gmake[4]: Leaving directory '/bwrcq/C/tedkim7/sp24-Baremetal-IDE/build'\n",
      "[ 44%] Built target chip-config\n",
      "gmake[4]: Entering directory '/bwrcq/C/tedkim7/sp24-Baremetal-IDE/build'\n",
      "gmake[4]: Leaving directory '/bwrcq/C/tedkim7/sp24-Baremetal-IDE/build'\n",
      "gmake[4]: Entering directory '/bwrcq/C/tedkim7/sp24-Baremetal-IDE/build'\n",
      "[ 47%] \u001b[32mBuilding ASM object glossy/CMakeFiles/glossy.dir/src/startup/crt0.S.obj\u001b[0m\n",
      "[ 50%] \u001b[32mBuilding ASM object glossy/CMakeFiles/glossy.dir/src/startup/init.S.obj\u001b[0m\n",
      "[ 52%] \u001b[32mBuilding C object glossy/CMakeFiles/glossy.dir/src/startup/secondary.c.obj\u001b[0m\n",
      "[ 55%] \u001b[32mBuilding ASM object glossy/CMakeFiles/glossy.dir/src/trap/trap.S.obj\u001b[0m\n",
      "[ 58%] \u001b[32mBuilding C object glossy/CMakeFiles/glossy.dir/src/trap/trap.c.obj\u001b[0m\n"
     ]
    },
    {
     "name": "stderr",
     "output_type": "stream",
     "text": [
      "/tools/C/tedkim7/sp24-Baremetal-IDE/glossy/src/trap/trap.c: In function 'trap_handler':\n",
      "/tools/C/tedkim7/sp24-Baremetal-IDE/glossy/src/trap/trap.c:73:92: warning: unused parameter 'm_tval' [-Wunused-parameter]\n",
      "   73 | __attribute__((weak)) uintptr_t trap_handler(uintptr_t m_epc, uintptr_t m_cause, uintptr_t m_tval, uintptr_t regs[32]) {\n",
      "      |                                                                                  ~~~~~~~~~~^~~~~~\n",
      "/tools/C/tedkim7/sp24-Baremetal-IDE/glossy/src/trap/trap.c:73:110: warning: unused parameter 'regs' [-Wunused-parameter]\n",
      "   73 | __attribute__((weak)) uintptr_t trap_handler(uintptr_t m_epc, uintptr_t m_cause, uintptr_t m_tval, uintptr_t regs[32]) {\n",
      "      |                                                                                                    ~~~~~~~~~~^~~~~~~~\n"
     ]
    },
    {
     "name": "stdout",
     "output_type": "stream",
     "text": [
      "[ 61%] \u001b[32mBuilding C object glossy/CMakeFiles/glossy.dir/src/sys/close.c.obj\u001b[0m\n"
     ]
    },
    {
     "name": "stderr",
     "output_type": "stream",
     "text": [
      "/tools/C/tedkim7/sp24-Baremetal-IDE/glossy/src/sys/close.c: In function '_close':\n",
      "/tools/C/tedkim7/sp24-Baremetal-IDE/glossy/src/sys/close.c:2:38: warning: unused parameter 'file' [-Wunused-parameter]\n",
      "    2 | __attribute__((weak)) int _close(int file) {\n",
      "      |                                  ~~~~^~~~\n"
     ]
    },
    {
     "name": "stdout",
     "output_type": "stream",
     "text": [
      "[ 63%] \u001b[32mBuilding C object glossy/CMakeFiles/glossy.dir/src/sys/exit.c.obj\u001b[0m\n"
     ]
    },
    {
     "name": "stderr",
     "output_type": "stream",
     "text": [
      "/tools/C/tedkim7/sp24-Baremetal-IDE/glossy/src/sys/exit.c: In function '_exit':\n",
      "/tools/C/tedkim7/sp24-Baremetal-IDE/glossy/src/sys/exit.c:4:48: warning: unused parameter 'code' [-Wunused-parameter]\n",
      "    4 | __attribute__((weak, noreturn)) void _exit(int code) {\n",
      "      |                                            ~~~~^~~~\n"
     ]
    },
    {
     "name": "stdout",
     "output_type": "stream",
     "text": [
      "[ 66%] \u001b[32mBuilding C object glossy/CMakeFiles/glossy.dir/src/sys/fstat.c.obj\u001b[0m\n"
     ]
    },
    {
     "name": "stderr",
     "output_type": "stream",
     "text": [
      "/tools/C/tedkim7/sp24-Baremetal-IDE/glossy/src/sys/fstat.c: In function '_fstat':\n",
      "/tools/C/tedkim7/sp24-Baremetal-IDE/glossy/src/sys/fstat.c:4:38: warning: unused parameter 'file' [-Wunused-parameter]\n",
      "    4 | __attribute__((weak)) int _fstat(int file, struct stat *st) {\n",
      "      |                                  ~~~~^~~~\n",
      "/tools/C/tedkim7/sp24-Baremetal-IDE/glossy/src/sys/fstat.c:4:57: warning: unused parameter 'st' [-Wunused-parameter]\n",
      "    4 | __attribute__((weak)) int _fstat(int file, struct stat *st) {\n",
      "      |                                            ~~~~~~~~~~~~~^~\n"
     ]
    },
    {
     "name": "stdout",
     "output_type": "stream",
     "text": [
      "[ 69%] \u001b[32mBuilding C object glossy/CMakeFiles/glossy.dir/src/sys/getpid.c.obj\u001b[0m\n",
      "[ 72%] \u001b[32mBuilding C object glossy/CMakeFiles/glossy.dir/src/sys/isatty.c.obj\u001b[0m\n",
      "[ 75%] \u001b[32mBuilding C object glossy/CMakeFiles/glossy.dir/src/sys/kill.c.obj\u001b[0m\n"
     ]
    },
    {
     "name": "stderr",
     "output_type": "stream",
     "text": [
      "/tools/C/tedkim7/sp24-Baremetal-IDE/glossy/src/sys/kill.c: In function '_kill':\n",
      "/tools/C/tedkim7/sp24-Baremetal-IDE/glossy/src/sys/kill.c:2:37: warning: unused parameter 'pid' [-Wunused-parameter]\n",
      "    2 | __attribute__((weak)) int _kill(int pid, int sig) {\n",
      "      |                                 ~~~~^~~\n",
      "/tools/C/tedkim7/sp24-Baremetal-IDE/glossy/src/sys/kill.c:2:46: warning: unused parameter 'sig' [-Wunused-parameter]\n",
      "    2 | __attribute__((weak)) int _kill(int pid, int sig) {\n",
      "      |                                          ~~~~^~~\n"
     ]
    },
    {
     "name": "stdout",
     "output_type": "stream",
     "text": [
      "[ 77%] \u001b[32mBuilding C object glossy/CMakeFiles/glossy.dir/src/sys/lseek.c.obj\u001b[0m\n"
     ]
    },
    {
     "name": "stderr",
     "output_type": "stream",
     "text": [
      "/tools/C/tedkim7/sp24-Baremetal-IDE/glossy/src/sys/lseek.c: In function '_lseek':\n",
      "/tools/C/tedkim7/sp24-Baremetal-IDE/glossy/src/sys/lseek.c:5:40: warning: unused parameter 'file' [-Wunused-parameter]\n",
      "    5 | __attribute__((weak)) off_t _lseek(int file, off_t ptr, int dir) {\n",
      "      |                                    ~~~~^~~~\n",
      "/tools/C/tedkim7/sp24-Baremetal-IDE/glossy/src/sys/lseek.c:5:52: warning: unused parameter 'ptr' [-Wunused-parameter]\n",
      "    5 | __attribute__((weak)) off_t _lseek(int file, off_t ptr, int dir) {\n",
      "      |                                              ~~~~~~^~~\n",
      "/tools/C/tedkim7/sp24-Baremetal-IDE/glossy/src/sys/lseek.c:5:61: warning: unused parameter 'dir' [-Wunused-parameter]\n",
      "    5 | __attribute__((weak)) off_t _lseek(int file, off_t ptr, int dir) {\n",
      "      |                                                         ~~~~^~~\n"
     ]
    },
    {
     "name": "stdout",
     "output_type": "stream",
     "text": [
      "[ 80%] \u001b[32mBuilding C object glossy/CMakeFiles/glossy.dir/src/sys/open.c.obj\u001b[0m\n"
     ]
    },
    {
     "name": "stderr",
     "output_type": "stream",
     "text": [
      "/tools/C/tedkim7/sp24-Baremetal-IDE/glossy/src/sys/open.c: In function '_open':\n",
      "/tools/C/tedkim7/sp24-Baremetal-IDE/glossy/src/sys/open.c:3:45: warning: unused parameter 'path' [-Wunused-parameter]\n",
      "    3 | __attribute__((weak)) int _open(const char *path, int flags, int mode) {\n",
      "      |                                 ~~~~~~~~~~~~^~~~\n",
      "/tools/C/tedkim7/sp24-Baremetal-IDE/glossy/src/sys/open.c:3:55: warning: unused parameter 'flags' [-Wunused-parameter]\n",
      "    3 | __attribute__((weak)) int _open(const char *path, int flags, int mode) {\n",
      "      |                                                   ~~~~^~~~~\n",
      "/tools/C/tedkim7/sp24-Baremetal-IDE/glossy/src/sys/open.c:3:66: warning: unused parameter 'mode' [-Wunused-parameter]\n",
      "    3 | __attribute__((weak)) int _open(const char *path, int flags, int mode) {\n",
      "      |                                                              ~~~~^~~~\n"
     ]
    },
    {
     "name": "stdout",
     "output_type": "stream",
     "text": [
      "[ 83%] \u001b[32mBuilding C object glossy/CMakeFiles/glossy.dir/src/sys/read.c.obj\u001b[0m\n"
     ]
    },
    {
     "name": "stderr",
     "output_type": "stream",
     "text": [
      "/tools/C/tedkim7/sp24-Baremetal-IDE/glossy/src/sys/read.c: In function '_read':\n",
      "/tools/C/tedkim7/sp24-Baremetal-IDE/glossy/src/sys/read.c:5:41: warning: unused parameter 'file' [-Wunused-parameter]\n",
      "    5 | __attribute__((weak)) ssize_t _read(int file, void *ptr, size_t len) {\n",
      "      |                                     ~~~~^~~~\n",
      "/tools/C/tedkim7/sp24-Baremetal-IDE/glossy/src/sys/read.c:5:53: warning: unused parameter 'ptr' [-Wunused-parameter]\n",
      "    5 | __attribute__((weak)) ssize_t _read(int file, void *ptr, size_t len) {\n",
      "      |                                               ~~~~~~^~~\n",
      "/tools/C/tedkim7/sp24-Baremetal-IDE/glossy/src/sys/read.c:5:65: warning: unused parameter 'len' [-Wunused-parameter]\n",
      "    5 | __attribute__((weak)) ssize_t _read(int file, void *ptr, size_t len) {\n",
      "      |                                                          ~~~~~~~^~~\n"
     ]
    },
    {
     "name": "stdout",
     "output_type": "stream",
     "text": [
      "[ 86%] \u001b[32mBuilding C object glossy/CMakeFiles/glossy.dir/src/sys/sbrk.c.obj\u001b[0m\n",
      "[ 88%] \u001b[32mBuilding C object glossy/CMakeFiles/glossy.dir/src/sys/time.c.obj\u001b[0m\n",
      "[ 91%] \u001b[32mBuilding C object glossy/CMakeFiles/glossy.dir/src/sys/write.c.obj\u001b[0m\n"
     ]
    },
    {
     "name": "stderr",
     "output_type": "stream",
     "text": [
      "/tools/C/tedkim7/sp24-Baremetal-IDE/glossy/src/sys/write.c: In function '_write':\n",
      "/tools/C/tedkim7/sp24-Baremetal-IDE/glossy/src/sys/write.c:8:42: warning: unused parameter 'fd' [-Wunused-parameter]\n",
      "    8 | __attribute__((weak)) ssize_t _write(int fd, const void *ptr, size_t len) {\n",
      "      |                                      ~~~~^~\n"
     ]
    },
    {
     "name": "stdout",
     "output_type": "stream",
     "text": [
      "[ 94%] \u001b[32m\u001b[1mLinking C static library libglossy.a\u001b[0m\n",
      "gmake[4]: Leaving directory '/bwrcq/C/tedkim7/sp24-Baremetal-IDE/build'\n",
      "[ 94%] Built target glossy\n",
      "gmake[4]: Entering directory '/bwrcq/C/tedkim7/sp24-Baremetal-IDE/build'\n",
      "gmake[4]: Leaving directory '/bwrcq/C/tedkim7/sp24-Baremetal-IDE/build'\n",
      "gmake[4]: Entering directory '/bwrcq/C/tedkim7/sp24-Baremetal-IDE/build'\n"
     ]
    },
    {
     "ename": "KeyboardInterrupt",
     "evalue": "",
     "output_type": "error",
     "traceback": [
      "\u001b[0;31m---------------------------------------------------------------------------\u001b[0m",
      "\u001b[0;31mKeyboardInterrupt\u001b[0m                         Traceback (most recent call last)",
      "Cell \u001b[0;32mIn[140], line 14\u001b[0m\n\u001b[1;32m      9\u001b[0m      f\u001b[38;5;241m.\u001b[39mwrite(\u001b[38;5;124mf\u001b[39m\u001b[38;5;124m'''\u001b[39m\u001b[38;5;124m#define MTIME_FREQ     \u001b[39m\u001b[38;5;132;01m{\u001b[39;00mcurrent_clock\u001b[38;5;132;01m}\u001b[39;00m\u001b[38;5;124m000000\u001b[39m\n\u001b[1;32m     10\u001b[0m \u001b[38;5;124m               #define SYS_CLK_FREQ   \u001b[39m\u001b[38;5;132;01m{\u001b[39;00mcurrent_clock\u001b[38;5;132;01m}\u001b[39;00m\u001b[38;5;124m000000\u001b[39m\n\u001b[1;32m     11\u001b[0m \u001b[38;5;124m               \u001b[39m\u001b[38;5;124m'''\u001b[39m)\n\u001b[1;32m     12\u001b[0m      f\u001b[38;5;241m.\u001b[39mwrite(\u001b[38;5;124m\"\u001b[39m\u001b[38;5;124m#endif\u001b[39m\u001b[38;5;124m\"\u001b[39m)\n\u001b[0;32m---> 14\u001b[0m \u001b[43msubprocess\u001b[49m\u001b[38;5;241;43m.\u001b[39;49m\u001b[43mrun\u001b[49m\u001b[43m(\u001b[49m\u001b[43m[\u001b[49m\u001b[38;5;124;43m\"\u001b[39;49m\u001b[38;5;124;43mmake\u001b[39;49m\u001b[38;5;124;43m\"\u001b[39;49m\u001b[43m,\u001b[49m\u001b[43m \u001b[49m\u001b[38;5;124;43m\"\u001b[39;49m\u001b[38;5;124;43mshmoo_bearly\u001b[39;49m\u001b[38;5;124;43m\"\u001b[39;49m\u001b[43m]\u001b[49m\u001b[43m,\u001b[49m\u001b[43m \u001b[49m\u001b[43mcwd\u001b[49m\u001b[38;5;241;43m=\u001b[39;49m\u001b[38;5;124;43m\"\u001b[39;49m\u001b[38;5;124;43m../../\u001b[39;49m\u001b[38;5;124;43m\"\u001b[39;49m\u001b[43m)\u001b[49m\n\u001b[1;32m     16\u001b[0m clk\u001b[38;5;241m.\u001b[39mwrite(\u001b[38;5;124mf\u001b[39m\u001b[38;5;124m\"\u001b[39m\u001b[38;5;124m:FREQ \u001b[39m\u001b[38;5;132;01m{\u001b[39;00mcurrent_clock\u001b[38;5;132;01m}\u001b[39;00m\u001b[38;5;124mMHz\u001b[39m\u001b[38;5;124m\"\u001b[39m)\n\u001b[1;32m     17\u001b[0m \u001b[38;5;28mprint\u001b[39m(\u001b[38;5;124mf\u001b[39m\u001b[38;5;124m\"\u001b[39m\u001b[38;5;124m**Clock set to: \u001b[39m\u001b[38;5;132;01m{\u001b[39;00mcurrent_clock\u001b[38;5;132;01m}\u001b[39;00m\u001b[38;5;124mMHz**\u001b[39m\u001b[38;5;124m\"\u001b[39m) \n",
      "File \u001b[0;32m/tools/C/tedkim7/sp24-Baremetal-IDE/shmoo_env/lib/python3.13/subprocess.py:556\u001b[0m, in \u001b[0;36mrun\u001b[0;34m(input, capture_output, timeout, check, *popenargs, **kwargs)\u001b[0m\n\u001b[1;32m    554\u001b[0m \u001b[38;5;28;01mwith\u001b[39;00m Popen(\u001b[38;5;241m*\u001b[39mpopenargs, \u001b[38;5;241m*\u001b[39m\u001b[38;5;241m*\u001b[39mkwargs) \u001b[38;5;28;01mas\u001b[39;00m process:\n\u001b[1;32m    555\u001b[0m     \u001b[38;5;28;01mtry\u001b[39;00m:\n\u001b[0;32m--> 556\u001b[0m         stdout, stderr \u001b[38;5;241m=\u001b[39m \u001b[43mprocess\u001b[49m\u001b[38;5;241;43m.\u001b[39;49m\u001b[43mcommunicate\u001b[49m\u001b[43m(\u001b[49m\u001b[38;5;28;43minput\u001b[39;49m\u001b[43m,\u001b[49m\u001b[43m \u001b[49m\u001b[43mtimeout\u001b[49m\u001b[38;5;241;43m=\u001b[39;49m\u001b[43mtimeout\u001b[49m\u001b[43m)\u001b[49m\n\u001b[1;32m    557\u001b[0m     \u001b[38;5;28;01mexcept\u001b[39;00m TimeoutExpired \u001b[38;5;28;01mas\u001b[39;00m exc:\n\u001b[1;32m    558\u001b[0m         process\u001b[38;5;241m.\u001b[39mkill()\n",
      "File \u001b[0;32m/tools/C/tedkim7/sp24-Baremetal-IDE/shmoo_env/lib/python3.13/subprocess.py:1211\u001b[0m, in \u001b[0;36mPopen.communicate\u001b[0;34m(self, input, timeout)\u001b[0m\n\u001b[1;32m   1209\u001b[0m         stderr \u001b[38;5;241m=\u001b[39m \u001b[38;5;28mself\u001b[39m\u001b[38;5;241m.\u001b[39mstderr\u001b[38;5;241m.\u001b[39mread()\n\u001b[1;32m   1210\u001b[0m         \u001b[38;5;28mself\u001b[39m\u001b[38;5;241m.\u001b[39mstderr\u001b[38;5;241m.\u001b[39mclose()\n\u001b[0;32m-> 1211\u001b[0m     \u001b[38;5;28;43mself\u001b[39;49m\u001b[38;5;241;43m.\u001b[39;49m\u001b[43mwait\u001b[49m\u001b[43m(\u001b[49m\u001b[43m)\u001b[49m\n\u001b[1;32m   1212\u001b[0m \u001b[38;5;28;01melse\u001b[39;00m:\n\u001b[1;32m   1213\u001b[0m     \u001b[38;5;28;01mif\u001b[39;00m timeout \u001b[38;5;129;01mis\u001b[39;00m \u001b[38;5;129;01mnot\u001b[39;00m \u001b[38;5;28;01mNone\u001b[39;00m:\n",
      "File \u001b[0;32m/tools/C/tedkim7/sp24-Baremetal-IDE/shmoo_env/lib/python3.13/subprocess.py:1274\u001b[0m, in \u001b[0;36mPopen.wait\u001b[0;34m(self, timeout)\u001b[0m\n\u001b[1;32m   1272\u001b[0m     endtime \u001b[38;5;241m=\u001b[39m _time() \u001b[38;5;241m+\u001b[39m timeout\n\u001b[1;32m   1273\u001b[0m \u001b[38;5;28;01mtry\u001b[39;00m:\n\u001b[0;32m-> 1274\u001b[0m     \u001b[38;5;28;01mreturn\u001b[39;00m \u001b[38;5;28;43mself\u001b[39;49m\u001b[38;5;241;43m.\u001b[39;49m\u001b[43m_wait\u001b[49m\u001b[43m(\u001b[49m\u001b[43mtimeout\u001b[49m\u001b[38;5;241;43m=\u001b[39;49m\u001b[43mtimeout\u001b[49m\u001b[43m)\u001b[49m\n\u001b[1;32m   1275\u001b[0m \u001b[38;5;28;01mexcept\u001b[39;00m \u001b[38;5;167;01mKeyboardInterrupt\u001b[39;00m:\n\u001b[1;32m   1276\u001b[0m     \u001b[38;5;66;03m# https://bugs.python.org/issue25942\u001b[39;00m\n\u001b[1;32m   1277\u001b[0m     \u001b[38;5;66;03m# The first keyboard interrupt waits briefly for the child to\u001b[39;00m\n\u001b[1;32m   1278\u001b[0m     \u001b[38;5;66;03m# exit under the common assumption that it also received the ^C\u001b[39;00m\n\u001b[1;32m   1279\u001b[0m     \u001b[38;5;66;03m# generated SIGINT and will exit rapidly.\u001b[39;00m\n\u001b[1;32m   1280\u001b[0m     \u001b[38;5;28;01mif\u001b[39;00m timeout \u001b[38;5;129;01mis\u001b[39;00m \u001b[38;5;129;01mnot\u001b[39;00m \u001b[38;5;28;01mNone\u001b[39;00m:\n",
      "File \u001b[0;32m/tools/C/tedkim7/sp24-Baremetal-IDE/shmoo_env/lib/python3.13/subprocess.py:2060\u001b[0m, in \u001b[0;36mPopen._wait\u001b[0;34m(self, timeout)\u001b[0m\n\u001b[1;32m   2058\u001b[0m \u001b[38;5;28;01mif\u001b[39;00m \u001b[38;5;28mself\u001b[39m\u001b[38;5;241m.\u001b[39mreturncode \u001b[38;5;129;01mis\u001b[39;00m \u001b[38;5;129;01mnot\u001b[39;00m \u001b[38;5;28;01mNone\u001b[39;00m:\n\u001b[1;32m   2059\u001b[0m     \u001b[38;5;28;01mbreak\u001b[39;00m  \u001b[38;5;66;03m# Another thread waited.\u001b[39;00m\n\u001b[0;32m-> 2060\u001b[0m (pid, sts) \u001b[38;5;241m=\u001b[39m \u001b[38;5;28;43mself\u001b[39;49m\u001b[38;5;241;43m.\u001b[39;49m\u001b[43m_try_wait\u001b[49m\u001b[43m(\u001b[49m\u001b[38;5;241;43m0\u001b[39;49m\u001b[43m)\u001b[49m\n\u001b[1;32m   2061\u001b[0m \u001b[38;5;66;03m# Check the pid and loop as waitpid has been known to\u001b[39;00m\n\u001b[1;32m   2062\u001b[0m \u001b[38;5;66;03m# return 0 even without WNOHANG in odd situations.\u001b[39;00m\n\u001b[1;32m   2063\u001b[0m \u001b[38;5;66;03m# http://bugs.python.org/issue14396.\u001b[39;00m\n\u001b[1;32m   2064\u001b[0m \u001b[38;5;28;01mif\u001b[39;00m pid \u001b[38;5;241m==\u001b[39m \u001b[38;5;28mself\u001b[39m\u001b[38;5;241m.\u001b[39mpid:\n",
      "File \u001b[0;32m/tools/C/tedkim7/sp24-Baremetal-IDE/shmoo_env/lib/python3.13/subprocess.py:2018\u001b[0m, in \u001b[0;36mPopen._try_wait\u001b[0;34m(self, wait_flags)\u001b[0m\n\u001b[1;32m   2016\u001b[0m \u001b[38;5;250m\u001b[39m\u001b[38;5;124;03m\"\"\"All callers to this function MUST hold self._waitpid_lock.\"\"\"\u001b[39;00m\n\u001b[1;32m   2017\u001b[0m \u001b[38;5;28;01mtry\u001b[39;00m:\n\u001b[0;32m-> 2018\u001b[0m     (pid, sts) \u001b[38;5;241m=\u001b[39m \u001b[43mos\u001b[49m\u001b[38;5;241;43m.\u001b[39;49m\u001b[43mwaitpid\u001b[49m\u001b[43m(\u001b[49m\u001b[38;5;28;43mself\u001b[39;49m\u001b[38;5;241;43m.\u001b[39;49m\u001b[43mpid\u001b[49m\u001b[43m,\u001b[49m\u001b[43m \u001b[49m\u001b[43mwait_flags\u001b[49m\u001b[43m)\u001b[49m\n\u001b[1;32m   2019\u001b[0m \u001b[38;5;28;01mexcept\u001b[39;00m \u001b[38;5;167;01mChildProcessError\u001b[39;00m:\n\u001b[1;32m   2020\u001b[0m     \u001b[38;5;66;03m# This happens if SIGCLD is set to be ignored or waiting\u001b[39;00m\n\u001b[1;32m   2021\u001b[0m     \u001b[38;5;66;03m# for child processes has otherwise been disabled for our\u001b[39;00m\n\u001b[1;32m   2022\u001b[0m     \u001b[38;5;66;03m# process.  This child is dead, we can't get the status.\u001b[39;00m\n\u001b[1;32m   2023\u001b[0m     pid \u001b[38;5;241m=\u001b[39m \u001b[38;5;28mself\u001b[39m\u001b[38;5;241m.\u001b[39mpid\n",
      "\u001b[0;31mKeyboardInterrupt\u001b[0m: "
     ]
    },
    {
     "name": "stdout",
     "output_type": "stream",
     "text": [
      "[ 97%] \u001b[32mBuilding C object CMakeFiles/shmoo_bench.dir/shmoo_bench/hello/src/main.c.obj\u001b[0m\n"
     ]
    },
    {
     "name": "stderr",
     "output_type": "stream",
     "text": [
      "/tools/C/tedkim7/sp24-Baremetal-IDE/shmoo_bench/hello/src/main.c: In function 'app_main':\n",
      "/tools/C/tedkim7/sp24-Baremetal-IDE/shmoo_bench/hello/src/main.c:71:13: warning: unused variable 'two' [-Wunused-variable]\n",
      "   71 |     uint8_t two = 1+1;\n",
      "      |             ^~~\n",
      "/tools/C/tedkim7/sp24-Baremetal-IDE/shmoo_bench/hello/src/main.c: In function 'main':\n",
      "/tools/C/tedkim7/sp24-Baremetal-IDE/shmoo_bench/hello/src/main.c:80:14: warning: unused parameter 'argc' [-Wunused-parameter]\n",
      "   80 | int main(int argc, char **argv) {\n",
      "      |          ~~~~^~~~\n",
      "/tools/C/tedkim7/sp24-Baremetal-IDE/shmoo_bench/hello/src/main.c:80:27: warning: unused parameter 'argv' [-Wunused-parameter]\n",
      "   80 | int main(int argc, char **argv) {\n",
      "      |                    ~~~~~~~^~~~\n"
     ]
    },
    {
     "name": "stdout",
     "output_type": "stream",
     "text": [
      "[100%] \u001b[32m\u001b[1mLinking C executable shmoo_bench.elf\u001b[0m\n"
     ]
    },
    {
     "name": "stderr",
     "output_type": "stream",
     "text": [
      "/bwrcq/C/ee290-fa24-2/.conda-env/riscv-tools/bin/../lib/gcc/riscv64-unknown-elf/13.2.0/../../../../riscv64-unknown-elf/bin/ld: warning: shmoo_bench.elf has a LOAD segment with RWX permissions\n"
     ]
    },
    {
     "name": "stdout",
     "output_type": "stream",
     "text": [
      "gmake[4]: Leaving directory '/bwrcq/C/tedkim7/sp24-Baremetal-IDE/build'\n",
      "[100%] Built target shmoo_bench\n",
      "gmake[3]: Leaving directory '/bwrcq/C/tedkim7/sp24-Baremetal-IDE/build'\n",
      "gmake[2]: Leaving directory '/bwrcq/C/tedkim7/sp24-Baremetal-IDE/build'\n",
      "gmake[1]: Leaving directory '/bwrcq/C/tedkim7/sp24-Baremetal-IDE/build'\n"
     ]
    }
   ],
   "source": [
    "while current_clock <= end_clock:\n",
    "     # remake to adjust with the frequency\n",
    "     subprocess.run([\"make\", \"clean\"], cwd=\"../../\")\n",
    "\n",
    "     with open(\"../../platform/bearly24/freq.h\", \"w\") as f:\n",
    "          f.write('''#ifndef __FREQ_H\n",
    "                    #define __FREQ_H\n",
    "                    ''')\n",
    "          f.write(f'''#define MTIME_FREQ     {current_clock}000000\n",
    "                    #define SYS_CLK_FREQ   {current_clock}000000\n",
    "                    ''')\n",
    "          f.write(\"#endif\")\n",
    "\n",
    "     subprocess.run([\"make\", \"shmoo_bearly\"], cwd=\"../../\")\n",
    "\n",
    "     clk.write(f\":FREQ {current_clock}MHz\")\n",
    "     print(f\"**Clock set to: {current_clock}MHz**\") \n",
    "\n",
    "\n",
    "     while current_voltage <= end_voltage: # Set the voltage   \n",
    "          psu.write(f\"VOLT {current_voltage}\")\n",
    "          psu.write(\"OUTP ON, (@2)\")\n",
    "\n",
    "          voltage = psu.query(\"VOLT?\") \n",
    "          print(f\"**Voltage set to: {voltage}V**\") \n",
    "\n",
    "          # test subprocess with simple hello\n",
    "          with subprocess.Popen([\"uart_tsi\", \"+tty=/dev/ttyUSB1\", \"+baudrate=921600\", \"../../build/shmoo_bench.elf\"]) as proc:\n",
    "               with serial.Serial('/dev/ttyUSB0', 115200) as ser:\n",
    "                    while (ser.inWaiting() == 0):\n",
    "                         ## measure the voltage + current\n",
    "                         measured_voltages.append(psu.query(\"MEAS:VOLT?\"))\n",
    "                         measured_currents.append(psu.query(\"MEAS:CURR?\"))\n",
    "                         # print(\"hi\")\n",
    "                    line = ser.readline()\n",
    "                    new_line = line.decode(\"utf-8\")\n",
    "\n",
    "                    with open('../../output.txt', 'a') as file:\n",
    "                         file.write(f\"Freq: {current_clock}MHz, Voltage: {current_voltage}V, Output: {new_line}\")\n",
    "                         proc.terminate()\n",
    "                         proc.wait()\n",
    "          print(\"Done: now reset during the sleep before next iteration\")\n",
    "          time.sleep(7)\n",
    "\n",
    "          current_voltage += step_size\n",
    "     current_voltage = start_voltage\n",
    "     current_clock += step_size_clock\n",
    "\n",
    "print(\"Finished\")\n",
    "\n",
    "psu.close()\n",
    "\n",
    "current_clock = start_clock\n",
    "current_voltage = start_voltage"
   ]
  },
  {
   "cell_type": "code",
   "execution_count": 136,
   "metadata": {},
   "outputs": [
    {
     "name": "stdout",
     "output_type": "stream",
     "text": [
      "['+5.48995000E-01\\n', '+5.48995000E-01\\n', '+5.48995000E-01\\n', '+5.48995000E-01\\n', '+5.99905000E-01\\n', '+5.99905000E-01\\n', '+5.99070000E-01\\n', '+5.99905000E-01\\n', '+5.49830000E-01\\n', '+5.48995000E-01\\n', '+5.48995000E-01\\n', '+5.48995000E-01\\n', '+5.99905000E-01\\n', '+5.99905000E-01\\n', '+5.99070000E-01\\n', '+5.99905000E-01\\n']\n",
      "['+4.61500000E-03\\n', '+6.12000000E-03\\n', '+6.11800000E-03\\n', '+6.52400000E-03\\n', '+6.37500000E-03\\n', '+6.37400000E-03\\n', '+6.37500000E-03\\n', '+6.82300000E-03\\n', '+4.19200000E-03\\n', '+7.68600000E-03\\n', '+7.68700000E-03\\n', '+8.53800000E-03\\n', '+8.13900000E-03\\n', '+8.13700000E-03\\n', '+8.13500000E-03\\n', '+9.02100000E-03\\n']\n"
     ]
    },
    {
     "data": {
      "text/plain": [
       "16"
      ]
     },
     "execution_count": 136,
     "metadata": {},
     "output_type": "execute_result"
    }
   ],
   "source": [
    "print(measured_voltages)\n",
    "print(measured_currents)"
   ]
  }
 ],
 "metadata": {
  "kernelspec": {
   "display_name": "Python 3",
   "language": "python",
   "name": "python3"
  },
  "language_info": {
   "codemirror_mode": {
    "name": "ipython",
    "version": 3
   },
   "file_extension": ".py",
   "mimetype": "text/x-python",
   "name": "python",
   "nbconvert_exporter": "python",
   "pygments_lexer": "ipython3",
   "version": "3.13.0"
  }
 },
 "nbformat": 4,
 "nbformat_minor": 2
}
